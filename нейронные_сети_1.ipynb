{
  "cells": [
    {
      "cell_type": "markdown",
      "metadata": {
        "id": "view-in-github",
        "colab_type": "text"
      },
      "source": [
        "<a href=\"https://colab.research.google.com/github/AV-BOLT/Stars_temp_prediction/blob/master/%D0%BD%D0%B5%D0%B9%D1%80%D0%BE%D0%BD%D0%BD%D1%8B%D0%B5_%D1%81%D0%B5%D1%82%D0%B8_1.ipynb\" target=\"_parent\"><img src=\"https://colab.research.google.com/assets/colab-badge.svg\" alt=\"Open In Colab\"/></a>"
      ]
    },
    {
      "cell_type": "markdown",
      "metadata": {
        "id": "fFvQqQ8-PfPB"
      },
      "source": [
        "# Прогнозирование температуры звезды"
      ]
    },
    {
      "cell_type": "markdown",
      "metadata": {
        "id": "-ECx77jSPkKn"
      },
      "source": [
        "В рамках данного проекта нам предлагается решить задачу по предсказанию температуры на поверхности звезды,  по ее характеристикам:\n",
        "\n",
        "- Относительная светимость L/Lo — светимость звезды относительно Солнца.\n",
        "- Относительный радиус R/Ro — радиус звезды относительно радиуса Солнца.\n",
        "- Абсолютная звёздная величина Mv — физическая величина, характеризующая блеск звезды.\n",
        "- Звёздный цвет (white, red, blue, yellow, yellow-orange и др.) — цвет звезды, который определяют на основе спектрального анализа.\n",
        "Тип звезды.\n",
        "\n",
        "Целевой признак - Temperature (K).\n",
        "\n",
        "В нашем распоряжении датасет из 240 изученных звезд.\n",
        "\n",
        "**Основные шаги:**\n",
        "- загрузка данных\n",
        "- анализ и предобработка данных\n",
        "- построение baseline модели\n",
        "- улучшение модели (настройка гиперпараметров, обогащение данных и др.)\n",
        "- оценка итоговой модели.\n",
        "\n",
        "**Требования:**\n",
        "\n",
        "При решении данной задачи нам необходимо достичь\n",
        "\n",
        "- метрика rmse < 4500\n",
        "- проанализировать модели с разными параметрами dropout, batchsize.\n",
        "\n",
        "Для решения этой задачи мы построим нейронную сеть следующей архитектуры:\n",
        "\n",
        "В качестве baseline модели будем использовать нейронную сеть следующей архитектуры:\n",
        "\n",
        "|  Название параметра |кол-во|  \n",
        "|---------------|-|\n",
        "|Входной слой  (нейронов)|3|\n",
        "|Скрытые слои   |2|\n",
        "|Выходной слой  (нейронов)|1|\n",
        "|Инициация весов |xavier_uniform|\n",
        "|Инициация смещения |constant (0)|\n",
        "|Функция активации\n",
        "в выходном слое |nn.ReLU() |\n",
        "\n",
        "После получения результата baseline модели приступим к улучшению модели, которые можно разделить на 2 метода\n",
        "\n",
        "Подбор гиперпараметров\n",
        "\n",
        "- подбор dropout\n",
        "- подбор batchsize\n",
        "\n",
        "Обогащение данных\n",
        "\n",
        "- создание синтетического датасета\n",
        "- добавление шума к данным.\n"
      ]
    },
    {
      "cell_type": "markdown",
      "metadata": {
        "id": "U-JMnwGlDpxi"
      },
      "source": [
        "## Загрузка данных и библиотек"
      ]
    },
    {
      "cell_type": "code",
      "execution_count": null,
      "metadata": {
        "id": "zE9Uk2hFDDcP"
      },
      "outputs": [],
      "source": [
        "import pandas as pd\n",
        "import re\n",
        "import torch.nn as nn\n",
        "import torch\n",
        "import numpy as np\n",
        "import random\n",
        "import seaborn as sns\n",
        "import matplotlib.pyplot as plt\n",
        "\n",
        "from math import ceil\n",
        "from sklearn.preprocessing import StandardScaler\n",
        "from sklearn.model_selection import train_test_split\n",
        "from sklearn.compose import ColumnTransformer\n",
        "from sklearn.feature_extraction.text import CountVectorizer\n",
        "from sklearn.preprocessing import OneHotEncoder"
      ]
    },
    {
      "cell_type": "code",
      "execution_count": null,
      "metadata": {
        "id": "wVtJ2BJ2PDRT"
      },
      "outputs": [],
      "source": []
    },
    {
      "cell_type": "code",
      "execution_count": 98,
      "metadata": {
        "colab": {
          "base_uri": "https://localhost:8080/",
          "height": 224
        },
        "id": "45G1MEBsDGI5",
        "outputId": "a7a1c9bf-a42f-434a-ed07-e271e497995a"
      },
      "outputs": [
        {
          "output_type": "execute_result",
          "data": {
            "text/plain": [
              "   Unnamed: 0  Temperature (K)  Luminosity(L/Lo)  Radius(R/Ro)  \\\n",
              "0           0             3068          0.002400        0.1700   \n",
              "1           1             3042          0.000500        0.1542   \n",
              "2           2             2600          0.000300        0.1020   \n",
              "3           3             2800          0.000200        0.1600   \n",
              "4           4             1939          0.000138        0.1030   \n",
              "\n",
              "   Absolute magnitude(Mv)  Star type Star color  \n",
              "0                   16.12          0        Red  \n",
              "1                   16.60          0        Red  \n",
              "2                   18.70          0        Red  \n",
              "3                   16.65          0        Red  \n",
              "4                   20.06          0        Red  "
            ],
            "text/html": [
              "\n",
              "  <div id=\"df-c2b239f5-563e-44cf-aded-0190faeaa263\" class=\"colab-df-container\">\n",
              "    <div>\n",
              "<style scoped>\n",
              "    .dataframe tbody tr th:only-of-type {\n",
              "        vertical-align: middle;\n",
              "    }\n",
              "\n",
              "    .dataframe tbody tr th {\n",
              "        vertical-align: top;\n",
              "    }\n",
              "\n",
              "    .dataframe thead th {\n",
              "        text-align: right;\n",
              "    }\n",
              "</style>\n",
              "<table border=\"1\" class=\"dataframe\">\n",
              "  <thead>\n",
              "    <tr style=\"text-align: right;\">\n",
              "      <th></th>\n",
              "      <th>Unnamed: 0</th>\n",
              "      <th>Temperature (K)</th>\n",
              "      <th>Luminosity(L/Lo)</th>\n",
              "      <th>Radius(R/Ro)</th>\n",
              "      <th>Absolute magnitude(Mv)</th>\n",
              "      <th>Star type</th>\n",
              "      <th>Star color</th>\n",
              "    </tr>\n",
              "  </thead>\n",
              "  <tbody>\n",
              "    <tr>\n",
              "      <th>0</th>\n",
              "      <td>0</td>\n",
              "      <td>3068</td>\n",
              "      <td>0.002400</td>\n",
              "      <td>0.1700</td>\n",
              "      <td>16.12</td>\n",
              "      <td>0</td>\n",
              "      <td>Red</td>\n",
              "    </tr>\n",
              "    <tr>\n",
              "      <th>1</th>\n",
              "      <td>1</td>\n",
              "      <td>3042</td>\n",
              "      <td>0.000500</td>\n",
              "      <td>0.1542</td>\n",
              "      <td>16.60</td>\n",
              "      <td>0</td>\n",
              "      <td>Red</td>\n",
              "    </tr>\n",
              "    <tr>\n",
              "      <th>2</th>\n",
              "      <td>2</td>\n",
              "      <td>2600</td>\n",
              "      <td>0.000300</td>\n",
              "      <td>0.1020</td>\n",
              "      <td>18.70</td>\n",
              "      <td>0</td>\n",
              "      <td>Red</td>\n",
              "    </tr>\n",
              "    <tr>\n",
              "      <th>3</th>\n",
              "      <td>3</td>\n",
              "      <td>2800</td>\n",
              "      <td>0.000200</td>\n",
              "      <td>0.1600</td>\n",
              "      <td>16.65</td>\n",
              "      <td>0</td>\n",
              "      <td>Red</td>\n",
              "    </tr>\n",
              "    <tr>\n",
              "      <th>4</th>\n",
              "      <td>4</td>\n",
              "      <td>1939</td>\n",
              "      <td>0.000138</td>\n",
              "      <td>0.1030</td>\n",
              "      <td>20.06</td>\n",
              "      <td>0</td>\n",
              "      <td>Red</td>\n",
              "    </tr>\n",
              "  </tbody>\n",
              "</table>\n",
              "</div>\n",
              "    <div class=\"colab-df-buttons\">\n",
              "\n",
              "  <div class=\"colab-df-container\">\n",
              "    <button class=\"colab-df-convert\" onclick=\"convertToInteractive('df-c2b239f5-563e-44cf-aded-0190faeaa263')\"\n",
              "            title=\"Convert this dataframe to an interactive table.\"\n",
              "            style=\"display:none;\">\n",
              "\n",
              "  <svg xmlns=\"http://www.w3.org/2000/svg\" height=\"24px\" viewBox=\"0 -960 960 960\">\n",
              "    <path d=\"M120-120v-720h720v720H120Zm60-500h600v-160H180v160Zm220 220h160v-160H400v160Zm0 220h160v-160H400v160ZM180-400h160v-160H180v160Zm440 0h160v-160H620v160ZM180-180h160v-160H180v160Zm440 0h160v-160H620v160Z\"/>\n",
              "  </svg>\n",
              "    </button>\n",
              "\n",
              "  <style>\n",
              "    .colab-df-container {\n",
              "      display:flex;\n",
              "      gap: 12px;\n",
              "    }\n",
              "\n",
              "    .colab-df-convert {\n",
              "      background-color: #E8F0FE;\n",
              "      border: none;\n",
              "      border-radius: 50%;\n",
              "      cursor: pointer;\n",
              "      display: none;\n",
              "      fill: #1967D2;\n",
              "      height: 32px;\n",
              "      padding: 0 0 0 0;\n",
              "      width: 32px;\n",
              "    }\n",
              "\n",
              "    .colab-df-convert:hover {\n",
              "      background-color: #E2EBFA;\n",
              "      box-shadow: 0px 1px 2px rgba(60, 64, 67, 0.3), 0px 1px 3px 1px rgba(60, 64, 67, 0.15);\n",
              "      fill: #174EA6;\n",
              "    }\n",
              "\n",
              "    .colab-df-buttons div {\n",
              "      margin-bottom: 4px;\n",
              "    }\n",
              "\n",
              "    [theme=dark] .colab-df-convert {\n",
              "      background-color: #3B4455;\n",
              "      fill: #D2E3FC;\n",
              "    }\n",
              "\n",
              "    [theme=dark] .colab-df-convert:hover {\n",
              "      background-color: #434B5C;\n",
              "      box-shadow: 0px 1px 3px 1px rgba(0, 0, 0, 0.15);\n",
              "      filter: drop-shadow(0px 1px 2px rgba(0, 0, 0, 0.3));\n",
              "      fill: #FFFFFF;\n",
              "    }\n",
              "  </style>\n",
              "\n",
              "    <script>\n",
              "      const buttonEl =\n",
              "        document.querySelector('#df-c2b239f5-563e-44cf-aded-0190faeaa263 button.colab-df-convert');\n",
              "      buttonEl.style.display =\n",
              "        google.colab.kernel.accessAllowed ? 'block' : 'none';\n",
              "\n",
              "      async function convertToInteractive(key) {\n",
              "        const element = document.querySelector('#df-c2b239f5-563e-44cf-aded-0190faeaa263');\n",
              "        const dataTable =\n",
              "          await google.colab.kernel.invokeFunction('convertToInteractive',\n",
              "                                                    [key], {});\n",
              "        if (!dataTable) return;\n",
              "\n",
              "        const docLinkHtml = 'Like what you see? Visit the ' +\n",
              "          '<a target=\"_blank\" href=https://colab.research.google.com/notebooks/data_table.ipynb>data table notebook</a>'\n",
              "          + ' to learn more about interactive tables.';\n",
              "        element.innerHTML = '';\n",
              "        dataTable['output_type'] = 'display_data';\n",
              "        await google.colab.output.renderOutput(dataTable, element);\n",
              "        const docLink = document.createElement('div');\n",
              "        docLink.innerHTML = docLinkHtml;\n",
              "        element.appendChild(docLink);\n",
              "      }\n",
              "    </script>\n",
              "  </div>\n",
              "\n",
              "\n",
              "<div id=\"df-677830a9-385d-4968-b5f0-6a890d07f873\">\n",
              "  <button class=\"colab-df-quickchart\" onclick=\"quickchart('df-677830a9-385d-4968-b5f0-6a890d07f873')\"\n",
              "            title=\"Suggest charts.\"\n",
              "            style=\"display:none;\">\n",
              "\n",
              "<svg xmlns=\"http://www.w3.org/2000/svg\" height=\"24px\"viewBox=\"0 0 24 24\"\n",
              "     width=\"24px\">\n",
              "    <g>\n",
              "        <path d=\"M19 3H5c-1.1 0-2 .9-2 2v14c0 1.1.9 2 2 2h14c1.1 0 2-.9 2-2V5c0-1.1-.9-2-2-2zM9 17H7v-7h2v7zm4 0h-2V7h2v10zm4 0h-2v-4h2v4z\"/>\n",
              "    </g>\n",
              "</svg>\n",
              "  </button>\n",
              "\n",
              "<style>\n",
              "  .colab-df-quickchart {\n",
              "      --bg-color: #E8F0FE;\n",
              "      --fill-color: #1967D2;\n",
              "      --hover-bg-color: #E2EBFA;\n",
              "      --hover-fill-color: #174EA6;\n",
              "      --disabled-fill-color: #AAA;\n",
              "      --disabled-bg-color: #DDD;\n",
              "  }\n",
              "\n",
              "  [theme=dark] .colab-df-quickchart {\n",
              "      --bg-color: #3B4455;\n",
              "      --fill-color: #D2E3FC;\n",
              "      --hover-bg-color: #434B5C;\n",
              "      --hover-fill-color: #FFFFFF;\n",
              "      --disabled-bg-color: #3B4455;\n",
              "      --disabled-fill-color: #666;\n",
              "  }\n",
              "\n",
              "  .colab-df-quickchart {\n",
              "    background-color: var(--bg-color);\n",
              "    border: none;\n",
              "    border-radius: 50%;\n",
              "    cursor: pointer;\n",
              "    display: none;\n",
              "    fill: var(--fill-color);\n",
              "    height: 32px;\n",
              "    padding: 0;\n",
              "    width: 32px;\n",
              "  }\n",
              "\n",
              "  .colab-df-quickchart:hover {\n",
              "    background-color: var(--hover-bg-color);\n",
              "    box-shadow: 0 1px 2px rgba(60, 64, 67, 0.3), 0 1px 3px 1px rgba(60, 64, 67, 0.15);\n",
              "    fill: var(--button-hover-fill-color);\n",
              "  }\n",
              "\n",
              "  .colab-df-quickchart-complete:disabled,\n",
              "  .colab-df-quickchart-complete:disabled:hover {\n",
              "    background-color: var(--disabled-bg-color);\n",
              "    fill: var(--disabled-fill-color);\n",
              "    box-shadow: none;\n",
              "  }\n",
              "\n",
              "  .colab-df-spinner {\n",
              "    border: 2px solid var(--fill-color);\n",
              "    border-color: transparent;\n",
              "    border-bottom-color: var(--fill-color);\n",
              "    animation:\n",
              "      spin 1s steps(1) infinite;\n",
              "  }\n",
              "\n",
              "  @keyframes spin {\n",
              "    0% {\n",
              "      border-color: transparent;\n",
              "      border-bottom-color: var(--fill-color);\n",
              "      border-left-color: var(--fill-color);\n",
              "    }\n",
              "    20% {\n",
              "      border-color: transparent;\n",
              "      border-left-color: var(--fill-color);\n",
              "      border-top-color: var(--fill-color);\n",
              "    }\n",
              "    30% {\n",
              "      border-color: transparent;\n",
              "      border-left-color: var(--fill-color);\n",
              "      border-top-color: var(--fill-color);\n",
              "      border-right-color: var(--fill-color);\n",
              "    }\n",
              "    40% {\n",
              "      border-color: transparent;\n",
              "      border-right-color: var(--fill-color);\n",
              "      border-top-color: var(--fill-color);\n",
              "    }\n",
              "    60% {\n",
              "      border-color: transparent;\n",
              "      border-right-color: var(--fill-color);\n",
              "    }\n",
              "    80% {\n",
              "      border-color: transparent;\n",
              "      border-right-color: var(--fill-color);\n",
              "      border-bottom-color: var(--fill-color);\n",
              "    }\n",
              "    90% {\n",
              "      border-color: transparent;\n",
              "      border-bottom-color: var(--fill-color);\n",
              "    }\n",
              "  }\n",
              "</style>\n",
              "\n",
              "  <script>\n",
              "    async function quickchart(key) {\n",
              "      const quickchartButtonEl =\n",
              "        document.querySelector('#' + key + ' button');\n",
              "      quickchartButtonEl.disabled = true;  // To prevent multiple clicks.\n",
              "      quickchartButtonEl.classList.add('colab-df-spinner');\n",
              "      try {\n",
              "        const charts = await google.colab.kernel.invokeFunction(\n",
              "            'suggestCharts', [key], {});\n",
              "      } catch (error) {\n",
              "        console.error('Error during call to suggestCharts:', error);\n",
              "      }\n",
              "      quickchartButtonEl.classList.remove('colab-df-spinner');\n",
              "      quickchartButtonEl.classList.add('colab-df-quickchart-complete');\n",
              "    }\n",
              "    (() => {\n",
              "      let quickchartButtonEl =\n",
              "        document.querySelector('#df-677830a9-385d-4968-b5f0-6a890d07f873 button');\n",
              "      quickchartButtonEl.style.display =\n",
              "        google.colab.kernel.accessAllowed ? 'block' : 'none';\n",
              "    })();\n",
              "  </script>\n",
              "</div>\n",
              "    </div>\n",
              "  </div>\n"
            ]
          },
          "metadata": {},
          "execution_count": 98
        }
      ],
      "source": [
        "data = pd.read_csv('/content/drive/MyDrive/Projects_YP/нейронные сети 1 проект/6_class.csv')\n",
        "data.head()"
      ]
    },
    {
      "cell_type": "code",
      "execution_count": null,
      "metadata": {
        "colab": {
          "base_uri": "https://localhost:8080/"
        },
        "id": "0kifZshaet_M",
        "outputId": "5284a744-243e-446c-c90b-e1a4bc082b65"
      },
      "outputs": [
        {
          "output_type": "execute_result",
          "data": {
            "text/plain": [
              "Index(['Unnamed: 0', 'Temperature (K)', 'Luminosity(L/Lo)', 'Radius(R/Ro)',\n",
              "       'Absolute magnitude(Mv)', 'Star type', 'Star color'],\n",
              "      dtype='object')"
            ]
          },
          "metadata": {},
          "execution_count": 8
        }
      ],
      "source": [
        "data.columns"
      ]
    },
    {
      "cell_type": "markdown",
      "metadata": {
        "id": "y2rBs20DY5QI"
      },
      "source": [
        "Названия признаков включают заглавные буквы и различные символы, привидем их к змеиному регистру."
      ]
    },
    {
      "cell_type": "code",
      "execution_count": null,
      "metadata": {
        "colab": {
          "base_uri": "https://localhost:8080/"
        },
        "id": "veBGlqleRbAb",
        "outputId": "5128e250-d54d-4395-eedd-4ba5c75c921a"
      },
      "outputs": [
        {
          "output_type": "execute_result",
          "data": {
            "text/plain": [
              "Index(['Temperature (K)', 'Luminosity(L/Lo)', 'Radius(R/Ro)',\n",
              "       'Absolute magnitude(Mv)', 'Star type', 'Star color'],\n",
              "      dtype='object')"
            ]
          },
          "metadata": {},
          "execution_count": 9
        }
      ],
      "source": [
        "data = data.drop('Unnamed: 0', axis = 1)\n",
        "data.columns"
      ]
    },
    {
      "cell_type": "code",
      "execution_count": null,
      "metadata": {
        "id": "dtRfHWeg5eQg"
      },
      "outputs": [],
      "source": [
        "# переименуем признаки\n",
        "data.columns = ['temperature',\n",
        "                'luminosity',\n",
        "                'radius',\n",
        "                'magnitude',\n",
        "                'star_type',\n",
        "                'star_color']"
      ]
    },
    {
      "cell_type": "markdown",
      "metadata": {
        "id": "-WYdgJpFZHwg"
      },
      "source": [
        "Зададим константы для воспроизводимости результатов"
      ]
    },
    {
      "cell_type": "code",
      "execution_count": null,
      "metadata": {
        "id": "03WQJNGreZCd"
      },
      "outputs": [],
      "source": [
        "RANDOM_STATE = 42"
      ]
    },
    {
      "cell_type": "code",
      "execution_count": null,
      "metadata": {
        "colab": {
          "base_uri": "https://localhost:8080/"
        },
        "id": "gFVKus-fdRd8",
        "outputId": "7454bcba-78e1-4f30-c673-a37a1de3c22d"
      },
      "outputs": [
        {
          "output_type": "execute_result",
          "data": {
            "text/plain": [
              "<torch._C.Generator at 0x7cb610d14a30>"
            ]
          },
          "metadata": {},
          "execution_count": 12
        }
      ],
      "source": [
        "torch.manual_seed(RANDOM_STATE)"
      ]
    },
    {
      "cell_type": "code",
      "execution_count": null,
      "metadata": {
        "id": "7Kq-nBnPqtFx"
      },
      "outputs": [],
      "source": [
        "np.random.seed(RANDOM_STATE)"
      ]
    },
    {
      "cell_type": "code",
      "execution_count": null,
      "metadata": {
        "colab": {
          "base_uri": "https://localhost:8080/"
        },
        "id": "AKqIiAiB5jxG",
        "outputId": "e04ae6eb-a2fc-4d72-f97b-b410a97bc516"
      },
      "outputs": [
        {
          "output_type": "execute_result",
          "data": {
            "text/plain": [
              "Index(['temperature', 'luminosity', 'radius', 'magnitude', 'star_type',\n",
              "       'star_color'],\n",
              "      dtype='object')"
            ]
          },
          "metadata": {},
          "execution_count": 14
        }
      ],
      "source": [
        "data.columns"
      ]
    },
    {
      "cell_type": "markdown",
      "metadata": {
        "id": "5Rw6sLvFFQlq"
      },
      "source": [
        "## Исследовательский анализ"
      ]
    },
    {
      "cell_type": "markdown",
      "metadata": {
        "id": "jZw8hd02FbJP"
      },
      "source": [
        "Проверим данные на типы данных и пропущенные значения."
      ]
    },
    {
      "cell_type": "code",
      "execution_count": null,
      "metadata": {
        "colab": {
          "base_uri": "https://localhost:8080/"
        },
        "id": "jg6X_UUZb1_y",
        "outputId": "d036bad0-ad3e-4d45-92ea-8194a8c098f3"
      },
      "outputs": [
        {
          "output_type": "execute_result",
          "data": {
            "text/plain": [
              "(240, 6)"
            ]
          },
          "metadata": {},
          "execution_count": 15
        }
      ],
      "source": [
        "data.shape"
      ]
    },
    {
      "cell_type": "code",
      "execution_count": null,
      "metadata": {
        "colab": {
          "base_uri": "https://localhost:8080/"
        },
        "id": "dQyimagjFPxN",
        "outputId": "7025da72-8e6c-4161-8f46-ecf14e91156c"
      },
      "outputs": [
        {
          "output_type": "stream",
          "name": "stdout",
          "text": [
            "<class 'pandas.core.frame.DataFrame'>\n",
            "RangeIndex: 240 entries, 0 to 239\n",
            "Data columns (total 6 columns):\n",
            " #   Column       Non-Null Count  Dtype  \n",
            "---  ------       --------------  -----  \n",
            " 0   temperature  240 non-null    int64  \n",
            " 1   luminosity   240 non-null    float64\n",
            " 2   radius       240 non-null    float64\n",
            " 3   magnitude    240 non-null    float64\n",
            " 4   star_type    240 non-null    int64  \n",
            " 5   star_color   240 non-null    object \n",
            "dtypes: float64(3), int64(2), object(1)\n",
            "memory usage: 11.4+ KB\n"
          ]
        }
      ],
      "source": [
        "data.info()"
      ]
    },
    {
      "cell_type": "markdown",
      "metadata": {
        "id": "zIRghRkSFkuS"
      },
      "source": [
        "В данных отсутствуют пропущенные значения.\n",
        "\n",
        "Присутствуют числовые и один признак категориальный.\n",
        "\n",
        "\n"
      ]
    },
    {
      "cell_type": "markdown",
      "metadata": {
        "id": "v8VL-iJ9Khla"
      },
      "source": [
        "### Анализ категориальных признаков"
      ]
    },
    {
      "cell_type": "code",
      "execution_count": null,
      "metadata": {
        "colab": {
          "base_uri": "https://localhost:8080/"
        },
        "id": "OQR8ZHNm6Xnx",
        "outputId": "ce639c25-64d0-4f96-bc6f-b70dcb6833e6"
      },
      "outputs": [
        {
          "output_type": "execute_result",
          "data": {
            "text/plain": [
              "['star_color']"
            ]
          },
          "metadata": {},
          "execution_count": 17
        }
      ],
      "source": [
        "categorical = data.select_dtypes(include = 'object').columns.to_list()\n",
        "categorical"
      ]
    },
    {
      "cell_type": "markdown",
      "metadata": {
        "id": "INRH6V4BKl5M"
      },
      "source": [
        "В признаке имеются неявные дубликаты.\n",
        "Необходимо:\n",
        "- привести к строчному регистру\n",
        "- заменить \"-\" на \"_\"\n",
        "- удалить пробелы"
      ]
    },
    {
      "cell_type": "code",
      "execution_count": null,
      "metadata": {
        "id": "_Gg1qtFKDQYK"
      },
      "outputs": [],
      "source": [
        "def transform_values(df):\n",
        "\n",
        "   #удаляем пробелы в конце строк\n",
        "    df = df.applymap(lambda x: x.rstrip())\n",
        "     # заменяем пробелы на underscore\n",
        "\n",
        "    df = df.applymap(lambda x: x.replace(' ', '_') if isinstance(x, str) else x)\n",
        "\n",
        "    # заменяем дефис на underscore\n",
        "    df = df.applymap(lambda x: x.replace('-', '_') if isinstance(x, str) else x)\n",
        "\n",
        "    # добавляем underscore между словом и числом\n",
        "    df = df.applymap(lambda x: '_'.join(part for part in x.split() if not part.isdigit()) if isinstance(x, str) else x)\n",
        "\n",
        "    # приводим к строчному регистру\n",
        "    df = df.applymap(lambda x: x.lower() if isinstance(x, str) else x)\n",
        "\n",
        "    return df"
      ]
    },
    {
      "cell_type": "code",
      "execution_count": null,
      "metadata": {
        "colab": {
          "base_uri": "https://localhost:8080/",
          "height": 424
        },
        "id": "r6sYrSoQKfQG",
        "outputId": "ef036040-698e-45fb-ea2d-d8e1c2004137"
      },
      "outputs": [
        {
          "output_type": "execute_result",
          "data": {
            "text/plain": [
              "    star_color\n",
              "0          red\n",
              "1          red\n",
              "2          red\n",
              "3          red\n",
              "4          red\n",
              "..         ...\n",
              "235       blue\n",
              "236       blue\n",
              "237      white\n",
              "238      white\n",
              "239       blue\n",
              "\n",
              "[240 rows x 1 columns]"
            ],
            "text/html": [
              "\n",
              "  <div id=\"df-48af7313-fe2f-4b53-9438-3753e2c77999\" class=\"colab-df-container\">\n",
              "    <div>\n",
              "<style scoped>\n",
              "    .dataframe tbody tr th:only-of-type {\n",
              "        vertical-align: middle;\n",
              "    }\n",
              "\n",
              "    .dataframe tbody tr th {\n",
              "        vertical-align: top;\n",
              "    }\n",
              "\n",
              "    .dataframe thead th {\n",
              "        text-align: right;\n",
              "    }\n",
              "</style>\n",
              "<table border=\"1\" class=\"dataframe\">\n",
              "  <thead>\n",
              "    <tr style=\"text-align: right;\">\n",
              "      <th></th>\n",
              "      <th>star_color</th>\n",
              "    </tr>\n",
              "  </thead>\n",
              "  <tbody>\n",
              "    <tr>\n",
              "      <th>0</th>\n",
              "      <td>red</td>\n",
              "    </tr>\n",
              "    <tr>\n",
              "      <th>1</th>\n",
              "      <td>red</td>\n",
              "    </tr>\n",
              "    <tr>\n",
              "      <th>2</th>\n",
              "      <td>red</td>\n",
              "    </tr>\n",
              "    <tr>\n",
              "      <th>3</th>\n",
              "      <td>red</td>\n",
              "    </tr>\n",
              "    <tr>\n",
              "      <th>4</th>\n",
              "      <td>red</td>\n",
              "    </tr>\n",
              "    <tr>\n",
              "      <th>...</th>\n",
              "      <td>...</td>\n",
              "    </tr>\n",
              "    <tr>\n",
              "      <th>235</th>\n",
              "      <td>blue</td>\n",
              "    </tr>\n",
              "    <tr>\n",
              "      <th>236</th>\n",
              "      <td>blue</td>\n",
              "    </tr>\n",
              "    <tr>\n",
              "      <th>237</th>\n",
              "      <td>white</td>\n",
              "    </tr>\n",
              "    <tr>\n",
              "      <th>238</th>\n",
              "      <td>white</td>\n",
              "    </tr>\n",
              "    <tr>\n",
              "      <th>239</th>\n",
              "      <td>blue</td>\n",
              "    </tr>\n",
              "  </tbody>\n",
              "</table>\n",
              "<p>240 rows × 1 columns</p>\n",
              "</div>\n",
              "    <div class=\"colab-df-buttons\">\n",
              "\n",
              "  <div class=\"colab-df-container\">\n",
              "    <button class=\"colab-df-convert\" onclick=\"convertToInteractive('df-48af7313-fe2f-4b53-9438-3753e2c77999')\"\n",
              "            title=\"Convert this dataframe to an interactive table.\"\n",
              "            style=\"display:none;\">\n",
              "\n",
              "  <svg xmlns=\"http://www.w3.org/2000/svg\" height=\"24px\" viewBox=\"0 -960 960 960\">\n",
              "    <path d=\"M120-120v-720h720v720H120Zm60-500h600v-160H180v160Zm220 220h160v-160H400v160Zm0 220h160v-160H400v160ZM180-400h160v-160H180v160Zm440 0h160v-160H620v160ZM180-180h160v-160H180v160Zm440 0h160v-160H620v160Z\"/>\n",
              "  </svg>\n",
              "    </button>\n",
              "\n",
              "  <style>\n",
              "    .colab-df-container {\n",
              "      display:flex;\n",
              "      gap: 12px;\n",
              "    }\n",
              "\n",
              "    .colab-df-convert {\n",
              "      background-color: #E8F0FE;\n",
              "      border: none;\n",
              "      border-radius: 50%;\n",
              "      cursor: pointer;\n",
              "      display: none;\n",
              "      fill: #1967D2;\n",
              "      height: 32px;\n",
              "      padding: 0 0 0 0;\n",
              "      width: 32px;\n",
              "    }\n",
              "\n",
              "    .colab-df-convert:hover {\n",
              "      background-color: #E2EBFA;\n",
              "      box-shadow: 0px 1px 2px rgba(60, 64, 67, 0.3), 0px 1px 3px 1px rgba(60, 64, 67, 0.15);\n",
              "      fill: #174EA6;\n",
              "    }\n",
              "\n",
              "    .colab-df-buttons div {\n",
              "      margin-bottom: 4px;\n",
              "    }\n",
              "\n",
              "    [theme=dark] .colab-df-convert {\n",
              "      background-color: #3B4455;\n",
              "      fill: #D2E3FC;\n",
              "    }\n",
              "\n",
              "    [theme=dark] .colab-df-convert:hover {\n",
              "      background-color: #434B5C;\n",
              "      box-shadow: 0px 1px 3px 1px rgba(0, 0, 0, 0.15);\n",
              "      filter: drop-shadow(0px 1px 2px rgba(0, 0, 0, 0.3));\n",
              "      fill: #FFFFFF;\n",
              "    }\n",
              "  </style>\n",
              "\n",
              "    <script>\n",
              "      const buttonEl =\n",
              "        document.querySelector('#df-48af7313-fe2f-4b53-9438-3753e2c77999 button.colab-df-convert');\n",
              "      buttonEl.style.display =\n",
              "        google.colab.kernel.accessAllowed ? 'block' : 'none';\n",
              "\n",
              "      async function convertToInteractive(key) {\n",
              "        const element = document.querySelector('#df-48af7313-fe2f-4b53-9438-3753e2c77999');\n",
              "        const dataTable =\n",
              "          await google.colab.kernel.invokeFunction('convertToInteractive',\n",
              "                                                    [key], {});\n",
              "        if (!dataTable) return;\n",
              "\n",
              "        const docLinkHtml = 'Like what you see? Visit the ' +\n",
              "          '<a target=\"_blank\" href=https://colab.research.google.com/notebooks/data_table.ipynb>data table notebook</a>'\n",
              "          + ' to learn more about interactive tables.';\n",
              "        element.innerHTML = '';\n",
              "        dataTable['output_type'] = 'display_data';\n",
              "        await google.colab.output.renderOutput(dataTable, element);\n",
              "        const docLink = document.createElement('div');\n",
              "        docLink.innerHTML = docLinkHtml;\n",
              "        element.appendChild(docLink);\n",
              "      }\n",
              "    </script>\n",
              "  </div>\n",
              "\n",
              "\n",
              "<div id=\"df-dda421eb-8156-4723-a6fa-3e6eda6f60c9\">\n",
              "  <button class=\"colab-df-quickchart\" onclick=\"quickchart('df-dda421eb-8156-4723-a6fa-3e6eda6f60c9')\"\n",
              "            title=\"Suggest charts.\"\n",
              "            style=\"display:none;\">\n",
              "\n",
              "<svg xmlns=\"http://www.w3.org/2000/svg\" height=\"24px\"viewBox=\"0 0 24 24\"\n",
              "     width=\"24px\">\n",
              "    <g>\n",
              "        <path d=\"M19 3H5c-1.1 0-2 .9-2 2v14c0 1.1.9 2 2 2h14c1.1 0 2-.9 2-2V5c0-1.1-.9-2-2-2zM9 17H7v-7h2v7zm4 0h-2V7h2v10zm4 0h-2v-4h2v4z\"/>\n",
              "    </g>\n",
              "</svg>\n",
              "  </button>\n",
              "\n",
              "<style>\n",
              "  .colab-df-quickchart {\n",
              "      --bg-color: #E8F0FE;\n",
              "      --fill-color: #1967D2;\n",
              "      --hover-bg-color: #E2EBFA;\n",
              "      --hover-fill-color: #174EA6;\n",
              "      --disabled-fill-color: #AAA;\n",
              "      --disabled-bg-color: #DDD;\n",
              "  }\n",
              "\n",
              "  [theme=dark] .colab-df-quickchart {\n",
              "      --bg-color: #3B4455;\n",
              "      --fill-color: #D2E3FC;\n",
              "      --hover-bg-color: #434B5C;\n",
              "      --hover-fill-color: #FFFFFF;\n",
              "      --disabled-bg-color: #3B4455;\n",
              "      --disabled-fill-color: #666;\n",
              "  }\n",
              "\n",
              "  .colab-df-quickchart {\n",
              "    background-color: var(--bg-color);\n",
              "    border: none;\n",
              "    border-radius: 50%;\n",
              "    cursor: pointer;\n",
              "    display: none;\n",
              "    fill: var(--fill-color);\n",
              "    height: 32px;\n",
              "    padding: 0;\n",
              "    width: 32px;\n",
              "  }\n",
              "\n",
              "  .colab-df-quickchart:hover {\n",
              "    background-color: var(--hover-bg-color);\n",
              "    box-shadow: 0 1px 2px rgba(60, 64, 67, 0.3), 0 1px 3px 1px rgba(60, 64, 67, 0.15);\n",
              "    fill: var(--button-hover-fill-color);\n",
              "  }\n",
              "\n",
              "  .colab-df-quickchart-complete:disabled,\n",
              "  .colab-df-quickchart-complete:disabled:hover {\n",
              "    background-color: var(--disabled-bg-color);\n",
              "    fill: var(--disabled-fill-color);\n",
              "    box-shadow: none;\n",
              "  }\n",
              "\n",
              "  .colab-df-spinner {\n",
              "    border: 2px solid var(--fill-color);\n",
              "    border-color: transparent;\n",
              "    border-bottom-color: var(--fill-color);\n",
              "    animation:\n",
              "      spin 1s steps(1) infinite;\n",
              "  }\n",
              "\n",
              "  @keyframes spin {\n",
              "    0% {\n",
              "      border-color: transparent;\n",
              "      border-bottom-color: var(--fill-color);\n",
              "      border-left-color: var(--fill-color);\n",
              "    }\n",
              "    20% {\n",
              "      border-color: transparent;\n",
              "      border-left-color: var(--fill-color);\n",
              "      border-top-color: var(--fill-color);\n",
              "    }\n",
              "    30% {\n",
              "      border-color: transparent;\n",
              "      border-left-color: var(--fill-color);\n",
              "      border-top-color: var(--fill-color);\n",
              "      border-right-color: var(--fill-color);\n",
              "    }\n",
              "    40% {\n",
              "      border-color: transparent;\n",
              "      border-right-color: var(--fill-color);\n",
              "      border-top-color: var(--fill-color);\n",
              "    }\n",
              "    60% {\n",
              "      border-color: transparent;\n",
              "      border-right-color: var(--fill-color);\n",
              "    }\n",
              "    80% {\n",
              "      border-color: transparent;\n",
              "      border-right-color: var(--fill-color);\n",
              "      border-bottom-color: var(--fill-color);\n",
              "    }\n",
              "    90% {\n",
              "      border-color: transparent;\n",
              "      border-bottom-color: var(--fill-color);\n",
              "    }\n",
              "  }\n",
              "</style>\n",
              "\n",
              "  <script>\n",
              "    async function quickchart(key) {\n",
              "      const quickchartButtonEl =\n",
              "        document.querySelector('#' + key + ' button');\n",
              "      quickchartButtonEl.disabled = true;  // To prevent multiple clicks.\n",
              "      quickchartButtonEl.classList.add('colab-df-spinner');\n",
              "      try {\n",
              "        const charts = await google.colab.kernel.invokeFunction(\n",
              "            'suggestCharts', [key], {});\n",
              "      } catch (error) {\n",
              "        console.error('Error during call to suggestCharts:', error);\n",
              "      }\n",
              "      quickchartButtonEl.classList.remove('colab-df-spinner');\n",
              "      quickchartButtonEl.classList.add('colab-df-quickchart-complete');\n",
              "    }\n",
              "    (() => {\n",
              "      let quickchartButtonEl =\n",
              "        document.querySelector('#df-dda421eb-8156-4723-a6fa-3e6eda6f60c9 button');\n",
              "      quickchartButtonEl.style.display =\n",
              "        google.colab.kernel.accessAllowed ? 'block' : 'none';\n",
              "    })();\n",
              "  </script>\n",
              "</div>\n",
              "    </div>\n",
              "  </div>\n"
            ]
          },
          "metadata": {},
          "execution_count": 19
        }
      ],
      "source": [
        "data[categorical] = transform_values(data[categorical])\n",
        "data[categorical]"
      ]
    },
    {
      "cell_type": "code",
      "execution_count": null,
      "metadata": {
        "colab": {
          "base_uri": "https://localhost:8080/"
        },
        "id": "dSoL5GUkR46L",
        "outputId": "aa43a775-8cc8-4729-b78c-fe11515ec64e"
      },
      "outputs": [
        {
          "output_type": "execute_result",
          "data": {
            "text/plain": [
              "['blue',\n",
              " 'blue_white',\n",
              " 'orange',\n",
              " 'orange_red',\n",
              " 'pale_yellow_orange',\n",
              " 'red',\n",
              " 'white',\n",
              " 'white_yellow',\n",
              " 'whitish',\n",
              " 'yellow_white',\n",
              " 'yellowish',\n",
              " 'yellowish_white']"
            ]
          },
          "metadata": {},
          "execution_count": 20
        }
      ],
      "source": [
        "list(data['star_color'].sort_values().unique())"
      ]
    },
    {
      "cell_type": "markdown",
      "metadata": {
        "id": "XQW98j6wbJmZ"
      },
      "source": [
        "Дубликаты удалены."
      ]
    },
    {
      "cell_type": "code",
      "execution_count": null,
      "metadata": {
        "colab": {
          "base_uri": "https://localhost:8080/"
        },
        "id": "Xm3zG_j1Uhnw",
        "outputId": "720ad3cc-babd-4902-8637-207a896c2f09"
      },
      "outputs": [
        {
          "output_type": "execute_result",
          "data": {
            "text/plain": [
              "array(['red', 'blue_white', 'white', 'yellowish_white',\n",
              "       'pale_yellow_orange', 'blue', 'whitish', 'yellow_white', 'orange',\n",
              "       'white_yellow', 'yellowish', 'orange_red'], dtype=object)"
            ]
          },
          "metadata": {},
          "execution_count": 21
        }
      ],
      "source": [
        "data['star_color'].unique()"
      ]
    },
    {
      "cell_type": "code",
      "execution_count": null,
      "metadata": {
        "colab": {
          "base_uri": "https://localhost:8080/"
        },
        "id": "NLevGGV7R5Dj",
        "outputId": "95993878-c39b-4414-f325-36b4f97acbf6"
      },
      "outputs": [
        {
          "output_type": "execute_result",
          "data": {
            "text/plain": [
              "temperature      int64\n",
              "luminosity     float64\n",
              "radius         float64\n",
              "magnitude      float64\n",
              "star_type        int64\n",
              "star_color      object\n",
              "dtype: object"
            ]
          },
          "metadata": {},
          "execution_count": 22
        }
      ],
      "source": [
        "data.dtypes"
      ]
    },
    {
      "cell_type": "code",
      "execution_count": null,
      "metadata": {
        "colab": {
          "base_uri": "https://localhost:8080/",
          "height": 739
        },
        "id": "4Xnua66aPwKC",
        "outputId": "82758254-c78d-458e-e96b-1c47fe7be792"
      },
      "outputs": [
        {
          "output_type": "execute_result",
          "data": {
            "text/plain": [
              "                                     0\n",
              "star_type star_color                  \n",
              "0         red                 0.166667\n",
              "1         red                 0.166667\n",
              "4         blue                0.129167\n",
              "5         red                 0.095833\n",
              "3         blue_white          0.087500\n",
              "2         blue_white          0.058333\n",
              "          blue                0.054167\n",
              "4         red                 0.037500\n",
              "2         white               0.033333\n",
              "3         yellow_white        0.033333\n",
              "5         blue                0.029167\n",
              "          blue_white          0.025000\n",
              "3         blue                0.020833\n",
              "2         yellowish_white     0.012500\n",
              "3         yellowish           0.012500\n",
              "5         orange              0.008333\n",
              "          white               0.008333\n",
              "3         whitish             0.008333\n",
              "2         white_yellow        0.004167\n",
              "          pale_yellow_orange  0.004167\n",
              "3         orange_red          0.004167"
            ],
            "text/html": [
              "\n",
              "  <div id=\"df-46d4a763-c7b6-4c6c-a3fa-559457193919\" class=\"colab-df-container\">\n",
              "    <div>\n",
              "<style scoped>\n",
              "    .dataframe tbody tr th:only-of-type {\n",
              "        vertical-align: middle;\n",
              "    }\n",
              "\n",
              "    .dataframe tbody tr th {\n",
              "        vertical-align: top;\n",
              "    }\n",
              "\n",
              "    .dataframe thead th {\n",
              "        text-align: right;\n",
              "    }\n",
              "</style>\n",
              "<table border=\"1\" class=\"dataframe\">\n",
              "  <thead>\n",
              "    <tr style=\"text-align: right;\">\n",
              "      <th></th>\n",
              "      <th></th>\n",
              "      <th>0</th>\n",
              "    </tr>\n",
              "    <tr>\n",
              "      <th>star_type</th>\n",
              "      <th>star_color</th>\n",
              "      <th></th>\n",
              "    </tr>\n",
              "  </thead>\n",
              "  <tbody>\n",
              "    <tr>\n",
              "      <th>0</th>\n",
              "      <th>red</th>\n",
              "      <td>0.166667</td>\n",
              "    </tr>\n",
              "    <tr>\n",
              "      <th>1</th>\n",
              "      <th>red</th>\n",
              "      <td>0.166667</td>\n",
              "    </tr>\n",
              "    <tr>\n",
              "      <th>4</th>\n",
              "      <th>blue</th>\n",
              "      <td>0.129167</td>\n",
              "    </tr>\n",
              "    <tr>\n",
              "      <th>5</th>\n",
              "      <th>red</th>\n",
              "      <td>0.095833</td>\n",
              "    </tr>\n",
              "    <tr>\n",
              "      <th>3</th>\n",
              "      <th>blue_white</th>\n",
              "      <td>0.087500</td>\n",
              "    </tr>\n",
              "    <tr>\n",
              "      <th rowspan=\"2\" valign=\"top\">2</th>\n",
              "      <th>blue_white</th>\n",
              "      <td>0.058333</td>\n",
              "    </tr>\n",
              "    <tr>\n",
              "      <th>blue</th>\n",
              "      <td>0.054167</td>\n",
              "    </tr>\n",
              "    <tr>\n",
              "      <th>4</th>\n",
              "      <th>red</th>\n",
              "      <td>0.037500</td>\n",
              "    </tr>\n",
              "    <tr>\n",
              "      <th>2</th>\n",
              "      <th>white</th>\n",
              "      <td>0.033333</td>\n",
              "    </tr>\n",
              "    <tr>\n",
              "      <th>3</th>\n",
              "      <th>yellow_white</th>\n",
              "      <td>0.033333</td>\n",
              "    </tr>\n",
              "    <tr>\n",
              "      <th rowspan=\"2\" valign=\"top\">5</th>\n",
              "      <th>blue</th>\n",
              "      <td>0.029167</td>\n",
              "    </tr>\n",
              "    <tr>\n",
              "      <th>blue_white</th>\n",
              "      <td>0.025000</td>\n",
              "    </tr>\n",
              "    <tr>\n",
              "      <th>3</th>\n",
              "      <th>blue</th>\n",
              "      <td>0.020833</td>\n",
              "    </tr>\n",
              "    <tr>\n",
              "      <th>2</th>\n",
              "      <th>yellowish_white</th>\n",
              "      <td>0.012500</td>\n",
              "    </tr>\n",
              "    <tr>\n",
              "      <th>3</th>\n",
              "      <th>yellowish</th>\n",
              "      <td>0.012500</td>\n",
              "    </tr>\n",
              "    <tr>\n",
              "      <th rowspan=\"2\" valign=\"top\">5</th>\n",
              "      <th>orange</th>\n",
              "      <td>0.008333</td>\n",
              "    </tr>\n",
              "    <tr>\n",
              "      <th>white</th>\n",
              "      <td>0.008333</td>\n",
              "    </tr>\n",
              "    <tr>\n",
              "      <th>3</th>\n",
              "      <th>whitish</th>\n",
              "      <td>0.008333</td>\n",
              "    </tr>\n",
              "    <tr>\n",
              "      <th rowspan=\"2\" valign=\"top\">2</th>\n",
              "      <th>white_yellow</th>\n",
              "      <td>0.004167</td>\n",
              "    </tr>\n",
              "    <tr>\n",
              "      <th>pale_yellow_orange</th>\n",
              "      <td>0.004167</td>\n",
              "    </tr>\n",
              "    <tr>\n",
              "      <th>3</th>\n",
              "      <th>orange_red</th>\n",
              "      <td>0.004167</td>\n",
              "    </tr>\n",
              "  </tbody>\n",
              "</table>\n",
              "</div>\n",
              "    <div class=\"colab-df-buttons\">\n",
              "\n",
              "  <div class=\"colab-df-container\">\n",
              "    <button class=\"colab-df-convert\" onclick=\"convertToInteractive('df-46d4a763-c7b6-4c6c-a3fa-559457193919')\"\n",
              "            title=\"Convert this dataframe to an interactive table.\"\n",
              "            style=\"display:none;\">\n",
              "\n",
              "  <svg xmlns=\"http://www.w3.org/2000/svg\" height=\"24px\" viewBox=\"0 -960 960 960\">\n",
              "    <path d=\"M120-120v-720h720v720H120Zm60-500h600v-160H180v160Zm220 220h160v-160H400v160Zm0 220h160v-160H400v160ZM180-400h160v-160H180v160Zm440 0h160v-160H620v160ZM180-180h160v-160H180v160Zm440 0h160v-160H620v160Z\"/>\n",
              "  </svg>\n",
              "    </button>\n",
              "\n",
              "  <style>\n",
              "    .colab-df-container {\n",
              "      display:flex;\n",
              "      gap: 12px;\n",
              "    }\n",
              "\n",
              "    .colab-df-convert {\n",
              "      background-color: #E8F0FE;\n",
              "      border: none;\n",
              "      border-radius: 50%;\n",
              "      cursor: pointer;\n",
              "      display: none;\n",
              "      fill: #1967D2;\n",
              "      height: 32px;\n",
              "      padding: 0 0 0 0;\n",
              "      width: 32px;\n",
              "    }\n",
              "\n",
              "    .colab-df-convert:hover {\n",
              "      background-color: #E2EBFA;\n",
              "      box-shadow: 0px 1px 2px rgba(60, 64, 67, 0.3), 0px 1px 3px 1px rgba(60, 64, 67, 0.15);\n",
              "      fill: #174EA6;\n",
              "    }\n",
              "\n",
              "    .colab-df-buttons div {\n",
              "      margin-bottom: 4px;\n",
              "    }\n",
              "\n",
              "    [theme=dark] .colab-df-convert {\n",
              "      background-color: #3B4455;\n",
              "      fill: #D2E3FC;\n",
              "    }\n",
              "\n",
              "    [theme=dark] .colab-df-convert:hover {\n",
              "      background-color: #434B5C;\n",
              "      box-shadow: 0px 1px 3px 1px rgba(0, 0, 0, 0.15);\n",
              "      filter: drop-shadow(0px 1px 2px rgba(0, 0, 0, 0.3));\n",
              "      fill: #FFFFFF;\n",
              "    }\n",
              "  </style>\n",
              "\n",
              "    <script>\n",
              "      const buttonEl =\n",
              "        document.querySelector('#df-46d4a763-c7b6-4c6c-a3fa-559457193919 button.colab-df-convert');\n",
              "      buttonEl.style.display =\n",
              "        google.colab.kernel.accessAllowed ? 'block' : 'none';\n",
              "\n",
              "      async function convertToInteractive(key) {\n",
              "        const element = document.querySelector('#df-46d4a763-c7b6-4c6c-a3fa-559457193919');\n",
              "        const dataTable =\n",
              "          await google.colab.kernel.invokeFunction('convertToInteractive',\n",
              "                                                    [key], {});\n",
              "        if (!dataTable) return;\n",
              "\n",
              "        const docLinkHtml = 'Like what you see? Visit the ' +\n",
              "          '<a target=\"_blank\" href=https://colab.research.google.com/notebooks/data_table.ipynb>data table notebook</a>'\n",
              "          + ' to learn more about interactive tables.';\n",
              "        element.innerHTML = '';\n",
              "        dataTable['output_type'] = 'display_data';\n",
              "        await google.colab.output.renderOutput(dataTable, element);\n",
              "        const docLink = document.createElement('div');\n",
              "        docLink.innerHTML = docLinkHtml;\n",
              "        element.appendChild(docLink);\n",
              "      }\n",
              "    </script>\n",
              "  </div>\n",
              "\n",
              "\n",
              "<div id=\"df-d911eefc-e2e8-4b26-8dd6-04fab63e9ede\">\n",
              "  <button class=\"colab-df-quickchart\" onclick=\"quickchart('df-d911eefc-e2e8-4b26-8dd6-04fab63e9ede')\"\n",
              "            title=\"Suggest charts.\"\n",
              "            style=\"display:none;\">\n",
              "\n",
              "<svg xmlns=\"http://www.w3.org/2000/svg\" height=\"24px\"viewBox=\"0 0 24 24\"\n",
              "     width=\"24px\">\n",
              "    <g>\n",
              "        <path d=\"M19 3H5c-1.1 0-2 .9-2 2v14c0 1.1.9 2 2 2h14c1.1 0 2-.9 2-2V5c0-1.1-.9-2-2-2zM9 17H7v-7h2v7zm4 0h-2V7h2v10zm4 0h-2v-4h2v4z\"/>\n",
              "    </g>\n",
              "</svg>\n",
              "  </button>\n",
              "\n",
              "<style>\n",
              "  .colab-df-quickchart {\n",
              "      --bg-color: #E8F0FE;\n",
              "      --fill-color: #1967D2;\n",
              "      --hover-bg-color: #E2EBFA;\n",
              "      --hover-fill-color: #174EA6;\n",
              "      --disabled-fill-color: #AAA;\n",
              "      --disabled-bg-color: #DDD;\n",
              "  }\n",
              "\n",
              "  [theme=dark] .colab-df-quickchart {\n",
              "      --bg-color: #3B4455;\n",
              "      --fill-color: #D2E3FC;\n",
              "      --hover-bg-color: #434B5C;\n",
              "      --hover-fill-color: #FFFFFF;\n",
              "      --disabled-bg-color: #3B4455;\n",
              "      --disabled-fill-color: #666;\n",
              "  }\n",
              "\n",
              "  .colab-df-quickchart {\n",
              "    background-color: var(--bg-color);\n",
              "    border: none;\n",
              "    border-radius: 50%;\n",
              "    cursor: pointer;\n",
              "    display: none;\n",
              "    fill: var(--fill-color);\n",
              "    height: 32px;\n",
              "    padding: 0;\n",
              "    width: 32px;\n",
              "  }\n",
              "\n",
              "  .colab-df-quickchart:hover {\n",
              "    background-color: var(--hover-bg-color);\n",
              "    box-shadow: 0 1px 2px rgba(60, 64, 67, 0.3), 0 1px 3px 1px rgba(60, 64, 67, 0.15);\n",
              "    fill: var(--button-hover-fill-color);\n",
              "  }\n",
              "\n",
              "  .colab-df-quickchart-complete:disabled,\n",
              "  .colab-df-quickchart-complete:disabled:hover {\n",
              "    background-color: var(--disabled-bg-color);\n",
              "    fill: var(--disabled-fill-color);\n",
              "    box-shadow: none;\n",
              "  }\n",
              "\n",
              "  .colab-df-spinner {\n",
              "    border: 2px solid var(--fill-color);\n",
              "    border-color: transparent;\n",
              "    border-bottom-color: var(--fill-color);\n",
              "    animation:\n",
              "      spin 1s steps(1) infinite;\n",
              "  }\n",
              "\n",
              "  @keyframes spin {\n",
              "    0% {\n",
              "      border-color: transparent;\n",
              "      border-bottom-color: var(--fill-color);\n",
              "      border-left-color: var(--fill-color);\n",
              "    }\n",
              "    20% {\n",
              "      border-color: transparent;\n",
              "      border-left-color: var(--fill-color);\n",
              "      border-top-color: var(--fill-color);\n",
              "    }\n",
              "    30% {\n",
              "      border-color: transparent;\n",
              "      border-left-color: var(--fill-color);\n",
              "      border-top-color: var(--fill-color);\n",
              "      border-right-color: var(--fill-color);\n",
              "    }\n",
              "    40% {\n",
              "      border-color: transparent;\n",
              "      border-right-color: var(--fill-color);\n",
              "      border-top-color: var(--fill-color);\n",
              "    }\n",
              "    60% {\n",
              "      border-color: transparent;\n",
              "      border-right-color: var(--fill-color);\n",
              "    }\n",
              "    80% {\n",
              "      border-color: transparent;\n",
              "      border-right-color: var(--fill-color);\n",
              "      border-bottom-color: var(--fill-color);\n",
              "    }\n",
              "    90% {\n",
              "      border-color: transparent;\n",
              "      border-bottom-color: var(--fill-color);\n",
              "    }\n",
              "  }\n",
              "</style>\n",
              "\n",
              "  <script>\n",
              "    async function quickchart(key) {\n",
              "      const quickchartButtonEl =\n",
              "        document.querySelector('#' + key + ' button');\n",
              "      quickchartButtonEl.disabled = true;  // To prevent multiple clicks.\n",
              "      quickchartButtonEl.classList.add('colab-df-spinner');\n",
              "      try {\n",
              "        const charts = await google.colab.kernel.invokeFunction(\n",
              "            'suggestCharts', [key], {});\n",
              "      } catch (error) {\n",
              "        console.error('Error during call to suggestCharts:', error);\n",
              "      }\n",
              "      quickchartButtonEl.classList.remove('colab-df-spinner');\n",
              "      quickchartButtonEl.classList.add('colab-df-quickchart-complete');\n",
              "    }\n",
              "    (() => {\n",
              "      let quickchartButtonEl =\n",
              "        document.querySelector('#df-d911eefc-e2e8-4b26-8dd6-04fab63e9ede button');\n",
              "      quickchartButtonEl.style.display =\n",
              "        google.colab.kernel.accessAllowed ? 'block' : 'none';\n",
              "    })();\n",
              "  </script>\n",
              "</div>\n",
              "    </div>\n",
              "  </div>\n"
            ]
          },
          "metadata": {},
          "execution_count": 23
        }
      ],
      "source": [
        "data[['star_type','star_color' ]].value_counts(normalize = True).to_frame()"
      ]
    },
    {
      "cell_type": "markdown",
      "metadata": {
        "id": "c4WgOsD8bUtj"
      },
      "source": [
        "### Анализ числовых признаков"
      ]
    },
    {
      "cell_type": "code",
      "execution_count": null,
      "metadata": {
        "id": "b21BjUHqVXot"
      },
      "outputs": [],
      "source": [
        "numerical = data.select_dtypes(include = ('int', 'float', 'bool')).columns.to_list()"
      ]
    },
    {
      "cell_type": "code",
      "execution_count": null,
      "metadata": {
        "id": "uTcAJxLYZtJk"
      },
      "outputs": [],
      "source": [
        "numerical =['luminosity', 'radius', 'magnitude', 'star_type']"
      ]
    },
    {
      "cell_type": "code",
      "execution_count": null,
      "metadata": {
        "colab": {
          "base_uri": "https://localhost:8080/",
          "height": 319
        },
        "id": "to5DqlxGbrnl",
        "outputId": "c8c1b43e-9ea3-415f-8c93-c236c9dac26c"
      },
      "outputs": [
        {
          "output_type": "display_data",
          "data": {
            "text/plain": [
              "<Figure size 1500x1000 with 12 Axes>"
            ],
            "image/png": "[encoded data removed]"
          },
          "metadata": {}
        }
      ],
      "source": [
        "data[numerical].hist(layout = (4,3),\n",
        "                     figsize=(15, 10));\n"
      ]
    },
    {
      "cell_type": "markdown",
      "metadata": {
        "id": "BtXmCUrXh7Fc"
      },
      "source": [
        "Видим, что числовые значения имеют разный порядок, значит необходимо будет перед обучением подготовить признаки."
      ]
    },
    {
      "cell_type": "markdown",
      "metadata": {
        "id": "bNGRKYx7ZZMX"
      },
      "source": [
        "Вывод:\n",
        "- Исходный датасет включал в себя 240 наблюдений.\n",
        "- Пропущенные значения отсутствовали.\n",
        "- Имелись неявные дубликаты по категории звезд в признке star_color.\n",
        "- Числовые признаки имеют разный порядок (необходимо масштабировать)\n",
        "- Имеются категориальные признаки (необходимо перекодировать в числовые).\n",
        "- Дисбаланса по классам звезд нет, но имеется дисбаланс по цвету звезд.\n"
      ]
    },
    {
      "cell_type": "markdown",
      "metadata": {
        "id": "GErvN0WjyxfT"
      },
      "source": [
        "## Подготовка данных для модели"
      ]
    },
    {
      "cell_type": "markdown",
      "metadata": {
        "id": "rUpJ7Coyajwc"
      },
      "source": [
        "- Для того, чтобы оценить работу всех моделей, мы создадим список результатов, который заполним названием модели и значением метрика rmse\n",
        "- Создадим функцию для создания графиков с результатами (согласно исходному заданию)\n",
        "- Переменные которые одинаковы для всех моделей мы вынесем в раздел подготовки данных"
      ]
    },
    {
      "cell_type": "code",
      "execution_count": null,
      "metadata": {
        "id": "DoTLq1th5JeP"
      },
      "outputs": [],
      "source": [
        "result = []"
      ]
    },
    {
      "cell_type": "code",
      "execution_count": null,
      "metadata": {
        "id": "qvDeilyxMXuH"
      },
      "outputs": [],
      "source": [
        "# функция для построения графика для результатов\n",
        "def plot (y_test, test_outputs, name):\n",
        "\n",
        "    #name это (название модели)\n",
        "\n",
        "    fact_values = y_test.numpy().flatten()\n",
        "    forecast_values = test_outputs.numpy().flatten()\n",
        "\n",
        "    # в тестовом датасете 48 звезд, но дальше их может быть больше\n",
        "    # поэтому ограничим\n",
        "    indexes = test[y].index[:48]\n",
        "\n",
        "    plt.figure(figsize=(8, 4))\n",
        "    sns.set_style('ticks', {'axes.grid': True})\n",
        "\n",
        "    # Создание столбчатой диаграммы для фактических значений\n",
        "    fact_plot = sns.barplot(x = indexes,\n",
        "                            y = fact_values,\n",
        "                            color='blue',\n",
        "                            alpha=0.9,\n",
        "                            label='Факт')\n",
        "\n",
        "    # Создание столбчатой диаграммы для прогнозов\n",
        "    forecast_plot = sns.barplot(x=indexes,\n",
        "                                y = forecast_values,\n",
        "                                color='yellow',\n",
        "                                alpha=0.7,\n",
        "                                label='Прогноз')\n",
        "\n",
        "    # Установка ширины столбцов и их позиции\n",
        "    bar_width = 0.6\n",
        "\n",
        "    for bar in fact_plot.patches + forecast_plot.patches:\n",
        "        bar.set_width(bar_width)\n",
        "        x = bar.get_x()\n",
        "        bar.set_x(x + bar_width / 2)\n",
        "\n",
        "    # Установка подписей осей и заголовка\n",
        "    plt.xlabel('Номер звезды в таблице данных', fontweight='bold')\n",
        "\n",
        "    plt.ylabel('Температура звезды', fontweight='bold')\n",
        "\n",
        "    plt.title(f'{name}')\n",
        "\n",
        "    plt.xticks(rotation=85)\n",
        "\n",
        "    plt.yscale('log') # чтобы на графике можно\n",
        "                       # было увидеть значения разных порядков\n",
        "\n",
        "    # Создание и настройка легенды\n",
        "    handles, labels = plt.gca().get_legend_handles_labels()\n",
        "\n",
        "    handles.reverse()\n",
        "    labels.reverse()\n",
        "    plt.legend(handles,\n",
        "               labels,\n",
        "               bbox_to_anchor=(0.5, -0.25),\n",
        "               loc='upper center',\n",
        "               ncol=2)\n",
        "\n",
        "    return plt.show()"
      ]
    },
    {
      "cell_type": "code",
      "execution_count": null,
      "metadata": {
        "id": "CGblOVti5XJQ"
      },
      "outputs": [],
      "source": [
        "# признаки\n",
        "X = data.drop('temperature', axis = 1).columns.to_list()\n",
        "y = 'temperature'"
      ]
    },
    {
      "cell_type": "code",
      "execution_count": null,
      "metadata": {
        "id": "r8FNoAXkWxvJ"
      },
      "outputs": [],
      "source": [
        "# неизменяемые параметры сети для всех моделей\n",
        "\n",
        "hidden_neurons = 300\n",
        "\n",
        "output_neurons = 1\n",
        "\n",
        "loss = nn.MSELoss()\n",
        "\n",
        "num_epochs = 15000"
      ]
    },
    {
      "cell_type": "code",
      "execution_count": null,
      "metadata": {
        "id": "d_r3UpUuPSHn"
      },
      "outputs": [],
      "source": [
        "#преобразователь для признаков масштабирование и кодирование категориальных\n",
        "column_transformer = ColumnTransformer(transformers=[\n",
        "        ('encoder', OneHotEncoder(handle_unknown='ignore'), categorical),\n",
        "        ('scale', StandardScaler(), numerical)])"
      ]
    },
    {
      "cell_type": "markdown",
      "metadata": {
        "id": "kQnGpjuJ3uCe"
      },
      "source": [
        "## Baseline_model"
      ]
    },
    {
      "cell_type": "markdown",
      "metadata": {
        "id": "3UOaASX-36xB"
      },
      "source": [
        "В качестве baseline модели будем использовать нейронную сеть следующей архитектуры:\n",
        "\n",
        "|  Название параметра |кол-во|  \n",
        "|---------------|-|\n",
        "|Входной слой  (нейронов)|3|\n",
        "|Скрытые слои   |2|\n",
        "|Выходной слой  (нейронов)|1|\n",
        "|Функция активации\n",
        "в выходном слое |nn.ReLU() |"
      ]
    },
    {
      "cell_type": "code",
      "execution_count": null,
      "metadata": {
        "id": "KHE2tAK2_ptx"
      },
      "outputs": [],
      "source": [
        "class BaselineModel(nn.Module):\n",
        "    def __init__(self, input_neurons, hidden_neurons, output_neurons):\n",
        "        super(BaselineModel, self).__init__()\n",
        "        self.fc1 = nn.Linear(input_neurons, hidden_neurons)\n",
        "        self.act1 = nn.ReLU()\n",
        "        self.fc2 = nn.Linear(hidden_neurons, output_neurons)\n",
        "        self.act2 = nn.ReLU()\n",
        "\n",
        "        nn.init.normal_(self.fc1.weight, mean=0.5, std=0.5)\n",
        "        nn.init.normal_(self.fc1.bias, mean=0, std=0.1)  # Изменено с self.act1.bias\n",
        "        nn.init.xavier_uniform_(self.fc2.weight)\n",
        "        nn.init.constant_(self.fc2.bias, 0)\n",
        "\n",
        "    def forward(self, x):\n",
        "        x = self.fc1(x)\n",
        "        x = self.act1(x)\n",
        "        x = self.fc2(x)\n",
        "        x = self.act2(x)\n",
        "        return x"
      ]
    },
    {
      "cell_type": "code",
      "execution_count": null,
      "metadata": {
        "colab": {
          "base_uri": "https://localhost:8080/"
        },
        "id": "GPwnwThvGOPG",
        "outputId": "993ea68e-29d4-47da-bf67-680a1c0db7de"
      },
      "outputs": [
        {
          "output_type": "stream",
          "name": "stdout",
          "text": [
            "Размер обучающей выборки (144, 6)\n",
            "\n",
            "Размер валидационной выборки (48, 6)\n",
            "\n",
            "Размер тестовой выборки (48, 6)\n"
          ]
        }
      ],
      "source": [
        "#подготовим признаки для обучения\n",
        "train, valid = train_test_split(data,\n",
        "                                test_size=0.4,\n",
        "                                shuffle=True,\n",
        "                                random_state=RANDOM_STATE)\n",
        "\n",
        "valid, test = train_test_split(valid,\n",
        "                               test_size=0.5,\n",
        "                               shuffle=True,\n",
        "                               random_state=RANDOM_STATE)\n",
        "\n",
        "print('Размер обучающей выборки',train.shape)\n",
        "print( )\n",
        "print('Размер валидационной выборки', valid.shape)\n",
        "print( )\n",
        "print('Размер тестовой выборки', test.shape)"
      ]
    },
    {
      "cell_type": "code",
      "execution_count": null,
      "metadata": {
        "id": "7AZGZpXPXDWY"
      },
      "outputs": [],
      "source": [
        "# для дальнейшей работы нам необходимо будет иметь тот же датасет для предсказаний,\n",
        "# поэтому сохраним индексы в переменные\n",
        "valid_index = valid.index\n",
        "test_index = test.index"
      ]
    },
    {
      "cell_type": "code",
      "execution_count": null,
      "metadata": {
        "colab": {
          "base_uri": "https://localhost:8080/"
        },
        "id": "nL5CbOLnII5V",
        "outputId": "adc54b44-760b-434b-87c9-909ceeefaa40"
      },
      "outputs": [
        {
          "output_type": "stream",
          "name": "stdout",
          "text": [
            "Oбучающие признаки torch.Size([144, 14])\n",
            "\n",
            "Валидационные признаки torch.Size([48, 14])\n",
            "\n",
            "Тестовые признаки torch.Size([48, 14])\n"
          ]
        }
      ],
      "source": [
        "X_train = torch.Tensor(column_transformer.fit_transform(train[X]))\n",
        "X_valid = torch.Tensor(column_transformer.transform(valid[X]))\n",
        "X_test = torch.Tensor(column_transformer.transform(test[X]))\n",
        "\n",
        "y_train = torch.Tensor(train[y].values).reshape(-1, 1)\n",
        "y_valid = torch.Tensor(valid[y].values).reshape(-1, 1)\n",
        "y_test = torch.Tensor(test[y].values).reshape(-1, 1)\n",
        "\n",
        "print('Oбучающие признаки', X_train.size())\n",
        "print()\n",
        "print('Валидационные признаки', X_valid.size())\n",
        "print()\n",
        "print('Тестовые признаки', X_test.size())"
      ]
    },
    {
      "cell_type": "code",
      "execution_count": null,
      "metadata": {
        "colab": {
          "base_uri": "https://localhost:8080/"
        },
        "id": "s_KqqeHiKrcU",
        "outputId": "17d69458-d745-4bd6-9374-56561a718a68"
      },
      "outputs": [
        {
          "output_type": "stream",
          "name": "stdout",
          "text": [
            "Epoch [1000/15000], Loss: 20243182.0\n",
            "Epoch [2000/15000], Loss: 15987445.0\n",
            "Epoch [3000/15000], Loss: 14741842.0\n",
            "Epoch [4000/15000], Loss: 14204297.0\n",
            "Epoch [5000/15000], Loss: 12559491.0\n",
            "Epoch [6000/15000], Loss: 11460441.0\n",
            "Epoch [7000/15000], Loss: 10641946.0\n",
            "Epoch [8000/15000], Loss: 9892805.0\n",
            "Epoch [9000/15000], Loss: 9234124.0\n",
            "Epoch [10000/15000], Loss: 8510466.0\n",
            "Epoch [11000/15000], Loss: 7628477.5\n",
            "Epoch [12000/15000], Loss: 6622850.5\n",
            "Epoch [13000/15000], Loss: 5846057.5\n",
            "Epoch [14000/15000], Loss: 5189825.0\n",
            "Epoch [15000/15000], Loss: 4591856.0\n",
            "Baseline Loss:  5266.00341796875\n"
          ]
        }
      ],
      "source": [
        "input_neurons = X_train.shape[1]\n",
        "\n",
        "model = BaselineModel(input_neurons,\n",
        "                        hidden_neurons,\n",
        "                        output_neurons)\n",
        "\n",
        "optimizer = torch.optim.Adam(model.parameters(), lr=0.01)\n",
        "\n",
        "for epoch in range(num_epochs):\n",
        "\n",
        "        outputs = model(X_train)\n",
        "\n",
        "        loss_train = loss(outputs, y_train)\n",
        "\n",
        "        optimizer.zero_grad()\n",
        "\n",
        "        loss_train.backward()\n",
        "\n",
        "        optimizer.step()\n",
        "\n",
        "        if (epoch + 1) % 1000 == 0:\n",
        "          model.eval()  # Перевести модель в режим оценки\n",
        "          with torch.no_grad():\n",
        "              valid_outputs = model(X_valid)\n",
        "              valid_loss = loss(valid_outputs, y_valid)\n",
        "              print(f'Epoch [{epoch + 1}/{num_epochs}], Loss: {loss_train.item()}')\n",
        "print(f'Baseline Loss:  {np.sqrt(valid_loss)}')"
      ]
    },
    {
      "cell_type": "code",
      "execution_count": null,
      "metadata": {
        "colab": {
          "base_uri": "https://localhost:8080/"
        },
        "id": "veo1nx03SyHh",
        "outputId": "f2366b1c-b8f1-419e-d43d-b5db849bc7b6"
      },
      "outputs": [
        {
          "output_type": "execute_result",
          "data": {
            "text/plain": [
              "[['rmse_baseline', 5266.003608050416]]"
            ]
          },
          "metadata": {},
          "execution_count": 37
        }
      ],
      "source": [
        "rmse_baseline = np.sqrt(valid_loss.item())\n",
        "result.append(['rmse_baseline', rmse_baseline])\n",
        "result"
      ]
    },
    {
      "cell_type": "code",
      "execution_count": null,
      "metadata": {
        "colab": {
          "base_uri": "https://localhost:8080/",
          "height": 476
        },
        "id": "ffyD0qQkN5Uv",
        "outputId": "6cedc892-a83e-430a-83f9-849d40fb76e6"
      },
      "outputs": [
        {
          "output_type": "display_data",
          "data": {
            "text/plain": [
              "<Figure size 800x400 with 1 Axes>"
            ],
            "image/png": "[encoded data removed]"
          },
          "metadata": {}
        }
      ],
      "source": [
        "# строим график для визуализации предсказаний baseline модели\n",
        "plot(y_valid, valid_outputs, 'Baseline')"
      ]
    },
    {
      "cell_type": "markdown",
      "metadata": {
        "id": "8j80_J5deBh8"
      },
      "source": [
        "Как видно из диаграммы наша модель ошибается на некоторых объектах в сильно большую сторону,  а на других наоборт сильно преуменьшая значения."
      ]
    },
    {
      "cell_type": "markdown",
      "metadata": {
        "id": "E1UwL3LWsvtE"
      },
      "source": [
        "## Улучшение модели"
      ]
    },
    {
      "cell_type": "markdown",
      "metadata": {
        "id": "VZZB2ODYPoYB"
      },
      "source": [
        "В задании к проекту нам дано обязательное требование\n",
        "создать решение с перебором параметров нейросети:\n",
        "- dropout\n",
        "- размер батча.\n",
        "\n",
        "\n",
        "Следующим этапом я проведу эксперимент с данными:\n",
        "1.  создам синтетические данные и, обучив на них, получим предсказание на test выборке исходного датасета.\n",
        "2. аугментирую исходный датасет (добавлю шум к числовым признакам) и, обучив на них, получим предсказание на test выборке исходного датасета.\n",
        "\n",
        "\n"
      ]
    },
    {
      "cell_type": "markdown",
      "metadata": {
        "id": "KEZUcD6Kt35-"
      },
      "source": [
        "### Подбор Dropout"
      ]
    },
    {
      "cell_type": "code",
      "execution_count": null,
      "metadata": {
        "id": "rrfGjzsyT8tj"
      },
      "outputs": [],
      "source": [
        "class DropoutModel(nn.Module):\n",
        "    def __init__(self, input_neurons, hidden_neurons, output_neurons, best_dropout):\n",
        "        super(DropoutModel, self).__init__()\n",
        "\n",
        "        self.fc1 = nn.Linear(input_neurons, hidden_neurons)\n",
        "        self.act1 = nn.ReLU()\n",
        "        self.dropout1 = nn.Dropout(p=best_dropout) # 50% dropout после первого слоя\n",
        "        self.fc2 = nn.Linear(hidden_neurons, output_neurons)\n",
        "        self.act2 = nn.ReLU()\n",
        "        self.dropout2 = nn.Dropout(p=best_dropout) # 50% dropout после второго слоя\n",
        "\n",
        "        nn.init.normal_(self.fc1.weight, mean=0.5, std=0.5)\n",
        "        nn.init.normal_(self.fc1.bias, mean=0, std=0.1)\n",
        "        nn.init.xavier_uniform_(self.fc2.weight)\n",
        "        nn.init.constant_(self.fc2.bias, 0)\n",
        "\n",
        "    def forward(self, x):\n",
        "        x = self.fc1(x)\n",
        "        x = self.act1(x)\n",
        "        x = self.dropout1(x)  #  Dropout после первого слоя\n",
        "        x = self.fc2(x)\n",
        "        x = self.act2(x)\n",
        "        x = self.dropout2(x)  #  Dropout после второго слоя\n",
        "\n",
        "        return x"
      ]
    },
    {
      "cell_type": "code",
      "execution_count": null,
      "metadata": {
        "colab": {
          "base_uri": "https://localhost:8080/"
        },
        "id": "02eHXK2w_UI0",
        "outputId": "d7a49f32-e549-4a96-f547-0a63e5653948"
      },
      "outputs": [
        {
          "output_type": "stream",
          "name": "stdout",
          "text": [
            "Epoch [1000/15000], Loss: 45881104.0\n",
            "Epoch [2000/15000], Loss: 15961580.0\n",
            "Epoch [3000/15000], Loss: 14728075.0\n",
            "Epoch [4000/15000], Loss: 13838714.0\n",
            "Epoch [5000/15000], Loss: 12191772.0\n",
            "Epoch [6000/15000], Loss: 11205698.0\n",
            "Epoch [7000/15000], Loss: 10352991.0\n",
            "Epoch [8000/15000], Loss: 9631243.0\n",
            "Epoch [9000/15000], Loss: 9101996.0\n",
            "Epoch [10000/15000], Loss: 8728012.0\n",
            "Epoch [11000/15000], Loss: 8229783.0\n",
            "Epoch [12000/15000], Loss: 7360391.5\n",
            "Epoch [13000/15000], Loss: 6299230.5\n",
            "Epoch [14000/15000], Loss: 5564504.5\n",
            "Epoch [15000/15000], Loss: 4978414.0\n",
            "Epoch [1000/15000], Loss: 37639772.0\n",
            "Epoch [2000/15000], Loss: 16204380.0\n",
            "Epoch [3000/15000], Loss: 14793904.0\n",
            "Epoch [4000/15000], Loss: 14076156.0\n",
            "Epoch [5000/15000], Loss: 12243522.0\n",
            "Epoch [6000/15000], Loss: 11224217.0\n",
            "Epoch [7000/15000], Loss: 10385982.0\n",
            "Epoch [8000/15000], Loss: 9590147.0\n",
            "Epoch [9000/15000], Loss: 8888332.0\n",
            "Epoch [10000/15000], Loss: 8353896.0\n",
            "Epoch [11000/15000], Loss: 7759886.0\n",
            "Epoch [12000/15000], Loss: 6920766.0\n",
            "Epoch [13000/15000], Loss: 6095122.0\n",
            "Epoch [14000/15000], Loss: 5229573.5\n",
            "Epoch [15000/15000], Loss: 4398723.0\n",
            "Epoch [1000/15000], Loss: 67526600.0\n",
            "Epoch [2000/15000], Loss: 16357184.0\n",
            "Epoch [3000/15000], Loss: 14843296.0\n",
            "Epoch [4000/15000], Loss: 14065945.0\n",
            "Epoch [5000/15000], Loss: 12212544.0\n",
            "Epoch [6000/15000], Loss: 11243372.0\n",
            "Epoch [7000/15000], Loss: 10360347.0\n",
            "Epoch [8000/15000], Loss: 9567159.0\n",
            "Epoch [9000/15000], Loss: 9025152.0\n",
            "Epoch [10000/15000], Loss: 8664129.0\n",
            "Epoch [11000/15000], Loss: 8210556.5\n",
            "Epoch [12000/15000], Loss: 7005706.0\n",
            "Epoch [13000/15000], Loss: 6161944.5\n",
            "Epoch [14000/15000], Loss: 5527207.0\n",
            "Epoch [15000/15000], Loss: 4996201.5\n",
            "Epoch [1000/15000], Loss: 80194896.0\n",
            "Epoch [2000/15000], Loss: 16724402.0\n",
            "Epoch [3000/15000], Loss: 15000409.0\n",
            "Epoch [4000/15000], Loss: 14261015.0\n",
            "Epoch [5000/15000], Loss: 12475492.0\n",
            "Epoch [6000/15000], Loss: 11337776.0\n",
            "Epoch [7000/15000], Loss: 10458887.0\n",
            "Epoch [8000/15000], Loss: 9566450.0\n",
            "Epoch [9000/15000], Loss: 8766556.0\n",
            "Epoch [10000/15000], Loss: 8095675.5\n",
            "Epoch [11000/15000], Loss: 7317030.0\n",
            "Epoch [12000/15000], Loss: 6715813.5\n",
            "Epoch [13000/15000], Loss: 5993793.0\n",
            "Epoch [14000/15000], Loss: 5106527.5\n",
            "Epoch [15000/15000], Loss: 4327393.5\n",
            "Epoch [1000/15000], Loss: 155424736.0\n",
            "Epoch [2000/15000], Loss: 17677384.0\n",
            "Epoch [3000/15000], Loss: 15407931.0\n",
            "Epoch [4000/15000], Loss: 14489316.0\n",
            "Epoch [5000/15000], Loss: 12972096.0\n",
            "Epoch [6000/15000], Loss: 11475908.0\n",
            "Epoch [7000/15000], Loss: 10632868.0\n",
            "Epoch [8000/15000], Loss: 9594275.0\n",
            "Epoch [9000/15000], Loss: 8778994.0\n",
            "Epoch [10000/15000], Loss: 8231810.0\n",
            "Epoch [11000/15000], Loss: 7610391.0\n",
            "Epoch [12000/15000], Loss: 6797054.5\n",
            "Epoch [13000/15000], Loss: 6111146.5\n",
            "Epoch [14000/15000], Loss: 5502037.5\n",
            "Epoch [15000/15000], Loss: 4902079.5\n"
          ]
        }
      ],
      "source": [
        "dropout_values = [0.1, 0.2, 0.3, 0.4, 0.6]\n",
        "\n",
        "input_neurons = X_train.shape[1]\n",
        "\n",
        "dropout_rmse = float('inf')\n",
        "best_model = None\n",
        "best_dropout = 0.5\n",
        "\n",
        "for dropout in dropout_values:\n",
        "    model = DropoutModel(input_neurons,\n",
        "                       hidden_neurons,\n",
        "                       output_neurons,\n",
        "                       dropout)  # подбираем\n",
        "    optimizer = torch.optim.Adam(model.parameters(), lr=0.01)\n",
        "\n",
        "    for epoch in range(num_epochs):\n",
        "        outputs = model(X_train)\n",
        "        loss_train = loss(outputs, y_train)\n",
        "\n",
        "        optimizer.zero_grad()\n",
        "        loss_train.backward()\n",
        "        optimizer.step()\n",
        "\n",
        "        if (epoch + 1) % 1000 == 0:\n",
        "            print(f'Epoch [{epoch + 1}/{num_epochs}], Loss: {loss_train.item()}')\n",
        "\n",
        "        # Оценка модели на valid данных\n",
        "            model.eval()  # оценка\n",
        "            with torch.no_grad():\n",
        "                valid_outputs = model(X_valid)\n",
        "                valid_loss = loss(valid_outputs, y_valid)\n",
        "\n",
        "                # Оценка RMSE на valid данных\n",
        "                rmse = np.sqrt(valid_loss.item())\n",
        "\n",
        "            # Сравнение RMSE с лучшим результатом\n",
        "            if rmse < dropout_rmse:\n",
        "                dropout_rmse = rmse\n",
        "                best_model = model\n",
        "                best_dropout = dropout"
      ]
    },
    {
      "cell_type": "code",
      "execution_count": null,
      "metadata": {
        "colab": {
          "base_uri": "https://localhost:8080/"
        },
        "id": "XZJHPxeV-_y1",
        "outputId": "a617168b-b468-4b5b-9c1a-61901b6d0893"
      },
      "outputs": [
        {
          "output_type": "stream",
          "name": "stdout",
          "text": [
            "Лучший dropout_rmse: 4348.176859328516\n",
            "Лучшие параметры: Dropout = 0.2\n"
          ]
        }
      ],
      "source": [
        "print(f'Лучший dropout_rmse: {dropout_rmse}')\n",
        "print(f'Лучшие параметры: Dropout = {best_dropout}')"
      ]
    },
    {
      "cell_type": "code",
      "execution_count": null,
      "metadata": {
        "colab": {
          "base_uri": "https://localhost:8080/"
        },
        "id": "AwkT_J44_3WY",
        "outputId": "6d545843-15cd-43a7-9677-be319ec26e65"
      },
      "outputs": [
        {
          "output_type": "execute_result",
          "data": {
            "text/plain": [
              "[['rmse_baseline', 5266.003608050416], ['dropout_rmse', 4348.176859328516]]"
            ]
          },
          "metadata": {},
          "execution_count": 42
        }
      ],
      "source": [
        "result.append(['dropout_rmse', dropout_rmse])\n",
        "result"
      ]
    },
    {
      "cell_type": "code",
      "execution_count": null,
      "metadata": {
        "colab": {
          "base_uri": "https://localhost:8080/",
          "height": 476
        },
        "id": "VihxKQvC_UMp",
        "outputId": "2e1d90c1-3895-4465-ec8d-674891f80fd2"
      },
      "outputs": [
        {
          "output_type": "display_data",
          "data": {
            "text/plain": [
              "<Figure size 800x400 with 1 Axes>"
            ],
            "image/png": "[encoded data removed]"
          },
          "metadata": {}
        }
      ],
      "source": [
        "plot(y_valid, valid_outputs, 'Dropout')"
      ]
    },
    {
      "cell_type": "markdown",
      "metadata": {
        "id": "qgOYW096Cest"
      },
      "source": [
        "Подбор гиперпараметра dropout позволил нам значительно улучшить метрику примерно на 14%, что позволило нам уже достичь минимально необходимого значения <4500"
      ]
    },
    {
      "cell_type": "code",
      "execution_count": null,
      "metadata": {
        "id": "9fkSyLvjey_T"
      },
      "outputs": [],
      "source": []
    },
    {
      "cell_type": "markdown",
      "metadata": {
        "id": "KMegLDqMCevS"
      },
      "source": [
        "  ### BatchSize"
      ]
    },
    {
      "cell_type": "code",
      "execution_count": null,
      "metadata": {
        "colab": {
          "base_uri": "https://localhost:8080/"
        },
        "id": "w_9cmWA6tIXn",
        "outputId": "a4136acc-e9f0-46b7-baf5-3a2592540480"
      },
      "outputs": [
        {
          "output_type": "stream",
          "name": "stdout",
          "text": [
            "Epoch [1000/15000], Loss: 20251466.0\n",
            "Epoch [2000/15000], Loss: 15955332.0\n",
            "Epoch [3000/15000], Loss: 14689993.0\n",
            "Epoch [4000/15000], Loss: 14075888.0\n",
            "Epoch [5000/15000], Loss: 12422564.0\n",
            "Epoch [6000/15000], Loss: 11253836.0\n",
            "Epoch [7000/15000], Loss: 10271275.0\n",
            "Epoch [8000/15000], Loss: 9345365.0\n",
            "Epoch [9000/15000], Loss: 8613455.0\n",
            "Epoch [10000/15000], Loss: 8032497.0\n",
            "Epoch [11000/15000], Loss: 7336013.5\n",
            "Epoch [12000/15000], Loss: 6624045.5\n",
            "Epoch [13000/15000], Loss: 6078461.0\n",
            "Epoch [14000/15000], Loss: 5579526.0\n",
            "Epoch [15000/15000], Loss: 5129541.0\n",
            "Epoch [1000/15000], Loss: 20245166.0\n",
            "Epoch [2000/15000], Loss: 15952692.0\n",
            "Epoch [3000/15000], Loss: 14744306.0\n",
            "Epoch [4000/15000], Loss: 14100443.0\n",
            "Epoch [5000/15000], Loss: 12378628.0\n",
            "Epoch [6000/15000], Loss: 11181564.0\n",
            "Epoch [7000/15000], Loss: 10264905.0\n",
            "Epoch [8000/15000], Loss: 9306709.0\n",
            "Epoch [9000/15000], Loss: 8662702.0\n",
            "Epoch [10000/15000], Loss: 8301183.0\n",
            "Epoch [11000/15000], Loss: 7557146.0\n",
            "Epoch [12000/15000], Loss: 6875776.5\n",
            "Epoch [13000/15000], Loss: 6271694.5\n",
            "Epoch [14000/15000], Loss: 5732796.0\n",
            "Epoch [15000/15000], Loss: 5247454.0\n",
            "Epoch [1000/15000], Loss: 20311182.0\n",
            "Epoch [2000/15000], Loss: 15933044.0\n",
            "Epoch [3000/15000], Loss: 14674716.0\n",
            "Epoch [4000/15000], Loss: 14083491.0\n",
            "Epoch [5000/15000], Loss: 12200179.0\n",
            "Epoch [6000/15000], Loss: 11164398.0\n",
            "Epoch [7000/15000], Loss: 10228402.0\n",
            "Epoch [8000/15000], Loss: 9229890.0\n",
            "Epoch [9000/15000], Loss: 8566827.0\n",
            "Epoch [10000/15000], Loss: 8115066.0\n",
            "Epoch [11000/15000], Loss: 7408722.0\n",
            "Epoch [12000/15000], Loss: 6466004.0\n",
            "Epoch [13000/15000], Loss: 5658261.5\n",
            "Epoch [14000/15000], Loss: 4968454.0\n",
            "Epoch [15000/15000], Loss: 4352528.5\n",
            "Best Batch Size: 43, Best RMSE: 5454.596593699666\n"
          ]
        }
      ],
      "source": [
        "batch_sizes = [int(0.1*len(train)),\n",
        "               int(0.3*len(train)),\n",
        "               int(0.5*len(train))]\n",
        "\n",
        "input_neurons = X_train.shape[1]\n",
        "\n",
        "batch_rmse = float('inf')\n",
        "\n",
        "best_batch_size = None\n",
        "\n",
        "for batch_size in batch_sizes:\n",
        "\n",
        "    # Создание и обучение модели\n",
        "    model = BaselineModel(input_neurons, hidden_neurons, output_neurons)\n",
        "    optimizer = torch.optim.Adam(model.parameters(), lr=0.01)\n",
        "\n",
        "    for epoch in range(num_epochs):\n",
        "        outputs = model(X_train)\n",
        "        loss_train = loss(outputs, y_train)\n",
        "\n",
        "        optimizer.zero_grad()\n",
        "        loss_train.backward()\n",
        "        optimizer.step()\n",
        "\n",
        "        if (epoch + 1) % 1000 == 0:\n",
        "            model.eval()\n",
        "            print(f'Epoch [{epoch + 1}/{num_epochs}], Loss: {loss_train.item()}')\n",
        "            # Оценка модели на валидационных данных\n",
        "            with torch.no_grad():\n",
        "              valid_outputs = model(X_valid)\n",
        "              valid_loss = loss(valid_outputs, y_valid)\n",
        "              rmse = np.sqrt(valid_loss.item())\n",
        "\n",
        "    # Сравнение RMSE с лучшим результатом\n",
        "    if rmse < batch_rmse:\n",
        "        batch_rmse = rmse\n",
        "        best_batch_size = batch_size\n",
        "\n",
        "print(f'Best Batch Size: {best_batch_size}, Best RMSE: {batch_rmse}')"
      ]
    },
    {
      "cell_type": "code",
      "execution_count": null,
      "metadata": {
        "colab": {
          "base_uri": "https://localhost:8080/"
        },
        "id": "Xvd8swi_xeop",
        "outputId": "cb77f35c-b4ac-48a6-8d88-5899b4e8a7a9"
      },
      "outputs": [
        {
          "output_type": "stream",
          "name": "stdout",
          "text": [
            "Лучший batch_sizes_rmse: 5454.596593699666\n",
            "Лучшие параметры:  Batch Size = 43\n"
          ]
        }
      ],
      "source": [
        "print(f'Лучший batch_sizes_rmse: {batch_rmse}')\n",
        "print(f'Лучшие параметры:  Batch Size = {best_batch_size}')"
      ]
    },
    {
      "cell_type": "code",
      "execution_count": null,
      "metadata": {
        "colab": {
          "base_uri": "https://localhost:8080/"
        },
        "id": "5EaM37w6VVAm",
        "outputId": "c793eed5-b02a-4149-9258-1292e8c81537"
      },
      "outputs": [
        {
          "output_type": "execute_result",
          "data": {
            "text/plain": [
              "[['rmse_baseline', 5266.003608050416],\n",
              " ['dropout_rmse', 4348.176859328516],\n",
              " ['batch_sizes_rmse', 5454.596593699666]]"
            ]
          },
          "metadata": {},
          "execution_count": 46
        }
      ],
      "source": [
        "result.append(['batch_sizes_rmse', batch_rmse])\n",
        "result"
      ]
    },
    {
      "cell_type": "code",
      "execution_count": null,
      "metadata": {
        "colab": {
          "base_uri": "https://localhost:8080/",
          "height": 476
        },
        "id": "dKjMDRFcVabf",
        "outputId": "0166c45c-a511-4e95-ca8e-7f73cf416d61"
      },
      "outputs": [
        {
          "output_type": "display_data",
          "data": {
            "text/plain": [
              "<Figure size 800x400 with 1 Axes>"
            ],
            "image/png": "[encoded data removed]"
          },
          "metadata": {}
        }
      ],
      "source": [
        "plot(y_valid, valid_outputs, 'Batchsize')"
      ]
    },
    {
      "cell_type": "markdown",
      "metadata": {
        "id": "P7AVE67JgLUc"
      },
      "source": [
        "Видим, что только параметра batchsize недостаточно для достижения требуемой метрики."
      ]
    },
    {
      "cell_type": "code",
      "execution_count": null,
      "metadata": {
        "id": "oypj5V2EXG61"
      },
      "outputs": [],
      "source": []
    },
    {
      "cell_type": "markdown",
      "metadata": {
        "id": "828uuFSLBi4s"
      },
      "source": [
        "### Аугментация данных"
      ]
    },
    {
      "cell_type": "markdown",
      "metadata": {
        "id": "VPdX8CUOizX9"
      },
      "source": [
        "Метрику мы будем сравнивать на baseline модели, предсказывая по valid выборке исходного датасета."
      ]
    },
    {
      "cell_type": "markdown",
      "metadata": {
        "id": "4RBTjDNOp2Wi"
      },
      "source": [
        "###Синтетическая Генерация Данных"
      ]
    },
    {
      "cell_type": "markdown",
      "metadata": {
        "id": "Ym1jAD67p_iB"
      },
      "source": [
        "Ниже приведена таблица с диапазонами характеристик для каждой звезды, мы будем создавать новые данные используя эту таблицу."
      ]
    },
    {
      "cell_type": "markdown",
      "metadata": {
        "id": "D2jmPvlHRDV-"
      },
      "source": [
        "| Температура (K) | Светимость (L/Lo) | Радиус (R/Ro) | Абсолютная звёздная величина (Mv) | Тип звезды | Цвет звезды |\n",
        "|-----------------|-------------------|---------------|------------------------------------|------------|-------------|\n",
        "| ~2,000 K        | 0.00001% - 0.1%   | 0.1 - 0.7     | Высокая отрицательная              | M (красные карлики) | Красные, оранжевые |\n",
        "| ~3,500 K        | 1% - 10%           | 0.7 - 1.0     | Низкая отрицательная               | K | Оранжевые, красные |\n",
        "| Очень высокая  | Очень низкая       | Сравним с Землёй | Высокая отрицательная | Белые карлики | Белые |\n",
        "| ~5,500 K        | 100%               | 1.0           | 4.83                               | G (похожие на Солнце) | Желтые |\n",
        "| ~10,000 K - несколько десятков тысяч K | >100 - несколько тысяч | >1 - несколько сотен | Низкая отрицательная | Горячие звёзды | Голубые, белые |\n",
        "| ~2,000 K - 1,000 K (обычно ниже) | Очень низкая - очень очень низкая | 0.01 - 0.1 (примерно) | Высокая отрицательная | Коричневые карлики | Коричневые |\n",
        "| Разнообразная  | Очень высокая - низкая | Разнообразный | Разнообразная | Гиганты (разных классов) | Разноцветные |\n",
        "| Разнообразная  | Очень высокая - низкая | Разнообразный | Разнообразная | Сверхгиганты | Разноцветные |\n",
        "| ~5,500 K        | Около 100%         | Около 1.0     | 4.83 | Звёзды главной последовательности | Желтые |\n"
      ]
    },
    {
      "cell_type": "code",
      "execution_count": null,
      "metadata": {
        "colab": {
          "base_uri": "https://localhost:8080/"
        },
        "id": "MmXeDxFqGqrz",
        "outputId": "21768a53-fb14-4f78-a18c-f625c8c4d726"
      },
      "outputs": [
        {
          "output_type": "execute_result",
          "data": {
            "text/plain": [
              "red                   0.466667\n",
              "blue                  0.233333\n",
              "blue_white            0.170833\n",
              "white                 0.041667\n",
              "yellow_white          0.033333\n",
              "yellowish_white       0.012500\n",
              "yellowish             0.012500\n",
              "whitish               0.008333\n",
              "orange                0.008333\n",
              "pale_yellow_orange    0.004167\n",
              "white_yellow          0.004167\n",
              "orange_red            0.004167\n",
              "Name: star_color, dtype: float64"
            ]
          },
          "metadata": {},
          "execution_count": 48
        }
      ],
      "source": [
        "data['star_color'].value_counts(normalize = True)"
      ]
    },
    {
      "cell_type": "code",
      "execution_count": null,
      "metadata": {
        "id": "iN8uGL1GxTc5"
      },
      "outputs": [],
      "source": [
        "synthetic_data = []\n",
        "\n",
        "n_samples = 200  # Общее количество сэмплов\n",
        "\n",
        "# Генерация данных для красных карликов (M-тип)\n",
        "n_samples_m = int(n_samples * 0.45)\n",
        "temperature_m = np.random.uniform(2000, 3500, n_samples_m)\n",
        "luminosity_m = np.random.uniform(0.00001, 0.1, n_samples_m)\n",
        "radius_m = np.random.uniform(0.1, 0.7, n_samples_m)\n",
        "magnitude_m = np.random.uniform(-11.92, -6.23, n_samples_m)\n",
        "star_type_m = [0] * n_samples_m  # добавляем тип звезды (0-6)\n",
        "star_color_m = ['red'] * n_samples_m\n",
        "\n",
        "# Генерация данных для оранжевых карликов (K-тип)\n",
        "n_samples_k = int(n_samples * 0.151)\n",
        "temperature_k = np.random.uniform(3500, 5500, n_samples_k)\n",
        "luminosity_k = np.random.uniform(0.01, 0.1, n_samples_k)\n",
        "radius_k = np.random.uniform(0.7, 1.0, n_samples_k)\n",
        "magnitude_k = np.random.uniform(-6.23, -2, n_samples_k)\n",
        "star_type_k = [1] * n_samples_k\n",
        "star_color_k = ['orange'] * n_samples_k\n",
        "\n",
        "# Генерация данных для белых карликов (группа \"Очень высокая\")\n",
        "n_samples_wd = int(n_samples * 0.16)\n",
        "temperature_wd = np.random.uniform(5500, 6000, n_samples_wd)\n",
        "luminosity_wd = np.random.uniform(0.99, 1.01, n_samples_wd)\n",
        "radius_wd = np.random.uniform(0.99, 1.01, n_samples_wd)\n",
        "magnitude_wd = np.full(n_samples_wd, 4.83)\n",
        "star_type_wd = [2] * n_samples_wd\n",
        "star_color_wd = ['white'] * n_samples_wd\n",
        "\n",
        "# Генерация данных для звёзд главной последовательности (G-тип)\n",
        "n_samples_g = int(n_samples * 0.09)\n",
        "temperature_g = np.random.uniform(5500, 5700, n_samples_g)\n",
        "luminosity_g = np.random.uniform(0.99, 1.01, n_samples_g)\n",
        "radius_g = np.random.uniform(0.99, 1.01, n_samples_g)\n",
        "magnitude_g = np.full(n_samples_g, 4.83)\n",
        "star_type_g = [3] * n_samples_g\n",
        "star_color_g = ['yellow'] * n_samples_g\n",
        "\n",
        "# Генерация данных для горячих звёзд\n",
        "n_samples_hot = int(n_samples * 0.3)\n",
        "temperature_hot = np.random.uniform(10000, 30000, n_samples_hot)\n",
        "luminosity_hot = np.random.uniform(100, 3000, n_samples_hot)\n",
        "radius_hot = np.random.uniform(10, 100, n_samples_hot)\n",
        "magnitude_hot = np.random.uniform(-11.92, -6.23, n_samples_hot)\n",
        "star_type_hot = [4] * n_samples_hot\n",
        "star_color_hot = ['blue'] * n_samples_hot\n",
        "\n",
        "# Генерация данных для коричневых карликов (L-тип)\n",
        "n_samples_l = int(n_samples * 0.06)\n",
        "temperature_l = np.random.uniform(1000, 2000, n_samples_l)\n",
        "luminosity_l = np.random.uniform(0.00000001, 0.0000001, n_samples_l)\n",
        "radius_l = np.random.uniform(0.01, 0.1, n_samples_l)\n",
        "magnitude_l = np.random.uniform(-11.92, -6.23, n_samples_l)\n",
        "star_type_l = [5] * n_samples_l\n",
        "star_color_l = ['blue_white'] * n_samples_l\n",
        "\n",
        "# создаем новый df\n",
        "synthetic_data = pd.DataFrame({\n",
        "    'temperature': np.concatenate((temperature_m,\n",
        "                                   temperature_k,\n",
        "                                   temperature_wd,\n",
        "                                   temperature_g,\n",
        "                                   temperature_hot,\n",
        "                                   temperature_l)),\n",
        "\n",
        "    'luminosity': np.concatenate((luminosity_m,\n",
        "                                  luminosity_k,\n",
        "                                  luminosity_wd,\n",
        "                                  luminosity_g,\n",
        "                                  luminosity_hot,\n",
        "                                  luminosity_l)),\n",
        "\n",
        "    'radius': np.concatenate((radius_m,\n",
        "                              radius_k,\n",
        "                              radius_wd,\n",
        "                              radius_g,\n",
        "                              radius_hot,\n",
        "                              radius_l)),\n",
        "\n",
        "    'magnitude': np.concatenate((magnitude_m,\n",
        "                                 magnitude_k,\n",
        "                                 magnitude_wd,\n",
        "                                 magnitude_g,\n",
        "                                 magnitude_hot,\n",
        "                                 magnitude_l)),\n",
        "\n",
        "    'star_type': np.concatenate((star_type_m,\n",
        "                                 star_type_k,\n",
        "                                 star_type_wd,\n",
        "                                 star_type_g,\n",
        "                                 star_type_hot,\n",
        "                                 star_type_l)),\n",
        "\n",
        "    'star_color': np.concatenate((star_color_m,\n",
        "                                  star_color_k,\n",
        "                                  star_color_wd,\n",
        "                                  star_color_g,\n",
        "                                  star_color_hot,\n",
        "                                  star_color_l))\n",
        "})\n",
        "\n",
        "# перемешиваем\n",
        "synthetic_data = synthetic_data.sample(frac=1).reset_index(drop=True)"
      ]
    },
    {
      "cell_type": "code",
      "execution_count": null,
      "metadata": {
        "colab": {
          "base_uri": "https://localhost:8080/"
        },
        "id": "jxNWQZPEXzFj",
        "outputId": "82d2d5ca-74f1-4620-fd3b-a216a1faf254"
      },
      "outputs": [
        {
          "output_type": "stream",
          "name": "stdout",
          "text": [
            "<class 'pandas.core.frame.DataFrame'>\n",
            "RangeIndex: 242 entries, 0 to 241\n",
            "Data columns (total 6 columns):\n",
            " #   Column       Non-Null Count  Dtype  \n",
            "---  ------       --------------  -----  \n",
            " 0   temperature  242 non-null    float64\n",
            " 1   luminosity   242 non-null    float64\n",
            " 2   radius       242 non-null    float64\n",
            " 3   magnitude    242 non-null    float64\n",
            " 4   star_type    242 non-null    int64  \n",
            " 5   star_color   242 non-null    object \n",
            "dtypes: float64(4), int64(1), object(1)\n",
            "memory usage: 11.5+ KB\n"
          ]
        }
      ],
      "source": [
        "synthetic_data.info()"
      ]
    },
    {
      "cell_type": "code",
      "execution_count": null,
      "metadata": {
        "colab": {
          "base_uri": "https://localhost:8080/",
          "height": 300
        },
        "id": "F6BeVK1Z3jmS",
        "outputId": "5b89b5d2-9d03-469a-f486-6164fd0afdf5"
      },
      "outputs": [
        {
          "output_type": "execute_result",
          "data": {
            "text/plain": [
              "        temperature    luminosity      radius   magnitude   star_type\n",
              "count    242.000000  2.420000e+02  242.000000  242.000000  242.000000\n",
              "mean    7554.129521  3.815575e+02   14.925576   -5.672395    1.851240\n",
              "std     7316.880469  7.722637e+02   27.963584    5.793407    1.764854\n",
              "min     1025.386356  1.177395e-08    0.011170  -11.893644    0.000000\n",
              "25%     2773.539251  4.121987e-02    0.478978   -9.733268    0.000000\n",
              "50%     4879.743939  9.135707e-02    0.911082   -8.052190    2.000000\n",
              "75%     5991.628380  1.009979e+00    1.008847   -3.553468    4.000000\n",
              "max    29730.304976  2.970885e+03   95.255501    4.830000    5.000000"
            ],
            "text/html": [
              "\n",
              "  <div id=\"df-51a2d737-ae6c-4bc3-8dd2-48bf03f27652\" class=\"colab-df-container\">\n",
              "    <div>\n",
              "<style scoped>\n",
              "    .dataframe tbody tr th:only-of-type {\n",
              "        vertical-align: middle;\n",
              "    }\n",
              "\n",
              "    .dataframe tbody tr th {\n",
              "        vertical-align: top;\n",
              "    }\n",
              "\n",
              "    .dataframe thead th {\n",
              "        text-align: right;\n",
              "    }\n",
              "</style>\n",
              "<table border=\"1\" class=\"dataframe\">\n",
              "  <thead>\n",
              "    <tr style=\"text-align: right;\">\n",
              "      <th></th>\n",
              "      <th>temperature</th>\n",
              "      <th>luminosity</th>\n",
              "      <th>radius</th>\n",
              "      <th>magnitude</th>\n",
              "      <th>star_type</th>\n",
              "    </tr>\n",
              "  </thead>\n",
              "  <tbody>\n",
              "    <tr>\n",
              "      <th>count</th>\n",
              "      <td>242.000000</td>\n",
              "      <td>2.420000e+02</td>\n",
              "      <td>242.000000</td>\n",
              "      <td>242.000000</td>\n",
              "      <td>242.000000</td>\n",
              "    </tr>\n",
              "    <tr>\n",
              "      <th>mean</th>\n",
              "      <td>7554.129521</td>\n",
              "      <td>3.815575e+02</td>\n",
              "      <td>14.925576</td>\n",
              "      <td>-5.672395</td>\n",
              "      <td>1.851240</td>\n",
              "    </tr>\n",
              "    <tr>\n",
              "      <th>std</th>\n",
              "      <td>7316.880469</td>\n",
              "      <td>7.722637e+02</td>\n",
              "      <td>27.963584</td>\n",
              "      <td>5.793407</td>\n",
              "      <td>1.764854</td>\n",
              "    </tr>\n",
              "    <tr>\n",
              "      <th>min</th>\n",
              "      <td>1025.386356</td>\n",
              "      <td>1.177395e-08</td>\n",
              "      <td>0.011170</td>\n",
              "      <td>-11.893644</td>\n",
              "      <td>0.000000</td>\n",
              "    </tr>\n",
              "    <tr>\n",
              "      <th>25%</th>\n",
              "      <td>2773.539251</td>\n",
              "      <td>4.121987e-02</td>\n",
              "      <td>0.478978</td>\n",
              "      <td>-9.733268</td>\n",
              "      <td>0.000000</td>\n",
              "    </tr>\n",
              "    <tr>\n",
              "      <th>50%</th>\n",
              "      <td>4879.743939</td>\n",
              "      <td>9.135707e-02</td>\n",
              "      <td>0.911082</td>\n",
              "      <td>-8.052190</td>\n",
              "      <td>2.000000</td>\n",
              "    </tr>\n",
              "    <tr>\n",
              "      <th>75%</th>\n",
              "      <td>5991.628380</td>\n",
              "      <td>1.009979e+00</td>\n",
              "      <td>1.008847</td>\n",
              "      <td>-3.553468</td>\n",
              "      <td>4.000000</td>\n",
              "    </tr>\n",
              "    <tr>\n",
              "      <th>max</th>\n",
              "      <td>29730.304976</td>\n",
              "      <td>2.970885e+03</td>\n",
              "      <td>95.255501</td>\n",
              "      <td>4.830000</td>\n",
              "      <td>5.000000</td>\n",
              "    </tr>\n",
              "  </tbody>\n",
              "</table>\n",
              "</div>\n",
              "    <div class=\"colab-df-buttons\">\n",
              "\n",
              "  <div class=\"colab-df-container\">\n",
              "    <button class=\"colab-df-convert\" onclick=\"convertToInteractive('df-51a2d737-ae6c-4bc3-8dd2-48bf03f27652')\"\n",
              "            title=\"Convert this dataframe to an interactive table.\"\n",
              "            style=\"display:none;\">\n",
              "\n",
              "  <svg xmlns=\"http://www.w3.org/2000/svg\" height=\"24px\" viewBox=\"0 -960 960 960\">\n",
              "    <path d=\"M120-120v-720h720v720H120Zm60-500h600v-160H180v160Zm220 220h160v-160H400v160Zm0 220h160v-160H400v160ZM180-400h160v-160H180v160Zm440 0h160v-160H620v160ZM180-180h160v-160H180v160Zm440 0h160v-160H620v160Z\"/>\n",
              "  </svg>\n",
              "    </button>\n",
              "\n",
              "  <style>\n",
              "    .colab-df-container {\n",
              "      display:flex;\n",
              "      gap: 12px;\n",
              "    }\n",
              "\n",
              "    .colab-df-convert {\n",
              "      background-color: #E8F0FE;\n",
              "      border: none;\n",
              "      border-radius: 50%;\n",
              "      cursor: pointer;\n",
              "      display: none;\n",
              "      fill: #1967D2;\n",
              "      height: 32px;\n",
              "      padding: 0 0 0 0;\n",
              "      width: 32px;\n",
              "    }\n",
              "\n",
              "    .colab-df-convert:hover {\n",
              "      background-color: #E2EBFA;\n",
              "      box-shadow: 0px 1px 2px rgba(60, 64, 67, 0.3), 0px 1px 3px 1px rgba(60, 64, 67, 0.15);\n",
              "      fill: #174EA6;\n",
              "    }\n",
              "\n",
              "    .colab-df-buttons div {\n",
              "      margin-bottom: 4px;\n",
              "    }\n",
              "\n",
              "    [theme=dark] .colab-df-convert {\n",
              "      background-color: #3B4455;\n",
              "      fill: #D2E3FC;\n",
              "    }\n",
              "\n",
              "    [theme=dark] .colab-df-convert:hover {\n",
              "      background-color: #434B5C;\n",
              "      box-shadow: 0px 1px 3px 1px rgba(0, 0, 0, 0.15);\n",
              "      filter: drop-shadow(0px 1px 2px rgba(0, 0, 0, 0.3));\n",
              "      fill: #FFFFFF;\n",
              "    }\n",
              "  </style>\n",
              "\n",
              "    <script>\n",
              "      const buttonEl =\n",
              "        document.querySelector('#df-51a2d737-ae6c-4bc3-8dd2-48bf03f27652 button.colab-df-convert');\n",
              "      buttonEl.style.display =\n",
              "        google.colab.kernel.accessAllowed ? 'block' : 'none';\n",
              "\n",
              "      async function convertToInteractive(key) {\n",
              "        const element = document.querySelector('#df-51a2d737-ae6c-4bc3-8dd2-48bf03f27652');\n",
              "        const dataTable =\n",
              "          await google.colab.kernel.invokeFunction('convertToInteractive',\n",
              "                                                    [key], {});\n",
              "        if (!dataTable) return;\n",
              "\n",
              "        const docLinkHtml = 'Like what you see? Visit the ' +\n",
              "          '<a target=\"_blank\" href=https://colab.research.google.com/notebooks/data_table.ipynb>data table notebook</a>'\n",
              "          + ' to learn more about interactive tables.';\n",
              "        element.innerHTML = '';\n",
              "        dataTable['output_type'] = 'display_data';\n",
              "        await google.colab.output.renderOutput(dataTable, element);\n",
              "        const docLink = document.createElement('div');\n",
              "        docLink.innerHTML = docLinkHtml;\n",
              "        element.appendChild(docLink);\n",
              "      }\n",
              "    </script>\n",
              "  </div>\n",
              "\n",
              "\n",
              "<div id=\"df-a1ee66b9-c0d5-41a3-bf7a-89151824da70\">\n",
              "  <button class=\"colab-df-quickchart\" onclick=\"quickchart('df-a1ee66b9-c0d5-41a3-bf7a-89151824da70')\"\n",
              "            title=\"Suggest charts.\"\n",
              "            style=\"display:none;\">\n",
              "\n",
              "<svg xmlns=\"http://www.w3.org/2000/svg\" height=\"24px\"viewBox=\"0 0 24 24\"\n",
              "     width=\"24px\">\n",
              "    <g>\n",
              "        <path d=\"M19 3H5c-1.1 0-2 .9-2 2v14c0 1.1.9 2 2 2h14c1.1 0 2-.9 2-2V5c0-1.1-.9-2-2-2zM9 17H7v-7h2v7zm4 0h-2V7h2v10zm4 0h-2v-4h2v4z\"/>\n",
              "    </g>\n",
              "</svg>\n",
              "  </button>\n",
              "\n",
              "<style>\n",
              "  .colab-df-quickchart {\n",
              "      --bg-color: #E8F0FE;\n",
              "      --fill-color: #1967D2;\n",
              "      --hover-bg-color: #E2EBFA;\n",
              "      --hover-fill-color: #174EA6;\n",
              "      --disabled-fill-color: #AAA;\n",
              "      --disabled-bg-color: #DDD;\n",
              "  }\n",
              "\n",
              "  [theme=dark] .colab-df-quickchart {\n",
              "      --bg-color: #3B4455;\n",
              "      --fill-color: #D2E3FC;\n",
              "      --hover-bg-color: #434B5C;\n",
              "      --hover-fill-color: #FFFFFF;\n",
              "      --disabled-bg-color: #3B4455;\n",
              "      --disabled-fill-color: #666;\n",
              "  }\n",
              "\n",
              "  .colab-df-quickchart {\n",
              "    background-color: var(--bg-color);\n",
              "    border: none;\n",
              "    border-radius: 50%;\n",
              "    cursor: pointer;\n",
              "    display: none;\n",
              "    fill: var(--fill-color);\n",
              "    height: 32px;\n",
              "    padding: 0;\n",
              "    width: 32px;\n",
              "  }\n",
              "\n",
              "  .colab-df-quickchart:hover {\n",
              "    background-color: var(--hover-bg-color);\n",
              "    box-shadow: 0 1px 2px rgba(60, 64, 67, 0.3), 0 1px 3px 1px rgba(60, 64, 67, 0.15);\n",
              "    fill: var(--button-hover-fill-color);\n",
              "  }\n",
              "\n",
              "  .colab-df-quickchart-complete:disabled,\n",
              "  .colab-df-quickchart-complete:disabled:hover {\n",
              "    background-color: var(--disabled-bg-color);\n",
              "    fill: var(--disabled-fill-color);\n",
              "    box-shadow: none;\n",
              "  }\n",
              "\n",
              "  .colab-df-spinner {\n",
              "    border: 2px solid var(--fill-color);\n",
              "    border-color: transparent;\n",
              "    border-bottom-color: var(--fill-color);\n",
              "    animation:\n",
              "      spin 1s steps(1) infinite;\n",
              "  }\n",
              "\n",
              "  @keyframes spin {\n",
              "    0% {\n",
              "      border-color: transparent;\n",
              "      border-bottom-color: var(--fill-color);\n",
              "      border-left-color: var(--fill-color);\n",
              "    }\n",
              "    20% {\n",
              "      border-color: transparent;\n",
              "      border-left-color: var(--fill-color);\n",
              "      border-top-color: var(--fill-color);\n",
              "    }\n",
              "    30% {\n",
              "      border-color: transparent;\n",
              "      border-left-color: var(--fill-color);\n",
              "      border-top-color: var(--fill-color);\n",
              "      border-right-color: var(--fill-color);\n",
              "    }\n",
              "    40% {\n",
              "      border-color: transparent;\n",
              "      border-right-color: var(--fill-color);\n",
              "      border-top-color: var(--fill-color);\n",
              "    }\n",
              "    60% {\n",
              "      border-color: transparent;\n",
              "      border-right-color: var(--fill-color);\n",
              "    }\n",
              "    80% {\n",
              "      border-color: transparent;\n",
              "      border-right-color: var(--fill-color);\n",
              "      border-bottom-color: var(--fill-color);\n",
              "    }\n",
              "    90% {\n",
              "      border-color: transparent;\n",
              "      border-bottom-color: var(--fill-color);\n",
              "    }\n",
              "  }\n",
              "</style>\n",
              "\n",
              "  <script>\n",
              "    async function quickchart(key) {\n",
              "      const quickchartButtonEl =\n",
              "        document.querySelector('#' + key + ' button');\n",
              "      quickchartButtonEl.disabled = true;  // To prevent multiple clicks.\n",
              "      quickchartButtonEl.classList.add('colab-df-spinner');\n",
              "      try {\n",
              "        const charts = await google.colab.kernel.invokeFunction(\n",
              "            'suggestCharts', [key], {});\n",
              "      } catch (error) {\n",
              "        console.error('Error during call to suggestCharts:', error);\n",
              "      }\n",
              "      quickchartButtonEl.classList.remove('colab-df-spinner');\n",
              "      quickchartButtonEl.classList.add('colab-df-quickchart-complete');\n",
              "    }\n",
              "    (() => {\n",
              "      let quickchartButtonEl =\n",
              "        document.querySelector('#df-a1ee66b9-c0d5-41a3-bf7a-89151824da70 button');\n",
              "      quickchartButtonEl.style.display =\n",
              "        google.colab.kernel.accessAllowed ? 'block' : 'none';\n",
              "    })();\n",
              "  </script>\n",
              "</div>\n",
              "    </div>\n",
              "  </div>\n"
            ]
          },
          "metadata": {},
          "execution_count": 51
        }
      ],
      "source": [
        "synthetic_data.describe()"
      ]
    },
    {
      "cell_type": "code",
      "execution_count": null,
      "metadata": {
        "colab": {
          "base_uri": "https://localhost:8080/"
        },
        "id": "BIxT85MD3nV0",
        "outputId": "e541248f-aa0a-4945-e459-c67e18248b86"
      },
      "outputs": [
        {
          "output_type": "execute_result",
          "data": {
            "text/plain": [
              "red                   0.466667\n",
              "blue                  0.233333\n",
              "blue_white            0.170833\n",
              "white                 0.041667\n",
              "yellow_white          0.033333\n",
              "yellowish_white       0.012500\n",
              "yellowish             0.012500\n",
              "whitish               0.008333\n",
              "orange                0.008333\n",
              "pale_yellow_orange    0.004167\n",
              "white_yellow          0.004167\n",
              "orange_red            0.004167\n",
              "Name: star_color, dtype: float64"
            ]
          },
          "metadata": {},
          "execution_count": 52
        }
      ],
      "source": [
        "data['star_color'].value_counts(normalize = True)"
      ]
    },
    {
      "cell_type": "code",
      "execution_count": null,
      "metadata": {
        "id": "zi5tikBhbg52"
      },
      "outputs": [],
      "source": []
    },
    {
      "cell_type": "markdown",
      "metadata": {
        "id": "IMGugK_lc5Tl"
      },
      "source": [
        "#### модель на синт данных"
      ]
    },
    {
      "cell_type": "markdown",
      "metadata": {
        "id": "R6E76usBgoeE"
      },
      "source": [
        "Оставим в исходном датасете только объекты train выборки, чтобы можно было верно интерпретировать итоговые предсказания."
      ]
    },
    {
      "cell_type": "code",
      "execution_count": null,
      "metadata": {
        "colab": {
          "base_uri": "https://localhost:8080/"
        },
        "id": "7iDPIhOOi9-P",
        "outputId": "c6235d7d-d020-4e92-fc25-36b981353d34"
      },
      "outputs": [
        {
          "output_type": "execute_result",
          "data": {
            "text/plain": [
              "array([176, 109,  15,  79,   9,  82, 233, 120, 192, 142, 115, 190, 224,\n",
              "        16, 204,  68, 165, 108, 126,  51,   5, 112,  73, 139, 208, 219,\n",
              "        25, 223, 136,  67,  65,  55, 153,   6, 207,  19,  93,  30,  35,\n",
              "        75,  12, 212, 127,  95, 111, 113, 161, 186])"
            ]
          },
          "metadata": {},
          "execution_count": 53
        }
      ],
      "source": [
        "np.array(valid_index)"
      ]
    },
    {
      "cell_type": "code",
      "execution_count": null,
      "metadata": {
        "id": "dj1BYybmhBcO"
      },
      "outputs": [],
      "source": [
        "index_drop = np.concatenate([np.array(valid_index), np.array(test_index)])\n"
      ]
    },
    {
      "cell_type": "code",
      "execution_count": null,
      "metadata": {
        "id": "CGiQW8Epg0_2"
      },
      "outputs": [],
      "source": [
        "data_train = data.drop(index = list(index_drop))"
      ]
    },
    {
      "cell_type": "code",
      "execution_count": null,
      "metadata": {
        "id": "7KyyGTerAEKc"
      },
      "outputs": [],
      "source": [
        "train = pd.concat([synthetic_data,data_train],ignore_index=True)\n",
        "valid = valid"
      ]
    },
    {
      "cell_type": "code",
      "execution_count": null,
      "metadata": {
        "colab": {
          "base_uri": "https://localhost:8080/"
        },
        "id": "WeshPZdofEVl",
        "outputId": "a38cfeca-5e9f-4a58-c7c0-eb924dd1a6aa"
      },
      "outputs": [
        {
          "output_type": "stream",
          "name": "stdout",
          "text": [
            "torch.Size([386, 15])\n",
            "\n",
            "torch.Size([48, 15])\n"
          ]
        }
      ],
      "source": [
        "X_train = torch.Tensor(column_transformer.fit_transform(train[X]))\n",
        "X_valid = torch.Tensor(column_transformer.transform(valid[X]))\n",
        "\n",
        "y_train = torch.Tensor(train[y].values).reshape(-1, 1)\n",
        "y_valid = torch.Tensor(valid[y].values).reshape(-1, 1)\n",
        "\n",
        "print(X_train.size())\n",
        "print()\n",
        "print(X_valid.size())"
      ]
    },
    {
      "cell_type": "code",
      "execution_count": null,
      "metadata": {
        "id": "fwfgKP924o6q"
      },
      "outputs": [],
      "source": [
        "input_neurons = X_train.shape[1]\n",
        "\n",
        "model = BaselineModel(input_neurons,\n",
        "                      hidden_neurons,\n",
        "                      output_neurons)\n",
        "\n",
        "optimizer = torch.optim.Adam(model.parameters(), lr=0.01)"
      ]
    },
    {
      "cell_type": "code",
      "execution_count": null,
      "metadata": {
        "colab": {
          "base_uri": "https://localhost:8080/"
        },
        "id": "uDWsKnsXdMpz",
        "outputId": "b6d782d1-d782-4f36-b550-3853a63ea596"
      },
      "outputs": [
        {
          "output_type": "stream",
          "name": "stdout",
          "text": [
            "Epoch [1000/15000], Loss: 17441806.0\n",
            "Valid Loss: 4707.427322859058\n",
            "Epoch [2000/15000], Loss: 14221971.0\n",
            "Valid Loss: 4566.676472008938\n",
            "Epoch [3000/15000], Loss: 12948821.0\n",
            "Valid Loss: 4285.005250871928\n",
            "Epoch [4000/15000], Loss: 12339887.0\n",
            "Valid Loss: 4105.995129076507\n",
            "Epoch [5000/15000], Loss: 11943482.0\n",
            "Valid Loss: 4024.0984083394383\n",
            "Epoch [6000/15000], Loss: 11635776.0\n",
            "Valid Loss: 4005.41695707201\n",
            "Epoch [7000/15000], Loss: 11458361.0\n",
            "Valid Loss: 4013.5884193574207\n",
            "Epoch [8000/15000], Loss: 11149125.0\n",
            "Valid Loss: 4062.653689400562\n",
            "Epoch [9000/15000], Loss: 10497981.0\n",
            "Valid Loss: 4157.368879471726\n",
            "Epoch [10000/15000], Loss: 9963644.0\n",
            "Valid Loss: 4178.1328365670715\n",
            "Epoch [11000/15000], Loss: 9276578.0\n",
            "Valid Loss: 4222.126952141539\n",
            "Epoch [12000/15000], Loss: 8515475.0\n",
            "Valid Loss: 4358.566278032261\n",
            "Epoch [13000/15000], Loss: 7956380.5\n",
            "Valid Loss: 4557.2300797743355\n",
            "Epoch [14000/15000], Loss: 7585221.5\n",
            "Valid Loss: 4871.929597192472\n",
            "Epoch [15000/15000], Loss: 7280997.0\n",
            "Valid Loss: 5169.350636201804\n"
          ]
        }
      ],
      "source": [
        "for epoch in range(num_epochs):\n",
        "\n",
        "    outputs = model(X_train)\n",
        "\n",
        "    # Вычисление потерь\n",
        "    loss_train = loss(outputs, y_train)\n",
        "\n",
        "    optimizer.zero_grad()\n",
        "    loss_train.backward()\n",
        "    optimizer.step()\n",
        "\n",
        "    if (epoch + 1) % 1000 == 0:\n",
        "        print(f'Epoch [{epoch + 1}/{num_epochs}], Loss: {loss_train.item()}')\n",
        "\n",
        "        model.eval()  # Перевести модель в режим оценки\n",
        "\n",
        "        with torch.no_grad():\n",
        "            valid_outputs = model(X_valid)\n",
        "            valid_loss = loss(valid_outputs, y_valid)\n",
        "\n",
        "        print(f'Valid Loss: {np.sqrt(valid_loss.item())}')"
      ]
    },
    {
      "cell_type": "code",
      "execution_count": null,
      "metadata": {
        "colab": {
          "base_uri": "https://localhost:8080/"
        },
        "id": "j5U2ajuRgUq9",
        "outputId": "66f362a6-2b51-4643-b6cf-d8d454c47310"
      },
      "outputs": [
        {
          "output_type": "execute_result",
          "data": {
            "text/plain": [
              "[['rmse_baseline', 5266.003608050416],\n",
              " ['dropout_rmse', 4348.176859328516],\n",
              " ['batch_sizes_rmse', 5454.596593699666],\n",
              " ['rmse_synthetic', 5169.350636201804]]"
            ]
          },
          "metadata": {},
          "execution_count": 60
        }
      ],
      "source": [
        "rmse_synthetic = np.sqrt(valid_loss.item())\n",
        "result.append(['rmse_synthetic', rmse_synthetic])\n",
        "result"
      ]
    },
    {
      "cell_type": "code",
      "execution_count": null,
      "metadata": {
        "colab": {
          "base_uri": "https://localhost:8080/",
          "height": 476
        },
        "id": "oXnxyKalZJMK",
        "outputId": "8e1e5248-8ba1-42c3-f2fc-7705b570cade"
      },
      "outputs": [
        {
          "output_type": "display_data",
          "data": {
            "text/plain": [
              "<Figure size 800x400 with 1 Axes>"
            ],
            "image/png": "[encoded data removed]"
          },
          "metadata": {}
        }
      ],
      "source": [
        "plot(y_valid, valid_outputs, 'Synthetic data')"
      ]
    },
    {
      "cell_type": "markdown",
      "metadata": {
        "id": "7GAFQ4GQtHzr"
      },
      "source": [
        "### Аугментация данных на основе исходного датасета"
      ]
    },
    {
      "cell_type": "code",
      "execution_count": null,
      "metadata": {
        "colab": {
          "base_uri": "https://localhost:8080/"
        },
        "id": "pPcrEYzQ73qU",
        "outputId": "c6e41281-c118-44e8-ccf7-6e4ca575b787"
      },
      "outputs": [
        {
          "output_type": "execute_result",
          "data": {
            "text/plain": [
              "['luminosity', 'radius', 'magnitude', 'star_type']"
            ]
          },
          "metadata": {},
          "execution_count": 62
        }
      ],
      "source": [
        "numerical"
      ]
    },
    {
      "cell_type": "code",
      "execution_count": null,
      "metadata": {
        "colab": {
          "base_uri": "https://localhost:8080/"
        },
        "id": "StIT0t6glaWn",
        "outputId": "cbf1744f-3314-4314-b848-28c0aa8a4459"
      },
      "outputs": [
        {
          "output_type": "execute_result",
          "data": {
            "text/plain": [
              "luminosity    179432.244940\n",
              "radius           517.155763\n",
              "magnitude         10.532512\n",
              "star_type          1.711394\n",
              "dtype: float64"
            ]
          },
          "metadata": {},
          "execution_count": 63
        }
      ],
      "source": [
        "data[numerical].std()"
      ]
    },
    {
      "cell_type": "code",
      "execution_count": null,
      "metadata": {
        "colab": {
          "base_uri": "https://localhost:8080/",
          "height": 206
        },
        "id": "vJDxmBOciOSL",
        "outputId": "26185e85-10ee-4ca3-d13f-7581f0e6f7c4"
      },
      "outputs": [
        {
          "output_type": "execute_result",
          "data": {
            "text/plain": [
              "   temperature  luminosity    radius  magnitude  star_type star_color\n",
              "0         3068    1.062491  1.202978  17.001363          0        red\n",
              "1         3042    1.084931  1.086967  17.603203          0        red\n",
              "2         2600    0.924804  1.060947  19.681586          0        red\n",
              "3         2800    1.003905  1.186375  17.601595          0        red\n",
              "4         1939    0.974593  1.146264  20.060000          0        red"
            ],
            "text/html": [
              "\n",
              "  <div id=\"df-10adc7f6-0ff6-4d3f-8d38-6defd2885d58\" class=\"colab-df-container\">\n",
              "    <div>\n",
              "<style scoped>\n",
              "    .dataframe tbody tr th:only-of-type {\n",
              "        vertical-align: middle;\n",
              "    }\n",
              "\n",
              "    .dataframe tbody tr th {\n",
              "        vertical-align: top;\n",
              "    }\n",
              "\n",
              "    .dataframe thead th {\n",
              "        text-align: right;\n",
              "    }\n",
              "</style>\n",
              "<table border=\"1\" class=\"dataframe\">\n",
              "  <thead>\n",
              "    <tr style=\"text-align: right;\">\n",
              "      <th></th>\n",
              "      <th>temperature</th>\n",
              "      <th>luminosity</th>\n",
              "      <th>radius</th>\n",
              "      <th>magnitude</th>\n",
              "      <th>star_type</th>\n",
              "      <th>star_color</th>\n",
              "    </tr>\n",
              "  </thead>\n",
              "  <tbody>\n",
              "    <tr>\n",
              "      <th>0</th>\n",
              "      <td>3068</td>\n",
              "      <td>1.062491</td>\n",
              "      <td>1.202978</td>\n",
              "      <td>17.001363</td>\n",
              "      <td>0</td>\n",
              "      <td>red</td>\n",
              "    </tr>\n",
              "    <tr>\n",
              "      <th>1</th>\n",
              "      <td>3042</td>\n",
              "      <td>1.084931</td>\n",
              "      <td>1.086967</td>\n",
              "      <td>17.603203</td>\n",
              "      <td>0</td>\n",
              "      <td>red</td>\n",
              "    </tr>\n",
              "    <tr>\n",
              "      <th>2</th>\n",
              "      <td>2600</td>\n",
              "      <td>0.924804</td>\n",
              "      <td>1.060947</td>\n",
              "      <td>19.681586</td>\n",
              "      <td>0</td>\n",
              "      <td>red</td>\n",
              "    </tr>\n",
              "    <tr>\n",
              "      <th>3</th>\n",
              "      <td>2800</td>\n",
              "      <td>1.003905</td>\n",
              "      <td>1.186375</td>\n",
              "      <td>17.601595</td>\n",
              "      <td>0</td>\n",
              "      <td>red</td>\n",
              "    </tr>\n",
              "    <tr>\n",
              "      <th>4</th>\n",
              "      <td>1939</td>\n",
              "      <td>0.974593</td>\n",
              "      <td>1.146264</td>\n",
              "      <td>20.060000</td>\n",
              "      <td>0</td>\n",
              "      <td>red</td>\n",
              "    </tr>\n",
              "  </tbody>\n",
              "</table>\n",
              "</div>\n",
              "    <div class=\"colab-df-buttons\">\n",
              "\n",
              "  <div class=\"colab-df-container\">\n",
              "    <button class=\"colab-df-convert\" onclick=\"convertToInteractive('df-10adc7f6-0ff6-4d3f-8d38-6defd2885d58')\"\n",
              "            title=\"Convert this dataframe to an interactive table.\"\n",
              "            style=\"display:none;\">\n",
              "\n",
              "  <svg xmlns=\"http://www.w3.org/2000/svg\" height=\"24px\" viewBox=\"0 -960 960 960\">\n",
              "    <path d=\"M120-120v-720h720v720H120Zm60-500h600v-160H180v160Zm220 220h160v-160H400v160Zm0 220h160v-160H400v160ZM180-400h160v-160H180v160Zm440 0h160v-160H620v160ZM180-180h160v-160H180v160Zm440 0h160v-160H620v160Z\"/>\n",
              "  </svg>\n",
              "    </button>\n",
              "\n",
              "  <style>\n",
              "    .colab-df-container {\n",
              "      display:flex;\n",
              "      gap: 12px;\n",
              "    }\n",
              "\n",
              "    .colab-df-convert {\n",
              "      background-color: #E8F0FE;\n",
              "      border: none;\n",
              "      border-radius: 50%;\n",
              "      cursor: pointer;\n",
              "      display: none;\n",
              "      fill: #1967D2;\n",
              "      height: 32px;\n",
              "      padding: 0 0 0 0;\n",
              "      width: 32px;\n",
              "    }\n",
              "\n",
              "    .colab-df-convert:hover {\n",
              "      background-color: #E2EBFA;\n",
              "      box-shadow: 0px 1px 2px rgba(60, 64, 67, 0.3), 0px 1px 3px 1px rgba(60, 64, 67, 0.15);\n",
              "      fill: #174EA6;\n",
              "    }\n",
              "\n",
              "    .colab-df-buttons div {\n",
              "      margin-bottom: 4px;\n",
              "    }\n",
              "\n",
              "    [theme=dark] .colab-df-convert {\n",
              "      background-color: #3B4455;\n",
              "      fill: #D2E3FC;\n",
              "    }\n",
              "\n",
              "    [theme=dark] .colab-df-convert:hover {\n",
              "      background-color: #434B5C;\n",
              "      box-shadow: 0px 1px 3px 1px rgba(0, 0, 0, 0.15);\n",
              "      filter: drop-shadow(0px 1px 2px rgba(0, 0, 0, 0.3));\n",
              "      fill: #FFFFFF;\n",
              "    }\n",
              "  </style>\n",
              "\n",
              "    <script>\n",
              "      const buttonEl =\n",
              "        document.querySelector('#df-10adc7f6-0ff6-4d3f-8d38-6defd2885d58 button.colab-df-convert');\n",
              "      buttonEl.style.display =\n",
              "        google.colab.kernel.accessAllowed ? 'block' : 'none';\n",
              "\n",
              "      async function convertToInteractive(key) {\n",
              "        const element = document.querySelector('#df-10adc7f6-0ff6-4d3f-8d38-6defd2885d58');\n",
              "        const dataTable =\n",
              "          await google.colab.kernel.invokeFunction('convertToInteractive',\n",
              "                                                    [key], {});\n",
              "        if (!dataTable) return;\n",
              "\n",
              "        const docLinkHtml = 'Like what you see? Visit the ' +\n",
              "          '<a target=\"_blank\" href=https://colab.research.google.com/notebooks/data_table.ipynb>data table notebook</a>'\n",
              "          + ' to learn more about interactive tables.';\n",
              "        element.innerHTML = '';\n",
              "        dataTable['output_type'] = 'display_data';\n",
              "        await google.colab.output.renderOutput(dataTable, element);\n",
              "        const docLink = document.createElement('div');\n",
              "        docLink.innerHTML = docLinkHtml;\n",
              "        element.appendChild(docLink);\n",
              "      }\n",
              "    </script>\n",
              "  </div>\n",
              "\n",
              "\n",
              "<div id=\"df-faecb4b8-9218-43ac-bf45-b7864aa8cb66\">\n",
              "  <button class=\"colab-df-quickchart\" onclick=\"quickchart('df-faecb4b8-9218-43ac-bf45-b7864aa8cb66')\"\n",
              "            title=\"Suggest charts.\"\n",
              "            style=\"display:none;\">\n",
              "\n",
              "<svg xmlns=\"http://www.w3.org/2000/svg\" height=\"24px\"viewBox=\"0 0 24 24\"\n",
              "     width=\"24px\">\n",
              "    <g>\n",
              "        <path d=\"M19 3H5c-1.1 0-2 .9-2 2v14c0 1.1.9 2 2 2h14c1.1 0 2-.9 2-2V5c0-1.1-.9-2-2-2zM9 17H7v-7h2v7zm4 0h-2V7h2v10zm4 0h-2v-4h2v4z\"/>\n",
              "    </g>\n",
              "</svg>\n",
              "  </button>\n",
              "\n",
              "<style>\n",
              "  .colab-df-quickchart {\n",
              "      --bg-color: #E8F0FE;\n",
              "      --fill-color: #1967D2;\n",
              "      --hover-bg-color: #E2EBFA;\n",
              "      --hover-fill-color: #174EA6;\n",
              "      --disabled-fill-color: #AAA;\n",
              "      --disabled-bg-color: #DDD;\n",
              "  }\n",
              "\n",
              "  [theme=dark] .colab-df-quickchart {\n",
              "      --bg-color: #3B4455;\n",
              "      --fill-color: #D2E3FC;\n",
              "      --hover-bg-color: #434B5C;\n",
              "      --hover-fill-color: #FFFFFF;\n",
              "      --disabled-bg-color: #3B4455;\n",
              "      --disabled-fill-color: #666;\n",
              "  }\n",
              "\n",
              "  .colab-df-quickchart {\n",
              "    background-color: var(--bg-color);\n",
              "    border: none;\n",
              "    border-radius: 50%;\n",
              "    cursor: pointer;\n",
              "    display: none;\n",
              "    fill: var(--fill-color);\n",
              "    height: 32px;\n",
              "    padding: 0;\n",
              "    width: 32px;\n",
              "  }\n",
              "\n",
              "  .colab-df-quickchart:hover {\n",
              "    background-color: var(--hover-bg-color);\n",
              "    box-shadow: 0 1px 2px rgba(60, 64, 67, 0.3), 0 1px 3px 1px rgba(60, 64, 67, 0.15);\n",
              "    fill: var(--button-hover-fill-color);\n",
              "  }\n",
              "\n",
              "  .colab-df-quickchart-complete:disabled,\n",
              "  .colab-df-quickchart-complete:disabled:hover {\n",
              "    background-color: var(--disabled-bg-color);\n",
              "    fill: var(--disabled-fill-color);\n",
              "    box-shadow: none;\n",
              "  }\n",
              "\n",
              "  .colab-df-spinner {\n",
              "    border: 2px solid var(--fill-color);\n",
              "    border-color: transparent;\n",
              "    border-bottom-color: var(--fill-color);\n",
              "    animation:\n",
              "      spin 1s steps(1) infinite;\n",
              "  }\n",
              "\n",
              "  @keyframes spin {\n",
              "    0% {\n",
              "      border-color: transparent;\n",
              "      border-bottom-color: var(--fill-color);\n",
              "      border-left-color: var(--fill-color);\n",
              "    }\n",
              "    20% {\n",
              "      border-color: transparent;\n",
              "      border-left-color: var(--fill-color);\n",
              "      border-top-color: var(--fill-color);\n",
              "    }\n",
              "    30% {\n",
              "      border-color: transparent;\n",
              "      border-left-color: var(--fill-color);\n",
              "      border-top-color: var(--fill-color);\n",
              "      border-right-color: var(--fill-color);\n",
              "    }\n",
              "    40% {\n",
              "      border-color: transparent;\n",
              "      border-right-color: var(--fill-color);\n",
              "      border-top-color: var(--fill-color);\n",
              "    }\n",
              "    60% {\n",
              "      border-color: transparent;\n",
              "      border-right-color: var(--fill-color);\n",
              "    }\n",
              "    80% {\n",
              "      border-color: transparent;\n",
              "      border-right-color: var(--fill-color);\n",
              "      border-bottom-color: var(--fill-color);\n",
              "    }\n",
              "    90% {\n",
              "      border-color: transparent;\n",
              "      border-bottom-color: var(--fill-color);\n",
              "    }\n",
              "  }\n",
              "</style>\n",
              "\n",
              "  <script>\n",
              "    async function quickchart(key) {\n",
              "      const quickchartButtonEl =\n",
              "        document.querySelector('#' + key + ' button');\n",
              "      quickchartButtonEl.disabled = true;  // To prevent multiple clicks.\n",
              "      quickchartButtonEl.classList.add('colab-df-spinner');\n",
              "      try {\n",
              "        const charts = await google.colab.kernel.invokeFunction(\n",
              "            'suggestCharts', [key], {});\n",
              "      } catch (error) {\n",
              "        console.error('Error during call to suggestCharts:', error);\n",
              "      }\n",
              "      quickchartButtonEl.classList.remove('colab-df-spinner');\n",
              "      quickchartButtonEl.classList.add('colab-df-quickchart-complete');\n",
              "    }\n",
              "    (() => {\n",
              "      let quickchartButtonEl =\n",
              "        document.querySelector('#df-faecb4b8-9218-43ac-bf45-b7864aa8cb66 button');\n",
              "      quickchartButtonEl.style.display =\n",
              "        google.colab.kernel.accessAllowed ? 'block' : 'none';\n",
              "    })();\n",
              "  </script>\n",
              "</div>\n",
              "    </div>\n",
              "  </div>\n"
            ]
          },
          "metadata": {},
          "execution_count": 64
        }
      ],
      "source": [
        "augmented_data = data.copy()\n",
        "\n",
        "# числовые признаки, к которым добавляем шум\n",
        "numeric_features = ['luminosity', 'radius', 'magnitude']\n",
        "\n",
        "# значения шума\n",
        "noise_mean = 0  # Среднее значение шума\n",
        "noise_std = 0.05  # Стандартное отклонение шума\n",
        "\n",
        "for numeric_feature in numeric_features:\n",
        "    random_noise = np.random.lognormal(noise_mean, noise_std, len(data))\n",
        "    augmented_data[numeric_feature] += random_noise\n",
        "\n",
        "    # контролируем разброс min max значений\n",
        "    augmented_data[numeric_feature] = np.clip(augmented_data[numeric_feature],\n",
        "                                              data[numeric_feature].min(),\n",
        "                                              data[numeric_feature].max())\n",
        "\n",
        "# Создайте новый DataFrame для аугментированных данных\n",
        "augmented_data.head()\n"
      ]
    },
    {
      "cell_type": "code",
      "execution_count": null,
      "metadata": {
        "colab": {
          "base_uri": "https://localhost:8080/",
          "height": 300
        },
        "id": "Ge0t-okDhtvZ",
        "outputId": "83b24603-4eb7-498c-e429-9b1fa6bdf2ab"
      },
      "outputs": [
        {
          "output_type": "execute_result",
          "data": {
            "text/plain": [
              "        temperature     luminosity       radius   magnitude   star_type\n",
              "count    240.000000     240.000000   240.000000  240.000000  240.000000\n",
              "mean   10497.462500  107189.360161   238.156477    5.360943    2.500000\n",
              "std     9552.425037  179432.228888   517.145030   10.509678    1.711394\n",
              "min     1939.000000       0.912176     0.905638  -11.028754    0.000000\n",
              "25%     3344.250000       1.003779     1.122814   -5.245722    1.000000\n",
              "50%     5776.000000       1.130483     1.783928    9.292616    2.500000\n",
              "75%    15055.500000  198051.055769    43.751928   14.736283    4.000000\n",
              "max    40000.000000  849420.000000  1948.500000   20.060000    5.000000"
            ],
            "text/html": [
              "\n",
              "  <div id=\"df-2cdc2b7c-7b06-40f7-806e-e25c6e5fd66b\" class=\"colab-df-container\">\n",
              "    <div>\n",
              "<style scoped>\n",
              "    .dataframe tbody tr th:only-of-type {\n",
              "        vertical-align: middle;\n",
              "    }\n",
              "\n",
              "    .dataframe tbody tr th {\n",
              "        vertical-align: top;\n",
              "    }\n",
              "\n",
              "    .dataframe thead th {\n",
              "        text-align: right;\n",
              "    }\n",
              "</style>\n",
              "<table border=\"1\" class=\"dataframe\">\n",
              "  <thead>\n",
              "    <tr style=\"text-align: right;\">\n",
              "      <th></th>\n",
              "      <th>temperature</th>\n",
              "      <th>luminosity</th>\n",
              "      <th>radius</th>\n",
              "      <th>magnitude</th>\n",
              "      <th>star_type</th>\n",
              "    </tr>\n",
              "  </thead>\n",
              "  <tbody>\n",
              "    <tr>\n",
              "      <th>count</th>\n",
              "      <td>240.000000</td>\n",
              "      <td>240.000000</td>\n",
              "      <td>240.000000</td>\n",
              "      <td>240.000000</td>\n",
              "      <td>240.000000</td>\n",
              "    </tr>\n",
              "    <tr>\n",
              "      <th>mean</th>\n",
              "      <td>10497.462500</td>\n",
              "      <td>107189.360161</td>\n",
              "      <td>238.156477</td>\n",
              "      <td>5.360943</td>\n",
              "      <td>2.500000</td>\n",
              "    </tr>\n",
              "    <tr>\n",
              "      <th>std</th>\n",
              "      <td>9552.425037</td>\n",
              "      <td>179432.228888</td>\n",
              "      <td>517.145030</td>\n",
              "      <td>10.509678</td>\n",
              "      <td>1.711394</td>\n",
              "    </tr>\n",
              "    <tr>\n",
              "      <th>min</th>\n",
              "      <td>1939.000000</td>\n",
              "      <td>0.912176</td>\n",
              "      <td>0.905638</td>\n",
              "      <td>-11.028754</td>\n",
              "      <td>0.000000</td>\n",
              "    </tr>\n",
              "    <tr>\n",
              "      <th>25%</th>\n",
              "      <td>3344.250000</td>\n",
              "      <td>1.003779</td>\n",
              "      <td>1.122814</td>\n",
              "      <td>-5.245722</td>\n",
              "      <td>1.000000</td>\n",
              "    </tr>\n",
              "    <tr>\n",
              "      <th>50%</th>\n",
              "      <td>5776.000000</td>\n",
              "      <td>1.130483</td>\n",
              "      <td>1.783928</td>\n",
              "      <td>9.292616</td>\n",
              "      <td>2.500000</td>\n",
              "    </tr>\n",
              "    <tr>\n",
              "      <th>75%</th>\n",
              "      <td>15055.500000</td>\n",
              "      <td>198051.055769</td>\n",
              "      <td>43.751928</td>\n",
              "      <td>14.736283</td>\n",
              "      <td>4.000000</td>\n",
              "    </tr>\n",
              "    <tr>\n",
              "      <th>max</th>\n",
              "      <td>40000.000000</td>\n",
              "      <td>849420.000000</td>\n",
              "      <td>1948.500000</td>\n",
              "      <td>20.060000</td>\n",
              "      <td>5.000000</td>\n",
              "    </tr>\n",
              "  </tbody>\n",
              "</table>\n",
              "</div>\n",
              "    <div class=\"colab-df-buttons\">\n",
              "\n",
              "  <div class=\"colab-df-container\">\n",
              "    <button class=\"colab-df-convert\" onclick=\"convertToInteractive('df-2cdc2b7c-7b06-40f7-806e-e25c6e5fd66b')\"\n",
              "            title=\"Convert this dataframe to an interactive table.\"\n",
              "            style=\"display:none;\">\n",
              "\n",
              "  <svg xmlns=\"http://www.w3.org/2000/svg\" height=\"24px\" viewBox=\"0 -960 960 960\">\n",
              "    <path d=\"M120-120v-720h720v720H120Zm60-500h600v-160H180v160Zm220 220h160v-160H400v160Zm0 220h160v-160H400v160ZM180-400h160v-160H180v160Zm440 0h160v-160H620v160ZM180-180h160v-160H180v160Zm440 0h160v-160H620v160Z\"/>\n",
              "  </svg>\n",
              "    </button>\n",
              "\n",
              "  <style>\n",
              "    .colab-df-container {\n",
              "      display:flex;\n",
              "      gap: 12px;\n",
              "    }\n",
              "\n",
              "    .colab-df-convert {\n",
              "      background-color: #E8F0FE;\n",
              "      border: none;\n",
              "      border-radius: 50%;\n",
              "      cursor: pointer;\n",
              "      display: none;\n",
              "      fill: #1967D2;\n",
              "      height: 32px;\n",
              "      padding: 0 0 0 0;\n",
              "      width: 32px;\n",
              "    }\n",
              "\n",
              "    .colab-df-convert:hover {\n",
              "      background-color: #E2EBFA;\n",
              "      box-shadow: 0px 1px 2px rgba(60, 64, 67, 0.3), 0px 1px 3px 1px rgba(60, 64, 67, 0.15);\n",
              "      fill: #174EA6;\n",
              "    }\n",
              "\n",
              "    .colab-df-buttons div {\n",
              "      margin-bottom: 4px;\n",
              "    }\n",
              "\n",
              "    [theme=dark] .colab-df-convert {\n",
              "      background-color: #3B4455;\n",
              "      fill: #D2E3FC;\n",
              "    }\n",
              "\n",
              "    [theme=dark] .colab-df-convert:hover {\n",
              "      background-color: #434B5C;\n",
              "      box-shadow: 0px 1px 3px 1px rgba(0, 0, 0, 0.15);\n",
              "      filter: drop-shadow(0px 1px 2px rgba(0, 0, 0, 0.3));\n",
              "      fill: #FFFFFF;\n",
              "    }\n",
              "  </style>\n",
              "\n",
              "    <script>\n",
              "      const buttonEl =\n",
              "        document.querySelector('#df-2cdc2b7c-7b06-40f7-806e-e25c6e5fd66b button.colab-df-convert');\n",
              "      buttonEl.style.display =\n",
              "        google.colab.kernel.accessAllowed ? 'block' : 'none';\n",
              "\n",
              "      async function convertToInteractive(key) {\n",
              "        const element = document.querySelector('#df-2cdc2b7c-7b06-40f7-806e-e25c6e5fd66b');\n",
              "        const dataTable =\n",
              "          await google.colab.kernel.invokeFunction('convertToInteractive',\n",
              "                                                    [key], {});\n",
              "        if (!dataTable) return;\n",
              "\n",
              "        const docLinkHtml = 'Like what you see? Visit the ' +\n",
              "          '<a target=\"_blank\" href=https://colab.research.google.com/notebooks/data_table.ipynb>data table notebook</a>'\n",
              "          + ' to learn more about interactive tables.';\n",
              "        element.innerHTML = '';\n",
              "        dataTable['output_type'] = 'display_data';\n",
              "        await google.colab.output.renderOutput(dataTable, element);\n",
              "        const docLink = document.createElement('div');\n",
              "        docLink.innerHTML = docLinkHtml;\n",
              "        element.appendChild(docLink);\n",
              "      }\n",
              "    </script>\n",
              "  </div>\n",
              "\n",
              "\n",
              "<div id=\"df-c072ef03-2bf6-44f2-873a-2896efd1fb41\">\n",
              "  <button class=\"colab-df-quickchart\" onclick=\"quickchart('df-c072ef03-2bf6-44f2-873a-2896efd1fb41')\"\n",
              "            title=\"Suggest charts.\"\n",
              "            style=\"display:none;\">\n",
              "\n",
              "<svg xmlns=\"http://www.w3.org/2000/svg\" height=\"24px\"viewBox=\"0 0 24 24\"\n",
              "     width=\"24px\">\n",
              "    <g>\n",
              "        <path d=\"M19 3H5c-1.1 0-2 .9-2 2v14c0 1.1.9 2 2 2h14c1.1 0 2-.9 2-2V5c0-1.1-.9-2-2-2zM9 17H7v-7h2v7zm4 0h-2V7h2v10zm4 0h-2v-4h2v4z\"/>\n",
              "    </g>\n",
              "</svg>\n",
              "  </button>\n",
              "\n",
              "<style>\n",
              "  .colab-df-quickchart {\n",
              "      --bg-color: #E8F0FE;\n",
              "      --fill-color: #1967D2;\n",
              "      --hover-bg-color: #E2EBFA;\n",
              "      --hover-fill-color: #174EA6;\n",
              "      --disabled-fill-color: #AAA;\n",
              "      --disabled-bg-color: #DDD;\n",
              "  }\n",
              "\n",
              "  [theme=dark] .colab-df-quickchart {\n",
              "      --bg-color: #3B4455;\n",
              "      --fill-color: #D2E3FC;\n",
              "      --hover-bg-color: #434B5C;\n",
              "      --hover-fill-color: #FFFFFF;\n",
              "      --disabled-bg-color: #3B4455;\n",
              "      --disabled-fill-color: #666;\n",
              "  }\n",
              "\n",
              "  .colab-df-quickchart {\n",
              "    background-color: var(--bg-color);\n",
              "    border: none;\n",
              "    border-radius: 50%;\n",
              "    cursor: pointer;\n",
              "    display: none;\n",
              "    fill: var(--fill-color);\n",
              "    height: 32px;\n",
              "    padding: 0;\n",
              "    width: 32px;\n",
              "  }\n",
              "\n",
              "  .colab-df-quickchart:hover {\n",
              "    background-color: var(--hover-bg-color);\n",
              "    box-shadow: 0 1px 2px rgba(60, 64, 67, 0.3), 0 1px 3px 1px rgba(60, 64, 67, 0.15);\n",
              "    fill: var(--button-hover-fill-color);\n",
              "  }\n",
              "\n",
              "  .colab-df-quickchart-complete:disabled,\n",
              "  .colab-df-quickchart-complete:disabled:hover {\n",
              "    background-color: var(--disabled-bg-color);\n",
              "    fill: var(--disabled-fill-color);\n",
              "    box-shadow: none;\n",
              "  }\n",
              "\n",
              "  .colab-df-spinner {\n",
              "    border: 2px solid var(--fill-color);\n",
              "    border-color: transparent;\n",
              "    border-bottom-color: var(--fill-color);\n",
              "    animation:\n",
              "      spin 1s steps(1) infinite;\n",
              "  }\n",
              "\n",
              "  @keyframes spin {\n",
              "    0% {\n",
              "      border-color: transparent;\n",
              "      border-bottom-color: var(--fill-color);\n",
              "      border-left-color: var(--fill-color);\n",
              "    }\n",
              "    20% {\n",
              "      border-color: transparent;\n",
              "      border-left-color: var(--fill-color);\n",
              "      border-top-color: var(--fill-color);\n",
              "    }\n",
              "    30% {\n",
              "      border-color: transparent;\n",
              "      border-left-color: var(--fill-color);\n",
              "      border-top-color: var(--fill-color);\n",
              "      border-right-color: var(--fill-color);\n",
              "    }\n",
              "    40% {\n",
              "      border-color: transparent;\n",
              "      border-right-color: var(--fill-color);\n",
              "      border-top-color: var(--fill-color);\n",
              "    }\n",
              "    60% {\n",
              "      border-color: transparent;\n",
              "      border-right-color: var(--fill-color);\n",
              "    }\n",
              "    80% {\n",
              "      border-color: transparent;\n",
              "      border-right-color: var(--fill-color);\n",
              "      border-bottom-color: var(--fill-color);\n",
              "    }\n",
              "    90% {\n",
              "      border-color: transparent;\n",
              "      border-bottom-color: var(--fill-color);\n",
              "    }\n",
              "  }\n",
              "</style>\n",
              "\n",
              "  <script>\n",
              "    async function quickchart(key) {\n",
              "      const quickchartButtonEl =\n",
              "        document.querySelector('#' + key + ' button');\n",
              "      quickchartButtonEl.disabled = true;  // To prevent multiple clicks.\n",
              "      quickchartButtonEl.classList.add('colab-df-spinner');\n",
              "      try {\n",
              "        const charts = await google.colab.kernel.invokeFunction(\n",
              "            'suggestCharts', [key], {});\n",
              "      } catch (error) {\n",
              "        console.error('Error during call to suggestCharts:', error);\n",
              "      }\n",
              "      quickchartButtonEl.classList.remove('colab-df-spinner');\n",
              "      quickchartButtonEl.classList.add('colab-df-quickchart-complete');\n",
              "    }\n",
              "    (() => {\n",
              "      let quickchartButtonEl =\n",
              "        document.querySelector('#df-c072ef03-2bf6-44f2-873a-2896efd1fb41 button');\n",
              "      quickchartButtonEl.style.display =\n",
              "        google.colab.kernel.accessAllowed ? 'block' : 'none';\n",
              "    })();\n",
              "  </script>\n",
              "</div>\n",
              "    </div>\n",
              "  </div>\n"
            ]
          },
          "metadata": {},
          "execution_count": 65
        }
      ],
      "source": [
        "augmented_data.describe()"
      ]
    },
    {
      "cell_type": "code",
      "execution_count": null,
      "metadata": {
        "colab": {
          "base_uri": "https://localhost:8080/",
          "height": 300
        },
        "id": "U8QDQ7qJhxO4",
        "outputId": "e7194819-6982-47e2-df90-867fc85cc852"
      },
      "outputs": [
        {
          "output_type": "execute_result",
          "data": {
            "text/plain": [
              "        temperature     luminosity       radius   magnitude   star_type\n",
              "count    240.000000     240.000000   240.000000  240.000000  240.000000\n",
              "mean   10497.462500  107188.361635   237.157781    4.382396    2.500000\n",
              "std     9552.425037  179432.244940   517.155763   10.532512    1.711394\n",
              "min     1939.000000       0.000080     0.008400  -11.920000    0.000000\n",
              "25%     3344.250000       0.000865     0.102750   -6.232500    1.000000\n",
              "50%     5776.000000       0.070500     0.762500    8.313000    2.500000\n",
              "75%    15055.500000  198050.000000    42.750000   13.697500    4.000000\n",
              "max    40000.000000  849420.000000  1948.500000   20.060000    5.000000"
            ],
            "text/html": [
              "\n",
              "  <div id=\"df-1b78e8af-d70c-472e-947c-9bf7d8dc5e07\" class=\"colab-df-container\">\n",
              "    <div>\n",
              "<style scoped>\n",
              "    .dataframe tbody tr th:only-of-type {\n",
              "        vertical-align: middle;\n",
              "    }\n",
              "\n",
              "    .dataframe tbody tr th {\n",
              "        vertical-align: top;\n",
              "    }\n",
              "\n",
              "    .dataframe thead th {\n",
              "        text-align: right;\n",
              "    }\n",
              "</style>\n",
              "<table border=\"1\" class=\"dataframe\">\n",
              "  <thead>\n",
              "    <tr style=\"text-align: right;\">\n",
              "      <th></th>\n",
              "      <th>temperature</th>\n",
              "      <th>luminosity</th>\n",
              "      <th>radius</th>\n",
              "      <th>magnitude</th>\n",
              "      <th>star_type</th>\n",
              "    </tr>\n",
              "  </thead>\n",
              "  <tbody>\n",
              "    <tr>\n",
              "      <th>count</th>\n",
              "      <td>240.000000</td>\n",
              "      <td>240.000000</td>\n",
              "      <td>240.000000</td>\n",
              "      <td>240.000000</td>\n",
              "      <td>240.000000</td>\n",
              "    </tr>\n",
              "    <tr>\n",
              "      <th>mean</th>\n",
              "      <td>10497.462500</td>\n",
              "      <td>107188.361635</td>\n",
              "      <td>237.157781</td>\n",
              "      <td>4.382396</td>\n",
              "      <td>2.500000</td>\n",
              "    </tr>\n",
              "    <tr>\n",
              "      <th>std</th>\n",
              "      <td>9552.425037</td>\n",
              "      <td>179432.244940</td>\n",
              "      <td>517.155763</td>\n",
              "      <td>10.532512</td>\n",
              "      <td>1.711394</td>\n",
              "    </tr>\n",
              "    <tr>\n",
              "      <th>min</th>\n",
              "      <td>1939.000000</td>\n",
              "      <td>0.000080</td>\n",
              "      <td>0.008400</td>\n",
              "      <td>-11.920000</td>\n",
              "      <td>0.000000</td>\n",
              "    </tr>\n",
              "    <tr>\n",
              "      <th>25%</th>\n",
              "      <td>3344.250000</td>\n",
              "      <td>0.000865</td>\n",
              "      <td>0.102750</td>\n",
              "      <td>-6.232500</td>\n",
              "      <td>1.000000</td>\n",
              "    </tr>\n",
              "    <tr>\n",
              "      <th>50%</th>\n",
              "      <td>5776.000000</td>\n",
              "      <td>0.070500</td>\n",
              "      <td>0.762500</td>\n",
              "      <td>8.313000</td>\n",
              "      <td>2.500000</td>\n",
              "    </tr>\n",
              "    <tr>\n",
              "      <th>75%</th>\n",
              "      <td>15055.500000</td>\n",
              "      <td>198050.000000</td>\n",
              "      <td>42.750000</td>\n",
              "      <td>13.697500</td>\n",
              "      <td>4.000000</td>\n",
              "    </tr>\n",
              "    <tr>\n",
              "      <th>max</th>\n",
              "      <td>40000.000000</td>\n",
              "      <td>849420.000000</td>\n",
              "      <td>1948.500000</td>\n",
              "      <td>20.060000</td>\n",
              "      <td>5.000000</td>\n",
              "    </tr>\n",
              "  </tbody>\n",
              "</table>\n",
              "</div>\n",
              "    <div class=\"colab-df-buttons\">\n",
              "\n",
              "  <div class=\"colab-df-container\">\n",
              "    <button class=\"colab-df-convert\" onclick=\"convertToInteractive('df-1b78e8af-d70c-472e-947c-9bf7d8dc5e07')\"\n",
              "            title=\"Convert this dataframe to an interactive table.\"\n",
              "            style=\"display:none;\">\n",
              "\n",
              "  <svg xmlns=\"http://www.w3.org/2000/svg\" height=\"24px\" viewBox=\"0 -960 960 960\">\n",
              "    <path d=\"M120-120v-720h720v720H120Zm60-500h600v-160H180v160Zm220 220h160v-160H400v160Zm0 220h160v-160H400v160ZM180-400h160v-160H180v160Zm440 0h160v-160H620v160ZM180-180h160v-160H180v160Zm440 0h160v-160H620v160Z\"/>\n",
              "  </svg>\n",
              "    </button>\n",
              "\n",
              "  <style>\n",
              "    .colab-df-container {\n",
              "      display:flex;\n",
              "      gap: 12px;\n",
              "    }\n",
              "\n",
              "    .colab-df-convert {\n",
              "      background-color: #E8F0FE;\n",
              "      border: none;\n",
              "      border-radius: 50%;\n",
              "      cursor: pointer;\n",
              "      display: none;\n",
              "      fill: #1967D2;\n",
              "      height: 32px;\n",
              "      padding: 0 0 0 0;\n",
              "      width: 32px;\n",
              "    }\n",
              "\n",
              "    .colab-df-convert:hover {\n",
              "      background-color: #E2EBFA;\n",
              "      box-shadow: 0px 1px 2px rgba(60, 64, 67, 0.3), 0px 1px 3px 1px rgba(60, 64, 67, 0.15);\n",
              "      fill: #174EA6;\n",
              "    }\n",
              "\n",
              "    .colab-df-buttons div {\n",
              "      margin-bottom: 4px;\n",
              "    }\n",
              "\n",
              "    [theme=dark] .colab-df-convert {\n",
              "      background-color: #3B4455;\n",
              "      fill: #D2E3FC;\n",
              "    }\n",
              "\n",
              "    [theme=dark] .colab-df-convert:hover {\n",
              "      background-color: #434B5C;\n",
              "      box-shadow: 0px 1px 3px 1px rgba(0, 0, 0, 0.15);\n",
              "      filter: drop-shadow(0px 1px 2px rgba(0, 0, 0, 0.3));\n",
              "      fill: #FFFFFF;\n",
              "    }\n",
              "  </style>\n",
              "\n",
              "    <script>\n",
              "      const buttonEl =\n",
              "        document.querySelector('#df-1b78e8af-d70c-472e-947c-9bf7d8dc5e07 button.colab-df-convert');\n",
              "      buttonEl.style.display =\n",
              "        google.colab.kernel.accessAllowed ? 'block' : 'none';\n",
              "\n",
              "      async function convertToInteractive(key) {\n",
              "        const element = document.querySelector('#df-1b78e8af-d70c-472e-947c-9bf7d8dc5e07');\n",
              "        const dataTable =\n",
              "          await google.colab.kernel.invokeFunction('convertToInteractive',\n",
              "                                                    [key], {});\n",
              "        if (!dataTable) return;\n",
              "\n",
              "        const docLinkHtml = 'Like what you see? Visit the ' +\n",
              "          '<a target=\"_blank\" href=https://colab.research.google.com/notebooks/data_table.ipynb>data table notebook</a>'\n",
              "          + ' to learn more about interactive tables.';\n",
              "        element.innerHTML = '';\n",
              "        dataTable['output_type'] = 'display_data';\n",
              "        await google.colab.output.renderOutput(dataTable, element);\n",
              "        const docLink = document.createElement('div');\n",
              "        docLink.innerHTML = docLinkHtml;\n",
              "        element.appendChild(docLink);\n",
              "      }\n",
              "    </script>\n",
              "  </div>\n",
              "\n",
              "\n",
              "<div id=\"df-59c0cab3-bbc1-4da5-9a48-e0c41bd76eee\">\n",
              "  <button class=\"colab-df-quickchart\" onclick=\"quickchart('df-59c0cab3-bbc1-4da5-9a48-e0c41bd76eee')\"\n",
              "            title=\"Suggest charts.\"\n",
              "            style=\"display:none;\">\n",
              "\n",
              "<svg xmlns=\"http://www.w3.org/2000/svg\" height=\"24px\"viewBox=\"0 0 24 24\"\n",
              "     width=\"24px\">\n",
              "    <g>\n",
              "        <path d=\"M19 3H5c-1.1 0-2 .9-2 2v14c0 1.1.9 2 2 2h14c1.1 0 2-.9 2-2V5c0-1.1-.9-2-2-2zM9 17H7v-7h2v7zm4 0h-2V7h2v10zm4 0h-2v-4h2v4z\"/>\n",
              "    </g>\n",
              "</svg>\n",
              "  </button>\n",
              "\n",
              "<style>\n",
              "  .colab-df-quickchart {\n",
              "      --bg-color: #E8F0FE;\n",
              "      --fill-color: #1967D2;\n",
              "      --hover-bg-color: #E2EBFA;\n",
              "      --hover-fill-color: #174EA6;\n",
              "      --disabled-fill-color: #AAA;\n",
              "      --disabled-bg-color: #DDD;\n",
              "  }\n",
              "\n",
              "  [theme=dark] .colab-df-quickchart {\n",
              "      --bg-color: #3B4455;\n",
              "      --fill-color: #D2E3FC;\n",
              "      --hover-bg-color: #434B5C;\n",
              "      --hover-fill-color: #FFFFFF;\n",
              "      --disabled-bg-color: #3B4455;\n",
              "      --disabled-fill-color: #666;\n",
              "  }\n",
              "\n",
              "  .colab-df-quickchart {\n",
              "    background-color: var(--bg-color);\n",
              "    border: none;\n",
              "    border-radius: 50%;\n",
              "    cursor: pointer;\n",
              "    display: none;\n",
              "    fill: var(--fill-color);\n",
              "    height: 32px;\n",
              "    padding: 0;\n",
              "    width: 32px;\n",
              "  }\n",
              "\n",
              "  .colab-df-quickchart:hover {\n",
              "    background-color: var(--hover-bg-color);\n",
              "    box-shadow: 0 1px 2px rgba(60, 64, 67, 0.3), 0 1px 3px 1px rgba(60, 64, 67, 0.15);\n",
              "    fill: var(--button-hover-fill-color);\n",
              "  }\n",
              "\n",
              "  .colab-df-quickchart-complete:disabled,\n",
              "  .colab-df-quickchart-complete:disabled:hover {\n",
              "    background-color: var(--disabled-bg-color);\n",
              "    fill: var(--disabled-fill-color);\n",
              "    box-shadow: none;\n",
              "  }\n",
              "\n",
              "  .colab-df-spinner {\n",
              "    border: 2px solid var(--fill-color);\n",
              "    border-color: transparent;\n",
              "    border-bottom-color: var(--fill-color);\n",
              "    animation:\n",
              "      spin 1s steps(1) infinite;\n",
              "  }\n",
              "\n",
              "  @keyframes spin {\n",
              "    0% {\n",
              "      border-color: transparent;\n",
              "      border-bottom-color: var(--fill-color);\n",
              "      border-left-color: var(--fill-color);\n",
              "    }\n",
              "    20% {\n",
              "      border-color: transparent;\n",
              "      border-left-color: var(--fill-color);\n",
              "      border-top-color: var(--fill-color);\n",
              "    }\n",
              "    30% {\n",
              "      border-color: transparent;\n",
              "      border-left-color: var(--fill-color);\n",
              "      border-top-color: var(--fill-color);\n",
              "      border-right-color: var(--fill-color);\n",
              "    }\n",
              "    40% {\n",
              "      border-color: transparent;\n",
              "      border-right-color: var(--fill-color);\n",
              "      border-top-color: var(--fill-color);\n",
              "    }\n",
              "    60% {\n",
              "      border-color: transparent;\n",
              "      border-right-color: var(--fill-color);\n",
              "    }\n",
              "    80% {\n",
              "      border-color: transparent;\n",
              "      border-right-color: var(--fill-color);\n",
              "      border-bottom-color: var(--fill-color);\n",
              "    }\n",
              "    90% {\n",
              "      border-color: transparent;\n",
              "      border-bottom-color: var(--fill-color);\n",
              "    }\n",
              "  }\n",
              "</style>\n",
              "\n",
              "  <script>\n",
              "    async function quickchart(key) {\n",
              "      const quickchartButtonEl =\n",
              "        document.querySelector('#' + key + ' button');\n",
              "      quickchartButtonEl.disabled = true;  // To prevent multiple clicks.\n",
              "      quickchartButtonEl.classList.add('colab-df-spinner');\n",
              "      try {\n",
              "        const charts = await google.colab.kernel.invokeFunction(\n",
              "            'suggestCharts', [key], {});\n",
              "      } catch (error) {\n",
              "        console.error('Error during call to suggestCharts:', error);\n",
              "      }\n",
              "      quickchartButtonEl.classList.remove('colab-df-spinner');\n",
              "      quickchartButtonEl.classList.add('colab-df-quickchart-complete');\n",
              "    }\n",
              "    (() => {\n",
              "      let quickchartButtonEl =\n",
              "        document.querySelector('#df-59c0cab3-bbc1-4da5-9a48-e0c41bd76eee button');\n",
              "      quickchartButtonEl.style.display =\n",
              "        google.colab.kernel.accessAllowed ? 'block' : 'none';\n",
              "    })();\n",
              "  </script>\n",
              "</div>\n",
              "    </div>\n",
              "  </div>\n"
            ]
          },
          "metadata": {},
          "execution_count": 66
        }
      ],
      "source": [
        "data.describe()"
      ]
    },
    {
      "cell_type": "markdown",
      "metadata": {
        "id": "CIi6lxLkx8Dp"
      },
      "source": [
        "####модель на аугментированном датасете с шумом"
      ]
    },
    {
      "cell_type": "code",
      "execution_count": null,
      "metadata": {
        "id": "ngo7kRTGNCjA"
      },
      "outputs": [],
      "source": [
        "train = pd.concat([augmented_data, data_train], ignore_index=True)\n",
        "valid = valid"
      ]
    },
    {
      "cell_type": "code",
      "execution_count": null,
      "metadata": {
        "colab": {
          "base_uri": "https://localhost:8080/"
        },
        "id": "pOmCZ0mEwaig",
        "outputId": "e6f71ff9-bb8d-4b2a-8bec-852302eb4788"
      },
      "outputs": [
        {
          "output_type": "stream",
          "name": "stdout",
          "text": [
            "torch.Size([384, 16])\n",
            "\n",
            "torch.Size([48, 16])\n",
            "\n"
          ]
        }
      ],
      "source": [
        "X_train = torch.Tensor(column_transformer.fit_transform(train[X]))\n",
        "X_valid = torch.Tensor(column_transformer.transform(valid[X]))\n",
        "\n",
        "y_train = torch.Tensor(train[y].values).reshape(-1, 1)\n",
        "y_valid = torch.Tensor(valid[y].values).reshape(-1, 1)\n",
        "\n",
        "\n",
        "print(X_train.size())\n",
        "print()\n",
        "print(X_valid.size())\n",
        "print()\n"
      ]
    },
    {
      "cell_type": "code",
      "execution_count": null,
      "metadata": {
        "id": "itASJv6X4sE1"
      },
      "outputs": [],
      "source": [
        "input_neurons = X_train.shape[1]\n",
        "\n",
        "\n",
        "model = BaselineModel(input_neurons,\n",
        "                        hidden_neurons,\n",
        "                        output_neurons)\n",
        "\n",
        "optimizer = torch.optim.Adam(model.parameters(), lr=0.01)"
      ]
    },
    {
      "cell_type": "code",
      "execution_count": null,
      "metadata": {
        "colab": {
          "base_uri": "https://localhost:8080/"
        },
        "id": "ZaFPC7IQwk8i",
        "outputId": "85672bf6-db7c-40aa-8eb7-315c1a27c975"
      },
      "outputs": [
        {
          "output_type": "stream",
          "name": "stdout",
          "text": [
            "Epoch [1000/15000], Loss: 199130944.0\n",
            "Epoch [2000/15000], Loss: 199130944.0\n",
            "Epoch [3000/15000], Loss: 199130944.0\n",
            "Epoch [4000/15000], Loss: 199130944.0\n",
            "Epoch [5000/15000], Loss: 199130944.0\n",
            "Epoch [6000/15000], Loss: 199130944.0\n",
            "Epoch [7000/15000], Loss: 199130944.0\n",
            "Epoch [8000/15000], Loss: 199130944.0\n",
            "Epoch [9000/15000], Loss: 199130944.0\n",
            "Epoch [10000/15000], Loss: 199130944.0\n",
            "Epoch [11000/15000], Loss: 199130944.0\n",
            "Epoch [12000/15000], Loss: 199130944.0\n",
            "Epoch [13000/15000], Loss: 199130944.0\n",
            "Epoch [14000/15000], Loss: 199130944.0\n",
            "Epoch [15000/15000], Loss: 199130944.0\n",
            "Valid Loss: 13002.078603054206\n"
          ]
        }
      ],
      "source": [
        "for epoch in range(num_epochs):\n",
        "\n",
        "    outputs = model(X_train)\n",
        "\n",
        "    # Вычисление потерь\n",
        "    loss_train = loss(outputs, y_train)\n",
        "\n",
        "    optimizer.zero_grad()\n",
        "    loss_train.backward()\n",
        "    optimizer.step()\n",
        "\n",
        "    if (epoch + 1) % 1000 == 0:\n",
        "        print(f'Epoch [{epoch + 1}/{num_epochs}], Loss: {loss_train.item()}')\n",
        "\n",
        "        model.eval()  # Перевести модель в режим оценки\n",
        "        with torch.no_grad():\n",
        "            valid_outputs = model(X_valid)\n",
        "            valid_loss = loss(valid_outputs, y_valid)\n",
        "\n",
        "print(f'Valid Loss: {np.sqrt(valid_loss.item())}')"
      ]
    },
    {
      "cell_type": "code",
      "execution_count": null,
      "metadata": {
        "colab": {
          "base_uri": "https://localhost:8080/"
        },
        "id": "h8bDMGHBwqp9",
        "outputId": "a676e051-9ac2-4e5f-b0d3-b0665057d9d8"
      },
      "outputs": [
        {
          "output_type": "execute_result",
          "data": {
            "text/plain": [
              "[['rmse_baseline', 5266.003608050416],\n",
              " ['dropout_rmse', 4348.176859328516],\n",
              " ['batch_sizes_rmse', 5454.596593699666],\n",
              " ['rmse_synthetic', 5169.350636201804],\n",
              " ['rmse_augmented', 13002.078603054206]]"
            ]
          },
          "metadata": {},
          "execution_count": 71
        }
      ],
      "source": [
        "rmse_augmented = np.sqrt(valid_loss.item())\n",
        "result.append(['rmse_augmented', rmse_augmented])\n",
        "result"
      ]
    },
    {
      "cell_type": "code",
      "execution_count": null,
      "metadata": {
        "colab": {
          "base_uri": "https://localhost:8080/",
          "height": 476
        },
        "id": "Dff_3GZklmPn",
        "outputId": "96066a72-2738-4e9a-d0f0-7b7b1edc49e1"
      },
      "outputs": [
        {
          "output_type": "display_data",
          "data": {
            "text/plain": [
              "<Figure size 800x400 with 1 Axes>"
            ],
            "image/png": "[encoded data removed]"
          },
          "metadata": {}
        }
      ],
      "source": [
        "plot(y_valid, valid_outputs, 'Augmented data')"
      ]
    },
    {
      "cell_type": "markdown",
      "metadata": {
        "id": "m8ijqjRglDOL"
      },
      "source": [
        "Судя по результату, я неправильно добавили шум, и модель начала сильно занижать результаты предсказаний"
      ]
    },
    {
      "cell_type": "code",
      "execution_count": null,
      "metadata": {
        "id": "iEJ4vW5zlCsn"
      },
      "outputs": [],
      "source": []
    },
    {
      "cell_type": "markdown",
      "metadata": {
        "id": "Z2A0o_1LzZYr"
      },
      "source": [
        "#### Модель на 3-x датасетах"
      ]
    },
    {
      "cell_type": "code",
      "execution_count": null,
      "metadata": {
        "id": "sYo92dgWwt8r"
      },
      "outputs": [],
      "source": [
        "data_concat = pd.concat([augmented_data,\n",
        "                          synthetic_data,\n",
        "                          data_train],\n",
        "                         ignore_index = True)"
      ]
    },
    {
      "cell_type": "code",
      "execution_count": null,
      "metadata": {
        "id": "bKHCZ9zzQiiC"
      },
      "outputs": [],
      "source": [
        "train = data_concat\n",
        "valid = valid"
      ]
    },
    {
      "cell_type": "code",
      "execution_count": null,
      "metadata": {
        "colab": {
          "base_uri": "https://localhost:8080/"
        },
        "id": "PTlgCcyxyxMU",
        "outputId": "4ab92d93-ab9f-4d0c-c48d-402ff3fd1118"
      },
      "outputs": [
        {
          "output_type": "stream",
          "name": "stdout",
          "text": [
            "Размер обучающей выборки (626, 6)\n",
            "\n",
            "Размер валидационной выборки (48, 6)\n"
          ]
        }
      ],
      "source": [
        "print('Размер обучающей выборки',train.shape)\n",
        "print ()\n",
        "print('Размер валидационной выборки', valid.shape)"
      ]
    },
    {
      "cell_type": "code",
      "execution_count": null,
      "metadata": {
        "colab": {
          "base_uri": "https://localhost:8080/"
        },
        "id": "Kzd6B_cbzfx1",
        "outputId": "13a95d4b-00f5-405c-c4bd-7d82a71d05f9"
      },
      "outputs": [
        {
          "output_type": "stream",
          "name": "stdout",
          "text": [
            "torch.Size([626, 17])\n",
            "\n",
            "torch.Size([48, 17])\n"
          ]
        }
      ],
      "source": [
        "X_train = torch.Tensor(column_transformer.fit_transform(train[X]).toarray())\n",
        "X_valid = torch.Tensor(column_transformer.transform(valid[X]).toarray())\n",
        "\n",
        "y_train = torch.Tensor(train[y].values).reshape(-1, 1)\n",
        "y_valid = torch.Tensor(valid[y].values).reshape(-1, 1)\n",
        "\n",
        "print(X_train.size())\n",
        "print()\n",
        "print(X_valid.size())\n"
      ]
    },
    {
      "cell_type": "code",
      "execution_count": null,
      "metadata": {
        "id": "jdHhT4uh0byj"
      },
      "outputs": [],
      "source": [
        "input_neurons = X_train.shape[1]\n",
        "\n",
        "model = BaselineModel(input_neurons,\n",
        "                        hidden_neurons,\n",
        "                        output_neurons)\n",
        "\n",
        "optimizer = torch.optim.Adam(model.parameters(), lr=0.01)"
      ]
    },
    {
      "cell_type": "code",
      "execution_count": null,
      "metadata": {
        "colab": {
          "base_uri": "https://localhost:8080/"
        },
        "id": "sG9X-6YZzoVA",
        "outputId": "a57e7912-d2a7-4383-9718-5fb6ee2b710e"
      },
      "outputs": [
        {
          "output_type": "stream",
          "name": "stdout",
          "text": [
            "Epoch [1000/15000], Loss: 21550882.0\n",
            "Epoch [2000/15000], Loss: 18406390.0\n",
            "Epoch [3000/15000], Loss: 16637353.0\n",
            "Epoch [4000/15000], Loss: 15672665.0\n",
            "Epoch [5000/15000], Loss: 15045223.0\n",
            "Epoch [6000/15000], Loss: 14578384.0\n",
            "Epoch [7000/15000], Loss: 14273408.0\n",
            "Epoch [8000/15000], Loss: 13853846.0\n",
            "Epoch [9000/15000], Loss: 13096607.0\n",
            "Epoch [10000/15000], Loss: 11836652.0\n",
            "Epoch [11000/15000], Loss: 10845557.0\n",
            "Epoch [12000/15000], Loss: 10353411.0\n",
            "Epoch [13000/15000], Loss: 10199866.0\n",
            "Epoch [14000/15000], Loss: 9799399.0\n",
            "Epoch [15000/15000], Loss: 9182705.0\n",
            "Valid Loss: 4273.656280048736\n"
          ]
        }
      ],
      "source": [
        "for epoch in range(num_epochs):\n",
        "\n",
        "    outputs = model(X_train)\n",
        "\n",
        "    # Вычисление потерь\n",
        "    loss_train = loss(outputs, y_train)\n",
        "\n",
        "    optimizer.zero_grad()\n",
        "    loss_train.backward()\n",
        "    optimizer.step()\n",
        "\n",
        "    if (epoch + 1) % 1000 == 0:\n",
        "        print(f'Epoch [{epoch + 1}/{num_epochs}], Loss: {loss_train.item()}')\n",
        "\n",
        "        model.eval()  # Перевести модель в режим оценки\n",
        "\n",
        "        with torch.no_grad():\n",
        "            valid_outputs = model(X_valid)\n",
        "            valid_loss = loss(valid_outputs, y_valid)\n",
        "\n",
        "print(f'Valid Loss: {np.sqrt(valid_loss.item())}')"
      ]
    },
    {
      "cell_type": "code",
      "execution_count": null,
      "metadata": {
        "colab": {
          "base_uri": "https://localhost:8080/"
        },
        "id": "EqxtoGwRzsEK",
        "outputId": "890f6e6e-eb74-4069-ff3a-9ebdf14f5920"
      },
      "outputs": [
        {
          "output_type": "execute_result",
          "data": {
            "text/plain": [
              "[['rmse_baseline', 5266.003608050416],\n",
              " ['dropout_rmse', 4348.176859328516],\n",
              " ['batch_sizes_rmse', 5454.596593699666],\n",
              " ['rmse_synthetic', 5169.350636201804],\n",
              " ['rmse_augmented', 13002.078603054206],\n",
              " ['rmse_concat_3df', 4273.656280048736]]"
            ]
          },
          "metadata": {},
          "execution_count": 79
        }
      ],
      "source": [
        "rmse_concat_3df = np.sqrt(valid_loss.item())\n",
        "result.append(['rmse_concat_3df', rmse_concat_3df])\n",
        "result"
      ]
    },
    {
      "cell_type": "code",
      "execution_count": null,
      "metadata": {
        "colab": {
          "base_uri": "https://localhost:8080/",
          "height": 476
        },
        "id": "xSh4N9Q4psbU",
        "outputId": "180d1b32-575e-43d9-cd7e-c32030aaf216"
      },
      "outputs": [
        {
          "output_type": "display_data",
          "data": {
            "text/plain": [
              "<Figure size 800x400 with 1 Axes>"
            ],
            "image/png": "[encoded data removed]"
          },
          "metadata": {}
        }
      ],
      "source": [
        "plot(y_valid, valid_outputs, 'RMSE on synthetic+augmented')"
      ]
    },
    {
      "cell_type": "markdown",
      "metadata": {
        "id": "i7QIfa_InnXG"
      },
      "source": [
        "Получились очень интересные наблюдения:\n",
        "\n",
        "- несмотря на то, что модель на данных с шумом дала сильно хуже результат, на данных созданных из трез датасетов (синтетический, исходный и с шумом) мы получили наилучшую метрику из всех.\n",
        "\n",
        "Таким образом:\n",
        "-  мы собрали датасет, который позволяет точнее предсказвать целевой признак\\\n",
        "-  выяснили, что параметр dropout влияет сильнее   на метрику, чем batchsize\n",
        "- все исследованные гиперпараметры дают снижение метрики.\n"
      ]
    },
    {
      "cell_type": "markdown",
      "metadata": {
        "id": "r7DdYu9AS8in"
      },
      "source": [
        "## Финальная модель"
      ]
    },
    {
      "cell_type": "code",
      "execution_count": null,
      "metadata": {
        "id": "y2YzwpvBwNGO"
      },
      "outputs": [],
      "source": []
    },
    {
      "cell_type": "markdown",
      "metadata": {
        "id": "1HFLXl1FTAlD"
      },
      "source": [
        "По результатам исследования мы получили данные, что все манипуляции уменьшали rmse модели.\n",
        "\n",
        "Для получения финальной метрики мы заново осуществим подбор  Dropout и batchsize на объединенном датасете, на котором была получена лучшая метрика."
      ]
    },
    {
      "cell_type": "markdown",
      "metadata": {
        "id": "Mo94cydYfMvv"
      },
      "source": [
        "Учитывая, что датасеты у нас тоже менялись, я найду еще раз лучший размер батча."
      ]
    },
    {
      "cell_type": "code",
      "execution_count": null,
      "metadata": {
        "colab": {
          "base_uri": "https://localhost:8080/"
        },
        "id": "dEA0xEI_fMIt",
        "outputId": "273de287-c035-4771-97cd-13752bfbaa88"
      },
      "outputs": [
        {
          "output_type": "stream",
          "name": "stdout",
          "text": [
            "Размер обучающей выборки (144, 6)\n",
            "Размер валидационной выборки (48, 6)\n",
            "Размер тестовой выборки (48, 6)\n"
          ]
        }
      ],
      "source": [
        "train = data_train\n",
        "\n",
        "print('Размер обучающей выборки',train.shape)\n",
        "\n",
        "valid = valid\n",
        "\n",
        "print('Размер валидационной выборки', valid.shape)\n",
        "\n",
        "test = test\n",
        "\n",
        "print('Размер тестовой выборки', test.shape)"
      ]
    },
    {
      "cell_type": "code",
      "execution_count": null,
      "metadata": {
        "colab": {
          "base_uri": "https://localhost:8080/"
        },
        "id": "xtbnj17Ohr2O",
        "outputId": "25ca87f0-84f3-4b40-f0da-37f09b35b17d"
      },
      "outputs": [
        {
          "output_type": "stream",
          "name": "stdout",
          "text": [
            "torch.Size([144, 14])\n",
            "\n",
            "torch.Size([48, 14])\n",
            "\n",
            "torch.Size([48, 14])\n"
          ]
        }
      ],
      "source": [
        "X_train = torch.Tensor(column_transformer.fit_transform(train[X]))\n",
        "X_valid = torch.Tensor(column_transformer.transform(valid[X]))\n",
        "X_test = torch.Tensor(column_transformer.transform(test[X]))\n",
        "\n",
        "y_train = torch.Tensor(train[y].values).reshape(-1, 1)\n",
        "y_valid = torch.Tensor(valid[y].values).reshape(-1, 1)\n",
        "y_test = torch.Tensor(test[y].values).reshape(-1, 1)\n",
        "\n",
        "print(X_train.size())\n",
        "print()\n",
        "print(X_valid.size())\n",
        "print()\n",
        "print(X_test.size())"
      ]
    },
    {
      "cell_type": "code",
      "execution_count": null,
      "metadata": {
        "colab": {
          "base_uri": "https://localhost:8080/"
        },
        "id": "te6oM7c9xb59",
        "outputId": "8510b70e-9aed-432f-843f-58eb3c244db8"
      },
      "outputs": [
        {
          "output_type": "stream",
          "name": "stdout",
          "text": [
            "Epoch [5000/15000], Loss: 42716984.0\n",
            "Epoch [10000/15000], Loss: 9080827.0\n",
            "Epoch [15000/15000], Loss: 5281607.5\n",
            "Epoch [5000/15000], Loss: 25067592.0\n",
            "Epoch [10000/15000], Loss: 8900791.0\n",
            "Epoch [15000/15000], Loss: 4754452.0\n",
            "Epoch [5000/15000], Loss: 29715888.0\n",
            "Epoch [10000/15000], Loss: 9182866.0\n",
            "Epoch [15000/15000], Loss: 5476360.0\n",
            "Epoch [5000/15000], Loss: 42106616.0\n",
            "Epoch [10000/15000], Loss: 9283446.0\n",
            "Epoch [15000/15000], Loss: 6268620.0\n",
            "Epoch [5000/15000], Loss: 49460044.0\n",
            "Epoch [10000/15000], Loss: 9161551.0\n",
            "Epoch [15000/15000], Loss: 5146383.5\n",
            "Epoch [5000/15000], Loss: 38815756.0\n",
            "Epoch [10000/15000], Loss: 9138996.0\n",
            "Epoch [15000/15000], Loss: 5455995.0\n",
            "Epoch [5000/15000], Loss: 67294368.0\n",
            "Epoch [10000/15000], Loss: 9500005.0\n",
            "Epoch [15000/15000], Loss: 5713502.5\n",
            "Epoch [5000/15000], Loss: 45501296.0\n",
            "Epoch [10000/15000], Loss: 9463446.0\n",
            "Epoch [15000/15000], Loss: 5672457.5\n",
            "Epoch [5000/15000], Loss: 78326832.0\n",
            "Epoch [10000/15000], Loss: 9528634.0\n",
            "Epoch [15000/15000], Loss: 6086399.5\n",
            "Epoch [5000/15000], Loss: 107916560.0\n",
            "Epoch [10000/15000], Loss: 9894443.0\n",
            "Epoch [15000/15000], Loss: 6154092.5\n",
            "Epoch [5000/15000], Loss: 77134504.0\n",
            "Epoch [10000/15000], Loss: 9709246.0\n",
            "Epoch [15000/15000], Loss: 6044581.5\n",
            "Epoch [5000/15000], Loss: 93821440.0\n",
            "Epoch [10000/15000], Loss: 9751345.0\n",
            "Epoch [15000/15000], Loss: 6036590.0\n",
            "Epoch [5000/15000], Loss: 112537216.0\n",
            "Epoch [10000/15000], Loss: 10367903.0\n",
            "Epoch [15000/15000], Loss: 6804310.5\n",
            "Epoch [5000/15000], Loss: 103412208.0\n",
            "Epoch [10000/15000], Loss: 10462779.0\n",
            "Epoch [15000/15000], Loss: 7014317.5\n",
            "Epoch [5000/15000], Loss: 136242768.0\n",
            "Epoch [10000/15000], Loss: 10344706.0\n",
            "Epoch [15000/15000], Loss: 7014646.5\n",
            "Best Batch Size: 72, Best RMSE: 5149.991650478669, Best Dropout: 0.1\n"
          ]
        }
      ],
      "source": [
        "dropout_values = [0.1, 0.2, 0.3, 0.4, 0.6]\n",
        "\n",
        "best_dropout = 0.5\n",
        "\n",
        "best_model = None\n",
        "\n",
        "batch_sizes = [int(0.1 * len(X_train)),\n",
        "               int(0.3 * len(X_train)),\n",
        "               int(0.5 * len(X_train))]\n",
        "\n",
        "best_rmse = float('inf')\n",
        "best_batch_size = None\n",
        "\n",
        "input_neurons = X_train.shape[1]\n",
        "#используем модель dropout\n",
        "model = DropoutModel(input_neurons, hidden_neurons, output_neurons, best_dropout)\n",
        "optimizer = torch.optim.Adam(model.parameters(), lr=0.01)\n",
        "\n",
        "for dropout in dropout_values:\n",
        "    for batch_size in batch_sizes:\n",
        "\n",
        "        model = DropoutModel(input_neurons, hidden_neurons, output_neurons, dropout)\n",
        "        optimizer = torch.optim.Adam(model.parameters(), lr=0.01)\n",
        "\n",
        "        for epoch in range(num_epochs):\n",
        "            outputs = model(X_train)\n",
        "            loss_train = loss(outputs, y_train)\n",
        "\n",
        "            optimizer.zero_grad()\n",
        "            loss_train.backward()\n",
        "            optimizer.step()\n",
        "\n",
        "            if (epoch + 1) % 5000 == 0:\n",
        "                model.eval()\n",
        "                print(f'Epoch [{epoch + 1}/{num_epochs}], Loss: {loss_train.item()}')\n",
        "\n",
        "                with torch.no_grad():\n",
        "                    valid_outputs = model(X_valid)\n",
        "                    valid_loss = loss(valid_outputs, y_valid)\n",
        "                    rmse = np.sqrt(valid_loss.item())\n",
        "\n",
        "# лучшие параметры и модель(чтобы сразу оценить на тестовой выборке)\n",
        "        if rmse < best_rmse:\n",
        "            best_rmse = rmse\n",
        "            best_batch_size = batch_size\n",
        "            best_dropout = dropout\n",
        "            best_model = model\n",
        "\n",
        "print(f'Best Batch Size: {best_batch_size}, Best RMSE: {best_rmse}, Best Dropout: {best_dropout}')"
      ]
    },
    {
      "cell_type": "code",
      "source": [
        "print (best_model)"
      ],
      "metadata": {
        "colab": {
          "base_uri": "https://localhost:8080/"
        },
        "id": "YC_Zs0CJCi4Q",
        "outputId": "d6b208ab-363e-4fdc-c051-3c16ab9397d4"
      },
      "execution_count": null,
      "outputs": [
        {
          "output_type": "stream",
          "name": "stdout",
          "text": [
            "DropoutModel(\n",
            "  (fc1): Linear(in_features=16, out_features=300, bias=True)\n",
            "  (act1): ReLU()\n",
            "  (dropout1): Dropout(p=0.1, inplace=False)\n",
            "  (fc2): Linear(in_features=300, out_features=1, bias=True)\n",
            "  (act2): ReLU()\n",
            "  (dropout2): Dropout(p=0.1, inplace=False)\n",
            ")\n"
          ]
        }
      ]
    },
    {
      "cell_type": "code",
      "execution_count": null,
      "metadata": {
        "colab": {
          "base_uri": "https://localhost:8080/"
        },
        "id": "O8Ce-qeCqeUH",
        "outputId": "61b9e34f-4392-4366-83df-5f04b4082858"
      },
      "outputs": [
        {
          "output_type": "stream",
          "name": "stdout",
          "text": [
            "RMSE on Test Data: 7750.251350762761\n"
          ]
        }
      ],
      "source": [
        "best_model.eval()\n",
        "\n",
        "# Прогон X_test через модель\n",
        "with torch.no_grad():\n",
        "    test_outputs = best_model(X_test)\n",
        "    test_loss = loss(test_outputs, y_test)\n",
        "\n",
        "# Оценка RMSE (если целевые значения и предсказания имеют одинаковые формы)\n",
        "rmse_test = np.sqrt(test_loss.item())\n",
        "\n",
        "print(f'RMSE on Test Data: {rmse_test}')"
      ]
    },
    {
      "cell_type": "code",
      "execution_count": null,
      "metadata": {
        "colab": {
          "base_uri": "https://localhost:8080/"
        },
        "id": "Q0vFimrgwP3P",
        "outputId": "d5abed6f-78ba-480e-f6d6-2048786a4c57"
      },
      "outputs": [
        {
          "output_type": "execute_result",
          "data": {
            "text/plain": [
              "[['rmse_baseline', 5266.003608050416],\n",
              " ['dropout_rmse', 4348.176859328516],\n",
              " ['batch_sizes_rmse', 5454.596593699666],\n",
              " ['rmse_synthetic', 5169.350636201804],\n",
              " ['rmse_augmented', 13002.078603054206],\n",
              " ['rmse_concat_3df', 4273.656280048736],\n",
              " ['rmse_test_on_concated_data', 7750.251350762761]]"
            ]
          },
          "metadata": {},
          "execution_count": 85
        }
      ],
      "source": [
        "result.append(['rmse_test_on_concated_data', rmse_test])\n",
        "result"
      ]
    },
    {
      "cell_type": "code",
      "execution_count": null,
      "metadata": {
        "colab": {
          "base_uri": "https://localhost:8080/",
          "height": 476
        },
        "id": "kcynPBgqpoMK",
        "outputId": "a0ef828d-4761-4012-dc31-bf9ad32ca98c"
      },
      "outputs": [
        {
          "output_type": "display_data",
          "data": {
            "text/plain": [
              "<Figure size 800x400 with 1 Axes>"
            ],
            "image/png": "[encoded data removed]"
          },
          "metadata": {}
        }
      ],
      "source": [
        "plot(test_outputs, y_test, 'Final model on test')"
      ]
    },
    {
      "cell_type": "markdown",
      "metadata": {
        "id": "jNxyd0Sku7Q1"
      },
      "source": [
        "Модель переобучена."
      ]
    },
    {
      "cell_type": "code",
      "execution_count": null,
      "metadata": {
        "colab": {
          "base_uri": "https://localhost:8080/"
        },
        "id": "MRKmP0hsu6kp",
        "outputId": "9604f1dd-7167-4085-f9ae-e66c93da066a"
      },
      "outputs": [
        {
          "output_type": "stream",
          "name": "stdout",
          "text": [
            "Размер обучающей выборки (240, 6)\n",
            "Размер валидационной выборки (48, 6)\n",
            "Размер тестовой выборки (48, 6)\n"
          ]
        }
      ],
      "source": [
        "train = data\n",
        "\n",
        "print('Размер обучающей выборки',train.shape)\n",
        "\n",
        "valid = valid\n",
        "\n",
        "print('Размер валидационной выборки', valid.shape)\n",
        "\n",
        "test = test\n",
        "\n",
        "print('Размер тестовой выборки', test.shape)"
      ]
    },
    {
      "cell_type": "code",
      "execution_count": null,
      "metadata": {
        "colab": {
          "base_uri": "https://localhost:8080/"
        },
        "id": "7w5orN1MvLoC",
        "outputId": "70087b29-9e31-4aaf-f45d-d498285abe9e"
      },
      "outputs": [
        {
          "output_type": "stream",
          "name": "stdout",
          "text": [
            "torch.Size([240, 16])\n",
            "\n",
            "torch.Size([48, 16])\n",
            "\n",
            "torch.Size([48, 16])\n"
          ]
        }
      ],
      "source": [
        "X_train = torch.Tensor(column_transformer.fit_transform(train[X]))\n",
        "X_valid = torch.Tensor(column_transformer.transform(valid[X]))\n",
        "X_test = torch.Tensor(column_transformer.transform(test[X]))\n",
        "\n",
        "y_train = torch.Tensor(train[y].values).reshape(-1, 1)\n",
        "y_valid = torch.Tensor(valid[y].values).reshape(-1, 1)\n",
        "y_test = torch.Tensor(test[y].values).reshape(-1, 1)\n",
        "\n",
        "print(X_train.size())\n",
        "print()\n",
        "print(X_valid.size())\n",
        "print()\n",
        "print(X_test.size())"
      ]
    },
    {
      "cell_type": "code",
      "execution_count": null,
      "metadata": {
        "colab": {
          "base_uri": "https://localhost:8080/"
        },
        "id": "cW14sgFjvL48",
        "outputId": "03550c70-71d0-44e2-efea-61c60fe05ced"
      },
      "outputs": [
        {
          "output_type": "stream",
          "name": "stdout",
          "text": [
            "Epoch [5000/15000], Loss: 32074934.0\n",
            "Epoch [10000/15000], Loss: 14294672.0\n",
            "Epoch [15000/15000], Loss: 10381174.0\n",
            "Epoch [5000/15000], Loss: 38137228.0\n",
            "Epoch [10000/15000], Loss: 14066260.0\n",
            "Epoch [15000/15000], Loss: 10407846.0\n",
            "Epoch [5000/15000], Loss: 44017128.0\n",
            "Epoch [10000/15000], Loss: 13784770.0\n",
            "Epoch [15000/15000], Loss: 9764906.0\n",
            "Epoch [5000/15000], Loss: 41547796.0\n",
            "Epoch [10000/15000], Loss: 14550737.0\n",
            "Epoch [15000/15000], Loss: 10281897.0\n",
            "Epoch [5000/15000], Loss: 64913528.0\n",
            "Epoch [10000/15000], Loss: 14518838.0\n",
            "Epoch [15000/15000], Loss: 10193040.0\n",
            "Epoch [5000/15000], Loss: 64881080.0\n",
            "Epoch [10000/15000], Loss: 14543345.0\n",
            "Epoch [15000/15000], Loss: 9845102.0\n",
            "Epoch [5000/15000], Loss: 59690032.0\n",
            "Epoch [10000/15000], Loss: 14682653.0\n",
            "Epoch [15000/15000], Loss: 11437490.0\n",
            "Epoch [5000/15000], Loss: 57915260.0\n",
            "Epoch [10000/15000], Loss: 14654144.0\n",
            "Epoch [15000/15000], Loss: 10841876.0\n",
            "Epoch [5000/15000], Loss: 66678568.0\n",
            "Epoch [10000/15000], Loss: 14767419.0\n",
            "Epoch [15000/15000], Loss: 11038194.0\n",
            "Epoch [5000/15000], Loss: 82706488.0\n",
            "Epoch [10000/15000], Loss: 14915849.0\n",
            "Epoch [15000/15000], Loss: 11743271.0\n",
            "Epoch [5000/15000], Loss: 81740280.0\n",
            "Epoch [10000/15000], Loss: 14679397.0\n",
            "Epoch [15000/15000], Loss: 11721939.0\n",
            "Epoch [5000/15000], Loss: 108426280.0\n",
            "Epoch [10000/15000], Loss: 14811739.0\n",
            "Epoch [15000/15000], Loss: 11231497.0\n",
            "Epoch [5000/15000], Loss: 127211784.0\n",
            "Epoch [10000/15000], Loss: 14245568.0\n",
            "Epoch [15000/15000], Loss: 12046634.0\n",
            "Epoch [5000/15000], Loss: 125873288.0\n",
            "Epoch [10000/15000], Loss: 14713474.0\n",
            "Epoch [15000/15000], Loss: 12281808.0\n",
            "Epoch [5000/15000], Loss: 112696216.0\n",
            "Epoch [10000/15000], Loss: 14489376.0\n",
            "Epoch [15000/15000], Loss: 12283461.0\n",
            "Best Batch Size: 120, Best RMSE: 3341.558468738801, Best Dropout: 0.1\n"
          ]
        }
      ],
      "source": [
        "dropout_values = [0.1, 0.2, 0.3, 0.4, 0.6]\n",
        "\n",
        "best_dropout = 0.5\n",
        "\n",
        "best_model = None\n",
        "\n",
        "batch_sizes = [int(0.1 * len(X_train)),\n",
        "               int(0.3 * len(X_train)),\n",
        "               int(0.5 * len(X_train))]\n",
        "\n",
        "best_rmse = float('inf')\n",
        "best_batch_size = None\n",
        "\n",
        "input_neurons = X_train.shape[1]\n",
        "#используем модель dropout\n",
        "model = DropoutModel(input_neurons, hidden_neurons, output_neurons, best_dropout)\n",
        "optimizer = torch.optim.Adam(model.parameters(), lr=0.01)\n",
        "\n",
        "for dropout in dropout_values:\n",
        "    for batch_size in batch_sizes:\n",
        "\n",
        "        model = DropoutModel(input_neurons, hidden_neurons, output_neurons, dropout)\n",
        "        optimizer = torch.optim.Adam(model.parameters(), lr=0.01)\n",
        "\n",
        "        for epoch in range(num_epochs):\n",
        "            outputs = model(X_train)\n",
        "            loss_train = loss(outputs, y_train)\n",
        "\n",
        "            optimizer.zero_grad()\n",
        "            loss_train.backward()\n",
        "            optimizer.step()\n",
        "\n",
        "            if (epoch + 1) % 5000 == 0:\n",
        "                model.eval()\n",
        "                print(f'Epoch [{epoch + 1}/{num_epochs}], Loss: {loss_train.item()}')\n",
        "\n",
        "                with torch.no_grad():\n",
        "                    valid_outputs = model(X_valid)\n",
        "                    valid_loss = loss(valid_outputs, y_valid)\n",
        "                    rmse = np.sqrt(valid_loss.item())\n",
        "\n",
        "# лучшие параметры и модель(чтобы сразу оценить на тестовой выборке)\n",
        "        if rmse < best_rmse:\n",
        "            best_rmse = rmse\n",
        "            best_batch_size = batch_size\n",
        "            best_dropout = dropout\n",
        "            best_model = model\n",
        "\n",
        "print(f'Best Batch Size: {best_batch_size}, Best RMSE: {best_rmse}, Best Dropout: {best_dropout}')"
      ]
    },
    {
      "cell_type": "code",
      "execution_count": null,
      "metadata": {
        "colab": {
          "base_uri": "https://localhost:8080/"
        },
        "id": "vuonj1XNvL8R",
        "outputId": "068e9c05-d90e-4a25-fe8c-d21d4a14cfe7"
      },
      "outputs": [
        {
          "output_type": "stream",
          "name": "stdout",
          "text": [
            "RMSE on Test Data: 3477.98346747077\n"
          ]
        }
      ],
      "source": [
        "best_model.eval()\n",
        "\n",
        "# Прогон X_test через модель\n",
        "with torch.no_grad():\n",
        "    test_outputs = best_model(X_test)\n",
        "    test_loss = loss(test_outputs, y_test)\n",
        "\n",
        "# Оценка RMSE\n",
        "rmse_test = np.sqrt(test_loss.item())\n",
        "\n",
        "print(f'RMSE on Test Data: {rmse_test}')"
      ]
    },
    {
      "cell_type": "code",
      "execution_count": null,
      "metadata": {
        "colab": {
          "base_uri": "https://localhost:8080/"
        },
        "id": "X50NwxTmwkQp",
        "outputId": "2a66014d-11b6-4bd9-8aee-f8a417b2b09b"
      },
      "outputs": [
        {
          "output_type": "execute_result",
          "data": {
            "text/plain": [
              "[['rmse_baseline', 5266.003608050416],\n",
              " ['dropout_rmse', 4348.176859328516],\n",
              " ['batch_sizes_rmse', 5454.596593699666],\n",
              " ['rmse_synthetic', 5169.350636201804],\n",
              " ['rmse_augmented', 13002.078603054206],\n",
              " ['rmse_concat_3df', 4273.656280048736],\n",
              " ['rmse_test_on_concated_data', 7750.251350762761],\n",
              " ['rmse_final_model', 3477.98346747077]]"
            ]
          },
          "metadata": {},
          "execution_count": 91
        }
      ],
      "source": [
        "result.append(['rmse_final_model', rmse_test])\n",
        "result"
      ]
    },
    {
      "cell_type": "code",
      "execution_count": null,
      "metadata": {
        "colab": {
          "base_uri": "https://localhost:8080/",
          "height": 476
        },
        "id": "8IoFLgTwvL-b",
        "outputId": "9409f720-d8e3-4c87-ee32-bff99bb76418"
      },
      "outputs": [
        {
          "output_type": "display_data",
          "data": {
            "text/plain": [
              "<Figure size 800x400 with 1 Axes>"
            ],
            "image/png": "[encoded data removed]"
          },
          "metadata": {}
        }
      ],
      "source": [
        "plot(test_outputs, y_test, 'Final model on test')"
      ]
    },
    {
      "cell_type": "code",
      "execution_count": null,
      "metadata": {
        "colab": {
          "base_uri": "https://localhost:8080/",
          "height": 300
        },
        "id": "1efIK46Iw40K",
        "outputId": "8f435b74-c82c-41b9-b68d-ed5b35749890"
      },
      "outputs": [
        {
          "output_type": "execute_result",
          "data": {
            "text/plain": [
              "                                       0\n",
              "rmse_baseline                5266.003608\n",
              "dropout_rmse                 4348.176859\n",
              "batch_sizes_rmse             5454.596594\n",
              "rmse_synthetic               5169.350636\n",
              "rmse_augmented              13002.078603\n",
              "rmse_concat_3df              4273.656280\n",
              "rmse_test_on_concated_data   7750.251351\n",
              "rmse_final_model             3477.983467"
            ],
            "text/html": [
              "\n",
              "  <div id=\"df-a619f389-3dc4-46c2-b698-b6374e14d536\" class=\"colab-df-container\">\n",
              "    <div>\n",
              "<style scoped>\n",
              "    .dataframe tbody tr th:only-of-type {\n",
              "        vertical-align: middle;\n",
              "    }\n",
              "\n",
              "    .dataframe tbody tr th {\n",
              "        vertical-align: top;\n",
              "    }\n",
              "\n",
              "    .dataframe thead th {\n",
              "        text-align: right;\n",
              "    }\n",
              "</style>\n",
              "<table border=\"1\" class=\"dataframe\">\n",
              "  <thead>\n",
              "    <tr style=\"text-align: right;\">\n",
              "      <th></th>\n",
              "      <th>0</th>\n",
              "    </tr>\n",
              "  </thead>\n",
              "  <tbody>\n",
              "    <tr>\n",
              "      <th>rmse_baseline</th>\n",
              "      <td>5266.003608</td>\n",
              "    </tr>\n",
              "    <tr>\n",
              "      <th>dropout_rmse</th>\n",
              "      <td>4348.176859</td>\n",
              "    </tr>\n",
              "    <tr>\n",
              "      <th>batch_sizes_rmse</th>\n",
              "      <td>5454.596594</td>\n",
              "    </tr>\n",
              "    <tr>\n",
              "      <th>rmse_synthetic</th>\n",
              "      <td>5169.350636</td>\n",
              "    </tr>\n",
              "    <tr>\n",
              "      <th>rmse_augmented</th>\n",
              "      <td>13002.078603</td>\n",
              "    </tr>\n",
              "    <tr>\n",
              "      <th>rmse_concat_3df</th>\n",
              "      <td>4273.656280</td>\n",
              "    </tr>\n",
              "    <tr>\n",
              "      <th>rmse_test_on_concated_data</th>\n",
              "      <td>7750.251351</td>\n",
              "    </tr>\n",
              "    <tr>\n",
              "      <th>rmse_final_model</th>\n",
              "      <td>3477.983467</td>\n",
              "    </tr>\n",
              "  </tbody>\n",
              "</table>\n",
              "</div>\n",
              "    <div class=\"colab-df-buttons\">\n",
              "\n",
              "  <div class=\"colab-df-container\">\n",
              "    <button class=\"colab-df-convert\" onclick=\"convertToInteractive('df-a619f389-3dc4-46c2-b698-b6374e14d536')\"\n",
              "            title=\"Convert this dataframe to an interactive table.\"\n",
              "            style=\"display:none;\">\n",
              "\n",
              "  <svg xmlns=\"http://www.w3.org/2000/svg\" height=\"24px\" viewBox=\"0 -960 960 960\">\n",
              "    <path d=\"M120-120v-720h720v720H120Zm60-500h600v-160H180v160Zm220 220h160v-160H400v160Zm0 220h160v-160H400v160ZM180-400h160v-160H180v160Zm440 0h160v-160H620v160ZM180-180h160v-160H180v160Zm440 0h160v-160H620v160Z\"/>\n",
              "  </svg>\n",
              "    </button>\n",
              "\n",
              "  <style>\n",
              "    .colab-df-container {\n",
              "      display:flex;\n",
              "      gap: 12px;\n",
              "    }\n",
              "\n",
              "    .colab-df-convert {\n",
              "      background-color: #E8F0FE;\n",
              "      border: none;\n",
              "      border-radius: 50%;\n",
              "      cursor: pointer;\n",
              "      display: none;\n",
              "      fill: #1967D2;\n",
              "      height: 32px;\n",
              "      padding: 0 0 0 0;\n",
              "      width: 32px;\n",
              "    }\n",
              "\n",
              "    .colab-df-convert:hover {\n",
              "      background-color: #E2EBFA;\n",
              "      box-shadow: 0px 1px 2px rgba(60, 64, 67, 0.3), 0px 1px 3px 1px rgba(60, 64, 67, 0.15);\n",
              "      fill: #174EA6;\n",
              "    }\n",
              "\n",
              "    .colab-df-buttons div {\n",
              "      margin-bottom: 4px;\n",
              "    }\n",
              "\n",
              "    [theme=dark] .colab-df-convert {\n",
              "      background-color: #3B4455;\n",
              "      fill: #D2E3FC;\n",
              "    }\n",
              "\n",
              "    [theme=dark] .colab-df-convert:hover {\n",
              "      background-color: #434B5C;\n",
              "      box-shadow: 0px 1px 3px 1px rgba(0, 0, 0, 0.15);\n",
              "      filter: drop-shadow(0px 1px 2px rgba(0, 0, 0, 0.3));\n",
              "      fill: #FFFFFF;\n",
              "    }\n",
              "  </style>\n",
              "\n",
              "    <script>\n",
              "      const buttonEl =\n",
              "        document.querySelector('#df-a619f389-3dc4-46c2-b698-b6374e14d536 button.colab-df-convert');\n",
              "      buttonEl.style.display =\n",
              "        google.colab.kernel.accessAllowed ? 'block' : 'none';\n",
              "\n",
              "      async function convertToInteractive(key) {\n",
              "        const element = document.querySelector('#df-a619f389-3dc4-46c2-b698-b6374e14d536');\n",
              "        const dataTable =\n",
              "          await google.colab.kernel.invokeFunction('convertToInteractive',\n",
              "                                                    [key], {});\n",
              "        if (!dataTable) return;\n",
              "\n",
              "        const docLinkHtml = 'Like what you see? Visit the ' +\n",
              "          '<a target=\"_blank\" href=https://colab.research.google.com/notebooks/data_table.ipynb>data table notebook</a>'\n",
              "          + ' to learn more about interactive tables.';\n",
              "        element.innerHTML = '';\n",
              "        dataTable['output_type'] = 'display_data';\n",
              "        await google.colab.output.renderOutput(dataTable, element);\n",
              "        const docLink = document.createElement('div');\n",
              "        docLink.innerHTML = docLinkHtml;\n",
              "        element.appendChild(docLink);\n",
              "      }\n",
              "    </script>\n",
              "  </div>\n",
              "\n",
              "\n",
              "<div id=\"df-3dde78f6-6f52-49c7-bc04-b92d0af15a96\">\n",
              "  <button class=\"colab-df-quickchart\" onclick=\"quickchart('df-3dde78f6-6f52-49c7-bc04-b92d0af15a96')\"\n",
              "            title=\"Suggest charts.\"\n",
              "            style=\"display:none;\">\n",
              "\n",
              "<svg xmlns=\"http://www.w3.org/2000/svg\" height=\"24px\"viewBox=\"0 0 24 24\"\n",
              "     width=\"24px\">\n",
              "    <g>\n",
              "        <path d=\"M19 3H5c-1.1 0-2 .9-2 2v14c0 1.1.9 2 2 2h14c1.1 0 2-.9 2-2V5c0-1.1-.9-2-2-2zM9 17H7v-7h2v7zm4 0h-2V7h2v10zm4 0h-2v-4h2v4z\"/>\n",
              "    </g>\n",
              "</svg>\n",
              "  </button>\n",
              "\n",
              "<style>\n",
              "  .colab-df-quickchart {\n",
              "      --bg-color: #E8F0FE;\n",
              "      --fill-color: #1967D2;\n",
              "      --hover-bg-color: #E2EBFA;\n",
              "      --hover-fill-color: #174EA6;\n",
              "      --disabled-fill-color: #AAA;\n",
              "      --disabled-bg-color: #DDD;\n",
              "  }\n",
              "\n",
              "  [theme=dark] .colab-df-quickchart {\n",
              "      --bg-color: #3B4455;\n",
              "      --fill-color: #D2E3FC;\n",
              "      --hover-bg-color: #434B5C;\n",
              "      --hover-fill-color: #FFFFFF;\n",
              "      --disabled-bg-color: #3B4455;\n",
              "      --disabled-fill-color: #666;\n",
              "  }\n",
              "\n",
              "  .colab-df-quickchart {\n",
              "    background-color: var(--bg-color);\n",
              "    border: none;\n",
              "    border-radius: 50%;\n",
              "    cursor: pointer;\n",
              "    display: none;\n",
              "    fill: var(--fill-color);\n",
              "    height: 32px;\n",
              "    padding: 0;\n",
              "    width: 32px;\n",
              "  }\n",
              "\n",
              "  .colab-df-quickchart:hover {\n",
              "    background-color: var(--hover-bg-color);\n",
              "    box-shadow: 0 1px 2px rgba(60, 64, 67, 0.3), 0 1px 3px 1px rgba(60, 64, 67, 0.15);\n",
              "    fill: var(--button-hover-fill-color);\n",
              "  }\n",
              "\n",
              "  .colab-df-quickchart-complete:disabled,\n",
              "  .colab-df-quickchart-complete:disabled:hover {\n",
              "    background-color: var(--disabled-bg-color);\n",
              "    fill: var(--disabled-fill-color);\n",
              "    box-shadow: none;\n",
              "  }\n",
              "\n",
              "  .colab-df-spinner {\n",
              "    border: 2px solid var(--fill-color);\n",
              "    border-color: transparent;\n",
              "    border-bottom-color: var(--fill-color);\n",
              "    animation:\n",
              "      spin 1s steps(1) infinite;\n",
              "  }\n",
              "\n",
              "  @keyframes spin {\n",
              "    0% {\n",
              "      border-color: transparent;\n",
              "      border-bottom-color: var(--fill-color);\n",
              "      border-left-color: var(--fill-color);\n",
              "    }\n",
              "    20% {\n",
              "      border-color: transparent;\n",
              "      border-left-color: var(--fill-color);\n",
              "      border-top-color: var(--fill-color);\n",
              "    }\n",
              "    30% {\n",
              "      border-color: transparent;\n",
              "      border-left-color: var(--fill-color);\n",
              "      border-top-color: var(--fill-color);\n",
              "      border-right-color: var(--fill-color);\n",
              "    }\n",
              "    40% {\n",
              "      border-color: transparent;\n",
              "      border-right-color: var(--fill-color);\n",
              "      border-top-color: var(--fill-color);\n",
              "    }\n",
              "    60% {\n",
              "      border-color: transparent;\n",
              "      border-right-color: var(--fill-color);\n",
              "    }\n",
              "    80% {\n",
              "      border-color: transparent;\n",
              "      border-right-color: var(--fill-color);\n",
              "      border-bottom-color: var(--fill-color);\n",
              "    }\n",
              "    90% {\n",
              "      border-color: transparent;\n",
              "      border-bottom-color: var(--fill-color);\n",
              "    }\n",
              "  }\n",
              "</style>\n",
              "\n",
              "  <script>\n",
              "    async function quickchart(key) {\n",
              "      const quickchartButtonEl =\n",
              "        document.querySelector('#' + key + ' button');\n",
              "      quickchartButtonEl.disabled = true;  // To prevent multiple clicks.\n",
              "      quickchartButtonEl.classList.add('colab-df-spinner');\n",
              "      try {\n",
              "        const charts = await google.colab.kernel.invokeFunction(\n",
              "            'suggestCharts', [key], {});\n",
              "      } catch (error) {\n",
              "        console.error('Error during call to suggestCharts:', error);\n",
              "      }\n",
              "      quickchartButtonEl.classList.remove('colab-df-spinner');\n",
              "      quickchartButtonEl.classList.add('colab-df-quickchart-complete');\n",
              "    }\n",
              "    (() => {\n",
              "      let quickchartButtonEl =\n",
              "        document.querySelector('#df-3dde78f6-6f52-49c7-bc04-b92d0af15a96 button');\n",
              "      quickchartButtonEl.style.display =\n",
              "        google.colab.kernel.accessAllowed ? 'block' : 'none';\n",
              "    })();\n",
              "  </script>\n",
              "</div>\n",
              "    </div>\n",
              "  </div>\n"
            ]
          },
          "metadata": {},
          "execution_count": 93
        }
      ],
      "source": [
        "result = pd.DataFrame(data =[result[_][1] for _ in range(len(result))],\n",
        "                      index = [result[_][0] for _ in range(len(result))])\n",
        "result"
      ]
    },
    {
      "cell_type": "markdown",
      "metadata": {
        "id": "Y63ksp3uwsto"
      },
      "source": []
    },
    {
      "cell_type": "markdown",
      "metadata": {
        "id": "EzS2eH7TxaE7"
      },
      "source": [
        "## Вывод"
      ]
    },
    {
      "cell_type": "markdown",
      "metadata": {
        "id": "SQe891S-paci"
      },
      "source": [
        "В ходе работы были получены следующие результаты метрики rmse:\n",
        "\n",
        "|   Модель     |  RMSE        |\n",
        "|--------------|--------------|\n",
        "|rmse_baseline |\t5266.003608|\n",
        "|dropout_rmse\t |4348.176859|\n",
        "|batch_sizes_rmse\t|5454.596594|\n",
        "|rmse_synthetic\t |5169.350636|\n",
        "|rmse_augmented\t |13002.078603|\n",
        "|rmse_concat_3df\t|4273.656280|\n",
        "|rmse_test_on_concated_data\t|7750.251351|\n",
        "|rmse_final_model\t|3477.983467|\n",
        "\n",
        "\n",
        "На модели\n",
        "\n",
        "DropoutModel\n",
        "  - (fc1): Linear(in_features=16,\n",
        "  - out_features=300, bias=True)\n",
        "  - (act1): ReLU()\n",
        "  - (dropout1): Dropout(p=0.1, inplace=False)\n",
        "  - (fc2): Linear(in_features=300, out_features=1,  bias=True)\n",
        "  - (act2): ReLU()\n",
        "  - (dropout2): Dropout(p=0.1, inplace=False)"
      ]
    },
    {
      "cell_type": "markdown",
      "source": [
        "Несмотря на то, что была получена низкая метрика на датасете из трех (синтетический, с шумом и исходный) на финальном тестировании метрика оказалась наихудшей из всех моделей, что может говорить о том что модель переобучилась, так как в два раза выше была метрика (4273.6 на валидационном и 7750.2 на тестовой).\n",
        "\n",
        "В качестве итогового датасета был использован исходный датасет, и была достигнута требуемая метрика.\n",
        "\n",
        "Обнаружено, что наибольшее влияние на метрику было оказано гиперпаратметром dropout, в то время как параметр batchsize обеспечивал лишь незначительное снижение значения rmse, порядка 3%."
      ],
      "metadata": {
        "id": "Yu3_gyTtFp3k"
      }
    },
    {
      "cell_type": "code",
      "source": [],
      "metadata": {
        "id": "BoenIJjDG_Jp"
      },
      "execution_count": null,
      "outputs": []
    }
  ],
  "metadata": {
    "ExecuteTimeLog": [
      {
        "duration": 2383,
        "start_time": "2023-09-21T17:53:31.879Z"
      },
      {
        "duration": 161,
        "start_time": "2023-09-21T17:53:34.265Z"
      },
      {
        "duration": 0,
        "start_time": "2023-09-21T17:53:34.430Z"
      },
      {
        "duration": 0,
        "start_time": "2023-09-21T17:53:34.432Z"
      },
      {
        "duration": 0,
        "start_time": "2023-09-21T17:53:34.433Z"
      },
      {
        "duration": 0,
        "start_time": "2023-09-21T17:53:34.434Z"
      },
      {
        "duration": 0,
        "start_time": "2023-09-21T17:53:34.435Z"
      },
      {
        "duration": 0,
        "start_time": "2023-09-21T17:53:34.452Z"
      },
      {
        "duration": 0,
        "start_time": "2023-09-21T17:53:34.459Z"
      },
      {
        "duration": 0,
        "start_time": "2023-09-21T17:53:34.462Z"
      },
      {
        "duration": 0,
        "start_time": "2023-09-21T17:53:34.463Z"
      },
      {
        "duration": 0,
        "start_time": "2023-09-21T17:53:34.464Z"
      },
      {
        "duration": 0,
        "start_time": "2023-09-21T17:53:34.465Z"
      },
      {
        "duration": 0,
        "start_time": "2023-09-21T17:53:34.466Z"
      },
      {
        "duration": 0,
        "start_time": "2023-09-21T17:53:34.467Z"
      },
      {
        "duration": 0,
        "start_time": "2023-09-21T17:53:34.468Z"
      },
      {
        "duration": 0,
        "start_time": "2023-09-21T17:53:34.470Z"
      },
      {
        "duration": 0,
        "start_time": "2023-09-21T17:53:34.471Z"
      },
      {
        "duration": 0,
        "start_time": "2023-09-21T17:53:34.472Z"
      },
      {
        "duration": 0,
        "start_time": "2023-09-21T17:53:34.473Z"
      },
      {
        "duration": 0,
        "start_time": "2023-09-21T17:53:34.474Z"
      },
      {
        "duration": 0,
        "start_time": "2023-09-21T17:53:34.476Z"
      },
      {
        "duration": 0,
        "start_time": "2023-09-21T17:53:34.477Z"
      },
      {
        "duration": 0,
        "start_time": "2023-09-21T17:53:34.478Z"
      },
      {
        "duration": 0,
        "start_time": "2023-09-21T17:53:34.479Z"
      },
      {
        "duration": 0,
        "start_time": "2023-09-21T17:53:34.481Z"
      },
      {
        "duration": 0,
        "start_time": "2023-09-21T17:53:34.482Z"
      },
      {
        "duration": 0,
        "start_time": "2023-09-21T17:53:34.483Z"
      },
      {
        "duration": 0,
        "start_time": "2023-09-21T17:53:34.484Z"
      },
      {
        "duration": 0,
        "start_time": "2023-09-21T17:53:34.485Z"
      },
      {
        "duration": 0,
        "start_time": "2023-09-21T17:53:34.487Z"
      },
      {
        "duration": 0,
        "start_time": "2023-09-21T17:53:34.488Z"
      },
      {
        "duration": 0,
        "start_time": "2023-09-21T17:53:34.490Z"
      },
      {
        "duration": 0,
        "start_time": "2023-09-21T17:53:34.491Z"
      },
      {
        "duration": 0,
        "start_time": "2023-09-21T17:53:34.547Z"
      },
      {
        "duration": 0,
        "start_time": "2023-09-21T17:53:34.547Z"
      },
      {
        "duration": 0,
        "start_time": "2023-09-21T17:53:34.549Z"
      },
      {
        "duration": 0,
        "start_time": "2023-09-21T17:53:34.550Z"
      },
      {
        "duration": 0,
        "start_time": "2023-09-21T17:53:34.550Z"
      },
      {
        "duration": 0,
        "start_time": "2023-09-21T17:53:34.551Z"
      },
      {
        "duration": 0,
        "start_time": "2023-09-21T17:53:34.552Z"
      },
      {
        "duration": 0,
        "start_time": "2023-09-21T17:53:34.553Z"
      },
      {
        "duration": 0,
        "start_time": "2023-09-21T17:53:34.553Z"
      },
      {
        "duration": 0,
        "start_time": "2023-09-21T17:53:34.557Z"
      },
      {
        "duration": 0,
        "start_time": "2023-09-21T17:53:34.558Z"
      },
      {
        "duration": 0,
        "start_time": "2023-09-21T17:53:34.560Z"
      },
      {
        "duration": 0,
        "start_time": "2023-09-21T17:53:34.562Z"
      },
      {
        "duration": 0,
        "start_time": "2023-09-21T17:53:34.563Z"
      },
      {
        "duration": 0,
        "start_time": "2023-09-21T17:53:34.565Z"
      },
      {
        "duration": 0,
        "start_time": "2023-09-21T17:53:34.566Z"
      },
      {
        "duration": 0,
        "start_time": "2023-09-21T17:53:34.567Z"
      },
      {
        "duration": 0,
        "start_time": "2023-09-21T17:53:34.568Z"
      },
      {
        "duration": 0,
        "start_time": "2023-09-21T17:53:34.569Z"
      },
      {
        "duration": 0,
        "start_time": "2023-09-21T17:53:34.570Z"
      },
      {
        "duration": 0,
        "start_time": "2023-09-21T17:53:34.571Z"
      },
      {
        "duration": 0,
        "start_time": "2023-09-21T17:53:34.573Z"
      },
      {
        "duration": 0,
        "start_time": "2023-09-21T17:53:34.574Z"
      },
      {
        "duration": 0,
        "start_time": "2023-09-21T17:53:34.575Z"
      },
      {
        "duration": 0,
        "start_time": "2023-09-21T17:53:34.576Z"
      },
      {
        "duration": 0,
        "start_time": "2023-09-21T17:53:34.578Z"
      },
      {
        "duration": 0,
        "start_time": "2023-09-21T17:53:34.579Z"
      },
      {
        "duration": 0,
        "start_time": "2023-09-21T17:53:34.580Z"
      },
      {
        "duration": 0,
        "start_time": "2023-09-21T17:53:34.581Z"
      },
      {
        "duration": 0,
        "start_time": "2023-09-21T17:53:34.582Z"
      },
      {
        "duration": 0,
        "start_time": "2023-09-21T17:53:34.583Z"
      },
      {
        "duration": 0,
        "start_time": "2023-09-21T17:53:34.585Z"
      },
      {
        "duration": 0,
        "start_time": "2023-09-21T17:53:34.586Z"
      },
      {
        "duration": 0,
        "start_time": "2023-09-21T17:53:34.587Z"
      },
      {
        "duration": 0,
        "start_time": "2023-09-21T17:53:34.588Z"
      },
      {
        "duration": 0,
        "start_time": "2023-09-21T17:53:34.649Z"
      },
      {
        "duration": 0,
        "start_time": "2023-09-21T17:53:34.650Z"
      },
      {
        "duration": 0,
        "start_time": "2023-09-21T17:53:34.656Z"
      },
      {
        "duration": 0,
        "start_time": "2023-09-21T17:53:34.657Z"
      },
      {
        "duration": 0,
        "start_time": "2023-09-21T17:53:34.658Z"
      },
      {
        "duration": 0,
        "start_time": "2023-09-21T17:53:34.659Z"
      },
      {
        "duration": 0,
        "start_time": "2023-09-21T17:53:34.659Z"
      },
      {
        "duration": 0,
        "start_time": "2023-09-21T17:53:34.660Z"
      },
      {
        "duration": 0,
        "start_time": "2023-09-21T17:53:34.661Z"
      },
      {
        "duration": 0,
        "start_time": "2023-09-21T17:53:34.662Z"
      },
      {
        "duration": 0,
        "start_time": "2023-09-21T17:53:34.664Z"
      },
      {
        "duration": 0,
        "start_time": "2023-09-21T17:53:34.666Z"
      },
      {
        "duration": 0,
        "start_time": "2023-09-21T17:53:34.667Z"
      },
      {
        "duration": 0,
        "start_time": "2023-09-21T17:53:34.668Z"
      },
      {
        "duration": 0,
        "start_time": "2023-09-21T17:53:34.670Z"
      },
      {
        "duration": 0,
        "start_time": "2023-09-21T17:53:34.671Z"
      },
      {
        "duration": 0,
        "start_time": "2023-09-21T17:53:34.672Z"
      },
      {
        "duration": 0,
        "start_time": "2023-09-21T17:53:34.673Z"
      },
      {
        "duration": 0,
        "start_time": "2023-09-21T17:53:34.674Z"
      },
      {
        "duration": 0,
        "start_time": "2023-09-21T17:53:34.676Z"
      },
      {
        "duration": 82,
        "start_time": "2023-09-21T17:53:55.474Z"
      },
      {
        "duration": 83,
        "start_time": "2023-09-21T17:54:48.407Z"
      },
      {
        "duration": 38,
        "start_time": "2023-09-21T17:55:07.481Z"
      },
      {
        "duration": 5,
        "start_time": "2023-09-21T17:55:07.522Z"
      },
      {
        "duration": 10,
        "start_time": "2023-09-21T17:55:07.529Z"
      },
      {
        "duration": 10,
        "start_time": "2023-09-21T17:55:07.540Z"
      },
      {
        "duration": 9,
        "start_time": "2023-09-21T17:55:07.554Z"
      },
      {
        "duration": 9,
        "start_time": "2023-09-21T17:55:07.565Z"
      },
      {
        "duration": 11,
        "start_time": "2023-09-21T17:55:07.575Z"
      },
      {
        "duration": 9,
        "start_time": "2023-09-21T17:55:07.587Z"
      },
      {
        "duration": 24,
        "start_time": "2023-09-21T17:55:07.598Z"
      },
      {
        "duration": 33,
        "start_time": "2023-09-21T17:55:07.624Z"
      },
      {
        "duration": 10,
        "start_time": "2023-09-21T17:55:07.659Z"
      },
      {
        "duration": 5,
        "start_time": "2023-09-21T17:55:07.671Z"
      },
      {
        "duration": 24,
        "start_time": "2023-09-21T17:55:07.678Z"
      },
      {
        "duration": 8,
        "start_time": "2023-09-21T17:55:07.706Z"
      },
      {
        "duration": 29,
        "start_time": "2023-09-21T17:55:07.716Z"
      },
      {
        "duration": 33,
        "start_time": "2023-09-21T17:55:07.747Z"
      },
      {
        "duration": 36,
        "start_time": "2023-09-21T17:55:07.783Z"
      },
      {
        "duration": 6,
        "start_time": "2023-09-21T17:55:07.822Z"
      },
      {
        "duration": 33,
        "start_time": "2023-09-21T17:55:07.830Z"
      },
      {
        "duration": 706,
        "start_time": "2023-09-21T17:55:07.866Z"
      },
      {
        "duration": 4,
        "start_time": "2023-09-21T17:55:08.574Z"
      },
      {
        "duration": 39,
        "start_time": "2023-09-21T17:55:08.580Z"
      },
      {
        "duration": 14,
        "start_time": "2023-09-21T17:55:08.621Z"
      },
      {
        "duration": 56,
        "start_time": "2023-09-21T17:55:08.637Z"
      },
      {
        "duration": 34,
        "start_time": "2023-09-21T17:55:08.695Z"
      },
      {
        "duration": 14,
        "start_time": "2023-09-21T17:55:08.731Z"
      },
      {
        "duration": 21,
        "start_time": "2023-09-21T17:55:08.749Z"
      },
      {
        "duration": 15,
        "start_time": "2023-09-21T17:55:08.772Z"
      },
      {
        "duration": 52,
        "start_time": "2023-09-21T17:55:08.789Z"
      },
      {
        "duration": 89,
        "start_time": "2023-09-21T17:55:08.843Z"
      },
      {
        "duration": 0,
        "start_time": "2023-09-21T17:55:08.935Z"
      },
      {
        "duration": 0,
        "start_time": "2023-09-21T17:55:08.936Z"
      },
      {
        "duration": 0,
        "start_time": "2023-09-21T17:55:08.937Z"
      },
      {
        "duration": 0,
        "start_time": "2023-09-21T17:55:08.939Z"
      },
      {
        "duration": 0,
        "start_time": "2023-09-21T17:55:08.939Z"
      },
      {
        "duration": 0,
        "start_time": "2023-09-21T17:55:08.942Z"
      },
      {
        "duration": 0,
        "start_time": "2023-09-21T17:55:08.943Z"
      },
      {
        "duration": 0,
        "start_time": "2023-09-21T17:55:08.944Z"
      },
      {
        "duration": 0,
        "start_time": "2023-09-21T17:55:08.946Z"
      },
      {
        "duration": 0,
        "start_time": "2023-09-21T17:55:08.950Z"
      },
      {
        "duration": 0,
        "start_time": "2023-09-21T17:55:08.955Z"
      },
      {
        "duration": 0,
        "start_time": "2023-09-21T17:55:08.956Z"
      },
      {
        "duration": 0,
        "start_time": "2023-09-21T17:55:08.958Z"
      },
      {
        "duration": 0,
        "start_time": "2023-09-21T17:55:08.959Z"
      },
      {
        "duration": 0,
        "start_time": "2023-09-21T17:55:08.969Z"
      },
      {
        "duration": 0,
        "start_time": "2023-09-21T17:55:08.972Z"
      },
      {
        "duration": 0,
        "start_time": "2023-09-21T17:55:08.973Z"
      },
      {
        "duration": 0,
        "start_time": "2023-09-21T17:55:08.973Z"
      },
      {
        "duration": 0,
        "start_time": "2023-09-21T17:55:08.974Z"
      },
      {
        "duration": 0,
        "start_time": "2023-09-21T17:55:08.975Z"
      },
      {
        "duration": 0,
        "start_time": "2023-09-21T17:55:08.975Z"
      },
      {
        "duration": 0,
        "start_time": "2023-09-21T17:55:08.976Z"
      },
      {
        "duration": 0,
        "start_time": "2023-09-21T17:55:08.977Z"
      },
      {
        "duration": 0,
        "start_time": "2023-09-21T17:55:08.978Z"
      },
      {
        "duration": 0,
        "start_time": "2023-09-21T17:55:08.978Z"
      },
      {
        "duration": 0,
        "start_time": "2023-09-21T17:55:08.979Z"
      },
      {
        "duration": 0,
        "start_time": "2023-09-21T17:55:08.980Z"
      },
      {
        "duration": 0,
        "start_time": "2023-09-21T17:55:08.981Z"
      },
      {
        "duration": 0,
        "start_time": "2023-09-21T17:55:08.983Z"
      },
      {
        "duration": 0,
        "start_time": "2023-09-21T17:55:08.984Z"
      },
      {
        "duration": 0,
        "start_time": "2023-09-21T17:55:08.985Z"
      },
      {
        "duration": 0,
        "start_time": "2023-09-21T17:55:08.987Z"
      },
      {
        "duration": 0,
        "start_time": "2023-09-21T17:55:08.988Z"
      },
      {
        "duration": 0,
        "start_time": "2023-09-21T17:55:08.989Z"
      },
      {
        "duration": 0,
        "start_time": "2023-09-21T17:55:08.990Z"
      },
      {
        "duration": 0,
        "start_time": "2023-09-21T17:55:08.992Z"
      },
      {
        "duration": 0,
        "start_time": "2023-09-21T17:55:08.995Z"
      },
      {
        "duration": 0,
        "start_time": "2023-09-21T17:55:08.996Z"
      },
      {
        "duration": 0,
        "start_time": "2023-09-21T17:55:08.998Z"
      },
      {
        "duration": 0,
        "start_time": "2023-09-21T17:55:08.999Z"
      },
      {
        "duration": 0,
        "start_time": "2023-09-21T17:55:09.000Z"
      },
      {
        "duration": 0,
        "start_time": "2023-09-21T17:55:09.047Z"
      },
      {
        "duration": 0,
        "start_time": "2023-09-21T17:55:09.052Z"
      },
      {
        "duration": 0,
        "start_time": "2023-09-21T17:55:09.053Z"
      },
      {
        "duration": 0,
        "start_time": "2023-09-21T17:55:09.055Z"
      },
      {
        "duration": 0,
        "start_time": "2023-09-21T17:55:09.056Z"
      },
      {
        "duration": 0,
        "start_time": "2023-09-21T17:55:09.057Z"
      },
      {
        "duration": 0,
        "start_time": "2023-09-21T17:55:09.058Z"
      },
      {
        "duration": 0,
        "start_time": "2023-09-21T17:55:09.060Z"
      },
      {
        "duration": 0,
        "start_time": "2023-09-21T17:55:09.064Z"
      },
      {
        "duration": 0,
        "start_time": "2023-09-21T17:55:09.065Z"
      },
      {
        "duration": 0,
        "start_time": "2023-09-21T17:55:09.066Z"
      },
      {
        "duration": 0,
        "start_time": "2023-09-21T17:55:09.068Z"
      },
      {
        "duration": 0,
        "start_time": "2023-09-21T17:55:09.069Z"
      },
      {
        "duration": 0,
        "start_time": "2023-09-21T17:55:09.070Z"
      },
      {
        "duration": 0,
        "start_time": "2023-09-21T17:55:09.072Z"
      },
      {
        "duration": 0,
        "start_time": "2023-09-21T17:55:09.073Z"
      },
      {
        "duration": 0,
        "start_time": "2023-09-21T17:55:09.075Z"
      },
      {
        "duration": 6,
        "start_time": "2023-09-21T17:56:11.236Z"
      },
      {
        "duration": 62,
        "start_time": "2023-09-21T17:56:11.244Z"
      },
      {
        "duration": 19,
        "start_time": "2023-09-21T17:56:11.308Z"
      },
      {
        "duration": 30,
        "start_time": "2023-09-21T17:56:11.329Z"
      },
      {
        "duration": 27,
        "start_time": "2023-09-21T17:56:11.364Z"
      },
      {
        "duration": 0,
        "start_time": "2023-09-21T17:56:11.394Z"
      },
      {
        "duration": 0,
        "start_time": "2023-09-21T17:56:11.395Z"
      },
      {
        "duration": 0,
        "start_time": "2023-09-21T17:56:11.396Z"
      },
      {
        "duration": 0,
        "start_time": "2023-09-21T17:56:11.397Z"
      },
      {
        "duration": 0,
        "start_time": "2023-09-21T17:56:11.398Z"
      },
      {
        "duration": 0,
        "start_time": "2023-09-21T17:56:11.399Z"
      },
      {
        "duration": 0,
        "start_time": "2023-09-21T17:56:11.400Z"
      },
      {
        "duration": 0,
        "start_time": "2023-09-21T17:56:11.401Z"
      },
      {
        "duration": 0,
        "start_time": "2023-09-21T17:56:11.402Z"
      },
      {
        "duration": 0,
        "start_time": "2023-09-21T17:56:11.404Z"
      },
      {
        "duration": 0,
        "start_time": "2023-09-21T17:56:11.405Z"
      },
      {
        "duration": 0,
        "start_time": "2023-09-21T17:56:11.406Z"
      },
      {
        "duration": 0,
        "start_time": "2023-09-21T17:56:11.407Z"
      },
      {
        "duration": 0,
        "start_time": "2023-09-21T17:56:11.408Z"
      },
      {
        "duration": 0,
        "start_time": "2023-09-21T17:56:11.410Z"
      },
      {
        "duration": 0,
        "start_time": "2023-09-21T17:56:11.411Z"
      },
      {
        "duration": 0,
        "start_time": "2023-09-21T17:56:11.412Z"
      },
      {
        "duration": 0,
        "start_time": "2023-09-21T17:56:11.453Z"
      },
      {
        "duration": 0,
        "start_time": "2023-09-21T17:56:11.456Z"
      },
      {
        "duration": 0,
        "start_time": "2023-09-21T17:56:11.457Z"
      },
      {
        "duration": 0,
        "start_time": "2023-09-21T17:56:11.458Z"
      },
      {
        "duration": 0,
        "start_time": "2023-09-21T17:56:11.461Z"
      },
      {
        "duration": 0,
        "start_time": "2023-09-21T17:56:11.464Z"
      },
      {
        "duration": 0,
        "start_time": "2023-09-21T17:56:11.467Z"
      },
      {
        "duration": 0,
        "start_time": "2023-09-21T17:56:11.470Z"
      },
      {
        "duration": 0,
        "start_time": "2023-09-21T17:56:11.472Z"
      },
      {
        "duration": 0,
        "start_time": "2023-09-21T17:56:11.473Z"
      },
      {
        "duration": 0,
        "start_time": "2023-09-21T17:56:11.474Z"
      },
      {
        "duration": 0,
        "start_time": "2023-09-21T17:56:11.476Z"
      },
      {
        "duration": 0,
        "start_time": "2023-09-21T17:56:11.477Z"
      },
      {
        "duration": 0,
        "start_time": "2023-09-21T17:56:11.478Z"
      },
      {
        "duration": 0,
        "start_time": "2023-09-21T17:56:11.479Z"
      },
      {
        "duration": 0,
        "start_time": "2023-09-21T17:56:11.481Z"
      },
      {
        "duration": 0,
        "start_time": "2023-09-21T17:56:11.482Z"
      },
      {
        "duration": 0,
        "start_time": "2023-09-21T17:56:11.483Z"
      },
      {
        "duration": 0,
        "start_time": "2023-09-21T17:56:11.484Z"
      },
      {
        "duration": 0,
        "start_time": "2023-09-21T17:56:11.485Z"
      },
      {
        "duration": 0,
        "start_time": "2023-09-21T17:56:11.486Z"
      },
      {
        "duration": 0,
        "start_time": "2023-09-21T17:56:11.488Z"
      },
      {
        "duration": 0,
        "start_time": "2023-09-21T17:56:11.489Z"
      },
      {
        "duration": 0,
        "start_time": "2023-09-21T17:56:11.492Z"
      },
      {
        "duration": 0,
        "start_time": "2023-09-21T17:56:11.493Z"
      },
      {
        "duration": 0,
        "start_time": "2023-09-21T17:56:11.495Z"
      },
      {
        "duration": 0,
        "start_time": "2023-09-21T17:56:11.496Z"
      },
      {
        "duration": 0,
        "start_time": "2023-09-21T17:56:11.497Z"
      },
      {
        "duration": 0,
        "start_time": "2023-09-21T17:56:11.498Z"
      },
      {
        "duration": 0,
        "start_time": "2023-09-21T17:56:11.499Z"
      },
      {
        "duration": 0,
        "start_time": "2023-09-21T17:56:11.500Z"
      },
      {
        "duration": 0,
        "start_time": "2023-09-21T17:56:11.501Z"
      },
      {
        "duration": 0,
        "start_time": "2023-09-21T17:56:11.502Z"
      },
      {
        "duration": 0,
        "start_time": "2023-09-21T17:56:11.503Z"
      },
      {
        "duration": 0,
        "start_time": "2023-09-21T17:56:11.550Z"
      },
      {
        "duration": 0,
        "start_time": "2023-09-21T17:56:11.551Z"
      },
      {
        "duration": 0,
        "start_time": "2023-09-21T17:56:11.552Z"
      },
      {
        "duration": 0,
        "start_time": "2023-09-21T17:56:11.555Z"
      },
      {
        "duration": 0,
        "start_time": "2023-09-21T17:56:11.557Z"
      },
      {
        "duration": 0,
        "start_time": "2023-09-21T17:56:11.559Z"
      },
      {
        "duration": 0,
        "start_time": "2023-09-21T17:56:11.561Z"
      },
      {
        "duration": 6,
        "start_time": "2023-09-21T18:01:29.357Z"
      },
      {
        "duration": 8,
        "start_time": "2023-09-21T18:01:37.919Z"
      },
      {
        "duration": 2,
        "start_time": "2023-09-21T18:01:40.260Z"
      },
      {
        "duration": 27,
        "start_time": "2023-09-21T18:01:41.601Z"
      },
      {
        "duration": 5,
        "start_time": "2023-09-21T18:02:16.118Z"
      },
      {
        "duration": 52574,
        "start_time": "2023-09-21T18:02:25.281Z"
      },
      {
        "duration": 6,
        "start_time": "2023-09-21T18:04:15.785Z"
      },
      {
        "duration": 9,
        "start_time": "2023-09-21T18:04:22.319Z"
      },
      {
        "duration": 3,
        "start_time": "2023-09-21T18:04:22.807Z"
      },
      {
        "duration": 24,
        "start_time": "2023-09-21T18:04:23.277Z"
      },
      {
        "duration": 51779,
        "start_time": "2023-09-21T18:04:24.390Z"
      },
      {
        "duration": 5,
        "start_time": "2023-09-21T18:05:16.171Z"
      },
      {
        "duration": 5,
        "start_time": "2023-09-21T18:05:29.476Z"
      },
      {
        "duration": 1182,
        "start_time": "2023-09-21T18:05:29.483Z"
      },
      {
        "duration": 6,
        "start_time": "2023-09-21T18:05:30.667Z"
      },
      {
        "duration": 2402,
        "start_time": "2023-09-21T18:08:30.037Z"
      },
      {
        "duration": 56,
        "start_time": "2023-09-21T18:08:32.442Z"
      },
      {
        "duration": 6,
        "start_time": "2023-09-21T18:08:32.501Z"
      },
      {
        "duration": 35,
        "start_time": "2023-09-21T18:08:32.509Z"
      },
      {
        "duration": 23,
        "start_time": "2023-09-21T18:08:32.547Z"
      },
      {
        "duration": 21,
        "start_time": "2023-09-21T18:08:32.573Z"
      },
      {
        "duration": 11,
        "start_time": "2023-09-21T18:08:32.597Z"
      },
      {
        "duration": 13,
        "start_time": "2023-09-21T18:08:32.610Z"
      },
      {
        "duration": 44,
        "start_time": "2023-09-21T18:08:32.626Z"
      },
      {
        "duration": 19,
        "start_time": "2023-09-21T18:08:32.673Z"
      },
      {
        "duration": 37,
        "start_time": "2023-09-21T18:08:32.694Z"
      },
      {
        "duration": 41,
        "start_time": "2023-09-21T18:08:32.733Z"
      },
      {
        "duration": 35,
        "start_time": "2023-09-21T18:08:32.776Z"
      },
      {
        "duration": 49,
        "start_time": "2023-09-21T18:08:32.813Z"
      },
      {
        "duration": 39,
        "start_time": "2023-09-21T18:08:32.863Z"
      },
      {
        "duration": 19,
        "start_time": "2023-09-21T18:08:32.904Z"
      },
      {
        "duration": 43,
        "start_time": "2023-09-21T18:08:32.925Z"
      },
      {
        "duration": 53,
        "start_time": "2023-09-21T18:08:32.970Z"
      },
      {
        "duration": 4,
        "start_time": "2023-09-21T18:08:33.025Z"
      },
      {
        "duration": 14,
        "start_time": "2023-09-21T18:08:33.032Z"
      },
      {
        "duration": 701,
        "start_time": "2023-09-21T18:08:33.057Z"
      },
      {
        "duration": 2,
        "start_time": "2023-09-21T18:08:33.763Z"
      },
      {
        "duration": 33,
        "start_time": "2023-09-21T18:08:33.767Z"
      },
      {
        "duration": 61,
        "start_time": "2023-09-21T18:08:33.802Z"
      },
      {
        "duration": 55,
        "start_time": "2023-09-21T18:08:33.865Z"
      },
      {
        "duration": 17,
        "start_time": "2023-09-21T18:08:33.921Z"
      },
      {
        "duration": 42,
        "start_time": "2023-09-21T18:08:33.940Z"
      },
      {
        "duration": 9,
        "start_time": "2023-09-21T18:08:33.987Z"
      },
      {
        "duration": 24,
        "start_time": "2023-09-21T18:08:33.997Z"
      },
      {
        "duration": 72,
        "start_time": "2023-09-21T18:08:34.023Z"
      }
    ],
    "colab": {
      "provenance": [],
      "include_colab_link": true
    },
    "kernelspec": {
      "display_name": "Python 3 (ipykernel)",
      "language": "python",
      "name": "python3"
    },
    "language_info": {
      "codemirror_mode": {
        "name": "ipython",
        "version": 3
      },
      "file_extension": ".py",
      "mimetype": "text/x-python",
      "name": "python",
      "nbconvert_exporter": "python",
      "pygments_lexer": "ipython3",
      "version": "3.9.5"
    },
    "toc": {
      "base_numbering": 1,
      "nav_menu": {},
      "number_sections": true,
      "sideBar": true,
      "skip_h1_title": true,
      "title_cell": "Table of Contents",
      "title_sidebar": "Contents",
      "toc_cell": false,
      "toc_position": {},
      "toc_section_display": true,
      "toc_window_display": true
    }
  },
  "nbformat": 4,
  "nbformat_minor": 0
}