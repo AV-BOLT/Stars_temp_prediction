{
  "nbformat": 4,
  "nbformat_minor": 0,
  "metadata": {
    "colab": {
      "provenance": [],
      "toc_visible": true,
      "mount_file_id": "1abbcXNhpNnyVazrDEZYDYeFLe_U42j_S",
      "authorship_tag": "ABX9TyMdakKhPB4E7fqejDguOgCK",
      "include_colab_link": true
    },
    "kernelspec": {
      "name": "python3",
      "display_name": "Python 3"
    },
    "language_info": {
      "name": "python"
    }
  },
  "cells": [
    {
      "cell_type": "markdown",
      "metadata": {
        "id": "view-in-github",
        "colab_type": "text"
      },
      "source": [
        "<a href=\"https://colab.research.google.com/github/AV-BOLT/Stars_temp_prediction/blob/master/%D0%BD%D0%B5%D0%B9%D1%80%D0%BE%D0%BD%D0%BD%D1%8B%D0%B5_%D1%81%D0%B5%D1%82%D0%B8_1.ipynb\" target=\"_parent\"><img src=\"https://colab.research.google.com/assets/colab-badge.svg\" alt=\"Open In Colab\"/></a>"
      ]
    },
    {
      "cell_type": "markdown",
      "source": [
        "# Прогнозирование температуры звезды"
      ],
      "metadata": {
        "id": "fFvQqQ8-PfPB"
      }
    },
    {
      "cell_type": "markdown",
      "source": [
        "Целевой признак - Temperature (K)"
      ],
      "metadata": {
        "id": "-ECx77jSPkKn"
      }
    },
    {
      "cell_type": "markdown",
      "source": [
        "## Загрузка данных и библиотек"
      ],
      "metadata": {
        "id": "U-JMnwGlDpxi"
      }
    },
    {
      "cell_type": "code",
      "source": [
        "import pandas as pd\n",
        "import re\n",
        "import torch.nn as nn\n",
        "import torch\n",
        "import numpy as np\n",
        "import random\n",
        "import seaborn as sns\n",
        "import matplotlib.pyplot as plt\n",
        "\n",
        "from math import ceil\n",
        "from sklearn.preprocessing import StandardScaler\n",
        "from sklearn.model_selection import train_test_split\n",
        "from sklearn.compose import ColumnTransformer\n",
        "from sklearn.feature_extraction.text import CountVectorizer\n",
        "from sklearn.preprocessing import OneHotEncoder"
      ],
      "metadata": {
        "id": "zE9Uk2hFDDcP"
      },
      "execution_count": 76,
      "outputs": []
    },
    {
      "cell_type": "code",
      "source": [],
      "metadata": {
        "id": "wVtJ2BJ2PDRT"
      },
      "execution_count": 76,
      "outputs": []
    },
    {
      "cell_type": "code",
      "source": [
        "data = pd.read_csv('/content/drive/MyDrive/Projects_YP/нейронные сети 1 проект/6_class.csv')\n",
        "data.head()"
      ],
      "metadata": {
        "colab": {
          "base_uri": "https://localhost:8080/",
          "height": 244
        },
        "id": "45G1MEBsDGI5",
        "outputId": "94c9aaab-48b0-4459-91a0-4db7a3d6a297"
      },
      "execution_count": 77,
      "outputs": [
        {
          "output_type": "execute_result",
          "data": {
            "text/plain": [
              "   Unnamed: 0  Temperature (K)  Luminosity(L/Lo)  Radius(R/Ro)  \\\n",
              "0           0             3068          0.002400        0.1700   \n",
              "1           1             3042          0.000500        0.1542   \n",
              "2           2             2600          0.000300        0.1020   \n",
              "3           3             2800          0.000200        0.1600   \n",
              "4           4             1939          0.000138        0.1030   \n",
              "\n",
              "   Absolute magnitude(Mv)  Star type Star color  \n",
              "0                   16.12          0        Red  \n",
              "1                   16.60          0        Red  \n",
              "2                   18.70          0        Red  \n",
              "3                   16.65          0        Red  \n",
              "4                   20.06          0        Red  "
            ],
            "text/html": [
              "\n",
              "  <div id=\"df-b931da47-7be4-4b15-a946-304acc72a5f1\" class=\"colab-df-container\">\n",
              "    <div>\n",
              "<style scoped>\n",
              "    .dataframe tbody tr th:only-of-type {\n",
              "        vertical-align: middle;\n",
              "    }\n",
              "\n",
              "    .dataframe tbody tr th {\n",
              "        vertical-align: top;\n",
              "    }\n",
              "\n",
              "    .dataframe thead th {\n",
              "        text-align: right;\n",
              "    }\n",
              "</style>\n",
              "<table border=\"1\" class=\"dataframe\">\n",
              "  <thead>\n",
              "    <tr style=\"text-align: right;\">\n",
              "      <th></th>\n",
              "      <th>Unnamed: 0</th>\n",
              "      <th>Temperature (K)</th>\n",
              "      <th>Luminosity(L/Lo)</th>\n",
              "      <th>Radius(R/Ro)</th>\n",
              "      <th>Absolute magnitude(Mv)</th>\n",
              "      <th>Star type</th>\n",
              "      <th>Star color</th>\n",
              "    </tr>\n",
              "  </thead>\n",
              "  <tbody>\n",
              "    <tr>\n",
              "      <th>0</th>\n",
              "      <td>0</td>\n",
              "      <td>3068</td>\n",
              "      <td>0.002400</td>\n",
              "      <td>0.1700</td>\n",
              "      <td>16.12</td>\n",
              "      <td>0</td>\n",
              "      <td>Red</td>\n",
              "    </tr>\n",
              "    <tr>\n",
              "      <th>1</th>\n",
              "      <td>1</td>\n",
              "      <td>3042</td>\n",
              "      <td>0.000500</td>\n",
              "      <td>0.1542</td>\n",
              "      <td>16.60</td>\n",
              "      <td>0</td>\n",
              "      <td>Red</td>\n",
              "    </tr>\n",
              "    <tr>\n",
              "      <th>2</th>\n",
              "      <td>2</td>\n",
              "      <td>2600</td>\n",
              "      <td>0.000300</td>\n",
              "      <td>0.1020</td>\n",
              "      <td>18.70</td>\n",
              "      <td>0</td>\n",
              "      <td>Red</td>\n",
              "    </tr>\n",
              "    <tr>\n",
              "      <th>3</th>\n",
              "      <td>3</td>\n",
              "      <td>2800</td>\n",
              "      <td>0.000200</td>\n",
              "      <td>0.1600</td>\n",
              "      <td>16.65</td>\n",
              "      <td>0</td>\n",
              "      <td>Red</td>\n",
              "    </tr>\n",
              "    <tr>\n",
              "      <th>4</th>\n",
              "      <td>4</td>\n",
              "      <td>1939</td>\n",
              "      <td>0.000138</td>\n",
              "      <td>0.1030</td>\n",
              "      <td>20.06</td>\n",
              "      <td>0</td>\n",
              "      <td>Red</td>\n",
              "    </tr>\n",
              "  </tbody>\n",
              "</table>\n",
              "</div>\n",
              "    <div class=\"colab-df-buttons\">\n",
              "\n",
              "  <div class=\"colab-df-container\">\n",
              "    <button class=\"colab-df-convert\" onclick=\"convertToInteractive('df-b931da47-7be4-4b15-a946-304acc72a5f1')\"\n",
              "            title=\"Convert this dataframe to an interactive table.\"\n",
              "            style=\"display:none;\">\n",
              "\n",
              "  <svg xmlns=\"http://www.w3.org/2000/svg\" height=\"24px\" viewBox=\"0 -960 960 960\">\n",
              "    <path d=\"M120-120v-720h720v720H120Zm60-500h600v-160H180v160Zm220 220h160v-160H400v160Zm0 220h160v-160H400v160ZM180-400h160v-160H180v160Zm440 0h160v-160H620v160ZM180-180h160v-160H180v160Zm440 0h160v-160H620v160Z\"/>\n",
              "  </svg>\n",
              "    </button>\n",
              "\n",
              "  <style>\n",
              "    .colab-df-container {\n",
              "      display:flex;\n",
              "      gap: 12px;\n",
              "    }\n",
              "\n",
              "    .colab-df-convert {\n",
              "      background-color: #E8F0FE;\n",
              "      border: none;\n",
              "      border-radius: 50%;\n",
              "      cursor: pointer;\n",
              "      display: none;\n",
              "      fill: #1967D2;\n",
              "      height: 32px;\n",
              "      padding: 0 0 0 0;\n",
              "      width: 32px;\n",
              "    }\n",
              "\n",
              "    .colab-df-convert:hover {\n",
              "      background-color: #E2EBFA;\n",
              "      box-shadow: 0px 1px 2px rgba(60, 64, 67, 0.3), 0px 1px 3px 1px rgba(60, 64, 67, 0.15);\n",
              "      fill: #174EA6;\n",
              "    }\n",
              "\n",
              "    .colab-df-buttons div {\n",
              "      margin-bottom: 4px;\n",
              "    }\n",
              "\n",
              "    [theme=dark] .colab-df-convert {\n",
              "      background-color: #3B4455;\n",
              "      fill: #D2E3FC;\n",
              "    }\n",
              "\n",
              "    [theme=dark] .colab-df-convert:hover {\n",
              "      background-color: #434B5C;\n",
              "      box-shadow: 0px 1px 3px 1px rgba(0, 0, 0, 0.15);\n",
              "      filter: drop-shadow(0px 1px 2px rgba(0, 0, 0, 0.3));\n",
              "      fill: #FFFFFF;\n",
              "    }\n",
              "  </style>\n",
              "\n",
              "    <script>\n",
              "      const buttonEl =\n",
              "        document.querySelector('#df-b931da47-7be4-4b15-a946-304acc72a5f1 button.colab-df-convert');\n",
              "      buttonEl.style.display =\n",
              "        google.colab.kernel.accessAllowed ? 'block' : 'none';\n",
              "\n",
              "      async function convertToInteractive(key) {\n",
              "        const element = document.querySelector('#df-b931da47-7be4-4b15-a946-304acc72a5f1');\n",
              "        const dataTable =\n",
              "          await google.colab.kernel.invokeFunction('convertToInteractive',\n",
              "                                                    [key], {});\n",
              "        if (!dataTable) return;\n",
              "\n",
              "        const docLinkHtml = 'Like what you see? Visit the ' +\n",
              "          '<a target=\"_blank\" href=https://colab.research.google.com/notebooks/data_table.ipynb>data table notebook</a>'\n",
              "          + ' to learn more about interactive tables.';\n",
              "        element.innerHTML = '';\n",
              "        dataTable['output_type'] = 'display_data';\n",
              "        await google.colab.output.renderOutput(dataTable, element);\n",
              "        const docLink = document.createElement('div');\n",
              "        docLink.innerHTML = docLinkHtml;\n",
              "        element.appendChild(docLink);\n",
              "      }\n",
              "    </script>\n",
              "  </div>\n",
              "\n",
              "\n",
              "<div id=\"df-87f04d85-9170-4f88-a142-fb71bf55c7bb\">\n",
              "  <button class=\"colab-df-quickchart\" onclick=\"quickchart('df-87f04d85-9170-4f88-a142-fb71bf55c7bb')\"\n",
              "            title=\"Suggest charts.\"\n",
              "            style=\"display:none;\">\n",
              "\n",
              "<svg xmlns=\"http://www.w3.org/2000/svg\" height=\"24px\"viewBox=\"0 0 24 24\"\n",
              "     width=\"24px\">\n",
              "    <g>\n",
              "        <path d=\"M19 3H5c-1.1 0-2 .9-2 2v14c0 1.1.9 2 2 2h14c1.1 0 2-.9 2-2V5c0-1.1-.9-2-2-2zM9 17H7v-7h2v7zm4 0h-2V7h2v10zm4 0h-2v-4h2v4z\"/>\n",
              "    </g>\n",
              "</svg>\n",
              "  </button>\n",
              "\n",
              "<style>\n",
              "  .colab-df-quickchart {\n",
              "      --bg-color: #E8F0FE;\n",
              "      --fill-color: #1967D2;\n",
              "      --hover-bg-color: #E2EBFA;\n",
              "      --hover-fill-color: #174EA6;\n",
              "      --disabled-fill-color: #AAA;\n",
              "      --disabled-bg-color: #DDD;\n",
              "  }\n",
              "\n",
              "  [theme=dark] .colab-df-quickchart {\n",
              "      --bg-color: #3B4455;\n",
              "      --fill-color: #D2E3FC;\n",
              "      --hover-bg-color: #434B5C;\n",
              "      --hover-fill-color: #FFFFFF;\n",
              "      --disabled-bg-color: #3B4455;\n",
              "      --disabled-fill-color: #666;\n",
              "  }\n",
              "\n",
              "  .colab-df-quickchart {\n",
              "    background-color: var(--bg-color);\n",
              "    border: none;\n",
              "    border-radius: 50%;\n",
              "    cursor: pointer;\n",
              "    display: none;\n",
              "    fill: var(--fill-color);\n",
              "    height: 32px;\n",
              "    padding: 0;\n",
              "    width: 32px;\n",
              "  }\n",
              "\n",
              "  .colab-df-quickchart:hover {\n",
              "    background-color: var(--hover-bg-color);\n",
              "    box-shadow: 0 1px 2px rgba(60, 64, 67, 0.3), 0 1px 3px 1px rgba(60, 64, 67, 0.15);\n",
              "    fill: var(--button-hover-fill-color);\n",
              "  }\n",
              "\n",
              "  .colab-df-quickchart-complete:disabled,\n",
              "  .colab-df-quickchart-complete:disabled:hover {\n",
              "    background-color: var(--disabled-bg-color);\n",
              "    fill: var(--disabled-fill-color);\n",
              "    box-shadow: none;\n",
              "  }\n",
              "\n",
              "  .colab-df-spinner {\n",
              "    border: 2px solid var(--fill-color);\n",
              "    border-color: transparent;\n",
              "    border-bottom-color: var(--fill-color);\n",
              "    animation:\n",
              "      spin 1s steps(1) infinite;\n",
              "  }\n",
              "\n",
              "  @keyframes spin {\n",
              "    0% {\n",
              "      border-color: transparent;\n",
              "      border-bottom-color: var(--fill-color);\n",
              "      border-left-color: var(--fill-color);\n",
              "    }\n",
              "    20% {\n",
              "      border-color: transparent;\n",
              "      border-left-color: var(--fill-color);\n",
              "      border-top-color: var(--fill-color);\n",
              "    }\n",
              "    30% {\n",
              "      border-color: transparent;\n",
              "      border-left-color: var(--fill-color);\n",
              "      border-top-color: var(--fill-color);\n",
              "      border-right-color: var(--fill-color);\n",
              "    }\n",
              "    40% {\n",
              "      border-color: transparent;\n",
              "      border-right-color: var(--fill-color);\n",
              "      border-top-color: var(--fill-color);\n",
              "    }\n",
              "    60% {\n",
              "      border-color: transparent;\n",
              "      border-right-color: var(--fill-color);\n",
              "    }\n",
              "    80% {\n",
              "      border-color: transparent;\n",
              "      border-right-color: var(--fill-color);\n",
              "      border-bottom-color: var(--fill-color);\n",
              "    }\n",
              "    90% {\n",
              "      border-color: transparent;\n",
              "      border-bottom-color: var(--fill-color);\n",
              "    }\n",
              "  }\n",
              "</style>\n",
              "\n",
              "  <script>\n",
              "    async function quickchart(key) {\n",
              "      const quickchartButtonEl =\n",
              "        document.querySelector('#' + key + ' button');\n",
              "      quickchartButtonEl.disabled = true;  // To prevent multiple clicks.\n",
              "      quickchartButtonEl.classList.add('colab-df-spinner');\n",
              "      try {\n",
              "        const charts = await google.colab.kernel.invokeFunction(\n",
              "            'suggestCharts', [key], {});\n",
              "      } catch (error) {\n",
              "        console.error('Error during call to suggestCharts:', error);\n",
              "      }\n",
              "      quickchartButtonEl.classList.remove('colab-df-spinner');\n",
              "      quickchartButtonEl.classList.add('colab-df-quickchart-complete');\n",
              "    }\n",
              "    (() => {\n",
              "      let quickchartButtonEl =\n",
              "        document.querySelector('#df-87f04d85-9170-4f88-a142-fb71bf55c7bb button');\n",
              "      quickchartButtonEl.style.display =\n",
              "        google.colab.kernel.accessAllowed ? 'block' : 'none';\n",
              "    })();\n",
              "  </script>\n",
              "</div>\n",
              "    </div>\n",
              "  </div>\n"
            ]
          },
          "metadata": {},
          "execution_count": 77
        }
      ]
    },
    {
      "cell_type": "code",
      "source": [
        "data.columns"
      ],
      "metadata": {
        "colab": {
          "base_uri": "https://localhost:8080/"
        },
        "id": "0kifZshaet_M",
        "outputId": "02d909d7-0bfd-4e52-b61c-fd726f7aee0f"
      },
      "execution_count": 78,
      "outputs": [
        {
          "output_type": "execute_result",
          "data": {
            "text/plain": [
              "Index(['Unnamed: 0', 'Temperature (K)', 'Luminosity(L/Lo)', 'Radius(R/Ro)',\n",
              "       'Absolute magnitude(Mv)', 'Star type', 'Star color'],\n",
              "      dtype='object')"
            ]
          },
          "metadata": {},
          "execution_count": 78
        }
      ]
    },
    {
      "cell_type": "code",
      "source": [
        "data = data.drop('Unnamed: 0', axis = 1)\n",
        "data.columns"
      ],
      "metadata": {
        "colab": {
          "base_uri": "https://localhost:8080/"
        },
        "id": "veBGlqleRbAb",
        "outputId": "70deb4bc-f997-443c-f2ec-1b95b2fb857e"
      },
      "execution_count": 79,
      "outputs": [
        {
          "output_type": "execute_result",
          "data": {
            "text/plain": [
              "Index(['Temperature (K)', 'Luminosity(L/Lo)', 'Radius(R/Ro)',\n",
              "       'Absolute magnitude(Mv)', 'Star type', 'Star color'],\n",
              "      dtype='object')"
            ]
          },
          "metadata": {},
          "execution_count": 79
        }
      ]
    },
    {
      "cell_type": "code",
      "source": [
        "RANDOM_STATE = 42"
      ],
      "metadata": {
        "id": "03WQJNGreZCd"
      },
      "execution_count": 80,
      "outputs": []
    },
    {
      "cell_type": "code",
      "source": [
        "# Зададим константу для воспроизводимости результатов\n",
        "torch.manual_seed(RANDOM_STATE)"
      ],
      "metadata": {
        "colab": {
          "base_uri": "https://localhost:8080/"
        },
        "id": "gFVKus-fdRd8",
        "outputId": "ff3ab93e-1764-40d3-eaed-c26f0d8aee8b"
      },
      "execution_count": 81,
      "outputs": [
        {
          "output_type": "execute_result",
          "data": {
            "text/plain": [
              "<torch._C.Generator at 0x793a48504e70>"
            ]
          },
          "metadata": {},
          "execution_count": 81
        }
      ]
    },
    {
      "cell_type": "code",
      "source": [
        "np.random.seed(RANDOM_STATE)"
      ],
      "metadata": {
        "id": "7Kq-nBnPqtFx"
      },
      "execution_count": 82,
      "outputs": []
    },
    {
      "cell_type": "code",
      "source": [
        "# переименуем признаки\n",
        "data.columns = ['temperature',\n",
        "                'luminosity',\n",
        "                'radius',\n",
        "                'magnitude',\n",
        "                'star_type',\n",
        "                'star_color']"
      ],
      "metadata": {
        "id": "dtRfHWeg5eQg"
      },
      "execution_count": 83,
      "outputs": []
    },
    {
      "cell_type": "code",
      "source": [
        "data.columns"
      ],
      "metadata": {
        "colab": {
          "base_uri": "https://localhost:8080/"
        },
        "id": "AKqIiAiB5jxG",
        "outputId": "c0d5c7d6-a1f6-4564-f148-f9d222068d97"
      },
      "execution_count": 84,
      "outputs": [
        {
          "output_type": "execute_result",
          "data": {
            "text/plain": [
              "Index(['temperature', 'luminosity', 'radius', 'magnitude', 'star_type',\n",
              "       'star_color'],\n",
              "      dtype='object')"
            ]
          },
          "metadata": {},
          "execution_count": 84
        }
      ]
    },
    {
      "cell_type": "markdown",
      "source": [
        "## Исследовательский анализ"
      ],
      "metadata": {
        "id": "5Rw6sLvFFQlq"
      }
    },
    {
      "cell_type": "markdown",
      "source": [
        "Проверим данные на типы данных и пропущенные значения."
      ],
      "metadata": {
        "id": "jZw8hd02FbJP"
      }
    },
    {
      "cell_type": "code",
      "source": [
        "data.shape"
      ],
      "metadata": {
        "colab": {
          "base_uri": "https://localhost:8080/"
        },
        "id": "jg6X_UUZb1_y",
        "outputId": "3b00b674-c2df-4523-fa0c-f18383236ae1"
      },
      "execution_count": 85,
      "outputs": [
        {
          "output_type": "execute_result",
          "data": {
            "text/plain": [
              "(240, 6)"
            ]
          },
          "metadata": {},
          "execution_count": 85
        }
      ]
    },
    {
      "cell_type": "code",
      "source": [
        "data.info()"
      ],
      "metadata": {
        "colab": {
          "base_uri": "https://localhost:8080/"
        },
        "id": "dQyimagjFPxN",
        "outputId": "9d5ec9e1-6588-4bb2-a2b1-73b37dd48a91"
      },
      "execution_count": 86,
      "outputs": [
        {
          "output_type": "stream",
          "name": "stdout",
          "text": [
            "<class 'pandas.core.frame.DataFrame'>\n",
            "RangeIndex: 240 entries, 0 to 239\n",
            "Data columns (total 6 columns):\n",
            " #   Column       Non-Null Count  Dtype  \n",
            "---  ------       --------------  -----  \n",
            " 0   temperature  240 non-null    int64  \n",
            " 1   luminosity   240 non-null    float64\n",
            " 2   radius       240 non-null    float64\n",
            " 3   magnitude    240 non-null    float64\n",
            " 4   star_type    240 non-null    int64  \n",
            " 5   star_color   240 non-null    object \n",
            "dtypes: float64(3), int64(2), object(1)\n",
            "memory usage: 11.4+ KB\n"
          ]
        }
      ]
    },
    {
      "cell_type": "markdown",
      "source": [
        "В данных отсутствуют пропущенные значения.\n",
        "\n",
        "Присутствуют числовые и один признак категориальный.\n",
        "\n",
        "\n"
      ],
      "metadata": {
        "id": "zIRghRkSFkuS"
      }
    },
    {
      "cell_type": "markdown",
      "source": [
        "Проанализируем категориальный признак"
      ],
      "metadata": {
        "id": "v8VL-iJ9Khla"
      }
    },
    {
      "cell_type": "code",
      "source": [
        "categorical = data.select_dtypes(include = 'object').columns.to_list()\n",
        "categorical"
      ],
      "metadata": {
        "colab": {
          "base_uri": "https://localhost:8080/"
        },
        "id": "OQR8ZHNm6Xnx",
        "outputId": "f29302b9-8422-4afa-a67b-a2edbd9a7259"
      },
      "execution_count": 87,
      "outputs": [
        {
          "output_type": "execute_result",
          "data": {
            "text/plain": [
              "['star_color']"
            ]
          },
          "metadata": {},
          "execution_count": 87
        }
      ]
    },
    {
      "cell_type": "markdown",
      "source": [
        "В признаке имеются неявные дубликаты.\n",
        "Необходимо:\n",
        "- привести к строчному регистру\n",
        "- заменить \"-\" на \"_\"\n",
        "- удалить пробелы"
      ],
      "metadata": {
        "id": "INRH6V4BKl5M"
      }
    },
    {
      "cell_type": "code",
      "source": [
        "def transform_values(df):\n",
        "\n",
        "   #удаляем пробелы в конце строк\n",
        "    df = df.applymap(lambda x: x.rstrip())\n",
        "     # заменяем пробелы на underscore\n",
        "\n",
        "    df = df.applymap(lambda x: x.replace(' ', '_') if isinstance(x, str) else x)\n",
        "\n",
        "    # заменяем дефис на underscore\n",
        "    df = df.applymap(lambda x: x.replace('-', '_') if isinstance(x, str) else x)\n",
        "\n",
        "    # добавляем underscore между словом и числом\n",
        "    df = df.applymap(lambda x: '_'.join(part for part in x.split() if not part.isdigit()) if isinstance(x, str) else x)\n",
        "\n",
        "    # приводим к строчному регистру\n",
        "    df = df.applymap(lambda x: x.lower() if isinstance(x, str) else x)\n",
        "\n",
        "    return df"
      ],
      "metadata": {
        "id": "_Gg1qtFKDQYK"
      },
      "execution_count": 88,
      "outputs": []
    },
    {
      "cell_type": "code",
      "source": [
        "data[categorical] = transform_values(data[categorical])\n",
        "data[categorical]"
      ],
      "metadata": {
        "colab": {
          "base_uri": "https://localhost:8080/",
          "height": 424
        },
        "id": "r6sYrSoQKfQG",
        "outputId": "21321265-58cb-42d2-d406-7815437b087f"
      },
      "execution_count": 89,
      "outputs": [
        {
          "output_type": "execute_result",
          "data": {
            "text/plain": [
              "    star_color\n",
              "0          red\n",
              "1          red\n",
              "2          red\n",
              "3          red\n",
              "4          red\n",
              "..         ...\n",
              "235       blue\n",
              "236       blue\n",
              "237      white\n",
              "238      white\n",
              "239       blue\n",
              "\n",
              "[240 rows x 1 columns]"
            ],
            "text/html": [
              "\n",
              "  <div id=\"df-e4c2dd49-abe3-4aa3-84a7-2d117c416cd9\" class=\"colab-df-container\">\n",
              "    <div>\n",
              "<style scoped>\n",
              "    .dataframe tbody tr th:only-of-type {\n",
              "        vertical-align: middle;\n",
              "    }\n",
              "\n",
              "    .dataframe tbody tr th {\n",
              "        vertical-align: top;\n",
              "    }\n",
              "\n",
              "    .dataframe thead th {\n",
              "        text-align: right;\n",
              "    }\n",
              "</style>\n",
              "<table border=\"1\" class=\"dataframe\">\n",
              "  <thead>\n",
              "    <tr style=\"text-align: right;\">\n",
              "      <th></th>\n",
              "      <th>star_color</th>\n",
              "    </tr>\n",
              "  </thead>\n",
              "  <tbody>\n",
              "    <tr>\n",
              "      <th>0</th>\n",
              "      <td>red</td>\n",
              "    </tr>\n",
              "    <tr>\n",
              "      <th>1</th>\n",
              "      <td>red</td>\n",
              "    </tr>\n",
              "    <tr>\n",
              "      <th>2</th>\n",
              "      <td>red</td>\n",
              "    </tr>\n",
              "    <tr>\n",
              "      <th>3</th>\n",
              "      <td>red</td>\n",
              "    </tr>\n",
              "    <tr>\n",
              "      <th>4</th>\n",
              "      <td>red</td>\n",
              "    </tr>\n",
              "    <tr>\n",
              "      <th>...</th>\n",
              "      <td>...</td>\n",
              "    </tr>\n",
              "    <tr>\n",
              "      <th>235</th>\n",
              "      <td>blue</td>\n",
              "    </tr>\n",
              "    <tr>\n",
              "      <th>236</th>\n",
              "      <td>blue</td>\n",
              "    </tr>\n",
              "    <tr>\n",
              "      <th>237</th>\n",
              "      <td>white</td>\n",
              "    </tr>\n",
              "    <tr>\n",
              "      <th>238</th>\n",
              "      <td>white</td>\n",
              "    </tr>\n",
              "    <tr>\n",
              "      <th>239</th>\n",
              "      <td>blue</td>\n",
              "    </tr>\n",
              "  </tbody>\n",
              "</table>\n",
              "<p>240 rows × 1 columns</p>\n",
              "</div>\n",
              "    <div class=\"colab-df-buttons\">\n",
              "\n",
              "  <div class=\"colab-df-container\">\n",
              "    <button class=\"colab-df-convert\" onclick=\"convertToInteractive('df-e4c2dd49-abe3-4aa3-84a7-2d117c416cd9')\"\n",
              "            title=\"Convert this dataframe to an interactive table.\"\n",
              "            style=\"display:none;\">\n",
              "\n",
              "  <svg xmlns=\"http://www.w3.org/2000/svg\" height=\"24px\" viewBox=\"0 -960 960 960\">\n",
              "    <path d=\"M120-120v-720h720v720H120Zm60-500h600v-160H180v160Zm220 220h160v-160H400v160Zm0 220h160v-160H400v160ZM180-400h160v-160H180v160Zm440 0h160v-160H620v160ZM180-180h160v-160H180v160Zm440 0h160v-160H620v160Z\"/>\n",
              "  </svg>\n",
              "    </button>\n",
              "\n",
              "  <style>\n",
              "    .colab-df-container {\n",
              "      display:flex;\n",
              "      gap: 12px;\n",
              "    }\n",
              "\n",
              "    .colab-df-convert {\n",
              "      background-color: #E8F0FE;\n",
              "      border: none;\n",
              "      border-radius: 50%;\n",
              "      cursor: pointer;\n",
              "      display: none;\n",
              "      fill: #1967D2;\n",
              "      height: 32px;\n",
              "      padding: 0 0 0 0;\n",
              "      width: 32px;\n",
              "    }\n",
              "\n",
              "    .colab-df-convert:hover {\n",
              "      background-color: #E2EBFA;\n",
              "      box-shadow: 0px 1px 2px rgba(60, 64, 67, 0.3), 0px 1px 3px 1px rgba(60, 64, 67, 0.15);\n",
              "      fill: #174EA6;\n",
              "    }\n",
              "\n",
              "    .colab-df-buttons div {\n",
              "      margin-bottom: 4px;\n",
              "    }\n",
              "\n",
              "    [theme=dark] .colab-df-convert {\n",
              "      background-color: #3B4455;\n",
              "      fill: #D2E3FC;\n",
              "    }\n",
              "\n",
              "    [theme=dark] .colab-df-convert:hover {\n",
              "      background-color: #434B5C;\n",
              "      box-shadow: 0px 1px 3px 1px rgba(0, 0, 0, 0.15);\n",
              "      filter: drop-shadow(0px 1px 2px rgba(0, 0, 0, 0.3));\n",
              "      fill: #FFFFFF;\n",
              "    }\n",
              "  </style>\n",
              "\n",
              "    <script>\n",
              "      const buttonEl =\n",
              "        document.querySelector('#df-e4c2dd49-abe3-4aa3-84a7-2d117c416cd9 button.colab-df-convert');\n",
              "      buttonEl.style.display =\n",
              "        google.colab.kernel.accessAllowed ? 'block' : 'none';\n",
              "\n",
              "      async function convertToInteractive(key) {\n",
              "        const element = document.querySelector('#df-e4c2dd49-abe3-4aa3-84a7-2d117c416cd9');\n",
              "        const dataTable =\n",
              "          await google.colab.kernel.invokeFunction('convertToInteractive',\n",
              "                                                    [key], {});\n",
              "        if (!dataTable) return;\n",
              "\n",
              "        const docLinkHtml = 'Like what you see? Visit the ' +\n",
              "          '<a target=\"_blank\" href=https://colab.research.google.com/notebooks/data_table.ipynb>data table notebook</a>'\n",
              "          + ' to learn more about interactive tables.';\n",
              "        element.innerHTML = '';\n",
              "        dataTable['output_type'] = 'display_data';\n",
              "        await google.colab.output.renderOutput(dataTable, element);\n",
              "        const docLink = document.createElement('div');\n",
              "        docLink.innerHTML = docLinkHtml;\n",
              "        element.appendChild(docLink);\n",
              "      }\n",
              "    </script>\n",
              "  </div>\n",
              "\n",
              "\n",
              "<div id=\"df-5f733464-f107-4daf-9188-f43b88457cf0\">\n",
              "  <button class=\"colab-df-quickchart\" onclick=\"quickchart('df-5f733464-f107-4daf-9188-f43b88457cf0')\"\n",
              "            title=\"Suggest charts.\"\n",
              "            style=\"display:none;\">\n",
              "\n",
              "<svg xmlns=\"http://www.w3.org/2000/svg\" height=\"24px\"viewBox=\"0 0 24 24\"\n",
              "     width=\"24px\">\n",
              "    <g>\n",
              "        <path d=\"M19 3H5c-1.1 0-2 .9-2 2v14c0 1.1.9 2 2 2h14c1.1 0 2-.9 2-2V5c0-1.1-.9-2-2-2zM9 17H7v-7h2v7zm4 0h-2V7h2v10zm4 0h-2v-4h2v4z\"/>\n",
              "    </g>\n",
              "</svg>\n",
              "  </button>\n",
              "\n",
              "<style>\n",
              "  .colab-df-quickchart {\n",
              "      --bg-color: #E8F0FE;\n",
              "      --fill-color: #1967D2;\n",
              "      --hover-bg-color: #E2EBFA;\n",
              "      --hover-fill-color: #174EA6;\n",
              "      --disabled-fill-color: #AAA;\n",
              "      --disabled-bg-color: #DDD;\n",
              "  }\n",
              "\n",
              "  [theme=dark] .colab-df-quickchart {\n",
              "      --bg-color: #3B4455;\n",
              "      --fill-color: #D2E3FC;\n",
              "      --hover-bg-color: #434B5C;\n",
              "      --hover-fill-color: #FFFFFF;\n",
              "      --disabled-bg-color: #3B4455;\n",
              "      --disabled-fill-color: #666;\n",
              "  }\n",
              "\n",
              "  .colab-df-quickchart {\n",
              "    background-color: var(--bg-color);\n",
              "    border: none;\n",
              "    border-radius: 50%;\n",
              "    cursor: pointer;\n",
              "    display: none;\n",
              "    fill: var(--fill-color);\n",
              "    height: 32px;\n",
              "    padding: 0;\n",
              "    width: 32px;\n",
              "  }\n",
              "\n",
              "  .colab-df-quickchart:hover {\n",
              "    background-color: var(--hover-bg-color);\n",
              "    box-shadow: 0 1px 2px rgba(60, 64, 67, 0.3), 0 1px 3px 1px rgba(60, 64, 67, 0.15);\n",
              "    fill: var(--button-hover-fill-color);\n",
              "  }\n",
              "\n",
              "  .colab-df-quickchart-complete:disabled,\n",
              "  .colab-df-quickchart-complete:disabled:hover {\n",
              "    background-color: var(--disabled-bg-color);\n",
              "    fill: var(--disabled-fill-color);\n",
              "    box-shadow: none;\n",
              "  }\n",
              "\n",
              "  .colab-df-spinner {\n",
              "    border: 2px solid var(--fill-color);\n",
              "    border-color: transparent;\n",
              "    border-bottom-color: var(--fill-color);\n",
              "    animation:\n",
              "      spin 1s steps(1) infinite;\n",
              "  }\n",
              "\n",
              "  @keyframes spin {\n",
              "    0% {\n",
              "      border-color: transparent;\n",
              "      border-bottom-color: var(--fill-color);\n",
              "      border-left-color: var(--fill-color);\n",
              "    }\n",
              "    20% {\n",
              "      border-color: transparent;\n",
              "      border-left-color: var(--fill-color);\n",
              "      border-top-color: var(--fill-color);\n",
              "    }\n",
              "    30% {\n",
              "      border-color: transparent;\n",
              "      border-left-color: var(--fill-color);\n",
              "      border-top-color: var(--fill-color);\n",
              "      border-right-color: var(--fill-color);\n",
              "    }\n",
              "    40% {\n",
              "      border-color: transparent;\n",
              "      border-right-color: var(--fill-color);\n",
              "      border-top-color: var(--fill-color);\n",
              "    }\n",
              "    60% {\n",
              "      border-color: transparent;\n",
              "      border-right-color: var(--fill-color);\n",
              "    }\n",
              "    80% {\n",
              "      border-color: transparent;\n",
              "      border-right-color: var(--fill-color);\n",
              "      border-bottom-color: var(--fill-color);\n",
              "    }\n",
              "    90% {\n",
              "      border-color: transparent;\n",
              "      border-bottom-color: var(--fill-color);\n",
              "    }\n",
              "  }\n",
              "</style>\n",
              "\n",
              "  <script>\n",
              "    async function quickchart(key) {\n",
              "      const quickchartButtonEl =\n",
              "        document.querySelector('#' + key + ' button');\n",
              "      quickchartButtonEl.disabled = true;  // To prevent multiple clicks.\n",
              "      quickchartButtonEl.classList.add('colab-df-spinner');\n",
              "      try {\n",
              "        const charts = await google.colab.kernel.invokeFunction(\n",
              "            'suggestCharts', [key], {});\n",
              "      } catch (error) {\n",
              "        console.error('Error during call to suggestCharts:', error);\n",
              "      }\n",
              "      quickchartButtonEl.classList.remove('colab-df-spinner');\n",
              "      quickchartButtonEl.classList.add('colab-df-quickchart-complete');\n",
              "    }\n",
              "    (() => {\n",
              "      let quickchartButtonEl =\n",
              "        document.querySelector('#df-5f733464-f107-4daf-9188-f43b88457cf0 button');\n",
              "      quickchartButtonEl.style.display =\n",
              "        google.colab.kernel.accessAllowed ? 'block' : 'none';\n",
              "    })();\n",
              "  </script>\n",
              "</div>\n",
              "    </div>\n",
              "  </div>\n"
            ]
          },
          "metadata": {},
          "execution_count": 89
        }
      ]
    },
    {
      "cell_type": "code",
      "source": [
        "list(data['star_color'].sort_values().unique())"
      ],
      "metadata": {
        "colab": {
          "base_uri": "https://localhost:8080/"
        },
        "id": "dSoL5GUkR46L",
        "outputId": "f4d3bb0f-59ef-4325-c4b8-6a3e924a61a4"
      },
      "execution_count": 90,
      "outputs": [
        {
          "output_type": "execute_result",
          "data": {
            "text/plain": [
              "['blue',\n",
              " 'blue_white',\n",
              " 'orange',\n",
              " 'orange_red',\n",
              " 'pale_yellow_orange',\n",
              " 'red',\n",
              " 'white',\n",
              " 'white_yellow',\n",
              " 'whitish',\n",
              " 'yellow_white',\n",
              " 'yellowish',\n",
              " 'yellowish_white']"
            ]
          },
          "metadata": {},
          "execution_count": 90
        }
      ]
    },
    {
      "cell_type": "markdown",
      "source": [
        "Дубликаты удалены."
      ],
      "metadata": {
        "id": "XQW98j6wbJmZ"
      }
    },
    {
      "cell_type": "code",
      "source": [
        "data['star_color'].unique()"
      ],
      "metadata": {
        "colab": {
          "base_uri": "https://localhost:8080/"
        },
        "id": "Xm3zG_j1Uhnw",
        "outputId": "25230240-54c4-49e4-befe-9ea3b44f4939"
      },
      "execution_count": 91,
      "outputs": [
        {
          "output_type": "execute_result",
          "data": {
            "text/plain": [
              "array(['red', 'blue_white', 'white', 'yellowish_white',\n",
              "       'pale_yellow_orange', 'blue', 'whitish', 'yellow_white', 'orange',\n",
              "       'white_yellow', 'yellowish', 'orange_red'], dtype=object)"
            ]
          },
          "metadata": {},
          "execution_count": 91
        }
      ]
    },
    {
      "cell_type": "code",
      "source": [
        "data.dtypes"
      ],
      "metadata": {
        "colab": {
          "base_uri": "https://localhost:8080/"
        },
        "id": "NLevGGV7R5Dj",
        "outputId": "170011fe-ebf1-4924-b0fb-75aeb54cff88"
      },
      "execution_count": 92,
      "outputs": [
        {
          "output_type": "execute_result",
          "data": {
            "text/plain": [
              "temperature      int64\n",
              "luminosity     float64\n",
              "radius         float64\n",
              "magnitude      float64\n",
              "star_type        int64\n",
              "star_color      object\n",
              "dtype: object"
            ]
          },
          "metadata": {},
          "execution_count": 92
        }
      ]
    },
    {
      "cell_type": "code",
      "source": [
        "data[['star_type','star_color' ]].value_counts(normalize = True)"
      ],
      "metadata": {
        "colab": {
          "base_uri": "https://localhost:8080/"
        },
        "id": "4Xnua66aPwKC",
        "outputId": "d74e4130-1687-4a0e-e695-8025568afe8b"
      },
      "execution_count": 93,
      "outputs": [
        {
          "output_type": "execute_result",
          "data": {
            "text/plain": [
              "star_type  star_color        \n",
              "0          red                   0.166667\n",
              "1          red                   0.166667\n",
              "4          blue                  0.129167\n",
              "5          red                   0.095833\n",
              "3          blue_white            0.087500\n",
              "2          blue_white            0.058333\n",
              "           blue                  0.054167\n",
              "4          red                   0.037500\n",
              "2          white                 0.033333\n",
              "3          yellow_white          0.033333\n",
              "5          blue                  0.029167\n",
              "           blue_white            0.025000\n",
              "3          blue                  0.020833\n",
              "2          yellowish_white       0.012500\n",
              "3          yellowish             0.012500\n",
              "5          orange                0.008333\n",
              "           white                 0.008333\n",
              "3          whitish               0.008333\n",
              "2          white_yellow          0.004167\n",
              "           pale_yellow_orange    0.004167\n",
              "3          orange_red            0.004167\n",
              "dtype: float64"
            ]
          },
          "metadata": {},
          "execution_count": 93
        }
      ]
    },
    {
      "cell_type": "markdown",
      "source": [
        "## Анализ числовых признаков"
      ],
      "metadata": {
        "id": "c4WgOsD8bUtj"
      }
    },
    {
      "cell_type": "code",
      "source": [
        "numerical = data.select_dtypes(include = ('int', 'float', 'bool')).columns.to_list()"
      ],
      "metadata": {
        "id": "b21BjUHqVXot"
      },
      "execution_count": 94,
      "outputs": []
    },
    {
      "cell_type": "code",
      "source": [
        "numerical =['luminosity', 'radius', 'magnitude', 'star_type']"
      ],
      "metadata": {
        "id": "uTcAJxLYZtJk"
      },
      "execution_count": 95,
      "outputs": []
    },
    {
      "cell_type": "markdown",
      "source": [],
      "metadata": {
        "id": "Oi7egBLoeP7k"
      }
    },
    {
      "cell_type": "code",
      "source": [
        "data[numerical].hist(layout = (4,3),\n",
        "                     figsize=(15, 10));\n"
      ],
      "metadata": {
        "colab": {
          "base_uri": "https://localhost:8080/",
          "height": 237
        },
        "id": "to5DqlxGbrnl",
        "outputId": "e5ed11b3-9bb0-4899-d655-edebb7836537"
      },
      "execution_count": 96,
      "outputs": [
        {
          "output_type": "display_data",
          "data": {
            "text/plain": [
              "<Figure size 1500x1000 with 12 Axes>"
            ],
            "image/png": "[encoded data removed]"
          },
          "metadata": {}
        }
      ]
    },
    {
      "cell_type": "markdown",
      "source": [
        "Видим, что числовые значения имеют разный порядок, значит необходимо будет перед обучением подготовить признаки."
      ],
      "metadata": {
        "id": "BtXmCUrXh7Fc"
      }
    },
    {
      "cell_type": "markdown",
      "source": [
        "##Подготовка данных для модели"
      ],
      "metadata": {
        "id": "GErvN0WjyxfT"
      }
    },
    {
      "cell_type": "code",
      "source": [
        "result = []"
      ],
      "metadata": {
        "id": "DoTLq1th5JeP"
      },
      "execution_count": 97,
      "outputs": []
    },
    {
      "cell_type": "code",
      "source": [
        "# функция для построения графика для результатов\n",
        "def plot (y_test, test_outputs, name):\n",
        "\n",
        "    #name это (название модели)\n",
        "\n",
        "    fact_values = y_test.numpy().flatten()\n",
        "    forecast_values = test_outputs.numpy().flatten()\n",
        "\n",
        "    # в тестовом датасете 48 звезд, но дальше их может быть больше\n",
        "    # поэтому ограничим\n",
        "    indexes = test[y].index[:48]\n",
        "\n",
        "    plt.figure(figsize=(8, 4))\n",
        "    sns.set_style('ticks', {'axes.grid': True})\n",
        "\n",
        "    # Создание столбчатой диаграммы для фактических значений\n",
        "    fact_plot = sns.barplot(x = indexes,\n",
        "                            y = fact_values,\n",
        "                            color='blue',\n",
        "                            alpha=0.9,\n",
        "                            label='Факт')\n",
        "\n",
        "    # Создание столбчатой диаграммы для прогнозов\n",
        "    forecast_plot = sns.barplot(x=indexes,\n",
        "                                y = forecast_values,\n",
        "                                color='yellow',\n",
        "                                alpha=0.7,\n",
        "                                label='Прогноз')\n",
        "\n",
        "    # Установка ширины столбцов и их позиции\n",
        "    bar_width = 0.6\n",
        "\n",
        "    for bar in fact_plot.patches + forecast_plot.patches:\n",
        "        bar.set_width(bar_width)\n",
        "        x = bar.get_x()\n",
        "        bar.set_x(x + bar_width / 2)\n",
        "\n",
        "    # Установка подписей осей и заголовка\n",
        "    plt.xlabel('Номер звезды в таблице данных', fontweight='bold')\n",
        "\n",
        "    plt.ylabel('Температура звезды', fontweight='bold')\n",
        "\n",
        "    plt.title(f'{name}')\n",
        "\n",
        "    plt.xticks(rotation=85)\n",
        "\n",
        "    plt.yscale('log') # чтобы на графике можно\n",
        "                       # было увидеть значения разных порядков\n",
        "\n",
        "    # Создание и настройка легенды\n",
        "    handles, labels = plt.gca().get_legend_handles_labels()\n",
        "\n",
        "    handles.reverse()\n",
        "    labels.reverse()\n",
        "    plt.legend(handles,\n",
        "               labels,\n",
        "               bbox_to_anchor=(0.5, -0.25),\n",
        "               loc='upper center',\n",
        "               ncol=2)\n",
        "\n",
        "    return plt.show()"
      ],
      "metadata": {
        "id": "qvDeilyxMXuH"
      },
      "execution_count": 98,
      "outputs": []
    },
    {
      "cell_type": "code",
      "source": [
        "X = data.drop('temperature', axis = 1).columns.to_list()\n",
        "y = 'temperature'"
      ],
      "metadata": {
        "id": "CGblOVti5XJQ"
      },
      "execution_count": 99,
      "outputs": []
    },
    {
      "cell_type": "markdown",
      "source": [
        "### baseline_model"
      ],
      "metadata": {
        "id": "kQnGpjuJ3uCe"
      }
    },
    {
      "cell_type": "markdown",
      "source": [
        "В качестве baseline модели будем использовать нейронную сеть следующей архитектуры:\n",
        "\n",
        "|  Название параметра |кол-во|  \n",
        "|---------------|-|\n",
        "|Входной слой  (нейронов)|3|\n",
        "|Скрытые слои   |2|\n",
        "|Выходной слой  (нейронов)|1|\n",
        "|Функция активации\n",
        "в выходном слое |nn.ReLU() |"
      ],
      "metadata": {
        "id": "3UOaASX-36xB"
      }
    },
    {
      "cell_type": "code",
      "source": [
        "# неизменяемые параметры сети для всех моделей\n",
        "\n",
        "hidden_neurons = 300\n",
        "\n",
        "output_neurons = 1\n",
        "\n",
        "loss = nn.MSELoss()\n",
        "\n",
        "num_epochs = 10000"
      ],
      "metadata": {
        "id": "r8FNoAXkWxvJ"
      },
      "execution_count": 100,
      "outputs": []
    },
    {
      "cell_type": "code",
      "source": [
        "class BaselineModel(nn.Module):\n",
        "    def __init__(self, input_neurons, hidden_neurons, output_neurons):\n",
        "        super(BaselineModel, self).__init__()\n",
        "        self.fc1 = nn.Linear(input_neurons, hidden_neurons)\n",
        "        self.act1 = nn.ReLU()\n",
        "        self.fc2 = nn.Linear(hidden_neurons, output_neurons)\n",
        "        self.act2 = nn.ReLU()\n",
        "\n",
        "        nn.init.xavier_uniform_(self.fc1.weight)\n",
        "        nn.init.constant_(self.fc1.bias, 0)\n",
        "        nn.init.xavier_uniform_(self.fc2.weight)\n",
        "        nn.init.constant_(self.fc2.bias, 0)\n",
        "\n",
        "    def forward(self, x):\n",
        "        x = self.fc1(x)\n",
        "        x = self.act1(x)\n",
        "        x = self.fc2(x)\n",
        "        x = self.act2(x)\n",
        "        return x\n"
      ],
      "metadata": {
        "id": "IdZHTsEfXaCV"
      },
      "execution_count": 101,
      "outputs": []
    },
    {
      "cell_type": "code",
      "source": [
        "#подготовим признаки для обучения\n",
        "train, valid = train_test_split(data,\n",
        "                                    test_size=0.4,\n",
        "                                    shuffle=True,\n",
        "                                    random_state=RANDOM_STATE)\n",
        "\n",
        "valid, test = train_test_split(valid,\n",
        "                               test_size=0.5,\n",
        "                               shuffle=True,\n",
        "                               random_state=RANDOM_STATE)\n",
        "\n",
        "print('Размер обучающей выборки',train.shape)\n",
        "print( )\n",
        "print('Размер валидационной выборки', valid.shape)\n",
        "print( )\n",
        "print('Размер тестовой выборки', test.shape)"
      ],
      "metadata": {
        "colab": {
          "base_uri": "https://localhost:8080/"
        },
        "id": "GPwnwThvGOPG",
        "outputId": "c143ccad-0390-4025-c965-177c6a8a716e"
      },
      "execution_count": 169,
      "outputs": [
        {
          "output_type": "stream",
          "name": "stdout",
          "text": [
            "Размер обучающей выборки (144, 6)\n",
            "\n",
            "Размер валидационной выборки (48, 6)\n",
            "\n",
            "Размер тестовой выборки (48, 6)\n"
          ]
        }
      ]
    },
    {
      "cell_type": "code",
      "source": [
        "column_transformer = ColumnTransformer(transformers=[\n",
        "        ('encoder', OneHotEncoder(handle_unknown='ignore'), categorical),\n",
        "        ('scale', StandardScaler(), numerical)])\n",
        "\n",
        "X_train = torch.Tensor(column_transformer.fit_transform(train[X]))\n",
        "X_valid = torch.Tensor(column_transformer.transform(valid[X]))\n",
        "X_test = torch.Tensor(column_transformer.transform(test[X]))\n",
        "\n",
        "y_train = torch.Tensor(train[y].values).reshape(-1, 1)\n",
        "y_valid = torch.Tensor(valid[y].values).reshape(-1, 1)\n",
        "y_test = torch.Tensor(test[y].values).reshape(-1, 1)\n",
        "\n",
        "print('Oбучающие признаки', X_train.size())\n",
        "print()\n",
        "print('Валидационные признаки', X_valid.size())\n",
        "print()\n",
        "print('Тестовые признаки', X_test.size())"
      ],
      "metadata": {
        "colab": {
          "base_uri": "https://localhost:8080/"
        },
        "id": "nL5CbOLnII5V",
        "outputId": "2683fc81-d406-4c64-b153-8a92cc6aa473"
      },
      "execution_count": 103,
      "outputs": [
        {
          "output_type": "stream",
          "name": "stdout",
          "text": [
            "Oбучающие признаки torch.Size([144, 14])\n",
            "\n",
            "Валидационные признаки torch.Size([48, 14])\n",
            "\n",
            "Тестовые признаки torch.Size([48, 14])\n"
          ]
        }
      ]
    },
    {
      "cell_type": "code",
      "source": [
        "input_neurons = X_train.shape[1]\n",
        "\n",
        "model = BaselineModel(input_neurons,\n",
        "                        hidden_neurons,\n",
        "                        output_neurons)\n",
        "\n",
        "optimizer = torch.optim.Adam(model.parameters(), lr=0.01)\n",
        "\n",
        "for epoch in range(num_epochs):\n",
        "\n",
        "        outputs = model(X_train)\n",
        "\n",
        "        loss_train = loss(outputs, y_train)\n",
        "\n",
        "        optimizer.zero_grad()\n",
        "\n",
        "        loss_train.backward()\n",
        "\n",
        "        optimizer.step()\n",
        "\n",
        "        if (epoch + 1) % 1000 == 0:\n",
        "          model.eval()  # Перевести модель в режим оценки\n",
        "          with torch.no_grad():\n",
        "              valid_outputs = model(X_valid)\n",
        "              valid_loss = loss(valid_outputs, y_valid)\n",
        "              print(f'Epoch [{epoch + 1}/{num_epochs}], Loss: {loss_train.item()}')\n",
        "print(f'Baseline Loss:  {np.sqrt(valid_loss)}')"
      ],
      "metadata": {
        "colab": {
          "base_uri": "https://localhost:8080/"
        },
        "id": "s_KqqeHiKrcU",
        "outputId": "2c14cbc2-7927-4882-9690-926aa953e672"
      },
      "execution_count": 136,
      "outputs": [
        {
          "output_type": "stream",
          "name": "stdout",
          "text": [
            "Epoch [1000/10000], Loss: 21116408.0\n",
            "Epoch [2000/10000], Loss: 15836092.0\n",
            "Epoch [3000/10000], Loss: 14696686.0\n",
            "Epoch [4000/10000], Loss: 13280238.0\n",
            "Epoch [5000/10000], Loss: 11679148.0\n",
            "Epoch [6000/10000], Loss: 10765555.0\n",
            "Epoch [7000/10000], Loss: 10041595.0\n",
            "Epoch [8000/10000], Loss: 9392200.0\n",
            "Epoch [9000/10000], Loss: 8954189.0\n",
            "Epoch [10000/10000], Loss: 8636860.0\n"
          ]
        }
      ]
    },
    {
      "cell_type": "code",
      "source": [
        "rmse_baseline = np.sqrt(valid_loss)\n",
        "result.append(['rmse_baseline', rmse_baseline])\n",
        "result"
      ],
      "metadata": {
        "id": "veo1nx03SyHh",
        "colab": {
          "base_uri": "https://localhost:8080/"
        },
        "outputId": "463569e8-b83c-4e41-c1e5-205b8689e190"
      },
      "execution_count": 143,
      "outputs": [
        {
          "output_type": "execute_result",
          "data": {
            "text/plain": [
              "[['rmse_baseline', 5580.607852196748],\n",
              " ['dropout_rmse', 5060.180233944242],\n",
              " ['batch_sizes_rmse', 5060.180233944242],\n",
              " ['batch_sizes_rmse', 5060.180233944242],\n",
              " ['batch_sizes_rmse', 5060.180233944242],\n",
              " ['batch_sizes_rmse', inf],\n",
              " ['batch_sizes_rmse', 5020.781612458363],\n",
              " ['rmse_baseline', tensor(5289.1226)]]"
            ]
          },
          "metadata": {},
          "execution_count": 143
        }
      ]
    },
    {
      "cell_type": "code",
      "source": [
        "# строим график для визуализации предсказаний baseline модели\n",
        "plot(y_valid, valid_outputs, 'Baseline')"
      ],
      "metadata": {
        "id": "ffyD0qQkN5Uv",
        "colab": {
          "base_uri": "https://localhost:8080/",
          "height": 431
        },
        "outputId": "f8e11cb0-8fd6-48b8-802b-aa8cf94d04ab"
      },
      "execution_count": 107,
      "outputs": [
        {
          "output_type": "display_data",
          "data": {
            "text/plain": [
              "<Figure size 800x400 with 1 Axes>"
            ],
            "image/png": "[encoded data removed]"
          },
          "metadata": {}
        }
      ]
    },
    {
      "cell_type": "markdown",
      "source": [
        "## Улучшение модели"
      ],
      "metadata": {
        "id": "E1UwL3LWsvtE"
      }
    },
    {
      "cell_type": "markdown",
      "source": [
        "В задании к проекту нам дано обязательное требование\n",
        "создать решение с перебором параметров нейросети:\n",
        "- dropout\n",
        "- размер батча.\n",
        "\n",
        "\n",
        "Следующим этапом я проведу эксперимент с данными:\n",
        "1.  создам синтетические данные и, обучив на них, получим предсказание на test выборке исходного датасета.\n",
        "2. аугментирую исходный датасет (добавлю шум к числовым признакам) и, обучив на них, получим предсказание на test выборке исходного датасета.\n",
        "\n",
        "\n"
      ],
      "metadata": {
        "id": "VZZB2ODYPoYB"
      }
    },
    {
      "cell_type": "markdown",
      "source": [
        "### Подбор Dropout"
      ],
      "metadata": {
        "id": "KEZUcD6Kt35-"
      }
    },
    {
      "cell_type": "code",
      "source": [
        "class DropoutModel(nn.Module):\n",
        "    def __init__(self, input_neurons, hidden_neurons, output_neurons, best_dropout):\n",
        "        super(DropoutModel, self).__init__()\n",
        "\n",
        "        self.fc1 = nn.Linear(input_neurons, hidden_neurons)\n",
        "        self.act1 = nn.ReLU()\n",
        "        self.dropout1 = nn.Dropout(p=best_dropout) # 50% dropout после первого слоя\n",
        "        self.fc2 = nn.Linear(hidden_neurons, output_neurons)\n",
        "        self.act2 = nn.ReLU()\n",
        "        self.dropout2 = nn.Dropout(p=best_dropout) # 50% dropout после второго слоя\n",
        "\n",
        "        nn.init.xavier_uniform_(self.fc1.weight)\n",
        "        nn.init.constant_(self.fc1.bias, 0)\n",
        "        nn.init.xavier_uniform_(self.fc2.weight)\n",
        "        nn.init.constant_(self.fc2.bias, 0)\n",
        "\n",
        "    def forward(self, x):\n",
        "        x = self.fc1(x)\n",
        "        x = self.act1(x)\n",
        "        x = self.dropout1(x)  #  Dropout после первого слоя\n",
        "        x = self.fc2(x)\n",
        "        x = self.act2(x)\n",
        "        x = self.dropout2(x)  #  Dropout после второго слоя\n",
        "\n",
        "        return x"
      ],
      "metadata": {
        "id": "rrfGjzsyT8tj"
      },
      "execution_count": 108,
      "outputs": []
    },
    {
      "cell_type": "code",
      "source": [
        "dropout_values = [0.1, 0.2, 0.3, 0.4, 0.6]\n",
        "\n",
        "input_neurons = X_train.shape[1]\n",
        "\n",
        "dropout_rmse = float('inf')\n",
        "best_model = None\n",
        "best_dropout = 0.5\n",
        "\n",
        "for dropout in dropout_values:\n",
        "  model = DropoutModel(input_neurons,\n",
        "                       hidden_neurons,\n",
        "                       output_neurons,\n",
        "                       dropout)  # подбираем\n",
        "  optimizer = torch.optim.Adam(model.parameters(), lr=0.01)\n",
        "\n",
        "  for epoch in range(num_epochs):\n",
        "    outputs = model(X_train)\n",
        "    loss_train = loss(outputs, y_train)\n",
        "\n",
        "    optimizer.zero_grad()\n",
        "    loss_train.backward()\n",
        "    optimizer.step()\n",
        "\n",
        "    if (epoch + 1) % 1000 == 0:\n",
        "        print(f'Epoch [{epoch + 1}/{num_epochs}], Loss: {loss_train.item()}')\n",
        "\n",
        "        # Оценка модели на valid данных\n",
        "        model.eval()  # оценка\n",
        "        with torch.no_grad():\n",
        "            valid_outputs = model(X_valid)\n",
        "            valid_loss = loss(valid_outputs, y_valid)\n",
        "\n",
        "            # Оценка RMSE на valid данных\n",
        "            rmse = np.sqrt(valid_loss.item())\n",
        "\n",
        "            # Сравнение RMSE с лучшим результатом\n",
        "            if rmse < dropout_rmse:\n",
        "                dropout_rmse = rmse\n",
        "                best_model = model\n",
        "                best_dropout = dropout"
      ],
      "metadata": {
        "colab": {
          "base_uri": "https://localhost:8080/"
        },
        "id": "02eHXK2w_UI0",
        "outputId": "fc3fb6fb-24cb-464f-edca-acddfbf805af"
      },
      "execution_count": 147,
      "outputs": [
        {
          "output_type": "stream",
          "name": "stdout",
          "text": [
            "Epoch [1000/10000], Loss: 45078492.0\n",
            "Epoch [2000/10000], Loss: 15957669.0\n",
            "Epoch [3000/10000], Loss: 14496372.0\n",
            "Epoch [4000/10000], Loss: 12979449.0\n",
            "Epoch [5000/10000], Loss: 11553466.0\n",
            "Epoch [6000/10000], Loss: 10566119.0\n",
            "Epoch [7000/10000], Loss: 9798134.0\n",
            "Epoch [8000/10000], Loss: 9092753.0\n",
            "Epoch [9000/10000], Loss: 8812926.0\n",
            "Epoch [10000/10000], Loss: 8640786.0\n",
            "Epoch [1000/10000], Loss: 58448584.0\n",
            "Epoch [2000/10000], Loss: 16178391.0\n",
            "Epoch [3000/10000], Loss: 14644615.0\n",
            "Epoch [4000/10000], Loss: 13407256.0\n",
            "Epoch [5000/10000], Loss: 11954848.0\n",
            "Epoch [6000/10000], Loss: 10557280.0\n",
            "Epoch [7000/10000], Loss: 9381039.0\n",
            "Epoch [8000/10000], Loss: 8598864.0\n",
            "Epoch [9000/10000], Loss: 8158378.5\n",
            "Epoch [10000/10000], Loss: 7855819.5\n",
            "Epoch [1000/10000], Loss: 84013480.0\n",
            "Epoch [2000/10000], Loss: 16146548.0\n",
            "Epoch [3000/10000], Loss: 14543761.0\n",
            "Epoch [4000/10000], Loss: 13359927.0\n",
            "Epoch [5000/10000], Loss: 11596299.0\n",
            "Epoch [6000/10000], Loss: 10347600.0\n",
            "Epoch [7000/10000], Loss: 9483141.0\n",
            "Epoch [8000/10000], Loss: 8856728.0\n",
            "Epoch [9000/10000], Loss: 8520026.0\n",
            "Epoch [10000/10000], Loss: 8200469.5\n",
            "Epoch [1000/10000], Loss: 100150512.0\n",
            "Epoch [2000/10000], Loss: 16568784.0\n",
            "Epoch [3000/10000], Loss: 14722119.0\n",
            "Epoch [4000/10000], Loss: 13646959.0\n",
            "Epoch [5000/10000], Loss: 11444681.0\n",
            "Epoch [6000/10000], Loss: 10468228.0\n",
            "Epoch [7000/10000], Loss: 9785148.0\n",
            "Epoch [8000/10000], Loss: 9243463.0\n",
            "Epoch [9000/10000], Loss: 8904853.0\n",
            "Epoch [10000/10000], Loss: 8664867.0\n",
            "Epoch [1000/10000], Loss: 116240232.0\n",
            "Epoch [2000/10000], Loss: 17208856.0\n",
            "Epoch [3000/10000], Loss: 14880220.0\n",
            "Epoch [4000/10000], Loss: 13528076.0\n",
            "Epoch [5000/10000], Loss: 12235839.0\n",
            "Epoch [6000/10000], Loss: 10947658.0\n",
            "Epoch [7000/10000], Loss: 10268361.0\n",
            "Epoch [8000/10000], Loss: 9712827.0\n",
            "Epoch [9000/10000], Loss: 8935285.0\n",
            "Epoch [10000/10000], Loss: 8184171.5\n"
          ]
        }
      ]
    },
    {
      "cell_type": "code",
      "source": [
        "print(f'Лучший dropout_rmse: {dropout_rmse}')\n",
        "print(f'Лучшие параметры: Dropout = {best_dropout}')"
      ],
      "metadata": {
        "colab": {
          "base_uri": "https://localhost:8080/"
        },
        "id": "XZJHPxeV-_y1",
        "outputId": "30d691d1-7255-41ad-b679-bba56b91e3f3"
      },
      "execution_count": 148,
      "outputs": [
        {
          "output_type": "stream",
          "name": "stdout",
          "text": [
            "Лучший dropout_rmse: 4382.9147835658405\n",
            "Лучшие параметры: Dropout = 0.6\n"
          ]
        }
      ]
    },
    {
      "cell_type": "code",
      "source": [
        "result.append(['dropout_rmse', dropout_rmse])\n",
        "result"
      ],
      "metadata": {
        "colab": {
          "base_uri": "https://localhost:8080/"
        },
        "id": "AwkT_J44_3WY",
        "outputId": "0cc105e1-c87a-447c-a976-e86c2fcbd149"
      },
      "execution_count": 149,
      "outputs": [
        {
          "output_type": "execute_result",
          "data": {
            "text/plain": [
              "[['rmse_baseline', 5580.607852196748],\n",
              " ['dropout_rmse', 5060.180233944242],\n",
              " ['batch_sizes_rmse', 5060.180233944242],\n",
              " ['batch_sizes_rmse', 5060.180233944242],\n",
              " ['batch_sizes_rmse', 5060.180233944242],\n",
              " ['batch_sizes_rmse', inf],\n",
              " ['batch_sizes_rmse', 5020.781612458363],\n",
              " ['rmse_baseline', tensor(5289.1226)],\n",
              " ['dropout_rmse', 4382.9147835658405]]"
            ]
          },
          "metadata": {},
          "execution_count": 149
        }
      ]
    },
    {
      "cell_type": "code",
      "source": [
        "plot(y_valid, valid_outputs, 'Dropout')"
      ],
      "metadata": {
        "colab": {
          "base_uri": "https://localhost:8080/",
          "height": 431
        },
        "id": "VihxKQvC_UMp",
        "outputId": "c9f80a0d-2321-44cb-fb63-84086bf6c4a1"
      },
      "execution_count": 150,
      "outputs": [
        {
          "output_type": "display_data",
          "data": {
            "text/plain": [
              "<Figure size 800x400 with 1 Axes>"
            ],
            "image/png": "[encoded data removed]"
          },
          "metadata": {}
        }
      ]
    },
    {
      "cell_type": "markdown",
      "source": [],
      "metadata": {
        "id": "qgOYW096Cest"
      }
    },
    {
      "cell_type": "markdown",
      "source": [
        "  ### BatchSize"
      ],
      "metadata": {
        "id": "KMegLDqMCevS"
      }
    },
    {
      "cell_type": "code",
      "source": [
        "for batch_size in batch_sizes:\n",
        "    # Создание и обучение модели\n",
        "    model = BaselineModel(input_neurons, hidden_neurons, output_neurons)\n",
        "    optimizer = torch.optim.Adam(model.parameters(), lr=0.01)\n",
        "\n",
        "    for epoch in range(num_epochs):\n",
        "        outputs = model(X_train)\n",
        "        loss_train = loss(outputs, y_train)\n",
        "\n",
        "        optimizer.zero_grad()\n",
        "        loss_train.backward()\n",
        "        optimizer.step()\n",
        "\n",
        "        if (epoch + 1) % 1000 == 0:\n",
        "            model.eval()\n",
        "            print(f'Epoch [{epoch + 1}/{num_epochs}], Loss: {loss_train.item()}')\n",
        "\n",
        "    # Оценка модели на валидационных данных\n",
        "    with torch.no_grad():\n",
        "        valid_outputs = model(X_valid)\n",
        "        valid_loss = loss(valid_outputs, y_valid)\n",
        "        rmse = np.sqrt(valid_loss.item())\n",
        "\n",
        "    # Сравнение RMSE с лучшим результатом\n",
        "    if rmse < best_rmse:\n",
        "        best_rmse = rmse\n",
        "        best_batch_size = batch_size\n",
        "\n",
        "print(f'Best Batch Size: {best_batch_size}, Best RMSE: {best_rmse}')"
      ],
      "metadata": {
        "id": "P-QnKxJZ_UPj"
      },
      "execution_count": null,
      "outputs": []
    },
    {
      "cell_type": "code",
      "source": [
        "model = BaselineModel(input_neurons,\n",
        "                        hidden_neurons,\n",
        "                        output_neurons)\n",
        "\n",
        "optimizer = torch.optim.Adam(model.parameters(), lr=0.01)"
      ],
      "metadata": {
        "id": "B7Rh26PVUXSA"
      },
      "execution_count": 114,
      "outputs": []
    },
    {
      "cell_type": "code",
      "source": [
        "batch_sizes = [int(0.1*len(train)),\n",
        "               int(0.3*len(train)),\n",
        "               int(0.5*len(train))]\n",
        "\n",
        "input_neurons = X_train.shape[1]\n",
        "\n",
        "batch_sizes_rmse = float('inf')\n",
        "\n",
        "best_batch_size = None\n",
        "\n",
        "for batch_size in batch_sizes:\n",
        "\n",
        "    # Создание и обучение модели\n",
        "    model = BaselineModel(input_neurons, hidden_neurons, output_neurons)\n",
        "    optimizer = torch.optim.Adam(model.parameters(), lr=0.01)\n",
        "\n",
        "    for epoch in range(num_epochs):\n",
        "        outputs = model(X_train)\n",
        "        loss_train = loss(outputs, y_train)\n",
        "\n",
        "        optimizer.zero_grad()\n",
        "        loss_train.backward()\n",
        "        optimizer.step()\n",
        "\n",
        "        if (epoch + 1) % 1000 == 0:\n",
        "            model.eval()\n",
        "            print(f'Epoch [{epoch + 1}/{num_epochs}], Loss: {loss_train.item()}')\n",
        "\n",
        "    # Оценка модели на валидационных данных\n",
        "    with torch.no_grad():\n",
        "        valid_outputs = model(X_valid)\n",
        "        valid_loss = loss(valid_outputs, y_valid)\n",
        "        rmse = np.sqrt(valid_loss.item())\n",
        "\n",
        "    # Сравнение RMSE с лучшим результатом\n",
        "    if rmse < batch_sizes_rmse:\n",
        "        batch_sizes_rmse = rmse\n",
        "        best_batch_size = batch_size\n",
        "\n",
        "print(f'Best Batch Size: {best_batch_size}, Best RMSE: {best_rmse}')"
      ],
      "metadata": {
        "id": "w_9cmWA6tIXn",
        "colab": {
          "base_uri": "https://localhost:8080/"
        },
        "outputId": "57ebd92e-9a05-485d-ccb4-6853c9805f8e"
      },
      "execution_count": 132,
      "outputs": [
        {
          "output_type": "stream",
          "name": "stdout",
          "text": [
            "Epoch [1000/10000], Loss: 21124660.0\n",
            "Epoch [2000/10000], Loss: 15665388.0\n",
            "Epoch [3000/10000], Loss: 14308783.0\n",
            "Epoch [4000/10000], Loss: 13227836.0\n",
            "Epoch [5000/10000], Loss: 11866011.0\n",
            "Epoch [6000/10000], Loss: 10726956.0\n",
            "Epoch [7000/10000], Loss: 9887988.0\n",
            "Epoch [8000/10000], Loss: 9224261.0\n",
            "Epoch [9000/10000], Loss: 8840162.0\n",
            "Epoch [10000/10000], Loss: 8608578.0\n",
            "Epoch [1000/10000], Loss: 21364838.0\n",
            "Epoch [2000/10000], Loss: 15806108.0\n",
            "Epoch [3000/10000], Loss: 14644386.0\n",
            "Epoch [4000/10000], Loss: 13797549.0\n",
            "Epoch [5000/10000], Loss: 12221550.0\n",
            "Epoch [6000/10000], Loss: 10945463.0\n",
            "Epoch [7000/10000], Loss: 10032414.0\n",
            "Epoch [8000/10000], Loss: 9336088.0\n",
            "Epoch [9000/10000], Loss: 8932632.0\n",
            "Epoch [10000/10000], Loss: 8746587.0\n",
            "Epoch [1000/10000], Loss: 21184004.0\n",
            "Epoch [2000/10000], Loss: 15772524.0\n",
            "Epoch [3000/10000], Loss: 14599405.0\n",
            "Epoch [4000/10000], Loss: 13700100.0\n",
            "Epoch [5000/10000], Loss: 12144485.0\n",
            "Epoch [6000/10000], Loss: 10875795.0\n",
            "Epoch [7000/10000], Loss: 9997725.0\n",
            "Epoch [8000/10000], Loss: 9305116.0\n",
            "Epoch [9000/10000], Loss: 8897863.0\n",
            "Epoch [10000/10000], Loss: 8605256.0\n",
            "Best Batch Size: 14, Best RMSE: 5033.134212396883\n"
          ]
        }
      ]
    },
    {
      "cell_type": "code",
      "source": [
        "print(f'Лучший batch_sizes_rmse: {batch_sizes_rmse}')\n",
        "print(f'Лучшие параметры:  Batch Size = {best_batch_size}')"
      ],
      "metadata": {
        "colab": {
          "base_uri": "https://localhost:8080/"
        },
        "id": "Xvd8swi_xeop",
        "outputId": "d2d09f3f-1663-47c8-8be5-5e170912b719"
      },
      "execution_count": 133,
      "outputs": [
        {
          "output_type": "stream",
          "name": "stdout",
          "text": [
            "Лучший batch_sizes_rmse: 5020.781612458363\n",
            "Лучшие параметры:  Batch Size = 14\n"
          ]
        }
      ]
    },
    {
      "cell_type": "code",
      "source": [
        "result.append(['batch_sizes_rmse', batch_sizes_rmse])\n",
        "result"
      ],
      "metadata": {
        "colab": {
          "base_uri": "https://localhost:8080/"
        },
        "id": "5EaM37w6VVAm",
        "outputId": "6d8b5c6f-f2d7-455c-c525-0145203c1ce9"
      },
      "execution_count": 134,
      "outputs": [
        {
          "output_type": "execute_result",
          "data": {
            "text/plain": [
              "[['rmse_baseline', 5580.607852196748],\n",
              " ['dropout_rmse', 5060.180233944242],\n",
              " ['batch_sizes_rmse', 5060.180233944242],\n",
              " ['batch_sizes_rmse', 5060.180233944242],\n",
              " ['batch_sizes_rmse', 5060.180233944242],\n",
              " ['batch_sizes_rmse', inf],\n",
              " ['batch_sizes_rmse', 5020.781612458363]]"
            ]
          },
          "metadata": {},
          "execution_count": 134
        }
      ]
    },
    {
      "cell_type": "code",
      "source": [
        "plot(y_valid, valid_outputs, 'Batchsize14')"
      ],
      "metadata": {
        "colab": {
          "base_uri": "https://localhost:8080/",
          "height": 431
        },
        "id": "dKjMDRFcVabf",
        "outputId": "14fea3dc-0dd3-4686-af04-eba18a4a01ce"
      },
      "execution_count": 135,
      "outputs": [
        {
          "output_type": "display_data",
          "data": {
            "text/plain": [
              "<Figure size 800x400 with 1 Axes>"
            ],
            "image/png": "[encoded data removed]"
          },
          "metadata": {}
        }
      ]
    },
    {
      "cell_type": "code",
      "source": [
        "batch_size = best_batch_size\n",
        "\n",
        "num_batches = ceil(len(X_train)/batch_size)\n",
        "\n",
        "model = BestModel(input_neurons,\n",
        "                  hidden_neurons,\n",
        "                  output_neurons)\n",
        "\n",
        "optimizer = torch.optim.Adam(model.parameters(), lr=0.01)\n",
        "\n",
        "for epoch in range(num_epochs):\n",
        "\torder = np.random.permutation(len(X_train))\n",
        "\n",
        "\tfor batch_idx in range(num_batches):\n",
        "\t\tstart_index = batch_idx * batch_size\n",
        "\t\toptimizer.zero_grad()\n",
        "\n",
        "\t\tbatch_indexes = order[start_index:start_index+batch_size]\n",
        "\t\tX_batch = X_train[batch_indexes]\n",
        "\t\ty_batch = y_train[batch_indexes]\n",
        "\n",
        "\t\tpreds = model.forward(X_batch).flatten()\n",
        "\n",
        "\t\tloss_value = loss(preds, y_batch)\n",
        "\n",
        "\t\tloss_value.backward()\n",
        "\n",
        "\t\toptimizer.step()\n",
        "\n",
        "\tif epoch % 1000 == 0 or epoch == num_epochs - 1:\n",
        "\t\tmodel.eval()\n",
        "\t\tvalid_preds = model.forward(X_valid)\n",
        "\t\tvalid_loss = loss(test_outputs, y_valid)\n",
        "\n",
        "\t\tprint(f'Valid loss {valid_loss.item()}')"
      ],
      "metadata": {
        "colab": {
          "base_uri": "https://localhost:8080/"
        },
        "id": "guuDFjPEzToV",
        "outputId": "53d82bb0-29b2-4710-8764-c2db7809d58c"
      },
      "execution_count": 125,
      "outputs": [
        {
          "output_type": "stream",
          "name": "stderr",
          "text": [
            "/usr/local/lib/python3.10/dist-packages/torch/nn/modules/loss.py:536: UserWarning: Using a target size (torch.Size([14, 1])) that is different to the input size (torch.Size([14])). This will likely lead to incorrect results due to broadcasting. Please ensure they have the same size.\n",
            "  return F.mse_loss(input, target, reduction=self.reduction)\n",
            "/usr/local/lib/python3.10/dist-packages/torch/nn/modules/loss.py:536: UserWarning: Using a target size (torch.Size([4, 1])) that is different to the input size (torch.Size([4])). This will likely lead to incorrect results due to broadcasting. Please ensure they have the same size.\n",
            "  return F.mse_loss(input, target, reduction=self.reduction)\n"
          ]
        },
        {
          "output_type": "stream",
          "name": "stdout",
          "text": [
            "Test loss 25708310.0\n",
            "Test loss 25708310.0\n",
            "Test loss 25708310.0\n",
            "Test loss 25708310.0\n",
            "Test loss 25708310.0\n",
            "Test loss 25708310.0\n",
            "Test loss 25708310.0\n",
            "Test loss 25708310.0\n",
            "Test loss 25708310.0\n",
            "Test loss 25708310.0\n",
            "Test loss 25708310.0\n"
          ]
        }
      ]
    },
    {
      "cell_type": "code",
      "source": [
        "model.eval()  # оценка\n",
        "with torch.no_grad():\n",
        "    test_outputs = model(X_test)\n",
        "    test_loss = loss(test_outputs, y_test)"
      ],
      "metadata": {
        "id": "q4eqX7HJXGuZ"
      },
      "execution_count": 43,
      "outputs": []
    },
    {
      "cell_type": "code",
      "source": [
        "rmse_best_model = np.sqrt(test_loss.item())\n",
        "result.append(['rmse_best_model', rmse_best_model])\n",
        "result"
      ],
      "metadata": {
        "id": "QS9HvWS4XG08",
        "colab": {
          "base_uri": "https://localhost:8080/"
        },
        "outputId": "6adf4651-d1c4-46b1-ed10-57c38125610d"
      },
      "execution_count": 44,
      "outputs": [
        {
          "output_type": "execute_result",
          "data": {
            "text/plain": [
              "[['rmse_baseline', tensor(7244.8735)],\n",
              " ['rmse_dropout', 9614.326393460959],\n",
              " ['rmse_best_model', 10368.580616458552]]"
            ]
          },
          "metadata": {},
          "execution_count": 44
        }
      ]
    },
    {
      "cell_type": "code",
      "source": [
        "plot(y_test, test_outputs, 'BestModel')"
      ],
      "metadata": {
        "id": "JTDrZ813XG4n",
        "colab": {
          "base_uri": "https://localhost:8080/",
          "height": 431
        },
        "outputId": "87d59064-9e5c-456e-b9de-7691f80bded3"
      },
      "execution_count": 46,
      "outputs": [
        {
          "output_type": "display_data",
          "data": {
            "text/plain": [
              "<Figure size 800x400 with 1 Axes>"
            ],
            "image/png": "[encoded data removed]"
          },
          "metadata": {}
        }
      ]
    },
    {
      "cell_type": "markdown",
      "source": [
        "Предсказывает одинаковые значения:"
      ],
      "metadata": {
        "id": "HXH4g1N52xyA"
      }
    },
    {
      "cell_type": "code",
      "source": [],
      "metadata": {
        "id": "oypj5V2EXG61"
      },
      "execution_count": 46,
      "outputs": []
    },
    {
      "cell_type": "markdown",
      "source": [
        "### Аугментация данных"
      ],
      "metadata": {
        "id": "828uuFSLBi4s"
      }
    },
    {
      "cell_type": "markdown",
      "source": [
        "Метрику мы будем сравнивать на baseline модели, предсказывая по test выборке исходного датасета."
      ],
      "metadata": {
        "id": "VPdX8CUOizX9"
      }
    },
    {
      "cell_type": "markdown",
      "source": [
        "###Синтетическая Генерация Данных"
      ],
      "metadata": {
        "id": "4RBTjDNOp2Wi"
      }
    },
    {
      "cell_type": "markdown",
      "source": [
        "Ниже приведена таблица с диапазонами характеристик для каждой звезды, мы будем создавать новые данные используя эту таблицу."
      ],
      "metadata": {
        "id": "Ym1jAD67p_iB"
      }
    },
    {
      "cell_type": "markdown",
      "source": [
        "| Температура (K) | Светимость (L/Lo) | Радиус (R/Ro) | Абсолютная звёздная величина (Mv) | Тип звезды | Цвет звезды |\n",
        "|-----------------|-------------------|---------------|------------------------------------|------------|-------------|\n",
        "| ~2,000 K        | 0.00001% - 0.1%   | 0.1 - 0.7     | Высокая отрицательная              | M (красные карлики) | Красные, оранжевые |\n",
        "| ~3,500 K        | 1% - 10%           | 0.7 - 1.0     | Низкая отрицательная               | K | Оранжевые, красные |\n",
        "| Очень высокая  | Очень низкая       | Сравним с Землёй | Высокая отрицательная | Белые карлики | Белые |\n",
        "| ~5,500 K        | 100%               | 1.0           | 4.83                               | G (похожие на Солнце) | Желтые |\n",
        "| ~10,000 K - несколько десятков тысяч K | >100 - несколько тысяч | >1 - несколько сотен | Низкая отрицательная | Горячие звёзды | Голубые, белые |\n",
        "| ~2,000 K - 1,000 K (обычно ниже) | Очень низкая - очень очень низкая | 0.01 - 0.1 (примерно) | Высокая отрицательная | Коричневые карлики | Коричневые |\n",
        "| Разнообразная  | Очень высокая - низкая | Разнообразный | Разнообразная | Гиганты (разных классов) | Разноцветные |\n",
        "| Разнообразная  | Очень высокая - низкая | Разнообразный | Разнообразная | Сверхгиганты | Разноцветные |\n",
        "| ~5,500 K        | Около 100%         | Около 1.0     | 4.83 | Звёзды главной последовательности | Желтые |\n"
      ],
      "metadata": {
        "id": "D2jmPvlHRDV-"
      }
    },
    {
      "cell_type": "code",
      "source": [
        "data['star_color'].value_counts(normalize = True)"
      ],
      "metadata": {
        "id": "MmXeDxFqGqrz",
        "colab": {
          "base_uri": "https://localhost:8080/"
        },
        "outputId": "31959791-3ad6-46a2-bacc-7f115b9ea2bb"
      },
      "execution_count": 52,
      "outputs": [
        {
          "output_type": "execute_result",
          "data": {
            "text/plain": [
              "red                   0.466667\n",
              "blue                  0.233333\n",
              "blue_white            0.170833\n",
              "white                 0.041667\n",
              "yellow_white          0.033333\n",
              "yellowish_white       0.012500\n",
              "yellowish             0.012500\n",
              "whitish               0.008333\n",
              "orange                0.008333\n",
              "pale_yellow_orange    0.004167\n",
              "white_yellow          0.004167\n",
              "orange_red            0.004167\n",
              "Name: star_color, dtype: float64"
            ]
          },
          "metadata": {},
          "execution_count": 52
        }
      ]
    },
    {
      "cell_type": "code",
      "source": [
        "synthetic_data = []\n",
        "\n",
        "n_samples = 200  # Общее количество сэмплов\n",
        "\n",
        "# Генерация данных для красных карликов (M-тип)\n",
        "n_samples_m = int(n_samples * 0.45)\n",
        "temperature_m = np.random.uniform(2000, 3500, n_samples_m)\n",
        "luminosity_m = np.random.uniform(0.00001, 0.1, n_samples_m)\n",
        "radius_m = np.random.uniform(0.1, 0.7, n_samples_m)\n",
        "magnitude_m = np.random.uniform(-11.92, -6.23, n_samples_m)\n",
        "star_type_m = [0] * n_samples_m  # добавляем тип звезды (0-6)\n",
        "star_color_m = ['red'] * n_samples_m\n",
        "\n",
        "# Генерация данных для оранжевых карликов (K-тип)\n",
        "n_samples_k = int(n_samples * 0.151)\n",
        "temperature_k = np.random.uniform(3500, 5500, n_samples_k)\n",
        "luminosity_k = np.random.uniform(0.01, 0.1, n_samples_k)\n",
        "radius_k = np.random.uniform(0.7, 1.0, n_samples_k)\n",
        "magnitude_k = np.random.uniform(-6.23, -2, n_samples_k)\n",
        "star_type_k = [1] * n_samples_k\n",
        "star_color_k = ['orange'] * n_samples_k\n",
        "\n",
        "# Генерация данных для белых карликов (группа \"Очень высокая\")\n",
        "n_samples_wd = int(n_samples * 0.16)\n",
        "temperature_wd = np.random.uniform(5500, 6000, n_samples_wd)\n",
        "luminosity_wd = np.random.uniform(0.99, 1.01, n_samples_wd)\n",
        "radius_wd = np.random.uniform(0.99, 1.01, n_samples_wd)\n",
        "magnitude_wd = np.full(n_samples_wd, 4.83)\n",
        "star_type_wd = [2] * n_samples_wd\n",
        "star_color_wd = ['white'] * n_samples_wd\n",
        "\n",
        "# Генерация данных для звёзд главной последовательности (G-тип)\n",
        "n_samples_g = int(n_samples * 0.09)\n",
        "temperature_g = np.random.uniform(5500, 5700, n_samples_g)\n",
        "luminosity_g = np.random.uniform(0.99, 1.01, n_samples_g)\n",
        "radius_g = np.random.uniform(0.99, 1.01, n_samples_g)\n",
        "magnitude_g = np.full(n_samples_g, 4.83)\n",
        "star_type_g = [3] * n_samples_g\n",
        "star_color_g = ['yellow'] * n_samples_g\n",
        "\n",
        "# Генерация данных для горячих звёзд\n",
        "n_samples_hot = int(n_samples * 0.3)\n",
        "temperature_hot = np.random.uniform(10000, 30000, n_samples_hot)\n",
        "luminosity_hot = np.random.uniform(100, 3000, n_samples_hot)\n",
        "radius_hot = np.random.uniform(10, 100, n_samples_hot)\n",
        "magnitude_hot = np.random.uniform(-11.92, -6.23, n_samples_hot)\n",
        "star_type_hot = [4] * n_samples_hot\n",
        "star_color_hot = ['blue'] * n_samples_hot\n",
        "\n",
        "# Генерация данных для коричневых карликов (L-тип)\n",
        "n_samples_l = int(n_samples * 0.06)\n",
        "temperature_l = np.random.uniform(1000, 2000, n_samples_l)\n",
        "luminosity_l = np.random.uniform(0.00000001, 0.0000001, n_samples_l)\n",
        "radius_l = np.random.uniform(0.01, 0.1, n_samples_l)\n",
        "magnitude_l = np.random.uniform(-11.92, -6.23, n_samples_l)\n",
        "star_type_l = [5] * n_samples_l\n",
        "star_color_l = ['blue_white'] * n_samples_l\n",
        "\n",
        "# создаем новый df\n",
        "synthetic_data = pd.DataFrame({\n",
        "    'temperature': np.concatenate((temperature_m,\n",
        "                                   temperature_k,\n",
        "                                   temperature_wd,\n",
        "                                   temperature_g,\n",
        "                                   temperature_hot,\n",
        "                                   temperature_l)),\n",
        "\n",
        "    'luminosity': np.concatenate((luminosity_m,\n",
        "                                  luminosity_k,\n",
        "                                  luminosity_wd,\n",
        "                                  luminosity_g,\n",
        "                                  luminosity_hot,\n",
        "                                  luminosity_l)),\n",
        "\n",
        "    'radius': np.concatenate((radius_m,\n",
        "                              radius_k,\n",
        "                              radius_wd,\n",
        "                              radius_g,\n",
        "                              radius_hot,\n",
        "                              radius_l)),\n",
        "\n",
        "    'magnitude': np.concatenate((magnitude_m,\n",
        "                                 magnitude_k,\n",
        "                                 magnitude_wd,\n",
        "                                 magnitude_g,\n",
        "                                 magnitude_hot,\n",
        "                                 magnitude_l)),\n",
        "\n",
        "    'star_type': np.concatenate((star_type_m,\n",
        "                                 star_type_k,\n",
        "                                 star_type_wd,\n",
        "                                 star_type_g,\n",
        "                                 star_type_hot,\n",
        "                                 star_type_l)),\n",
        "\n",
        "    'star_color': np.concatenate((star_color_m,\n",
        "                                  star_color_k,\n",
        "                                  star_color_wd,\n",
        "                                  star_color_g,\n",
        "                                  star_color_hot,\n",
        "                                  star_color_l))\n",
        "})\n",
        "\n",
        "# перемешиваем\n",
        "synthetic_data = synthetic_data.sample(frac=1).reset_index(drop=True)"
      ],
      "metadata": {
        "id": "iN8uGL1GxTc5"
      },
      "execution_count": 154,
      "outputs": []
    },
    {
      "cell_type": "code",
      "source": [
        "synthetic_data.info()"
      ],
      "metadata": {
        "id": "jxNWQZPEXzFj"
      },
      "execution_count": null,
      "outputs": []
    },
    {
      "cell_type": "code",
      "source": [
        "synthetic_data.describe()"
      ],
      "metadata": {
        "id": "F6BeVK1Z3jmS"
      },
      "execution_count": null,
      "outputs": []
    },
    {
      "cell_type": "code",
      "source": [
        "data['star_color'].value_counts(normalize = True)"
      ],
      "metadata": {
        "id": "BIxT85MD3nV0"
      },
      "execution_count": null,
      "outputs": []
    },
    {
      "cell_type": "code",
      "source": [],
      "metadata": {
        "id": "zi5tikBhbg52"
      },
      "execution_count": null,
      "outputs": []
    },
    {
      "cell_type": "markdown",
      "source": [
        "#### модель на синт данных"
      ],
      "metadata": {
        "id": "IMGugK_lc5Tl"
      }
    },
    {
      "cell_type": "code",
      "source": [
        "train = synthetic_data\n",
        "valid = valid"
      ],
      "metadata": {
        "id": "7KyyGTerAEKc"
      },
      "execution_count": 177,
      "outputs": []
    },
    {
      "cell_type": "code",
      "source": [
        "train, valid = train_test_split(synthetic_data,\n",
        "                                shuffle=True,\n",
        "                                random_state = RANDOM_STATE)\n",
        "\n",
        "print('Размер обучающей выборки',train.shape)\n",
        "\n",
        "test = test\n",
        "\n",
        "print('Размер валидационной выборки', valid.shape)\n",
        "print( )\n",
        "print('Размер тестовой выборки', test.shape)"
      ],
      "metadata": {
        "id": "sIOITV0wc8Ap"
      },
      "execution_count": null,
      "outputs": []
    },
    {
      "cell_type": "code",
      "source": [
        "column_transformer = ColumnTransformer(transformers=[\n",
        "    ('encoder', OneHotEncoder(handle_unknown='ignore'), categorical),\n",
        "     ('scale', StandardScaler(), numerical)])\n",
        "\n",
        "X_train = torch.Tensor(column_transformer.fit_transform(train[X]))\n",
        "\n",
        "X_valid = torch.Tensor(column_transformer.transform(valid[X]))\n",
        "#X_test = torch.Tensor(column_transformer.transform(test[X]))\n",
        "\n",
        "\n",
        "y_train = torch.Tensor(train[y].values).reshape(-1, 1)\n",
        "y_valid = torch.Tensor(valid[y].values).reshape(-1, 1)\n",
        "#y_test = torch.Tensor(test[y].values).reshape(-1, 1)\n",
        "\n",
        "print(X_train.size())\n",
        "print()\n",
        "print(X_valid.size())\n",
        "print()\n",
        "#print(X_test.size())\n"
      ],
      "metadata": {
        "id": "WeshPZdofEVl",
        "colab": {
          "base_uri": "https://localhost:8080/"
        },
        "outputId": "7e0e502f-067e-45fe-dd3a-514271f3a505"
      },
      "execution_count": 178,
      "outputs": [
        {
          "output_type": "stream",
          "name": "stdout",
          "text": [
            "torch.Size([242, 10])\n",
            "\n",
            "torch.Size([48, 10])\n",
            "\n"
          ]
        }
      ]
    },
    {
      "cell_type": "code",
      "source": [
        "input_neurons = X_train.shape[1]\n",
        "\n",
        "model = BaselineModel(input_neurons,\n",
        "                      hidden_neurons,\n",
        "                      output_neurons)\n",
        "\n",
        "optimizer = torch.optim.Adam(model.parameters(), lr=0.01)"
      ],
      "metadata": {
        "id": "fwfgKP924o6q"
      },
      "execution_count": 179,
      "outputs": []
    },
    {
      "cell_type": "code",
      "source": [
        "for epoch in range(num_epochs):\n",
        "\n",
        "    outputs = model(X_train)\n",
        "\n",
        "    # Вычисление потерь\n",
        "    loss_train = loss(outputs, y_train)\n",
        "\n",
        "    optimizer.zero_grad()\n",
        "    loss_train.backward()\n",
        "    optimizer.step()\n",
        "\n",
        "    if (epoch + 1) % 1000 == 0:\n",
        "        print(f'Epoch [{epoch + 1}/{num_epochs}], Loss: {loss_train.item()}')\n",
        "\n",
        "        model.eval()  # Перевести модель в режим оценки\n",
        "\n",
        "        with torch.no_grad():\n",
        "            valid_outputs = model(X_valid)\n",
        "            valid_loss = loss(valid_outputs, y_valid)\n",
        "\n",
        "        print(f'Valid Loss: {np.sqrt(valid_loss.item())}')"
      ],
      "metadata": {
        "id": "uDWsKnsXdMpz",
        "colab": {
          "base_uri": "https://localhost:8080/"
        },
        "outputId": "c34849bf-cabe-4c8c-87e8-fcea251c8842"
      },
      "execution_count": 186,
      "outputs": [
        {
          "output_type": "stream",
          "name": "stdout",
          "text": [
            "Epoch [1000/10000], Loss: 6529087.0\n",
            "Valid Loss: 1713974.047840865\n",
            "Epoch [2000/10000], Loss: 6322952.5\n",
            "Valid Loss: 1776016.563814651\n",
            "Epoch [3000/10000], Loss: 6123858.0\n",
            "Valid Loss: 1749631.058892131\n",
            "Epoch [4000/10000], Loss: 5942426.0\n",
            "Valid Loss: 1676984.0753924886\n",
            "Epoch [5000/10000], Loss: 5772452.5\n",
            "Valid Loss: 1601103.737061406\n",
            "Epoch [6000/10000], Loss: 5609565.0\n",
            "Valid Loss: 1490401.835490013\n",
            "Epoch [7000/10000], Loss: 5478354.5\n",
            "Valid Loss: 1431425.8256270215\n",
            "Epoch [8000/10000], Loss: 5334321.5\n",
            "Valid Loss: 1355746.9966686263\n",
            "Epoch [9000/10000], Loss: 5188914.0\n",
            "Valid Loss: 1244490.7543891196\n",
            "Epoch [10000/10000], Loss: 4964695.5\n",
            "Valid Loss: 1050234.6257022761\n"
          ]
        }
      ]
    },
    {
      "cell_type": "code",
      "source": [
        "np.sqrt(valid_loss.item())"
      ],
      "metadata": {
        "colab": {
          "base_uri": "https://localhost:8080/"
        },
        "id": "l3vxo4DIOBTZ",
        "outputId": "5c708d79-d634-43ed-86b3-6969230c2cd9"
      },
      "execution_count": 184,
      "outputs": [
        {
          "output_type": "execute_result",
          "data": {
            "text/plain": [
              "1533638.3764838437"
            ]
          },
          "metadata": {},
          "execution_count": 184
        }
      ]
    },
    {
      "cell_type": "code",
      "source": [
        "rmse_synthetic = np.sqrt(valid_loss.item())\n",
        "result.append(['rmse_synthetic', rmse_synthetic])\n",
        "result"
      ],
      "metadata": {
        "id": "j5U2ajuRgUq9",
        "colab": {
          "base_uri": "https://localhost:8080/"
        },
        "outputId": "b99f561e-2436-4918-ffb7-2d7a62a56562"
      },
      "execution_count": 185,
      "outputs": [
        {
          "output_type": "execute_result",
          "data": {
            "text/plain": [
              "[['rmse_baseline', 5580.607852196748],\n",
              " ['dropout_rmse', 5060.180233944242],\n",
              " ['batch_sizes_rmse', 5060.180233944242],\n",
              " ['batch_sizes_rmse', 5060.180233944242],\n",
              " ['batch_sizes_rmse', 5060.180233944242],\n",
              " ['batch_sizes_rmse', inf],\n",
              " ['batch_sizes_rmse', 5020.781612458363],\n",
              " ['rmse_baseline', tensor(5289.1226)],\n",
              " ['dropout_rmse', 4382.9147835658405],\n",
              " ['rmse_synthetic', 7715.256833054879],\n",
              " ['rmse_synthetic', 649646.2927347466],\n",
              " ['rmse_augmented', 15760.004568527256],\n",
              " ['rmse_synthetic', 1533638.3764838437]]"
            ]
          },
          "metadata": {},
          "execution_count": 185
        }
      ]
    },
    {
      "cell_type": "code",
      "source": [
        "plot(y_valid, valid_outputs, 'Synthetic data')"
      ],
      "metadata": {
        "colab": {
          "base_uri": "https://localhost:8080/",
          "height": 431
        },
        "id": "oXnxyKalZJMK",
        "outputId": "4ed49ee2-ec76-445e-9fdb-6c4f5f52d665"
      },
      "execution_count": 163,
      "outputs": [
        {
          "output_type": "display_data",
          "data": {
            "text/plain": [
              "<Figure size 800x400 with 1 Axes>"
            ],
            "image/png": "[encoded data removed]"
          },
          "metadata": {}
        }
      ]
    },
    {
      "cell_type": "markdown",
      "source": [
        "### Аугментация данных на основе исходного датасета"
      ],
      "metadata": {
        "id": "7GAFQ4GQtHzr"
      }
    },
    {
      "cell_type": "code",
      "source": [
        "numerical"
      ],
      "metadata": {
        "id": "pPcrEYzQ73qU",
        "colab": {
          "base_uri": "https://localhost:8080/"
        },
        "outputId": "d87f6145-84d2-4adc-845d-ee741c37331d"
      },
      "execution_count": 164,
      "outputs": [
        {
          "output_type": "execute_result",
          "data": {
            "text/plain": [
              "['luminosity', 'radius', 'magnitude', 'star_type']"
            ]
          },
          "metadata": {},
          "execution_count": 164
        }
      ]
    },
    {
      "cell_type": "code",
      "source": [
        "augmented_data = data.copy()\n",
        "\n",
        "# числовые признаки, к которым добавляем шум\n",
        "numeric_features = ['luminosity', 'radius', 'magnitude']\n",
        "\n",
        "# значения шума\n",
        "noise_mean = 0  # Среднее значение шума\n",
        "noise_std = 0.05  # Стандартное отклонение шума\n",
        "\n",
        "for numeric_feature in numeric_features:\n",
        "    random_noise = np.random.normal(noise_mean, noise_std, len(data))\n",
        "    augmented_data[numeric_feature] += random_noise\n",
        "\n",
        "    # контролируем разброс min max значений\n",
        "    augmented_data[numeric_feature] = np.clip(augmented_data[numeric_feature],\n",
        "                                              data[numeric_feature].min(),\n",
        "                                              data[numeric_feature].max())\n",
        "\n",
        "# Создайте новый DataFrame для аугментированных данных\n",
        "augmented_data.head()\n"
      ],
      "metadata": {
        "id": "vJDxmBOciOSL",
        "colab": {
          "base_uri": "https://localhost:8080/",
          "height": 206
        },
        "outputId": "c5732d73-54a1-4a60-dbad-d5e028f94da6"
      },
      "execution_count": 165,
      "outputs": [
        {
          "output_type": "execute_result",
          "data": {
            "text/plain": [
              "   temperature  luminosity    radius  magnitude  star_type star_color\n",
              "0         3068    0.031248  0.165925  16.084094          0        red\n",
              "1         3042    0.044943  0.131592  16.653545          0        red\n",
              "2         2600    0.011720  0.032469  18.768920          0        red\n",
              "3         2800    0.060800  0.144025  16.632907          0        red\n",
              "4         1939    0.000080  0.164166  20.060000          0        red"
            ],
            "text/html": [
              "\n",
              "  <div id=\"df-f2f39051-5434-460f-b5bf-10d0a118eccc\" class=\"colab-df-container\">\n",
              "    <div>\n",
              "<style scoped>\n",
              "    .dataframe tbody tr th:only-of-type {\n",
              "        vertical-align: middle;\n",
              "    }\n",
              "\n",
              "    .dataframe tbody tr th {\n",
              "        vertical-align: top;\n",
              "    }\n",
              "\n",
              "    .dataframe thead th {\n",
              "        text-align: right;\n",
              "    }\n",
              "</style>\n",
              "<table border=\"1\" class=\"dataframe\">\n",
              "  <thead>\n",
              "    <tr style=\"text-align: right;\">\n",
              "      <th></th>\n",
              "      <th>temperature</th>\n",
              "      <th>luminosity</th>\n",
              "      <th>radius</th>\n",
              "      <th>magnitude</th>\n",
              "      <th>star_type</th>\n",
              "      <th>star_color</th>\n",
              "    </tr>\n",
              "  </thead>\n",
              "  <tbody>\n",
              "    <tr>\n",
              "      <th>0</th>\n",
              "      <td>3068</td>\n",
              "      <td>0.031248</td>\n",
              "      <td>0.165925</td>\n",
              "      <td>16.084094</td>\n",
              "      <td>0</td>\n",
              "      <td>red</td>\n",
              "    </tr>\n",
              "    <tr>\n",
              "      <th>1</th>\n",
              "      <td>3042</td>\n",
              "      <td>0.044943</td>\n",
              "      <td>0.131592</td>\n",
              "      <td>16.653545</td>\n",
              "      <td>0</td>\n",
              "      <td>red</td>\n",
              "    </tr>\n",
              "    <tr>\n",
              "      <th>2</th>\n",
              "      <td>2600</td>\n",
              "      <td>0.011720</td>\n",
              "      <td>0.032469</td>\n",
              "      <td>18.768920</td>\n",
              "      <td>0</td>\n",
              "      <td>red</td>\n",
              "    </tr>\n",
              "    <tr>\n",
              "      <th>3</th>\n",
              "      <td>2800</td>\n",
              "      <td>0.060800</td>\n",
              "      <td>0.144025</td>\n",
              "      <td>16.632907</td>\n",
              "      <td>0</td>\n",
              "      <td>red</td>\n",
              "    </tr>\n",
              "    <tr>\n",
              "      <th>4</th>\n",
              "      <td>1939</td>\n",
              "      <td>0.000080</td>\n",
              "      <td>0.164166</td>\n",
              "      <td>20.060000</td>\n",
              "      <td>0</td>\n",
              "      <td>red</td>\n",
              "    </tr>\n",
              "  </tbody>\n",
              "</table>\n",
              "</div>\n",
              "    <div class=\"colab-df-buttons\">\n",
              "\n",
              "  <div class=\"colab-df-container\">\n",
              "    <button class=\"colab-df-convert\" onclick=\"convertToInteractive('df-f2f39051-5434-460f-b5bf-10d0a118eccc')\"\n",
              "            title=\"Convert this dataframe to an interactive table.\"\n",
              "            style=\"display:none;\">\n",
              "\n",
              "  <svg xmlns=\"http://www.w3.org/2000/svg\" height=\"24px\" viewBox=\"0 -960 960 960\">\n",
              "    <path d=\"M120-120v-720h720v720H120Zm60-500h600v-160H180v160Zm220 220h160v-160H400v160Zm0 220h160v-160H400v160ZM180-400h160v-160H180v160Zm440 0h160v-160H620v160ZM180-180h160v-160H180v160Zm440 0h160v-160H620v160Z\"/>\n",
              "  </svg>\n",
              "    </button>\n",
              "\n",
              "  <style>\n",
              "    .colab-df-container {\n",
              "      display:flex;\n",
              "      gap: 12px;\n",
              "    }\n",
              "\n",
              "    .colab-df-convert {\n",
              "      background-color: #E8F0FE;\n",
              "      border: none;\n",
              "      border-radius: 50%;\n",
              "      cursor: pointer;\n",
              "      display: none;\n",
              "      fill: #1967D2;\n",
              "      height: 32px;\n",
              "      padding: 0 0 0 0;\n",
              "      width: 32px;\n",
              "    }\n",
              "\n",
              "    .colab-df-convert:hover {\n",
              "      background-color: #E2EBFA;\n",
              "      box-shadow: 0px 1px 2px rgba(60, 64, 67, 0.3), 0px 1px 3px 1px rgba(60, 64, 67, 0.15);\n",
              "      fill: #174EA6;\n",
              "    }\n",
              "\n",
              "    .colab-df-buttons div {\n",
              "      margin-bottom: 4px;\n",
              "    }\n",
              "\n",
              "    [theme=dark] .colab-df-convert {\n",
              "      background-color: #3B4455;\n",
              "      fill: #D2E3FC;\n",
              "    }\n",
              "\n",
              "    [theme=dark] .colab-df-convert:hover {\n",
              "      background-color: #434B5C;\n",
              "      box-shadow: 0px 1px 3px 1px rgba(0, 0, 0, 0.15);\n",
              "      filter: drop-shadow(0px 1px 2px rgba(0, 0, 0, 0.3));\n",
              "      fill: #FFFFFF;\n",
              "    }\n",
              "  </style>\n",
              "\n",
              "    <script>\n",
              "      const buttonEl =\n",
              "        document.querySelector('#df-f2f39051-5434-460f-b5bf-10d0a118eccc button.colab-df-convert');\n",
              "      buttonEl.style.display =\n",
              "        google.colab.kernel.accessAllowed ? 'block' : 'none';\n",
              "\n",
              "      async function convertToInteractive(key) {\n",
              "        const element = document.querySelector('#df-f2f39051-5434-460f-b5bf-10d0a118eccc');\n",
              "        const dataTable =\n",
              "          await google.colab.kernel.invokeFunction('convertToInteractive',\n",
              "                                                    [key], {});\n",
              "        if (!dataTable) return;\n",
              "\n",
              "        const docLinkHtml = 'Like what you see? Visit the ' +\n",
              "          '<a target=\"_blank\" href=https://colab.research.google.com/notebooks/data_table.ipynb>data table notebook</a>'\n",
              "          + ' to learn more about interactive tables.';\n",
              "        element.innerHTML = '';\n",
              "        dataTable['output_type'] = 'display_data';\n",
              "        await google.colab.output.renderOutput(dataTable, element);\n",
              "        const docLink = document.createElement('div');\n",
              "        docLink.innerHTML = docLinkHtml;\n",
              "        element.appendChild(docLink);\n",
              "      }\n",
              "    </script>\n",
              "  </div>\n",
              "\n",
              "\n",
              "<div id=\"df-89bf2112-5b0e-4e3d-ab4c-e3bd9889cd42\">\n",
              "  <button class=\"colab-df-quickchart\" onclick=\"quickchart('df-89bf2112-5b0e-4e3d-ab4c-e3bd9889cd42')\"\n",
              "            title=\"Suggest charts.\"\n",
              "            style=\"display:none;\">\n",
              "\n",
              "<svg xmlns=\"http://www.w3.org/2000/svg\" height=\"24px\"viewBox=\"0 0 24 24\"\n",
              "     width=\"24px\">\n",
              "    <g>\n",
              "        <path d=\"M19 3H5c-1.1 0-2 .9-2 2v14c0 1.1.9 2 2 2h14c1.1 0 2-.9 2-2V5c0-1.1-.9-2-2-2zM9 17H7v-7h2v7zm4 0h-2V7h2v10zm4 0h-2v-4h2v4z\"/>\n",
              "    </g>\n",
              "</svg>\n",
              "  </button>\n",
              "\n",
              "<style>\n",
              "  .colab-df-quickchart {\n",
              "      --bg-color: #E8F0FE;\n",
              "      --fill-color: #1967D2;\n",
              "      --hover-bg-color: #E2EBFA;\n",
              "      --hover-fill-color: #174EA6;\n",
              "      --disabled-fill-color: #AAA;\n",
              "      --disabled-bg-color: #DDD;\n",
              "  }\n",
              "\n",
              "  [theme=dark] .colab-df-quickchart {\n",
              "      --bg-color: #3B4455;\n",
              "      --fill-color: #D2E3FC;\n",
              "      --hover-bg-color: #434B5C;\n",
              "      --hover-fill-color: #FFFFFF;\n",
              "      --disabled-bg-color: #3B4455;\n",
              "      --disabled-fill-color: #666;\n",
              "  }\n",
              "\n",
              "  .colab-df-quickchart {\n",
              "    background-color: var(--bg-color);\n",
              "    border: none;\n",
              "    border-radius: 50%;\n",
              "    cursor: pointer;\n",
              "    display: none;\n",
              "    fill: var(--fill-color);\n",
              "    height: 32px;\n",
              "    padding: 0;\n",
              "    width: 32px;\n",
              "  }\n",
              "\n",
              "  .colab-df-quickchart:hover {\n",
              "    background-color: var(--hover-bg-color);\n",
              "    box-shadow: 0 1px 2px rgba(60, 64, 67, 0.3), 0 1px 3px 1px rgba(60, 64, 67, 0.15);\n",
              "    fill: var(--button-hover-fill-color);\n",
              "  }\n",
              "\n",
              "  .colab-df-quickchart-complete:disabled,\n",
              "  .colab-df-quickchart-complete:disabled:hover {\n",
              "    background-color: var(--disabled-bg-color);\n",
              "    fill: var(--disabled-fill-color);\n",
              "    box-shadow: none;\n",
              "  }\n",
              "\n",
              "  .colab-df-spinner {\n",
              "    border: 2px solid var(--fill-color);\n",
              "    border-color: transparent;\n",
              "    border-bottom-color: var(--fill-color);\n",
              "    animation:\n",
              "      spin 1s steps(1) infinite;\n",
              "  }\n",
              "\n",
              "  @keyframes spin {\n",
              "    0% {\n",
              "      border-color: transparent;\n",
              "      border-bottom-color: var(--fill-color);\n",
              "      border-left-color: var(--fill-color);\n",
              "    }\n",
              "    20% {\n",
              "      border-color: transparent;\n",
              "      border-left-color: var(--fill-color);\n",
              "      border-top-color: var(--fill-color);\n",
              "    }\n",
              "    30% {\n",
              "      border-color: transparent;\n",
              "      border-left-color: var(--fill-color);\n",
              "      border-top-color: var(--fill-color);\n",
              "      border-right-color: var(--fill-color);\n",
              "    }\n",
              "    40% {\n",
              "      border-color: transparent;\n",
              "      border-right-color: var(--fill-color);\n",
              "      border-top-color: var(--fill-color);\n",
              "    }\n",
              "    60% {\n",
              "      border-color: transparent;\n",
              "      border-right-color: var(--fill-color);\n",
              "    }\n",
              "    80% {\n",
              "      border-color: transparent;\n",
              "      border-right-color: var(--fill-color);\n",
              "      border-bottom-color: var(--fill-color);\n",
              "    }\n",
              "    90% {\n",
              "      border-color: transparent;\n",
              "      border-bottom-color: var(--fill-color);\n",
              "    }\n",
              "  }\n",
              "</style>\n",
              "\n",
              "  <script>\n",
              "    async function quickchart(key) {\n",
              "      const quickchartButtonEl =\n",
              "        document.querySelector('#' + key + ' button');\n",
              "      quickchartButtonEl.disabled = true;  // To prevent multiple clicks.\n",
              "      quickchartButtonEl.classList.add('colab-df-spinner');\n",
              "      try {\n",
              "        const charts = await google.colab.kernel.invokeFunction(\n",
              "            'suggestCharts', [key], {});\n",
              "      } catch (error) {\n",
              "        console.error('Error during call to suggestCharts:', error);\n",
              "      }\n",
              "      quickchartButtonEl.classList.remove('colab-df-spinner');\n",
              "      quickchartButtonEl.classList.add('colab-df-quickchart-complete');\n",
              "    }\n",
              "    (() => {\n",
              "      let quickchartButtonEl =\n",
              "        document.querySelector('#df-89bf2112-5b0e-4e3d-ab4c-e3bd9889cd42 button');\n",
              "      quickchartButtonEl.style.display =\n",
              "        google.colab.kernel.accessAllowed ? 'block' : 'none';\n",
              "    })();\n",
              "  </script>\n",
              "</div>\n",
              "    </div>\n",
              "  </div>\n"
            ]
          },
          "metadata": {},
          "execution_count": 165
        }
      ]
    },
    {
      "cell_type": "code",
      "source": [
        "augmented_data.describe()"
      ],
      "metadata": {
        "id": "Ge0t-okDhtvZ",
        "colab": {
          "base_uri": "https://localhost:8080/",
          "height": 300
        },
        "outputId": "230dfb80-bd5b-4883-b761-f8849da50cac"
      },
      "execution_count": 166,
      "outputs": [
        {
          "output_type": "execute_result",
          "data": {
            "text/plain": [
              "        temperature     luminosity       radius   magnitude   star_type\n",
              "count    240.000000     240.000000   240.000000  240.000000  240.000000\n",
              "mean   10497.462500  107188.374132   237.160601    4.376958    2.500000\n",
              "std     9552.425037  179432.241903   517.152228   10.538022    1.711394\n",
              "min     1939.000000       0.000080     0.008400  -11.920000    0.000000\n",
              "25%     3344.250000       0.001643     0.103728   -6.244016    1.000000\n",
              "50%     5776.000000       0.142049     0.806028    8.260070    2.500000\n",
              "75%    15055.500000  198050.032196    42.755176   13.731308    4.000000\n",
              "max    40000.000000  849420.000000  1948.452243   20.060000    5.000000"
            ],
            "text/html": [
              "\n",
              "  <div id=\"df-482fe997-aad7-4ad9-b1bb-319ace2eba45\" class=\"colab-df-container\">\n",
              "    <div>\n",
              "<style scoped>\n",
              "    .dataframe tbody tr th:only-of-type {\n",
              "        vertical-align: middle;\n",
              "    }\n",
              "\n",
              "    .dataframe tbody tr th {\n",
              "        vertical-align: top;\n",
              "    }\n",
              "\n",
              "    .dataframe thead th {\n",
              "        text-align: right;\n",
              "    }\n",
              "</style>\n",
              "<table border=\"1\" class=\"dataframe\">\n",
              "  <thead>\n",
              "    <tr style=\"text-align: right;\">\n",
              "      <th></th>\n",
              "      <th>temperature</th>\n",
              "      <th>luminosity</th>\n",
              "      <th>radius</th>\n",
              "      <th>magnitude</th>\n",
              "      <th>star_type</th>\n",
              "    </tr>\n",
              "  </thead>\n",
              "  <tbody>\n",
              "    <tr>\n",
              "      <th>count</th>\n",
              "      <td>240.000000</td>\n",
              "      <td>240.000000</td>\n",
              "      <td>240.000000</td>\n",
              "      <td>240.000000</td>\n",
              "      <td>240.000000</td>\n",
              "    </tr>\n",
              "    <tr>\n",
              "      <th>mean</th>\n",
              "      <td>10497.462500</td>\n",
              "      <td>107188.374132</td>\n",
              "      <td>237.160601</td>\n",
              "      <td>4.376958</td>\n",
              "      <td>2.500000</td>\n",
              "    </tr>\n",
              "    <tr>\n",
              "      <th>std</th>\n",
              "      <td>9552.425037</td>\n",
              "      <td>179432.241903</td>\n",
              "      <td>517.152228</td>\n",
              "      <td>10.538022</td>\n",
              "      <td>1.711394</td>\n",
              "    </tr>\n",
              "    <tr>\n",
              "      <th>min</th>\n",
              "      <td>1939.000000</td>\n",
              "      <td>0.000080</td>\n",
              "      <td>0.008400</td>\n",
              "      <td>-11.920000</td>\n",
              "      <td>0.000000</td>\n",
              "    </tr>\n",
              "    <tr>\n",
              "      <th>25%</th>\n",
              "      <td>3344.250000</td>\n",
              "      <td>0.001643</td>\n",
              "      <td>0.103728</td>\n",
              "      <td>-6.244016</td>\n",
              "      <td>1.000000</td>\n",
              "    </tr>\n",
              "    <tr>\n",
              "      <th>50%</th>\n",
              "      <td>5776.000000</td>\n",
              "      <td>0.142049</td>\n",
              "      <td>0.806028</td>\n",
              "      <td>8.260070</td>\n",
              "      <td>2.500000</td>\n",
              "    </tr>\n",
              "    <tr>\n",
              "      <th>75%</th>\n",
              "      <td>15055.500000</td>\n",
              "      <td>198050.032196</td>\n",
              "      <td>42.755176</td>\n",
              "      <td>13.731308</td>\n",
              "      <td>4.000000</td>\n",
              "    </tr>\n",
              "    <tr>\n",
              "      <th>max</th>\n",
              "      <td>40000.000000</td>\n",
              "      <td>849420.000000</td>\n",
              "      <td>1948.452243</td>\n",
              "      <td>20.060000</td>\n",
              "      <td>5.000000</td>\n",
              "    </tr>\n",
              "  </tbody>\n",
              "</table>\n",
              "</div>\n",
              "    <div class=\"colab-df-buttons\">\n",
              "\n",
              "  <div class=\"colab-df-container\">\n",
              "    <button class=\"colab-df-convert\" onclick=\"convertToInteractive('df-482fe997-aad7-4ad9-b1bb-319ace2eba45')\"\n",
              "            title=\"Convert this dataframe to an interactive table.\"\n",
              "            style=\"display:none;\">\n",
              "\n",
              "  <svg xmlns=\"http://www.w3.org/2000/svg\" height=\"24px\" viewBox=\"0 -960 960 960\">\n",
              "    <path d=\"M120-120v-720h720v720H120Zm60-500h600v-160H180v160Zm220 220h160v-160H400v160Zm0 220h160v-160H400v160ZM180-400h160v-160H180v160Zm440 0h160v-160H620v160ZM180-180h160v-160H180v160Zm440 0h160v-160H620v160Z\"/>\n",
              "  </svg>\n",
              "    </button>\n",
              "\n",
              "  <style>\n",
              "    .colab-df-container {\n",
              "      display:flex;\n",
              "      gap: 12px;\n",
              "    }\n",
              "\n",
              "    .colab-df-convert {\n",
              "      background-color: #E8F0FE;\n",
              "      border: none;\n",
              "      border-radius: 50%;\n",
              "      cursor: pointer;\n",
              "      display: none;\n",
              "      fill: #1967D2;\n",
              "      height: 32px;\n",
              "      padding: 0 0 0 0;\n",
              "      width: 32px;\n",
              "    }\n",
              "\n",
              "    .colab-df-convert:hover {\n",
              "      background-color: #E2EBFA;\n",
              "      box-shadow: 0px 1px 2px rgba(60, 64, 67, 0.3), 0px 1px 3px 1px rgba(60, 64, 67, 0.15);\n",
              "      fill: #174EA6;\n",
              "    }\n",
              "\n",
              "    .colab-df-buttons div {\n",
              "      margin-bottom: 4px;\n",
              "    }\n",
              "\n",
              "    [theme=dark] .colab-df-convert {\n",
              "      background-color: #3B4455;\n",
              "      fill: #D2E3FC;\n",
              "    }\n",
              "\n",
              "    [theme=dark] .colab-df-convert:hover {\n",
              "      background-color: #434B5C;\n",
              "      box-shadow: 0px 1px 3px 1px rgba(0, 0, 0, 0.15);\n",
              "      filter: drop-shadow(0px 1px 2px rgba(0, 0, 0, 0.3));\n",
              "      fill: #FFFFFF;\n",
              "    }\n",
              "  </style>\n",
              "\n",
              "    <script>\n",
              "      const buttonEl =\n",
              "        document.querySelector('#df-482fe997-aad7-4ad9-b1bb-319ace2eba45 button.colab-df-convert');\n",
              "      buttonEl.style.display =\n",
              "        google.colab.kernel.accessAllowed ? 'block' : 'none';\n",
              "\n",
              "      async function convertToInteractive(key) {\n",
              "        const element = document.querySelector('#df-482fe997-aad7-4ad9-b1bb-319ace2eba45');\n",
              "        const dataTable =\n",
              "          await google.colab.kernel.invokeFunction('convertToInteractive',\n",
              "                                                    [key], {});\n",
              "        if (!dataTable) return;\n",
              "\n",
              "        const docLinkHtml = 'Like what you see? Visit the ' +\n",
              "          '<a target=\"_blank\" href=https://colab.research.google.com/notebooks/data_table.ipynb>data table notebook</a>'\n",
              "          + ' to learn more about interactive tables.';\n",
              "        element.innerHTML = '';\n",
              "        dataTable['output_type'] = 'display_data';\n",
              "        await google.colab.output.renderOutput(dataTable, element);\n",
              "        const docLink = document.createElement('div');\n",
              "        docLink.innerHTML = docLinkHtml;\n",
              "        element.appendChild(docLink);\n",
              "      }\n",
              "    </script>\n",
              "  </div>\n",
              "\n",
              "\n",
              "<div id=\"df-5ac67ee9-89ea-45c4-9a1b-67b3d2de8bfb\">\n",
              "  <button class=\"colab-df-quickchart\" onclick=\"quickchart('df-5ac67ee9-89ea-45c4-9a1b-67b3d2de8bfb')\"\n",
              "            title=\"Suggest charts.\"\n",
              "            style=\"display:none;\">\n",
              "\n",
              "<svg xmlns=\"http://www.w3.org/2000/svg\" height=\"24px\"viewBox=\"0 0 24 24\"\n",
              "     width=\"24px\">\n",
              "    <g>\n",
              "        <path d=\"M19 3H5c-1.1 0-2 .9-2 2v14c0 1.1.9 2 2 2h14c1.1 0 2-.9 2-2V5c0-1.1-.9-2-2-2zM9 17H7v-7h2v7zm4 0h-2V7h2v10zm4 0h-2v-4h2v4z\"/>\n",
              "    </g>\n",
              "</svg>\n",
              "  </button>\n",
              "\n",
              "<style>\n",
              "  .colab-df-quickchart {\n",
              "      --bg-color: #E8F0FE;\n",
              "      --fill-color: #1967D2;\n",
              "      --hover-bg-color: #E2EBFA;\n",
              "      --hover-fill-color: #174EA6;\n",
              "      --disabled-fill-color: #AAA;\n",
              "      --disabled-bg-color: #DDD;\n",
              "  }\n",
              "\n",
              "  [theme=dark] .colab-df-quickchart {\n",
              "      --bg-color: #3B4455;\n",
              "      --fill-color: #D2E3FC;\n",
              "      --hover-bg-color: #434B5C;\n",
              "      --hover-fill-color: #FFFFFF;\n",
              "      --disabled-bg-color: #3B4455;\n",
              "      --disabled-fill-color: #666;\n",
              "  }\n",
              "\n",
              "  .colab-df-quickchart {\n",
              "    background-color: var(--bg-color);\n",
              "    border: none;\n",
              "    border-radius: 50%;\n",
              "    cursor: pointer;\n",
              "    display: none;\n",
              "    fill: var(--fill-color);\n",
              "    height: 32px;\n",
              "    padding: 0;\n",
              "    width: 32px;\n",
              "  }\n",
              "\n",
              "  .colab-df-quickchart:hover {\n",
              "    background-color: var(--hover-bg-color);\n",
              "    box-shadow: 0 1px 2px rgba(60, 64, 67, 0.3), 0 1px 3px 1px rgba(60, 64, 67, 0.15);\n",
              "    fill: var(--button-hover-fill-color);\n",
              "  }\n",
              "\n",
              "  .colab-df-quickchart-complete:disabled,\n",
              "  .colab-df-quickchart-complete:disabled:hover {\n",
              "    background-color: var(--disabled-bg-color);\n",
              "    fill: var(--disabled-fill-color);\n",
              "    box-shadow: none;\n",
              "  }\n",
              "\n",
              "  .colab-df-spinner {\n",
              "    border: 2px solid var(--fill-color);\n",
              "    border-color: transparent;\n",
              "    border-bottom-color: var(--fill-color);\n",
              "    animation:\n",
              "      spin 1s steps(1) infinite;\n",
              "  }\n",
              "\n",
              "  @keyframes spin {\n",
              "    0% {\n",
              "      border-color: transparent;\n",
              "      border-bottom-color: var(--fill-color);\n",
              "      border-left-color: var(--fill-color);\n",
              "    }\n",
              "    20% {\n",
              "      border-color: transparent;\n",
              "      border-left-color: var(--fill-color);\n",
              "      border-top-color: var(--fill-color);\n",
              "    }\n",
              "    30% {\n",
              "      border-color: transparent;\n",
              "      border-left-color: var(--fill-color);\n",
              "      border-top-color: var(--fill-color);\n",
              "      border-right-color: var(--fill-color);\n",
              "    }\n",
              "    40% {\n",
              "      border-color: transparent;\n",
              "      border-right-color: var(--fill-color);\n",
              "      border-top-color: var(--fill-color);\n",
              "    }\n",
              "    60% {\n",
              "      border-color: transparent;\n",
              "      border-right-color: var(--fill-color);\n",
              "    }\n",
              "    80% {\n",
              "      border-color: transparent;\n",
              "      border-right-color: var(--fill-color);\n",
              "      border-bottom-color: var(--fill-color);\n",
              "    }\n",
              "    90% {\n",
              "      border-color: transparent;\n",
              "      border-bottom-color: var(--fill-color);\n",
              "    }\n",
              "  }\n",
              "</style>\n",
              "\n",
              "  <script>\n",
              "    async function quickchart(key) {\n",
              "      const quickchartButtonEl =\n",
              "        document.querySelector('#' + key + ' button');\n",
              "      quickchartButtonEl.disabled = true;  // To prevent multiple clicks.\n",
              "      quickchartButtonEl.classList.add('colab-df-spinner');\n",
              "      try {\n",
              "        const charts = await google.colab.kernel.invokeFunction(\n",
              "            'suggestCharts', [key], {});\n",
              "      } catch (error) {\n",
              "        console.error('Error during call to suggestCharts:', error);\n",
              "      }\n",
              "      quickchartButtonEl.classList.remove('colab-df-spinner');\n",
              "      quickchartButtonEl.classList.add('colab-df-quickchart-complete');\n",
              "    }\n",
              "    (() => {\n",
              "      let quickchartButtonEl =\n",
              "        document.querySelector('#df-5ac67ee9-89ea-45c4-9a1b-67b3d2de8bfb button');\n",
              "      quickchartButtonEl.style.display =\n",
              "        google.colab.kernel.accessAllowed ? 'block' : 'none';\n",
              "    })();\n",
              "  </script>\n",
              "</div>\n",
              "    </div>\n",
              "  </div>\n"
            ]
          },
          "metadata": {},
          "execution_count": 166
        }
      ]
    },
    {
      "cell_type": "code",
      "source": [
        "data.describe()"
      ],
      "metadata": {
        "id": "U8QDQ7qJhxO4",
        "colab": {
          "base_uri": "https://localhost:8080/",
          "height": 300
        },
        "outputId": "4ce87025-f9b0-4ce3-89dc-d78f9bec8c68"
      },
      "execution_count": 167,
      "outputs": [
        {
          "output_type": "execute_result",
          "data": {
            "text/plain": [
              "        temperature     luminosity       radius   magnitude   star_type\n",
              "count    240.000000     240.000000   240.000000  240.000000  240.000000\n",
              "mean   10497.462500  107188.361635   237.157781    4.382396    2.500000\n",
              "std     9552.425037  179432.244940   517.155763   10.532512    1.711394\n",
              "min     1939.000000       0.000080     0.008400  -11.920000    0.000000\n",
              "25%     3344.250000       0.000865     0.102750   -6.232500    1.000000\n",
              "50%     5776.000000       0.070500     0.762500    8.313000    2.500000\n",
              "75%    15055.500000  198050.000000    42.750000   13.697500    4.000000\n",
              "max    40000.000000  849420.000000  1948.500000   20.060000    5.000000"
            ],
            "text/html": [
              "\n",
              "  <div id=\"df-603c6a52-314f-4b50-8426-29c64d285590\" class=\"colab-df-container\">\n",
              "    <div>\n",
              "<style scoped>\n",
              "    .dataframe tbody tr th:only-of-type {\n",
              "        vertical-align: middle;\n",
              "    }\n",
              "\n",
              "    .dataframe tbody tr th {\n",
              "        vertical-align: top;\n",
              "    }\n",
              "\n",
              "    .dataframe thead th {\n",
              "        text-align: right;\n",
              "    }\n",
              "</style>\n",
              "<table border=\"1\" class=\"dataframe\">\n",
              "  <thead>\n",
              "    <tr style=\"text-align: right;\">\n",
              "      <th></th>\n",
              "      <th>temperature</th>\n",
              "      <th>luminosity</th>\n",
              "      <th>radius</th>\n",
              "      <th>magnitude</th>\n",
              "      <th>star_type</th>\n",
              "    </tr>\n",
              "  </thead>\n",
              "  <tbody>\n",
              "    <tr>\n",
              "      <th>count</th>\n",
              "      <td>240.000000</td>\n",
              "      <td>240.000000</td>\n",
              "      <td>240.000000</td>\n",
              "      <td>240.000000</td>\n",
              "      <td>240.000000</td>\n",
              "    </tr>\n",
              "    <tr>\n",
              "      <th>mean</th>\n",
              "      <td>10497.462500</td>\n",
              "      <td>107188.361635</td>\n",
              "      <td>237.157781</td>\n",
              "      <td>4.382396</td>\n",
              "      <td>2.500000</td>\n",
              "    </tr>\n",
              "    <tr>\n",
              "      <th>std</th>\n",
              "      <td>9552.425037</td>\n",
              "      <td>179432.244940</td>\n",
              "      <td>517.155763</td>\n",
              "      <td>10.532512</td>\n",
              "      <td>1.711394</td>\n",
              "    </tr>\n",
              "    <tr>\n",
              "      <th>min</th>\n",
              "      <td>1939.000000</td>\n",
              "      <td>0.000080</td>\n",
              "      <td>0.008400</td>\n",
              "      <td>-11.920000</td>\n",
              "      <td>0.000000</td>\n",
              "    </tr>\n",
              "    <tr>\n",
              "      <th>25%</th>\n",
              "      <td>3344.250000</td>\n",
              "      <td>0.000865</td>\n",
              "      <td>0.102750</td>\n",
              "      <td>-6.232500</td>\n",
              "      <td>1.000000</td>\n",
              "    </tr>\n",
              "    <tr>\n",
              "      <th>50%</th>\n",
              "      <td>5776.000000</td>\n",
              "      <td>0.070500</td>\n",
              "      <td>0.762500</td>\n",
              "      <td>8.313000</td>\n",
              "      <td>2.500000</td>\n",
              "    </tr>\n",
              "    <tr>\n",
              "      <th>75%</th>\n",
              "      <td>15055.500000</td>\n",
              "      <td>198050.000000</td>\n",
              "      <td>42.750000</td>\n",
              "      <td>13.697500</td>\n",
              "      <td>4.000000</td>\n",
              "    </tr>\n",
              "    <tr>\n",
              "      <th>max</th>\n",
              "      <td>40000.000000</td>\n",
              "      <td>849420.000000</td>\n",
              "      <td>1948.500000</td>\n",
              "      <td>20.060000</td>\n",
              "      <td>5.000000</td>\n",
              "    </tr>\n",
              "  </tbody>\n",
              "</table>\n",
              "</div>\n",
              "    <div class=\"colab-df-buttons\">\n",
              "\n",
              "  <div class=\"colab-df-container\">\n",
              "    <button class=\"colab-df-convert\" onclick=\"convertToInteractive('df-603c6a52-314f-4b50-8426-29c64d285590')\"\n",
              "            title=\"Convert this dataframe to an interactive table.\"\n",
              "            style=\"display:none;\">\n",
              "\n",
              "  <svg xmlns=\"http://www.w3.org/2000/svg\" height=\"24px\" viewBox=\"0 -960 960 960\">\n",
              "    <path d=\"M120-120v-720h720v720H120Zm60-500h600v-160H180v160Zm220 220h160v-160H400v160Zm0 220h160v-160H400v160ZM180-400h160v-160H180v160Zm440 0h160v-160H620v160ZM180-180h160v-160H180v160Zm440 0h160v-160H620v160Z\"/>\n",
              "  </svg>\n",
              "    </button>\n",
              "\n",
              "  <style>\n",
              "    .colab-df-container {\n",
              "      display:flex;\n",
              "      gap: 12px;\n",
              "    }\n",
              "\n",
              "    .colab-df-convert {\n",
              "      background-color: #E8F0FE;\n",
              "      border: none;\n",
              "      border-radius: 50%;\n",
              "      cursor: pointer;\n",
              "      display: none;\n",
              "      fill: #1967D2;\n",
              "      height: 32px;\n",
              "      padding: 0 0 0 0;\n",
              "      width: 32px;\n",
              "    }\n",
              "\n",
              "    .colab-df-convert:hover {\n",
              "      background-color: #E2EBFA;\n",
              "      box-shadow: 0px 1px 2px rgba(60, 64, 67, 0.3), 0px 1px 3px 1px rgba(60, 64, 67, 0.15);\n",
              "      fill: #174EA6;\n",
              "    }\n",
              "\n",
              "    .colab-df-buttons div {\n",
              "      margin-bottom: 4px;\n",
              "    }\n",
              "\n",
              "    [theme=dark] .colab-df-convert {\n",
              "      background-color: #3B4455;\n",
              "      fill: #D2E3FC;\n",
              "    }\n",
              "\n",
              "    [theme=dark] .colab-df-convert:hover {\n",
              "      background-color: #434B5C;\n",
              "      box-shadow: 0px 1px 3px 1px rgba(0, 0, 0, 0.15);\n",
              "      filter: drop-shadow(0px 1px 2px rgba(0, 0, 0, 0.3));\n",
              "      fill: #FFFFFF;\n",
              "    }\n",
              "  </style>\n",
              "\n",
              "    <script>\n",
              "      const buttonEl =\n",
              "        document.querySelector('#df-603c6a52-314f-4b50-8426-29c64d285590 button.colab-df-convert');\n",
              "      buttonEl.style.display =\n",
              "        google.colab.kernel.accessAllowed ? 'block' : 'none';\n",
              "\n",
              "      async function convertToInteractive(key) {\n",
              "        const element = document.querySelector('#df-603c6a52-314f-4b50-8426-29c64d285590');\n",
              "        const dataTable =\n",
              "          await google.colab.kernel.invokeFunction('convertToInteractive',\n",
              "                                                    [key], {});\n",
              "        if (!dataTable) return;\n",
              "\n",
              "        const docLinkHtml = 'Like what you see? Visit the ' +\n",
              "          '<a target=\"_blank\" href=https://colab.research.google.com/notebooks/data_table.ipynb>data table notebook</a>'\n",
              "          + ' to learn more about interactive tables.';\n",
              "        element.innerHTML = '';\n",
              "        dataTable['output_type'] = 'display_data';\n",
              "        await google.colab.output.renderOutput(dataTable, element);\n",
              "        const docLink = document.createElement('div');\n",
              "        docLink.innerHTML = docLinkHtml;\n",
              "        element.appendChild(docLink);\n",
              "      }\n",
              "    </script>\n",
              "  </div>\n",
              "\n",
              "\n",
              "<div id=\"df-c4149314-5857-4d40-b00f-3b46b2ef99d8\">\n",
              "  <button class=\"colab-df-quickchart\" onclick=\"quickchart('df-c4149314-5857-4d40-b00f-3b46b2ef99d8')\"\n",
              "            title=\"Suggest charts.\"\n",
              "            style=\"display:none;\">\n",
              "\n",
              "<svg xmlns=\"http://www.w3.org/2000/svg\" height=\"24px\"viewBox=\"0 0 24 24\"\n",
              "     width=\"24px\">\n",
              "    <g>\n",
              "        <path d=\"M19 3H5c-1.1 0-2 .9-2 2v14c0 1.1.9 2 2 2h14c1.1 0 2-.9 2-2V5c0-1.1-.9-2-2-2zM9 17H7v-7h2v7zm4 0h-2V7h2v10zm4 0h-2v-4h2v4z\"/>\n",
              "    </g>\n",
              "</svg>\n",
              "  </button>\n",
              "\n",
              "<style>\n",
              "  .colab-df-quickchart {\n",
              "      --bg-color: #E8F0FE;\n",
              "      --fill-color: #1967D2;\n",
              "      --hover-bg-color: #E2EBFA;\n",
              "      --hover-fill-color: #174EA6;\n",
              "      --disabled-fill-color: #AAA;\n",
              "      --disabled-bg-color: #DDD;\n",
              "  }\n",
              "\n",
              "  [theme=dark] .colab-df-quickchart {\n",
              "      --bg-color: #3B4455;\n",
              "      --fill-color: #D2E3FC;\n",
              "      --hover-bg-color: #434B5C;\n",
              "      --hover-fill-color: #FFFFFF;\n",
              "      --disabled-bg-color: #3B4455;\n",
              "      --disabled-fill-color: #666;\n",
              "  }\n",
              "\n",
              "  .colab-df-quickchart {\n",
              "    background-color: var(--bg-color);\n",
              "    border: none;\n",
              "    border-radius: 50%;\n",
              "    cursor: pointer;\n",
              "    display: none;\n",
              "    fill: var(--fill-color);\n",
              "    height: 32px;\n",
              "    padding: 0;\n",
              "    width: 32px;\n",
              "  }\n",
              "\n",
              "  .colab-df-quickchart:hover {\n",
              "    background-color: var(--hover-bg-color);\n",
              "    box-shadow: 0 1px 2px rgba(60, 64, 67, 0.3), 0 1px 3px 1px rgba(60, 64, 67, 0.15);\n",
              "    fill: var(--button-hover-fill-color);\n",
              "  }\n",
              "\n",
              "  .colab-df-quickchart-complete:disabled,\n",
              "  .colab-df-quickchart-complete:disabled:hover {\n",
              "    background-color: var(--disabled-bg-color);\n",
              "    fill: var(--disabled-fill-color);\n",
              "    box-shadow: none;\n",
              "  }\n",
              "\n",
              "  .colab-df-spinner {\n",
              "    border: 2px solid var(--fill-color);\n",
              "    border-color: transparent;\n",
              "    border-bottom-color: var(--fill-color);\n",
              "    animation:\n",
              "      spin 1s steps(1) infinite;\n",
              "  }\n",
              "\n",
              "  @keyframes spin {\n",
              "    0% {\n",
              "      border-color: transparent;\n",
              "      border-bottom-color: var(--fill-color);\n",
              "      border-left-color: var(--fill-color);\n",
              "    }\n",
              "    20% {\n",
              "      border-color: transparent;\n",
              "      border-left-color: var(--fill-color);\n",
              "      border-top-color: var(--fill-color);\n",
              "    }\n",
              "    30% {\n",
              "      border-color: transparent;\n",
              "      border-left-color: var(--fill-color);\n",
              "      border-top-color: var(--fill-color);\n",
              "      border-right-color: var(--fill-color);\n",
              "    }\n",
              "    40% {\n",
              "      border-color: transparent;\n",
              "      border-right-color: var(--fill-color);\n",
              "      border-top-color: var(--fill-color);\n",
              "    }\n",
              "    60% {\n",
              "      border-color: transparent;\n",
              "      border-right-color: var(--fill-color);\n",
              "    }\n",
              "    80% {\n",
              "      border-color: transparent;\n",
              "      border-right-color: var(--fill-color);\n",
              "      border-bottom-color: var(--fill-color);\n",
              "    }\n",
              "    90% {\n",
              "      border-color: transparent;\n",
              "      border-bottom-color: var(--fill-color);\n",
              "    }\n",
              "  }\n",
              "</style>\n",
              "\n",
              "  <script>\n",
              "    async function quickchart(key) {\n",
              "      const quickchartButtonEl =\n",
              "        document.querySelector('#' + key + ' button');\n",
              "      quickchartButtonEl.disabled = true;  // To prevent multiple clicks.\n",
              "      quickchartButtonEl.classList.add('colab-df-spinner');\n",
              "      try {\n",
              "        const charts = await google.colab.kernel.invokeFunction(\n",
              "            'suggestCharts', [key], {});\n",
              "      } catch (error) {\n",
              "        console.error('Error during call to suggestCharts:', error);\n",
              "      }\n",
              "      quickchartButtonEl.classList.remove('colab-df-spinner');\n",
              "      quickchartButtonEl.classList.add('colab-df-quickchart-complete');\n",
              "    }\n",
              "    (() => {\n",
              "      let quickchartButtonEl =\n",
              "        document.querySelector('#df-c4149314-5857-4d40-b00f-3b46b2ef99d8 button');\n",
              "      quickchartButtonEl.style.display =\n",
              "        google.colab.kernel.accessAllowed ? 'block' : 'none';\n",
              "    })();\n",
              "  </script>\n",
              "</div>\n",
              "    </div>\n",
              "  </div>\n"
            ]
          },
          "metadata": {},
          "execution_count": 167
        }
      ]
    },
    {
      "cell_type": "markdown",
      "source": [
        "####модель на аугментированном датасете с шумом"
      ],
      "metadata": {
        "id": "CIi6lxLkx8Dp"
      }
    },
    {
      "cell_type": "code",
      "source": [
        "train = augmented_data\n",
        "valid = valid"
      ],
      "metadata": {
        "id": "ngo7kRTGNCjA"
      },
      "execution_count": 170,
      "outputs": []
    },
    {
      "cell_type": "code",
      "source": [
        "#train, valid = train_test_split(augmented_data,\n",
        "                          #      shuffle=True,\n",
        "                          #      random_state = RANDOM_STATE)\n",
        "\n",
        "print('Размер обучающей выборки',train.shape)\n",
        "print()\n",
        "print('Размер валидационной выборки', valid.shape)\n",
        "print( )\n",
        "print('Размер тестовой выборки', test.shape)\n"
      ],
      "metadata": {
        "id": "KF0RarxVvkbs",
        "colab": {
          "base_uri": "https://localhost:8080/"
        },
        "outputId": "9914c361-cbdf-4607-feef-c2c23cda33fc"
      },
      "execution_count": 168,
      "outputs": [
        {
          "output_type": "stream",
          "name": "stdout",
          "text": [
            "Размер обучающей выборки (180, 6)\n",
            "\n",
            "Размер валидационной выборки (60, 6)\n",
            "\n",
            "Размер тестовой выборки (48, 6)\n"
          ]
        }
      ]
    },
    {
      "cell_type": "code",
      "source": [
        "column_transformer = ColumnTransformer(transformers=[\n",
        "    ('encoder', OneHotEncoder(handle_unknown='ignore'), categorical),\n",
        "     ('scale', StandardScaler(), numerical)])\n",
        "\n",
        "X_train = torch.Tensor(column_transformer.fit_transform(train[X]))\n",
        "\n",
        "X_valid = torch.Tensor(column_transformer.transform(valid[X]))\n",
        "#X_test = torch.Tensor(column_transformer.transform(test[X]))\n",
        "\n",
        "\n",
        "y_train = torch.Tensor(train[y].values).reshape(-1, 1)\n",
        "y_valid = torch.Tensor(valid[y].values).reshape(-1, 1)\n",
        "#y_test = torch.Tensor(test[y].values).reshape(-1, 1)\n",
        "\n",
        "print(X_train.size())\n",
        "print()\n",
        "print(X_valid.size())\n",
        "print()\n",
        "print(X_test.size())\n"
      ],
      "metadata": {
        "id": "pOmCZ0mEwaig",
        "colab": {
          "base_uri": "https://localhost:8080/"
        },
        "outputId": "7ea49c3e-dcfe-428f-c92e-59df7a842187"
      },
      "execution_count": 171,
      "outputs": [
        {
          "output_type": "stream",
          "name": "stdout",
          "text": [
            "torch.Size([240, 16])\n",
            "\n",
            "torch.Size([48, 16])\n",
            "\n",
            "torch.Size([48, 14])\n"
          ]
        }
      ]
    },
    {
      "cell_type": "code",
      "source": [
        "input_neurons = X_train.shape[1]\n",
        "\n",
        "\n",
        "model = BaselineModel(input_neurons,\n",
        "                        hidden_neurons,\n",
        "                        output_neurons)"
      ],
      "metadata": {
        "id": "itASJv6X4sE1"
      },
      "execution_count": 172,
      "outputs": []
    },
    {
      "cell_type": "code",
      "source": [
        "for epoch in range(num_epochs):\n",
        "\n",
        "    outputs = model(X_train)\n",
        "\n",
        "    # Вычисление потерь\n",
        "    loss_train = loss(outputs, y_train)\n",
        "\n",
        "    optimizer.zero_grad()\n",
        "    loss_train.backward()\n",
        "    optimizer.step()\n",
        "\n",
        "    if (epoch + 1) % 1000 == 0:\n",
        "        print(f'Epoch [{epoch + 1}/{num_epochs}], Loss: {loss_train.item()}')\n",
        "\n",
        "        model.eval()  # Перевести модель в режим оценки\n",
        "        with torch.no_grad():\n",
        "          valid_outputs = model(X_valid)\n",
        "          valid_loss = loss(valid_outputs, y_test)\n",
        "          print(f'Valid Loss: {np.sqrt(valid_loss.item())}')"
      ],
      "metadata": {
        "id": "ZaFPC7IQwk8i",
        "colab": {
          "base_uri": "https://localhost:8080/"
        },
        "outputId": "5bd480df-f070-41a1-ac10-e44707e88b59"
      },
      "execution_count": 175,
      "outputs": [
        {
          "output_type": "stream",
          "name": "stdout",
          "text": [
            "Epoch [1000/10000], Loss: 201063952.0\n",
            "Valid Loss: 15760.004568527256\n",
            "Epoch [2000/10000], Loss: 201063952.0\n",
            "Valid Loss: 15760.004568527256\n",
            "Epoch [3000/10000], Loss: 201063952.0\n",
            "Valid Loss: 15760.004568527256\n",
            "Epoch [4000/10000], Loss: 201063952.0\n",
            "Valid Loss: 15760.004568527256\n",
            "Epoch [5000/10000], Loss: 201063952.0\n",
            "Valid Loss: 15760.004568527256\n",
            "Epoch [6000/10000], Loss: 201063952.0\n",
            "Valid Loss: 15760.004568527256\n",
            "Epoch [7000/10000], Loss: 201063952.0\n",
            "Valid Loss: 15760.004568527256\n",
            "Epoch [8000/10000], Loss: 201063952.0\n",
            "Valid Loss: 15760.004568527256\n",
            "Epoch [9000/10000], Loss: 201063952.0\n",
            "Valid Loss: 15760.004568527256\n",
            "Epoch [10000/10000], Loss: 201063952.0\n",
            "Valid Loss: 15760.004568527256\n"
          ]
        }
      ]
    },
    {
      "cell_type": "code",
      "source": [
        "rmse_augmented = np.sqrt(valid_loss.item())\n",
        "result.append(['rmse_augmented', rmse_augmented])\n",
        "result"
      ],
      "metadata": {
        "id": "h8bDMGHBwqp9",
        "colab": {
          "base_uri": "https://localhost:8080/"
        },
        "outputId": "063481ec-428d-4909-9ba8-0e68d2738dc5"
      },
      "execution_count": 176,
      "outputs": [
        {
          "output_type": "execute_result",
          "data": {
            "text/plain": [
              "[['rmse_baseline', 5580.607852196748],\n",
              " ['dropout_rmse', 5060.180233944242],\n",
              " ['batch_sizes_rmse', 5060.180233944242],\n",
              " ['batch_sizes_rmse', 5060.180233944242],\n",
              " ['batch_sizes_rmse', 5060.180233944242],\n",
              " ['batch_sizes_rmse', inf],\n",
              " ['batch_sizes_rmse', 5020.781612458363],\n",
              " ['rmse_baseline', tensor(5289.1226)],\n",
              " ['dropout_rmse', 4382.9147835658405],\n",
              " ['rmse_synthetic', 7715.256833054879],\n",
              " ['rmse_synthetic', 649646.2927347466],\n",
              " ['rmse_augmented', 15760.004568527256]]"
            ]
          },
          "metadata": {},
          "execution_count": 176
        }
      ]
    },
    {
      "cell_type": "code",
      "source": [
        "plot(y_test, test_outputs, 'Augmented data')"
      ],
      "metadata": {
        "id": "Dff_3GZklmPn"
      },
      "execution_count": null,
      "outputs": []
    },
    {
      "cell_type": "markdown",
      "source": [
        "#### модель на 2-x датасетах"
      ],
      "metadata": {
        "id": "Z2A0o_1LzZYr"
      }
    },
    {
      "cell_type": "code",
      "source": [
        "data_concat2 = pd.concat([augmented_data,\n",
        "                          synthetic_data],\n",
        "                         ignore_index = True)"
      ],
      "metadata": {
        "id": "sYo92dgWwt8r"
      },
      "execution_count": null,
      "outputs": []
    },
    {
      "cell_type": "code",
      "source": [
        "train, valid = train_test_split(data_concat2,\n",
        "                                shuffle=True,\n",
        "                                random_state = RANDOM_STATE)\n",
        "test = test\n",
        "print('Размер обучающей выборки',train.shape)\n",
        "print ()\n",
        "print('Размер валидационной выборки', valid.shape)\n",
        "print()\n",
        "print('Размер тестовой выборки', test.shape)"
      ],
      "metadata": {
        "id": "PTlgCcyxyxMU"
      },
      "execution_count": null,
      "outputs": []
    },
    {
      "cell_type": "code",
      "source": [
        "column_transformer = ColumnTransformer(transformers=[\n",
        "    ('encoder', OneHotEncoder(handle_unknown='ignore'), categorical),\n",
        "     ('scale', StandardScaler(), numerical)])\n",
        "\n",
        "X_train = torch.Tensor(column_transformer.fit_transform(train[X]).toarray())\n",
        "X_valid = torch.Tensor(column_transformer.transform(valid[X]).toarray())\n",
        "X_test = torch.Tensor(column_transformer.transform(test[X]).toarray())\n",
        "\n",
        "\n",
        "y_train = torch.Tensor(train[y].values).reshape(-1, 1)\n",
        "y_valid = torch.Tensor(valid[y].values).reshape(-1, 1)\n",
        "y_test = torch.Tensor(test[y].values).reshape(-1, 1)\n",
        "\n",
        "print(X_train.size())\n",
        "print()\n",
        "print(X_valid.size())\n",
        "print()\n",
        "print(X_test.size())"
      ],
      "metadata": {
        "id": "Kzd6B_cbzfx1"
      },
      "execution_count": null,
      "outputs": []
    },
    {
      "cell_type": "code",
      "source": [
        "input_neurons = X_train.shape[1]\n",
        "\n",
        "model = BaselineModel(input_neurons,\n",
        "                        hidden_neurons,\n",
        "                        output_neurons)\n",
        "\n",
        "optimizer = torch.optim.Adam(model.parameters(), lr=0.01)"
      ],
      "metadata": {
        "id": "jdHhT4uh0byj"
      },
      "execution_count": null,
      "outputs": []
    },
    {
      "cell_type": "code",
      "source": [
        "for epoch in range(num_epochs):\n",
        "\n",
        "    outputs = model(X_train)\n",
        "\n",
        "    # Вычисление потерь\n",
        "    loss_train = loss(outputs, y_train)\n",
        "\n",
        "    optimizer.zero_grad()\n",
        "    loss_train.backward()\n",
        "    optimizer.step()\n",
        "\n",
        "    if (epoch + 1) % 1000 == 0:\n",
        "        print(f'Epoch [{epoch + 1}/{num_epochs}], Loss: {loss_train.item()}')\n",
        "\n",
        "model.eval()  # Перевести модель в режим оценки\n",
        "\n",
        "with torch.no_grad():\n",
        "    test_outputs = model(X_test)\n",
        "    test_loss = loss(test_outputs, y_test)\n",
        "\n",
        "print(f'Test Loss: {test_loss.item()}')"
      ],
      "metadata": {
        "id": "sG9X-6YZzoVA"
      },
      "execution_count": null,
      "outputs": []
    },
    {
      "cell_type": "code",
      "source": [
        "rmse_concat2 = np.sqrt(test_loss.item())\n",
        "result.append(['rmse_concat2', rmse_concat2])\n",
        "result"
      ],
      "metadata": {
        "id": "EqxtoGwRzsEK"
      },
      "execution_count": null,
      "outputs": []
    },
    {
      "cell_type": "code",
      "source": [
        "plot(y_test, test_outputs, 'RMSE on synthetic+augmented')"
      ],
      "metadata": {
        "id": "xSh4N9Q4psbU"
      },
      "execution_count": null,
      "outputs": []
    },
    {
      "cell_type": "markdown",
      "source": [
        "#### Модель на 3 датасетах"
      ],
      "metadata": {
        "id": "F3RF_ZUDBuaj"
      }
    },
    {
      "cell_type": "code",
      "source": [
        "data_concat3 = pd.concat([data,\n",
        "                          augmented_data,\n",
        "                          synthetic_data],\n",
        "                         ignore_index = True)"
      ],
      "metadata": {
        "id": "AbohU4_DBtjb"
      },
      "execution_count": null,
      "outputs": []
    },
    {
      "cell_type": "code",
      "source": [
        "train, valid = train_test_split(data_concat3,\n",
        "                                test_size = 0.4,\n",
        "                                shuffle=True,\n",
        "                                random_state = RANDOM_STATE)\n",
        "print('Размер обучающей выборки',train.shape)\n",
        "\n",
        "valid, test = train_test_split(valid,\n",
        "                               test_size = 0.5,\n",
        "                               shuffle=True,\n",
        "                                random_state = RANDOM_STATE)\n",
        "\n",
        "print('Размер валидационной выборки', valid.shape)\n",
        "print( )\n",
        "print('Размер тестовой выборки', test.shape)"
      ],
      "metadata": {
        "id": "DZCF2twcCTh-"
      },
      "execution_count": null,
      "outputs": []
    },
    {
      "cell_type": "code",
      "source": [
        "column_transformer = ColumnTransformer(transformers=[\n",
        "    ('encoder', OneHotEncoder(handle_unknown='ignore'), categorical),\n",
        "     ('scale', StandardScaler(), numerical)])\n"
      ],
      "metadata": {
        "id": "zv-6BVXgCXOU"
      },
      "execution_count": null,
      "outputs": []
    },
    {
      "cell_type": "code",
      "source": [
        "X_train = torch.Tensor(column_transformer.fit_transform(train[X]).toarray())\n",
        "X_valid = torch.Tensor(column_transformer.transform(valid[X]).toarray())\n",
        "X_test = torch.Tensor(column_transformer.transform(test[X]).toarray())\n",
        "\n",
        "\n",
        "y_train = torch.Tensor(train[y].values).reshape(-1, 1)\n",
        "y_valid = torch.Tensor(valid[y].values).reshape(-1, 1)\n",
        "y_test = torch.Tensor(test[y].values).reshape(-1, 1)\n",
        "\n",
        "print(X_train.size())\n",
        "print()\n",
        "print(X_valid.size())\n",
        "print()\n",
        "print(X_test.size())"
      ],
      "metadata": {
        "id": "GqMgqEHlCas6"
      },
      "execution_count": null,
      "outputs": []
    },
    {
      "cell_type": "code",
      "source": [
        "input_neurons = X_train.shape[1]\n",
        "\n",
        "model = BaselineModel(input_neurons,\n",
        "                      hidden_neurons,\n",
        "                      output_neurons)\n",
        "\n",
        "optimizer = torch.optim.Adam(model.parameters(), lr=0.01)"
      ],
      "metadata": {
        "id": "wykknTNN8G1L"
      },
      "execution_count": null,
      "outputs": []
    },
    {
      "cell_type": "code",
      "source": [
        "for epoch in range(num_epochs):\n",
        "\n",
        "    outputs = model(X_train)\n",
        "\n",
        "    # Вычисление потерь\n",
        "    loss_train = loss(outputs, y_train)\n",
        "\n",
        "    optimizer.zero_grad()\n",
        "    loss_train.backward()\n",
        "    optimizer.step()\n",
        "\n",
        "    if (epoch + 1) % 1000 == 0:\n",
        "        print(f'Epoch [{epoch + 1}/{num_epochs}], Loss: {loss_train.item()}')\n",
        "\n",
        "model.eval()  # Перевести модель в режим оценки\n",
        "\n",
        "with torch.no_grad():\n",
        "    test_outputs = model(X_test)\n",
        "    test_loss = loss(test_outputs, y_test)\n",
        "\n",
        "print(f'Test Loss: {test_loss.item()}')"
      ],
      "metadata": {
        "id": "ecM54ODpqS58"
      },
      "execution_count": null,
      "outputs": []
    },
    {
      "cell_type": "code",
      "source": [
        "rmse_concat3 = np.sqrt(test_loss.item())\n",
        "result.append(['rmse_concat3', rmse_concat3])\n",
        "result"
      ],
      "metadata": {
        "id": "9FOjdw7WDB-c"
      },
      "execution_count": null,
      "outputs": []
    },
    {
      "cell_type": "code",
      "source": [
        "plot(y_test, test_outputs, 'RMSE on 3 datasets')"
      ],
      "metadata": {
        "id": "QO6CfZ41VKwO"
      },
      "execution_count": null,
      "outputs": []
    },
    {
      "cell_type": "code",
      "source": [],
      "metadata": {
        "id": "XLzMoJj6O0dq"
      },
      "execution_count": null,
      "outputs": []
    },
    {
      "cell_type": "code",
      "source": [
        "class BestModel(nn.Module):\n",
        "    def __init__(self, input_neurons, hidden_neurons, output_neurons):\n",
        "        super(BestModel, self).__init__()\n",
        "\n",
        "        self.fc1 = nn.Linear(input_neurons, hidden_neurons)\n",
        "        self.act1 = nn.ReLU()\n",
        "   # best dropout после первого слоя\n",
        "        self.fc2 = nn.Linear(hidden_neurons, output_neurons)\n",
        "        self.act2 = nn.ReLU()\n",
        "# best dropout после второго слоя\n",
        "\n",
        "        nn.init.xavier_uniform_(self.fc1.weight)\n",
        "        nn.init.constant_(self.fc1.bias, 0)\n",
        "        nn.init.xavier_uniform_(self.fc2.weight)\n",
        "        nn.init.constant_(self.fc2.bias, 0)\n",
        "\n",
        "    def forward(self, x):\n",
        "        x = self.fc1(x)\n",
        "        x = self.act1(x)\n",
        "  #  Dropout после первого слоя\n",
        "\n",
        "        x = self.fc2(x)\n",
        "        x = self.act2(x)\n",
        "  #  Dropout после второго слоя\n",
        "\n",
        "        return x"
      ],
      "metadata": {
        "id": "rrBok2Ov4QBu"
      },
      "execution_count": null,
      "outputs": []
    },
    {
      "cell_type": "code",
      "source": [
        "batch_size = best_batch_size\n",
        "\n",
        "num_batches = ceil(len(X_train)/batch_size)\n",
        "\n",
        "model = BestModel(input_neurons,\n",
        "                  hidden_neurons,\n",
        "                  output_neurons)\n",
        "\n",
        "optimizer = torch.optim.Adam(model.parameters(), lr=0.01)\n",
        "\n",
        "for epoch in range(num_epochs):\n",
        "\torder = np.random.permutation(len(X_train))\n",
        "\n",
        "\tfor batch_idx in range(num_batches):\n",
        "\t\tstart_index = batch_idx * batch_size\n",
        "\t\toptimizer.zero_grad()\n",
        "\n",
        "\t\tbatch_indexes = order[start_index:start_index+batch_size]\n",
        "\t\tX_batch = X_train[batch_indexes]\n",
        "\t\ty_batch = y_train[batch_indexes]\n",
        "\n",
        "\t\tpreds = model.forward(X_batch).flatten()\n",
        "\n",
        "\t\tloss_value = loss(preds, y_batch)\n",
        "\n",
        "\t\tloss_value.backward()\n",
        "\n",
        "\t\toptimizer.step()\n",
        "\n",
        "\tif epoch % 1000 == 0 or epoch == num_epochs - 1:\n",
        "\t\tmodel.eval()\n",
        "\t\ttest_preds = model.forward(X_test)\n",
        "\t\ttest_loss = loss(test_outputs, y_test)\n",
        "\n",
        "\t\tprint(f'Test loss {test_loss.item()}')"
      ],
      "metadata": {
        "id": "QfHQt2qj4QD5"
      },
      "execution_count": null,
      "outputs": []
    },
    {
      "cell_type": "code",
      "source": [
        "model.eval()  # оценка\n",
        "with torch.no_grad():\n",
        "    test_outputs = model(X_test)\n",
        "    test_loss = loss(test_outputs, y_test)"
      ],
      "metadata": {
        "id": "9Zkdqfyk4QGY"
      },
      "execution_count": null,
      "outputs": []
    },
    {
      "cell_type": "code",
      "source": [
        "y_test.size()"
      ],
      "metadata": {
        "id": "OmH5uV1i5SPt"
      },
      "execution_count": null,
      "outputs": []
    },
    {
      "cell_type": "code",
      "source": [
        "plot(y_test, test_outputs, 'BestModel')"
      ],
      "metadata": {
        "id": "p_gB_TMK5K_n"
      },
      "execution_count": null,
      "outputs": []
    },
    {
      "cell_type": "markdown",
      "source": [
        "## Вывод"
      ],
      "metadata": {
        "id": "EzS2eH7TxaE7"
      }
    },
    {
      "cell_type": "code",
      "source": [],
      "metadata": {
        "id": "te6oM7c9xb59"
      },
      "execution_count": null,
      "outputs": []
    }
  ]
}