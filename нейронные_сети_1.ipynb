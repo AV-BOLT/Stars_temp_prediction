{
  "nbformat": 4,
  "nbformat_minor": 0,
  "metadata": {
    "colab": {
      "provenance": [],
      "toc_visible": true,
      "mount_file_id": "1abbcXNhpNnyVazrDEZYDYeFLe_U42j_S",
      "authorship_tag": "ABX9TyOwijS/RUYTmKDZaUVqbFgW",
      "include_colab_link": true
    },
    "kernelspec": {
      "name": "python3",
      "display_name": "Python 3"
    },
    "language_info": {
      "name": "python"
    }
  },
  "cells": [
    {
      "cell_type": "markdown",
      "metadata": {
        "id": "view-in-github",
        "colab_type": "text"
      },
      "source": [
        "<a href=\"https://colab.research.google.com/github/AV-BOLT/Stars_temp_prediction/blob/master/%D0%BD%D0%B5%D0%B9%D1%80%D0%BE%D0%BD%D0%BD%D1%8B%D0%B5_%D1%81%D0%B5%D1%82%D0%B8_1.ipynb\" target=\"_parent\"><img src=\"https://colab.research.google.com/assets/colab-badge.svg\" alt=\"Open In Colab\"/></a>"
      ]
    },
    {
      "cell_type": "markdown",
      "source": [
        "# Прогнозирование температуры звезды"
      ],
      "metadata": {
        "id": "fFvQqQ8-PfPB"
      }
    },
    {
      "cell_type": "markdown",
      "source": [
        "Целевой признак - Temperature (K)"
      ],
      "metadata": {
        "id": "-ECx77jSPkKn"
      }
    },
    {
      "cell_type": "markdown",
      "source": [
        "## Загрузка данных и библиотек"
      ],
      "metadata": {
        "id": "U-JMnwGlDpxi"
      }
    },
    {
      "cell_type": "code",
      "source": [
        "import pandas as pd\n",
        "import re\n",
        "import torch.nn as nn\n",
        "import torch\n",
        "import numpy as np\n",
        "import random\n",
        "import seaborn as sns\n",
        "import matplotlib.pyplot as plt\n",
        "\n",
        "from math import ceil\n",
        "from sklearn.preprocessing import StandardScaler\n",
        "from sklearn.model_selection import train_test_split\n",
        "from sklearn.compose import ColumnTransformer\n",
        "from sklearn.feature_extraction.text import CountVectorizer\n",
        "from sklearn.preprocessing import OneHotEncoder"
      ],
      "metadata": {
        "id": "zE9Uk2hFDDcP"
      },
      "execution_count": 1,
      "outputs": []
    },
    {
      "cell_type": "code",
      "source": [],
      "metadata": {
        "id": "wVtJ2BJ2PDRT"
      },
      "execution_count": 1,
      "outputs": []
    },
    {
      "cell_type": "code",
      "source": [
        "data = pd.read_csv('/content/drive/MyDrive/Projects_YP/нейронные сети 1 проект/6_class.csv')\n",
        "data.head()"
      ],
      "metadata": {
        "colab": {
          "base_uri": "https://localhost:8080/",
          "height": 244
        },
        "id": "45G1MEBsDGI5",
        "outputId": "59a0abde-5d67-400a-9511-cc18e33180d6"
      },
      "execution_count": 2,
      "outputs": [
        {
          "output_type": "execute_result",
          "data": {
            "text/plain": [
              "   Unnamed: 0  Temperature (K)  Luminosity(L/Lo)  Radius(R/Ro)  \\\n",
              "0           0             3068          0.002400        0.1700   \n",
              "1           1             3042          0.000500        0.1542   \n",
              "2           2             2600          0.000300        0.1020   \n",
              "3           3             2800          0.000200        0.1600   \n",
              "4           4             1939          0.000138        0.1030   \n",
              "\n",
              "   Absolute magnitude(Mv)  Star type Star color  \n",
              "0                   16.12          0        Red  \n",
              "1                   16.60          0        Red  \n",
              "2                   18.70          0        Red  \n",
              "3                   16.65          0        Red  \n",
              "4                   20.06          0        Red  "
            ],
            "text/html": [
              "\n",
              "  <div id=\"df-7c866032-0c2a-4158-a365-1f0b07f57e98\" class=\"colab-df-container\">\n",
              "    <div>\n",
              "<style scoped>\n",
              "    .dataframe tbody tr th:only-of-type {\n",
              "        vertical-align: middle;\n",
              "    }\n",
              "\n",
              "    .dataframe tbody tr th {\n",
              "        vertical-align: top;\n",
              "    }\n",
              "\n",
              "    .dataframe thead th {\n",
              "        text-align: right;\n",
              "    }\n",
              "</style>\n",
              "<table border=\"1\" class=\"dataframe\">\n",
              "  <thead>\n",
              "    <tr style=\"text-align: right;\">\n",
              "      <th></th>\n",
              "      <th>Unnamed: 0</th>\n",
              "      <th>Temperature (K)</th>\n",
              "      <th>Luminosity(L/Lo)</th>\n",
              "      <th>Radius(R/Ro)</th>\n",
              "      <th>Absolute magnitude(Mv)</th>\n",
              "      <th>Star type</th>\n",
              "      <th>Star color</th>\n",
              "    </tr>\n",
              "  </thead>\n",
              "  <tbody>\n",
              "    <tr>\n",
              "      <th>0</th>\n",
              "      <td>0</td>\n",
              "      <td>3068</td>\n",
              "      <td>0.002400</td>\n",
              "      <td>0.1700</td>\n",
              "      <td>16.12</td>\n",
              "      <td>0</td>\n",
              "      <td>Red</td>\n",
              "    </tr>\n",
              "    <tr>\n",
              "      <th>1</th>\n",
              "      <td>1</td>\n",
              "      <td>3042</td>\n",
              "      <td>0.000500</td>\n",
              "      <td>0.1542</td>\n",
              "      <td>16.60</td>\n",
              "      <td>0</td>\n",
              "      <td>Red</td>\n",
              "    </tr>\n",
              "    <tr>\n",
              "      <th>2</th>\n",
              "      <td>2</td>\n",
              "      <td>2600</td>\n",
              "      <td>0.000300</td>\n",
              "      <td>0.1020</td>\n",
              "      <td>18.70</td>\n",
              "      <td>0</td>\n",
              "      <td>Red</td>\n",
              "    </tr>\n",
              "    <tr>\n",
              "      <th>3</th>\n",
              "      <td>3</td>\n",
              "      <td>2800</td>\n",
              "      <td>0.000200</td>\n",
              "      <td>0.1600</td>\n",
              "      <td>16.65</td>\n",
              "      <td>0</td>\n",
              "      <td>Red</td>\n",
              "    </tr>\n",
              "    <tr>\n",
              "      <th>4</th>\n",
              "      <td>4</td>\n",
              "      <td>1939</td>\n",
              "      <td>0.000138</td>\n",
              "      <td>0.1030</td>\n",
              "      <td>20.06</td>\n",
              "      <td>0</td>\n",
              "      <td>Red</td>\n",
              "    </tr>\n",
              "  </tbody>\n",
              "</table>\n",
              "</div>\n",
              "    <div class=\"colab-df-buttons\">\n",
              "\n",
              "  <div class=\"colab-df-container\">\n",
              "    <button class=\"colab-df-convert\" onclick=\"convertToInteractive('df-7c866032-0c2a-4158-a365-1f0b07f57e98')\"\n",
              "            title=\"Convert this dataframe to an interactive table.\"\n",
              "            style=\"display:none;\">\n",
              "\n",
              "  <svg xmlns=\"http://www.w3.org/2000/svg\" height=\"24px\" viewBox=\"0 -960 960 960\">\n",
              "    <path d=\"M120-120v-720h720v720H120Zm60-500h600v-160H180v160Zm220 220h160v-160H400v160Zm0 220h160v-160H400v160ZM180-400h160v-160H180v160Zm440 0h160v-160H620v160ZM180-180h160v-160H180v160Zm440 0h160v-160H620v160Z\"/>\n",
              "  </svg>\n",
              "    </button>\n",
              "\n",
              "  <style>\n",
              "    .colab-df-container {\n",
              "      display:flex;\n",
              "      gap: 12px;\n",
              "    }\n",
              "\n",
              "    .colab-df-convert {\n",
              "      background-color: #E8F0FE;\n",
              "      border: none;\n",
              "      border-radius: 50%;\n",
              "      cursor: pointer;\n",
              "      display: none;\n",
              "      fill: #1967D2;\n",
              "      height: 32px;\n",
              "      padding: 0 0 0 0;\n",
              "      width: 32px;\n",
              "    }\n",
              "\n",
              "    .colab-df-convert:hover {\n",
              "      background-color: #E2EBFA;\n",
              "      box-shadow: 0px 1px 2px rgba(60, 64, 67, 0.3), 0px 1px 3px 1px rgba(60, 64, 67, 0.15);\n",
              "      fill: #174EA6;\n",
              "    }\n",
              "\n",
              "    .colab-df-buttons div {\n",
              "      margin-bottom: 4px;\n",
              "    }\n",
              "\n",
              "    [theme=dark] .colab-df-convert {\n",
              "      background-color: #3B4455;\n",
              "      fill: #D2E3FC;\n",
              "    }\n",
              "\n",
              "    [theme=dark] .colab-df-convert:hover {\n",
              "      background-color: #434B5C;\n",
              "      box-shadow: 0px 1px 3px 1px rgba(0, 0, 0, 0.15);\n",
              "      filter: drop-shadow(0px 1px 2px rgba(0, 0, 0, 0.3));\n",
              "      fill: #FFFFFF;\n",
              "    }\n",
              "  </style>\n",
              "\n",
              "    <script>\n",
              "      const buttonEl =\n",
              "        document.querySelector('#df-7c866032-0c2a-4158-a365-1f0b07f57e98 button.colab-df-convert');\n",
              "      buttonEl.style.display =\n",
              "        google.colab.kernel.accessAllowed ? 'block' : 'none';\n",
              "\n",
              "      async function convertToInteractive(key) {\n",
              "        const element = document.querySelector('#df-7c866032-0c2a-4158-a365-1f0b07f57e98');\n",
              "        const dataTable =\n",
              "          await google.colab.kernel.invokeFunction('convertToInteractive',\n",
              "                                                    [key], {});\n",
              "        if (!dataTable) return;\n",
              "\n",
              "        const docLinkHtml = 'Like what you see? Visit the ' +\n",
              "          '<a target=\"_blank\" href=https://colab.research.google.com/notebooks/data_table.ipynb>data table notebook</a>'\n",
              "          + ' to learn more about interactive tables.';\n",
              "        element.innerHTML = '';\n",
              "        dataTable['output_type'] = 'display_data';\n",
              "        await google.colab.output.renderOutput(dataTable, element);\n",
              "        const docLink = document.createElement('div');\n",
              "        docLink.innerHTML = docLinkHtml;\n",
              "        element.appendChild(docLink);\n",
              "      }\n",
              "    </script>\n",
              "  </div>\n",
              "\n",
              "\n",
              "<div id=\"df-926acd9c-ffb5-41c0-97d5-16e4f7939f86\">\n",
              "  <button class=\"colab-df-quickchart\" onclick=\"quickchart('df-926acd9c-ffb5-41c0-97d5-16e4f7939f86')\"\n",
              "            title=\"Suggest charts.\"\n",
              "            style=\"display:none;\">\n",
              "\n",
              "<svg xmlns=\"http://www.w3.org/2000/svg\" height=\"24px\"viewBox=\"0 0 24 24\"\n",
              "     width=\"24px\">\n",
              "    <g>\n",
              "        <path d=\"M19 3H5c-1.1 0-2 .9-2 2v14c0 1.1.9 2 2 2h14c1.1 0 2-.9 2-2V5c0-1.1-.9-2-2-2zM9 17H7v-7h2v7zm4 0h-2V7h2v10zm4 0h-2v-4h2v4z\"/>\n",
              "    </g>\n",
              "</svg>\n",
              "  </button>\n",
              "\n",
              "<style>\n",
              "  .colab-df-quickchart {\n",
              "      --bg-color: #E8F0FE;\n",
              "      --fill-color: #1967D2;\n",
              "      --hover-bg-color: #E2EBFA;\n",
              "      --hover-fill-color: #174EA6;\n",
              "      --disabled-fill-color: #AAA;\n",
              "      --disabled-bg-color: #DDD;\n",
              "  }\n",
              "\n",
              "  [theme=dark] .colab-df-quickchart {\n",
              "      --bg-color: #3B4455;\n",
              "      --fill-color: #D2E3FC;\n",
              "      --hover-bg-color: #434B5C;\n",
              "      --hover-fill-color: #FFFFFF;\n",
              "      --disabled-bg-color: #3B4455;\n",
              "      --disabled-fill-color: #666;\n",
              "  }\n",
              "\n",
              "  .colab-df-quickchart {\n",
              "    background-color: var(--bg-color);\n",
              "    border: none;\n",
              "    border-radius: 50%;\n",
              "    cursor: pointer;\n",
              "    display: none;\n",
              "    fill: var(--fill-color);\n",
              "    height: 32px;\n",
              "    padding: 0;\n",
              "    width: 32px;\n",
              "  }\n",
              "\n",
              "  .colab-df-quickchart:hover {\n",
              "    background-color: var(--hover-bg-color);\n",
              "    box-shadow: 0 1px 2px rgba(60, 64, 67, 0.3), 0 1px 3px 1px rgba(60, 64, 67, 0.15);\n",
              "    fill: var(--button-hover-fill-color);\n",
              "  }\n",
              "\n",
              "  .colab-df-quickchart-complete:disabled,\n",
              "  .colab-df-quickchart-complete:disabled:hover {\n",
              "    background-color: var(--disabled-bg-color);\n",
              "    fill: var(--disabled-fill-color);\n",
              "    box-shadow: none;\n",
              "  }\n",
              "\n",
              "  .colab-df-spinner {\n",
              "    border: 2px solid var(--fill-color);\n",
              "    border-color: transparent;\n",
              "    border-bottom-color: var(--fill-color);\n",
              "    animation:\n",
              "      spin 1s steps(1) infinite;\n",
              "  }\n",
              "\n",
              "  @keyframes spin {\n",
              "    0% {\n",
              "      border-color: transparent;\n",
              "      border-bottom-color: var(--fill-color);\n",
              "      border-left-color: var(--fill-color);\n",
              "    }\n",
              "    20% {\n",
              "      border-color: transparent;\n",
              "      border-left-color: var(--fill-color);\n",
              "      border-top-color: var(--fill-color);\n",
              "    }\n",
              "    30% {\n",
              "      border-color: transparent;\n",
              "      border-left-color: var(--fill-color);\n",
              "      border-top-color: var(--fill-color);\n",
              "      border-right-color: var(--fill-color);\n",
              "    }\n",
              "    40% {\n",
              "      border-color: transparent;\n",
              "      border-right-color: var(--fill-color);\n",
              "      border-top-color: var(--fill-color);\n",
              "    }\n",
              "    60% {\n",
              "      border-color: transparent;\n",
              "      border-right-color: var(--fill-color);\n",
              "    }\n",
              "    80% {\n",
              "      border-color: transparent;\n",
              "      border-right-color: var(--fill-color);\n",
              "      border-bottom-color: var(--fill-color);\n",
              "    }\n",
              "    90% {\n",
              "      border-color: transparent;\n",
              "      border-bottom-color: var(--fill-color);\n",
              "    }\n",
              "  }\n",
              "</style>\n",
              "\n",
              "  <script>\n",
              "    async function quickchart(key) {\n",
              "      const quickchartButtonEl =\n",
              "        document.querySelector('#' + key + ' button');\n",
              "      quickchartButtonEl.disabled = true;  // To prevent multiple clicks.\n",
              "      quickchartButtonEl.classList.add('colab-df-spinner');\n",
              "      try {\n",
              "        const charts = await google.colab.kernel.invokeFunction(\n",
              "            'suggestCharts', [key], {});\n",
              "      } catch (error) {\n",
              "        console.error('Error during call to suggestCharts:', error);\n",
              "      }\n",
              "      quickchartButtonEl.classList.remove('colab-df-spinner');\n",
              "      quickchartButtonEl.classList.add('colab-df-quickchart-complete');\n",
              "    }\n",
              "    (() => {\n",
              "      let quickchartButtonEl =\n",
              "        document.querySelector('#df-926acd9c-ffb5-41c0-97d5-16e4f7939f86 button');\n",
              "      quickchartButtonEl.style.display =\n",
              "        google.colab.kernel.accessAllowed ? 'block' : 'none';\n",
              "    })();\n",
              "  </script>\n",
              "</div>\n",
              "    </div>\n",
              "  </div>\n"
            ]
          },
          "metadata": {},
          "execution_count": 2
        }
      ]
    },
    {
      "cell_type": "code",
      "source": [
        "data.columns"
      ],
      "metadata": {
        "colab": {
          "base_uri": "https://localhost:8080/"
        },
        "id": "0kifZshaet_M",
        "outputId": "28b1368d-fba7-4495-da1f-4e205710defc"
      },
      "execution_count": 3,
      "outputs": [
        {
          "output_type": "execute_result",
          "data": {
            "text/plain": [
              "Index(['Unnamed: 0', 'Temperature (K)', 'Luminosity(L/Lo)', 'Radius(R/Ro)',\n",
              "       'Absolute magnitude(Mv)', 'Star type', 'Star color'],\n",
              "      dtype='object')"
            ]
          },
          "metadata": {},
          "execution_count": 3
        }
      ]
    },
    {
      "cell_type": "code",
      "source": [
        "data = data.drop('Unnamed: 0', axis = 1)\n",
        "data.columns"
      ],
      "metadata": {
        "colab": {
          "base_uri": "https://localhost:8080/"
        },
        "id": "veBGlqleRbAb",
        "outputId": "5d156923-8139-46c9-fadd-c42746878d83"
      },
      "execution_count": 4,
      "outputs": [
        {
          "output_type": "execute_result",
          "data": {
            "text/plain": [
              "Index(['Temperature (K)', 'Luminosity(L/Lo)', 'Radius(R/Ro)',\n",
              "       'Absolute magnitude(Mv)', 'Star type', 'Star color'],\n",
              "      dtype='object')"
            ]
          },
          "metadata": {},
          "execution_count": 4
        }
      ]
    },
    {
      "cell_type": "code",
      "source": [
        "RANDOM_STATE = 42"
      ],
      "metadata": {
        "id": "03WQJNGreZCd"
      },
      "execution_count": 5,
      "outputs": []
    },
    {
      "cell_type": "code",
      "source": [
        "# Зададим константу для воспроизводимости результатов\n",
        "torch.manual_seed(RANDOM_STATE)"
      ],
      "metadata": {
        "colab": {
          "base_uri": "https://localhost:8080/"
        },
        "id": "gFVKus-fdRd8",
        "outputId": "1b204d72-5a83-426f-95d1-b8116a0b5b05"
      },
      "execution_count": 6,
      "outputs": [
        {
          "output_type": "execute_result",
          "data": {
            "text/plain": [
              "<torch._C.Generator at 0x79609cc8ced0>"
            ]
          },
          "metadata": {},
          "execution_count": 6
        }
      ]
    },
    {
      "cell_type": "code",
      "source": [
        "np.random.seed(RANDOM_STATE)"
      ],
      "metadata": {
        "id": "7Kq-nBnPqtFx"
      },
      "execution_count": 7,
      "outputs": []
    },
    {
      "cell_type": "code",
      "source": [
        "# переименуем признаки\n",
        "data.columns = ['temperature',\n",
        "                'luminosity',\n",
        "                'radius',\n",
        "                'magnitude',\n",
        "                'star_type',\n",
        "                'star_color']"
      ],
      "metadata": {
        "id": "dtRfHWeg5eQg"
      },
      "execution_count": 8,
      "outputs": []
    },
    {
      "cell_type": "code",
      "source": [
        "data.columns"
      ],
      "metadata": {
        "colab": {
          "base_uri": "https://localhost:8080/"
        },
        "id": "AKqIiAiB5jxG",
        "outputId": "7bba844e-a25a-4c5f-dd4c-78ee1525c2b7"
      },
      "execution_count": 9,
      "outputs": [
        {
          "output_type": "execute_result",
          "data": {
            "text/plain": [
              "Index(['temperature', 'luminosity', 'radius', 'magnitude', 'star_type',\n",
              "       'star_color'],\n",
              "      dtype='object')"
            ]
          },
          "metadata": {},
          "execution_count": 9
        }
      ]
    },
    {
      "cell_type": "markdown",
      "source": [
        "## Исследовательский анализ"
      ],
      "metadata": {
        "id": "5Rw6sLvFFQlq"
      }
    },
    {
      "cell_type": "markdown",
      "source": [
        "Проверим данные на типы данных и пропущенные значения."
      ],
      "metadata": {
        "id": "jZw8hd02FbJP"
      }
    },
    {
      "cell_type": "code",
      "source": [
        "data.shape"
      ],
      "metadata": {
        "colab": {
          "base_uri": "https://localhost:8080/"
        },
        "id": "jg6X_UUZb1_y",
        "outputId": "9b004ff1-9bf9-4859-b120-8b6e79aabdba"
      },
      "execution_count": 10,
      "outputs": [
        {
          "output_type": "execute_result",
          "data": {
            "text/plain": [
              "(240, 6)"
            ]
          },
          "metadata": {},
          "execution_count": 10
        }
      ]
    },
    {
      "cell_type": "code",
      "source": [
        "data.info()"
      ],
      "metadata": {
        "colab": {
          "base_uri": "https://localhost:8080/"
        },
        "id": "dQyimagjFPxN",
        "outputId": "be0438d1-8f93-4911-db27-eb8b30689826"
      },
      "execution_count": 11,
      "outputs": [
        {
          "output_type": "stream",
          "name": "stdout",
          "text": [
            "<class 'pandas.core.frame.DataFrame'>\n",
            "RangeIndex: 240 entries, 0 to 239\n",
            "Data columns (total 6 columns):\n",
            " #   Column       Non-Null Count  Dtype  \n",
            "---  ------       --------------  -----  \n",
            " 0   temperature  240 non-null    int64  \n",
            " 1   luminosity   240 non-null    float64\n",
            " 2   radius       240 non-null    float64\n",
            " 3   magnitude    240 non-null    float64\n",
            " 4   star_type    240 non-null    int64  \n",
            " 5   star_color   240 non-null    object \n",
            "dtypes: float64(3), int64(2), object(1)\n",
            "memory usage: 11.4+ KB\n"
          ]
        }
      ]
    },
    {
      "cell_type": "markdown",
      "source": [
        "В данных отсутствуют пропущенные значения.\n",
        "\n",
        "Присутствуют числовые и один признак категориальный.\n",
        "\n",
        "\n"
      ],
      "metadata": {
        "id": "zIRghRkSFkuS"
      }
    },
    {
      "cell_type": "markdown",
      "source": [
        "Проанализируем категориальный признак"
      ],
      "metadata": {
        "id": "v8VL-iJ9Khla"
      }
    },
    {
      "cell_type": "code",
      "source": [
        "categorical = data.select_dtypes(include = 'object').columns.to_list()\n",
        "categorical"
      ],
      "metadata": {
        "colab": {
          "base_uri": "https://localhost:8080/"
        },
        "id": "OQR8ZHNm6Xnx",
        "outputId": "f5b54fea-5014-45d4-9da6-22fb3dd021b4"
      },
      "execution_count": 12,
      "outputs": [
        {
          "output_type": "execute_result",
          "data": {
            "text/plain": [
              "['star_color']"
            ]
          },
          "metadata": {},
          "execution_count": 12
        }
      ]
    },
    {
      "cell_type": "markdown",
      "source": [
        "В признаке имеются неявные дубликаты.\n",
        "Необходимо:\n",
        "- привести к строчному регистру\n",
        "- заменить \"-\" на \"_\"\n",
        "- удалить пробелы"
      ],
      "metadata": {
        "id": "INRH6V4BKl5M"
      }
    },
    {
      "cell_type": "code",
      "source": [
        "def transform_values(df):\n",
        "\n",
        "   #удаляем пробелы в конце строк\n",
        "    df = df.applymap(lambda x: x.rstrip())\n",
        "     # заменяем пробелы на underscore\n",
        "\n",
        "    df = df.applymap(lambda x: x.replace(' ', '_') if isinstance(x, str) else x)\n",
        "\n",
        "    # заменяем дефис на underscore\n",
        "    df = df.applymap(lambda x: x.replace('-', '_') if isinstance(x, str) else x)\n",
        "\n",
        "    # добавляем underscore между словом и числом\n",
        "    df = df.applymap(lambda x: '_'.join(part for part in x.split() if not part.isdigit()) if isinstance(x, str) else x)\n",
        "\n",
        "    # приводим к строчному регистру\n",
        "    df = df.applymap(lambda x: x.lower() if isinstance(x, str) else x)\n",
        "\n",
        "    return df"
      ],
      "metadata": {
        "id": "_Gg1qtFKDQYK"
      },
      "execution_count": 13,
      "outputs": []
    },
    {
      "cell_type": "code",
      "source": [
        "data[categorical] = transform_values(data[categorical])\n",
        "data[categorical]"
      ],
      "metadata": {
        "colab": {
          "base_uri": "https://localhost:8080/",
          "height": 424
        },
        "id": "r6sYrSoQKfQG",
        "outputId": "707ccbd1-0a33-4337-8796-cf1c7f4457ca"
      },
      "execution_count": 14,
      "outputs": [
        {
          "output_type": "execute_result",
          "data": {
            "text/plain": [
              "    star_color\n",
              "0          red\n",
              "1          red\n",
              "2          red\n",
              "3          red\n",
              "4          red\n",
              "..         ...\n",
              "235       blue\n",
              "236       blue\n",
              "237      white\n",
              "238      white\n",
              "239       blue\n",
              "\n",
              "[240 rows x 1 columns]"
            ],
            "text/html": [
              "\n",
              "  <div id=\"df-79f80c3f-f2f8-4e26-9fc8-7dfc8df1ce97\" class=\"colab-df-container\">\n",
              "    <div>\n",
              "<style scoped>\n",
              "    .dataframe tbody tr th:only-of-type {\n",
              "        vertical-align: middle;\n",
              "    }\n",
              "\n",
              "    .dataframe tbody tr th {\n",
              "        vertical-align: top;\n",
              "    }\n",
              "\n",
              "    .dataframe thead th {\n",
              "        text-align: right;\n",
              "    }\n",
              "</style>\n",
              "<table border=\"1\" class=\"dataframe\">\n",
              "  <thead>\n",
              "    <tr style=\"text-align: right;\">\n",
              "      <th></th>\n",
              "      <th>star_color</th>\n",
              "    </tr>\n",
              "  </thead>\n",
              "  <tbody>\n",
              "    <tr>\n",
              "      <th>0</th>\n",
              "      <td>red</td>\n",
              "    </tr>\n",
              "    <tr>\n",
              "      <th>1</th>\n",
              "      <td>red</td>\n",
              "    </tr>\n",
              "    <tr>\n",
              "      <th>2</th>\n",
              "      <td>red</td>\n",
              "    </tr>\n",
              "    <tr>\n",
              "      <th>3</th>\n",
              "      <td>red</td>\n",
              "    </tr>\n",
              "    <tr>\n",
              "      <th>4</th>\n",
              "      <td>red</td>\n",
              "    </tr>\n",
              "    <tr>\n",
              "      <th>...</th>\n",
              "      <td>...</td>\n",
              "    </tr>\n",
              "    <tr>\n",
              "      <th>235</th>\n",
              "      <td>blue</td>\n",
              "    </tr>\n",
              "    <tr>\n",
              "      <th>236</th>\n",
              "      <td>blue</td>\n",
              "    </tr>\n",
              "    <tr>\n",
              "      <th>237</th>\n",
              "      <td>white</td>\n",
              "    </tr>\n",
              "    <tr>\n",
              "      <th>238</th>\n",
              "      <td>white</td>\n",
              "    </tr>\n",
              "    <tr>\n",
              "      <th>239</th>\n",
              "      <td>blue</td>\n",
              "    </tr>\n",
              "  </tbody>\n",
              "</table>\n",
              "<p>240 rows × 1 columns</p>\n",
              "</div>\n",
              "    <div class=\"colab-df-buttons\">\n",
              "\n",
              "  <div class=\"colab-df-container\">\n",
              "    <button class=\"colab-df-convert\" onclick=\"convertToInteractive('df-79f80c3f-f2f8-4e26-9fc8-7dfc8df1ce97')\"\n",
              "            title=\"Convert this dataframe to an interactive table.\"\n",
              "            style=\"display:none;\">\n",
              "\n",
              "  <svg xmlns=\"http://www.w3.org/2000/svg\" height=\"24px\" viewBox=\"0 -960 960 960\">\n",
              "    <path d=\"M120-120v-720h720v720H120Zm60-500h600v-160H180v160Zm220 220h160v-160H400v160Zm0 220h160v-160H400v160ZM180-400h160v-160H180v160Zm440 0h160v-160H620v160ZM180-180h160v-160H180v160Zm440 0h160v-160H620v160Z\"/>\n",
              "  </svg>\n",
              "    </button>\n",
              "\n",
              "  <style>\n",
              "    .colab-df-container {\n",
              "      display:flex;\n",
              "      gap: 12px;\n",
              "    }\n",
              "\n",
              "    .colab-df-convert {\n",
              "      background-color: #E8F0FE;\n",
              "      border: none;\n",
              "      border-radius: 50%;\n",
              "      cursor: pointer;\n",
              "      display: none;\n",
              "      fill: #1967D2;\n",
              "      height: 32px;\n",
              "      padding: 0 0 0 0;\n",
              "      width: 32px;\n",
              "    }\n",
              "\n",
              "    .colab-df-convert:hover {\n",
              "      background-color: #E2EBFA;\n",
              "      box-shadow: 0px 1px 2px rgba(60, 64, 67, 0.3), 0px 1px 3px 1px rgba(60, 64, 67, 0.15);\n",
              "      fill: #174EA6;\n",
              "    }\n",
              "\n",
              "    .colab-df-buttons div {\n",
              "      margin-bottom: 4px;\n",
              "    }\n",
              "\n",
              "    [theme=dark] .colab-df-convert {\n",
              "      background-color: #3B4455;\n",
              "      fill: #D2E3FC;\n",
              "    }\n",
              "\n",
              "    [theme=dark] .colab-df-convert:hover {\n",
              "      background-color: #434B5C;\n",
              "      box-shadow: 0px 1px 3px 1px rgba(0, 0, 0, 0.15);\n",
              "      filter: drop-shadow(0px 1px 2px rgba(0, 0, 0, 0.3));\n",
              "      fill: #FFFFFF;\n",
              "    }\n",
              "  </style>\n",
              "\n",
              "    <script>\n",
              "      const buttonEl =\n",
              "        document.querySelector('#df-79f80c3f-f2f8-4e26-9fc8-7dfc8df1ce97 button.colab-df-convert');\n",
              "      buttonEl.style.display =\n",
              "        google.colab.kernel.accessAllowed ? 'block' : 'none';\n",
              "\n",
              "      async function convertToInteractive(key) {\n",
              "        const element = document.querySelector('#df-79f80c3f-f2f8-4e26-9fc8-7dfc8df1ce97');\n",
              "        const dataTable =\n",
              "          await google.colab.kernel.invokeFunction('convertToInteractive',\n",
              "                                                    [key], {});\n",
              "        if (!dataTable) return;\n",
              "\n",
              "        const docLinkHtml = 'Like what you see? Visit the ' +\n",
              "          '<a target=\"_blank\" href=https://colab.research.google.com/notebooks/data_table.ipynb>data table notebook</a>'\n",
              "          + ' to learn more about interactive tables.';\n",
              "        element.innerHTML = '';\n",
              "        dataTable['output_type'] = 'display_data';\n",
              "        await google.colab.output.renderOutput(dataTable, element);\n",
              "        const docLink = document.createElement('div');\n",
              "        docLink.innerHTML = docLinkHtml;\n",
              "        element.appendChild(docLink);\n",
              "      }\n",
              "    </script>\n",
              "  </div>\n",
              "\n",
              "\n",
              "<div id=\"df-d20d399c-3a99-4f5d-b03a-5a2af4236dc5\">\n",
              "  <button class=\"colab-df-quickchart\" onclick=\"quickchart('df-d20d399c-3a99-4f5d-b03a-5a2af4236dc5')\"\n",
              "            title=\"Suggest charts.\"\n",
              "            style=\"display:none;\">\n",
              "\n",
              "<svg xmlns=\"http://www.w3.org/2000/svg\" height=\"24px\"viewBox=\"0 0 24 24\"\n",
              "     width=\"24px\">\n",
              "    <g>\n",
              "        <path d=\"M19 3H5c-1.1 0-2 .9-2 2v14c0 1.1.9 2 2 2h14c1.1 0 2-.9 2-2V5c0-1.1-.9-2-2-2zM9 17H7v-7h2v7zm4 0h-2V7h2v10zm4 0h-2v-4h2v4z\"/>\n",
              "    </g>\n",
              "</svg>\n",
              "  </button>\n",
              "\n",
              "<style>\n",
              "  .colab-df-quickchart {\n",
              "      --bg-color: #E8F0FE;\n",
              "      --fill-color: #1967D2;\n",
              "      --hover-bg-color: #E2EBFA;\n",
              "      --hover-fill-color: #174EA6;\n",
              "      --disabled-fill-color: #AAA;\n",
              "      --disabled-bg-color: #DDD;\n",
              "  }\n",
              "\n",
              "  [theme=dark] .colab-df-quickchart {\n",
              "      --bg-color: #3B4455;\n",
              "      --fill-color: #D2E3FC;\n",
              "      --hover-bg-color: #434B5C;\n",
              "      --hover-fill-color: #FFFFFF;\n",
              "      --disabled-bg-color: #3B4455;\n",
              "      --disabled-fill-color: #666;\n",
              "  }\n",
              "\n",
              "  .colab-df-quickchart {\n",
              "    background-color: var(--bg-color);\n",
              "    border: none;\n",
              "    border-radius: 50%;\n",
              "    cursor: pointer;\n",
              "    display: none;\n",
              "    fill: var(--fill-color);\n",
              "    height: 32px;\n",
              "    padding: 0;\n",
              "    width: 32px;\n",
              "  }\n",
              "\n",
              "  .colab-df-quickchart:hover {\n",
              "    background-color: var(--hover-bg-color);\n",
              "    box-shadow: 0 1px 2px rgba(60, 64, 67, 0.3), 0 1px 3px 1px rgba(60, 64, 67, 0.15);\n",
              "    fill: var(--button-hover-fill-color);\n",
              "  }\n",
              "\n",
              "  .colab-df-quickchart-complete:disabled,\n",
              "  .colab-df-quickchart-complete:disabled:hover {\n",
              "    background-color: var(--disabled-bg-color);\n",
              "    fill: var(--disabled-fill-color);\n",
              "    box-shadow: none;\n",
              "  }\n",
              "\n",
              "  .colab-df-spinner {\n",
              "    border: 2px solid var(--fill-color);\n",
              "    border-color: transparent;\n",
              "    border-bottom-color: var(--fill-color);\n",
              "    animation:\n",
              "      spin 1s steps(1) infinite;\n",
              "  }\n",
              "\n",
              "  @keyframes spin {\n",
              "    0% {\n",
              "      border-color: transparent;\n",
              "      border-bottom-color: var(--fill-color);\n",
              "      border-left-color: var(--fill-color);\n",
              "    }\n",
              "    20% {\n",
              "      border-color: transparent;\n",
              "      border-left-color: var(--fill-color);\n",
              "      border-top-color: var(--fill-color);\n",
              "    }\n",
              "    30% {\n",
              "      border-color: transparent;\n",
              "      border-left-color: var(--fill-color);\n",
              "      border-top-color: var(--fill-color);\n",
              "      border-right-color: var(--fill-color);\n",
              "    }\n",
              "    40% {\n",
              "      border-color: transparent;\n",
              "      border-right-color: var(--fill-color);\n",
              "      border-top-color: var(--fill-color);\n",
              "    }\n",
              "    60% {\n",
              "      border-color: transparent;\n",
              "      border-right-color: var(--fill-color);\n",
              "    }\n",
              "    80% {\n",
              "      border-color: transparent;\n",
              "      border-right-color: var(--fill-color);\n",
              "      border-bottom-color: var(--fill-color);\n",
              "    }\n",
              "    90% {\n",
              "      border-color: transparent;\n",
              "      border-bottom-color: var(--fill-color);\n",
              "    }\n",
              "  }\n",
              "</style>\n",
              "\n",
              "  <script>\n",
              "    async function quickchart(key) {\n",
              "      const quickchartButtonEl =\n",
              "        document.querySelector('#' + key + ' button');\n",
              "      quickchartButtonEl.disabled = true;  // To prevent multiple clicks.\n",
              "      quickchartButtonEl.classList.add('colab-df-spinner');\n",
              "      try {\n",
              "        const charts = await google.colab.kernel.invokeFunction(\n",
              "            'suggestCharts', [key], {});\n",
              "      } catch (error) {\n",
              "        console.error('Error during call to suggestCharts:', error);\n",
              "      }\n",
              "      quickchartButtonEl.classList.remove('colab-df-spinner');\n",
              "      quickchartButtonEl.classList.add('colab-df-quickchart-complete');\n",
              "    }\n",
              "    (() => {\n",
              "      let quickchartButtonEl =\n",
              "        document.querySelector('#df-d20d399c-3a99-4f5d-b03a-5a2af4236dc5 button');\n",
              "      quickchartButtonEl.style.display =\n",
              "        google.colab.kernel.accessAllowed ? 'block' : 'none';\n",
              "    })();\n",
              "  </script>\n",
              "</div>\n",
              "    </div>\n",
              "  </div>\n"
            ]
          },
          "metadata": {},
          "execution_count": 14
        }
      ]
    },
    {
      "cell_type": "code",
      "source": [
        "list(data['star_color'].sort_values().unique())"
      ],
      "metadata": {
        "colab": {
          "base_uri": "https://localhost:8080/"
        },
        "id": "dSoL5GUkR46L",
        "outputId": "c7fa2a7a-be5d-4f07-a123-ed5590a43005"
      },
      "execution_count": 15,
      "outputs": [
        {
          "output_type": "execute_result",
          "data": {
            "text/plain": [
              "['blue',\n",
              " 'blue_white',\n",
              " 'orange',\n",
              " 'orange_red',\n",
              " 'pale_yellow_orange',\n",
              " 'red',\n",
              " 'white',\n",
              " 'white_yellow',\n",
              " 'whitish',\n",
              " 'yellow_white',\n",
              " 'yellowish',\n",
              " 'yellowish_white']"
            ]
          },
          "metadata": {},
          "execution_count": 15
        }
      ]
    },
    {
      "cell_type": "markdown",
      "source": [
        "Дубликаты удалены."
      ],
      "metadata": {
        "id": "XQW98j6wbJmZ"
      }
    },
    {
      "cell_type": "code",
      "source": [
        "data['star_color'].unique()"
      ],
      "metadata": {
        "colab": {
          "base_uri": "https://localhost:8080/"
        },
        "id": "Xm3zG_j1Uhnw",
        "outputId": "8223069e-ac37-469d-a1f5-b0983086dfe6"
      },
      "execution_count": 16,
      "outputs": [
        {
          "output_type": "execute_result",
          "data": {
            "text/plain": [
              "array(['red', 'blue_white', 'white', 'yellowish_white',\n",
              "       'pale_yellow_orange', 'blue', 'whitish', 'yellow_white', 'orange',\n",
              "       'white_yellow', 'yellowish', 'orange_red'], dtype=object)"
            ]
          },
          "metadata": {},
          "execution_count": 16
        }
      ]
    },
    {
      "cell_type": "code",
      "source": [
        "data.dtypes"
      ],
      "metadata": {
        "colab": {
          "base_uri": "https://localhost:8080/"
        },
        "id": "NLevGGV7R5Dj",
        "outputId": "a633aa23-eeef-4404-b63c-43c7ff1986c0"
      },
      "execution_count": 17,
      "outputs": [
        {
          "output_type": "execute_result",
          "data": {
            "text/plain": [
              "temperature      int64\n",
              "luminosity     float64\n",
              "radius         float64\n",
              "magnitude      float64\n",
              "star_type        int64\n",
              "star_color      object\n",
              "dtype: object"
            ]
          },
          "metadata": {},
          "execution_count": 17
        }
      ]
    },
    {
      "cell_type": "code",
      "source": [
        "data[['star_type','star_color' ]].value_counts(normalize = True)"
      ],
      "metadata": {
        "colab": {
          "base_uri": "https://localhost:8080/"
        },
        "id": "4Xnua66aPwKC",
        "outputId": "144f09df-af8b-4292-9236-0aef17fdda1d"
      },
      "execution_count": 18,
      "outputs": [
        {
          "output_type": "execute_result",
          "data": {
            "text/plain": [
              "star_type  star_color        \n",
              "0          red                   0.166667\n",
              "1          red                   0.166667\n",
              "4          blue                  0.129167\n",
              "5          red                   0.095833\n",
              "3          blue_white            0.087500\n",
              "2          blue_white            0.058333\n",
              "           blue                  0.054167\n",
              "4          red                   0.037500\n",
              "2          white                 0.033333\n",
              "3          yellow_white          0.033333\n",
              "5          blue                  0.029167\n",
              "           blue_white            0.025000\n",
              "3          blue                  0.020833\n",
              "2          yellowish_white       0.012500\n",
              "3          yellowish             0.012500\n",
              "5          orange                0.008333\n",
              "           white                 0.008333\n",
              "3          whitish               0.008333\n",
              "2          white_yellow          0.004167\n",
              "           pale_yellow_orange    0.004167\n",
              "3          orange_red            0.004167\n",
              "dtype: float64"
            ]
          },
          "metadata": {},
          "execution_count": 18
        }
      ]
    },
    {
      "cell_type": "markdown",
      "source": [
        "## Анализ числовых признаков"
      ],
      "metadata": {
        "id": "c4WgOsD8bUtj"
      }
    },
    {
      "cell_type": "code",
      "source": [
        "numerical = data.select_dtypes(include = ('int', 'float', 'bool')).columns.to_list()"
      ],
      "metadata": {
        "id": "b21BjUHqVXot"
      },
      "execution_count": 19,
      "outputs": []
    },
    {
      "cell_type": "code",
      "source": [
        "numerical =['luminosity', 'radius', 'magnitude', 'star_type']"
      ],
      "metadata": {
        "id": "uTcAJxLYZtJk"
      },
      "execution_count": 20,
      "outputs": []
    },
    {
      "cell_type": "markdown",
      "source": [],
      "metadata": {
        "id": "Oi7egBLoeP7k"
      }
    },
    {
      "cell_type": "code",
      "source": [
        "data[numerical].hist(layout = (4,3),\n",
        "                     figsize=(15, 10));\n"
      ],
      "metadata": {
        "colab": {
          "base_uri": "https://localhost:8080/",
          "height": 237
        },
        "id": "to5DqlxGbrnl",
        "outputId": "794887e0-46aa-4e7a-9615-857bbbc53381"
      },
      "execution_count": 21,
      "outputs": [
        {
          "output_type": "display_data",
          "data": {
            "text/plain": [
              "<Figure size 1500x1000 with 12 Axes>"
            ],
            "image/png": "[encoded data removed]"
          },
          "metadata": {}
        }
      ]
    },
    {
      "cell_type": "markdown",
      "source": [
        "Видим, что числовые значения имеют разный порядок, значит необходимо будет перед обучением подготовить признаки."
      ],
      "metadata": {
        "id": "BtXmCUrXh7Fc"
      }
    },
    {
      "cell_type": "markdown",
      "source": [
        "##Подготовка данных для модели"
      ],
      "metadata": {
        "id": "GErvN0WjyxfT"
      }
    },
    {
      "cell_type": "code",
      "source": [
        "result = []"
      ],
      "metadata": {
        "id": "DoTLq1th5JeP"
      },
      "execution_count": 22,
      "outputs": []
    },
    {
      "cell_type": "code",
      "source": [
        "# функция для построения графика для результатов\n",
        "def plot (y_test, test_outputs, name):\n",
        "\n",
        "    #name это (название модели)\n",
        "\n",
        "    fact_values = y_test.numpy().flatten()\n",
        "    forecast_values = test_outputs.numpy().flatten()\n",
        "\n",
        "    # в тестовом датасете 48 звезд, но дальше их может быть больше\n",
        "    # поэтому ограничим\n",
        "    indexes = test[y].index[:48]\n",
        "\n",
        "    plt.figure(figsize=(8, 4))\n",
        "    sns.set_style('ticks', {'axes.grid': True})\n",
        "\n",
        "    # Создание столбчатой диаграммы для фактических значений\n",
        "    fact_plot = sns.barplot(x = indexes,\n",
        "                            y = fact_values,\n",
        "                            color='blue',\n",
        "                            alpha=0.9,\n",
        "                            label='Факт')\n",
        "\n",
        "    # Создание столбчатой диаграммы для прогнозов\n",
        "    forecast_plot = sns.barplot(x=indexes,\n",
        "                                y = forecast_values,\n",
        "                                color='yellow',\n",
        "                                alpha=0.7,\n",
        "                                label='Прогноз')\n",
        "\n",
        "    # Установка ширины столбцов и их позиции\n",
        "    bar_width = 0.6\n",
        "\n",
        "    for bar in fact_plot.patches + forecast_plot.patches:\n",
        "        bar.set_width(bar_width)\n",
        "        x = bar.get_x()\n",
        "        bar.set_x(x + bar_width / 2)\n",
        "\n",
        "    # Установка подписей осей и заголовка\n",
        "    plt.xlabel('Номер звезды в таблице данных', fontweight='bold')\n",
        "\n",
        "    plt.ylabel('Температура звезды', fontweight='bold')\n",
        "\n",
        "    plt.title(f'{name}')\n",
        "\n",
        "    plt.xticks(rotation=85)\n",
        "\n",
        "    plt.yscale('log') # чтобы на графике можно\n",
        "                       # было увидеть значения разных порядков\n",
        "\n",
        "    # Создание и настройка легенды\n",
        "    handles, labels = plt.gca().get_legend_handles_labels()\n",
        "\n",
        "    handles.reverse()\n",
        "    labels.reverse()\n",
        "    plt.legend(handles,\n",
        "               labels,\n",
        "               bbox_to_anchor=(0.5, -0.25),\n",
        "               loc='upper center',\n",
        "               ncol=2)\n",
        "\n",
        "    return plt.show()"
      ],
      "metadata": {
        "id": "qvDeilyxMXuH"
      },
      "execution_count": 23,
      "outputs": []
    },
    {
      "cell_type": "code",
      "source": [
        "X = data.drop('temperature', axis = 1).columns.to_list()\n",
        "y = 'temperature'"
      ],
      "metadata": {
        "id": "CGblOVti5XJQ"
      },
      "execution_count": 24,
      "outputs": []
    },
    {
      "cell_type": "markdown",
      "source": [
        "### baseline_model"
      ],
      "metadata": {
        "id": "kQnGpjuJ3uCe"
      }
    },
    {
      "cell_type": "markdown",
      "source": [
        "В качестве baseline модели будем использовать нейронную сеть следующей архитектуры:\n",
        "\n",
        "|  Название параметра |кол-во|  \n",
        "|---------------|-|\n",
        "|Входной слой  (нейронов)|3|\n",
        "|Скрытые слои   |2|\n",
        "|Выходной слой  (нейронов)|1|\n",
        "|Функция активации\n",
        "в выходном слое |nn.ReLU() |"
      ],
      "metadata": {
        "id": "3UOaASX-36xB"
      }
    },
    {
      "cell_type": "code",
      "source": [
        "# неизменяемые параметры сети для всех моделей\n",
        "\n",
        "hidden_neurons = 300\n",
        "\n",
        "output_neurons = 1\n",
        "\n",
        "loss = nn.MSELoss()\n",
        "\n",
        "num_epochs = 10000"
      ],
      "metadata": {
        "id": "r8FNoAXkWxvJ"
      },
      "execution_count": 27,
      "outputs": []
    },
    {
      "cell_type": "code",
      "source": [
        "class BaselineModel(nn.Module):\n",
        "    def __init__(self, input_neurons, hidden_neurons, output_neurons):\n",
        "        super(BaselineModel, self).__init__()\n",
        "        self.fc1 = nn.Linear(input_neurons, hidden_neurons)\n",
        "        self.act1 = nn.ReLU()\n",
        "        self.fc2 = nn.Linear(hidden_neurons, output_neurons)\n",
        "        self.act2 = nn.ReLU()\n",
        "\n",
        "        nn.init.xavier_uniform_(self.fc1.weight)\n",
        "        nn.init.constant_(self.fc1.bias, 0)\n",
        "        nn.init.xavier_uniform_(self.fc2.weight)\n",
        "        nn.init.constant_(self.fc2.bias, 0)\n",
        "\n",
        "    def forward(self, x):\n",
        "        x = self.fc1(x)\n",
        "        x = self.act1(x)\n",
        "        x = self.fc2(x)\n",
        "        x = self.act2(x)\n",
        "        return x\n"
      ],
      "metadata": {
        "id": "IdZHTsEfXaCV"
      },
      "execution_count": 32,
      "outputs": []
    },
    {
      "cell_type": "code",
      "source": [
        "#подготовим признаки для обучения\n",
        "train, valid = train_test_split(data,\n",
        "                                    test_size=0.4,\n",
        "                                    shuffle=True,\n",
        "                                    random_state=RANDOM_STATE)\n",
        "\n",
        "valid, test = train_test_split(valid,\n",
        "                               test_size=0.5,\n",
        "                               shuffle=True,\n",
        "                               random_state=RANDOM_STATE)\n",
        "\n",
        "print('Размер обучающей выборки',train.shape)\n",
        "print( )\n",
        "print('Размер валидационной выборки', valid.shape)\n",
        "print( )\n",
        "print('Размер тестовой выборки', test.shape)"
      ],
      "metadata": {
        "colab": {
          "base_uri": "https://localhost:8080/"
        },
        "id": "GPwnwThvGOPG",
        "outputId": "2ab108f0-e34f-4de3-a462-4384c509cb5a"
      },
      "execution_count": 29,
      "outputs": [
        {
          "output_type": "stream",
          "name": "stdout",
          "text": [
            "Размер обучающей выборки (144, 6)\n",
            "\n",
            "Размер валидационной выборки (48, 6)\n",
            "\n",
            "Размер тестовой выборки (48, 6)\n"
          ]
        }
      ]
    },
    {
      "cell_type": "code",
      "source": [
        "column_transformer = ColumnTransformer(transformers=[\n",
        "        ('encoder', OneHotEncoder(handle_unknown='ignore'), categorical),\n",
        "        ('scale', StandardScaler(), numerical)])\n",
        "\n",
        "X_train = torch.Tensor(column_transformer.fit_transform(train[X]))\n",
        "X_valid = torch.Tensor(column_transformer.transform(valid[X]))\n",
        "X_test = torch.Tensor(column_transformer.transform(test[X]))\n",
        "\n",
        "y_train = torch.Tensor(train[y].values).reshape(-1, 1)\n",
        "y_valid = torch.Tensor(valid[y].values).reshape(-1, 1)\n",
        "y_test = torch.Tensor(test[y].values).reshape(-1, 1)\n",
        "\n",
        "print('Oбучающие признаки', X_train.size())\n",
        "print()\n",
        "print('Валидационные признаки', X_valid.size())\n",
        "print()\n",
        "print('Тестовые признаки', X_test.size())"
      ],
      "metadata": {
        "colab": {
          "base_uri": "https://localhost:8080/"
        },
        "id": "nL5CbOLnII5V",
        "outputId": "a6669784-2594-4c6f-c8bd-a66339aa18ce"
      },
      "execution_count": 30,
      "outputs": [
        {
          "output_type": "stream",
          "name": "stdout",
          "text": [
            "Oбучающие признаки torch.Size([144, 14])\n",
            "\n",
            "Валидационные признаки torch.Size([48, 14])\n",
            "\n",
            "Тестовые признаки torch.Size([48, 14])\n"
          ]
        }
      ]
    },
    {
      "cell_type": "code",
      "source": [
        "input_neurons = X_train.shape[1]\n",
        "\n",
        "model = BaselineModel(input_neurons,\n",
        "                        hidden_neurons,\n",
        "                        output_neurons)\n",
        "\n",
        "optimizer = torch.optim.Adam(model.parameters(), lr=0.01)\n",
        "\n",
        "for epoch in range(num_epochs):\n",
        "\n",
        "        outputs = model(X_train)\n",
        "\n",
        "        loss_train = loss(outputs, y_train)\n",
        "\n",
        "        optimizer.zero_grad()\n",
        "\n",
        "        loss_train.backward()\n",
        "\n",
        "        optimizer.step()\n",
        "\n",
        "        if (epoch + 1) % 1000 == 0:\n",
        "            print(f'Epoch [{epoch + 1}/{num_epochs}], Loss: {loss_train.item()}')\n"
      ],
      "metadata": {
        "colab": {
          "base_uri": "https://localhost:8080/"
        },
        "id": "s_KqqeHiKrcU",
        "outputId": "7081a8fc-78cf-47d1-bb47-7964027daf17"
      },
      "execution_count": 36,
      "outputs": [
        {
          "output_type": "stream",
          "name": "stdout",
          "text": [
            "Epoch [1000/10000], Loss: 21095176.0\n",
            "Epoch [2000/10000], Loss: 15692969.0\n",
            "Epoch [3000/10000], Loss: 14538000.0\n",
            "Epoch [4000/10000], Loss: 13781857.0\n",
            "Epoch [5000/10000], Loss: 12287582.0\n",
            "Epoch [6000/10000], Loss: 10895905.0\n",
            "Epoch [7000/10000], Loss: 9843865.0\n",
            "Epoch [8000/10000], Loss: 9160992.0\n",
            "Epoch [9000/10000], Loss: 8720546.0\n",
            "Epoch [10000/10000], Loss: 8392220.0\n"
          ]
        }
      ]
    },
    {
      "cell_type": "code",
      "source": [
        "model.eval()  # Перевести модель в режим оценки\n",
        "with torch.no_grad():\n",
        "    test_outputs = model(X_test)\n",
        "    rmse_baseline = np.sqrt(loss(test_outputs, y_test))\n",
        "print(f'Baseline Loss: {rmse_baseline}')"
      ],
      "metadata": {
        "colab": {
          "base_uri": "https://localhost:8080/"
        },
        "id": "-vPfusRvbMjM",
        "outputId": "cec88301-4b18-4582-a569-e55f04ed3460"
      },
      "execution_count": 37,
      "outputs": [
        {
          "output_type": "stream",
          "name": "stdout",
          "text": [
            "Baseline Loss: 7392.83154296875\n"
          ]
        }
      ]
    },
    {
      "cell_type": "code",
      "source": [
        "result.append(['rmse_baseline', rmse_baseline])\n",
        "result"
      ],
      "metadata": {
        "id": "veo1nx03SyHh",
        "colab": {
          "base_uri": "https://localhost:8080/"
        },
        "outputId": "8763c966-34bb-4d77-cbac-fb4a6b6d00be"
      },
      "execution_count": 38,
      "outputs": [
        {
          "output_type": "execute_result",
          "data": {
            "text/plain": [
              "[['rmse_baseline', tensor(7392.8315)]]"
            ]
          },
          "metadata": {},
          "execution_count": 38
        }
      ]
    },
    {
      "cell_type": "code",
      "source": [
        "# строим график для визуализации предсказаний baseline модели\n",
        "plot(y_test, test_outputs, 'Baseline')"
      ],
      "metadata": {
        "id": "ffyD0qQkN5Uv",
        "colab": {
          "base_uri": "https://localhost:8080/",
          "height": 431
        },
        "outputId": "576b9b97-ede8-417a-f913-2d9a9aadef43"
      },
      "execution_count": 39,
      "outputs": [
        {
          "output_type": "display_data",
          "data": {
            "text/plain": [
              "<Figure size 800x400 with 1 Axes>"
            ],
            "image/png": "[encoded data removed]"
          },
          "metadata": {}
        }
      ]
    },
    {
      "cell_type": "markdown",
      "source": [
        "## Улучшение модели"
      ],
      "metadata": {
        "id": "E1UwL3LWsvtE"
      }
    },
    {
      "cell_type": "markdown",
      "source": [
        "В задании к проекту нам дано обязательное требование\n",
        "создать решение с перебором параметров нейросети:\n",
        "- dropout\n",
        "- размер батча.\n",
        "\n",
        "\n",
        "Следующим этапом я проведу эксперимент с данными:\n",
        "1.  создам синтетические данные и, обучив на них, получим предсказание на test выборке исходного датасета.\n",
        "2. аугментирую исходный датасет (добавлю шум к числовым признакам) и, обучив на них, получим предсказание на test выборке исходного датасета.\n",
        "\n",
        "\n"
      ],
      "metadata": {
        "id": "VZZB2ODYPoYB"
      }
    },
    {
      "cell_type": "markdown",
      "source": [
        "### Dropout"
      ],
      "metadata": {
        "id": "KEZUcD6Kt35-"
      }
    },
    {
      "cell_type": "code",
      "source": [
        "class DropoutModel(nn.Module):\n",
        "    def __init__(self, input_neurons, hidden_neurons, output_neurons):\n",
        "        super(DropoutModel, self).__init__()\n",
        "\n",
        "        self.fc1 = nn.Linear(input_neurons, hidden_neurons)\n",
        "        self.act1 = nn.ReLU()\n",
        "        self.dropout1 = nn.Dropout(p=0.5) # 50% dropout после первого слоя\n",
        "        self.fc2 = nn.Linear(hidden_neurons, output_neurons)\n",
        "        self.act2 = nn.ReLU()\n",
        "        self.dropout2 = nn.Dropout(p=0.5) # 50% dropout после второго слоя\n",
        "\n",
        "        nn.init.xavier_uniform_(self.fc1.weight)\n",
        "        nn.init.constant_(self.fc1.bias, 0)\n",
        "        nn.init.xavier_uniform_(self.fc2.weight)\n",
        "        nn.init.constant_(self.fc2.bias, 0)\n",
        "\n",
        "    def forward(self, x):\n",
        "        x = self.fc1(x)\n",
        "        x = self.act1(x)\n",
        "        x = self.dropout1(x)  #  Dropout после первого слоя\n",
        "        x = self.fc2(x)\n",
        "        x = self.act2(x)\n",
        "        x = self.dropout2(x)  #  Dropout после второго слоя\n",
        "\n",
        "        return x"
      ],
      "metadata": {
        "id": "rrfGjzsyT8tj"
      },
      "execution_count": 40,
      "outputs": []
    },
    {
      "cell_type": "code",
      "source": [
        "model = DropoutModel(input_neurons,\n",
        "                        hidden_neurons,\n",
        "                        output_neurons)\n",
        "\n",
        "optimizer = torch.optim.Adam(model.parameters(), lr=0.01)\n",
        "\n",
        "for epoch in range(num_epochs):\n",
        "\n",
        "        outputs = model(X_train)\n",
        "\n",
        "        loss_train = loss(outputs, y_train)\n",
        "\n",
        "        optimizer.zero_grad()\n",
        "\n",
        "        loss_train.backward()\n",
        "\n",
        "        optimizer.step()\n",
        "\n",
        "        if (epoch + 1) % 1000 == 0:\n",
        "\n",
        "            print(f'Epoch [{epoch + 1}/{num_epochs}], Loss: {loss_train.item()}')\n"
      ],
      "metadata": {
        "colab": {
          "base_uri": "https://localhost:8080/"
        },
        "id": "B7Rh26PVUXSA",
        "outputId": "524de243-d0a0-4f55-a0e8-053700e74de9"
      },
      "execution_count": 42,
      "outputs": [
        {
          "output_type": "stream",
          "name": "stdout",
          "text": [
            "Epoch [1000/10000], Loss: 95735752.0\n",
            "Epoch [2000/10000], Loss: 109357608.0\n",
            "Epoch [3000/10000], Loss: 70501032.0\n",
            "Epoch [4000/10000], Loss: 106643152.0\n",
            "Epoch [5000/10000], Loss: 94354312.0\n",
            "Epoch [6000/10000], Loss: 111140552.0\n",
            "Epoch [7000/10000], Loss: 120358144.0\n",
            "Epoch [8000/10000], Loss: 102239480.0\n",
            "Epoch [9000/10000], Loss: 115443680.0\n",
            "Epoch [10000/10000], Loss: 101702168.0\n"
          ]
        }
      ]
    },
    {
      "cell_type": "code",
      "source": [
        "model.eval()  # оценка\n",
        "with torch.no_grad():\n",
        "    test_outputs = model(X_test)\n",
        "    test_loss = loss(test_outputs, y_test)"
      ],
      "metadata": {
        "id": "lGz6-INmUXbx"
      },
      "execution_count": 43,
      "outputs": []
    },
    {
      "cell_type": "code",
      "source": [
        "rmse_dropout = np.sqrt(test_loss.item())\n",
        "result.append(['rmse_dropout', rmse_dropout])\n",
        "result"
      ],
      "metadata": {
        "colab": {
          "base_uri": "https://localhost:8080/"
        },
        "id": "5EaM37w6VVAm",
        "outputId": "fa16d010-d385-4ed0-f2c0-c7e21216cdfb"
      },
      "execution_count": 44,
      "outputs": [
        {
          "output_type": "execute_result",
          "data": {
            "text/plain": [
              "[['rmse_baseline', tensor(7392.8315)], ['rmse_dropout', 9483.592568220125]]"
            ]
          },
          "metadata": {},
          "execution_count": 44
        }
      ]
    },
    {
      "cell_type": "code",
      "source": [
        "plot(y_test, test_outputs, 'Dropout')"
      ],
      "metadata": {
        "colab": {
          "base_uri": "https://localhost:8080/",
          "height": 431
        },
        "id": "dKjMDRFcVabf",
        "outputId": "cbd49045-1e4e-4c26-ceca-00368bec883c"
      },
      "execution_count": 45,
      "outputs": [
        {
          "output_type": "display_data",
          "data": {
            "text/plain": [
              "<Figure size 800x400 with 1 Axes>"
            ],
            "image/png": "[encoded data removed]"
          },
          "metadata": {}
        }
      ]
    },
    {
      "cell_type": "markdown",
      "source": [
        "#### Подбор параметра Dropout"
      ],
      "metadata": {
        "id": "px8t5HcFWb6i"
      }
    },
    {
      "cell_type": "code",
      "source": [
        "DropoutBestModel"
      ],
      "metadata": {
        "id": "irfYVhI9jgdO"
      },
      "execution_count": null,
      "outputs": []
    },
    {
      "cell_type": "code",
      "source": [
        "model = DropoutBestModel(input_neurons,\n",
        "                        hidden_neurons,\n",
        "                        output_neurons)\n",
        "\n",
        "for epoch in range(num_epochs):\n",
        "\n",
        "        outputs = model(X_train)\n",
        "\n",
        "        loss_train = loss(outputs, y_train)\n",
        "\n",
        "        optimizer.zero_grad()\n",
        "\n",
        "        loss_train.backward()\n",
        "\n",
        "        optimizer.step()\n",
        "\n",
        "        if (epoch + 1) % 1000 == 0:\n",
        "            print(f'Epoch [{epoch + 1}/{num_epochs}], Loss: {loss_train.item()}')\n"
      ],
      "metadata": {
        "id": "yXrZW_3vWjQk"
      },
      "execution_count": null,
      "outputs": []
    },
    {
      "cell_type": "code",
      "source": [
        "model.eval()  # оценка\n",
        "with torch.no_grad():\n",
        "    test_outputs = model(X_test)\n",
        "    test_loss = loss(test_outputs, y_test)"
      ],
      "metadata": {
        "id": "q4eqX7HJXGuZ"
      },
      "execution_count": null,
      "outputs": []
    },
    {
      "cell_type": "code",
      "source": [
        "rmse_best_dropout = np.sqrt(test_loss.item())\n",
        "result.append(['rmse_dropout', rmse_dropout])\n",
        "result"
      ],
      "metadata": {
        "id": "QS9HvWS4XG08"
      },
      "execution_count": null,
      "outputs": []
    },
    {
      "cell_type": "code",
      "source": [
        "plot(y_test, test_outputs, 'Dropout')"
      ],
      "metadata": {
        "id": "JTDrZ813XG4n"
      },
      "execution_count": null,
      "outputs": []
    },
    {
      "cell_type": "code",
      "source": [],
      "metadata": {
        "id": "oypj5V2EXG61"
      },
      "execution_count": null,
      "outputs": []
    },
    {
      "cell_type": "markdown",
      "source": [
        "#### BatchNorm"
      ],
      "metadata": {
        "id": "iVKan1LVURHA"
      }
    },
    {
      "cell_type": "code",
      "source": [
        "class BatchNormModel(nn.Module):\n",
        "    def __init__(self, input_neurons, hidden_neurons, output_neurons):\n",
        "        super(BatchNormModel, self).__init__()\n",
        "        self.fc1 = nn.Linear(input_neurons, hidden_neurons)\n",
        "        self.bn1 = nn.BatchNorm1d(hidden_neurons)  # BatchNorm1d 1 слоя\n",
        "        self.act1 = nn.ReLU()\n",
        "        self.fc2 = nn.Linear(hidden_neurons, output_neurons)\n",
        "        self.bn2 = nn.BatchNorm1d(output_neurons)  # BatchNorm1d 2 слоя\n",
        "        self.act2 = nn.ReLU()\n",
        "\n",
        "        nn.init.xavier_uniform_(self.fc1.weight)\n",
        "        nn.init.constant_(self.fc1.bias, 0)\n",
        "        nn.init.xavier_uniform_(self.fc2.weight)\n",
        "        nn.init.constant_(self.fc2.bias, 0)\n",
        "\n",
        "    def forward(self, x):\n",
        "        x = self.fc1(x)\n",
        "        x = self.bn1(x)  # BatchNorm после  слоя\n",
        "        x = self.act1(x)\n",
        "        x = self.fc2(x)\n",
        "        x = self.bn2(x)  # BatchNorm после второго слоя\n",
        "        x = self.act2(x)\n",
        "        return x\n"
      ],
      "metadata": {
        "id": "NI25N3n30iwi"
      },
      "execution_count": 46,
      "outputs": []
    },
    {
      "cell_type": "code",
      "source": [
        "model = BatchNormModel(input_neurons,\n",
        "                        hidden_neurons,\n",
        "                        output_neurons)\n",
        "\n",
        "optimizer = torch.optim.Adam(model.parameters(), lr=0.01)\n",
        "\n",
        "for epoch in range(num_epochs):\n",
        "\n",
        "        outputs = model(X_train)\n",
        "\n",
        "        loss_train = loss(outputs, y_train)\n",
        "\n",
        "        optimizer.zero_grad()\n",
        "\n",
        "        loss_train.backward()\n",
        "\n",
        "        optimizer.step()\n",
        "\n",
        "        if (epoch + 1) % 1000 == 0:\n",
        "            print(f'Epoch [{epoch + 1}/{num_epochs}], Loss: {loss_train.item()}')\n"
      ],
      "metadata": {
        "colab": {
          "base_uri": "https://localhost:8080/"
        },
        "id": "L75rG5gGXBoH",
        "outputId": "baa0640f-fcdc-4c7a-924b-e719f3435dbf"
      },
      "execution_count": 47,
      "outputs": [
        {
          "output_type": "stream",
          "name": "stdout",
          "text": [
            "Epoch [1000/10000], Loss: 195542464.0\n",
            "Epoch [2000/10000], Loss: 195148912.0\n",
            "Epoch [3000/10000], Loss: 194754944.0\n",
            "Epoch [4000/10000], Loss: 194358928.0\n",
            "Epoch [5000/10000], Loss: 193965568.0\n",
            "Epoch [6000/10000], Loss: 193571104.0\n",
            "Epoch [7000/10000], Loss: 193180224.0\n",
            "Epoch [8000/10000], Loss: 192783568.0\n",
            "Epoch [9000/10000], Loss: 192392128.0\n",
            "Epoch [10000/10000], Loss: 191999664.0\n"
          ]
        }
      ]
    },
    {
      "cell_type": "code",
      "source": [
        "model.eval()  # оценка\n",
        "with torch.no_grad():\n",
        "    test_outputs = model(X_test)\n",
        "    test_loss = loss(test_outputs, y_test)"
      ],
      "metadata": {
        "id": "1AKsJiHNXCMM"
      },
      "execution_count": 48,
      "outputs": []
    },
    {
      "cell_type": "code",
      "source": [
        "rmse_batchnorm = np.sqrt(test_loss.item())\n",
        "result.append(['rmse_batchnorm', rmse_batchnorm])\n",
        "result"
      ],
      "metadata": {
        "colab": {
          "base_uri": "https://localhost:8080/"
        },
        "id": "ds8-07LeXZKG",
        "outputId": "a96c775d-c2ac-47e0-c52c-5710a5e6aea3"
      },
      "execution_count": 49,
      "outputs": [
        {
          "output_type": "execute_result",
          "data": {
            "text/plain": [
              "[['rmse_baseline', tensor(7392.8315)],\n",
              " ['rmse_dropout', 9483.592568220125],\n",
              " ['rmse_batchnorm', 15578.189368472833]]"
            ]
          },
          "metadata": {},
          "execution_count": 49
        }
      ]
    },
    {
      "cell_type": "code",
      "source": [
        "plot(y_test, test_outputs, 'Batchnorm')"
      ],
      "metadata": {
        "colab": {
          "base_uri": "https://localhost:8080/",
          "height": 431
        },
        "id": "MuEiPO8bXBqr",
        "outputId": "166fc610-ca64-431f-f28e-69ee008645f0"
      },
      "execution_count": 50,
      "outputs": [
        {
          "output_type": "display_data",
          "data": {
            "text/plain": [
              "<Figure size 800x400 with 1 Axes>"
            ],
            "image/png": "[encoded data removed]"
          },
          "metadata": {}
        }
      ]
    },
    {
      "cell_type": "code",
      "source": [],
      "metadata": {
        "id": "P43nWOiXXBtX"
      },
      "execution_count": null,
      "outputs": []
    },
    {
      "cell_type": "markdown",
      "source": [
        "### Аугментация данных"
      ],
      "metadata": {
        "id": "828uuFSLBi4s"
      }
    },
    {
      "cell_type": "markdown",
      "source": [
        "Метрику мы будем сравнивать на baseline модели, предсказывая по test выборке исходного датасета."
      ],
      "metadata": {
        "id": "VPdX8CUOizX9"
      }
    },
    {
      "cell_type": "markdown",
      "source": [
        "###Синтетическая Генерация Данных"
      ],
      "metadata": {
        "id": "4RBTjDNOp2Wi"
      }
    },
    {
      "cell_type": "markdown",
      "source": [
        "Ниже приведена таблица с диапазонами характеристик для каждой звезды, мы будем создавать новые данные используя эту таблицу."
      ],
      "metadata": {
        "id": "Ym1jAD67p_iB"
      }
    },
    {
      "cell_type": "markdown",
      "source": [
        "| Температура (K) | Светимость (L/Lo) | Радиус (R/Ro) | Абсолютная звёздная величина (Mv) | Тип звезды | Цвет звезды |\n",
        "|-----------------|-------------------|---------------|------------------------------------|------------|-------------|\n",
        "| ~2,000 K        | 0.00001% - 0.1%   | 0.1 - 0.7     | Высокая отрицательная              | M (красные карлики) | Красные, оранжевые |\n",
        "| ~3,500 K        | 1% - 10%           | 0.7 - 1.0     | Низкая отрицательная               | K | Оранжевые, красные |\n",
        "| Очень высокая  | Очень низкая       | Сравним с Землёй | Высокая отрицательная | Белые карлики | Белые |\n",
        "| ~5,500 K        | 100%               | 1.0           | 4.83                               | G (похожие на Солнце) | Желтые |\n",
        "| ~10,000 K - несколько десятков тысяч K | >100 - несколько тысяч | >1 - несколько сотен | Низкая отрицательная | Горячие звёзды | Голубые, белые |\n",
        "| ~2,000 K - 1,000 K (обычно ниже) | Очень низкая - очень очень низкая | 0.01 - 0.1 (примерно) | Высокая отрицательная | Коричневые карлики | Коричневые |\n",
        "| Разнообразная  | Очень высокая - низкая | Разнообразный | Разнообразная | Гиганты (разных классов) | Разноцветные |\n",
        "| Разнообразная  | Очень высокая - низкая | Разнообразный | Разнообразная | Сверхгиганты | Разноцветные |\n",
        "| ~5,500 K        | Около 100%         | Около 1.0     | 4.83 | Звёзды главной последовательности | Желтые |\n"
      ],
      "metadata": {
        "id": "D2jmPvlHRDV-"
      }
    },
    {
      "cell_type": "code",
      "source": [
        "data['star_color'].value_counts(normalize = True)"
      ],
      "metadata": {
        "id": "MmXeDxFqGqrz",
        "colab": {
          "base_uri": "https://localhost:8080/"
        },
        "outputId": "3c533ea3-33d4-42c1-9b91-276400c4cb67"
      },
      "execution_count": 200,
      "outputs": [
        {
          "output_type": "execute_result",
          "data": {
            "text/plain": [
              "red                   0.466667\n",
              "blue                  0.233333\n",
              "blue_white            0.170833\n",
              "white                 0.041667\n",
              "yellow_white          0.033333\n",
              "yellowish_white       0.012500\n",
              "yellowish             0.012500\n",
              "whitish               0.008333\n",
              "orange                0.008333\n",
              "pale_yellow_orange    0.004167\n",
              "white_yellow          0.004167\n",
              "orange_red            0.004167\n",
              "Name: star_color, dtype: float64"
            ]
          },
          "metadata": {},
          "execution_count": 200
        }
      ]
    },
    {
      "cell_type": "code",
      "source": [
        "100*0.45+100*0.008+100*0.041+100*0.008+100*0.17+100*0.35"
      ],
      "metadata": {
        "colab": {
          "base_uri": "https://localhost:8080/"
        },
        "id": "fRQ_2RCmqrft",
        "outputId": "0f4c0381-2168-489b-9e65-1210c4470831"
      },
      "execution_count": 93,
      "outputs": [
        {
          "output_type": "execute_result",
          "data": {
            "text/plain": [
              "80.0"
            ]
          },
          "metadata": {},
          "execution_count": 93
        }
      ]
    },
    {
      "cell_type": "code",
      "source": [
        "красных оранжевых белых"
      ],
      "metadata": {
        "id": "traFmwisrVqG"
      },
      "execution_count": null,
      "outputs": []
    },
    {
      "cell_type": "code",
      "source": [
        "synthetic_data = []\n",
        "\n",
        "n_samples = 200  # Общее количество сэмплов\n",
        "\n",
        "# Генерация данных для красных карликов (M-тип)\n",
        "n_samples_m = int(n_samples * 0.45)\n",
        "temperature_m = np.random.uniform(2000, 3500, n_samples_m)\n",
        "luminosity_m = np.random.uniform(0.00001, 0.1, n_samples_m)\n",
        "radius_m = np.random.uniform(0.1, 0.7, n_samples_m)\n",
        "magnitude_m = np.random.uniform(-11.92, -6.23, n_samples_m)\n",
        "star_type_m = [0] * n_samples_m  # добавляем тип звезды (0-6)\n",
        "star_color_m = ['red'] * n_samples_m\n",
        "\n",
        "# Генерация данных для оранжевых карликов (K-тип)\n",
        "n_samples_k = int(n_samples * 0.151)\n",
        "temperature_k = np.random.uniform(3500, 5500, n_samples_k)\n",
        "luminosity_k = np.random.uniform(0.01, 0.1, n_samples_k)\n",
        "radius_k = np.random.uniform(0.7, 1.0, n_samples_k)\n",
        "magnitude_k = np.random.uniform(-6.23, -2, n_samples_k)\n",
        "star_type_k = [1] * n_samples_k\n",
        "star_color_k = ['orange'] * n_samples_k\n",
        "\n",
        "# Генерация данных для белых карликов (группа \"Очень высокая\")\n",
        "n_samples_wd = int(n_samples * 0.16)\n",
        "temperature_wd = np.random.uniform(5500, 6000, n_samples_wd)\n",
        "luminosity_wd = np.random.uniform(0.99, 1.01, n_samples_wd)\n",
        "radius_wd = np.random.uniform(0.99, 1.01, n_samples_wd)\n",
        "magnitude_wd = np.full(n_samples_wd, 4.83)\n",
        "star_type_wd = [2] * n_samples_wd\n",
        "star_color_wd = ['white'] * n_samples_wd\n",
        "\n",
        "# Генерация данных для звёзд главной последовательности (G-тип)\n",
        "n_samples_g = int(n_samples * 0.09)\n",
        "temperature_g = np.random.uniform(5500, 5700, n_samples_g)\n",
        "luminosity_g = np.random.uniform(0.99, 1.01, n_samples_g)\n",
        "radius_g = np.random.uniform(0.99, 1.01, n_samples_g)\n",
        "magnitude_g = np.full(n_samples_g, 4.83)\n",
        "star_type_g = [3] * n_samples_g\n",
        "star_color_g = ['yellow'] * n_samples_g\n",
        "\n",
        "# Генерация данных для горячих звёзд\n",
        "n_samples_hot = int(n_samples * 0.3)\n",
        "temperature_hot = np.random.uniform(10000, 30000, n_samples_hot)\n",
        "luminosity_hot = np.random.uniform(100, 3000, n_samples_hot)\n",
        "radius_hot = np.random.uniform(10, 100, n_samples_hot)\n",
        "magnitude_hot = np.random.uniform(-11.92, -6.23, n_samples_hot)\n",
        "star_type_hot = [4] * n_samples_hot\n",
        "star_color_hot = ['blue'] * n_samples_hot\n",
        "\n",
        "# Генерация данных для коричневых карликов (L-тип)\n",
        "n_samples_l = int(n_samples * 0.06)\n",
        "temperature_l = np.random.uniform(1000, 2000, n_samples_l)\n",
        "luminosity_l = np.random.uniform(0.00000001, 0.0000001, n_samples_l)\n",
        "radius_l = np.random.uniform(0.01, 0.1, n_samples_l)\n",
        "magnitude_l = np.random.uniform(-11.92, -6.23, n_samples_l)\n",
        "star_type_l = [5] * n_samples_l\n",
        "star_color_l = ['blue_white'] * n_samples_l\n",
        "\n",
        "# создаем новый df\n",
        "synthetic_data = pd.DataFrame({\n",
        "    'temperature': np.concatenate((temperature_m,\n",
        "                                   temperature_k,\n",
        "                                   temperature_wd,\n",
        "                                   temperature_g,\n",
        "                                   temperature_hot,\n",
        "                                   temperature_l)),\n",
        "\n",
        "    'luminosity': np.concatenate((luminosity_m,\n",
        "                                  luminosity_k,\n",
        "                                  luminosity_wd,\n",
        "                                  luminosity_g,\n",
        "                                  luminosity_hot,\n",
        "                                  luminosity_l)),\n",
        "\n",
        "    'radius': np.concatenate((radius_m,\n",
        "                              radius_k,\n",
        "                              radius_wd,\n",
        "                              radius_g,\n",
        "                              radius_hot,\n",
        "                              radius_l)),\n",
        "\n",
        "    'magnitude': np.concatenate((magnitude_m,\n",
        "                                 magnitude_k,\n",
        "                                 magnitude_wd,\n",
        "                                 magnitude_g,\n",
        "                                 magnitude_hot,\n",
        "                                 magnitude_l)),\n",
        "\n",
        "    'star_type': np.concatenate((star_type_m,\n",
        "                                 star_type_k,\n",
        "                                 star_type_wd,\n",
        "                                 star_type_g,\n",
        "                                 star_type_hot,\n",
        "                                 star_type_l)),\n",
        "\n",
        "    'star_color': np.concatenate((star_color_m,\n",
        "                                  star_color_k,\n",
        "                                  star_color_wd,\n",
        "                                  star_color_g,\n",
        "                                  star_color_hot,\n",
        "                                  star_color_l))\n",
        "})\n",
        "\n",
        "# перемешиваем\n",
        "synthetic_data = synthetic_data.sample(frac=1).reset_index(drop=True)"
      ],
      "metadata": {
        "id": "iN8uGL1GxTc5"
      },
      "execution_count": 51,
      "outputs": []
    },
    {
      "cell_type": "code",
      "source": [
        "synthetic_data.info()"
      ],
      "metadata": {
        "id": "jxNWQZPEXzFj",
        "colab": {
          "base_uri": "https://localhost:8080/"
        },
        "outputId": "5b40fc7d-e491-42fc-ac70-983c356a759d"
      },
      "execution_count": 52,
      "outputs": [
        {
          "output_type": "stream",
          "name": "stdout",
          "text": [
            "<class 'pandas.core.frame.DataFrame'>\n",
            "RangeIndex: 202 entries, 0 to 201\n",
            "Data columns (total 6 columns):\n",
            " #   Column       Non-Null Count  Dtype  \n",
            "---  ------       --------------  -----  \n",
            " 0   temperature  202 non-null    float64\n",
            " 1   luminosity   202 non-null    float64\n",
            " 2   radius       202 non-null    float64\n",
            " 3   magnitude    202 non-null    float64\n",
            " 4   star_type    202 non-null    int64  \n",
            " 5   star_color   202 non-null    object \n",
            "dtypes: float64(4), int64(1), object(1)\n",
            "memory usage: 9.6+ KB\n"
          ]
        }
      ]
    },
    {
      "cell_type": "code",
      "source": [
        "synthetic_data.describe()"
      ],
      "metadata": {
        "id": "F6BeVK1Z3jmS",
        "colab": {
          "base_uri": "https://localhost:8080/",
          "height": 300
        },
        "outputId": "f0a92cd1-86fe-4204-de10-ef269722bb0f"
      },
      "execution_count": 53,
      "outputs": [
        {
          "output_type": "execute_result",
          "data": {
            "text/plain": [
              "        temperature    luminosity      radius   magnitude   star_type\n",
              "count    202.000000  2.020000e+02  202.000000  202.000000  202.000000\n",
              "mean    9171.914649  4.783931e+02   14.523800   -5.004608    2.217822\n",
              "std     8746.509710  8.662733e+02   25.024207    6.042506    1.708067\n",
              "min     1124.297223  1.598466e-08    0.030899  -11.825615    0.000000\n",
              "25%     3035.289371  5.428728e-02    0.584566   -9.883873    1.000000\n",
              "50%     5538.757708  9.916761e-01    0.995056   -7.291337    2.000000\n",
              "75%    13191.338546  5.187541e+02   20.837569   -2.116109    4.000000\n",
              "max    29859.295922  2.999181e+03   92.878516    4.830000    5.000000"
            ],
            "text/html": [
              "\n",
              "  <div id=\"df-9b590b93-8122-405c-bf00-841525741807\" class=\"colab-df-container\">\n",
              "    <div>\n",
              "<style scoped>\n",
              "    .dataframe tbody tr th:only-of-type {\n",
              "        vertical-align: middle;\n",
              "    }\n",
              "\n",
              "    .dataframe tbody tr th {\n",
              "        vertical-align: top;\n",
              "    }\n",
              "\n",
              "    .dataframe thead th {\n",
              "        text-align: right;\n",
              "    }\n",
              "</style>\n",
              "<table border=\"1\" class=\"dataframe\">\n",
              "  <thead>\n",
              "    <tr style=\"text-align: right;\">\n",
              "      <th></th>\n",
              "      <th>temperature</th>\n",
              "      <th>luminosity</th>\n",
              "      <th>radius</th>\n",
              "      <th>magnitude</th>\n",
              "      <th>star_type</th>\n",
              "    </tr>\n",
              "  </thead>\n",
              "  <tbody>\n",
              "    <tr>\n",
              "      <th>count</th>\n",
              "      <td>202.000000</td>\n",
              "      <td>2.020000e+02</td>\n",
              "      <td>202.000000</td>\n",
              "      <td>202.000000</td>\n",
              "      <td>202.000000</td>\n",
              "    </tr>\n",
              "    <tr>\n",
              "      <th>mean</th>\n",
              "      <td>9171.914649</td>\n",
              "      <td>4.783931e+02</td>\n",
              "      <td>14.523800</td>\n",
              "      <td>-5.004608</td>\n",
              "      <td>2.217822</td>\n",
              "    </tr>\n",
              "    <tr>\n",
              "      <th>std</th>\n",
              "      <td>8746.509710</td>\n",
              "      <td>8.662733e+02</td>\n",
              "      <td>25.024207</td>\n",
              "      <td>6.042506</td>\n",
              "      <td>1.708067</td>\n",
              "    </tr>\n",
              "    <tr>\n",
              "      <th>min</th>\n",
              "      <td>1124.297223</td>\n",
              "      <td>1.598466e-08</td>\n",
              "      <td>0.030899</td>\n",
              "      <td>-11.825615</td>\n",
              "      <td>0.000000</td>\n",
              "    </tr>\n",
              "    <tr>\n",
              "      <th>25%</th>\n",
              "      <td>3035.289371</td>\n",
              "      <td>5.428728e-02</td>\n",
              "      <td>0.584566</td>\n",
              "      <td>-9.883873</td>\n",
              "      <td>1.000000</td>\n",
              "    </tr>\n",
              "    <tr>\n",
              "      <th>50%</th>\n",
              "      <td>5538.757708</td>\n",
              "      <td>9.916761e-01</td>\n",
              "      <td>0.995056</td>\n",
              "      <td>-7.291337</td>\n",
              "      <td>2.000000</td>\n",
              "    </tr>\n",
              "    <tr>\n",
              "      <th>75%</th>\n",
              "      <td>13191.338546</td>\n",
              "      <td>5.187541e+02</td>\n",
              "      <td>20.837569</td>\n",
              "      <td>-2.116109</td>\n",
              "      <td>4.000000</td>\n",
              "    </tr>\n",
              "    <tr>\n",
              "      <th>max</th>\n",
              "      <td>29859.295922</td>\n",
              "      <td>2.999181e+03</td>\n",
              "      <td>92.878516</td>\n",
              "      <td>4.830000</td>\n",
              "      <td>5.000000</td>\n",
              "    </tr>\n",
              "  </tbody>\n",
              "</table>\n",
              "</div>\n",
              "    <div class=\"colab-df-buttons\">\n",
              "\n",
              "  <div class=\"colab-df-container\">\n",
              "    <button class=\"colab-df-convert\" onclick=\"convertToInteractive('df-9b590b93-8122-405c-bf00-841525741807')\"\n",
              "            title=\"Convert this dataframe to an interactive table.\"\n",
              "            style=\"display:none;\">\n",
              "\n",
              "  <svg xmlns=\"http://www.w3.org/2000/svg\" height=\"24px\" viewBox=\"0 -960 960 960\">\n",
              "    <path d=\"M120-120v-720h720v720H120Zm60-500h600v-160H180v160Zm220 220h160v-160H400v160Zm0 220h160v-160H400v160ZM180-400h160v-160H180v160Zm440 0h160v-160H620v160ZM180-180h160v-160H180v160Zm440 0h160v-160H620v160Z\"/>\n",
              "  </svg>\n",
              "    </button>\n",
              "\n",
              "  <style>\n",
              "    .colab-df-container {\n",
              "      display:flex;\n",
              "      gap: 12px;\n",
              "    }\n",
              "\n",
              "    .colab-df-convert {\n",
              "      background-color: #E8F0FE;\n",
              "      border: none;\n",
              "      border-radius: 50%;\n",
              "      cursor: pointer;\n",
              "      display: none;\n",
              "      fill: #1967D2;\n",
              "      height: 32px;\n",
              "      padding: 0 0 0 0;\n",
              "      width: 32px;\n",
              "    }\n",
              "\n",
              "    .colab-df-convert:hover {\n",
              "      background-color: #E2EBFA;\n",
              "      box-shadow: 0px 1px 2px rgba(60, 64, 67, 0.3), 0px 1px 3px 1px rgba(60, 64, 67, 0.15);\n",
              "      fill: #174EA6;\n",
              "    }\n",
              "\n",
              "    .colab-df-buttons div {\n",
              "      margin-bottom: 4px;\n",
              "    }\n",
              "\n",
              "    [theme=dark] .colab-df-convert {\n",
              "      background-color: #3B4455;\n",
              "      fill: #D2E3FC;\n",
              "    }\n",
              "\n",
              "    [theme=dark] .colab-df-convert:hover {\n",
              "      background-color: #434B5C;\n",
              "      box-shadow: 0px 1px 3px 1px rgba(0, 0, 0, 0.15);\n",
              "      filter: drop-shadow(0px 1px 2px rgba(0, 0, 0, 0.3));\n",
              "      fill: #FFFFFF;\n",
              "    }\n",
              "  </style>\n",
              "\n",
              "    <script>\n",
              "      const buttonEl =\n",
              "        document.querySelector('#df-9b590b93-8122-405c-bf00-841525741807 button.colab-df-convert');\n",
              "      buttonEl.style.display =\n",
              "        google.colab.kernel.accessAllowed ? 'block' : 'none';\n",
              "\n",
              "      async function convertToInteractive(key) {\n",
              "        const element = document.querySelector('#df-9b590b93-8122-405c-bf00-841525741807');\n",
              "        const dataTable =\n",
              "          await google.colab.kernel.invokeFunction('convertToInteractive',\n",
              "                                                    [key], {});\n",
              "        if (!dataTable) return;\n",
              "\n",
              "        const docLinkHtml = 'Like what you see? Visit the ' +\n",
              "          '<a target=\"_blank\" href=https://colab.research.google.com/notebooks/data_table.ipynb>data table notebook</a>'\n",
              "          + ' to learn more about interactive tables.';\n",
              "        element.innerHTML = '';\n",
              "        dataTable['output_type'] = 'display_data';\n",
              "        await google.colab.output.renderOutput(dataTable, element);\n",
              "        const docLink = document.createElement('div');\n",
              "        docLink.innerHTML = docLinkHtml;\n",
              "        element.appendChild(docLink);\n",
              "      }\n",
              "    </script>\n",
              "  </div>\n",
              "\n",
              "\n",
              "<div id=\"df-489aa015-425f-4975-bdd8-4658d9254f25\">\n",
              "  <button class=\"colab-df-quickchart\" onclick=\"quickchart('df-489aa015-425f-4975-bdd8-4658d9254f25')\"\n",
              "            title=\"Suggest charts.\"\n",
              "            style=\"display:none;\">\n",
              "\n",
              "<svg xmlns=\"http://www.w3.org/2000/svg\" height=\"24px\"viewBox=\"0 0 24 24\"\n",
              "     width=\"24px\">\n",
              "    <g>\n",
              "        <path d=\"M19 3H5c-1.1 0-2 .9-2 2v14c0 1.1.9 2 2 2h14c1.1 0 2-.9 2-2V5c0-1.1-.9-2-2-2zM9 17H7v-7h2v7zm4 0h-2V7h2v10zm4 0h-2v-4h2v4z\"/>\n",
              "    </g>\n",
              "</svg>\n",
              "  </button>\n",
              "\n",
              "<style>\n",
              "  .colab-df-quickchart {\n",
              "      --bg-color: #E8F0FE;\n",
              "      --fill-color: #1967D2;\n",
              "      --hover-bg-color: #E2EBFA;\n",
              "      --hover-fill-color: #174EA6;\n",
              "      --disabled-fill-color: #AAA;\n",
              "      --disabled-bg-color: #DDD;\n",
              "  }\n",
              "\n",
              "  [theme=dark] .colab-df-quickchart {\n",
              "      --bg-color: #3B4455;\n",
              "      --fill-color: #D2E3FC;\n",
              "      --hover-bg-color: #434B5C;\n",
              "      --hover-fill-color: #FFFFFF;\n",
              "      --disabled-bg-color: #3B4455;\n",
              "      --disabled-fill-color: #666;\n",
              "  }\n",
              "\n",
              "  .colab-df-quickchart {\n",
              "    background-color: var(--bg-color);\n",
              "    border: none;\n",
              "    border-radius: 50%;\n",
              "    cursor: pointer;\n",
              "    display: none;\n",
              "    fill: var(--fill-color);\n",
              "    height: 32px;\n",
              "    padding: 0;\n",
              "    width: 32px;\n",
              "  }\n",
              "\n",
              "  .colab-df-quickchart:hover {\n",
              "    background-color: var(--hover-bg-color);\n",
              "    box-shadow: 0 1px 2px rgba(60, 64, 67, 0.3), 0 1px 3px 1px rgba(60, 64, 67, 0.15);\n",
              "    fill: var(--button-hover-fill-color);\n",
              "  }\n",
              "\n",
              "  .colab-df-quickchart-complete:disabled,\n",
              "  .colab-df-quickchart-complete:disabled:hover {\n",
              "    background-color: var(--disabled-bg-color);\n",
              "    fill: var(--disabled-fill-color);\n",
              "    box-shadow: none;\n",
              "  }\n",
              "\n",
              "  .colab-df-spinner {\n",
              "    border: 2px solid var(--fill-color);\n",
              "    border-color: transparent;\n",
              "    border-bottom-color: var(--fill-color);\n",
              "    animation:\n",
              "      spin 1s steps(1) infinite;\n",
              "  }\n",
              "\n",
              "  @keyframes spin {\n",
              "    0% {\n",
              "      border-color: transparent;\n",
              "      border-bottom-color: var(--fill-color);\n",
              "      border-left-color: var(--fill-color);\n",
              "    }\n",
              "    20% {\n",
              "      border-color: transparent;\n",
              "      border-left-color: var(--fill-color);\n",
              "      border-top-color: var(--fill-color);\n",
              "    }\n",
              "    30% {\n",
              "      border-color: transparent;\n",
              "      border-left-color: var(--fill-color);\n",
              "      border-top-color: var(--fill-color);\n",
              "      border-right-color: var(--fill-color);\n",
              "    }\n",
              "    40% {\n",
              "      border-color: transparent;\n",
              "      border-right-color: var(--fill-color);\n",
              "      border-top-color: var(--fill-color);\n",
              "    }\n",
              "    60% {\n",
              "      border-color: transparent;\n",
              "      border-right-color: var(--fill-color);\n",
              "    }\n",
              "    80% {\n",
              "      border-color: transparent;\n",
              "      border-right-color: var(--fill-color);\n",
              "      border-bottom-color: var(--fill-color);\n",
              "    }\n",
              "    90% {\n",
              "      border-color: transparent;\n",
              "      border-bottom-color: var(--fill-color);\n",
              "    }\n",
              "  }\n",
              "</style>\n",
              "\n",
              "  <script>\n",
              "    async function quickchart(key) {\n",
              "      const quickchartButtonEl =\n",
              "        document.querySelector('#' + key + ' button');\n",
              "      quickchartButtonEl.disabled = true;  // To prevent multiple clicks.\n",
              "      quickchartButtonEl.classList.add('colab-df-spinner');\n",
              "      try {\n",
              "        const charts = await google.colab.kernel.invokeFunction(\n",
              "            'suggestCharts', [key], {});\n",
              "      } catch (error) {\n",
              "        console.error('Error during call to suggestCharts:', error);\n",
              "      }\n",
              "      quickchartButtonEl.classList.remove('colab-df-spinner');\n",
              "      quickchartButtonEl.classList.add('colab-df-quickchart-complete');\n",
              "    }\n",
              "    (() => {\n",
              "      let quickchartButtonEl =\n",
              "        document.querySelector('#df-489aa015-425f-4975-bdd8-4658d9254f25 button');\n",
              "      quickchartButtonEl.style.display =\n",
              "        google.colab.kernel.accessAllowed ? 'block' : 'none';\n",
              "    })();\n",
              "  </script>\n",
              "</div>\n",
              "    </div>\n",
              "  </div>\n"
            ]
          },
          "metadata": {},
          "execution_count": 53
        }
      ]
    },
    {
      "cell_type": "code",
      "source": [
        "data['star_color'].value_counts(normalize = True)"
      ],
      "metadata": {
        "id": "BIxT85MD3nV0",
        "colab": {
          "base_uri": "https://localhost:8080/"
        },
        "outputId": "14939251-25f3-4de1-8582-c58e8cf50430"
      },
      "execution_count": 54,
      "outputs": [
        {
          "output_type": "execute_result",
          "data": {
            "text/plain": [
              "red                   0.466667\n",
              "blue                  0.233333\n",
              "blue_white            0.170833\n",
              "white                 0.041667\n",
              "yellow_white          0.033333\n",
              "yellowish_white       0.012500\n",
              "yellowish             0.012500\n",
              "whitish               0.008333\n",
              "orange                0.008333\n",
              "pale_yellow_orange    0.004167\n",
              "white_yellow          0.004167\n",
              "orange_red            0.004167\n",
              "Name: star_color, dtype: float64"
            ]
          },
          "metadata": {},
          "execution_count": 54
        }
      ]
    },
    {
      "cell_type": "code",
      "source": [],
      "metadata": {
        "id": "zi5tikBhbg52"
      },
      "execution_count": 54,
      "outputs": []
    },
    {
      "cell_type": "markdown",
      "source": [
        "#### модель на синт данных"
      ],
      "metadata": {
        "id": "IMGugK_lc5Tl"
      }
    },
    {
      "cell_type": "code",
      "source": [
        "test.info()"
      ],
      "metadata": {
        "id": "7KyyGTerAEKc",
        "colab": {
          "base_uri": "https://localhost:8080/"
        },
        "outputId": "8fb25c91-d720-4f04-edf9-663f485ca7ee"
      },
      "execution_count": 55,
      "outputs": [
        {
          "output_type": "stream",
          "name": "stdout",
          "text": [
            "<class 'pandas.core.frame.DataFrame'>\n",
            "Int64Index: 48 entries, 97 to 168\n",
            "Data columns (total 6 columns):\n",
            " #   Column       Non-Null Count  Dtype  \n",
            "---  ------       --------------  -----  \n",
            " 0   temperature  48 non-null     int64  \n",
            " 1   luminosity   48 non-null     float64\n",
            " 2   radius       48 non-null     float64\n",
            " 3   magnitude    48 non-null     float64\n",
            " 4   star_type    48 non-null     int64  \n",
            " 5   star_color   48 non-null     object \n",
            "dtypes: float64(3), int64(2), object(1)\n",
            "memory usage: 2.6+ KB\n"
          ]
        }
      ]
    },
    {
      "cell_type": "code",
      "source": [
        "train, valid = train_test_split(synthetic_data,\n",
        "                                shuffle=True,\n",
        "                                random_state = RANDOM_STATE)\n",
        "\n",
        "print('Размер обучающей выборки',train.shape)\n",
        "\n",
        "test = test\n",
        "\n",
        "print('Размер валидационной выборки', valid.shape)\n",
        "print( )\n",
        "print('Размер тестовой выборки', test.shape)"
      ],
      "metadata": {
        "id": "sIOITV0wc8Ap",
        "colab": {
          "base_uri": "https://localhost:8080/"
        },
        "outputId": "e069baf8-9459-41a3-cdc4-5c0d082f1b77"
      },
      "execution_count": 56,
      "outputs": [
        {
          "output_type": "stream",
          "name": "stdout",
          "text": [
            "Размер обучающей выборки (151, 6)\n",
            "Размер валидационной выборки (51, 6)\n",
            "\n",
            "Размер тестовой выборки (48, 6)\n"
          ]
        }
      ]
    },
    {
      "cell_type": "code",
      "source": [
        "column_transformer = ColumnTransformer(transformers=[\n",
        "    ('encoder', OneHotEncoder(handle_unknown='ignore'), categorical),\n",
        "     ('scale', StandardScaler(), numerical)])\n",
        "\n",
        "X_train = torch.Tensor(column_transformer.fit_transform(train[X]))\n",
        "\n",
        "X_valid = torch.Tensor(column_transformer.transform(valid[X]))\n",
        "X_test = torch.Tensor(column_transformer.transform(test[X]))\n",
        "\n",
        "\n",
        "y_train = torch.Tensor(train[y].values).reshape(-1, 1)\n",
        "y_valid = torch.Tensor(valid[y].values).reshape(-1, 1)\n",
        "y_test = torch.Tensor(test[y].values).reshape(-1, 1)\n",
        "\n",
        "print(X_train.size())\n",
        "print()\n",
        "print(X_valid.size())\n",
        "print()\n",
        "print(X_test.size())\n"
      ],
      "metadata": {
        "id": "WeshPZdofEVl",
        "colab": {
          "base_uri": "https://localhost:8080/"
        },
        "outputId": "25b92580-3bc0-41b6-984f-a08e4bea7f07"
      },
      "execution_count": 57,
      "outputs": [
        {
          "output_type": "stream",
          "name": "stdout",
          "text": [
            "torch.Size([151, 10])\n",
            "\n",
            "torch.Size([51, 10])\n",
            "\n",
            "torch.Size([48, 10])\n"
          ]
        }
      ]
    },
    {
      "cell_type": "code",
      "source": [
        "input_neurons = X_train.shape[1]\n",
        "\n",
        "model = BaselineModel(input_neurons,\n",
        "                      hidden_neurons,\n",
        "                      output_neurons)\n",
        "\n",
        "optimizer = torch.optim.Adam(model.parameters(), lr=0.01)"
      ],
      "metadata": {
        "id": "fwfgKP924o6q"
      },
      "execution_count": 61,
      "outputs": []
    },
    {
      "cell_type": "code",
      "source": [
        "for epoch in range(num_epochs):\n",
        "\n",
        "    outputs = model(X_train)\n",
        "\n",
        "    # Вычисление потерь\n",
        "    loss_train = loss(outputs, y_train)\n",
        "\n",
        "    optimizer.zero_grad()\n",
        "    loss_train.backward()\n",
        "    optimizer.step()\n",
        "\n",
        "    if (epoch + 1) % 1000 == 0:\n",
        "        print(f'Epoch [{epoch + 1}/{num_epochs}], Loss: {loss_train.item()}')\n",
        "\n",
        "model.eval()  # Перевести модель в режим оценки\n",
        "\n",
        "with torch.no_grad():\n",
        "    test_outputs = model(X_test)\n",
        "    test_loss = loss(test_outputs, y_test)\n",
        "\n",
        "print(f'Test Loss: {test_loss.item()}')"
      ],
      "metadata": {
        "id": "uDWsKnsXdMpz",
        "colab": {
          "base_uri": "https://localhost:8080/"
        },
        "outputId": "d2d10273-9d94-4f4a-a9fd-79fc24272126"
      },
      "execution_count": 62,
      "outputs": [
        {
          "output_type": "stream",
          "name": "stdout",
          "text": [
            "Epoch [1000/10000], Loss: 130202792.0\n",
            "Epoch [2000/10000], Loss: 65395576.0\n",
            "Epoch [3000/10000], Loss: 26161014.0\n",
            "Epoch [4000/10000], Loss: 16674874.0\n",
            "Epoch [5000/10000], Loss: 15454523.0\n",
            "Epoch [6000/10000], Loss: 14821112.0\n",
            "Epoch [7000/10000], Loss: 14040103.0\n",
            "Epoch [8000/10000], Loss: 13379233.0\n",
            "Epoch [9000/10000], Loss: 12793808.0\n",
            "Epoch [10000/10000], Loss: 12287446.0\n",
            "Test Loss: 313192972288.0\n"
          ]
        }
      ]
    },
    {
      "cell_type": "code",
      "source": [
        "rmse_synthetic = np.sqrt(test_loss.item())\n",
        "result.append(['rmse_synthetic', rmse_synthetic])\n",
        "result"
      ],
      "metadata": {
        "id": "j5U2ajuRgUq9",
        "colab": {
          "base_uri": "https://localhost:8080/"
        },
        "outputId": "7cdbd818-4658-44f8-e458-90155741b26e"
      },
      "execution_count": 63,
      "outputs": [
        {
          "output_type": "execute_result",
          "data": {
            "text/plain": [
              "[['rmse_baseline', tensor(7392.8315)],\n",
              " ['rmse_dropout', 9483.592568220125],\n",
              " ['rmse_batchnorm', 15578.189368472833],\n",
              " ['rmse_synthetic', 638091.1052193096],\n",
              " ['rmse_synthetic', 559636.4644016685]]"
            ]
          },
          "metadata": {},
          "execution_count": 63
        }
      ]
    },
    {
      "cell_type": "code",
      "source": [
        "plot(y_test, test_outputs, 'Synthetic data')"
      ],
      "metadata": {
        "colab": {
          "base_uri": "https://localhost:8080/",
          "height": 431
        },
        "id": "oXnxyKalZJMK",
        "outputId": "aba05bbd-38a4-4464-dc33-4de3613837ae"
      },
      "execution_count": 64,
      "outputs": [
        {
          "output_type": "display_data",
          "data": {
            "text/plain": [
              "<Figure size 800x400 with 1 Axes>"
            ],
            "image/png": "[encoded data removed]"
          },
          "metadata": {}
        }
      ]
    },
    {
      "cell_type": "markdown",
      "source": [
        "### Аугментация данных на основе исходного датасета"
      ],
      "metadata": {
        "id": "7GAFQ4GQtHzr"
      }
    },
    {
      "cell_type": "code",
      "source": [
        "numerical"
      ],
      "metadata": {
        "id": "pPcrEYzQ73qU",
        "colab": {
          "base_uri": "https://localhost:8080/"
        },
        "outputId": "0a7feb1c-38ce-4f5c-ecaa-711f62dd2227"
      },
      "execution_count": 65,
      "outputs": [
        {
          "output_type": "execute_result",
          "data": {
            "text/plain": [
              "['luminosity', 'radius', 'magnitude', 'star_type']"
            ]
          },
          "metadata": {},
          "execution_count": 65
        }
      ]
    },
    {
      "cell_type": "code",
      "source": [
        "augmented_data = data.copy()\n",
        "\n",
        "# числовые признаки, к которым добавляем шум\n",
        "numeric_features = ['luminosity', 'radius', 'magnitude']\n",
        "\n",
        "# значения шума\n",
        "noise_mean = 0  # Среднее значение шума\n",
        "noise_std = 0.05  # Стандартное отклонение шума\n",
        "\n",
        "for numeric_feature in numeric_features:\n",
        "    random_noise = np.random.normal(noise_mean, noise_std, len(data))\n",
        "    augmented_data[numeric_feature] += random_noise\n",
        "\n",
        "    # контролируем разброс min max значений\n",
        "    augmented_data[numeric_feature] = np.clip(augmented_data[numeric_feature],\n",
        "                                              data[numeric_feature].min(),\n",
        "                                              data[numeric_feature].max())\n",
        "\n",
        "# Создайте новый DataFrame для аугментированных данных\n",
        "augmented_data.head()\n"
      ],
      "metadata": {
        "id": "vJDxmBOciOSL",
        "colab": {
          "base_uri": "https://localhost:8080/",
          "height": 206
        },
        "outputId": "f7019e43-994b-4073-aaec-52623abde920"
      },
      "execution_count": 66,
      "outputs": [
        {
          "output_type": "execute_result",
          "data": {
            "text/plain": [
              "   temperature  luminosity    radius  magnitude  star_type star_color\n",
              "0         3068    0.000080  0.173710  16.071540          0        red\n",
              "1         3042    0.088734  0.142730  16.627552          0        red\n",
              "2         2600    0.000080  0.149525  18.792331          0        red\n",
              "3         2800    0.000080  0.142851  16.661114          0        red\n",
              "4         1939    0.065926  0.128275  20.060000          0        red"
            ],
            "text/html": [
              "\n",
              "  <div id=\"df-10097fd3-1eeb-4e3e-8b0f-fffc061fa3a4\" class=\"colab-df-container\">\n",
              "    <div>\n",
              "<style scoped>\n",
              "    .dataframe tbody tr th:only-of-type {\n",
              "        vertical-align: middle;\n",
              "    }\n",
              "\n",
              "    .dataframe tbody tr th {\n",
              "        vertical-align: top;\n",
              "    }\n",
              "\n",
              "    .dataframe thead th {\n",
              "        text-align: right;\n",
              "    }\n",
              "</style>\n",
              "<table border=\"1\" class=\"dataframe\">\n",
              "  <thead>\n",
              "    <tr style=\"text-align: right;\">\n",
              "      <th></th>\n",
              "      <th>temperature</th>\n",
              "      <th>luminosity</th>\n",
              "      <th>radius</th>\n",
              "      <th>magnitude</th>\n",
              "      <th>star_type</th>\n",
              "      <th>star_color</th>\n",
              "    </tr>\n",
              "  </thead>\n",
              "  <tbody>\n",
              "    <tr>\n",
              "      <th>0</th>\n",
              "      <td>3068</td>\n",
              "      <td>0.000080</td>\n",
              "      <td>0.173710</td>\n",
              "      <td>16.071540</td>\n",
              "      <td>0</td>\n",
              "      <td>red</td>\n",
              "    </tr>\n",
              "    <tr>\n",
              "      <th>1</th>\n",
              "      <td>3042</td>\n",
              "      <td>0.088734</td>\n",
              "      <td>0.142730</td>\n",
              "      <td>16.627552</td>\n",
              "      <td>0</td>\n",
              "      <td>red</td>\n",
              "    </tr>\n",
              "    <tr>\n",
              "      <th>2</th>\n",
              "      <td>2600</td>\n",
              "      <td>0.000080</td>\n",
              "      <td>0.149525</td>\n",
              "      <td>18.792331</td>\n",
              "      <td>0</td>\n",
              "      <td>red</td>\n",
              "    </tr>\n",
              "    <tr>\n",
              "      <th>3</th>\n",
              "      <td>2800</td>\n",
              "      <td>0.000080</td>\n",
              "      <td>0.142851</td>\n",
              "      <td>16.661114</td>\n",
              "      <td>0</td>\n",
              "      <td>red</td>\n",
              "    </tr>\n",
              "    <tr>\n",
              "      <th>4</th>\n",
              "      <td>1939</td>\n",
              "      <td>0.065926</td>\n",
              "      <td>0.128275</td>\n",
              "      <td>20.060000</td>\n",
              "      <td>0</td>\n",
              "      <td>red</td>\n",
              "    </tr>\n",
              "  </tbody>\n",
              "</table>\n",
              "</div>\n",
              "    <div class=\"colab-df-buttons\">\n",
              "\n",
              "  <div class=\"colab-df-container\">\n",
              "    <button class=\"colab-df-convert\" onclick=\"convertToInteractive('df-10097fd3-1eeb-4e3e-8b0f-fffc061fa3a4')\"\n",
              "            title=\"Convert this dataframe to an interactive table.\"\n",
              "            style=\"display:none;\">\n",
              "\n",
              "  <svg xmlns=\"http://www.w3.org/2000/svg\" height=\"24px\" viewBox=\"0 -960 960 960\">\n",
              "    <path d=\"M120-120v-720h720v720H120Zm60-500h600v-160H180v160Zm220 220h160v-160H400v160Zm0 220h160v-160H400v160ZM180-400h160v-160H180v160Zm440 0h160v-160H620v160ZM180-180h160v-160H180v160Zm440 0h160v-160H620v160Z\"/>\n",
              "  </svg>\n",
              "    </button>\n",
              "\n",
              "  <style>\n",
              "    .colab-df-container {\n",
              "      display:flex;\n",
              "      gap: 12px;\n",
              "    }\n",
              "\n",
              "    .colab-df-convert {\n",
              "      background-color: #E8F0FE;\n",
              "      border: none;\n",
              "      border-radius: 50%;\n",
              "      cursor: pointer;\n",
              "      display: none;\n",
              "      fill: #1967D2;\n",
              "      height: 32px;\n",
              "      padding: 0 0 0 0;\n",
              "      width: 32px;\n",
              "    }\n",
              "\n",
              "    .colab-df-convert:hover {\n",
              "      background-color: #E2EBFA;\n",
              "      box-shadow: 0px 1px 2px rgba(60, 64, 67, 0.3), 0px 1px 3px 1px rgba(60, 64, 67, 0.15);\n",
              "      fill: #174EA6;\n",
              "    }\n",
              "\n",
              "    .colab-df-buttons div {\n",
              "      margin-bottom: 4px;\n",
              "    }\n",
              "\n",
              "    [theme=dark] .colab-df-convert {\n",
              "      background-color: #3B4455;\n",
              "      fill: #D2E3FC;\n",
              "    }\n",
              "\n",
              "    [theme=dark] .colab-df-convert:hover {\n",
              "      background-color: #434B5C;\n",
              "      box-shadow: 0px 1px 3px 1px rgba(0, 0, 0, 0.15);\n",
              "      filter: drop-shadow(0px 1px 2px rgba(0, 0, 0, 0.3));\n",
              "      fill: #FFFFFF;\n",
              "    }\n",
              "  </style>\n",
              "\n",
              "    <script>\n",
              "      const buttonEl =\n",
              "        document.querySelector('#df-10097fd3-1eeb-4e3e-8b0f-fffc061fa3a4 button.colab-df-convert');\n",
              "      buttonEl.style.display =\n",
              "        google.colab.kernel.accessAllowed ? 'block' : 'none';\n",
              "\n",
              "      async function convertToInteractive(key) {\n",
              "        const element = document.querySelector('#df-10097fd3-1eeb-4e3e-8b0f-fffc061fa3a4');\n",
              "        const dataTable =\n",
              "          await google.colab.kernel.invokeFunction('convertToInteractive',\n",
              "                                                    [key], {});\n",
              "        if (!dataTable) return;\n",
              "\n",
              "        const docLinkHtml = 'Like what you see? Visit the ' +\n",
              "          '<a target=\"_blank\" href=https://colab.research.google.com/notebooks/data_table.ipynb>data table notebook</a>'\n",
              "          + ' to learn more about interactive tables.';\n",
              "        element.innerHTML = '';\n",
              "        dataTable['output_type'] = 'display_data';\n",
              "        await google.colab.output.renderOutput(dataTable, element);\n",
              "        const docLink = document.createElement('div');\n",
              "        docLink.innerHTML = docLinkHtml;\n",
              "        element.appendChild(docLink);\n",
              "      }\n",
              "    </script>\n",
              "  </div>\n",
              "\n",
              "\n",
              "<div id=\"df-d33fdd52-769e-4bad-a657-ce34817c3231\">\n",
              "  <button class=\"colab-df-quickchart\" onclick=\"quickchart('df-d33fdd52-769e-4bad-a657-ce34817c3231')\"\n",
              "            title=\"Suggest charts.\"\n",
              "            style=\"display:none;\">\n",
              "\n",
              "<svg xmlns=\"http://www.w3.org/2000/svg\" height=\"24px\"viewBox=\"0 0 24 24\"\n",
              "     width=\"24px\">\n",
              "    <g>\n",
              "        <path d=\"M19 3H5c-1.1 0-2 .9-2 2v14c0 1.1.9 2 2 2h14c1.1 0 2-.9 2-2V5c0-1.1-.9-2-2-2zM9 17H7v-7h2v7zm4 0h-2V7h2v10zm4 0h-2v-4h2v4z\"/>\n",
              "    </g>\n",
              "</svg>\n",
              "  </button>\n",
              "\n",
              "<style>\n",
              "  .colab-df-quickchart {\n",
              "      --bg-color: #E8F0FE;\n",
              "      --fill-color: #1967D2;\n",
              "      --hover-bg-color: #E2EBFA;\n",
              "      --hover-fill-color: #174EA6;\n",
              "      --disabled-fill-color: #AAA;\n",
              "      --disabled-bg-color: #DDD;\n",
              "  }\n",
              "\n",
              "  [theme=dark] .colab-df-quickchart {\n",
              "      --bg-color: #3B4455;\n",
              "      --fill-color: #D2E3FC;\n",
              "      --hover-bg-color: #434B5C;\n",
              "      --hover-fill-color: #FFFFFF;\n",
              "      --disabled-bg-color: #3B4455;\n",
              "      --disabled-fill-color: #666;\n",
              "  }\n",
              "\n",
              "  .colab-df-quickchart {\n",
              "    background-color: var(--bg-color);\n",
              "    border: none;\n",
              "    border-radius: 50%;\n",
              "    cursor: pointer;\n",
              "    display: none;\n",
              "    fill: var(--fill-color);\n",
              "    height: 32px;\n",
              "    padding: 0;\n",
              "    width: 32px;\n",
              "  }\n",
              "\n",
              "  .colab-df-quickchart:hover {\n",
              "    background-color: var(--hover-bg-color);\n",
              "    box-shadow: 0 1px 2px rgba(60, 64, 67, 0.3), 0 1px 3px 1px rgba(60, 64, 67, 0.15);\n",
              "    fill: var(--button-hover-fill-color);\n",
              "  }\n",
              "\n",
              "  .colab-df-quickchart-complete:disabled,\n",
              "  .colab-df-quickchart-complete:disabled:hover {\n",
              "    background-color: var(--disabled-bg-color);\n",
              "    fill: var(--disabled-fill-color);\n",
              "    box-shadow: none;\n",
              "  }\n",
              "\n",
              "  .colab-df-spinner {\n",
              "    border: 2px solid var(--fill-color);\n",
              "    border-color: transparent;\n",
              "    border-bottom-color: var(--fill-color);\n",
              "    animation:\n",
              "      spin 1s steps(1) infinite;\n",
              "  }\n",
              "\n",
              "  @keyframes spin {\n",
              "    0% {\n",
              "      border-color: transparent;\n",
              "      border-bottom-color: var(--fill-color);\n",
              "      border-left-color: var(--fill-color);\n",
              "    }\n",
              "    20% {\n",
              "      border-color: transparent;\n",
              "      border-left-color: var(--fill-color);\n",
              "      border-top-color: var(--fill-color);\n",
              "    }\n",
              "    30% {\n",
              "      border-color: transparent;\n",
              "      border-left-color: var(--fill-color);\n",
              "      border-top-color: var(--fill-color);\n",
              "      border-right-color: var(--fill-color);\n",
              "    }\n",
              "    40% {\n",
              "      border-color: transparent;\n",
              "      border-right-color: var(--fill-color);\n",
              "      border-top-color: var(--fill-color);\n",
              "    }\n",
              "    60% {\n",
              "      border-color: transparent;\n",
              "      border-right-color: var(--fill-color);\n",
              "    }\n",
              "    80% {\n",
              "      border-color: transparent;\n",
              "      border-right-color: var(--fill-color);\n",
              "      border-bottom-color: var(--fill-color);\n",
              "    }\n",
              "    90% {\n",
              "      border-color: transparent;\n",
              "      border-bottom-color: var(--fill-color);\n",
              "    }\n",
              "  }\n",
              "</style>\n",
              "\n",
              "  <script>\n",
              "    async function quickchart(key) {\n",
              "      const quickchartButtonEl =\n",
              "        document.querySelector('#' + key + ' button');\n",
              "      quickchartButtonEl.disabled = true;  // To prevent multiple clicks.\n",
              "      quickchartButtonEl.classList.add('colab-df-spinner');\n",
              "      try {\n",
              "        const charts = await google.colab.kernel.invokeFunction(\n",
              "            'suggestCharts', [key], {});\n",
              "      } catch (error) {\n",
              "        console.error('Error during call to suggestCharts:', error);\n",
              "      }\n",
              "      quickchartButtonEl.classList.remove('colab-df-spinner');\n",
              "      quickchartButtonEl.classList.add('colab-df-quickchart-complete');\n",
              "    }\n",
              "    (() => {\n",
              "      let quickchartButtonEl =\n",
              "        document.querySelector('#df-d33fdd52-769e-4bad-a657-ce34817c3231 button');\n",
              "      quickchartButtonEl.style.display =\n",
              "        google.colab.kernel.accessAllowed ? 'block' : 'none';\n",
              "    })();\n",
              "  </script>\n",
              "</div>\n",
              "    </div>\n",
              "  </div>\n"
            ]
          },
          "metadata": {},
          "execution_count": 66
        }
      ]
    },
    {
      "cell_type": "code",
      "source": [
        "augmented_data.describe()"
      ],
      "metadata": {
        "id": "Ge0t-okDhtvZ",
        "colab": {
          "base_uri": "https://localhost:8080/",
          "height": 300
        },
        "outputId": "c9687a77-697d-4738-a516-325245434aa4"
      },
      "execution_count": 67,
      "outputs": [
        {
          "output_type": "execute_result",
          "data": {
            "text/plain": [
              "        temperature     luminosity       radius   magnitude   star_type\n",
              "count    240.000000     240.000000   240.000000  240.000000  240.000000\n",
              "mean   10497.462500  107188.367751   237.163470    4.381116    2.500000\n",
              "std     9552.425037  179432.238712   517.150005   10.532203    1.711394\n",
              "min     1939.000000       0.000080     0.008400  -11.920000    0.000000\n",
              "25%     3344.250000       0.007056     0.127674   -6.273777    1.000000\n",
              "50%     5776.000000       0.117467     0.739076    8.354293    2.500000\n",
              "75%    15055.500000  198050.033131    42.713336   13.723127    4.000000\n",
              "max    40000.000000  849420.000000  1948.404395   20.060000    5.000000"
            ],
            "text/html": [
              "\n",
              "  <div id=\"df-31dff78a-c4af-4871-a063-8f4211bd64ce\" class=\"colab-df-container\">\n",
              "    <div>\n",
              "<style scoped>\n",
              "    .dataframe tbody tr th:only-of-type {\n",
              "        vertical-align: middle;\n",
              "    }\n",
              "\n",
              "    .dataframe tbody tr th {\n",
              "        vertical-align: top;\n",
              "    }\n",
              "\n",
              "    .dataframe thead th {\n",
              "        text-align: right;\n",
              "    }\n",
              "</style>\n",
              "<table border=\"1\" class=\"dataframe\">\n",
              "  <thead>\n",
              "    <tr style=\"text-align: right;\">\n",
              "      <th></th>\n",
              "      <th>temperature</th>\n",
              "      <th>luminosity</th>\n",
              "      <th>radius</th>\n",
              "      <th>magnitude</th>\n",
              "      <th>star_type</th>\n",
              "    </tr>\n",
              "  </thead>\n",
              "  <tbody>\n",
              "    <tr>\n",
              "      <th>count</th>\n",
              "      <td>240.000000</td>\n",
              "      <td>240.000000</td>\n",
              "      <td>240.000000</td>\n",
              "      <td>240.000000</td>\n",
              "      <td>240.000000</td>\n",
              "    </tr>\n",
              "    <tr>\n",
              "      <th>mean</th>\n",
              "      <td>10497.462500</td>\n",
              "      <td>107188.367751</td>\n",
              "      <td>237.163470</td>\n",
              "      <td>4.381116</td>\n",
              "      <td>2.500000</td>\n",
              "    </tr>\n",
              "    <tr>\n",
              "      <th>std</th>\n",
              "      <td>9552.425037</td>\n",
              "      <td>179432.238712</td>\n",
              "      <td>517.150005</td>\n",
              "      <td>10.532203</td>\n",
              "      <td>1.711394</td>\n",
              "    </tr>\n",
              "    <tr>\n",
              "      <th>min</th>\n",
              "      <td>1939.000000</td>\n",
              "      <td>0.000080</td>\n",
              "      <td>0.008400</td>\n",
              "      <td>-11.920000</td>\n",
              "      <td>0.000000</td>\n",
              "    </tr>\n",
              "    <tr>\n",
              "      <th>25%</th>\n",
              "      <td>3344.250000</td>\n",
              "      <td>0.007056</td>\n",
              "      <td>0.127674</td>\n",
              "      <td>-6.273777</td>\n",
              "      <td>1.000000</td>\n",
              "    </tr>\n",
              "    <tr>\n",
              "      <th>50%</th>\n",
              "      <td>5776.000000</td>\n",
              "      <td>0.117467</td>\n",
              "      <td>0.739076</td>\n",
              "      <td>8.354293</td>\n",
              "      <td>2.500000</td>\n",
              "    </tr>\n",
              "    <tr>\n",
              "      <th>75%</th>\n",
              "      <td>15055.500000</td>\n",
              "      <td>198050.033131</td>\n",
              "      <td>42.713336</td>\n",
              "      <td>13.723127</td>\n",
              "      <td>4.000000</td>\n",
              "    </tr>\n",
              "    <tr>\n",
              "      <th>max</th>\n",
              "      <td>40000.000000</td>\n",
              "      <td>849420.000000</td>\n",
              "      <td>1948.404395</td>\n",
              "      <td>20.060000</td>\n",
              "      <td>5.000000</td>\n",
              "    </tr>\n",
              "  </tbody>\n",
              "</table>\n",
              "</div>\n",
              "    <div class=\"colab-df-buttons\">\n",
              "\n",
              "  <div class=\"colab-df-container\">\n",
              "    <button class=\"colab-df-convert\" onclick=\"convertToInteractive('df-31dff78a-c4af-4871-a063-8f4211bd64ce')\"\n",
              "            title=\"Convert this dataframe to an interactive table.\"\n",
              "            style=\"display:none;\">\n",
              "\n",
              "  <svg xmlns=\"http://www.w3.org/2000/svg\" height=\"24px\" viewBox=\"0 -960 960 960\">\n",
              "    <path d=\"M120-120v-720h720v720H120Zm60-500h600v-160H180v160Zm220 220h160v-160H400v160Zm0 220h160v-160H400v160ZM180-400h160v-160H180v160Zm440 0h160v-160H620v160ZM180-180h160v-160H180v160Zm440 0h160v-160H620v160Z\"/>\n",
              "  </svg>\n",
              "    </button>\n",
              "\n",
              "  <style>\n",
              "    .colab-df-container {\n",
              "      display:flex;\n",
              "      gap: 12px;\n",
              "    }\n",
              "\n",
              "    .colab-df-convert {\n",
              "      background-color: #E8F0FE;\n",
              "      border: none;\n",
              "      border-radius: 50%;\n",
              "      cursor: pointer;\n",
              "      display: none;\n",
              "      fill: #1967D2;\n",
              "      height: 32px;\n",
              "      padding: 0 0 0 0;\n",
              "      width: 32px;\n",
              "    }\n",
              "\n",
              "    .colab-df-convert:hover {\n",
              "      background-color: #E2EBFA;\n",
              "      box-shadow: 0px 1px 2px rgba(60, 64, 67, 0.3), 0px 1px 3px 1px rgba(60, 64, 67, 0.15);\n",
              "      fill: #174EA6;\n",
              "    }\n",
              "\n",
              "    .colab-df-buttons div {\n",
              "      margin-bottom: 4px;\n",
              "    }\n",
              "\n",
              "    [theme=dark] .colab-df-convert {\n",
              "      background-color: #3B4455;\n",
              "      fill: #D2E3FC;\n",
              "    }\n",
              "\n",
              "    [theme=dark] .colab-df-convert:hover {\n",
              "      background-color: #434B5C;\n",
              "      box-shadow: 0px 1px 3px 1px rgba(0, 0, 0, 0.15);\n",
              "      filter: drop-shadow(0px 1px 2px rgba(0, 0, 0, 0.3));\n",
              "      fill: #FFFFFF;\n",
              "    }\n",
              "  </style>\n",
              "\n",
              "    <script>\n",
              "      const buttonEl =\n",
              "        document.querySelector('#df-31dff78a-c4af-4871-a063-8f4211bd64ce button.colab-df-convert');\n",
              "      buttonEl.style.display =\n",
              "        google.colab.kernel.accessAllowed ? 'block' : 'none';\n",
              "\n",
              "      async function convertToInteractive(key) {\n",
              "        const element = document.querySelector('#df-31dff78a-c4af-4871-a063-8f4211bd64ce');\n",
              "        const dataTable =\n",
              "          await google.colab.kernel.invokeFunction('convertToInteractive',\n",
              "                                                    [key], {});\n",
              "        if (!dataTable) return;\n",
              "\n",
              "        const docLinkHtml = 'Like what you see? Visit the ' +\n",
              "          '<a target=\"_blank\" href=https://colab.research.google.com/notebooks/data_table.ipynb>data table notebook</a>'\n",
              "          + ' to learn more about interactive tables.';\n",
              "        element.innerHTML = '';\n",
              "        dataTable['output_type'] = 'display_data';\n",
              "        await google.colab.output.renderOutput(dataTable, element);\n",
              "        const docLink = document.createElement('div');\n",
              "        docLink.innerHTML = docLinkHtml;\n",
              "        element.appendChild(docLink);\n",
              "      }\n",
              "    </script>\n",
              "  </div>\n",
              "\n",
              "\n",
              "<div id=\"df-52fa15e2-6b2d-4bbc-8b38-eab7d64e4bfc\">\n",
              "  <button class=\"colab-df-quickchart\" onclick=\"quickchart('df-52fa15e2-6b2d-4bbc-8b38-eab7d64e4bfc')\"\n",
              "            title=\"Suggest charts.\"\n",
              "            style=\"display:none;\">\n",
              "\n",
              "<svg xmlns=\"http://www.w3.org/2000/svg\" height=\"24px\"viewBox=\"0 0 24 24\"\n",
              "     width=\"24px\">\n",
              "    <g>\n",
              "        <path d=\"M19 3H5c-1.1 0-2 .9-2 2v14c0 1.1.9 2 2 2h14c1.1 0 2-.9 2-2V5c0-1.1-.9-2-2-2zM9 17H7v-7h2v7zm4 0h-2V7h2v10zm4 0h-2v-4h2v4z\"/>\n",
              "    </g>\n",
              "</svg>\n",
              "  </button>\n",
              "\n",
              "<style>\n",
              "  .colab-df-quickchart {\n",
              "      --bg-color: #E8F0FE;\n",
              "      --fill-color: #1967D2;\n",
              "      --hover-bg-color: #E2EBFA;\n",
              "      --hover-fill-color: #174EA6;\n",
              "      --disabled-fill-color: #AAA;\n",
              "      --disabled-bg-color: #DDD;\n",
              "  }\n",
              "\n",
              "  [theme=dark] .colab-df-quickchart {\n",
              "      --bg-color: #3B4455;\n",
              "      --fill-color: #D2E3FC;\n",
              "      --hover-bg-color: #434B5C;\n",
              "      --hover-fill-color: #FFFFFF;\n",
              "      --disabled-bg-color: #3B4455;\n",
              "      --disabled-fill-color: #666;\n",
              "  }\n",
              "\n",
              "  .colab-df-quickchart {\n",
              "    background-color: var(--bg-color);\n",
              "    border: none;\n",
              "    border-radius: 50%;\n",
              "    cursor: pointer;\n",
              "    display: none;\n",
              "    fill: var(--fill-color);\n",
              "    height: 32px;\n",
              "    padding: 0;\n",
              "    width: 32px;\n",
              "  }\n",
              "\n",
              "  .colab-df-quickchart:hover {\n",
              "    background-color: var(--hover-bg-color);\n",
              "    box-shadow: 0 1px 2px rgba(60, 64, 67, 0.3), 0 1px 3px 1px rgba(60, 64, 67, 0.15);\n",
              "    fill: var(--button-hover-fill-color);\n",
              "  }\n",
              "\n",
              "  .colab-df-quickchart-complete:disabled,\n",
              "  .colab-df-quickchart-complete:disabled:hover {\n",
              "    background-color: var(--disabled-bg-color);\n",
              "    fill: var(--disabled-fill-color);\n",
              "    box-shadow: none;\n",
              "  }\n",
              "\n",
              "  .colab-df-spinner {\n",
              "    border: 2px solid var(--fill-color);\n",
              "    border-color: transparent;\n",
              "    border-bottom-color: var(--fill-color);\n",
              "    animation:\n",
              "      spin 1s steps(1) infinite;\n",
              "  }\n",
              "\n",
              "  @keyframes spin {\n",
              "    0% {\n",
              "      border-color: transparent;\n",
              "      border-bottom-color: var(--fill-color);\n",
              "      border-left-color: var(--fill-color);\n",
              "    }\n",
              "    20% {\n",
              "      border-color: transparent;\n",
              "      border-left-color: var(--fill-color);\n",
              "      border-top-color: var(--fill-color);\n",
              "    }\n",
              "    30% {\n",
              "      border-color: transparent;\n",
              "      border-left-color: var(--fill-color);\n",
              "      border-top-color: var(--fill-color);\n",
              "      border-right-color: var(--fill-color);\n",
              "    }\n",
              "    40% {\n",
              "      border-color: transparent;\n",
              "      border-right-color: var(--fill-color);\n",
              "      border-top-color: var(--fill-color);\n",
              "    }\n",
              "    60% {\n",
              "      border-color: transparent;\n",
              "      border-right-color: var(--fill-color);\n",
              "    }\n",
              "    80% {\n",
              "      border-color: transparent;\n",
              "      border-right-color: var(--fill-color);\n",
              "      border-bottom-color: var(--fill-color);\n",
              "    }\n",
              "    90% {\n",
              "      border-color: transparent;\n",
              "      border-bottom-color: var(--fill-color);\n",
              "    }\n",
              "  }\n",
              "</style>\n",
              "\n",
              "  <script>\n",
              "    async function quickchart(key) {\n",
              "      const quickchartButtonEl =\n",
              "        document.querySelector('#' + key + ' button');\n",
              "      quickchartButtonEl.disabled = true;  // To prevent multiple clicks.\n",
              "      quickchartButtonEl.classList.add('colab-df-spinner');\n",
              "      try {\n",
              "        const charts = await google.colab.kernel.invokeFunction(\n",
              "            'suggestCharts', [key], {});\n",
              "      } catch (error) {\n",
              "        console.error('Error during call to suggestCharts:', error);\n",
              "      }\n",
              "      quickchartButtonEl.classList.remove('colab-df-spinner');\n",
              "      quickchartButtonEl.classList.add('colab-df-quickchart-complete');\n",
              "    }\n",
              "    (() => {\n",
              "      let quickchartButtonEl =\n",
              "        document.querySelector('#df-52fa15e2-6b2d-4bbc-8b38-eab7d64e4bfc button');\n",
              "      quickchartButtonEl.style.display =\n",
              "        google.colab.kernel.accessAllowed ? 'block' : 'none';\n",
              "    })();\n",
              "  </script>\n",
              "</div>\n",
              "    </div>\n",
              "  </div>\n"
            ]
          },
          "metadata": {},
          "execution_count": 67
        }
      ]
    },
    {
      "cell_type": "code",
      "source": [
        "data.describe()"
      ],
      "metadata": {
        "id": "U8QDQ7qJhxO4",
        "colab": {
          "base_uri": "https://localhost:8080/",
          "height": 300
        },
        "outputId": "c62f8d0c-c62e-438e-801e-b3e4a291cb0a"
      },
      "execution_count": 68,
      "outputs": [
        {
          "output_type": "execute_result",
          "data": {
            "text/plain": [
              "        temperature     luminosity       radius   magnitude   star_type\n",
              "count    240.000000     240.000000   240.000000  240.000000  240.000000\n",
              "mean   10497.462500  107188.361635   237.157781    4.382396    2.500000\n",
              "std     9552.425037  179432.244940   517.155763   10.532512    1.711394\n",
              "min     1939.000000       0.000080     0.008400  -11.920000    0.000000\n",
              "25%     3344.250000       0.000865     0.102750   -6.232500    1.000000\n",
              "50%     5776.000000       0.070500     0.762500    8.313000    2.500000\n",
              "75%    15055.500000  198050.000000    42.750000   13.697500    4.000000\n",
              "max    40000.000000  849420.000000  1948.500000   20.060000    5.000000"
            ],
            "text/html": [
              "\n",
              "  <div id=\"df-e9f33966-0d86-4352-b084-84878abef033\" class=\"colab-df-container\">\n",
              "    <div>\n",
              "<style scoped>\n",
              "    .dataframe tbody tr th:only-of-type {\n",
              "        vertical-align: middle;\n",
              "    }\n",
              "\n",
              "    .dataframe tbody tr th {\n",
              "        vertical-align: top;\n",
              "    }\n",
              "\n",
              "    .dataframe thead th {\n",
              "        text-align: right;\n",
              "    }\n",
              "</style>\n",
              "<table border=\"1\" class=\"dataframe\">\n",
              "  <thead>\n",
              "    <tr style=\"text-align: right;\">\n",
              "      <th></th>\n",
              "      <th>temperature</th>\n",
              "      <th>luminosity</th>\n",
              "      <th>radius</th>\n",
              "      <th>magnitude</th>\n",
              "      <th>star_type</th>\n",
              "    </tr>\n",
              "  </thead>\n",
              "  <tbody>\n",
              "    <tr>\n",
              "      <th>count</th>\n",
              "      <td>240.000000</td>\n",
              "      <td>240.000000</td>\n",
              "      <td>240.000000</td>\n",
              "      <td>240.000000</td>\n",
              "      <td>240.000000</td>\n",
              "    </tr>\n",
              "    <tr>\n",
              "      <th>mean</th>\n",
              "      <td>10497.462500</td>\n",
              "      <td>107188.361635</td>\n",
              "      <td>237.157781</td>\n",
              "      <td>4.382396</td>\n",
              "      <td>2.500000</td>\n",
              "    </tr>\n",
              "    <tr>\n",
              "      <th>std</th>\n",
              "      <td>9552.425037</td>\n",
              "      <td>179432.244940</td>\n",
              "      <td>517.155763</td>\n",
              "      <td>10.532512</td>\n",
              "      <td>1.711394</td>\n",
              "    </tr>\n",
              "    <tr>\n",
              "      <th>min</th>\n",
              "      <td>1939.000000</td>\n",
              "      <td>0.000080</td>\n",
              "      <td>0.008400</td>\n",
              "      <td>-11.920000</td>\n",
              "      <td>0.000000</td>\n",
              "    </tr>\n",
              "    <tr>\n",
              "      <th>25%</th>\n",
              "      <td>3344.250000</td>\n",
              "      <td>0.000865</td>\n",
              "      <td>0.102750</td>\n",
              "      <td>-6.232500</td>\n",
              "      <td>1.000000</td>\n",
              "    </tr>\n",
              "    <tr>\n",
              "      <th>50%</th>\n",
              "      <td>5776.000000</td>\n",
              "      <td>0.070500</td>\n",
              "      <td>0.762500</td>\n",
              "      <td>8.313000</td>\n",
              "      <td>2.500000</td>\n",
              "    </tr>\n",
              "    <tr>\n",
              "      <th>75%</th>\n",
              "      <td>15055.500000</td>\n",
              "      <td>198050.000000</td>\n",
              "      <td>42.750000</td>\n",
              "      <td>13.697500</td>\n",
              "      <td>4.000000</td>\n",
              "    </tr>\n",
              "    <tr>\n",
              "      <th>max</th>\n",
              "      <td>40000.000000</td>\n",
              "      <td>849420.000000</td>\n",
              "      <td>1948.500000</td>\n",
              "      <td>20.060000</td>\n",
              "      <td>5.000000</td>\n",
              "    </tr>\n",
              "  </tbody>\n",
              "</table>\n",
              "</div>\n",
              "    <div class=\"colab-df-buttons\">\n",
              "\n",
              "  <div class=\"colab-df-container\">\n",
              "    <button class=\"colab-df-convert\" onclick=\"convertToInteractive('df-e9f33966-0d86-4352-b084-84878abef033')\"\n",
              "            title=\"Convert this dataframe to an interactive table.\"\n",
              "            style=\"display:none;\">\n",
              "\n",
              "  <svg xmlns=\"http://www.w3.org/2000/svg\" height=\"24px\" viewBox=\"0 -960 960 960\">\n",
              "    <path d=\"M120-120v-720h720v720H120Zm60-500h600v-160H180v160Zm220 220h160v-160H400v160Zm0 220h160v-160H400v160ZM180-400h160v-160H180v160Zm440 0h160v-160H620v160ZM180-180h160v-160H180v160Zm440 0h160v-160H620v160Z\"/>\n",
              "  </svg>\n",
              "    </button>\n",
              "\n",
              "  <style>\n",
              "    .colab-df-container {\n",
              "      display:flex;\n",
              "      gap: 12px;\n",
              "    }\n",
              "\n",
              "    .colab-df-convert {\n",
              "      background-color: #E8F0FE;\n",
              "      border: none;\n",
              "      border-radius: 50%;\n",
              "      cursor: pointer;\n",
              "      display: none;\n",
              "      fill: #1967D2;\n",
              "      height: 32px;\n",
              "      padding: 0 0 0 0;\n",
              "      width: 32px;\n",
              "    }\n",
              "\n",
              "    .colab-df-convert:hover {\n",
              "      background-color: #E2EBFA;\n",
              "      box-shadow: 0px 1px 2px rgba(60, 64, 67, 0.3), 0px 1px 3px 1px rgba(60, 64, 67, 0.15);\n",
              "      fill: #174EA6;\n",
              "    }\n",
              "\n",
              "    .colab-df-buttons div {\n",
              "      margin-bottom: 4px;\n",
              "    }\n",
              "\n",
              "    [theme=dark] .colab-df-convert {\n",
              "      background-color: #3B4455;\n",
              "      fill: #D2E3FC;\n",
              "    }\n",
              "\n",
              "    [theme=dark] .colab-df-convert:hover {\n",
              "      background-color: #434B5C;\n",
              "      box-shadow: 0px 1px 3px 1px rgba(0, 0, 0, 0.15);\n",
              "      filter: drop-shadow(0px 1px 2px rgba(0, 0, 0, 0.3));\n",
              "      fill: #FFFFFF;\n",
              "    }\n",
              "  </style>\n",
              "\n",
              "    <script>\n",
              "      const buttonEl =\n",
              "        document.querySelector('#df-e9f33966-0d86-4352-b084-84878abef033 button.colab-df-convert');\n",
              "      buttonEl.style.display =\n",
              "        google.colab.kernel.accessAllowed ? 'block' : 'none';\n",
              "\n",
              "      async function convertToInteractive(key) {\n",
              "        const element = document.querySelector('#df-e9f33966-0d86-4352-b084-84878abef033');\n",
              "        const dataTable =\n",
              "          await google.colab.kernel.invokeFunction('convertToInteractive',\n",
              "                                                    [key], {});\n",
              "        if (!dataTable) return;\n",
              "\n",
              "        const docLinkHtml = 'Like what you see? Visit the ' +\n",
              "          '<a target=\"_blank\" href=https://colab.research.google.com/notebooks/data_table.ipynb>data table notebook</a>'\n",
              "          + ' to learn more about interactive tables.';\n",
              "        element.innerHTML = '';\n",
              "        dataTable['output_type'] = 'display_data';\n",
              "        await google.colab.output.renderOutput(dataTable, element);\n",
              "        const docLink = document.createElement('div');\n",
              "        docLink.innerHTML = docLinkHtml;\n",
              "        element.appendChild(docLink);\n",
              "      }\n",
              "    </script>\n",
              "  </div>\n",
              "\n",
              "\n",
              "<div id=\"df-e249f21f-eb2f-4d60-a582-8e95438688ba\">\n",
              "  <button class=\"colab-df-quickchart\" onclick=\"quickchart('df-e249f21f-eb2f-4d60-a582-8e95438688ba')\"\n",
              "            title=\"Suggest charts.\"\n",
              "            style=\"display:none;\">\n",
              "\n",
              "<svg xmlns=\"http://www.w3.org/2000/svg\" height=\"24px\"viewBox=\"0 0 24 24\"\n",
              "     width=\"24px\">\n",
              "    <g>\n",
              "        <path d=\"M19 3H5c-1.1 0-2 .9-2 2v14c0 1.1.9 2 2 2h14c1.1 0 2-.9 2-2V5c0-1.1-.9-2-2-2zM9 17H7v-7h2v7zm4 0h-2V7h2v10zm4 0h-2v-4h2v4z\"/>\n",
              "    </g>\n",
              "</svg>\n",
              "  </button>\n",
              "\n",
              "<style>\n",
              "  .colab-df-quickchart {\n",
              "      --bg-color: #E8F0FE;\n",
              "      --fill-color: #1967D2;\n",
              "      --hover-bg-color: #E2EBFA;\n",
              "      --hover-fill-color: #174EA6;\n",
              "      --disabled-fill-color: #AAA;\n",
              "      --disabled-bg-color: #DDD;\n",
              "  }\n",
              "\n",
              "  [theme=dark] .colab-df-quickchart {\n",
              "      --bg-color: #3B4455;\n",
              "      --fill-color: #D2E3FC;\n",
              "      --hover-bg-color: #434B5C;\n",
              "      --hover-fill-color: #FFFFFF;\n",
              "      --disabled-bg-color: #3B4455;\n",
              "      --disabled-fill-color: #666;\n",
              "  }\n",
              "\n",
              "  .colab-df-quickchart {\n",
              "    background-color: var(--bg-color);\n",
              "    border: none;\n",
              "    border-radius: 50%;\n",
              "    cursor: pointer;\n",
              "    display: none;\n",
              "    fill: var(--fill-color);\n",
              "    height: 32px;\n",
              "    padding: 0;\n",
              "    width: 32px;\n",
              "  }\n",
              "\n",
              "  .colab-df-quickchart:hover {\n",
              "    background-color: var(--hover-bg-color);\n",
              "    box-shadow: 0 1px 2px rgba(60, 64, 67, 0.3), 0 1px 3px 1px rgba(60, 64, 67, 0.15);\n",
              "    fill: var(--button-hover-fill-color);\n",
              "  }\n",
              "\n",
              "  .colab-df-quickchart-complete:disabled,\n",
              "  .colab-df-quickchart-complete:disabled:hover {\n",
              "    background-color: var(--disabled-bg-color);\n",
              "    fill: var(--disabled-fill-color);\n",
              "    box-shadow: none;\n",
              "  }\n",
              "\n",
              "  .colab-df-spinner {\n",
              "    border: 2px solid var(--fill-color);\n",
              "    border-color: transparent;\n",
              "    border-bottom-color: var(--fill-color);\n",
              "    animation:\n",
              "      spin 1s steps(1) infinite;\n",
              "  }\n",
              "\n",
              "  @keyframes spin {\n",
              "    0% {\n",
              "      border-color: transparent;\n",
              "      border-bottom-color: var(--fill-color);\n",
              "      border-left-color: var(--fill-color);\n",
              "    }\n",
              "    20% {\n",
              "      border-color: transparent;\n",
              "      border-left-color: var(--fill-color);\n",
              "      border-top-color: var(--fill-color);\n",
              "    }\n",
              "    30% {\n",
              "      border-color: transparent;\n",
              "      border-left-color: var(--fill-color);\n",
              "      border-top-color: var(--fill-color);\n",
              "      border-right-color: var(--fill-color);\n",
              "    }\n",
              "    40% {\n",
              "      border-color: transparent;\n",
              "      border-right-color: var(--fill-color);\n",
              "      border-top-color: var(--fill-color);\n",
              "    }\n",
              "    60% {\n",
              "      border-color: transparent;\n",
              "      border-right-color: var(--fill-color);\n",
              "    }\n",
              "    80% {\n",
              "      border-color: transparent;\n",
              "      border-right-color: var(--fill-color);\n",
              "      border-bottom-color: var(--fill-color);\n",
              "    }\n",
              "    90% {\n",
              "      border-color: transparent;\n",
              "      border-bottom-color: var(--fill-color);\n",
              "    }\n",
              "  }\n",
              "</style>\n",
              "\n",
              "  <script>\n",
              "    async function quickchart(key) {\n",
              "      const quickchartButtonEl =\n",
              "        document.querySelector('#' + key + ' button');\n",
              "      quickchartButtonEl.disabled = true;  // To prevent multiple clicks.\n",
              "      quickchartButtonEl.classList.add('colab-df-spinner');\n",
              "      try {\n",
              "        const charts = await google.colab.kernel.invokeFunction(\n",
              "            'suggestCharts', [key], {});\n",
              "      } catch (error) {\n",
              "        console.error('Error during call to suggestCharts:', error);\n",
              "      }\n",
              "      quickchartButtonEl.classList.remove('colab-df-spinner');\n",
              "      quickchartButtonEl.classList.add('colab-df-quickchart-complete');\n",
              "    }\n",
              "    (() => {\n",
              "      let quickchartButtonEl =\n",
              "        document.querySelector('#df-e249f21f-eb2f-4d60-a582-8e95438688ba button');\n",
              "      quickchartButtonEl.style.display =\n",
              "        google.colab.kernel.accessAllowed ? 'block' : 'none';\n",
              "    })();\n",
              "  </script>\n",
              "</div>\n",
              "    </div>\n",
              "  </div>\n"
            ]
          },
          "metadata": {},
          "execution_count": 68
        }
      ]
    },
    {
      "cell_type": "markdown",
      "source": [
        "####модель на аугментированном датасете с шумом"
      ],
      "metadata": {
        "id": "CIi6lxLkx8Dp"
      }
    },
    {
      "cell_type": "code",
      "source": [
        "train, valid = train_test_split(augmented_data,\n",
        "                                shuffle=True,\n",
        "                                random_state = RANDOM_STATE)\n",
        "\n",
        "print('Размер обучающей выборки',train.shape)\n",
        "print()\n",
        "print('Размер валидационной выборки', valid.shape)\n",
        "print( )\n",
        "print('Размер тестовой выборки', test.shape)\n"
      ],
      "metadata": {
        "id": "KF0RarxVvkbs",
        "colab": {
          "base_uri": "https://localhost:8080/"
        },
        "outputId": "84d7e0ef-6d47-4f67-bc38-131ffcfe2fc9"
      },
      "execution_count": 75,
      "outputs": [
        {
          "output_type": "stream",
          "name": "stdout",
          "text": [
            "Размер обучающей выборки (180, 6)\n",
            "\n",
            "Размер валидационной выборки (60, 6)\n",
            "\n",
            "Размер тестовой выборки (48, 6)\n"
          ]
        }
      ]
    },
    {
      "cell_type": "code",
      "source": [
        "column_transformer = ColumnTransformer(transformers=[\n",
        "    ('encoder', OneHotEncoder(handle_unknown='ignore'), categorical),\n",
        "     ('scale', StandardScaler(), numerical)])\n",
        "\n",
        "X_train = torch.Tensor(column_transformer.fit_transform(train[X]))\n",
        "\n",
        "X_valid = torch.Tensor(column_transformer.transform(valid[X]))\n",
        "X_test = torch.Tensor(column_transformer.transform(test[X]))\n",
        "\n",
        "\n",
        "y_train = torch.Tensor(train[y].values).reshape(-1, 1)\n",
        "y_valid = torch.Tensor(valid[y].values).reshape(-1, 1)\n",
        "y_test = torch.Tensor(test[y].values).reshape(-1, 1)\n",
        "\n",
        "print(X_train.size())\n",
        "print()\n",
        "print(X_valid.size())\n",
        "print()\n",
        "print(X_test.size())\n"
      ],
      "metadata": {
        "id": "pOmCZ0mEwaig",
        "colab": {
          "base_uri": "https://localhost:8080/"
        },
        "outputId": "62201bce-14af-4f6b-e3b0-ef345864eee9"
      },
      "execution_count": 76,
      "outputs": [
        {
          "output_type": "stream",
          "name": "stdout",
          "text": [
            "torch.Size([180, 15])\n",
            "\n",
            "torch.Size([60, 15])\n",
            "\n",
            "torch.Size([48, 15])\n"
          ]
        }
      ]
    },
    {
      "cell_type": "code",
      "source": [
        "input_neurons = X_train.shape[1]\n",
        "\n",
        "\n",
        "model = BaselineModel(input_neurons,\n",
        "                        hidden_neurons,\n",
        "                        output_neurons)"
      ],
      "metadata": {
        "id": "itASJv6X4sE1"
      },
      "execution_count": 77,
      "outputs": []
    },
    {
      "cell_type": "code",
      "source": [
        "for epoch in range(num_epochs):\n",
        "\n",
        "    outputs = model(X_train)\n",
        "\n",
        "    # Вычисление потерь\n",
        "    loss_train = loss(outputs, y_train)\n",
        "\n",
        "    optimizer.zero_grad()\n",
        "    loss_train.backward()\n",
        "    optimizer.step()\n",
        "\n",
        "    if (epoch + 1) % 1000 == 0:\n",
        "        print(f'Epoch [{epoch + 1}/{num_epochs}], Loss: {loss_train.item()}')\n",
        "\n",
        "model.eval()  # Перевести модель в режим оценки\n",
        "\n",
        "with torch.no_grad():\n",
        "    test_outputs = model(X_test)\n",
        "    test_loss = loss(test_outputs, y_test)\n",
        "\n",
        "print(f'Test Loss: {np.sqrt(test_loss.item())}')"
      ],
      "metadata": {
        "id": "ZaFPC7IQwk8i",
        "colab": {
          "base_uri": "https://localhost:8080/"
        },
        "outputId": "8b208dea-56db-452a-917b-429a7d261f4a"
      },
      "execution_count": 78,
      "outputs": [
        {
          "output_type": "stream",
          "name": "stdout",
          "text": [
            "Epoch [1000/10000], Loss: 196771584.0\n",
            "Epoch [2000/10000], Loss: 196771584.0\n",
            "Epoch [3000/10000], Loss: 196771584.0\n",
            "Epoch [4000/10000], Loss: 196771584.0\n",
            "Epoch [5000/10000], Loss: 196771584.0\n",
            "Epoch [6000/10000], Loss: 196771584.0\n",
            "Epoch [7000/10000], Loss: 196771584.0\n",
            "Epoch [8000/10000], Loss: 196771584.0\n",
            "Epoch [9000/10000], Loss: 196771584.0\n",
            "Epoch [10000/10000], Loss: 196771584.0\n",
            "Test Loss: 15760.036040567928\n"
          ]
        }
      ]
    },
    {
      "cell_type": "code",
      "source": [
        "rmse_augmented = np.sqrt(test_loss.item())\n",
        "result.append(['rmse_augmented', rmse_augmented])\n",
        "result"
      ],
      "metadata": {
        "id": "h8bDMGHBwqp9",
        "colab": {
          "base_uri": "https://localhost:8080/"
        },
        "outputId": "71a36e58-91f4-48eb-862b-2cd942ce2c39"
      },
      "execution_count": 79,
      "outputs": [
        {
          "output_type": "execute_result",
          "data": {
            "text/plain": [
              "[['rmse_baseline', tensor(7392.8315)],\n",
              " ['rmse_dropout', 9483.592568220125],\n",
              " ['rmse_batchnorm', 15578.189368472833],\n",
              " ['rmse_synthetic', 638091.1052193096],\n",
              " ['rmse_synthetic', 559636.4644016685],\n",
              " ['rmse_concat2', 5257.020258663647],\n",
              " ['rmse_augmented', 15760.036040567928]]"
            ]
          },
          "metadata": {},
          "execution_count": 79
        }
      ]
    },
    {
      "cell_type": "code",
      "source": [
        "plot(y_test, test_outputs, 'Augmented data')"
      ],
      "metadata": {
        "colab": {
          "base_uri": "https://localhost:8080/",
          "height": 426
        },
        "id": "Dff_3GZklmPn",
        "outputId": "a86a7164-803f-4ffd-f43e-55b1ef7f0ff4"
      },
      "execution_count": 80,
      "outputs": [
        {
          "output_type": "display_data",
          "data": {
            "text/plain": [
              "<Figure size 800x400 with 1 Axes>"
            ],
            "image/png": "[encoded data removed]"
          },
          "metadata": {}
        }
      ]
    },
    {
      "cell_type": "markdown",
      "source": [
        "#### модель на 2-x датасетах"
      ],
      "metadata": {
        "id": "Z2A0o_1LzZYr"
      }
    },
    {
      "cell_type": "code",
      "source": [
        "data_concat2 = pd.concat([augmented_data,\n",
        "                          synthetic_data],\n",
        "                         ignore_index = True)"
      ],
      "metadata": {
        "id": "sYo92dgWwt8r"
      },
      "execution_count": 322,
      "outputs": []
    },
    {
      "cell_type": "code",
      "source": [
        "train, valid = train_test_split(data_concat2,\n",
        "                                shuffle=True,\n",
        "                                random_state = RANDOM_STATE)\n",
        "test = test\n",
        "print('Размер обучающей выборки',train.shape)\n",
        "print ()\n",
        "print('Размер валидационной выборки', valid.shape)\n",
        "print()\n",
        "print('Размер тестовой выборки', test.shape)"
      ],
      "metadata": {
        "id": "PTlgCcyxyxMU",
        "colab": {
          "base_uri": "https://localhost:8080/"
        },
        "outputId": "c54f7629-a9fc-4759-e14b-c7ebf690f671"
      },
      "execution_count": 323,
      "outputs": [
        {
          "output_type": "stream",
          "name": "stdout",
          "text": [
            "Размер обучающей выборки (331, 6)\n",
            "\n",
            "Размер валидационной выборки (111, 6)\n",
            "\n",
            "Размер тестовой выборки (60, 6)\n"
          ]
        }
      ]
    },
    {
      "cell_type": "code",
      "source": [
        "column_transformer = ColumnTransformer(transformers=[\n",
        "    ('encoder', OneHotEncoder(handle_unknown='ignore'), categorical),\n",
        "     ('scale', StandardScaler(), numerical)])\n",
        "\n",
        "X_train = torch.Tensor(column_transformer.fit_transform(train[X]).toarray())\n",
        "X_valid = torch.Tensor(column_transformer.transform(valid[X]).toarray())\n",
        "X_test = torch.Tensor(column_transformer.transform(test[X]).toarray())\n",
        "\n",
        "\n",
        "y_train = torch.Tensor(train[y].values).reshape(-1, 1)\n",
        "y_valid = torch.Tensor(valid[y].values).reshape(-1, 1)\n",
        "y_test = torch.Tensor(test[y].values).reshape(-1, 1)\n",
        "\n",
        "print(X_train.size())\n",
        "print()\n",
        "print(X_valid.size())\n",
        "print()\n",
        "print(X_test.size())"
      ],
      "metadata": {
        "id": "Kzd6B_cbzfx1",
        "colab": {
          "base_uri": "https://localhost:8080/"
        },
        "outputId": "c3f22308-7e7f-4529-bca4-daf35237d992"
      },
      "execution_count": 326,
      "outputs": [
        {
          "output_type": "stream",
          "name": "stdout",
          "text": [
            "torch.Size([331, 17])\n",
            "\n",
            "torch.Size([111, 17])\n",
            "\n",
            "torch.Size([60, 17])\n"
          ]
        }
      ]
    },
    {
      "cell_type": "code",
      "source": [
        "input_neurons = X_train.shape[1]\n",
        "\n",
        "model = BaselineModel(input_neurons,\n",
        "                        hidden_neurons,\n",
        "                        output_neurons)\n",
        "\n",
        "optimizer = torch.optim.Adam(model.parameters(), lr=0.01)"
      ],
      "metadata": {
        "id": "jdHhT4uh0byj"
      },
      "execution_count": 71,
      "outputs": []
    },
    {
      "cell_type": "code",
      "source": [
        "for epoch in range(num_epochs):\n",
        "\n",
        "    outputs = model(X_train)\n",
        "\n",
        "    # Вычисление потерь\n",
        "    loss_train = loss(outputs, y_train)\n",
        "\n",
        "    optimizer.zero_grad()\n",
        "    loss_train.backward()\n",
        "    optimizer.step()\n",
        "\n",
        "    if (epoch + 1) % 1000 == 0:\n",
        "        print(f'Epoch [{epoch + 1}/{num_epochs}], Loss: {loss_train.item()}')\n",
        "\n",
        "model.eval()  # Перевести модель в режим оценки\n",
        "\n",
        "with torch.no_grad():\n",
        "    test_outputs = model(X_test)\n",
        "    test_loss = loss(test_outputs, y_test)\n",
        "\n",
        "print(f'Test Loss: {test_loss.item()}')"
      ],
      "metadata": {
        "id": "sG9X-6YZzoVA",
        "colab": {
          "base_uri": "https://localhost:8080/"
        },
        "outputId": "4413552e-58e1-4e71-bce6-1a382bc36eb2"
      },
      "execution_count": 72,
      "outputs": [
        {
          "output_type": "stream",
          "name": "stdout",
          "text": [
            "Epoch [1000/10000], Loss: 23513376.0\n",
            "Epoch [2000/10000], Loss: 19054552.0\n",
            "Epoch [3000/10000], Loss: 17516344.0\n",
            "Epoch [4000/10000], Loss: 16336181.0\n",
            "Epoch [5000/10000], Loss: 15107940.0\n",
            "Epoch [6000/10000], Loss: 14061962.0\n",
            "Epoch [7000/10000], Loss: 12667544.0\n",
            "Epoch [8000/10000], Loss: 11190436.0\n",
            "Epoch [9000/10000], Loss: 9897009.0\n",
            "Epoch [10000/10000], Loss: 8633448.0\n",
            "Test Loss: 27636262.0\n"
          ]
        }
      ]
    },
    {
      "cell_type": "code",
      "source": [
        "rmse_concat2 = np.sqrt(test_loss.item())\n",
        "result.append(['rmse_concat2', rmse_concat2])\n",
        "result"
      ],
      "metadata": {
        "id": "EqxtoGwRzsEK",
        "colab": {
          "base_uri": "https://localhost:8080/"
        },
        "outputId": "e4557d38-8c04-4ef2-9769-829ac46ac139"
      },
      "execution_count": 73,
      "outputs": [
        {
          "output_type": "execute_result",
          "data": {
            "text/plain": [
              "[['rmse_baseline', tensor(7392.8315)],\n",
              " ['rmse_dropout', 9483.592568220125],\n",
              " ['rmse_batchnorm', 15578.189368472833],\n",
              " ['rmse_synthetic', 638091.1052193096],\n",
              " ['rmse_synthetic', 559636.4644016685],\n",
              " ['rmse_concat2', 5257.020258663647]]"
            ]
          },
          "metadata": {},
          "execution_count": 73
        }
      ]
    },
    {
      "cell_type": "code",
      "source": [
        "plot(y_test, test_outputs, 'RMSE on synthetic+augmented')"
      ],
      "metadata": {
        "colab": {
          "base_uri": "https://localhost:8080/",
          "height": 431
        },
        "id": "xSh4N9Q4psbU",
        "outputId": "fcc7afbd-c82a-442b-d837-8c88d497263a"
      },
      "execution_count": 74,
      "outputs": [
        {
          "output_type": "display_data",
          "data": {
            "text/plain": [
              "<Figure size 800x400 with 1 Axes>"
            ],
            "image/png": "[encoded data removed]"
          },
          "metadata": {}
        }
      ]
    },
    {
      "cell_type": "markdown",
      "source": [
        "#### Модель на 3 датасетах"
      ],
      "metadata": {
        "id": "F3RF_ZUDBuaj"
      }
    },
    {
      "cell_type": "code",
      "source": [
        "data_concat3 = pd.concat([data,\n",
        "                          augmented_data,\n",
        "                          synthetic_data],\n",
        "                         ignore_index = True)"
      ],
      "metadata": {
        "id": "AbohU4_DBtjb"
      },
      "execution_count": 81,
      "outputs": []
    },
    {
      "cell_type": "code",
      "source": [
        "train, valid = train_test_split(data_concat3,\n",
        "                                test_size = 0.4,\n",
        "                                shuffle=True,\n",
        "                                random_state = RANDOM_STATE)\n",
        "print('Размер обучающей выборки',train.shape)\n",
        "\n",
        "valid, test = train_test_split(valid,\n",
        "                               test_size = 0.5,\n",
        "                               shuffle=True,\n",
        "                                random_state = RANDOM_STATE)\n",
        "\n",
        "print('Размер валидационной выборки', valid.shape)\n",
        "print( )\n",
        "print('Размер тестовой выборки', test.shape)"
      ],
      "metadata": {
        "id": "DZCF2twcCTh-",
        "colab": {
          "base_uri": "https://localhost:8080/"
        },
        "outputId": "a26cc93a-c2f3-4f38-a01f-3bb48dd28dbe"
      },
      "execution_count": 82,
      "outputs": [
        {
          "output_type": "stream",
          "name": "stdout",
          "text": [
            "Размер обучающей выборки (409, 6)\n",
            "Размер валидационной выборки (136, 6)\n",
            "\n",
            "Размер тестовой выборки (137, 6)\n"
          ]
        }
      ]
    },
    {
      "cell_type": "code",
      "source": [
        "column_transformer = ColumnTransformer(transformers=[\n",
        "    ('encoder', OneHotEncoder(handle_unknown='ignore'), categorical),\n",
        "     ('scale', StandardScaler(), numerical)])\n"
      ],
      "metadata": {
        "id": "zv-6BVXgCXOU"
      },
      "execution_count": 83,
      "outputs": []
    },
    {
      "cell_type": "code",
      "source": [
        "X_train = torch.Tensor(column_transformer.fit_transform(train[X]).toarray())\n",
        "X_valid = torch.Tensor(column_transformer.transform(valid[X]).toarray())\n",
        "X_test = torch.Tensor(column_transformer.transform(test[X]).toarray())\n",
        "\n",
        "\n",
        "y_train = torch.Tensor(train[y].values).reshape(-1, 1)\n",
        "y_valid = torch.Tensor(valid[y].values).reshape(-1, 1)\n",
        "y_test = torch.Tensor(test[y].values).reshape(-1, 1)\n",
        "\n",
        "print(X_train.size())\n",
        "print()\n",
        "print(X_valid.size())\n",
        "print()\n",
        "print(X_test.size())"
      ],
      "metadata": {
        "id": "GqMgqEHlCas6",
        "colab": {
          "base_uri": "https://localhost:8080/"
        },
        "outputId": "96f2db49-a1bc-4f83-c7bf-f42bb51a1f4c"
      },
      "execution_count": 84,
      "outputs": [
        {
          "output_type": "stream",
          "name": "stdout",
          "text": [
            "torch.Size([409, 17])\n",
            "\n",
            "torch.Size([136, 17])\n",
            "\n",
            "torch.Size([137, 17])\n"
          ]
        }
      ]
    },
    {
      "cell_type": "code",
      "source": [
        "input_neurons = X_train.shape[1]\n",
        "\n",
        "model = BaselineModel(input_neurons,\n",
        "                      hidden_neurons,\n",
        "                      output_neurons)\n",
        "\n",
        "optimizer = torch.optim.Adam(model.parameters(), lr=0.01)"
      ],
      "metadata": {
        "id": "wykknTNN8G1L"
      },
      "execution_count": 87,
      "outputs": []
    },
    {
      "cell_type": "code",
      "source": [
        "for epoch in range(num_epochs):\n",
        "\n",
        "    outputs = model(X_train)\n",
        "\n",
        "    # Вычисление потерь\n",
        "    loss_train = loss(outputs, y_train)\n",
        "\n",
        "    optimizer.zero_grad()\n",
        "    loss_train.backward()\n",
        "    optimizer.step()\n",
        "\n",
        "    if (epoch + 1) % 1000 == 0:\n",
        "        print(f'Epoch [{epoch + 1}/{num_epochs}], Loss: {loss_train.item()}')\n",
        "\n",
        "model.eval()  # Перевести модель в режим оценки\n",
        "\n",
        "with torch.no_grad():\n",
        "    test_outputs = model(X_test)\n",
        "    test_loss = loss(test_outputs, y_test)\n",
        "\n",
        "print(f'Test Loss: {test_loss.item()}')"
      ],
      "metadata": {
        "colab": {
          "base_uri": "https://localhost:8080/"
        },
        "id": "ecM54ODpqS58",
        "outputId": "c4ef0abb-7713-4d24-90ad-b8b0e919f65a"
      },
      "execution_count": 88,
      "outputs": [
        {
          "output_type": "stream",
          "name": "stdout",
          "text": [
            "Epoch [1000/10000], Loss: 23435022.0\n",
            "Epoch [2000/10000], Loss: 17793686.0\n",
            "Epoch [3000/10000], Loss: 15093848.0\n",
            "Epoch [4000/10000], Loss: 13681098.0\n",
            "Epoch [5000/10000], Loss: 13109697.0\n",
            "Epoch [6000/10000], Loss: 12586746.0\n",
            "Epoch [7000/10000], Loss: 12141110.0\n",
            "Epoch [8000/10000], Loss: 11491884.0\n",
            "Epoch [9000/10000], Loss: 10435781.0\n",
            "Epoch [10000/10000], Loss: 9682566.0\n",
            "Test Loss: 21071402.0\n"
          ]
        }
      ]
    },
    {
      "cell_type": "code",
      "source": [
        "rmse_concat3 = np.sqrt(test_loss.item())\n",
        "result.append(['rmse_concat3', rmse_concat3])\n",
        "result"
      ],
      "metadata": {
        "id": "9FOjdw7WDB-c",
        "colab": {
          "base_uri": "https://localhost:8080/"
        },
        "outputId": "36c15b04-5414-435b-efbd-2c6cfc85846c"
      },
      "execution_count": 89,
      "outputs": [
        {
          "output_type": "execute_result",
          "data": {
            "text/plain": [
              "[['rmse_baseline', tensor(7392.8315)],\n",
              " ['rmse_dropout', 9483.592568220125],\n",
              " ['rmse_batchnorm', 15578.189368472833],\n",
              " ['rmse_synthetic', 638091.1052193096],\n",
              " ['rmse_synthetic', 559636.4644016685],\n",
              " ['rmse_concat2', 5257.020258663647],\n",
              " ['rmse_augmented', 15760.036040567928],\n",
              " ['rmse_concat3', 14400.39666120347],\n",
              " ['rmse_concat3', 4590.359680896477]]"
            ]
          },
          "metadata": {},
          "execution_count": 89
        }
      ]
    },
    {
      "cell_type": "code",
      "source": [
        "plot(y_test, test_outputs, 'RMSE on 3 datasets')"
      ],
      "metadata": {
        "id": "QO6CfZ41VKwO"
      },
      "execution_count": null,
      "outputs": []
    },
    {
      "cell_type": "code",
      "source": [
        "y_test.numpy().flatten()"
      ],
      "metadata": {
        "id": "cWu5hG9Ckkvg"
      },
      "execution_count": null,
      "outputs": []
    },
    {
      "cell_type": "code",
      "source": [
        "test_outputs.numpy().flatten()"
      ],
      "metadata": {
        "id": "nwg9_rs3kOz6"
      },
      "execution_count": null,
      "outputs": []
    },
    {
      "cell_type": "code",
      "source": [
        "# Данные для графика (fact_values и forecast_values должны быть определены заранее)\n",
        "indexes = test[y].index[:48]\n",
        "# Установка размера графика и стиля\n",
        "plt.figure(figsize=(8, 4))\n",
        "sns.set_style(\"ticks\", {'axes.grid': True})\n",
        "\n",
        "# Создание столбчатой диаграммы для фактических значений\n",
        "fact_plot = sns.barplot(x = indexes,\n",
        "                        y=fact_values,\n",
        "                        color='#ade2f6',\n",
        "                        alpha=0.9,\n",
        "                        label='Факт')\n",
        "\n",
        "# Создание столбчатой диаграммы для прогнозов\n",
        "forecast_plot = sns.barplot(\n",
        "    x=indexes,\n",
        "    y=forecast_values,\n",
        "    color='#fec000',\n",
        "    alpha=0.7,\n",
        "    label='Прогноз')\n",
        "\n",
        "# Установка ширины столбцов и их позиции\n",
        "bar_width = 0.4\n",
        "\n",
        "for bar in fact_plot.patches + forecast_plot.patches:\n",
        "    bar.set_width(bar_width)\n",
        "    x = bar.get_x()\n",
        "    bar.set_x(x + bar_width / 2)\n",
        "\n",
        "# Установка подписей осей и заголовка\n",
        "plt.xlabel(\"Номер звезды в таблице данных\", fontweight='bold')\n",
        "plt.ylabel(\"Температура звезды\", fontweight='bold')\n",
        "plt.title(\"Температура звезд\")\n",
        "plt.xticks(rotation=85)\n",
        "plt.yscale('log')\n",
        "# Создание и настройка легенды\n",
        "handles, labels = plt.gca().get_legend_handles_labels()\n",
        "handles.reverse()\n",
        "labels.reverse()\n",
        "plt.legend(handles,\n",
        "           labels,\n",
        "           bbox_to_anchor=(0.5, -0.25),\n",
        "           loc='upper center',\n",
        "           ncol=2)\n",
        "\n",
        "# Отображение графика\n",
        "plt.show()\n"
      ],
      "metadata": {
        "id": "x-v1uPLkAHnE"
      },
      "execution_count": null,
      "outputs": []
    },
    {
      "cell_type": "markdown",
      "source": [
        "### Подбор гиперпараметров сети"
      ],
      "metadata": {
        "id": "i6i8yzzkIh-L"
      }
    },
    {
      "cell_type": "markdown",
      "source": [],
      "metadata": {
        "id": "V3nN06WJs-9X"
      }
    },
    {
      "cell_type": "code",
      "source": [
        "input_neurons = X_train.shape[1]\n",
        "hidden_neurons = 300\n",
        "output_neurons = 1\n",
        "\n",
        "model = RegressionModel(input_neurons,\n",
        "                        hidden_neurons,\n",
        "                        output_neurons)\n",
        "\n",
        "loss = nn.MSELoss()\n",
        "\n",
        "optimizer = torch.optim.Adam(model.parameters(), lr=0.001)"
      ],
      "metadata": {
        "id": "vwhVaP1eKM17"
      },
      "execution_count": null,
      "outputs": []
    },
    {
      "cell_type": "code",
      "source": [
        "num_epochs = 10000\n",
        "for epoch in range(num_epochs):\n",
        "\n",
        "    outputs = model(X_train)\n",
        "\n",
        "    # Вычисление потерь\n",
        "    loss_train = loss(outputs, y_train)\n",
        "\n",
        "    optimizer.zero_grad()\n",
        "    loss_train.backward()\n",
        "    optimizer.step()\n",
        "\n",
        "    if (epoch + 1) % 1000 == 0:\n",
        "        print(f'Epoch [{epoch + 1}/{num_epochs}], Loss: {loss_train.item()}')\n",
        "\n",
        "model.eval()  # Перевести модель в режим оценки\n",
        "\n",
        "with torch.no_grad():\n",
        "    test_outputs = model(X_test)\n",
        "    test_loss = loss(test_outputs, y_test)\n",
        "\n",
        "print(f'Test Loss: {np.sqrt(test_loss.item())}')"
      ],
      "metadata": {
        "id": "0iSPKd24TG71",
        "colab": {
          "base_uri": "https://localhost:8080/"
        },
        "outputId": "6a994799-9c6b-437c-f90a-fd9ea29eab82"
      },
      "execution_count": null,
      "outputs": [
        {
          "output_type": "stream",
          "name": "stdout",
          "text": [
            "Epoch [1000/10000], Loss: 195898144.0\n",
            "Epoch [2000/10000], Loss: 195857664.0\n",
            "Epoch [3000/10000], Loss: 195817552.0\n",
            "Epoch [4000/10000], Loss: 195778528.0\n",
            "Epoch [5000/10000], Loss: 195738560.0\n",
            "Epoch [6000/10000], Loss: 195699104.0\n",
            "Epoch [7000/10000], Loss: 195660192.0\n",
            "Epoch [8000/10000], Loss: 195620160.0\n",
            "Epoch [9000/10000], Loss: 195580752.0\n",
            "Epoch [10000/10000], Loss: 195542448.0\n",
            "Test Loss: 15741.83165962589\n"
          ]
        }
      ]
    },
    {
      "cell_type": "code",
      "source": [
        "rmse_batchnorm = np.sqrt(test_loss.item())\n",
        "result.append(['rmse_batchnorm', rmse_batchnorm])\n",
        "result"
      ],
      "metadata": {
        "id": "dp_s0gQPKXRF",
        "colab": {
          "base_uri": "https://localhost:8080/"
        },
        "outputId": "e935a28f-c7cc-4694-d9ed-cafc0c5fac7d"
      },
      "execution_count": null,
      "outputs": [
        {
          "output_type": "execute_result",
          "data": {
            "text/plain": [
              "[['rmse_baseline', tensor(6463.2998)], ['rmse_batchnorm', 15741.83165962589]]"
            ]
          },
          "metadata": {},
          "execution_count": 145
        }
      ]
    },
    {
      "cell_type": "code",
      "source": [
        "\n"
      ],
      "metadata": {
        "id": "1TYXEKIktIPg"
      },
      "execution_count": null,
      "outputs": []
    },
    {
      "cell_type": "code",
      "source": [
        "input_neurons = X_train.shape[1]\n",
        "hidden_neurons = 300\n",
        "output_neurons = 1\n",
        "\n",
        "model = RegressionModel(input_neurons,\n",
        "                        hidden_neurons,\n",
        "                        output_neurons)\n",
        "\n",
        "loss = nn.MSELoss()\n",
        "\n",
        "optimizer = torch.optim.Adam(model.parameters(), lr=0.001)"
      ],
      "metadata": {
        "id": "KmmOSdRvFV98"
      },
      "execution_count": null,
      "outputs": []
    },
    {
      "cell_type": "code",
      "source": [
        "num_epochs = 10000\n",
        "for epoch in range(num_epochs):\n",
        "\n",
        "    outputs = model(X_train)\n",
        "\n",
        "    # Вычисление потерь\n",
        "    loss_train = loss(outputs, y_train)\n",
        "\n",
        "    optimizer.zero_grad()\n",
        "    loss_train.backward()\n",
        "    optimizer.step()\n",
        "\n",
        "    if (epoch + 1) % 1000 == 0:\n",
        "        print(f'Epoch [{epoch + 1}/{num_epochs}], Loss: {loss_train.item()}')\n",
        "\n",
        "model.eval()\n",
        "\n",
        "with torch.no_grad():\n",
        "    test_outputs = model(X_test)\n",
        "    test_loss = loss(test_outputs, y_test)\n",
        "\n",
        "print(f'Test Loss: {np.sqrt(test_loss.item())}')"
      ],
      "metadata": {
        "id": "zsogZ3v6tISG",
        "colab": {
          "base_uri": "https://localhost:8080/"
        },
        "outputId": "ecffcffa-c506-4273-d9c6-6f4828f6f680"
      },
      "execution_count": null,
      "outputs": [
        {
          "output_type": "stream",
          "name": "stdout",
          "text": [
            "Epoch [1000/10000], Loss: 167140272.0\n",
            "Epoch [2000/10000], Loss: 139050128.0\n",
            "Epoch [3000/10000], Loss: 114954072.0\n",
            "Epoch [4000/10000], Loss: 139619392.0\n",
            "Epoch [5000/10000], Loss: 129771480.0\n",
            "Epoch [6000/10000], Loss: 136221776.0\n",
            "Epoch [7000/10000], Loss: 89596176.0\n",
            "Epoch [8000/10000], Loss: 136620112.0\n",
            "Epoch [9000/10000], Loss: 108627144.0\n",
            "Epoch [10000/10000], Loss: 121085152.0\n",
            "Test Loss: 9897.521710003975\n"
          ]
        }
      ]
    },
    {
      "cell_type": "code",
      "source": [
        "rmse_dropout = np.sqrt(test_loss.item())\n",
        "result.append(['rmse_dropout', rmse_dropout])\n",
        "result"
      ],
      "metadata": {
        "id": "BGcTSZsUtIU3"
      },
      "execution_count": null,
      "outputs": []
    },
    {
      "cell_type": "code",
      "source": [
        "def fit(model, X_train, y_train, X_test, y_test, num_epochs=10000, print_every=1000):\n",
        "    optimizer = torch.optim.Adam(model.parameters())\n",
        "    loss = torch.nn.MSELoss()\n",
        "\n",
        "    for epoch in range(num_epochs):\n",
        "        outputs = model(X_train)\n",
        "\n",
        "        # Вычисление потерь\n",
        "        loss_train = loss(outputs, y_train)\n",
        "\n",
        "        optimizer.zero_grad()\n",
        "        loss_train.backward()\n",
        "        optimizer.step()\n",
        "\n",
        "        if (epoch + 1) % print_every == 0:\n",
        "            print(f'Epoch [{epoch + 1}/{num_epochs}], Loss: {loss_train.item()}')\n",
        "\n",
        "    model.eval()  # Перевести модель в режим оценки\n",
        "\n",
        "    with torch.no_grad():\n",
        "        test_outputs = model(X_test)\n",
        "        test_loss = loss(test_outputs, y_test)\n",
        "\n",
        "    print(f'Test Loss: {np.sqrt(test_loss.item())}')\n"
      ],
      "metadata": {
        "id": "vHwNez7jKOYC"
      },
      "execution_count": null,
      "outputs": []
    },
    {
      "cell_type": "code",
      "source": [
        "dropout_values = [0.1, 0.3, 0.5]\n",
        "batch_sizes = [32, 64, 128]\n",
        "\n",
        "input_neurons = X_train.shape[1]\n",
        "hidden_neurons = 300\n",
        "output_neurons = 1\n",
        "\n",
        "best_rmse = float('inf')\n",
        "best_model = None\n",
        "best_dropout = None\n",
        "best_batch_size = None\n",
        "\n",
        "num_epochs = 10000\n",
        "\n",
        "# Определение функции потерь и оптимизатора\n",
        "loss = torch.nn.MSELoss()\n",
        "optimizer = torch.optim.Adam\n",
        "\n",
        "for dropout in dropout_values:\n",
        "    for batch_size in batch_sizes:\n",
        "        # Создание и обучение модели\n",
        "        model = RegressionModel(input_neurons, hidden_neurons, output_neurons)\n",
        "        optimizer_instance = optimizer(model.parameters())\n",
        "\n",
        "        for epoch in range(num_epochs):\n",
        "            outputs = model(X_train)\n",
        "            loss_train = loss(outputs, y_train)\n",
        "\n",
        "            optimizer_instance.zero_grad()\n",
        "            loss_train.backward()\n",
        "            optimizer_instance.step()\n",
        "\n",
        "            if (epoch + 1) % 1000 == 0:\n",
        "                print(f'Epoch [{epoch + 1}/{num_epochs}], Loss: {loss_train.item()}')\n",
        "\n",
        "        # Оценка модели на тестовых данных\n",
        "        with torch.no_grad():\n",
        "            test_outputs = model(X_test)\n",
        "            test_loss = loss(test_outputs, y_test)\n",
        "\n",
        "        # Оценка RMSE на тестовых данных\n",
        "        rmse = np.sqrt(test_loss.item())\n",
        "\n",
        "        # Сравнение RMSE с лучшим результатом\n",
        "        if rmse < best_rmse:\n",
        "            best_rmse = rmse\n",
        "            best_model = model\n",
        "            best_dropout = dropout\n",
        "            best_batch_size = batch_size\n",
        "\n",
        "# Вывод результатов\n",
        "print(f\"Лучший RMSE: {best_rmse}\")\n",
        "print(f\"Лучшие параметры: Dropout = {best_dropout}, Batch Size = {best_batch_size}\")\n"
      ],
      "metadata": {
        "id": "w_9cmWA6tIXn"
      },
      "execution_count": null,
      "outputs": []
    },
    {
      "cell_type": "code",
      "source": [
        "# Вывод результатов\n",
        "print(f\"Лучший RMSE: {best_rmse}\")\n",
        "print(f\"Лучшие параметры: Dropout = {best_dropout}, Batch Size = {best_batch_size}\")\n"
      ],
      "metadata": {
        "id": "9HB09qL5JQTE"
      },
      "execution_count": null,
      "outputs": []
    },
    {
      "cell_type": "code",
      "source": [
        "rmse_dropout_batch_size = best_rmse\n",
        "result.append(['rmse_concat3', rmse_dropout_batch_size])\n",
        "result"
      ],
      "metadata": {
        "id": "PxUthZjuNSTv"
      },
      "execution_count": null,
      "outputs": []
    },
    {
      "cell_type": "code",
      "source": [],
      "metadata": {
        "id": "XLzMoJj6O0dq"
      },
      "execution_count": null,
      "outputs": []
    }
  ]
}