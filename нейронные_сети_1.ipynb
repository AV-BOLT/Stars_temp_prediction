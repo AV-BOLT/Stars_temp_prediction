{
  "nbformat": 4,
  "nbformat_minor": 0,
  "metadata": {
    "colab": {
      "provenance": [],
      "toc_visible": true,
      "mount_file_id": "1abbcXNhpNnyVazrDEZYDYeFLe_U42j_S",
      "authorship_tag": "ABX9TyOwBhqvzNXspjPwT7R1S8ed",
      "include_colab_link": true
    },
    "kernelspec": {
      "name": "python3",
      "display_name": "Python 3"
    },
    "language_info": {
      "name": "python"
    }
  },
  "cells": [
    {
      "cell_type": "markdown",
      "metadata": {
        "id": "view-in-github",
        "colab_type": "text"
      },
      "source": [
        "<a href=\"https://colab.research.google.com/github/AV-BOLT/Stars_temp_prediction/blob/master/%D0%BD%D0%B5%D0%B9%D1%80%D0%BE%D0%BD%D0%BD%D1%8B%D0%B5_%D1%81%D0%B5%D1%82%D0%B8_1.ipynb\" target=\"_parent\"><img src=\"https://colab.research.google.com/assets/colab-badge.svg\" alt=\"Open In Colab\"/></a>"
      ]
    },
    {
      "cell_type": "markdown",
      "source": [
        "# Прогнозирование температуры звезды"
      ],
      "metadata": {
        "id": "fFvQqQ8-PfPB"
      }
    },
    {
      "cell_type": "markdown",
      "source": [
        "Целевой признак - Temperature (K)"
      ],
      "metadata": {
        "id": "-ECx77jSPkKn"
      }
    },
    {
      "cell_type": "markdown",
      "source": [
        "## Загрузка данных и библиотек"
      ],
      "metadata": {
        "id": "U-JMnwGlDpxi"
      }
    },
    {
      "cell_type": "code",
      "source": [
        "import pandas as pd\n",
        "import re\n",
        "import torch.nn as nn\n",
        "import torch\n",
        "import numpy as np\n",
        "import random\n",
        "import seaborn as sns\n",
        "import matplotlib.pyplot as plt\n",
        "\n",
        "from math import ceil\n",
        "from sklearn.preprocessing import StandardScaler\n",
        "from sklearn.model_selection import train_test_split\n",
        "from sklearn.compose import ColumnTransformer\n",
        "from sklearn.feature_extraction.text import CountVectorizer\n",
        "from sklearn.preprocessing import OneHotEncoder"
      ],
      "metadata": {
        "id": "zE9Uk2hFDDcP"
      },
      "execution_count": 465,
      "outputs": []
    },
    {
      "cell_type": "code",
      "source": [],
      "metadata": {
        "id": "wVtJ2BJ2PDRT"
      },
      "execution_count": 465,
      "outputs": []
    },
    {
      "cell_type": "code",
      "source": [
        "data = pd.read_csv('/content/drive/MyDrive/Projects_YP/нейронные сети 1 проект/6_class.csv')\n",
        "data.head()"
      ],
      "metadata": {
        "colab": {
          "base_uri": "https://localhost:8080/",
          "height": 224
        },
        "id": "45G1MEBsDGI5",
        "outputId": "bf08f929-a459-4cbe-e7ee-81ba2f5d47f0"
      },
      "execution_count": 466,
      "outputs": [
        {
          "output_type": "execute_result",
          "data": {
            "text/plain": [
              "   Unnamed: 0  Temperature (K)  Luminosity(L/Lo)  Radius(R/Ro)  \\\n",
              "0           0             3068          0.002400        0.1700   \n",
              "1           1             3042          0.000500        0.1542   \n",
              "2           2             2600          0.000300        0.1020   \n",
              "3           3             2800          0.000200        0.1600   \n",
              "4           4             1939          0.000138        0.1030   \n",
              "\n",
              "   Absolute magnitude(Mv)  Star type Star color  \n",
              "0                   16.12          0        Red  \n",
              "1                   16.60          0        Red  \n",
              "2                   18.70          0        Red  \n",
              "3                   16.65          0        Red  \n",
              "4                   20.06          0        Red  "
            ],
            "text/html": [
              "\n",
              "  <div id=\"df-1ae28482-aa2c-419d-ad3f-c97d961edb5d\" class=\"colab-df-container\">\n",
              "    <div>\n",
              "<style scoped>\n",
              "    .dataframe tbody tr th:only-of-type {\n",
              "        vertical-align: middle;\n",
              "    }\n",
              "\n",
              "    .dataframe tbody tr th {\n",
              "        vertical-align: top;\n",
              "    }\n",
              "\n",
              "    .dataframe thead th {\n",
              "        text-align: right;\n",
              "    }\n",
              "</style>\n",
              "<table border=\"1\" class=\"dataframe\">\n",
              "  <thead>\n",
              "    <tr style=\"text-align: right;\">\n",
              "      <th></th>\n",
              "      <th>Unnamed: 0</th>\n",
              "      <th>Temperature (K)</th>\n",
              "      <th>Luminosity(L/Lo)</th>\n",
              "      <th>Radius(R/Ro)</th>\n",
              "      <th>Absolute magnitude(Mv)</th>\n",
              "      <th>Star type</th>\n",
              "      <th>Star color</th>\n",
              "    </tr>\n",
              "  </thead>\n",
              "  <tbody>\n",
              "    <tr>\n",
              "      <th>0</th>\n",
              "      <td>0</td>\n",
              "      <td>3068</td>\n",
              "      <td>0.002400</td>\n",
              "      <td>0.1700</td>\n",
              "      <td>16.12</td>\n",
              "      <td>0</td>\n",
              "      <td>Red</td>\n",
              "    </tr>\n",
              "    <tr>\n",
              "      <th>1</th>\n",
              "      <td>1</td>\n",
              "      <td>3042</td>\n",
              "      <td>0.000500</td>\n",
              "      <td>0.1542</td>\n",
              "      <td>16.60</td>\n",
              "      <td>0</td>\n",
              "      <td>Red</td>\n",
              "    </tr>\n",
              "    <tr>\n",
              "      <th>2</th>\n",
              "      <td>2</td>\n",
              "      <td>2600</td>\n",
              "      <td>0.000300</td>\n",
              "      <td>0.1020</td>\n",
              "      <td>18.70</td>\n",
              "      <td>0</td>\n",
              "      <td>Red</td>\n",
              "    </tr>\n",
              "    <tr>\n",
              "      <th>3</th>\n",
              "      <td>3</td>\n",
              "      <td>2800</td>\n",
              "      <td>0.000200</td>\n",
              "      <td>0.1600</td>\n",
              "      <td>16.65</td>\n",
              "      <td>0</td>\n",
              "      <td>Red</td>\n",
              "    </tr>\n",
              "    <tr>\n",
              "      <th>4</th>\n",
              "      <td>4</td>\n",
              "      <td>1939</td>\n",
              "      <td>0.000138</td>\n",
              "      <td>0.1030</td>\n",
              "      <td>20.06</td>\n",
              "      <td>0</td>\n",
              "      <td>Red</td>\n",
              "    </tr>\n",
              "  </tbody>\n",
              "</table>\n",
              "</div>\n",
              "    <div class=\"colab-df-buttons\">\n",
              "\n",
              "  <div class=\"colab-df-container\">\n",
              "    <button class=\"colab-df-convert\" onclick=\"convertToInteractive('df-1ae28482-aa2c-419d-ad3f-c97d961edb5d')\"\n",
              "            title=\"Convert this dataframe to an interactive table.\"\n",
              "            style=\"display:none;\">\n",
              "\n",
              "  <svg xmlns=\"http://www.w3.org/2000/svg\" height=\"24px\" viewBox=\"0 -960 960 960\">\n",
              "    <path d=\"M120-120v-720h720v720H120Zm60-500h600v-160H180v160Zm220 220h160v-160H400v160Zm0 220h160v-160H400v160ZM180-400h160v-160H180v160Zm440 0h160v-160H620v160ZM180-180h160v-160H180v160Zm440 0h160v-160H620v160Z\"/>\n",
              "  </svg>\n",
              "    </button>\n",
              "\n",
              "  <style>\n",
              "    .colab-df-container {\n",
              "      display:flex;\n",
              "      gap: 12px;\n",
              "    }\n",
              "\n",
              "    .colab-df-convert {\n",
              "      background-color: #E8F0FE;\n",
              "      border: none;\n",
              "      border-radius: 50%;\n",
              "      cursor: pointer;\n",
              "      display: none;\n",
              "      fill: #1967D2;\n",
              "      height: 32px;\n",
              "      padding: 0 0 0 0;\n",
              "      width: 32px;\n",
              "    }\n",
              "\n",
              "    .colab-df-convert:hover {\n",
              "      background-color: #E2EBFA;\n",
              "      box-shadow: 0px 1px 2px rgba(60, 64, 67, 0.3), 0px 1px 3px 1px rgba(60, 64, 67, 0.15);\n",
              "      fill: #174EA6;\n",
              "    }\n",
              "\n",
              "    .colab-df-buttons div {\n",
              "      margin-bottom: 4px;\n",
              "    }\n",
              "\n",
              "    [theme=dark] .colab-df-convert {\n",
              "      background-color: #3B4455;\n",
              "      fill: #D2E3FC;\n",
              "    }\n",
              "\n",
              "    [theme=dark] .colab-df-convert:hover {\n",
              "      background-color: #434B5C;\n",
              "      box-shadow: 0px 1px 3px 1px rgba(0, 0, 0, 0.15);\n",
              "      filter: drop-shadow(0px 1px 2px rgba(0, 0, 0, 0.3));\n",
              "      fill: #FFFFFF;\n",
              "    }\n",
              "  </style>\n",
              "\n",
              "    <script>\n",
              "      const buttonEl =\n",
              "        document.querySelector('#df-1ae28482-aa2c-419d-ad3f-c97d961edb5d button.colab-df-convert');\n",
              "      buttonEl.style.display =\n",
              "        google.colab.kernel.accessAllowed ? 'block' : 'none';\n",
              "\n",
              "      async function convertToInteractive(key) {\n",
              "        const element = document.querySelector('#df-1ae28482-aa2c-419d-ad3f-c97d961edb5d');\n",
              "        const dataTable =\n",
              "          await google.colab.kernel.invokeFunction('convertToInteractive',\n",
              "                                                    [key], {});\n",
              "        if (!dataTable) return;\n",
              "\n",
              "        const docLinkHtml = 'Like what you see? Visit the ' +\n",
              "          '<a target=\"_blank\" href=https://colab.research.google.com/notebooks/data_table.ipynb>data table notebook</a>'\n",
              "          + ' to learn more about interactive tables.';\n",
              "        element.innerHTML = '';\n",
              "        dataTable['output_type'] = 'display_data';\n",
              "        await google.colab.output.renderOutput(dataTable, element);\n",
              "        const docLink = document.createElement('div');\n",
              "        docLink.innerHTML = docLinkHtml;\n",
              "        element.appendChild(docLink);\n",
              "      }\n",
              "    </script>\n",
              "  </div>\n",
              "\n",
              "\n",
              "<div id=\"df-27655935-49f5-4bf6-bc78-2f15ce110008\">\n",
              "  <button class=\"colab-df-quickchart\" onclick=\"quickchart('df-27655935-49f5-4bf6-bc78-2f15ce110008')\"\n",
              "            title=\"Suggest charts.\"\n",
              "            style=\"display:none;\">\n",
              "\n",
              "<svg xmlns=\"http://www.w3.org/2000/svg\" height=\"24px\"viewBox=\"0 0 24 24\"\n",
              "     width=\"24px\">\n",
              "    <g>\n",
              "        <path d=\"M19 3H5c-1.1 0-2 .9-2 2v14c0 1.1.9 2 2 2h14c1.1 0 2-.9 2-2V5c0-1.1-.9-2-2-2zM9 17H7v-7h2v7zm4 0h-2V7h2v10zm4 0h-2v-4h2v4z\"/>\n",
              "    </g>\n",
              "</svg>\n",
              "  </button>\n",
              "\n",
              "<style>\n",
              "  .colab-df-quickchart {\n",
              "      --bg-color: #E8F0FE;\n",
              "      --fill-color: #1967D2;\n",
              "      --hover-bg-color: #E2EBFA;\n",
              "      --hover-fill-color: #174EA6;\n",
              "      --disabled-fill-color: #AAA;\n",
              "      --disabled-bg-color: #DDD;\n",
              "  }\n",
              "\n",
              "  [theme=dark] .colab-df-quickchart {\n",
              "      --bg-color: #3B4455;\n",
              "      --fill-color: #D2E3FC;\n",
              "      --hover-bg-color: #434B5C;\n",
              "      --hover-fill-color: #FFFFFF;\n",
              "      --disabled-bg-color: #3B4455;\n",
              "      --disabled-fill-color: #666;\n",
              "  }\n",
              "\n",
              "  .colab-df-quickchart {\n",
              "    background-color: var(--bg-color);\n",
              "    border: none;\n",
              "    border-radius: 50%;\n",
              "    cursor: pointer;\n",
              "    display: none;\n",
              "    fill: var(--fill-color);\n",
              "    height: 32px;\n",
              "    padding: 0;\n",
              "    width: 32px;\n",
              "  }\n",
              "\n",
              "  .colab-df-quickchart:hover {\n",
              "    background-color: var(--hover-bg-color);\n",
              "    box-shadow: 0 1px 2px rgba(60, 64, 67, 0.3), 0 1px 3px 1px rgba(60, 64, 67, 0.15);\n",
              "    fill: var(--button-hover-fill-color);\n",
              "  }\n",
              "\n",
              "  .colab-df-quickchart-complete:disabled,\n",
              "  .colab-df-quickchart-complete:disabled:hover {\n",
              "    background-color: var(--disabled-bg-color);\n",
              "    fill: var(--disabled-fill-color);\n",
              "    box-shadow: none;\n",
              "  }\n",
              "\n",
              "  .colab-df-spinner {\n",
              "    border: 2px solid var(--fill-color);\n",
              "    border-color: transparent;\n",
              "    border-bottom-color: var(--fill-color);\n",
              "    animation:\n",
              "      spin 1s steps(1) infinite;\n",
              "  }\n",
              "\n",
              "  @keyframes spin {\n",
              "    0% {\n",
              "      border-color: transparent;\n",
              "      border-bottom-color: var(--fill-color);\n",
              "      border-left-color: var(--fill-color);\n",
              "    }\n",
              "    20% {\n",
              "      border-color: transparent;\n",
              "      border-left-color: var(--fill-color);\n",
              "      border-top-color: var(--fill-color);\n",
              "    }\n",
              "    30% {\n",
              "      border-color: transparent;\n",
              "      border-left-color: var(--fill-color);\n",
              "      border-top-color: var(--fill-color);\n",
              "      border-right-color: var(--fill-color);\n",
              "    }\n",
              "    40% {\n",
              "      border-color: transparent;\n",
              "      border-right-color: var(--fill-color);\n",
              "      border-top-color: var(--fill-color);\n",
              "    }\n",
              "    60% {\n",
              "      border-color: transparent;\n",
              "      border-right-color: var(--fill-color);\n",
              "    }\n",
              "    80% {\n",
              "      border-color: transparent;\n",
              "      border-right-color: var(--fill-color);\n",
              "      border-bottom-color: var(--fill-color);\n",
              "    }\n",
              "    90% {\n",
              "      border-color: transparent;\n",
              "      border-bottom-color: var(--fill-color);\n",
              "    }\n",
              "  }\n",
              "</style>\n",
              "\n",
              "  <script>\n",
              "    async function quickchart(key) {\n",
              "      const quickchartButtonEl =\n",
              "        document.querySelector('#' + key + ' button');\n",
              "      quickchartButtonEl.disabled = true;  // To prevent multiple clicks.\n",
              "      quickchartButtonEl.classList.add('colab-df-spinner');\n",
              "      try {\n",
              "        const charts = await google.colab.kernel.invokeFunction(\n",
              "            'suggestCharts', [key], {});\n",
              "      } catch (error) {\n",
              "        console.error('Error during call to suggestCharts:', error);\n",
              "      }\n",
              "      quickchartButtonEl.classList.remove('colab-df-spinner');\n",
              "      quickchartButtonEl.classList.add('colab-df-quickchart-complete');\n",
              "    }\n",
              "    (() => {\n",
              "      let quickchartButtonEl =\n",
              "        document.querySelector('#df-27655935-49f5-4bf6-bc78-2f15ce110008 button');\n",
              "      quickchartButtonEl.style.display =\n",
              "        google.colab.kernel.accessAllowed ? 'block' : 'none';\n",
              "    })();\n",
              "  </script>\n",
              "</div>\n",
              "    </div>\n",
              "  </div>\n"
            ]
          },
          "metadata": {},
          "execution_count": 466
        }
      ]
    },
    {
      "cell_type": "code",
      "source": [
        "data.columns"
      ],
      "metadata": {
        "colab": {
          "base_uri": "https://localhost:8080/"
        },
        "id": "0kifZshaet_M",
        "outputId": "2248dcfc-3c57-474d-baa7-c923f5f79ff9"
      },
      "execution_count": 467,
      "outputs": [
        {
          "output_type": "execute_result",
          "data": {
            "text/plain": [
              "Index(['Unnamed: 0', 'Temperature (K)', 'Luminosity(L/Lo)', 'Radius(R/Ro)',\n",
              "       'Absolute magnitude(Mv)', 'Star type', 'Star color'],\n",
              "      dtype='object')"
            ]
          },
          "metadata": {},
          "execution_count": 467
        }
      ]
    },
    {
      "cell_type": "code",
      "source": [
        "data = data.drop('Unnamed: 0', axis = 1)\n",
        "data.columns"
      ],
      "metadata": {
        "colab": {
          "base_uri": "https://localhost:8080/"
        },
        "id": "veBGlqleRbAb",
        "outputId": "27d39717-2522-4550-e5c5-2f9ff6bb17f2"
      },
      "execution_count": 468,
      "outputs": [
        {
          "output_type": "execute_result",
          "data": {
            "text/plain": [
              "Index(['Temperature (K)', 'Luminosity(L/Lo)', 'Radius(R/Ro)',\n",
              "       'Absolute magnitude(Mv)', 'Star type', 'Star color'],\n",
              "      dtype='object')"
            ]
          },
          "metadata": {},
          "execution_count": 468
        }
      ]
    },
    {
      "cell_type": "code",
      "source": [
        "RANDOM_STATE = 42"
      ],
      "metadata": {
        "id": "03WQJNGreZCd"
      },
      "execution_count": 469,
      "outputs": []
    },
    {
      "cell_type": "code",
      "source": [
        "# Зададим константу для воспроизводимости результатов\n",
        "torch.manual_seed(RANDOM_STATE)"
      ],
      "metadata": {
        "colab": {
          "base_uri": "https://localhost:8080/"
        },
        "id": "gFVKus-fdRd8",
        "outputId": "5377ee66-6fcc-45b1-f961-c93509d6a9e1"
      },
      "execution_count": 470,
      "outputs": [
        {
          "output_type": "execute_result",
          "data": {
            "text/plain": [
              "<torch._C.Generator at 0x793a48504e70>"
            ]
          },
          "metadata": {},
          "execution_count": 470
        }
      ]
    },
    {
      "cell_type": "code",
      "source": [
        "np.random.seed(RANDOM_STATE)"
      ],
      "metadata": {
        "id": "7Kq-nBnPqtFx"
      },
      "execution_count": 471,
      "outputs": []
    },
    {
      "cell_type": "code",
      "source": [
        "# переименуем признаки\n",
        "data.columns = ['temperature',\n",
        "                'luminosity',\n",
        "                'radius',\n",
        "                'magnitude',\n",
        "                'star_type',\n",
        "                'star_color']"
      ],
      "metadata": {
        "id": "dtRfHWeg5eQg"
      },
      "execution_count": 472,
      "outputs": []
    },
    {
      "cell_type": "code",
      "source": [
        "data.columns"
      ],
      "metadata": {
        "colab": {
          "base_uri": "https://localhost:8080/"
        },
        "id": "AKqIiAiB5jxG",
        "outputId": "b99e4c20-9d0f-4b91-ef8d-e3b2c2a1d56b"
      },
      "execution_count": 473,
      "outputs": [
        {
          "output_type": "execute_result",
          "data": {
            "text/plain": [
              "Index(['temperature', 'luminosity', 'radius', 'magnitude', 'star_type',\n",
              "       'star_color'],\n",
              "      dtype='object')"
            ]
          },
          "metadata": {},
          "execution_count": 473
        }
      ]
    },
    {
      "cell_type": "markdown",
      "source": [
        "## Исследовательский анализ"
      ],
      "metadata": {
        "id": "5Rw6sLvFFQlq"
      }
    },
    {
      "cell_type": "markdown",
      "source": [
        "Проверим данные на типы данных и пропущенные значения."
      ],
      "metadata": {
        "id": "jZw8hd02FbJP"
      }
    },
    {
      "cell_type": "code",
      "source": [
        "data.shape"
      ],
      "metadata": {
        "colab": {
          "base_uri": "https://localhost:8080/"
        },
        "id": "jg6X_UUZb1_y",
        "outputId": "094f9c32-553c-4338-ba42-a585c3e4ee52"
      },
      "execution_count": 474,
      "outputs": [
        {
          "output_type": "execute_result",
          "data": {
            "text/plain": [
              "(240, 6)"
            ]
          },
          "metadata": {},
          "execution_count": 474
        }
      ]
    },
    {
      "cell_type": "code",
      "source": [
        "data.info()"
      ],
      "metadata": {
        "colab": {
          "base_uri": "https://localhost:8080/"
        },
        "id": "dQyimagjFPxN",
        "outputId": "2230378d-34c8-4547-a66c-3c22272d6f7f"
      },
      "execution_count": 475,
      "outputs": [
        {
          "output_type": "stream",
          "name": "stdout",
          "text": [
            "<class 'pandas.core.frame.DataFrame'>\n",
            "RangeIndex: 240 entries, 0 to 239\n",
            "Data columns (total 6 columns):\n",
            " #   Column       Non-Null Count  Dtype  \n",
            "---  ------       --------------  -----  \n",
            " 0   temperature  240 non-null    int64  \n",
            " 1   luminosity   240 non-null    float64\n",
            " 2   radius       240 non-null    float64\n",
            " 3   magnitude    240 non-null    float64\n",
            " 4   star_type    240 non-null    int64  \n",
            " 5   star_color   240 non-null    object \n",
            "dtypes: float64(3), int64(2), object(1)\n",
            "memory usage: 11.4+ KB\n"
          ]
        }
      ]
    },
    {
      "cell_type": "markdown",
      "source": [
        "В данных отсутствуют пропущенные значения.\n",
        "\n",
        "Присутствуют числовые и один признак категориальный.\n",
        "\n",
        "\n"
      ],
      "metadata": {
        "id": "zIRghRkSFkuS"
      }
    },
    {
      "cell_type": "markdown",
      "source": [
        "Проанализируем категориальный признак"
      ],
      "metadata": {
        "id": "v8VL-iJ9Khla"
      }
    },
    {
      "cell_type": "code",
      "source": [
        "categorical = data.select_dtypes(include = 'object').columns.to_list()\n",
        "categorical"
      ],
      "metadata": {
        "colab": {
          "base_uri": "https://localhost:8080/"
        },
        "id": "OQR8ZHNm6Xnx",
        "outputId": "e6526cc9-e022-4c27-8b35-30cbd5779169"
      },
      "execution_count": 476,
      "outputs": [
        {
          "output_type": "execute_result",
          "data": {
            "text/plain": [
              "['star_color']"
            ]
          },
          "metadata": {},
          "execution_count": 476
        }
      ]
    },
    {
      "cell_type": "markdown",
      "source": [
        "В признаке имеются неявные дубликаты.\n",
        "Необходимо:\n",
        "- привести к строчному регистру\n",
        "- заменить \"-\" на \"_\"\n",
        "- удалить пробелы"
      ],
      "metadata": {
        "id": "INRH6V4BKl5M"
      }
    },
    {
      "cell_type": "code",
      "source": [
        "def transform_values(df):\n",
        "\n",
        "   #удаляем пробелы в конце строк\n",
        "    df = df.applymap(lambda x: x.rstrip())\n",
        "     # заменяем пробелы на underscore\n",
        "\n",
        "    df = df.applymap(lambda x: x.replace(' ', '_') if isinstance(x, str) else x)\n",
        "\n",
        "    # заменяем дефис на underscore\n",
        "    df = df.applymap(lambda x: x.replace('-', '_') if isinstance(x, str) else x)\n",
        "\n",
        "    # добавляем underscore между словом и числом\n",
        "    df = df.applymap(lambda x: '_'.join(part for part in x.split() if not part.isdigit()) if isinstance(x, str) else x)\n",
        "\n",
        "    # приводим к строчному регистру\n",
        "    df = df.applymap(lambda x: x.lower() if isinstance(x, str) else x)\n",
        "\n",
        "    return df"
      ],
      "metadata": {
        "id": "_Gg1qtFKDQYK"
      },
      "execution_count": 477,
      "outputs": []
    },
    {
      "cell_type": "code",
      "source": [
        "data[categorical] = transform_values(data[categorical])\n",
        "data[categorical]"
      ],
      "metadata": {
        "colab": {
          "base_uri": "https://localhost:8080/",
          "height": 424
        },
        "id": "r6sYrSoQKfQG",
        "outputId": "860d8a75-dabd-4a14-ebc9-ab330860373c"
      },
      "execution_count": 478,
      "outputs": [
        {
          "output_type": "execute_result",
          "data": {
            "text/plain": [
              "    star_color\n",
              "0          red\n",
              "1          red\n",
              "2          red\n",
              "3          red\n",
              "4          red\n",
              "..         ...\n",
              "235       blue\n",
              "236       blue\n",
              "237      white\n",
              "238      white\n",
              "239       blue\n",
              "\n",
              "[240 rows x 1 columns]"
            ],
            "text/html": [
              "\n",
              "  <div id=\"df-8225832b-bd38-4351-9375-2e2b63156dae\" class=\"colab-df-container\">\n",
              "    <div>\n",
              "<style scoped>\n",
              "    .dataframe tbody tr th:only-of-type {\n",
              "        vertical-align: middle;\n",
              "    }\n",
              "\n",
              "    .dataframe tbody tr th {\n",
              "        vertical-align: top;\n",
              "    }\n",
              "\n",
              "    .dataframe thead th {\n",
              "        text-align: right;\n",
              "    }\n",
              "</style>\n",
              "<table border=\"1\" class=\"dataframe\">\n",
              "  <thead>\n",
              "    <tr style=\"text-align: right;\">\n",
              "      <th></th>\n",
              "      <th>star_color</th>\n",
              "    </tr>\n",
              "  </thead>\n",
              "  <tbody>\n",
              "    <tr>\n",
              "      <th>0</th>\n",
              "      <td>red</td>\n",
              "    </tr>\n",
              "    <tr>\n",
              "      <th>1</th>\n",
              "      <td>red</td>\n",
              "    </tr>\n",
              "    <tr>\n",
              "      <th>2</th>\n",
              "      <td>red</td>\n",
              "    </tr>\n",
              "    <tr>\n",
              "      <th>3</th>\n",
              "      <td>red</td>\n",
              "    </tr>\n",
              "    <tr>\n",
              "      <th>4</th>\n",
              "      <td>red</td>\n",
              "    </tr>\n",
              "    <tr>\n",
              "      <th>...</th>\n",
              "      <td>...</td>\n",
              "    </tr>\n",
              "    <tr>\n",
              "      <th>235</th>\n",
              "      <td>blue</td>\n",
              "    </tr>\n",
              "    <tr>\n",
              "      <th>236</th>\n",
              "      <td>blue</td>\n",
              "    </tr>\n",
              "    <tr>\n",
              "      <th>237</th>\n",
              "      <td>white</td>\n",
              "    </tr>\n",
              "    <tr>\n",
              "      <th>238</th>\n",
              "      <td>white</td>\n",
              "    </tr>\n",
              "    <tr>\n",
              "      <th>239</th>\n",
              "      <td>blue</td>\n",
              "    </tr>\n",
              "  </tbody>\n",
              "</table>\n",
              "<p>240 rows × 1 columns</p>\n",
              "</div>\n",
              "    <div class=\"colab-df-buttons\">\n",
              "\n",
              "  <div class=\"colab-df-container\">\n",
              "    <button class=\"colab-df-convert\" onclick=\"convertToInteractive('df-8225832b-bd38-4351-9375-2e2b63156dae')\"\n",
              "            title=\"Convert this dataframe to an interactive table.\"\n",
              "            style=\"display:none;\">\n",
              "\n",
              "  <svg xmlns=\"http://www.w3.org/2000/svg\" height=\"24px\" viewBox=\"0 -960 960 960\">\n",
              "    <path d=\"M120-120v-720h720v720H120Zm60-500h600v-160H180v160Zm220 220h160v-160H400v160Zm0 220h160v-160H400v160ZM180-400h160v-160H180v160Zm440 0h160v-160H620v160ZM180-180h160v-160H180v160Zm440 0h160v-160H620v160Z\"/>\n",
              "  </svg>\n",
              "    </button>\n",
              "\n",
              "  <style>\n",
              "    .colab-df-container {\n",
              "      display:flex;\n",
              "      gap: 12px;\n",
              "    }\n",
              "\n",
              "    .colab-df-convert {\n",
              "      background-color: #E8F0FE;\n",
              "      border: none;\n",
              "      border-radius: 50%;\n",
              "      cursor: pointer;\n",
              "      display: none;\n",
              "      fill: #1967D2;\n",
              "      height: 32px;\n",
              "      padding: 0 0 0 0;\n",
              "      width: 32px;\n",
              "    }\n",
              "\n",
              "    .colab-df-convert:hover {\n",
              "      background-color: #E2EBFA;\n",
              "      box-shadow: 0px 1px 2px rgba(60, 64, 67, 0.3), 0px 1px 3px 1px rgba(60, 64, 67, 0.15);\n",
              "      fill: #174EA6;\n",
              "    }\n",
              "\n",
              "    .colab-df-buttons div {\n",
              "      margin-bottom: 4px;\n",
              "    }\n",
              "\n",
              "    [theme=dark] .colab-df-convert {\n",
              "      background-color: #3B4455;\n",
              "      fill: #D2E3FC;\n",
              "    }\n",
              "\n",
              "    [theme=dark] .colab-df-convert:hover {\n",
              "      background-color: #434B5C;\n",
              "      box-shadow: 0px 1px 3px 1px rgba(0, 0, 0, 0.15);\n",
              "      filter: drop-shadow(0px 1px 2px rgba(0, 0, 0, 0.3));\n",
              "      fill: #FFFFFF;\n",
              "    }\n",
              "  </style>\n",
              "\n",
              "    <script>\n",
              "      const buttonEl =\n",
              "        document.querySelector('#df-8225832b-bd38-4351-9375-2e2b63156dae button.colab-df-convert');\n",
              "      buttonEl.style.display =\n",
              "        google.colab.kernel.accessAllowed ? 'block' : 'none';\n",
              "\n",
              "      async function convertToInteractive(key) {\n",
              "        const element = document.querySelector('#df-8225832b-bd38-4351-9375-2e2b63156dae');\n",
              "        const dataTable =\n",
              "          await google.colab.kernel.invokeFunction('convertToInteractive',\n",
              "                                                    [key], {});\n",
              "        if (!dataTable) return;\n",
              "\n",
              "        const docLinkHtml = 'Like what you see? Visit the ' +\n",
              "          '<a target=\"_blank\" href=https://colab.research.google.com/notebooks/data_table.ipynb>data table notebook</a>'\n",
              "          + ' to learn more about interactive tables.';\n",
              "        element.innerHTML = '';\n",
              "        dataTable['output_type'] = 'display_data';\n",
              "        await google.colab.output.renderOutput(dataTable, element);\n",
              "        const docLink = document.createElement('div');\n",
              "        docLink.innerHTML = docLinkHtml;\n",
              "        element.appendChild(docLink);\n",
              "      }\n",
              "    </script>\n",
              "  </div>\n",
              "\n",
              "\n",
              "<div id=\"df-2c6b13bb-95d5-4f99-b90d-2858774b68e7\">\n",
              "  <button class=\"colab-df-quickchart\" onclick=\"quickchart('df-2c6b13bb-95d5-4f99-b90d-2858774b68e7')\"\n",
              "            title=\"Suggest charts.\"\n",
              "            style=\"display:none;\">\n",
              "\n",
              "<svg xmlns=\"http://www.w3.org/2000/svg\" height=\"24px\"viewBox=\"0 0 24 24\"\n",
              "     width=\"24px\">\n",
              "    <g>\n",
              "        <path d=\"M19 3H5c-1.1 0-2 .9-2 2v14c0 1.1.9 2 2 2h14c1.1 0 2-.9 2-2V5c0-1.1-.9-2-2-2zM9 17H7v-7h2v7zm4 0h-2V7h2v10zm4 0h-2v-4h2v4z\"/>\n",
              "    </g>\n",
              "</svg>\n",
              "  </button>\n",
              "\n",
              "<style>\n",
              "  .colab-df-quickchart {\n",
              "      --bg-color: #E8F0FE;\n",
              "      --fill-color: #1967D2;\n",
              "      --hover-bg-color: #E2EBFA;\n",
              "      --hover-fill-color: #174EA6;\n",
              "      --disabled-fill-color: #AAA;\n",
              "      --disabled-bg-color: #DDD;\n",
              "  }\n",
              "\n",
              "  [theme=dark] .colab-df-quickchart {\n",
              "      --bg-color: #3B4455;\n",
              "      --fill-color: #D2E3FC;\n",
              "      --hover-bg-color: #434B5C;\n",
              "      --hover-fill-color: #FFFFFF;\n",
              "      --disabled-bg-color: #3B4455;\n",
              "      --disabled-fill-color: #666;\n",
              "  }\n",
              "\n",
              "  .colab-df-quickchart {\n",
              "    background-color: var(--bg-color);\n",
              "    border: none;\n",
              "    border-radius: 50%;\n",
              "    cursor: pointer;\n",
              "    display: none;\n",
              "    fill: var(--fill-color);\n",
              "    height: 32px;\n",
              "    padding: 0;\n",
              "    width: 32px;\n",
              "  }\n",
              "\n",
              "  .colab-df-quickchart:hover {\n",
              "    background-color: var(--hover-bg-color);\n",
              "    box-shadow: 0 1px 2px rgba(60, 64, 67, 0.3), 0 1px 3px 1px rgba(60, 64, 67, 0.15);\n",
              "    fill: var(--button-hover-fill-color);\n",
              "  }\n",
              "\n",
              "  .colab-df-quickchart-complete:disabled,\n",
              "  .colab-df-quickchart-complete:disabled:hover {\n",
              "    background-color: var(--disabled-bg-color);\n",
              "    fill: var(--disabled-fill-color);\n",
              "    box-shadow: none;\n",
              "  }\n",
              "\n",
              "  .colab-df-spinner {\n",
              "    border: 2px solid var(--fill-color);\n",
              "    border-color: transparent;\n",
              "    border-bottom-color: var(--fill-color);\n",
              "    animation:\n",
              "      spin 1s steps(1) infinite;\n",
              "  }\n",
              "\n",
              "  @keyframes spin {\n",
              "    0% {\n",
              "      border-color: transparent;\n",
              "      border-bottom-color: var(--fill-color);\n",
              "      border-left-color: var(--fill-color);\n",
              "    }\n",
              "    20% {\n",
              "      border-color: transparent;\n",
              "      border-left-color: var(--fill-color);\n",
              "      border-top-color: var(--fill-color);\n",
              "    }\n",
              "    30% {\n",
              "      border-color: transparent;\n",
              "      border-left-color: var(--fill-color);\n",
              "      border-top-color: var(--fill-color);\n",
              "      border-right-color: var(--fill-color);\n",
              "    }\n",
              "    40% {\n",
              "      border-color: transparent;\n",
              "      border-right-color: var(--fill-color);\n",
              "      border-top-color: var(--fill-color);\n",
              "    }\n",
              "    60% {\n",
              "      border-color: transparent;\n",
              "      border-right-color: var(--fill-color);\n",
              "    }\n",
              "    80% {\n",
              "      border-color: transparent;\n",
              "      border-right-color: var(--fill-color);\n",
              "      border-bottom-color: var(--fill-color);\n",
              "    }\n",
              "    90% {\n",
              "      border-color: transparent;\n",
              "      border-bottom-color: var(--fill-color);\n",
              "    }\n",
              "  }\n",
              "</style>\n",
              "\n",
              "  <script>\n",
              "    async function quickchart(key) {\n",
              "      const quickchartButtonEl =\n",
              "        document.querySelector('#' + key + ' button');\n",
              "      quickchartButtonEl.disabled = true;  // To prevent multiple clicks.\n",
              "      quickchartButtonEl.classList.add('colab-df-spinner');\n",
              "      try {\n",
              "        const charts = await google.colab.kernel.invokeFunction(\n",
              "            'suggestCharts', [key], {});\n",
              "      } catch (error) {\n",
              "        console.error('Error during call to suggestCharts:', error);\n",
              "      }\n",
              "      quickchartButtonEl.classList.remove('colab-df-spinner');\n",
              "      quickchartButtonEl.classList.add('colab-df-quickchart-complete');\n",
              "    }\n",
              "    (() => {\n",
              "      let quickchartButtonEl =\n",
              "        document.querySelector('#df-2c6b13bb-95d5-4f99-b90d-2858774b68e7 button');\n",
              "      quickchartButtonEl.style.display =\n",
              "        google.colab.kernel.accessAllowed ? 'block' : 'none';\n",
              "    })();\n",
              "  </script>\n",
              "</div>\n",
              "    </div>\n",
              "  </div>\n"
            ]
          },
          "metadata": {},
          "execution_count": 478
        }
      ]
    },
    {
      "cell_type": "code",
      "source": [
        "list(data['star_color'].sort_values().unique())"
      ],
      "metadata": {
        "colab": {
          "base_uri": "https://localhost:8080/"
        },
        "id": "dSoL5GUkR46L",
        "outputId": "4ac1d96a-b4ad-455d-d260-a70bc0094c2b"
      },
      "execution_count": 479,
      "outputs": [
        {
          "output_type": "execute_result",
          "data": {
            "text/plain": [
              "['blue',\n",
              " 'blue_white',\n",
              " 'orange',\n",
              " 'orange_red',\n",
              " 'pale_yellow_orange',\n",
              " 'red',\n",
              " 'white',\n",
              " 'white_yellow',\n",
              " 'whitish',\n",
              " 'yellow_white',\n",
              " 'yellowish',\n",
              " 'yellowish_white']"
            ]
          },
          "metadata": {},
          "execution_count": 479
        }
      ]
    },
    {
      "cell_type": "markdown",
      "source": [
        "Дубликаты удалены."
      ],
      "metadata": {
        "id": "XQW98j6wbJmZ"
      }
    },
    {
      "cell_type": "code",
      "source": [
        "data['star_color'].unique()"
      ],
      "metadata": {
        "colab": {
          "base_uri": "https://localhost:8080/"
        },
        "id": "Xm3zG_j1Uhnw",
        "outputId": "f2a24d07-2137-4c99-cfa5-ef57b212fb5e"
      },
      "execution_count": 480,
      "outputs": [
        {
          "output_type": "execute_result",
          "data": {
            "text/plain": [
              "array(['red', 'blue_white', 'white', 'yellowish_white',\n",
              "       'pale_yellow_orange', 'blue', 'whitish', 'yellow_white', 'orange',\n",
              "       'white_yellow', 'yellowish', 'orange_red'], dtype=object)"
            ]
          },
          "metadata": {},
          "execution_count": 480
        }
      ]
    },
    {
      "cell_type": "code",
      "source": [
        "data.dtypes"
      ],
      "metadata": {
        "colab": {
          "base_uri": "https://localhost:8080/"
        },
        "id": "NLevGGV7R5Dj",
        "outputId": "585538f0-0042-464e-d425-3d3baa288098"
      },
      "execution_count": 481,
      "outputs": [
        {
          "output_type": "execute_result",
          "data": {
            "text/plain": [
              "temperature      int64\n",
              "luminosity     float64\n",
              "radius         float64\n",
              "magnitude      float64\n",
              "star_type        int64\n",
              "star_color      object\n",
              "dtype: object"
            ]
          },
          "metadata": {},
          "execution_count": 481
        }
      ]
    },
    {
      "cell_type": "code",
      "source": [
        "data[['star_type','star_color' ]].value_counts(normalize = True)"
      ],
      "metadata": {
        "colab": {
          "base_uri": "https://localhost:8080/"
        },
        "id": "4Xnua66aPwKC",
        "outputId": "4f46c0f7-37fa-4fbc-ff52-fbf5b99faa4e"
      },
      "execution_count": 482,
      "outputs": [
        {
          "output_type": "execute_result",
          "data": {
            "text/plain": [
              "star_type  star_color        \n",
              "0          red                   0.166667\n",
              "1          red                   0.166667\n",
              "4          blue                  0.129167\n",
              "5          red                   0.095833\n",
              "3          blue_white            0.087500\n",
              "2          blue_white            0.058333\n",
              "           blue                  0.054167\n",
              "4          red                   0.037500\n",
              "2          white                 0.033333\n",
              "3          yellow_white          0.033333\n",
              "5          blue                  0.029167\n",
              "           blue_white            0.025000\n",
              "3          blue                  0.020833\n",
              "2          yellowish_white       0.012500\n",
              "3          yellowish             0.012500\n",
              "5          orange                0.008333\n",
              "           white                 0.008333\n",
              "3          whitish               0.008333\n",
              "2          white_yellow          0.004167\n",
              "           pale_yellow_orange    0.004167\n",
              "3          orange_red            0.004167\n",
              "dtype: float64"
            ]
          },
          "metadata": {},
          "execution_count": 482
        }
      ]
    },
    {
      "cell_type": "markdown",
      "source": [
        "## Анализ числовых признаков"
      ],
      "metadata": {
        "id": "c4WgOsD8bUtj"
      }
    },
    {
      "cell_type": "code",
      "source": [
        "numerical = data.select_dtypes(include = ('int', 'float', 'bool')).columns.to_list()"
      ],
      "metadata": {
        "id": "b21BjUHqVXot"
      },
      "execution_count": 483,
      "outputs": []
    },
    {
      "cell_type": "code",
      "source": [
        "numerical =['luminosity', 'radius', 'magnitude', 'star_type']"
      ],
      "metadata": {
        "id": "uTcAJxLYZtJk"
      },
      "execution_count": 484,
      "outputs": []
    },
    {
      "cell_type": "markdown",
      "source": [],
      "metadata": {
        "id": "Oi7egBLoeP7k"
      }
    },
    {
      "cell_type": "code",
      "source": [
        "data[numerical].hist(layout = (4,3),\n",
        "                     figsize=(15, 10));\n"
      ],
      "metadata": {
        "colab": {
          "base_uri": "https://localhost:8080/",
          "height": 319
        },
        "id": "to5DqlxGbrnl",
        "outputId": "eecc1ca6-268c-4f35-b2ca-3174f8fae8d9"
      },
      "execution_count": 485,
      "outputs": [
        {
          "output_type": "display_data",
          "data": {
            "text/plain": [
              "<Figure size 1500x1000 with 12 Axes>"
            ],
            "image/png": "[encoded data removed]"
          },
          "metadata": {}
        }
      ]
    },
    {
      "cell_type": "markdown",
      "source": [
        "Видим, что числовые значения имеют разный порядок, значит необходимо будет перед обучением подготовить признаки."
      ],
      "metadata": {
        "id": "BtXmCUrXh7Fc"
      }
    },
    {
      "cell_type": "markdown",
      "source": [
        "##Подготовка данных для модели"
      ],
      "metadata": {
        "id": "GErvN0WjyxfT"
      }
    },
    {
      "cell_type": "code",
      "source": [
        "result = []"
      ],
      "metadata": {
        "id": "DoTLq1th5JeP"
      },
      "execution_count": 486,
      "outputs": []
    },
    {
      "cell_type": "code",
      "source": [
        "# функция для построения графика для результатов\n",
        "def plot (y_test, test_outputs, name):\n",
        "\n",
        "    #name это (название модели)\n",
        "\n",
        "    fact_values = y_test.numpy().flatten()\n",
        "    forecast_values = test_outputs.numpy().flatten()\n",
        "\n",
        "    # в тестовом датасете 48 звезд, но дальше их может быть больше\n",
        "    # поэтому ограничим\n",
        "    indexes = test[y].index[:48]\n",
        "\n",
        "    plt.figure(figsize=(8, 4))\n",
        "    sns.set_style('ticks', {'axes.grid': True})\n",
        "\n",
        "    # Создание столбчатой диаграммы для фактических значений\n",
        "    fact_plot = sns.barplot(x = indexes,\n",
        "                            y = fact_values,\n",
        "                            color='blue',\n",
        "                            alpha=0.9,\n",
        "                            label='Факт')\n",
        "\n",
        "    # Создание столбчатой диаграммы для прогнозов\n",
        "    forecast_plot = sns.barplot(x=indexes,\n",
        "                                y = forecast_values,\n",
        "                                color='yellow',\n",
        "                                alpha=0.7,\n",
        "                                label='Прогноз')\n",
        "\n",
        "    # Установка ширины столбцов и их позиции\n",
        "    bar_width = 0.6\n",
        "\n",
        "    for bar in fact_plot.patches + forecast_plot.patches:\n",
        "        bar.set_width(bar_width)\n",
        "        x = bar.get_x()\n",
        "        bar.set_x(x + bar_width / 2)\n",
        "\n",
        "    # Установка подписей осей и заголовка\n",
        "    plt.xlabel('Номер звезды в таблице данных', fontweight='bold')\n",
        "\n",
        "    plt.ylabel('Температура звезды', fontweight='bold')\n",
        "\n",
        "    plt.title(f'{name}')\n",
        "\n",
        "    plt.xticks(rotation=85)\n",
        "\n",
        "    plt.yscale('log') # чтобы на графике можно\n",
        "                       # было увидеть значения разных порядков\n",
        "\n",
        "    # Создание и настройка легенды\n",
        "    handles, labels = plt.gca().get_legend_handles_labels()\n",
        "\n",
        "    handles.reverse()\n",
        "    labels.reverse()\n",
        "    plt.legend(handles,\n",
        "               labels,\n",
        "               bbox_to_anchor=(0.5, -0.25),\n",
        "               loc='upper center',\n",
        "               ncol=2)\n",
        "\n",
        "    return plt.show()"
      ],
      "metadata": {
        "id": "qvDeilyxMXuH"
      },
      "execution_count": 487,
      "outputs": []
    },
    {
      "cell_type": "code",
      "source": [
        "X = data.drop('temperature', axis = 1).columns.to_list()\n",
        "y = 'temperature'"
      ],
      "metadata": {
        "id": "CGblOVti5XJQ"
      },
      "execution_count": 488,
      "outputs": []
    },
    {
      "cell_type": "markdown",
      "source": [
        "### baseline_model"
      ],
      "metadata": {
        "id": "kQnGpjuJ3uCe"
      }
    },
    {
      "cell_type": "markdown",
      "source": [
        "В качестве baseline модели будем использовать нейронную сеть следующей архитектуры:\n",
        "\n",
        "|  Название параметра |кол-во|  \n",
        "|---------------|-|\n",
        "|Входной слой  (нейронов)|3|\n",
        "|Скрытые слои   |2|\n",
        "|Выходной слой  (нейронов)|1|\n",
        "|Функция активации\n",
        "в выходном слое |nn.ReLU() |"
      ],
      "metadata": {
        "id": "3UOaASX-36xB"
      }
    },
    {
      "cell_type": "code",
      "source": [
        "# неизменяемые параметры сети для всех моделей\n",
        "\n",
        "hidden_neurons = 300\n",
        "\n",
        "output_neurons = 1\n",
        "\n",
        "loss = nn.MSELoss()\n",
        "\n",
        "num_epochs = 10000"
      ],
      "metadata": {
        "id": "r8FNoAXkWxvJ"
      },
      "execution_count": 489,
      "outputs": []
    },
    {
      "cell_type": "code",
      "source": [
        "#преобразователь для признаков масштабирование и кодирование категориальных\n",
        "column_transformer = ColumnTransformer(transformers=[\n",
        "        ('encoder', OneHotEncoder(handle_unknown='ignore'), categorical),\n",
        "        ('scale', StandardScaler(), numerical)])"
      ],
      "metadata": {
        "id": "d_r3UpUuPSHn"
      },
      "execution_count": 490,
      "outputs": []
    },
    {
      "cell_type": "code",
      "source": [
        "class BaselineModel(nn.Module):\n",
        "    def __init__(self, input_neurons, hidden_neurons, output_neurons):\n",
        "        super(BaselineModel, self).__init__()\n",
        "        self.fc1 = nn.Linear(input_neurons, hidden_neurons)\n",
        "        self.act1 = nn.ReLU()\n",
        "        self.fc2 = nn.Linear(hidden_neurons, output_neurons)\n",
        "        self.act2 = nn.ReLU()\n",
        "\n",
        "        nn.init.xavier_uniform_(self.fc1.weight)\n",
        "        nn.init.constant_(self.fc1.bias, 0)\n",
        "        nn.init.xavier_uniform_(self.fc2.weight)\n",
        "        nn.init.constant_(self.fc2.bias, 0)\n",
        "\n",
        "    def forward(self, x):\n",
        "        x = self.fc1(x)\n",
        "        x = self.act1(x)\n",
        "        x = self.fc2(x)\n",
        "        x = self.act2(x)\n",
        "        return x\n"
      ],
      "metadata": {
        "id": "IdZHTsEfXaCV"
      },
      "execution_count": 491,
      "outputs": []
    },
    {
      "cell_type": "code",
      "source": [
        "#подготовим признаки для обучения\n",
        "train, valid = train_test_split(data,\n",
        "                                    test_size=0.4,\n",
        "                                    shuffle=True,\n",
        "                                    random_state=RANDOM_STATE)\n",
        "\n",
        "valid, test = train_test_split(valid,\n",
        "                               test_size=0.5,\n",
        "                               shuffle=True,\n",
        "                               random_state=RANDOM_STATE)\n",
        "\n",
        "print('Размер обучающей выборки',train.shape)\n",
        "print( )\n",
        "print('Размер валидационной выборки', valid.shape)\n",
        "print( )\n",
        "print('Размер тестовой выборки', test.shape)"
      ],
      "metadata": {
        "colab": {
          "base_uri": "https://localhost:8080/"
        },
        "id": "GPwnwThvGOPG",
        "outputId": "0ebaef54-230b-459e-ef4b-1465f0929669"
      },
      "execution_count": 492,
      "outputs": [
        {
          "output_type": "stream",
          "name": "stdout",
          "text": [
            "Размер обучающей выборки (144, 6)\n",
            "\n",
            "Размер валидационной выборки (48, 6)\n",
            "\n",
            "Размер тестовой выборки (48, 6)\n"
          ]
        }
      ]
    },
    {
      "cell_type": "code",
      "source": [
        "X_train = torch.Tensor(column_transformer.fit_transform(train[X]))\n",
        "X_valid = torch.Tensor(column_transformer.transform(valid[X]))\n",
        "X_test = torch.Tensor(column_transformer.transform(test[X]))\n",
        "\n",
        "y_train = torch.Tensor(train[y].values).reshape(-1, 1)\n",
        "y_valid = torch.Tensor(valid[y].values).reshape(-1, 1)\n",
        "y_test = torch.Tensor(test[y].values).reshape(-1, 1)\n",
        "\n",
        "print('Oбучающие признаки', X_train.size())\n",
        "print()\n",
        "print('Валидационные признаки', X_valid.size())\n",
        "print()\n",
        "print('Тестовые признаки', X_test.size())"
      ],
      "metadata": {
        "colab": {
          "base_uri": "https://localhost:8080/"
        },
        "id": "nL5CbOLnII5V",
        "outputId": "2f637385-5809-4c23-d2fd-fc5a0d96f46d"
      },
      "execution_count": 493,
      "outputs": [
        {
          "output_type": "stream",
          "name": "stdout",
          "text": [
            "Oбучающие признаки torch.Size([144, 14])\n",
            "\n",
            "Валидационные признаки torch.Size([48, 14])\n",
            "\n",
            "Тестовые признаки torch.Size([48, 14])\n"
          ]
        }
      ]
    },
    {
      "cell_type": "code",
      "source": [
        "input_neurons = X_train.shape[1]\n",
        "\n",
        "model = BaselineModel(input_neurons,\n",
        "                        hidden_neurons,\n",
        "                        output_neurons)\n",
        "\n",
        "optimizer = torch.optim.Adam(model.parameters(), lr=0.01)\n",
        "\n",
        "for epoch in range(num_epochs):\n",
        "\n",
        "        outputs = model(X_train)\n",
        "\n",
        "        loss_train = loss(outputs, y_train)\n",
        "\n",
        "        optimizer.zero_grad()\n",
        "\n",
        "        loss_train.backward()\n",
        "\n",
        "        optimizer.step()\n",
        "\n",
        "        if (epoch + 1) % 1000 == 0:\n",
        "          model.eval()  # Перевести модель в режим оценки\n",
        "          with torch.no_grad():\n",
        "              valid_outputs = model(X_valid)\n",
        "              valid_loss = loss(valid_outputs, y_valid)\n",
        "              print(f'Epoch [{epoch + 1}/{num_epochs}], Loss: {loss_train.item()}')\n",
        "print(f'Baseline Loss:  {np.sqrt(valid_loss)}')"
      ],
      "metadata": {
        "colab": {
          "base_uri": "https://localhost:8080/"
        },
        "id": "s_KqqeHiKrcU",
        "outputId": "4f6a1290-6449-4c2c-b45e-a23d1fe7fd1e"
      },
      "execution_count": 494,
      "outputs": [
        {
          "output_type": "stream",
          "name": "stdout",
          "text": [
            "Epoch [1000/10000], Loss: 21005686.0\n",
            "Epoch [2000/10000], Loss: 15802203.0\n",
            "Epoch [3000/10000], Loss: 14498485.0\n",
            "Epoch [4000/10000], Loss: 13144420.0\n",
            "Epoch [5000/10000], Loss: 11789995.0\n",
            "Epoch [6000/10000], Loss: 10875456.0\n",
            "Epoch [7000/10000], Loss: 9948285.0\n",
            "Epoch [8000/10000], Loss: 9178509.0\n",
            "Epoch [9000/10000], Loss: 8510856.0\n",
            "Epoch [10000/10000], Loss: 8092293.5\n",
            "Baseline Loss:  5117.5048828125\n"
          ]
        }
      ]
    },
    {
      "cell_type": "code",
      "source": [
        "rmse_baseline = np.sqrt(valid_loss.item())\n",
        "result.append(['rmse_baseline', rmse_baseline])\n",
        "result"
      ],
      "metadata": {
        "id": "veo1nx03SyHh",
        "colab": {
          "base_uri": "https://localhost:8080/"
        },
        "outputId": "6ec97f32-015e-47d0-d11b-57877595ea6e"
      },
      "execution_count": 495,
      "outputs": [
        {
          "output_type": "execute_result",
          "data": {
            "text/plain": [
              "[['rmse_baseline', 5117.505056177278]]"
            ]
          },
          "metadata": {},
          "execution_count": 495
        }
      ]
    },
    {
      "cell_type": "code",
      "source": [
        "# строим график для визуализации предсказаний baseline модели\n",
        "plot(y_valid, valid_outputs, 'Baseline')"
      ],
      "metadata": {
        "id": "ffyD0qQkN5Uv",
        "colab": {
          "base_uri": "https://localhost:8080/",
          "height": 476
        },
        "outputId": "5b0827a8-3453-4856-9079-dd177839736f"
      },
      "execution_count": 496,
      "outputs": [
        {
          "output_type": "display_data",
          "data": {
            "text/plain": [
              "<Figure size 800x400 with 1 Axes>"
            ],
            "image/png": "[encoded data removed]"
          },
          "metadata": {}
        }
      ]
    },
    {
      "cell_type": "markdown",
      "source": [
        "## Улучшение модели"
      ],
      "metadata": {
        "id": "E1UwL3LWsvtE"
      }
    },
    {
      "cell_type": "markdown",
      "source": [
        "В задании к проекту нам дано обязательное требование\n",
        "создать решение с перебором параметров нейросети:\n",
        "- dropout\n",
        "- размер батча.\n",
        "\n",
        "\n",
        "Следующим этапом я проведу эксперимент с данными:\n",
        "1.  создам синтетические данные и, обучив на них, получим предсказание на test выборке исходного датасета.\n",
        "2. аугментирую исходный датасет (добавлю шум к числовым признакам) и, обучив на них, получим предсказание на test выборке исходного датасета.\n",
        "\n",
        "\n"
      ],
      "metadata": {
        "id": "VZZB2ODYPoYB"
      }
    },
    {
      "cell_type": "markdown",
      "source": [
        "### Подбор Dropout"
      ],
      "metadata": {
        "id": "KEZUcD6Kt35-"
      }
    },
    {
      "cell_type": "code",
      "source": [
        "class DropoutModel(nn.Module):\n",
        "    def __init__(self, input_neurons, hidden_neurons, output_neurons, best_dropout):\n",
        "        super(DropoutModel, self).__init__()\n",
        "\n",
        "        self.fc1 = nn.Linear(input_neurons, hidden_neurons)\n",
        "        self.act1 = nn.ReLU()\n",
        "        self.dropout1 = nn.Dropout(p=best_dropout) # 50% dropout после первого слоя\n",
        "        self.fc2 = nn.Linear(hidden_neurons, output_neurons)\n",
        "        self.act2 = nn.ReLU()\n",
        "        self.dropout2 = nn.Dropout(p=best_dropout) # 50% dropout после второго слоя\n",
        "\n",
        "        nn.init.xavier_uniform_(self.fc1.weight)\n",
        "        nn.init.constant_(self.fc1.bias, 0)\n",
        "        nn.init.xavier_uniform_(self.fc2.weight)\n",
        "        nn.init.constant_(self.fc2.bias, 0)\n",
        "\n",
        "    def forward(self, x):\n",
        "        x = self.fc1(x)\n",
        "        x = self.act1(x)\n",
        "        x = self.dropout1(x)  #  Dropout после первого слоя\n",
        "        x = self.fc2(x)\n",
        "        x = self.act2(x)\n",
        "        x = self.dropout2(x)  #  Dropout после второго слоя\n",
        "\n",
        "        return x"
      ],
      "metadata": {
        "id": "rrfGjzsyT8tj"
      },
      "execution_count": 497,
      "outputs": []
    },
    {
      "cell_type": "code",
      "source": [
        "dropout_values = [0.1, 0.2, 0.3, 0.4, 0.6]\n",
        "\n",
        "input_neurons = X_train.shape[1]\n",
        "\n",
        "dropout_rmse = float('inf')\n",
        "best_model = None\n",
        "best_dropout = 0.5\n",
        "\n",
        "for dropout in dropout_values:\n",
        "  model = DropoutModel(input_neurons,\n",
        "                       hidden_neurons,\n",
        "                       output_neurons,\n",
        "                       dropout)  # подбираем\n",
        "  optimizer = torch.optim.Adam(model.parameters(), lr=0.01)\n",
        "\n",
        "  for epoch in range(num_epochs):\n",
        "    outputs = model(X_train)\n",
        "    loss_train = loss(outputs, y_train)\n",
        "\n",
        "    optimizer.zero_grad()\n",
        "    loss_train.backward()\n",
        "    optimizer.step()\n",
        "\n",
        "    if (epoch + 1) % 1000 == 0:\n",
        "        print(f'Epoch [{epoch + 1}/{num_epochs}], Loss: {loss_train.item()}')\n",
        "\n",
        "        # Оценка модели на valid данных\n",
        "        model.eval()  # оценка\n",
        "        with torch.no_grad():\n",
        "            valid_outputs = model(X_valid)\n",
        "            valid_loss = loss(valid_outputs, y_valid)\n",
        "\n",
        "            # Оценка RMSE на valid данных\n",
        "            rmse = np.sqrt(valid_loss.item())\n",
        "\n",
        "            # Сравнение RMSE с лучшим результатом\n",
        "            if rmse < dropout_rmse:\n",
        "                dropout_rmse = rmse\n",
        "                best_model = model\n",
        "                best_dropout = dropout"
      ],
      "metadata": {
        "colab": {
          "base_uri": "https://localhost:8080/"
        },
        "id": "02eHXK2w_UI0",
        "outputId": "ab2bcf56-8942-4abf-f322-d3aeb24bf629"
      },
      "execution_count": 498,
      "outputs": [
        {
          "output_type": "stream",
          "name": "stdout",
          "text": [
            "Epoch [1000/10000], Loss: 38983780.0\n",
            "Epoch [2000/10000], Loss: 15887819.0\n",
            "Epoch [3000/10000], Loss: 14502803.0\n",
            "Epoch [4000/10000], Loss: 13348248.0\n",
            "Epoch [5000/10000], Loss: 11961604.0\n",
            "Epoch [6000/10000], Loss: 10807954.0\n",
            "Epoch [7000/10000], Loss: 9705354.0\n",
            "Epoch [8000/10000], Loss: 8915673.0\n",
            "Epoch [9000/10000], Loss: 8521187.0\n",
            "Epoch [10000/10000], Loss: 8246122.0\n",
            "Epoch [1000/10000], Loss: 62582884.0\n",
            "Epoch [2000/10000], Loss: 16031239.0\n",
            "Epoch [3000/10000], Loss: 14596141.0\n",
            "Epoch [4000/10000], Loss: 13633409.0\n",
            "Epoch [5000/10000], Loss: 11818914.0\n",
            "Epoch [6000/10000], Loss: 10562896.0\n",
            "Epoch [7000/10000], Loss: 9741394.0\n",
            "Epoch [8000/10000], Loss: 8955824.0\n",
            "Epoch [9000/10000], Loss: 8536307.0\n",
            "Epoch [10000/10000], Loss: 8302801.0\n",
            "Epoch [1000/10000], Loss: 57836552.0\n",
            "Epoch [2000/10000], Loss: 16215143.0\n",
            "Epoch [3000/10000], Loss: 14652951.0\n",
            "Epoch [4000/10000], Loss: 13459947.0\n",
            "Epoch [5000/10000], Loss: 11465054.0\n",
            "Epoch [6000/10000], Loss: 10559822.0\n",
            "Epoch [7000/10000], Loss: 9863020.0\n",
            "Epoch [8000/10000], Loss: 9381230.0\n",
            "Epoch [9000/10000], Loss: 9096255.0\n",
            "Epoch [10000/10000], Loss: 8833655.0\n",
            "Epoch [1000/10000], Loss: 100806744.0\n",
            "Epoch [2000/10000], Loss: 16519504.0\n",
            "Epoch [3000/10000], Loss: 14741824.0\n",
            "Epoch [4000/10000], Loss: 13657780.0\n",
            "Epoch [5000/10000], Loss: 11499624.0\n",
            "Epoch [6000/10000], Loss: 10542500.0\n",
            "Epoch [7000/10000], Loss: 9862862.0\n",
            "Epoch [8000/10000], Loss: 9434434.0\n",
            "Epoch [9000/10000], Loss: 9181206.0\n",
            "Epoch [10000/10000], Loss: 9009004.0\n",
            "Epoch [1000/10000], Loss: 127269520.0\n",
            "Epoch [2000/10000], Loss: 17230294.0\n",
            "Epoch [3000/10000], Loss: 15018064.0\n",
            "Epoch [4000/10000], Loss: 13932853.0\n",
            "Epoch [5000/10000], Loss: 12077372.0\n",
            "Epoch [6000/10000], Loss: 10777083.0\n",
            "Epoch [7000/10000], Loss: 10109397.0\n",
            "Epoch [8000/10000], Loss: 9594725.0\n",
            "Epoch [9000/10000], Loss: 8940715.0\n",
            "Epoch [10000/10000], Loss: 8485484.0\n"
          ]
        }
      ]
    },
    {
      "cell_type": "code",
      "source": [
        "print(f'Лучший dropout_rmse: {dropout_rmse}')\n",
        "print(f'Лучшие параметры: Dropout = {best_dropout}')"
      ],
      "metadata": {
        "colab": {
          "base_uri": "https://localhost:8080/"
        },
        "id": "XZJHPxeV-_y1",
        "outputId": "2a48902a-a1a6-4ebb-ff98-136a3bd83522"
      },
      "execution_count": 499,
      "outputs": [
        {
          "output_type": "stream",
          "name": "stdout",
          "text": [
            "Лучший dropout_rmse: 4371.038549361009\n",
            "Лучшие параметры: Dropout = 0.6\n"
          ]
        }
      ]
    },
    {
      "cell_type": "code",
      "source": [
        "result.append(['dropout_rmse', dropout_rmse])\n",
        "result"
      ],
      "metadata": {
        "colab": {
          "base_uri": "https://localhost:8080/"
        },
        "id": "AwkT_J44_3WY",
        "outputId": "83eb2a2f-dd4c-4623-ba5a-70e4c904a2b5"
      },
      "execution_count": 500,
      "outputs": [
        {
          "output_type": "execute_result",
          "data": {
            "text/plain": [
              "[['rmse_baseline', 5117.505056177278], ['dropout_rmse', 4371.038549361009]]"
            ]
          },
          "metadata": {},
          "execution_count": 500
        }
      ]
    },
    {
      "cell_type": "code",
      "source": [
        "plot(y_valid, valid_outputs, 'Dropout')"
      ],
      "metadata": {
        "colab": {
          "base_uri": "https://localhost:8080/",
          "height": 476
        },
        "id": "VihxKQvC_UMp",
        "outputId": "c7f68908-f875-4cf1-cf47-5815e0bc3724"
      },
      "execution_count": 501,
      "outputs": [
        {
          "output_type": "display_data",
          "data": {
            "text/plain": [
              "<Figure size 800x400 with 1 Axes>"
            ],
            "image/png": "[encoded data removed]"
          },
          "metadata": {}
        }
      ]
    },
    {
      "cell_type": "markdown",
      "source": [],
      "metadata": {
        "id": "qgOYW096Cest"
      }
    },
    {
      "cell_type": "markdown",
      "source": [
        "  ### BatchSize"
      ],
      "metadata": {
        "id": "KMegLDqMCevS"
      }
    },
    {
      "cell_type": "code",
      "source": [
        "batch_sizes = [int(0.1*len(train)),\n",
        "               int(0.3*len(train)),\n",
        "               int(0.5*len(train))]\n",
        "\n",
        "input_neurons = X_train.shape[1]\n",
        "\n",
        "batch_sizes_rmse = float('inf')\n",
        "\n",
        "best_batch_size = None\n",
        "\n",
        "for batch_size in batch_sizes:\n",
        "\n",
        "    # Создание и обучение модели\n",
        "    model = BaselineModel(input_neurons, hidden_neurons, output_neurons)\n",
        "    optimizer = torch.optim.Adam(model.parameters(), lr=0.01)\n",
        "\n",
        "    for epoch in range(num_epochs):\n",
        "        outputs = model(X_train)\n",
        "        loss_train = loss(outputs, y_train)\n",
        "\n",
        "        optimizer.zero_grad()\n",
        "        loss_train.backward()\n",
        "        optimizer.step()\n",
        "\n",
        "        if (epoch + 1) % 1000 == 0:\n",
        "            model.eval()\n",
        "            print(f'Epoch [{epoch + 1}/{num_epochs}], Loss: {loss_train.item()}')\n",
        "\n",
        "    # Оценка модели на валидационных данных\n",
        "    with torch.no_grad():\n",
        "        valid_outputs = model(X_valid)\n",
        "        valid_loss = loss(valid_outputs, y_valid)\n",
        "        rmse = np.sqrt(valid_loss.item())\n",
        "\n",
        "    # Сравнение RMSE с лучшим результатом\n",
        "    if rmse < batch_sizes_rmse:\n",
        "        batch_sizes_rmse = rmse\n",
        "        best_batch_size = batch_size\n",
        "\n",
        "print(f'Best Batch Size: {best_batch_size}, Best RMSE: {best_rmse}')"
      ],
      "metadata": {
        "id": "w_9cmWA6tIXn",
        "colab": {
          "base_uri": "https://localhost:8080/"
        },
        "outputId": "32930384-9e3d-4866-8cad-bfa6c511a898"
      },
      "execution_count": 502,
      "outputs": [
        {
          "output_type": "stream",
          "name": "stdout",
          "text": [
            "Epoch [1000/10000], Loss: 21116654.0\n",
            "Epoch [2000/10000], Loss: 15750873.0\n",
            "Epoch [3000/10000], Loss: 14621258.0\n",
            "Epoch [4000/10000], Loss: 13541979.0\n",
            "Epoch [5000/10000], Loss: 12072727.0\n",
            "Epoch [6000/10000], Loss: 10914624.0\n",
            "Epoch [7000/10000], Loss: 9923690.0\n",
            "Epoch [8000/10000], Loss: 9221806.0\n",
            "Epoch [9000/10000], Loss: 8830153.0\n",
            "Epoch [10000/10000], Loss: 8685449.0\n",
            "Epoch [1000/10000], Loss: 20915872.0\n",
            "Epoch [2000/10000], Loss: 15725918.0\n",
            "Epoch [3000/10000], Loss: 14284584.0\n",
            "Epoch [4000/10000], Loss: 12971461.0\n",
            "Epoch [5000/10000], Loss: 11704022.0\n",
            "Epoch [6000/10000], Loss: 10706110.0\n",
            "Epoch [7000/10000], Loss: 9848983.0\n",
            "Epoch [8000/10000], Loss: 9163587.0\n",
            "Epoch [9000/10000], Loss: 8816438.0\n",
            "Epoch [10000/10000], Loss: 8486198.0\n",
            "Epoch [1000/10000], Loss: 21195158.0\n",
            "Epoch [2000/10000], Loss: 15786802.0\n",
            "Epoch [3000/10000], Loss: 14579974.0\n",
            "Epoch [4000/10000], Loss: 13208826.0\n",
            "Epoch [5000/10000], Loss: 11722875.0\n",
            "Epoch [6000/10000], Loss: 10813669.0\n",
            "Epoch [7000/10000], Loss: 10175628.0\n",
            "Epoch [8000/10000], Loss: 9398105.0\n",
            "Epoch [9000/10000], Loss: 8932647.0\n",
            "Epoch [10000/10000], Loss: 8554910.0\n",
            "Best Batch Size: 43, Best RMSE: 3785.3533520663564\n"
          ]
        }
      ]
    },
    {
      "cell_type": "code",
      "source": [
        "for batch_size in batch_sizes:\n",
        "    # Создание и обучение модели\n",
        "    model = BaselineModel(input_neurons, hidden_neurons, output_neurons)\n",
        "    optimizer = torch.optim.Adam(model.parameters(), lr=0.01)\n",
        "\n",
        "    for epoch in range(num_epochs):\n",
        "        outputs = model(X_train)\n",
        "        loss_train = loss(outputs, y_train)\n",
        "\n",
        "        optimizer.zero_grad()\n",
        "        loss_train.backward()\n",
        "        optimizer.step()\n",
        "\n",
        "        if (epoch + 1) % 1000 == 0:\n",
        "            model.eval()\n",
        "            print(f'Epoch [{epoch + 1}/{num_epochs}], Loss: {loss_train.item()}')\n",
        "            # Оценка модели на валидационных данных\n",
        "            with torch.no_grad():\n",
        "                valid_outputs = model(X_valid)\n",
        "                valid_loss = loss(valid_outputs, y_valid)\n",
        "                rmse = np.sqrt(valid_loss.item())\n",
        "\n",
        "    # Сравнение RMSE с лучшим результатом\n",
        "    if rmse < best_rmse:\n",
        "        best_rmse = rmse\n",
        "        best_batch_size = batch_size\n",
        "\n",
        "print(f'Best Batch Size: {best_batch_size}, Best RMSE: {best_rmse}')"
      ],
      "metadata": {
        "colab": {
          "base_uri": "https://localhost:8080/"
        },
        "id": "P-QnKxJZ_UPj",
        "outputId": "a4016a01-43ba-48c9-e204-591eeda706a7"
      },
      "execution_count": 503,
      "outputs": [
        {
          "output_type": "stream",
          "name": "stdout",
          "text": [
            "Epoch [1000/10000], Loss: 21395824.0\n",
            "Epoch [2000/10000], Loss: 15800171.0\n",
            "Epoch [3000/10000], Loss: 14494837.0\n",
            "Epoch [4000/10000], Loss: 13532444.0\n",
            "Epoch [5000/10000], Loss: 12137013.0\n",
            "Epoch [6000/10000], Loss: 10796304.0\n",
            "Epoch [7000/10000], Loss: 9844010.0\n",
            "Epoch [8000/10000], Loss: 8881897.0\n",
            "Epoch [9000/10000], Loss: 8372250.5\n",
            "Epoch [10000/10000], Loss: 7994036.5\n",
            "Epoch [1000/10000], Loss: 21384170.0\n",
            "Epoch [2000/10000], Loss: 15844284.0\n",
            "Epoch [3000/10000], Loss: 14587763.0\n",
            "Epoch [4000/10000], Loss: 13347122.0\n",
            "Epoch [5000/10000], Loss: 11971824.0\n",
            "Epoch [6000/10000], Loss: 10934265.0\n",
            "Epoch [7000/10000], Loss: 10063838.0\n",
            "Epoch [8000/10000], Loss: 9385188.0\n",
            "Epoch [9000/10000], Loss: 8944640.0\n",
            "Epoch [10000/10000], Loss: 8665934.0\n",
            "Epoch [1000/10000], Loss: 21032502.0\n",
            "Epoch [2000/10000], Loss: 15880581.0\n",
            "Epoch [3000/10000], Loss: 14576710.0\n",
            "Epoch [4000/10000], Loss: 13059709.0\n",
            "Epoch [5000/10000], Loss: 11740351.0\n",
            "Epoch [6000/10000], Loss: 10937552.0\n",
            "Epoch [7000/10000], Loss: 10282207.0\n",
            "Epoch [8000/10000], Loss: 9445260.0\n",
            "Epoch [9000/10000], Loss: 8837956.0\n",
            "Epoch [10000/10000], Loss: 8396825.0\n",
            "Best Batch Size: 43, Best RMSE: 3785.3533520663564\n"
          ]
        }
      ]
    },
    {
      "cell_type": "code",
      "source": [
        "model = BaselineModel(input_neurons,\n",
        "                        hidden_neurons,\n",
        "                        output_neurons)\n",
        "\n",
        "optimizer = torch.optim.Adam(model.parameters(), lr=0.01)"
      ],
      "metadata": {
        "id": "B7Rh26PVUXSA"
      },
      "execution_count": 504,
      "outputs": []
    },
    {
      "cell_type": "code",
      "source": [
        "print(f'Лучший batch_sizes_rmse: {batch_sizes_rmse}')\n",
        "print(f'Лучшие параметры:  Batch Size = {best_batch_size}')"
      ],
      "metadata": {
        "colab": {
          "base_uri": "https://localhost:8080/"
        },
        "id": "Xvd8swi_xeop",
        "outputId": "64cbf118-9e5c-4a26-9129-fd75c17529e9"
      },
      "execution_count": 505,
      "outputs": [
        {
          "output_type": "stream",
          "name": "stdout",
          "text": [
            "Лучший batch_sizes_rmse: 5048.604361603313\n",
            "Лучшие параметры:  Batch Size = 43\n"
          ]
        }
      ]
    },
    {
      "cell_type": "code",
      "source": [
        "result.append(['batch_sizes_rmse', batch_sizes_rmse])\n",
        "result"
      ],
      "metadata": {
        "colab": {
          "base_uri": "https://localhost:8080/"
        },
        "id": "5EaM37w6VVAm",
        "outputId": "bb298428-7e3a-4529-f10d-8eaff7dbe1b8"
      },
      "execution_count": 506,
      "outputs": [
        {
          "output_type": "execute_result",
          "data": {
            "text/plain": [
              "[['rmse_baseline', 5117.505056177278],\n",
              " ['dropout_rmse', 4371.038549361009],\n",
              " ['batch_sizes_rmse', 5048.604361603313]]"
            ]
          },
          "metadata": {},
          "execution_count": 506
        }
      ]
    },
    {
      "cell_type": "code",
      "source": [
        "plot(y_valid, valid_outputs, 'Batchsize')"
      ],
      "metadata": {
        "colab": {
          "base_uri": "https://localhost:8080/",
          "height": 476
        },
        "id": "dKjMDRFcVabf",
        "outputId": "b7e59002-a938-43d8-8f34-ae59b3ff1bcf"
      },
      "execution_count": 542,
      "outputs": [
        {
          "output_type": "display_data",
          "data": {
            "text/plain": [
              "<Figure size 800x400 with 1 Axes>"
            ],
            "image/png": "[encoded data removed]"
          },
          "metadata": {}
        }
      ]
    },
    {
      "cell_type": "code",
      "source": [],
      "metadata": {
        "id": "oypj5V2EXG61"
      },
      "execution_count": 511,
      "outputs": []
    },
    {
      "cell_type": "markdown",
      "source": [
        "### Аугментация данных"
      ],
      "metadata": {
        "id": "828uuFSLBi4s"
      }
    },
    {
      "cell_type": "markdown",
      "source": [
        "Метрику мы будем сравнивать на baseline модели, предсказывая по test выборке исходного датасета."
      ],
      "metadata": {
        "id": "VPdX8CUOizX9"
      }
    },
    {
      "cell_type": "markdown",
      "source": [
        "###Синтетическая Генерация Данных"
      ],
      "metadata": {
        "id": "4RBTjDNOp2Wi"
      }
    },
    {
      "cell_type": "markdown",
      "source": [
        "Ниже приведена таблица с диапазонами характеристик для каждой звезды, мы будем создавать новые данные используя эту таблицу."
      ],
      "metadata": {
        "id": "Ym1jAD67p_iB"
      }
    },
    {
      "cell_type": "markdown",
      "source": [
        "| Температура (K) | Светимость (L/Lo) | Радиус (R/Ro) | Абсолютная звёздная величина (Mv) | Тип звезды | Цвет звезды |\n",
        "|-----------------|-------------------|---------------|------------------------------------|------------|-------------|\n",
        "| ~2,000 K        | 0.00001% - 0.1%   | 0.1 - 0.7     | Высокая отрицательная              | M (красные карлики) | Красные, оранжевые |\n",
        "| ~3,500 K        | 1% - 10%           | 0.7 - 1.0     | Низкая отрицательная               | K | Оранжевые, красные |\n",
        "| Очень высокая  | Очень низкая       | Сравним с Землёй | Высокая отрицательная | Белые карлики | Белые |\n",
        "| ~5,500 K        | 100%               | 1.0           | 4.83                               | G (похожие на Солнце) | Желтые |\n",
        "| ~10,000 K - несколько десятков тысяч K | >100 - несколько тысяч | >1 - несколько сотен | Низкая отрицательная | Горячие звёзды | Голубые, белые |\n",
        "| ~2,000 K - 1,000 K (обычно ниже) | Очень низкая - очень очень низкая | 0.01 - 0.1 (примерно) | Высокая отрицательная | Коричневые карлики | Коричневые |\n",
        "| Разнообразная  | Очень высокая - низкая | Разнообразный | Разнообразная | Гиганты (разных классов) | Разноцветные |\n",
        "| Разнообразная  | Очень высокая - низкая | Разнообразный | Разнообразная | Сверхгиганты | Разноцветные |\n",
        "| ~5,500 K        | Около 100%         | Около 1.0     | 4.83 | Звёзды главной последовательности | Желтые |\n"
      ],
      "metadata": {
        "id": "D2jmPvlHRDV-"
      }
    },
    {
      "cell_type": "code",
      "source": [
        "data['star_color'].value_counts(normalize = True)"
      ],
      "metadata": {
        "id": "MmXeDxFqGqrz",
        "colab": {
          "base_uri": "https://localhost:8080/"
        },
        "outputId": "a72732e9-fd90-4fab-db7c-e698460d358d"
      },
      "execution_count": 512,
      "outputs": [
        {
          "output_type": "execute_result",
          "data": {
            "text/plain": [
              "red                   0.466667\n",
              "blue                  0.233333\n",
              "blue_white            0.170833\n",
              "white                 0.041667\n",
              "yellow_white          0.033333\n",
              "yellowish_white       0.012500\n",
              "yellowish             0.012500\n",
              "whitish               0.008333\n",
              "orange                0.008333\n",
              "pale_yellow_orange    0.004167\n",
              "white_yellow          0.004167\n",
              "orange_red            0.004167\n",
              "Name: star_color, dtype: float64"
            ]
          },
          "metadata": {},
          "execution_count": 512
        }
      ]
    },
    {
      "cell_type": "code",
      "source": [
        "synthetic_data = []\n",
        "\n",
        "n_samples = 200  # Общее количество сэмплов\n",
        "\n",
        "# Генерация данных для красных карликов (M-тип)\n",
        "n_samples_m = int(n_samples * 0.45)\n",
        "temperature_m = np.random.uniform(2000, 3500, n_samples_m)\n",
        "luminosity_m = np.random.uniform(0.00001, 0.1, n_samples_m)\n",
        "radius_m = np.random.uniform(0.1, 0.7, n_samples_m)\n",
        "magnitude_m = np.random.uniform(-11.92, -6.23, n_samples_m)\n",
        "star_type_m = [0] * n_samples_m  # добавляем тип звезды (0-6)\n",
        "star_color_m = ['red'] * n_samples_m\n",
        "\n",
        "# Генерация данных для оранжевых карликов (K-тип)\n",
        "n_samples_k = int(n_samples * 0.151)\n",
        "temperature_k = np.random.uniform(3500, 5500, n_samples_k)\n",
        "luminosity_k = np.random.uniform(0.01, 0.1, n_samples_k)\n",
        "radius_k = np.random.uniform(0.7, 1.0, n_samples_k)\n",
        "magnitude_k = np.random.uniform(-6.23, -2, n_samples_k)\n",
        "star_type_k = [1] * n_samples_k\n",
        "star_color_k = ['orange'] * n_samples_k\n",
        "\n",
        "# Генерация данных для белых карликов (группа \"Очень высокая\")\n",
        "n_samples_wd = int(n_samples * 0.16)\n",
        "temperature_wd = np.random.uniform(5500, 6000, n_samples_wd)\n",
        "luminosity_wd = np.random.uniform(0.99, 1.01, n_samples_wd)\n",
        "radius_wd = np.random.uniform(0.99, 1.01, n_samples_wd)\n",
        "magnitude_wd = np.full(n_samples_wd, 4.83)\n",
        "star_type_wd = [2] * n_samples_wd\n",
        "star_color_wd = ['white'] * n_samples_wd\n",
        "\n",
        "# Генерация данных для звёзд главной последовательности (G-тип)\n",
        "n_samples_g = int(n_samples * 0.09)\n",
        "temperature_g = np.random.uniform(5500, 5700, n_samples_g)\n",
        "luminosity_g = np.random.uniform(0.99, 1.01, n_samples_g)\n",
        "radius_g = np.random.uniform(0.99, 1.01, n_samples_g)\n",
        "magnitude_g = np.full(n_samples_g, 4.83)\n",
        "star_type_g = [3] * n_samples_g\n",
        "star_color_g = ['yellow'] * n_samples_g\n",
        "\n",
        "# Генерация данных для горячих звёзд\n",
        "n_samples_hot = int(n_samples * 0.3)\n",
        "temperature_hot = np.random.uniform(10000, 30000, n_samples_hot)\n",
        "luminosity_hot = np.random.uniform(100, 3000, n_samples_hot)\n",
        "radius_hot = np.random.uniform(10, 100, n_samples_hot)\n",
        "magnitude_hot = np.random.uniform(-11.92, -6.23, n_samples_hot)\n",
        "star_type_hot = [4] * n_samples_hot\n",
        "star_color_hot = ['blue'] * n_samples_hot\n",
        "\n",
        "# Генерация данных для коричневых карликов (L-тип)\n",
        "n_samples_l = int(n_samples * 0.06)\n",
        "temperature_l = np.random.uniform(1000, 2000, n_samples_l)\n",
        "luminosity_l = np.random.uniform(0.00000001, 0.0000001, n_samples_l)\n",
        "radius_l = np.random.uniform(0.01, 0.1, n_samples_l)\n",
        "magnitude_l = np.random.uniform(-11.92, -6.23, n_samples_l)\n",
        "star_type_l = [5] * n_samples_l\n",
        "star_color_l = ['blue_white'] * n_samples_l\n",
        "\n",
        "# создаем новый df\n",
        "synthetic_data = pd.DataFrame({\n",
        "    'temperature': np.concatenate((temperature_m,\n",
        "                                   temperature_k,\n",
        "                                   temperature_wd,\n",
        "                                   temperature_g,\n",
        "                                   temperature_hot,\n",
        "                                   temperature_l)),\n",
        "\n",
        "    'luminosity': np.concatenate((luminosity_m,\n",
        "                                  luminosity_k,\n",
        "                                  luminosity_wd,\n",
        "                                  luminosity_g,\n",
        "                                  luminosity_hot,\n",
        "                                  luminosity_l)),\n",
        "\n",
        "    'radius': np.concatenate((radius_m,\n",
        "                              radius_k,\n",
        "                              radius_wd,\n",
        "                              radius_g,\n",
        "                              radius_hot,\n",
        "                              radius_l)),\n",
        "\n",
        "    'magnitude': np.concatenate((magnitude_m,\n",
        "                                 magnitude_k,\n",
        "                                 magnitude_wd,\n",
        "                                 magnitude_g,\n",
        "                                 magnitude_hot,\n",
        "                                 magnitude_l)),\n",
        "\n",
        "    'star_type': np.concatenate((star_type_m,\n",
        "                                 star_type_k,\n",
        "                                 star_type_wd,\n",
        "                                 star_type_g,\n",
        "                                 star_type_hot,\n",
        "                                 star_type_l)),\n",
        "\n",
        "    'star_color': np.concatenate((star_color_m,\n",
        "                                  star_color_k,\n",
        "                                  star_color_wd,\n",
        "                                  star_color_g,\n",
        "                                  star_color_hot,\n",
        "                                  star_color_l))\n",
        "})\n",
        "\n",
        "# перемешиваем\n",
        "synthetic_data = synthetic_data.sample(frac=1).reset_index(drop=True)"
      ],
      "metadata": {
        "id": "iN8uGL1GxTc5"
      },
      "execution_count": 551,
      "outputs": []
    },
    {
      "cell_type": "code",
      "source": [
        "synthetic_data.info()"
      ],
      "metadata": {
        "id": "jxNWQZPEXzFj",
        "colab": {
          "base_uri": "https://localhost:8080/"
        },
        "outputId": "a2b818b7-e432-489a-e2be-e9f0e8acc4a2"
      },
      "execution_count": 514,
      "outputs": [
        {
          "output_type": "stream",
          "name": "stdout",
          "text": [
            "<class 'pandas.core.frame.DataFrame'>\n",
            "RangeIndex: 242 entries, 0 to 241\n",
            "Data columns (total 6 columns):\n",
            " #   Column       Non-Null Count  Dtype  \n",
            "---  ------       --------------  -----  \n",
            " 0   temperature  242 non-null    float64\n",
            " 1   luminosity   242 non-null    float64\n",
            " 2   radius       242 non-null    float64\n",
            " 3   magnitude    242 non-null    float64\n",
            " 4   star_type    242 non-null    int64  \n",
            " 5   star_color   242 non-null    object \n",
            "dtypes: float64(4), int64(1), object(1)\n",
            "memory usage: 11.5+ KB\n"
          ]
        }
      ]
    },
    {
      "cell_type": "code",
      "source": [
        "synthetic_data.describe()"
      ],
      "metadata": {
        "id": "F6BeVK1Z3jmS",
        "colab": {
          "base_uri": "https://localhost:8080/",
          "height": 300
        },
        "outputId": "4d33a7c6-aac5-4f89-9386-376d04b8f288"
      },
      "execution_count": 515,
      "outputs": [
        {
          "output_type": "execute_result",
          "data": {
            "text/plain": [
              "        temperature    luminosity      radius   magnitude   star_type\n",
              "count    242.000000  2.420000e+02  242.000000  242.000000  242.000000\n",
              "mean    7877.899892  4.236942e+02   14.917867   -5.590080    1.851240\n",
              "std     7834.761749  8.467344e+02   28.578892    5.729506    1.764854\n",
              "min     1054.383946  1.256717e-08    0.015779  -11.868660    0.000000\n",
              "25%     2811.784839  3.859955e-02    0.397087   -9.876220    0.000000\n",
              "50%     4611.486844  8.897588e-02    0.883914   -7.664463    2.000000\n",
              "75%     5988.820337  1.009767e+00    1.009755   -3.875316    4.000000\n",
              "max    28758.062445  2.974519e+03   99.969889    4.830000    5.000000"
            ],
            "text/html": [
              "\n",
              "  <div id=\"df-711b94de-7819-473d-857e-097d3c522908\" class=\"colab-df-container\">\n",
              "    <div>\n",
              "<style scoped>\n",
              "    .dataframe tbody tr th:only-of-type {\n",
              "        vertical-align: middle;\n",
              "    }\n",
              "\n",
              "    .dataframe tbody tr th {\n",
              "        vertical-align: top;\n",
              "    }\n",
              "\n",
              "    .dataframe thead th {\n",
              "        text-align: right;\n",
              "    }\n",
              "</style>\n",
              "<table border=\"1\" class=\"dataframe\">\n",
              "  <thead>\n",
              "    <tr style=\"text-align: right;\">\n",
              "      <th></th>\n",
              "      <th>temperature</th>\n",
              "      <th>luminosity</th>\n",
              "      <th>radius</th>\n",
              "      <th>magnitude</th>\n",
              "      <th>star_type</th>\n",
              "    </tr>\n",
              "  </thead>\n",
              "  <tbody>\n",
              "    <tr>\n",
              "      <th>count</th>\n",
              "      <td>242.000000</td>\n",
              "      <td>2.420000e+02</td>\n",
              "      <td>242.000000</td>\n",
              "      <td>242.000000</td>\n",
              "      <td>242.000000</td>\n",
              "    </tr>\n",
              "    <tr>\n",
              "      <th>mean</th>\n",
              "      <td>7877.899892</td>\n",
              "      <td>4.236942e+02</td>\n",
              "      <td>14.917867</td>\n",
              "      <td>-5.590080</td>\n",
              "      <td>1.851240</td>\n",
              "    </tr>\n",
              "    <tr>\n",
              "      <th>std</th>\n",
              "      <td>7834.761749</td>\n",
              "      <td>8.467344e+02</td>\n",
              "      <td>28.578892</td>\n",
              "      <td>5.729506</td>\n",
              "      <td>1.764854</td>\n",
              "    </tr>\n",
              "    <tr>\n",
              "      <th>min</th>\n",
              "      <td>1054.383946</td>\n",
              "      <td>1.256717e-08</td>\n",
              "      <td>0.015779</td>\n",
              "      <td>-11.868660</td>\n",
              "      <td>0.000000</td>\n",
              "    </tr>\n",
              "    <tr>\n",
              "      <th>25%</th>\n",
              "      <td>2811.784839</td>\n",
              "      <td>3.859955e-02</td>\n",
              "      <td>0.397087</td>\n",
              "      <td>-9.876220</td>\n",
              "      <td>0.000000</td>\n",
              "    </tr>\n",
              "    <tr>\n",
              "      <th>50%</th>\n",
              "      <td>4611.486844</td>\n",
              "      <td>8.897588e-02</td>\n",
              "      <td>0.883914</td>\n",
              "      <td>-7.664463</td>\n",
              "      <td>2.000000</td>\n",
              "    </tr>\n",
              "    <tr>\n",
              "      <th>75%</th>\n",
              "      <td>5988.820337</td>\n",
              "      <td>1.009767e+00</td>\n",
              "      <td>1.009755</td>\n",
              "      <td>-3.875316</td>\n",
              "      <td>4.000000</td>\n",
              "    </tr>\n",
              "    <tr>\n",
              "      <th>max</th>\n",
              "      <td>28758.062445</td>\n",
              "      <td>2.974519e+03</td>\n",
              "      <td>99.969889</td>\n",
              "      <td>4.830000</td>\n",
              "      <td>5.000000</td>\n",
              "    </tr>\n",
              "  </tbody>\n",
              "</table>\n",
              "</div>\n",
              "    <div class=\"colab-df-buttons\">\n",
              "\n",
              "  <div class=\"colab-df-container\">\n",
              "    <button class=\"colab-df-convert\" onclick=\"convertToInteractive('df-711b94de-7819-473d-857e-097d3c522908')\"\n",
              "            title=\"Convert this dataframe to an interactive table.\"\n",
              "            style=\"display:none;\">\n",
              "\n",
              "  <svg xmlns=\"http://www.w3.org/2000/svg\" height=\"24px\" viewBox=\"0 -960 960 960\">\n",
              "    <path d=\"M120-120v-720h720v720H120Zm60-500h600v-160H180v160Zm220 220h160v-160H400v160Zm0 220h160v-160H400v160ZM180-400h160v-160H180v160Zm440 0h160v-160H620v160ZM180-180h160v-160H180v160Zm440 0h160v-160H620v160Z\"/>\n",
              "  </svg>\n",
              "    </button>\n",
              "\n",
              "  <style>\n",
              "    .colab-df-container {\n",
              "      display:flex;\n",
              "      gap: 12px;\n",
              "    }\n",
              "\n",
              "    .colab-df-convert {\n",
              "      background-color: #E8F0FE;\n",
              "      border: none;\n",
              "      border-radius: 50%;\n",
              "      cursor: pointer;\n",
              "      display: none;\n",
              "      fill: #1967D2;\n",
              "      height: 32px;\n",
              "      padding: 0 0 0 0;\n",
              "      width: 32px;\n",
              "    }\n",
              "\n",
              "    .colab-df-convert:hover {\n",
              "      background-color: #E2EBFA;\n",
              "      box-shadow: 0px 1px 2px rgba(60, 64, 67, 0.3), 0px 1px 3px 1px rgba(60, 64, 67, 0.15);\n",
              "      fill: #174EA6;\n",
              "    }\n",
              "\n",
              "    .colab-df-buttons div {\n",
              "      margin-bottom: 4px;\n",
              "    }\n",
              "\n",
              "    [theme=dark] .colab-df-convert {\n",
              "      background-color: #3B4455;\n",
              "      fill: #D2E3FC;\n",
              "    }\n",
              "\n",
              "    [theme=dark] .colab-df-convert:hover {\n",
              "      background-color: #434B5C;\n",
              "      box-shadow: 0px 1px 3px 1px rgba(0, 0, 0, 0.15);\n",
              "      filter: drop-shadow(0px 1px 2px rgba(0, 0, 0, 0.3));\n",
              "      fill: #FFFFFF;\n",
              "    }\n",
              "  </style>\n",
              "\n",
              "    <script>\n",
              "      const buttonEl =\n",
              "        document.querySelector('#df-711b94de-7819-473d-857e-097d3c522908 button.colab-df-convert');\n",
              "      buttonEl.style.display =\n",
              "        google.colab.kernel.accessAllowed ? 'block' : 'none';\n",
              "\n",
              "      async function convertToInteractive(key) {\n",
              "        const element = document.querySelector('#df-711b94de-7819-473d-857e-097d3c522908');\n",
              "        const dataTable =\n",
              "          await google.colab.kernel.invokeFunction('convertToInteractive',\n",
              "                                                    [key], {});\n",
              "        if (!dataTable) return;\n",
              "\n",
              "        const docLinkHtml = 'Like what you see? Visit the ' +\n",
              "          '<a target=\"_blank\" href=https://colab.research.google.com/notebooks/data_table.ipynb>data table notebook</a>'\n",
              "          + ' to learn more about interactive tables.';\n",
              "        element.innerHTML = '';\n",
              "        dataTable['output_type'] = 'display_data';\n",
              "        await google.colab.output.renderOutput(dataTable, element);\n",
              "        const docLink = document.createElement('div');\n",
              "        docLink.innerHTML = docLinkHtml;\n",
              "        element.appendChild(docLink);\n",
              "      }\n",
              "    </script>\n",
              "  </div>\n",
              "\n",
              "\n",
              "<div id=\"df-2dacad1a-8fb4-4451-9677-f56ce28ab887\">\n",
              "  <button class=\"colab-df-quickchart\" onclick=\"quickchart('df-2dacad1a-8fb4-4451-9677-f56ce28ab887')\"\n",
              "            title=\"Suggest charts.\"\n",
              "            style=\"display:none;\">\n",
              "\n",
              "<svg xmlns=\"http://www.w3.org/2000/svg\" height=\"24px\"viewBox=\"0 0 24 24\"\n",
              "     width=\"24px\">\n",
              "    <g>\n",
              "        <path d=\"M19 3H5c-1.1 0-2 .9-2 2v14c0 1.1.9 2 2 2h14c1.1 0 2-.9 2-2V5c0-1.1-.9-2-2-2zM9 17H7v-7h2v7zm4 0h-2V7h2v10zm4 0h-2v-4h2v4z\"/>\n",
              "    </g>\n",
              "</svg>\n",
              "  </button>\n",
              "\n",
              "<style>\n",
              "  .colab-df-quickchart {\n",
              "      --bg-color: #E8F0FE;\n",
              "      --fill-color: #1967D2;\n",
              "      --hover-bg-color: #E2EBFA;\n",
              "      --hover-fill-color: #174EA6;\n",
              "      --disabled-fill-color: #AAA;\n",
              "      --disabled-bg-color: #DDD;\n",
              "  }\n",
              "\n",
              "  [theme=dark] .colab-df-quickchart {\n",
              "      --bg-color: #3B4455;\n",
              "      --fill-color: #D2E3FC;\n",
              "      --hover-bg-color: #434B5C;\n",
              "      --hover-fill-color: #FFFFFF;\n",
              "      --disabled-bg-color: #3B4455;\n",
              "      --disabled-fill-color: #666;\n",
              "  }\n",
              "\n",
              "  .colab-df-quickchart {\n",
              "    background-color: var(--bg-color);\n",
              "    border: none;\n",
              "    border-radius: 50%;\n",
              "    cursor: pointer;\n",
              "    display: none;\n",
              "    fill: var(--fill-color);\n",
              "    height: 32px;\n",
              "    padding: 0;\n",
              "    width: 32px;\n",
              "  }\n",
              "\n",
              "  .colab-df-quickchart:hover {\n",
              "    background-color: var(--hover-bg-color);\n",
              "    box-shadow: 0 1px 2px rgba(60, 64, 67, 0.3), 0 1px 3px 1px rgba(60, 64, 67, 0.15);\n",
              "    fill: var(--button-hover-fill-color);\n",
              "  }\n",
              "\n",
              "  .colab-df-quickchart-complete:disabled,\n",
              "  .colab-df-quickchart-complete:disabled:hover {\n",
              "    background-color: var(--disabled-bg-color);\n",
              "    fill: var(--disabled-fill-color);\n",
              "    box-shadow: none;\n",
              "  }\n",
              "\n",
              "  .colab-df-spinner {\n",
              "    border: 2px solid var(--fill-color);\n",
              "    border-color: transparent;\n",
              "    border-bottom-color: var(--fill-color);\n",
              "    animation:\n",
              "      spin 1s steps(1) infinite;\n",
              "  }\n",
              "\n",
              "  @keyframes spin {\n",
              "    0% {\n",
              "      border-color: transparent;\n",
              "      border-bottom-color: var(--fill-color);\n",
              "      border-left-color: var(--fill-color);\n",
              "    }\n",
              "    20% {\n",
              "      border-color: transparent;\n",
              "      border-left-color: var(--fill-color);\n",
              "      border-top-color: var(--fill-color);\n",
              "    }\n",
              "    30% {\n",
              "      border-color: transparent;\n",
              "      border-left-color: var(--fill-color);\n",
              "      border-top-color: var(--fill-color);\n",
              "      border-right-color: var(--fill-color);\n",
              "    }\n",
              "    40% {\n",
              "      border-color: transparent;\n",
              "      border-right-color: var(--fill-color);\n",
              "      border-top-color: var(--fill-color);\n",
              "    }\n",
              "    60% {\n",
              "      border-color: transparent;\n",
              "      border-right-color: var(--fill-color);\n",
              "    }\n",
              "    80% {\n",
              "      border-color: transparent;\n",
              "      border-right-color: var(--fill-color);\n",
              "      border-bottom-color: var(--fill-color);\n",
              "    }\n",
              "    90% {\n",
              "      border-color: transparent;\n",
              "      border-bottom-color: var(--fill-color);\n",
              "    }\n",
              "  }\n",
              "</style>\n",
              "\n",
              "  <script>\n",
              "    async function quickchart(key) {\n",
              "      const quickchartButtonEl =\n",
              "        document.querySelector('#' + key + ' button');\n",
              "      quickchartButtonEl.disabled = true;  // To prevent multiple clicks.\n",
              "      quickchartButtonEl.classList.add('colab-df-spinner');\n",
              "      try {\n",
              "        const charts = await google.colab.kernel.invokeFunction(\n",
              "            'suggestCharts', [key], {});\n",
              "      } catch (error) {\n",
              "        console.error('Error during call to suggestCharts:', error);\n",
              "      }\n",
              "      quickchartButtonEl.classList.remove('colab-df-spinner');\n",
              "      quickchartButtonEl.classList.add('colab-df-quickchart-complete');\n",
              "    }\n",
              "    (() => {\n",
              "      let quickchartButtonEl =\n",
              "        document.querySelector('#df-2dacad1a-8fb4-4451-9677-f56ce28ab887 button');\n",
              "      quickchartButtonEl.style.display =\n",
              "        google.colab.kernel.accessAllowed ? 'block' : 'none';\n",
              "    })();\n",
              "  </script>\n",
              "</div>\n",
              "    </div>\n",
              "  </div>\n"
            ]
          },
          "metadata": {},
          "execution_count": 515
        }
      ]
    },
    {
      "cell_type": "code",
      "source": [
        "data['star_color'].value_counts(normalize = True)"
      ],
      "metadata": {
        "id": "BIxT85MD3nV0",
        "colab": {
          "base_uri": "https://localhost:8080/"
        },
        "outputId": "cf4a6436-66d2-4501-d3a9-60066c4b6a64"
      },
      "execution_count": 516,
      "outputs": [
        {
          "output_type": "execute_result",
          "data": {
            "text/plain": [
              "red                   0.466667\n",
              "blue                  0.233333\n",
              "blue_white            0.170833\n",
              "white                 0.041667\n",
              "yellow_white          0.033333\n",
              "yellowish_white       0.012500\n",
              "yellowish             0.012500\n",
              "whitish               0.008333\n",
              "orange                0.008333\n",
              "pale_yellow_orange    0.004167\n",
              "white_yellow          0.004167\n",
              "orange_red            0.004167\n",
              "Name: star_color, dtype: float64"
            ]
          },
          "metadata": {},
          "execution_count": 516
        }
      ]
    },
    {
      "cell_type": "code",
      "source": [],
      "metadata": {
        "id": "zi5tikBhbg52"
      },
      "execution_count": 516,
      "outputs": []
    },
    {
      "cell_type": "markdown",
      "source": [
        "#### модель на синт данных"
      ],
      "metadata": {
        "id": "IMGugK_lc5Tl"
      }
    },
    {
      "cell_type": "code",
      "source": [
        "train = synthetic_data\n",
        "valid = valid"
      ],
      "metadata": {
        "id": "7KyyGTerAEKc"
      },
      "execution_count": 517,
      "outputs": []
    },
    {
      "cell_type": "code",
      "source": [
        "X_train = torch.Tensor(column_transformer.fit_transform(train[X]))\n",
        "X_valid = torch.Tensor(column_transformer.transform(valid[X]))\n",
        "\n",
        "y_train = torch.Tensor(train[y].values).reshape(-1, 1)\n",
        "y_valid = torch.Tensor(valid[y].values).reshape(-1, 1)\n",
        "\n",
        "print(X_train.size())\n",
        "print()\n",
        "print(X_valid.size())"
      ],
      "metadata": {
        "id": "WeshPZdofEVl",
        "colab": {
          "base_uri": "https://localhost:8080/"
        },
        "outputId": "7dbb6cf5-8613-4313-bf2e-75e3ea0cb07e"
      },
      "execution_count": 518,
      "outputs": [
        {
          "output_type": "stream",
          "name": "stdout",
          "text": [
            "torch.Size([242, 10])\n",
            "\n",
            "torch.Size([48, 10])\n"
          ]
        }
      ]
    },
    {
      "cell_type": "code",
      "source": [
        "input_neurons = X_train.shape[1]\n",
        "\n",
        "model = BaselineModel(input_neurons,\n",
        "                      hidden_neurons,\n",
        "                      output_neurons)\n",
        "\n",
        "optimizer = torch.optim.Adam(model.parameters(), lr=0.01)"
      ],
      "metadata": {
        "id": "fwfgKP924o6q"
      },
      "execution_count": 519,
      "outputs": []
    },
    {
      "cell_type": "code",
      "source": [
        "for epoch in range(num_epochs):\n",
        "\n",
        "    outputs = model(X_train)\n",
        "\n",
        "    # Вычисление потерь\n",
        "    loss_train = loss(outputs, y_train)\n",
        "\n",
        "    optimizer.zero_grad()\n",
        "    loss_train.backward()\n",
        "    optimizer.step()\n",
        "\n",
        "    if (epoch + 1) % 1000 == 0:\n",
        "        print(f'Epoch [{epoch + 1}/{num_epochs}], Loss: {loss_train.item()}')\n",
        "\n",
        "        model.eval()  # Перевести модель в режим оценки\n",
        "\n",
        "        with torch.no_grad():\n",
        "            valid_outputs = model(X_valid)\n",
        "            valid_loss = loss(valid_outputs, y_valid)\n",
        "\n",
        "        print(f'Valid Loss: {np.sqrt(valid_loss.item())}')"
      ],
      "metadata": {
        "id": "uDWsKnsXdMpz",
        "colab": {
          "base_uri": "https://localhost:8080/"
        },
        "outputId": "acf73ce6-6e9f-4297-cb57-e4ecf676294f"
      },
      "execution_count": 520,
      "outputs": [
        {
          "output_type": "stream",
          "name": "stdout",
          "text": [
            "Epoch [1000/10000], Loss: 9095437.0\n",
            "Valid Loss: 487572.6159988889\n",
            "Epoch [2000/10000], Loss: 7914865.0\n",
            "Valid Loss: 368072.39635702106\n",
            "Epoch [3000/10000], Loss: 7847739.0\n",
            "Valid Loss: 360458.4998470698\n",
            "Epoch [4000/10000], Loss: 7832487.0\n",
            "Valid Loss: 358710.52833168977\n",
            "Epoch [5000/10000], Loss: 7819273.5\n",
            "Valid Loss: 357079.1317117258\n",
            "Epoch [6000/10000], Loss: 7791923.0\n",
            "Valid Loss: 354905.28169639857\n",
            "Epoch [7000/10000], Loss: 7746976.5\n",
            "Valid Loss: 355269.81656200404\n",
            "Epoch [8000/10000], Loss: 7710831.0\n",
            "Valid Loss: 390292.90596678795\n",
            "Epoch [9000/10000], Loss: 7679897.5\n",
            "Valid Loss: 440923.7906758945\n",
            "Epoch [10000/10000], Loss: 7572229.5\n",
            "Valid Loss: 572814.4874145555\n"
          ]
        }
      ]
    },
    {
      "cell_type": "code",
      "source": [
        "np.sqrt(valid_loss.item())"
      ],
      "metadata": {
        "colab": {
          "base_uri": "https://localhost:8080/"
        },
        "id": "l3vxo4DIOBTZ",
        "outputId": "9f70bab1-b8f2-4b96-8d05-3f9916ea2317"
      },
      "execution_count": 521,
      "outputs": [
        {
          "output_type": "execute_result",
          "data": {
            "text/plain": [
              "572814.4874145555"
            ]
          },
          "metadata": {},
          "execution_count": 521
        }
      ]
    },
    {
      "cell_type": "code",
      "source": [
        "rmse_synthetic = np.sqrt(valid_loss.item())\n",
        "result.append(['rmse_synthetic', rmse_synthetic])\n",
        "result"
      ],
      "metadata": {
        "id": "j5U2ajuRgUq9",
        "colab": {
          "base_uri": "https://localhost:8080/"
        },
        "outputId": "fafce618-635f-486c-d9a9-e0a8e14bbfd8"
      },
      "execution_count": 522,
      "outputs": [
        {
          "output_type": "execute_result",
          "data": {
            "text/plain": [
              "[['rmse_baseline', 5117.505056177278],\n",
              " ['dropout_rmse', 4371.038549361009],\n",
              " ['batch_sizes_rmse', 5048.604361603313],\n",
              " ['rmse_best_model', 10194.582090502778],\n",
              " ['rmse_synthetic', 572814.4874145555]]"
            ]
          },
          "metadata": {},
          "execution_count": 522
        }
      ]
    },
    {
      "cell_type": "code",
      "source": [
        "plot(y_valid, valid_outputs, 'Synthetic data')"
      ],
      "metadata": {
        "colab": {
          "base_uri": "https://localhost:8080/",
          "height": 476
        },
        "id": "oXnxyKalZJMK",
        "outputId": "38bf3703-dc11-48b8-c1d1-28a7c3086c2a"
      },
      "execution_count": 523,
      "outputs": [
        {
          "output_type": "display_data",
          "data": {
            "text/plain": [
              "<Figure size 800x400 with 1 Axes>"
            ],
            "image/png": "[encoded data removed]"
          },
          "metadata": {}
        }
      ]
    },
    {
      "cell_type": "markdown",
      "source": [
        "### Аугментация данных на основе исходного датасета"
      ],
      "metadata": {
        "id": "7GAFQ4GQtHzr"
      }
    },
    {
      "cell_type": "code",
      "source": [
        "numerical"
      ],
      "metadata": {
        "id": "pPcrEYzQ73qU",
        "colab": {
          "base_uri": "https://localhost:8080/"
        },
        "outputId": "61e81ab8-2d34-481a-be76-88cdc76ffce0"
      },
      "execution_count": 524,
      "outputs": [
        {
          "output_type": "execute_result",
          "data": {
            "text/plain": [
              "['luminosity', 'radius', 'magnitude', 'star_type']"
            ]
          },
          "metadata": {},
          "execution_count": 524
        }
      ]
    },
    {
      "cell_type": "code",
      "source": [
        "augmented_data = data.copy()\n",
        "\n",
        "# числовые признаки, к которым добавляем шум\n",
        "numeric_features = ['luminosity', 'radius', 'magnitude']\n",
        "\n",
        "# значения шума\n",
        "noise_mean = 0  # Среднее значение шума\n",
        "noise_std = 0.05  # Стандартное отклонение шума\n",
        "\n",
        "for numeric_feature in numeric_features:\n",
        "    random_noise = np.random.normal(noise_mean, noise_std, len(data))\n",
        "    augmented_data[numeric_feature] += random_noise\n",
        "\n",
        "    # контролируем разброс min max значений\n",
        "    augmented_data[numeric_feature] = np.clip(augmented_data[numeric_feature],\n",
        "                                              data[numeric_feature].min(),\n",
        "                                              data[numeric_feature].max())\n",
        "\n",
        "# Создайте новый DataFrame для аугментированных данных\n",
        "augmented_data.head()\n"
      ],
      "metadata": {
        "id": "vJDxmBOciOSL",
        "colab": {
          "base_uri": "https://localhost:8080/",
          "height": 206
        },
        "outputId": "e5b91be4-7bf8-4808-dc4d-9b0347998700"
      },
      "execution_count": 525,
      "outputs": [
        {
          "output_type": "execute_result",
          "data": {
            "text/plain": [
              "   temperature  luminosity    radius  magnitude  star_type star_color\n",
              "0         3068    0.031248  0.165925  16.084094          0        red\n",
              "1         3042    0.044943  0.131592  16.653545          0        red\n",
              "2         2600    0.011720  0.032469  18.768920          0        red\n",
              "3         2800    0.060800  0.144025  16.632907          0        red\n",
              "4         1939    0.000080  0.164166  20.060000          0        red"
            ],
            "text/html": [
              "\n",
              "  <div id=\"df-7054ddb9-8893-47f5-9351-a083ba1aa07f\" class=\"colab-df-container\">\n",
              "    <div>\n",
              "<style scoped>\n",
              "    .dataframe tbody tr th:only-of-type {\n",
              "        vertical-align: middle;\n",
              "    }\n",
              "\n",
              "    .dataframe tbody tr th {\n",
              "        vertical-align: top;\n",
              "    }\n",
              "\n",
              "    .dataframe thead th {\n",
              "        text-align: right;\n",
              "    }\n",
              "</style>\n",
              "<table border=\"1\" class=\"dataframe\">\n",
              "  <thead>\n",
              "    <tr style=\"text-align: right;\">\n",
              "      <th></th>\n",
              "      <th>temperature</th>\n",
              "      <th>luminosity</th>\n",
              "      <th>radius</th>\n",
              "      <th>magnitude</th>\n",
              "      <th>star_type</th>\n",
              "      <th>star_color</th>\n",
              "    </tr>\n",
              "  </thead>\n",
              "  <tbody>\n",
              "    <tr>\n",
              "      <th>0</th>\n",
              "      <td>3068</td>\n",
              "      <td>0.031248</td>\n",
              "      <td>0.165925</td>\n",
              "      <td>16.084094</td>\n",
              "      <td>0</td>\n",
              "      <td>red</td>\n",
              "    </tr>\n",
              "    <tr>\n",
              "      <th>1</th>\n",
              "      <td>3042</td>\n",
              "      <td>0.044943</td>\n",
              "      <td>0.131592</td>\n",
              "      <td>16.653545</td>\n",
              "      <td>0</td>\n",
              "      <td>red</td>\n",
              "    </tr>\n",
              "    <tr>\n",
              "      <th>2</th>\n",
              "      <td>2600</td>\n",
              "      <td>0.011720</td>\n",
              "      <td>0.032469</td>\n",
              "      <td>18.768920</td>\n",
              "      <td>0</td>\n",
              "      <td>red</td>\n",
              "    </tr>\n",
              "    <tr>\n",
              "      <th>3</th>\n",
              "      <td>2800</td>\n",
              "      <td>0.060800</td>\n",
              "      <td>0.144025</td>\n",
              "      <td>16.632907</td>\n",
              "      <td>0</td>\n",
              "      <td>red</td>\n",
              "    </tr>\n",
              "    <tr>\n",
              "      <th>4</th>\n",
              "      <td>1939</td>\n",
              "      <td>0.000080</td>\n",
              "      <td>0.164166</td>\n",
              "      <td>20.060000</td>\n",
              "      <td>0</td>\n",
              "      <td>red</td>\n",
              "    </tr>\n",
              "  </tbody>\n",
              "</table>\n",
              "</div>\n",
              "    <div class=\"colab-df-buttons\">\n",
              "\n",
              "  <div class=\"colab-df-container\">\n",
              "    <button class=\"colab-df-convert\" onclick=\"convertToInteractive('df-7054ddb9-8893-47f5-9351-a083ba1aa07f')\"\n",
              "            title=\"Convert this dataframe to an interactive table.\"\n",
              "            style=\"display:none;\">\n",
              "\n",
              "  <svg xmlns=\"http://www.w3.org/2000/svg\" height=\"24px\" viewBox=\"0 -960 960 960\">\n",
              "    <path d=\"M120-120v-720h720v720H120Zm60-500h600v-160H180v160Zm220 220h160v-160H400v160Zm0 220h160v-160H400v160ZM180-400h160v-160H180v160Zm440 0h160v-160H620v160ZM180-180h160v-160H180v160Zm440 0h160v-160H620v160Z\"/>\n",
              "  </svg>\n",
              "    </button>\n",
              "\n",
              "  <style>\n",
              "    .colab-df-container {\n",
              "      display:flex;\n",
              "      gap: 12px;\n",
              "    }\n",
              "\n",
              "    .colab-df-convert {\n",
              "      background-color: #E8F0FE;\n",
              "      border: none;\n",
              "      border-radius: 50%;\n",
              "      cursor: pointer;\n",
              "      display: none;\n",
              "      fill: #1967D2;\n",
              "      height: 32px;\n",
              "      padding: 0 0 0 0;\n",
              "      width: 32px;\n",
              "    }\n",
              "\n",
              "    .colab-df-convert:hover {\n",
              "      background-color: #E2EBFA;\n",
              "      box-shadow: 0px 1px 2px rgba(60, 64, 67, 0.3), 0px 1px 3px 1px rgba(60, 64, 67, 0.15);\n",
              "      fill: #174EA6;\n",
              "    }\n",
              "\n",
              "    .colab-df-buttons div {\n",
              "      margin-bottom: 4px;\n",
              "    }\n",
              "\n",
              "    [theme=dark] .colab-df-convert {\n",
              "      background-color: #3B4455;\n",
              "      fill: #D2E3FC;\n",
              "    }\n",
              "\n",
              "    [theme=dark] .colab-df-convert:hover {\n",
              "      background-color: #434B5C;\n",
              "      box-shadow: 0px 1px 3px 1px rgba(0, 0, 0, 0.15);\n",
              "      filter: drop-shadow(0px 1px 2px rgba(0, 0, 0, 0.3));\n",
              "      fill: #FFFFFF;\n",
              "    }\n",
              "  </style>\n",
              "\n",
              "    <script>\n",
              "      const buttonEl =\n",
              "        document.querySelector('#df-7054ddb9-8893-47f5-9351-a083ba1aa07f button.colab-df-convert');\n",
              "      buttonEl.style.display =\n",
              "        google.colab.kernel.accessAllowed ? 'block' : 'none';\n",
              "\n",
              "      async function convertToInteractive(key) {\n",
              "        const element = document.querySelector('#df-7054ddb9-8893-47f5-9351-a083ba1aa07f');\n",
              "        const dataTable =\n",
              "          await google.colab.kernel.invokeFunction('convertToInteractive',\n",
              "                                                    [key], {});\n",
              "        if (!dataTable) return;\n",
              "\n",
              "        const docLinkHtml = 'Like what you see? Visit the ' +\n",
              "          '<a target=\"_blank\" href=https://colab.research.google.com/notebooks/data_table.ipynb>data table notebook</a>'\n",
              "          + ' to learn more about interactive tables.';\n",
              "        element.innerHTML = '';\n",
              "        dataTable['output_type'] = 'display_data';\n",
              "        await google.colab.output.renderOutput(dataTable, element);\n",
              "        const docLink = document.createElement('div');\n",
              "        docLink.innerHTML = docLinkHtml;\n",
              "        element.appendChild(docLink);\n",
              "      }\n",
              "    </script>\n",
              "  </div>\n",
              "\n",
              "\n",
              "<div id=\"df-0c51481e-ea23-4e37-857c-e9ad1494dd32\">\n",
              "  <button class=\"colab-df-quickchart\" onclick=\"quickchart('df-0c51481e-ea23-4e37-857c-e9ad1494dd32')\"\n",
              "            title=\"Suggest charts.\"\n",
              "            style=\"display:none;\">\n",
              "\n",
              "<svg xmlns=\"http://www.w3.org/2000/svg\" height=\"24px\"viewBox=\"0 0 24 24\"\n",
              "     width=\"24px\">\n",
              "    <g>\n",
              "        <path d=\"M19 3H5c-1.1 0-2 .9-2 2v14c0 1.1.9 2 2 2h14c1.1 0 2-.9 2-2V5c0-1.1-.9-2-2-2zM9 17H7v-7h2v7zm4 0h-2V7h2v10zm4 0h-2v-4h2v4z\"/>\n",
              "    </g>\n",
              "</svg>\n",
              "  </button>\n",
              "\n",
              "<style>\n",
              "  .colab-df-quickchart {\n",
              "      --bg-color: #E8F0FE;\n",
              "      --fill-color: #1967D2;\n",
              "      --hover-bg-color: #E2EBFA;\n",
              "      --hover-fill-color: #174EA6;\n",
              "      --disabled-fill-color: #AAA;\n",
              "      --disabled-bg-color: #DDD;\n",
              "  }\n",
              "\n",
              "  [theme=dark] .colab-df-quickchart {\n",
              "      --bg-color: #3B4455;\n",
              "      --fill-color: #D2E3FC;\n",
              "      --hover-bg-color: #434B5C;\n",
              "      --hover-fill-color: #FFFFFF;\n",
              "      --disabled-bg-color: #3B4455;\n",
              "      --disabled-fill-color: #666;\n",
              "  }\n",
              "\n",
              "  .colab-df-quickchart {\n",
              "    background-color: var(--bg-color);\n",
              "    border: none;\n",
              "    border-radius: 50%;\n",
              "    cursor: pointer;\n",
              "    display: none;\n",
              "    fill: var(--fill-color);\n",
              "    height: 32px;\n",
              "    padding: 0;\n",
              "    width: 32px;\n",
              "  }\n",
              "\n",
              "  .colab-df-quickchart:hover {\n",
              "    background-color: var(--hover-bg-color);\n",
              "    box-shadow: 0 1px 2px rgba(60, 64, 67, 0.3), 0 1px 3px 1px rgba(60, 64, 67, 0.15);\n",
              "    fill: var(--button-hover-fill-color);\n",
              "  }\n",
              "\n",
              "  .colab-df-quickchart-complete:disabled,\n",
              "  .colab-df-quickchart-complete:disabled:hover {\n",
              "    background-color: var(--disabled-bg-color);\n",
              "    fill: var(--disabled-fill-color);\n",
              "    box-shadow: none;\n",
              "  }\n",
              "\n",
              "  .colab-df-spinner {\n",
              "    border: 2px solid var(--fill-color);\n",
              "    border-color: transparent;\n",
              "    border-bottom-color: var(--fill-color);\n",
              "    animation:\n",
              "      spin 1s steps(1) infinite;\n",
              "  }\n",
              "\n",
              "  @keyframes spin {\n",
              "    0% {\n",
              "      border-color: transparent;\n",
              "      border-bottom-color: var(--fill-color);\n",
              "      border-left-color: var(--fill-color);\n",
              "    }\n",
              "    20% {\n",
              "      border-color: transparent;\n",
              "      border-left-color: var(--fill-color);\n",
              "      border-top-color: var(--fill-color);\n",
              "    }\n",
              "    30% {\n",
              "      border-color: transparent;\n",
              "      border-left-color: var(--fill-color);\n",
              "      border-top-color: var(--fill-color);\n",
              "      border-right-color: var(--fill-color);\n",
              "    }\n",
              "    40% {\n",
              "      border-color: transparent;\n",
              "      border-right-color: var(--fill-color);\n",
              "      border-top-color: var(--fill-color);\n",
              "    }\n",
              "    60% {\n",
              "      border-color: transparent;\n",
              "      border-right-color: var(--fill-color);\n",
              "    }\n",
              "    80% {\n",
              "      border-color: transparent;\n",
              "      border-right-color: var(--fill-color);\n",
              "      border-bottom-color: var(--fill-color);\n",
              "    }\n",
              "    90% {\n",
              "      border-color: transparent;\n",
              "      border-bottom-color: var(--fill-color);\n",
              "    }\n",
              "  }\n",
              "</style>\n",
              "\n",
              "  <script>\n",
              "    async function quickchart(key) {\n",
              "      const quickchartButtonEl =\n",
              "        document.querySelector('#' + key + ' button');\n",
              "      quickchartButtonEl.disabled = true;  // To prevent multiple clicks.\n",
              "      quickchartButtonEl.classList.add('colab-df-spinner');\n",
              "      try {\n",
              "        const charts = await google.colab.kernel.invokeFunction(\n",
              "            'suggestCharts', [key], {});\n",
              "      } catch (error) {\n",
              "        console.error('Error during call to suggestCharts:', error);\n",
              "      }\n",
              "      quickchartButtonEl.classList.remove('colab-df-spinner');\n",
              "      quickchartButtonEl.classList.add('colab-df-quickchart-complete');\n",
              "    }\n",
              "    (() => {\n",
              "      let quickchartButtonEl =\n",
              "        document.querySelector('#df-0c51481e-ea23-4e37-857c-e9ad1494dd32 button');\n",
              "      quickchartButtonEl.style.display =\n",
              "        google.colab.kernel.accessAllowed ? 'block' : 'none';\n",
              "    })();\n",
              "  </script>\n",
              "</div>\n",
              "    </div>\n",
              "  </div>\n"
            ]
          },
          "metadata": {},
          "execution_count": 525
        }
      ]
    },
    {
      "cell_type": "code",
      "source": [
        "augmented_data.describe()"
      ],
      "metadata": {
        "id": "Ge0t-okDhtvZ",
        "colab": {
          "base_uri": "https://localhost:8080/",
          "height": 300
        },
        "outputId": "4c18c9de-7208-4fb4-daaf-c9f3b5957716"
      },
      "execution_count": 526,
      "outputs": [
        {
          "output_type": "execute_result",
          "data": {
            "text/plain": [
              "        temperature     luminosity       radius   magnitude   star_type\n",
              "count    240.000000     240.000000   240.000000  240.000000  240.000000\n",
              "mean   10497.462500  107188.374132   237.160601    4.376958    2.500000\n",
              "std     9552.425037  179432.241903   517.152228   10.538022    1.711394\n",
              "min     1939.000000       0.000080     0.008400  -11.920000    0.000000\n",
              "25%     3344.250000       0.001643     0.103728   -6.244016    1.000000\n",
              "50%     5776.000000       0.142049     0.806028    8.260070    2.500000\n",
              "75%    15055.500000  198050.032196    42.755176   13.731308    4.000000\n",
              "max    40000.000000  849420.000000  1948.452243   20.060000    5.000000"
            ],
            "text/html": [
              "\n",
              "  <div id=\"df-f45d338e-b298-4b69-96e3-7339fc9e006e\" class=\"colab-df-container\">\n",
              "    <div>\n",
              "<style scoped>\n",
              "    .dataframe tbody tr th:only-of-type {\n",
              "        vertical-align: middle;\n",
              "    }\n",
              "\n",
              "    .dataframe tbody tr th {\n",
              "        vertical-align: top;\n",
              "    }\n",
              "\n",
              "    .dataframe thead th {\n",
              "        text-align: right;\n",
              "    }\n",
              "</style>\n",
              "<table border=\"1\" class=\"dataframe\">\n",
              "  <thead>\n",
              "    <tr style=\"text-align: right;\">\n",
              "      <th></th>\n",
              "      <th>temperature</th>\n",
              "      <th>luminosity</th>\n",
              "      <th>radius</th>\n",
              "      <th>magnitude</th>\n",
              "      <th>star_type</th>\n",
              "    </tr>\n",
              "  </thead>\n",
              "  <tbody>\n",
              "    <tr>\n",
              "      <th>count</th>\n",
              "      <td>240.000000</td>\n",
              "      <td>240.000000</td>\n",
              "      <td>240.000000</td>\n",
              "      <td>240.000000</td>\n",
              "      <td>240.000000</td>\n",
              "    </tr>\n",
              "    <tr>\n",
              "      <th>mean</th>\n",
              "      <td>10497.462500</td>\n",
              "      <td>107188.374132</td>\n",
              "      <td>237.160601</td>\n",
              "      <td>4.376958</td>\n",
              "      <td>2.500000</td>\n",
              "    </tr>\n",
              "    <tr>\n",
              "      <th>std</th>\n",
              "      <td>9552.425037</td>\n",
              "      <td>179432.241903</td>\n",
              "      <td>517.152228</td>\n",
              "      <td>10.538022</td>\n",
              "      <td>1.711394</td>\n",
              "    </tr>\n",
              "    <tr>\n",
              "      <th>min</th>\n",
              "      <td>1939.000000</td>\n",
              "      <td>0.000080</td>\n",
              "      <td>0.008400</td>\n",
              "      <td>-11.920000</td>\n",
              "      <td>0.000000</td>\n",
              "    </tr>\n",
              "    <tr>\n",
              "      <th>25%</th>\n",
              "      <td>3344.250000</td>\n",
              "      <td>0.001643</td>\n",
              "      <td>0.103728</td>\n",
              "      <td>-6.244016</td>\n",
              "      <td>1.000000</td>\n",
              "    </tr>\n",
              "    <tr>\n",
              "      <th>50%</th>\n",
              "      <td>5776.000000</td>\n",
              "      <td>0.142049</td>\n",
              "      <td>0.806028</td>\n",
              "      <td>8.260070</td>\n",
              "      <td>2.500000</td>\n",
              "    </tr>\n",
              "    <tr>\n",
              "      <th>75%</th>\n",
              "      <td>15055.500000</td>\n",
              "      <td>198050.032196</td>\n",
              "      <td>42.755176</td>\n",
              "      <td>13.731308</td>\n",
              "      <td>4.000000</td>\n",
              "    </tr>\n",
              "    <tr>\n",
              "      <th>max</th>\n",
              "      <td>40000.000000</td>\n",
              "      <td>849420.000000</td>\n",
              "      <td>1948.452243</td>\n",
              "      <td>20.060000</td>\n",
              "      <td>5.000000</td>\n",
              "    </tr>\n",
              "  </tbody>\n",
              "</table>\n",
              "</div>\n",
              "    <div class=\"colab-df-buttons\">\n",
              "\n",
              "  <div class=\"colab-df-container\">\n",
              "    <button class=\"colab-df-convert\" onclick=\"convertToInteractive('df-f45d338e-b298-4b69-96e3-7339fc9e006e')\"\n",
              "            title=\"Convert this dataframe to an interactive table.\"\n",
              "            style=\"display:none;\">\n",
              "\n",
              "  <svg xmlns=\"http://www.w3.org/2000/svg\" height=\"24px\" viewBox=\"0 -960 960 960\">\n",
              "    <path d=\"M120-120v-720h720v720H120Zm60-500h600v-160H180v160Zm220 220h160v-160H400v160Zm0 220h160v-160H400v160ZM180-400h160v-160H180v160Zm440 0h160v-160H620v160ZM180-180h160v-160H180v160Zm440 0h160v-160H620v160Z\"/>\n",
              "  </svg>\n",
              "    </button>\n",
              "\n",
              "  <style>\n",
              "    .colab-df-container {\n",
              "      display:flex;\n",
              "      gap: 12px;\n",
              "    }\n",
              "\n",
              "    .colab-df-convert {\n",
              "      background-color: #E8F0FE;\n",
              "      border: none;\n",
              "      border-radius: 50%;\n",
              "      cursor: pointer;\n",
              "      display: none;\n",
              "      fill: #1967D2;\n",
              "      height: 32px;\n",
              "      padding: 0 0 0 0;\n",
              "      width: 32px;\n",
              "    }\n",
              "\n",
              "    .colab-df-convert:hover {\n",
              "      background-color: #E2EBFA;\n",
              "      box-shadow: 0px 1px 2px rgba(60, 64, 67, 0.3), 0px 1px 3px 1px rgba(60, 64, 67, 0.15);\n",
              "      fill: #174EA6;\n",
              "    }\n",
              "\n",
              "    .colab-df-buttons div {\n",
              "      margin-bottom: 4px;\n",
              "    }\n",
              "\n",
              "    [theme=dark] .colab-df-convert {\n",
              "      background-color: #3B4455;\n",
              "      fill: #D2E3FC;\n",
              "    }\n",
              "\n",
              "    [theme=dark] .colab-df-convert:hover {\n",
              "      background-color: #434B5C;\n",
              "      box-shadow: 0px 1px 3px 1px rgba(0, 0, 0, 0.15);\n",
              "      filter: drop-shadow(0px 1px 2px rgba(0, 0, 0, 0.3));\n",
              "      fill: #FFFFFF;\n",
              "    }\n",
              "  </style>\n",
              "\n",
              "    <script>\n",
              "      const buttonEl =\n",
              "        document.querySelector('#df-f45d338e-b298-4b69-96e3-7339fc9e006e button.colab-df-convert');\n",
              "      buttonEl.style.display =\n",
              "        google.colab.kernel.accessAllowed ? 'block' : 'none';\n",
              "\n",
              "      async function convertToInteractive(key) {\n",
              "        const element = document.querySelector('#df-f45d338e-b298-4b69-96e3-7339fc9e006e');\n",
              "        const dataTable =\n",
              "          await google.colab.kernel.invokeFunction('convertToInteractive',\n",
              "                                                    [key], {});\n",
              "        if (!dataTable) return;\n",
              "\n",
              "        const docLinkHtml = 'Like what you see? Visit the ' +\n",
              "          '<a target=\"_blank\" href=https://colab.research.google.com/notebooks/data_table.ipynb>data table notebook</a>'\n",
              "          + ' to learn more about interactive tables.';\n",
              "        element.innerHTML = '';\n",
              "        dataTable['output_type'] = 'display_data';\n",
              "        await google.colab.output.renderOutput(dataTable, element);\n",
              "        const docLink = document.createElement('div');\n",
              "        docLink.innerHTML = docLinkHtml;\n",
              "        element.appendChild(docLink);\n",
              "      }\n",
              "    </script>\n",
              "  </div>\n",
              "\n",
              "\n",
              "<div id=\"df-0e686b0a-0629-40c1-9022-7c98fafc78c9\">\n",
              "  <button class=\"colab-df-quickchart\" onclick=\"quickchart('df-0e686b0a-0629-40c1-9022-7c98fafc78c9')\"\n",
              "            title=\"Suggest charts.\"\n",
              "            style=\"display:none;\">\n",
              "\n",
              "<svg xmlns=\"http://www.w3.org/2000/svg\" height=\"24px\"viewBox=\"0 0 24 24\"\n",
              "     width=\"24px\">\n",
              "    <g>\n",
              "        <path d=\"M19 3H5c-1.1 0-2 .9-2 2v14c0 1.1.9 2 2 2h14c1.1 0 2-.9 2-2V5c0-1.1-.9-2-2-2zM9 17H7v-7h2v7zm4 0h-2V7h2v10zm4 0h-2v-4h2v4z\"/>\n",
              "    </g>\n",
              "</svg>\n",
              "  </button>\n",
              "\n",
              "<style>\n",
              "  .colab-df-quickchart {\n",
              "      --bg-color: #E8F0FE;\n",
              "      --fill-color: #1967D2;\n",
              "      --hover-bg-color: #E2EBFA;\n",
              "      --hover-fill-color: #174EA6;\n",
              "      --disabled-fill-color: #AAA;\n",
              "      --disabled-bg-color: #DDD;\n",
              "  }\n",
              "\n",
              "  [theme=dark] .colab-df-quickchart {\n",
              "      --bg-color: #3B4455;\n",
              "      --fill-color: #D2E3FC;\n",
              "      --hover-bg-color: #434B5C;\n",
              "      --hover-fill-color: #FFFFFF;\n",
              "      --disabled-bg-color: #3B4455;\n",
              "      --disabled-fill-color: #666;\n",
              "  }\n",
              "\n",
              "  .colab-df-quickchart {\n",
              "    background-color: var(--bg-color);\n",
              "    border: none;\n",
              "    border-radius: 50%;\n",
              "    cursor: pointer;\n",
              "    display: none;\n",
              "    fill: var(--fill-color);\n",
              "    height: 32px;\n",
              "    padding: 0;\n",
              "    width: 32px;\n",
              "  }\n",
              "\n",
              "  .colab-df-quickchart:hover {\n",
              "    background-color: var(--hover-bg-color);\n",
              "    box-shadow: 0 1px 2px rgba(60, 64, 67, 0.3), 0 1px 3px 1px rgba(60, 64, 67, 0.15);\n",
              "    fill: var(--button-hover-fill-color);\n",
              "  }\n",
              "\n",
              "  .colab-df-quickchart-complete:disabled,\n",
              "  .colab-df-quickchart-complete:disabled:hover {\n",
              "    background-color: var(--disabled-bg-color);\n",
              "    fill: var(--disabled-fill-color);\n",
              "    box-shadow: none;\n",
              "  }\n",
              "\n",
              "  .colab-df-spinner {\n",
              "    border: 2px solid var(--fill-color);\n",
              "    border-color: transparent;\n",
              "    border-bottom-color: var(--fill-color);\n",
              "    animation:\n",
              "      spin 1s steps(1) infinite;\n",
              "  }\n",
              "\n",
              "  @keyframes spin {\n",
              "    0% {\n",
              "      border-color: transparent;\n",
              "      border-bottom-color: var(--fill-color);\n",
              "      border-left-color: var(--fill-color);\n",
              "    }\n",
              "    20% {\n",
              "      border-color: transparent;\n",
              "      border-left-color: var(--fill-color);\n",
              "      border-top-color: var(--fill-color);\n",
              "    }\n",
              "    30% {\n",
              "      border-color: transparent;\n",
              "      border-left-color: var(--fill-color);\n",
              "      border-top-color: var(--fill-color);\n",
              "      border-right-color: var(--fill-color);\n",
              "    }\n",
              "    40% {\n",
              "      border-color: transparent;\n",
              "      border-right-color: var(--fill-color);\n",
              "      border-top-color: var(--fill-color);\n",
              "    }\n",
              "    60% {\n",
              "      border-color: transparent;\n",
              "      border-right-color: var(--fill-color);\n",
              "    }\n",
              "    80% {\n",
              "      border-color: transparent;\n",
              "      border-right-color: var(--fill-color);\n",
              "      border-bottom-color: var(--fill-color);\n",
              "    }\n",
              "    90% {\n",
              "      border-color: transparent;\n",
              "      border-bottom-color: var(--fill-color);\n",
              "    }\n",
              "  }\n",
              "</style>\n",
              "\n",
              "  <script>\n",
              "    async function quickchart(key) {\n",
              "      const quickchartButtonEl =\n",
              "        document.querySelector('#' + key + ' button');\n",
              "      quickchartButtonEl.disabled = true;  // To prevent multiple clicks.\n",
              "      quickchartButtonEl.classList.add('colab-df-spinner');\n",
              "      try {\n",
              "        const charts = await google.colab.kernel.invokeFunction(\n",
              "            'suggestCharts', [key], {});\n",
              "      } catch (error) {\n",
              "        console.error('Error during call to suggestCharts:', error);\n",
              "      }\n",
              "      quickchartButtonEl.classList.remove('colab-df-spinner');\n",
              "      quickchartButtonEl.classList.add('colab-df-quickchart-complete');\n",
              "    }\n",
              "    (() => {\n",
              "      let quickchartButtonEl =\n",
              "        document.querySelector('#df-0e686b0a-0629-40c1-9022-7c98fafc78c9 button');\n",
              "      quickchartButtonEl.style.display =\n",
              "        google.colab.kernel.accessAllowed ? 'block' : 'none';\n",
              "    })();\n",
              "  </script>\n",
              "</div>\n",
              "    </div>\n",
              "  </div>\n"
            ]
          },
          "metadata": {},
          "execution_count": 526
        }
      ]
    },
    {
      "cell_type": "code",
      "source": [
        "data.describe()"
      ],
      "metadata": {
        "id": "U8QDQ7qJhxO4",
        "colab": {
          "base_uri": "https://localhost:8080/",
          "height": 300
        },
        "outputId": "b9602cad-bb09-4416-e8d1-c8e76f645df4"
      },
      "execution_count": 527,
      "outputs": [
        {
          "output_type": "execute_result",
          "data": {
            "text/plain": [
              "        temperature     luminosity       radius   magnitude   star_type\n",
              "count    240.000000     240.000000   240.000000  240.000000  240.000000\n",
              "mean   10497.462500  107188.361635   237.157781    4.382396    2.500000\n",
              "std     9552.425037  179432.244940   517.155763   10.532512    1.711394\n",
              "min     1939.000000       0.000080     0.008400  -11.920000    0.000000\n",
              "25%     3344.250000       0.000865     0.102750   -6.232500    1.000000\n",
              "50%     5776.000000       0.070500     0.762500    8.313000    2.500000\n",
              "75%    15055.500000  198050.000000    42.750000   13.697500    4.000000\n",
              "max    40000.000000  849420.000000  1948.500000   20.060000    5.000000"
            ],
            "text/html": [
              "\n",
              "  <div id=\"df-50319a89-deab-4ad2-b3b9-65e05f1ee529\" class=\"colab-df-container\">\n",
              "    <div>\n",
              "<style scoped>\n",
              "    .dataframe tbody tr th:only-of-type {\n",
              "        vertical-align: middle;\n",
              "    }\n",
              "\n",
              "    .dataframe tbody tr th {\n",
              "        vertical-align: top;\n",
              "    }\n",
              "\n",
              "    .dataframe thead th {\n",
              "        text-align: right;\n",
              "    }\n",
              "</style>\n",
              "<table border=\"1\" class=\"dataframe\">\n",
              "  <thead>\n",
              "    <tr style=\"text-align: right;\">\n",
              "      <th></th>\n",
              "      <th>temperature</th>\n",
              "      <th>luminosity</th>\n",
              "      <th>radius</th>\n",
              "      <th>magnitude</th>\n",
              "      <th>star_type</th>\n",
              "    </tr>\n",
              "  </thead>\n",
              "  <tbody>\n",
              "    <tr>\n",
              "      <th>count</th>\n",
              "      <td>240.000000</td>\n",
              "      <td>240.000000</td>\n",
              "      <td>240.000000</td>\n",
              "      <td>240.000000</td>\n",
              "      <td>240.000000</td>\n",
              "    </tr>\n",
              "    <tr>\n",
              "      <th>mean</th>\n",
              "      <td>10497.462500</td>\n",
              "      <td>107188.361635</td>\n",
              "      <td>237.157781</td>\n",
              "      <td>4.382396</td>\n",
              "      <td>2.500000</td>\n",
              "    </tr>\n",
              "    <tr>\n",
              "      <th>std</th>\n",
              "      <td>9552.425037</td>\n",
              "      <td>179432.244940</td>\n",
              "      <td>517.155763</td>\n",
              "      <td>10.532512</td>\n",
              "      <td>1.711394</td>\n",
              "    </tr>\n",
              "    <tr>\n",
              "      <th>min</th>\n",
              "      <td>1939.000000</td>\n",
              "      <td>0.000080</td>\n",
              "      <td>0.008400</td>\n",
              "      <td>-11.920000</td>\n",
              "      <td>0.000000</td>\n",
              "    </tr>\n",
              "    <tr>\n",
              "      <th>25%</th>\n",
              "      <td>3344.250000</td>\n",
              "      <td>0.000865</td>\n",
              "      <td>0.102750</td>\n",
              "      <td>-6.232500</td>\n",
              "      <td>1.000000</td>\n",
              "    </tr>\n",
              "    <tr>\n",
              "      <th>50%</th>\n",
              "      <td>5776.000000</td>\n",
              "      <td>0.070500</td>\n",
              "      <td>0.762500</td>\n",
              "      <td>8.313000</td>\n",
              "      <td>2.500000</td>\n",
              "    </tr>\n",
              "    <tr>\n",
              "      <th>75%</th>\n",
              "      <td>15055.500000</td>\n",
              "      <td>198050.000000</td>\n",
              "      <td>42.750000</td>\n",
              "      <td>13.697500</td>\n",
              "      <td>4.000000</td>\n",
              "    </tr>\n",
              "    <tr>\n",
              "      <th>max</th>\n",
              "      <td>40000.000000</td>\n",
              "      <td>849420.000000</td>\n",
              "      <td>1948.500000</td>\n",
              "      <td>20.060000</td>\n",
              "      <td>5.000000</td>\n",
              "    </tr>\n",
              "  </tbody>\n",
              "</table>\n",
              "</div>\n",
              "    <div class=\"colab-df-buttons\">\n",
              "\n",
              "  <div class=\"colab-df-container\">\n",
              "    <button class=\"colab-df-convert\" onclick=\"convertToInteractive('df-50319a89-deab-4ad2-b3b9-65e05f1ee529')\"\n",
              "            title=\"Convert this dataframe to an interactive table.\"\n",
              "            style=\"display:none;\">\n",
              "\n",
              "  <svg xmlns=\"http://www.w3.org/2000/svg\" height=\"24px\" viewBox=\"0 -960 960 960\">\n",
              "    <path d=\"M120-120v-720h720v720H120Zm60-500h600v-160H180v160Zm220 220h160v-160H400v160Zm0 220h160v-160H400v160ZM180-400h160v-160H180v160Zm440 0h160v-160H620v160ZM180-180h160v-160H180v160Zm440 0h160v-160H620v160Z\"/>\n",
              "  </svg>\n",
              "    </button>\n",
              "\n",
              "  <style>\n",
              "    .colab-df-container {\n",
              "      display:flex;\n",
              "      gap: 12px;\n",
              "    }\n",
              "\n",
              "    .colab-df-convert {\n",
              "      background-color: #E8F0FE;\n",
              "      border: none;\n",
              "      border-radius: 50%;\n",
              "      cursor: pointer;\n",
              "      display: none;\n",
              "      fill: #1967D2;\n",
              "      height: 32px;\n",
              "      padding: 0 0 0 0;\n",
              "      width: 32px;\n",
              "    }\n",
              "\n",
              "    .colab-df-convert:hover {\n",
              "      background-color: #E2EBFA;\n",
              "      box-shadow: 0px 1px 2px rgba(60, 64, 67, 0.3), 0px 1px 3px 1px rgba(60, 64, 67, 0.15);\n",
              "      fill: #174EA6;\n",
              "    }\n",
              "\n",
              "    .colab-df-buttons div {\n",
              "      margin-bottom: 4px;\n",
              "    }\n",
              "\n",
              "    [theme=dark] .colab-df-convert {\n",
              "      background-color: #3B4455;\n",
              "      fill: #D2E3FC;\n",
              "    }\n",
              "\n",
              "    [theme=dark] .colab-df-convert:hover {\n",
              "      background-color: #434B5C;\n",
              "      box-shadow: 0px 1px 3px 1px rgba(0, 0, 0, 0.15);\n",
              "      filter: drop-shadow(0px 1px 2px rgba(0, 0, 0, 0.3));\n",
              "      fill: #FFFFFF;\n",
              "    }\n",
              "  </style>\n",
              "\n",
              "    <script>\n",
              "      const buttonEl =\n",
              "        document.querySelector('#df-50319a89-deab-4ad2-b3b9-65e05f1ee529 button.colab-df-convert');\n",
              "      buttonEl.style.display =\n",
              "        google.colab.kernel.accessAllowed ? 'block' : 'none';\n",
              "\n",
              "      async function convertToInteractive(key) {\n",
              "        const element = document.querySelector('#df-50319a89-deab-4ad2-b3b9-65e05f1ee529');\n",
              "        const dataTable =\n",
              "          await google.colab.kernel.invokeFunction('convertToInteractive',\n",
              "                                                    [key], {});\n",
              "        if (!dataTable) return;\n",
              "\n",
              "        const docLinkHtml = 'Like what you see? Visit the ' +\n",
              "          '<a target=\"_blank\" href=https://colab.research.google.com/notebooks/data_table.ipynb>data table notebook</a>'\n",
              "          + ' to learn more about interactive tables.';\n",
              "        element.innerHTML = '';\n",
              "        dataTable['output_type'] = 'display_data';\n",
              "        await google.colab.output.renderOutput(dataTable, element);\n",
              "        const docLink = document.createElement('div');\n",
              "        docLink.innerHTML = docLinkHtml;\n",
              "        element.appendChild(docLink);\n",
              "      }\n",
              "    </script>\n",
              "  </div>\n",
              "\n",
              "\n",
              "<div id=\"df-8d76fd6f-6a2a-4008-bcbf-4086f89320f4\">\n",
              "  <button class=\"colab-df-quickchart\" onclick=\"quickchart('df-8d76fd6f-6a2a-4008-bcbf-4086f89320f4')\"\n",
              "            title=\"Suggest charts.\"\n",
              "            style=\"display:none;\">\n",
              "\n",
              "<svg xmlns=\"http://www.w3.org/2000/svg\" height=\"24px\"viewBox=\"0 0 24 24\"\n",
              "     width=\"24px\">\n",
              "    <g>\n",
              "        <path d=\"M19 3H5c-1.1 0-2 .9-2 2v14c0 1.1.9 2 2 2h14c1.1 0 2-.9 2-2V5c0-1.1-.9-2-2-2zM9 17H7v-7h2v7zm4 0h-2V7h2v10zm4 0h-2v-4h2v4z\"/>\n",
              "    </g>\n",
              "</svg>\n",
              "  </button>\n",
              "\n",
              "<style>\n",
              "  .colab-df-quickchart {\n",
              "      --bg-color: #E8F0FE;\n",
              "      --fill-color: #1967D2;\n",
              "      --hover-bg-color: #E2EBFA;\n",
              "      --hover-fill-color: #174EA6;\n",
              "      --disabled-fill-color: #AAA;\n",
              "      --disabled-bg-color: #DDD;\n",
              "  }\n",
              "\n",
              "  [theme=dark] .colab-df-quickchart {\n",
              "      --bg-color: #3B4455;\n",
              "      --fill-color: #D2E3FC;\n",
              "      --hover-bg-color: #434B5C;\n",
              "      --hover-fill-color: #FFFFFF;\n",
              "      --disabled-bg-color: #3B4455;\n",
              "      --disabled-fill-color: #666;\n",
              "  }\n",
              "\n",
              "  .colab-df-quickchart {\n",
              "    background-color: var(--bg-color);\n",
              "    border: none;\n",
              "    border-radius: 50%;\n",
              "    cursor: pointer;\n",
              "    display: none;\n",
              "    fill: var(--fill-color);\n",
              "    height: 32px;\n",
              "    padding: 0;\n",
              "    width: 32px;\n",
              "  }\n",
              "\n",
              "  .colab-df-quickchart:hover {\n",
              "    background-color: var(--hover-bg-color);\n",
              "    box-shadow: 0 1px 2px rgba(60, 64, 67, 0.3), 0 1px 3px 1px rgba(60, 64, 67, 0.15);\n",
              "    fill: var(--button-hover-fill-color);\n",
              "  }\n",
              "\n",
              "  .colab-df-quickchart-complete:disabled,\n",
              "  .colab-df-quickchart-complete:disabled:hover {\n",
              "    background-color: var(--disabled-bg-color);\n",
              "    fill: var(--disabled-fill-color);\n",
              "    box-shadow: none;\n",
              "  }\n",
              "\n",
              "  .colab-df-spinner {\n",
              "    border: 2px solid var(--fill-color);\n",
              "    border-color: transparent;\n",
              "    border-bottom-color: var(--fill-color);\n",
              "    animation:\n",
              "      spin 1s steps(1) infinite;\n",
              "  }\n",
              "\n",
              "  @keyframes spin {\n",
              "    0% {\n",
              "      border-color: transparent;\n",
              "      border-bottom-color: var(--fill-color);\n",
              "      border-left-color: var(--fill-color);\n",
              "    }\n",
              "    20% {\n",
              "      border-color: transparent;\n",
              "      border-left-color: var(--fill-color);\n",
              "      border-top-color: var(--fill-color);\n",
              "    }\n",
              "    30% {\n",
              "      border-color: transparent;\n",
              "      border-left-color: var(--fill-color);\n",
              "      border-top-color: var(--fill-color);\n",
              "      border-right-color: var(--fill-color);\n",
              "    }\n",
              "    40% {\n",
              "      border-color: transparent;\n",
              "      border-right-color: var(--fill-color);\n",
              "      border-top-color: var(--fill-color);\n",
              "    }\n",
              "    60% {\n",
              "      border-color: transparent;\n",
              "      border-right-color: var(--fill-color);\n",
              "    }\n",
              "    80% {\n",
              "      border-color: transparent;\n",
              "      border-right-color: var(--fill-color);\n",
              "      border-bottom-color: var(--fill-color);\n",
              "    }\n",
              "    90% {\n",
              "      border-color: transparent;\n",
              "      border-bottom-color: var(--fill-color);\n",
              "    }\n",
              "  }\n",
              "</style>\n",
              "\n",
              "  <script>\n",
              "    async function quickchart(key) {\n",
              "      const quickchartButtonEl =\n",
              "        document.querySelector('#' + key + ' button');\n",
              "      quickchartButtonEl.disabled = true;  // To prevent multiple clicks.\n",
              "      quickchartButtonEl.classList.add('colab-df-spinner');\n",
              "      try {\n",
              "        const charts = await google.colab.kernel.invokeFunction(\n",
              "            'suggestCharts', [key], {});\n",
              "      } catch (error) {\n",
              "        console.error('Error during call to suggestCharts:', error);\n",
              "      }\n",
              "      quickchartButtonEl.classList.remove('colab-df-spinner');\n",
              "      quickchartButtonEl.classList.add('colab-df-quickchart-complete');\n",
              "    }\n",
              "    (() => {\n",
              "      let quickchartButtonEl =\n",
              "        document.querySelector('#df-8d76fd6f-6a2a-4008-bcbf-4086f89320f4 button');\n",
              "      quickchartButtonEl.style.display =\n",
              "        google.colab.kernel.accessAllowed ? 'block' : 'none';\n",
              "    })();\n",
              "  </script>\n",
              "</div>\n",
              "    </div>\n",
              "  </div>\n"
            ]
          },
          "metadata": {},
          "execution_count": 527
        }
      ]
    },
    {
      "cell_type": "markdown",
      "source": [
        "####модель на аугментированном датасете с шумом"
      ],
      "metadata": {
        "id": "CIi6lxLkx8Dp"
      }
    },
    {
      "cell_type": "code",
      "source": [
        "train = augmented_data\n",
        "valid = valid"
      ],
      "metadata": {
        "id": "ngo7kRTGNCjA"
      },
      "execution_count": 528,
      "outputs": []
    },
    {
      "cell_type": "code",
      "source": [
        "X_train = torch.Tensor(column_transformer.fit_transform(train[X]))\n",
        "X_valid = torch.Tensor(column_transformer.transform(valid[X]))\n",
        "\n",
        "y_train = torch.Tensor(train[y].values).reshape(-1, 1)\n",
        "y_valid = torch.Tensor(valid[y].values).reshape(-1, 1)\n",
        "\n",
        "\n",
        "print(X_train.size())\n",
        "print()\n",
        "print(X_valid.size())\n",
        "print()\n"
      ],
      "metadata": {
        "id": "pOmCZ0mEwaig",
        "colab": {
          "base_uri": "https://localhost:8080/"
        },
        "outputId": "96acc99c-0826-4cb8-b997-b6bfea62c10b"
      },
      "execution_count": 529,
      "outputs": [
        {
          "output_type": "stream",
          "name": "stdout",
          "text": [
            "torch.Size([240, 16])\n",
            "\n",
            "torch.Size([48, 16])\n",
            "\n"
          ]
        }
      ]
    },
    {
      "cell_type": "code",
      "source": [
        "input_neurons = X_train.shape[1]\n",
        "\n",
        "\n",
        "model = BaselineModel(input_neurons,\n",
        "                        hidden_neurons,\n",
        "                        output_neurons)"
      ],
      "metadata": {
        "id": "itASJv6X4sE1"
      },
      "execution_count": 530,
      "outputs": []
    },
    {
      "cell_type": "code",
      "source": [
        "for epoch in range(num_epochs):\n",
        "\n",
        "    outputs = model(X_train)\n",
        "\n",
        "    # Вычисление потерь\n",
        "    loss_train = loss(outputs, y_train)\n",
        "\n",
        "    optimizer.zero_grad()\n",
        "    loss_train.backward()\n",
        "    optimizer.step()\n",
        "\n",
        "    if (epoch + 1) % 1000 == 0:\n",
        "        print(f'Epoch [{epoch + 1}/{num_epochs}], Loss: {loss_train.item()}')\n",
        "\n",
        "        model.eval()  # Перевести модель в режим оценки\n",
        "        with torch.no_grad():\n",
        "          valid_outputs = model(X_valid)\n",
        "          valid_loss = loss(valid_outputs, y_valid)\n",
        "          print(f'Valid Loss: {np.sqrt(valid_loss.item())}')"
      ],
      "metadata": {
        "id": "ZaFPC7IQwk8i",
        "colab": {
          "base_uri": "https://localhost:8080/"
        },
        "outputId": "8ed9f849-0741-474e-cacd-eb0013c7ad80"
      },
      "execution_count": 531,
      "outputs": [
        {
          "output_type": "stream",
          "name": "stdout",
          "text": [
            "Epoch [1000/10000], Loss: 201063488.0\n",
            "Valid Loss: 13002.70494935573\n",
            "Epoch [2000/10000], Loss: 201063488.0\n",
            "Valid Loss: 13002.70494935573\n",
            "Epoch [3000/10000], Loss: 201063488.0\n",
            "Valid Loss: 13002.70494935573\n",
            "Epoch [4000/10000], Loss: 201063488.0\n",
            "Valid Loss: 13002.70494935573\n",
            "Epoch [5000/10000], Loss: 201063488.0\n",
            "Valid Loss: 13002.70494935573\n",
            "Epoch [6000/10000], Loss: 201063488.0\n",
            "Valid Loss: 13002.70494935573\n",
            "Epoch [7000/10000], Loss: 201063488.0\n",
            "Valid Loss: 13002.70494935573\n",
            "Epoch [8000/10000], Loss: 201063488.0\n",
            "Valid Loss: 13002.70494935573\n",
            "Epoch [9000/10000], Loss: 201063488.0\n",
            "Valid Loss: 13002.70494935573\n",
            "Epoch [10000/10000], Loss: 201063488.0\n",
            "Valid Loss: 13002.70494935573\n"
          ]
        }
      ]
    },
    {
      "cell_type": "code",
      "source": [
        "rmse_augmented = np.sqrt(valid_loss.item())\n",
        "result.append(['rmse_augmented', rmse_augmented])\n",
        "result"
      ],
      "metadata": {
        "id": "h8bDMGHBwqp9",
        "colab": {
          "base_uri": "https://localhost:8080/"
        },
        "outputId": "6b71d656-3bd0-4b0b-d10d-be64d3b8630d"
      },
      "execution_count": 532,
      "outputs": [
        {
          "output_type": "execute_result",
          "data": {
            "text/plain": [
              "[['rmse_baseline', 5117.505056177278],\n",
              " ['dropout_rmse', 4371.038549361009],\n",
              " ['batch_sizes_rmse', 5048.604361603313],\n",
              " ['rmse_best_model', 10194.582090502778],\n",
              " ['rmse_synthetic', 572814.4874145555],\n",
              " ['rmse_augmented', 13002.70494935573]]"
            ]
          },
          "metadata": {},
          "execution_count": 532
        }
      ]
    },
    {
      "cell_type": "code",
      "source": [
        "plot(y_test, test_outputs, 'Augmented data')"
      ],
      "metadata": {
        "colab": {
          "base_uri": "https://localhost:8080/",
          "height": 476
        },
        "id": "Dff_3GZklmPn",
        "outputId": "ed222acb-6035-40f3-f321-b8cceed71efd"
      },
      "execution_count": 533,
      "outputs": [
        {
          "output_type": "display_data",
          "data": {
            "text/plain": [
              "<Figure size 800x400 with 1 Axes>"
            ],
            "image/png": "[encoded data removed]"
          },
          "metadata": {}
        }
      ]
    },
    {
      "cell_type": "markdown",
      "source": [
        "#### модель на 2-x датасетах"
      ],
      "metadata": {
        "id": "Z2A0o_1LzZYr"
      }
    },
    {
      "cell_type": "code",
      "source": [
        "data_concat2 = pd.concat([augmented_data,\n",
        "                          synthetic_data],\n",
        "                         ignore_index = True)"
      ],
      "metadata": {
        "id": "sYo92dgWwt8r"
      },
      "execution_count": 534,
      "outputs": []
    },
    {
      "cell_type": "code",
      "source": [
        "train = data_concat2\n",
        "valid = valid"
      ],
      "metadata": {
        "id": "bKHCZ9zzQiiC"
      },
      "execution_count": 535,
      "outputs": []
    },
    {
      "cell_type": "code",
      "source": [
        "print('Размер обучающей выборки',train.shape)\n",
        "print ()\n",
        "print('Размер валидационной выборки', valid.shape)"
      ],
      "metadata": {
        "id": "PTlgCcyxyxMU",
        "colab": {
          "base_uri": "https://localhost:8080/"
        },
        "outputId": "a5c8a1ac-f73d-4370-8f39-9731a09c810e"
      },
      "execution_count": 536,
      "outputs": [
        {
          "output_type": "stream",
          "name": "stdout",
          "text": [
            "Размер обучающей выборки (482, 6)\n",
            "\n",
            "Размер валидационной выборки (48, 6)\n"
          ]
        }
      ]
    },
    {
      "cell_type": "code",
      "source": [
        "X_train = torch.Tensor(column_transformer.fit_transform(train[X]).toarray())\n",
        "X_valid = torch.Tensor(column_transformer.transform(valid[X]).toarray())\n",
        "\n",
        "y_train = torch.Tensor(train[y].values).reshape(-1, 1)\n",
        "y_valid = torch.Tensor(valid[y].values).reshape(-1, 1)\n",
        "\n",
        "print(X_train.size())\n",
        "print()\n",
        "print(X_valid.size())\n"
      ],
      "metadata": {
        "id": "Kzd6B_cbzfx1",
        "colab": {
          "base_uri": "https://localhost:8080/"
        },
        "outputId": "0c5c62be-16ff-40ac-e5fe-41d4a07bb925"
      },
      "execution_count": 537,
      "outputs": [
        {
          "output_type": "stream",
          "name": "stdout",
          "text": [
            "torch.Size([482, 17])\n",
            "\n",
            "torch.Size([48, 17])\n"
          ]
        }
      ]
    },
    {
      "cell_type": "code",
      "source": [
        "input_neurons = X_train.shape[1]\n",
        "\n",
        "model = BaselineModel(input_neurons,\n",
        "                        hidden_neurons,\n",
        "                        output_neurons)\n",
        "\n",
        "optimizer = torch.optim.Adam(model.parameters(), lr=0.01)"
      ],
      "metadata": {
        "id": "jdHhT4uh0byj"
      },
      "execution_count": 538,
      "outputs": []
    },
    {
      "cell_type": "code",
      "source": [
        "for epoch in range(num_epochs):\n",
        "\n",
        "    outputs = model(X_train)\n",
        "\n",
        "    # Вычисление потерь\n",
        "    loss_train = loss(outputs, y_train)\n",
        "\n",
        "    optimizer.zero_grad()\n",
        "    loss_train.backward()\n",
        "    optimizer.step()\n",
        "\n",
        "    if (epoch + 1) % 1000 == 0:\n",
        "        print(f'Epoch [{epoch + 1}/{num_epochs}], Loss: {loss_train.item()}')\n",
        "\n",
        "        model.eval()  # Перевести модель в режим оценки\n",
        "\n",
        "        with torch.no_grad():\n",
        "            valid_outputs = model(X_valid)\n",
        "            valid_loss = loss(valid_outputs, y_valid)\n",
        "\n",
        "print(f'Valid Loss: {np.sqrt(valid_loss.item())}')"
      ],
      "metadata": {
        "id": "sG9X-6YZzoVA",
        "colab": {
          "base_uri": "https://localhost:8080/"
        },
        "outputId": "5f240104-16b7-4afb-b0a9-e564851044a4"
      },
      "execution_count": 539,
      "outputs": [
        {
          "output_type": "stream",
          "name": "stdout",
          "text": [
            "Epoch [1000/10000], Loss: 22144048.0\n",
            "Epoch [2000/10000], Loss: 17666034.0\n",
            "Epoch [3000/10000], Loss: 15173116.0\n",
            "Epoch [4000/10000], Loss: 13971649.0\n",
            "Epoch [5000/10000], Loss: 13548407.0\n",
            "Epoch [6000/10000], Loss: 13280601.0\n",
            "Epoch [7000/10000], Loss: 12833667.0\n",
            "Epoch [8000/10000], Loss: 12547144.0\n",
            "Epoch [9000/10000], Loss: 12234729.0\n",
            "Epoch [10000/10000], Loss: 12004652.0\n",
            "Valid Loss: 3725.5755260093706\n"
          ]
        }
      ]
    },
    {
      "cell_type": "code",
      "source": [
        "rmse_concat2 = np.sqrt(valid_loss.item())\n",
        "result.append(['rmse_concat2', rmse_concat2])\n",
        "result"
      ],
      "metadata": {
        "id": "EqxtoGwRzsEK",
        "colab": {
          "base_uri": "https://localhost:8080/"
        },
        "outputId": "47d58ca9-54eb-469b-ebba-33b273f0d27e"
      },
      "execution_count": 540,
      "outputs": [
        {
          "output_type": "execute_result",
          "data": {
            "text/plain": [
              "[['rmse_baseline', 5117.505056177278],\n",
              " ['dropout_rmse', 4371.038549361009],\n",
              " ['batch_sizes_rmse', 5048.604361603313],\n",
              " ['rmse_best_model', 10194.582090502778],\n",
              " ['rmse_synthetic', 572814.4874145555],\n",
              " ['rmse_augmented', 13002.70494935573],\n",
              " ['rmse_concat2', 3725.5755260093706]]"
            ]
          },
          "metadata": {},
          "execution_count": 540
        }
      ]
    },
    {
      "cell_type": "code",
      "source": [
        "plot(y_valid, valid_outputs, 'RMSE on synthetic+augmented')"
      ],
      "metadata": {
        "colab": {
          "base_uri": "https://localhost:8080/",
          "height": 476
        },
        "id": "xSh4N9Q4psbU",
        "outputId": "c6200f2f-379a-4be8-8694-150251294eaf"
      },
      "execution_count": 541,
      "outputs": [
        {
          "output_type": "display_data",
          "data": {
            "text/plain": [
              "<Figure size 800x400 with 1 Axes>"
            ],
            "image/png": "[encoded data removed]"
          },
          "metadata": {}
        }
      ]
    },
    {
      "cell_type": "markdown",
      "source": [
        "#### Модель на 3 датасетах"
      ],
      "metadata": {
        "id": "F3RF_ZUDBuaj"
      }
    },
    {
      "cell_type": "code",
      "source": [
        "data_concat3 = pd.concat([data,\n",
        "                          augmented_data,\n",
        "                          synthetic_data],\n",
        "                         ignore_index = True)"
      ],
      "metadata": {
        "id": "AbohU4_DBtjb"
      },
      "execution_count": 544,
      "outputs": []
    },
    {
      "cell_type": "code",
      "source": [
        "train, valid = train_test_split(data_concat3,\n",
        "                                test_size = 0.4,\n",
        "                                shuffle=True,\n",
        "                                random_state = RANDOM_STATE)\n",
        "print('Размер обучающей выборки',train.shape)\n",
        "\n",
        "valid, test = train_test_split(valid,\n",
        "                               test_size = 0.5,\n",
        "                               shuffle=True,\n",
        "                                random_state = RANDOM_STATE)\n",
        "\n",
        "print('Размер валидационной выборки', valid.shape)\n",
        "print( )\n",
        "print('Размер тестовой выборки', test.shape)"
      ],
      "metadata": {
        "id": "DZCF2twcCTh-",
        "colab": {
          "base_uri": "https://localhost:8080/"
        },
        "outputId": "4236a014-24db-412d-e4c4-21a95e11d9ab"
      },
      "execution_count": 545,
      "outputs": [
        {
          "output_type": "stream",
          "name": "stdout",
          "text": [
            "Размер обучающей выборки (433, 6)\n",
            "Размер валидационной выборки (144, 6)\n",
            "\n",
            "Размер тестовой выборки (145, 6)\n"
          ]
        }
      ]
    },
    {
      "cell_type": "code",
      "source": [
        "X_train = torch.Tensor(column_transformer.fit_transform(train[X]).toarray())\n",
        "X_valid = torch.Tensor(column_transformer.transform(valid[X]).toarray())\n",
        "X_test = torch.Tensor(column_transformer.transform(test[X]).toarray())\n",
        "\n",
        "\n",
        "y_train = torch.Tensor(train[y].values).reshape(-1, 1)\n",
        "y_valid = torch.Tensor(valid[y].values).reshape(-1, 1)\n",
        "y_test = torch.Tensor(test[y].values).reshape(-1, 1)\n",
        "\n",
        "print(X_train.size())\n",
        "print()\n",
        "print(X_valid.size())\n",
        "print()\n",
        "print(X_test.size())"
      ],
      "metadata": {
        "id": "GqMgqEHlCas6",
        "colab": {
          "base_uri": "https://localhost:8080/"
        },
        "outputId": "4d04ab89-1fb8-4917-e912-6957c93a7c8b"
      },
      "execution_count": 547,
      "outputs": [
        {
          "output_type": "stream",
          "name": "stdout",
          "text": [
            "torch.Size([433, 17])\n",
            "\n",
            "torch.Size([144, 17])\n",
            "\n",
            "torch.Size([145, 17])\n"
          ]
        }
      ]
    },
    {
      "cell_type": "code",
      "source": [
        "input_neurons = X_train.shape[1]\n",
        "\n",
        "model = BaselineModel(input_neurons,\n",
        "                      hidden_neurons,\n",
        "                      output_neurons)\n",
        "\n",
        "optimizer = torch.optim.Adam(model.parameters(), lr=0.01)"
      ],
      "metadata": {
        "id": "wykknTNN8G1L"
      },
      "execution_count": 548,
      "outputs": []
    },
    {
      "cell_type": "code",
      "source": [
        "for epoch in range(num_epochs):\n",
        "\n",
        "    outputs = model(X_train)\n",
        "\n",
        "    # Вычисление потерь\n",
        "    loss_train = loss(outputs, y_train)\n",
        "\n",
        "    optimizer.zero_grad()\n",
        "    loss_train.backward()\n",
        "    optimizer.step()\n",
        "\n",
        "    if (epoch + 1) % 1000 == 0:\n",
        "        print(f'Epoch [{epoch + 1}/{num_epochs}], Loss: {loss_train.item()}')\n",
        "\n",
        "        model.eval()  # Перевести модель в режим оценки\n",
        "        with torch.no_grad():\n",
        "            valid_outputs = model(X_valid)\n",
        "            valid_loss = loss(valid_outputs, y_valid)\n",
        "\n",
        "print(f'Valid Loss: {np.sqrt(valid_loss.item())}')"
      ],
      "metadata": {
        "colab": {
          "base_uri": "https://localhost:8080/"
        },
        "id": "ecM54ODpqS58",
        "outputId": "71e9a946-e63c-4326-b8b3-fcf9242e4bc8"
      },
      "execution_count": 549,
      "outputs": [
        {
          "output_type": "stream",
          "name": "stdout",
          "text": [
            "Epoch [1000/10000], Loss: 21430528.0\n",
            "Epoch [2000/10000], Loss: 16682923.0\n",
            "Epoch [3000/10000], Loss: 14275452.0\n",
            "Epoch [4000/10000], Loss: 12805513.0\n",
            "Epoch [5000/10000], Loss: 12003282.0\n",
            "Epoch [6000/10000], Loss: 11615849.0\n",
            "Epoch [7000/10000], Loss: 11350702.0\n",
            "Epoch [8000/10000], Loss: 11026472.0\n",
            "Epoch [9000/10000], Loss: 10525140.0\n",
            "Epoch [10000/10000], Loss: 10165565.0\n",
            "Valid Loss: 5195.422793190175\n"
          ]
        }
      ]
    },
    {
      "cell_type": "code",
      "source": [
        "rmse_concat3 = np.sqrt(valid_loss.item())\n",
        "result.append(['rmse_concat3', rmse_concat3])\n",
        "result"
      ],
      "metadata": {
        "id": "9FOjdw7WDB-c",
        "colab": {
          "base_uri": "https://localhost:8080/"
        },
        "outputId": "26441030-af5b-4f83-f9d1-67d4a14bd9a7"
      },
      "execution_count": 550,
      "outputs": [
        {
          "output_type": "execute_result",
          "data": {
            "text/plain": [
              "[['rmse_baseline', 5117.505056177278],\n",
              " ['dropout_rmse', 4371.038549361009],\n",
              " ['batch_sizes_rmse', 5048.604361603313],\n",
              " ['rmse_best_model', 10194.582090502778],\n",
              " ['rmse_synthetic', 572814.4874145555],\n",
              " ['rmse_augmented', 13002.70494935573],\n",
              " ['rmse_concat2', 3725.5755260093706],\n",
              " ['batch_sizes_rmse', 5048.604361603313],\n",
              " ['rmse_concat3', 5195.422793190175]]"
            ]
          },
          "metadata": {},
          "execution_count": 550
        }
      ]
    },
    {
      "cell_type": "markdown",
      "source": [
        "## Финальная модель"
      ],
      "metadata": {
        "id": "r7DdYu9AS8in"
      }
    },
    {
      "cell_type": "markdown",
      "source": [
        "По результатам исследования мы получили данные, что все манипуляции уменьшали rmse модели, поэтому сейчас мы соберем модель и выясним метрику.\n",
        "- Dropout\n",
        "- batchsize\n",
        "- аугментация"
      ],
      "metadata": {
        "id": "1HFLXl1FTAlD"
      }
    },
    {
      "cell_type": "markdown",
      "source": [
        "Учитывая, что датасеты у нас тоже менялись, я найду еще раз лучший размер батча."
      ],
      "metadata": {
        "id": "Mo94cydYfMvv"
      }
    },
    {
      "cell_type": "code",
      "source": [
        "train, valid = train_test_split(data_concat2,\n",
        "                                test_size = 0.4,\n",
        "                                shuffle=True,\n",
        "                                random_state = RANDOM_STATE)\n",
        "print('Размер обучающей выборки',train.shape)\n",
        "\n",
        "valid, test = train_test_split(valid,\n",
        "                               test_size = 0.5,\n",
        "                               shuffle=True,\n",
        "                                random_state = RANDOM_STATE)\n",
        "\n",
        "print('Размер валидационной выборки', valid.shape)\n",
        "print( )\n",
        "print('Размер тестовой выборки', test.shape)"
      ],
      "metadata": {
        "colab": {
          "base_uri": "https://localhost:8080/"
        },
        "id": "dEA0xEI_fMIt",
        "outputId": "3568c472-472d-44df-8601-b31a51aa5ae2"
      },
      "execution_count": 556,
      "outputs": [
        {
          "output_type": "stream",
          "name": "stdout",
          "text": [
            "Размер обучающей выборки (289, 6)\n",
            "Размер валидационной выборки (96, 6)\n",
            "\n",
            "Размер тестовой выборки (97, 6)\n"
          ]
        }
      ]
    },
    {
      "cell_type": "code",
      "source": [
        "X_train = torch.Tensor(column_transformer.fit_transform(train[X]))\n",
        "X_valid = torch.Tensor(column_transformer.transform(valid[X]))\n",
        "X_test = torch.Tensor(column_transformer.transform(test[X]))\n",
        "\n",
        "\n",
        "y_train = torch.Tensor(train[y].values).reshape(-1, 1)\n",
        "y_valid = torch.Tensor(valid[y].values).reshape(-1, 1)\n",
        "y_test = torch.Tensor(test[y].values).reshape(-1, 1)\n",
        "\n",
        "print(X_train.size())\n",
        "print()\n",
        "print(X_valid.size())\n",
        "print()\n",
        "print(X_test.size())"
      ],
      "metadata": {
        "colab": {
          "base_uri": "https://localhost:8080/"
        },
        "id": "xtbnj17Ohr2O",
        "outputId": "b0f278ca-35c4-4596-9c71-5cbeed854c8e"
      },
      "execution_count": 558,
      "outputs": [
        {
          "output_type": "stream",
          "name": "stdout",
          "text": [
            "torch.Size([289, 16])\n",
            "\n",
            "torch.Size([96, 16])\n",
            "\n",
            "torch.Size([97, 16])\n"
          ]
        }
      ]
    },
    {
      "cell_type": "code",
      "source": [
        "dropout_values = [0.1, 0.2, 0.3, 0.4, 0.6]\n",
        "best_dropout = 0.5\n",
        "best_model = None\n",
        "batch_sizes = [int(0.1 * len(X_train)),\n",
        "               int(0.3 * len(X_train)),\n",
        "               int(0.5 * len(X_train))]\n",
        "\n",
        "best_rmse = float('inf')\n",
        "best_batch_size = None\n",
        "\n",
        "input_neurons = X_train.shape[1]\n",
        "model = DropoutModel(input_neurons, hidden_neurons, output_neurons, best_dropout)\n",
        "optimizer = torch.optim.Adam(model.parameters(), lr=0.01)\n",
        "\n",
        "for dropout in dropout_values:\n",
        "    for batch_size in batch_sizes:\n",
        "        model = DropoutModel(input_neurons, hidden_neurons, output_neurons, dropout)\n",
        "        optimizer = torch.optim.Adam(model.parameters(), lr=0.01)\n",
        "\n",
        "        for epoch in range(num_epochs):\n",
        "            outputs = model(X_train)\n",
        "            loss_train = loss(outputs, y_train)\n",
        "\n",
        "            optimizer.zero_grad()\n",
        "            loss_train.backward()\n",
        "            optimizer.step()\n",
        "\n",
        "            if (epoch + 1) % 5000 == 0:\n",
        "                model.eval()\n",
        "                print(f'Epoch [{epoch + 1}/{num_epochs}], Loss: {loss_train.item()}')\n",
        "\n",
        "                with torch.no_grad():\n",
        "                    valid_outputs = model(X_valid)\n",
        "                    valid_loss = loss(valid_outputs, y_valid)\n",
        "                    rmse = np.sqrt(valid_loss.item())\n",
        "\n",
        "        if rmse < best_rmse:\n",
        "            best_rmse = rmse\n",
        "            best_batch_size = batch_size\n",
        "            best_dropout = dropout\n",
        "            best_model = model\n",
        "\n",
        "\n",
        "print(f'Best Batch Size: {best_batch_size}, Best RMSE: {best_rmse}, Best Dropout: {best_dropout}')"
      ],
      "metadata": {
        "id": "te6oM7c9xb59",
        "colab": {
          "base_uri": "https://localhost:8080/"
        },
        "outputId": "ce1260fc-98a3-4c36-ac16-5cc26cb71a9b"
      },
      "execution_count": 568,
      "outputs": [
        {
          "output_type": "stream",
          "name": "stdout",
          "text": [
            "Epoch [5000/10000], Loss: 26981674.0\n",
            "Epoch [10000/10000], Loss: 12175218.0\n",
            "Epoch [5000/10000], Loss: 31172608.0\n",
            "Epoch [10000/10000], Loss: 12266205.0\n",
            "Epoch [5000/10000], Loss: 23692950.0\n",
            "Epoch [10000/10000], Loss: 11873808.0\n",
            "Epoch [5000/10000], Loss: 39766968.0\n",
            "Epoch [10000/10000], Loss: 12213372.0\n",
            "Epoch [5000/10000], Loss: 45957252.0\n",
            "Epoch [10000/10000], Loss: 12064646.0\n",
            "Epoch [5000/10000], Loss: 29728832.0\n",
            "Epoch [10000/10000], Loss: 12176932.0\n",
            "Epoch [5000/10000], Loss: 64533268.0\n",
            "Epoch [10000/10000], Loss: 12425381.0\n",
            "Epoch [5000/10000], Loss: 58519740.0\n",
            "Epoch [10000/10000], Loss: 12231352.0\n",
            "Epoch [5000/10000], Loss: 67279872.0\n",
            "Epoch [10000/10000], Loss: 12479237.0\n",
            "Epoch [5000/10000], Loss: 82942896.0\n",
            "Epoch [10000/10000], Loss: 10760948.0\n",
            "Epoch [5000/10000], Loss: 62949668.0\n",
            "Epoch [10000/10000], Loss: 12273786.0\n",
            "Epoch [5000/10000], Loss: 72220704.0\n",
            "Epoch [10000/10000], Loss: 12569233.0\n",
            "Epoch [5000/10000], Loss: 113273616.0\n",
            "Epoch [10000/10000], Loss: 12814194.0\n",
            "Epoch [5000/10000], Loss: 102673424.0\n",
            "Epoch [10000/10000], Loss: 12846708.0\n",
            "Epoch [5000/10000], Loss: 88534160.0\n",
            "Epoch [10000/10000], Loss: 12637357.0\n",
            "Best Batch Size: 86, Best RMSE: 3056.991167798821, Best Dropout: 0.2\n"
          ]
        }
      ]
    },
    {
      "cell_type": "code",
      "source": [
        "# оцениваем\n",
        "best_model.eval()\n",
        "\n",
        "# Прогон X_test через модель\n",
        "with torch.no_grad():\n",
        "    test_outputs = best_model(X_test)\n",
        "    test_loss = loss(test_outputs, y_test)\n",
        "\n",
        "# Оценка RMSE (если целевые значения и предсказания имеют одинаковые формы)\n",
        "rmse_test = np.sqrt(test_loss.item())\n",
        "\n",
        "print(f'RMSE on Test Data: {rmse_test}')\n"
      ],
      "metadata": {
        "colab": {
          "base_uri": "https://localhost:8080/"
        },
        "id": "yaEm0z3Ie-BU",
        "outputId": "fa4a4bf9-7312-426f-bc92-dbe4ef119b80"
      },
      "execution_count": 569,
      "outputs": [
        {
          "output_type": "stream",
          "name": "stdout",
          "text": [
            "RMSE on Test Data: 4266.430358039376\n"
          ]
        }
      ]
    },
    {
      "cell_type": "code",
      "source": [],
      "metadata": {
        "colab": {
          "base_uri": "https://localhost:8080/"
        },
        "id": "2-wlYRgeijnn",
        "outputId": "301e6a6e-55ee-41e3-e063-31fc6ae64918"
      },
      "execution_count": 564,
      "outputs": [
        {
          "output_type": "stream",
          "name": "stdout",
          "text": [
            "4326.859369103646\n"
          ]
        }
      ]
    },
    {
      "cell_type": "markdown",
      "source": [
        "## Вывод"
      ],
      "metadata": {
        "id": "EzS2eH7TxaE7"
      }
    }
  ]
}