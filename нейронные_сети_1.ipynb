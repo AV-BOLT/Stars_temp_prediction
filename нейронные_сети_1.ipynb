{
  "nbformat": 4,
  "nbformat_minor": 0,
  "metadata": {
    "colab": {
      "provenance": [],
      "toc_visible": true,
      "mount_file_id": "1abbcXNhpNnyVazrDEZYDYeFLe_U42j_S",
      "authorship_tag": "ABX9TyN4J/W+8bBPMa3OymtSVYFr",
      "include_colab_link": true
    },
    "kernelspec": {
      "name": "python3",
      "display_name": "Python 3"
    },
    "language_info": {
      "name": "python"
    }
  },
  "cells": [
    {
      "cell_type": "markdown",
      "metadata": {
        "id": "view-in-github",
        "colab_type": "text"
      },
      "source": [
        "<a href=\"https://colab.research.google.com/github/AV-BOLT/Stars_temp_prediction/blob/master/%D0%BD%D0%B5%D0%B9%D1%80%D0%BE%D0%BD%D0%BD%D1%8B%D0%B5_%D1%81%D0%B5%D1%82%D0%B8_1.ipynb\" target=\"_parent\"><img src=\"https://colab.research.google.com/assets/colab-badge.svg\" alt=\"Open In Colab\"/></a>"
      ]
    },
    {
      "cell_type": "markdown",
      "source": [
        "# Прогнозирование температуры звезды"
      ],
      "metadata": {
        "id": "fFvQqQ8-PfPB"
      }
    },
    {
      "cell_type": "markdown",
      "source": [
        "В рамках данного проекта нам предлагается решить задачу по предсказанию температуры на поверхности звезды,  по ее характеристикам:\n",
        "\n",
        "- Относительная светимость L/Lo — светимость звезды относительно Солнца.\n",
        "- Относительный радиус R/Ro — радиус звезды относительно радиуса Солнца.\n",
        "- Абсолютная звёздная величина Mv — физическая величина, характеризующая блеск звезды.\n",
        "- Звёздный цвет (white, red, blue, yellow, yellow-orange и др.) — цвет звезды, который определяют на основе спектрального анализа.\n",
        "Тип звезды.\n",
        "\n",
        "Целевой признак - Temperature (K).\n",
        "\n",
        "В нашем распоряжении датасет из 240 изученных звезд.\n",
        "\n",
        "**Основные шаги:**\n",
        "- загрузка данных\n",
        "- анализ и предобработка данных\n",
        "- построение baseline модели\n",
        "- улучшение модели (настройка гиперпараметров, обогащение данных и др.)\n",
        "- оценка итоговой модели.\n",
        "\n",
        "**Требования:**\n",
        "\n",
        "При решении данной задачи нам необходимо достичь\n",
        "\n",
        "- метрика rmse < 4500\n",
        "- проанализировать модели с разными параметрами dropout, batchsize.\n",
        "\n",
        "Для решения этой задачи мы построим нейронную сеть следующей архитектуры:\n",
        "\n",
        "В качестве baseline модели будем использовать нейронную сеть следующей архитектуры:\n",
        "\n",
        "|  Название параметра |кол-во|  \n",
        "|---------------|-|\n",
        "|Входной слой  (нейронов)|3|\n",
        "|Скрытые слои   |2|\n",
        "|Выходной слой  (нейронов)|1|\n",
        "|Инициация весов |xavier_uniform|\n",
        "|Инициация смещения |constant (0)|\n",
        "|Функция активации\n",
        "в выходном слое |nn.ReLU() |\n",
        "\n",
        "После получения результата baseline модели приступим к улучшению модели, которые можно разделить на 2 метода\n",
        "\n",
        "Подбор гиперпараметров\n",
        "\n",
        "- подбор dropout\n",
        "- подбор batchsize\n",
        "\n",
        "Обогащение данных\n",
        "\n",
        "- создание синтетического датасета\n",
        "- добавление шума к данным.\n"
      ],
      "metadata": {
        "id": "-ECx77jSPkKn"
      }
    },
    {
      "cell_type": "markdown",
      "source": [
        "## Загрузка данных и библиотек"
      ],
      "metadata": {
        "id": "U-JMnwGlDpxi"
      }
    },
    {
      "cell_type": "code",
      "source": [
        "import pandas as pd\n",
        "import re\n",
        "import torch.nn as nn\n",
        "import torch\n",
        "import numpy as np\n",
        "import random\n",
        "import seaborn as sns\n",
        "import matplotlib.pyplot as plt\n",
        "\n",
        "from math import ceil\n",
        "from sklearn.preprocessing import StandardScaler\n",
        "from sklearn.model_selection import train_test_split\n",
        "from sklearn.compose import ColumnTransformer\n",
        "from sklearn.feature_extraction.text import CountVectorizer\n",
        "from sklearn.preprocessing import OneHotEncoder"
      ],
      "metadata": {
        "id": "zE9Uk2hFDDcP"
      },
      "execution_count": 1,
      "outputs": []
    },
    {
      "cell_type": "code",
      "source": [],
      "metadata": {
        "id": "wVtJ2BJ2PDRT"
      },
      "execution_count": 1,
      "outputs": []
    },
    {
      "cell_type": "code",
      "source": [
        "data = pd.read_csv('/content/drive/MyDrive/Projects_YP/нейронные сети 1 проект/6_class.csv')\n",
        "data.head()"
      ],
      "metadata": {
        "colab": {
          "base_uri": "https://localhost:8080/",
          "height": 224
        },
        "id": "45G1MEBsDGI5",
        "outputId": "45ffe731-1935-4063-893c-a7286e828bdd"
      },
      "execution_count": 2,
      "outputs": [
        {
          "output_type": "execute_result",
          "data": {
            "text/plain": [
              "   Unnamed: 0  Temperature (K)  Luminosity(L/Lo)  Radius(R/Ro)  \\\n",
              "0           0             3068          0.002400        0.1700   \n",
              "1           1             3042          0.000500        0.1542   \n",
              "2           2             2600          0.000300        0.1020   \n",
              "3           3             2800          0.000200        0.1600   \n",
              "4           4             1939          0.000138        0.1030   \n",
              "\n",
              "   Absolute magnitude(Mv)  Star type Star color  \n",
              "0                   16.12          0        Red  \n",
              "1                   16.60          0        Red  \n",
              "2                   18.70          0        Red  \n",
              "3                   16.65          0        Red  \n",
              "4                   20.06          0        Red  "
            ],
            "text/html": [
              "\n",
              "  <div id=\"df-32a7b8a5-12cd-4104-b623-05a6d129fdd3\" class=\"colab-df-container\">\n",
              "    <div>\n",
              "<style scoped>\n",
              "    .dataframe tbody tr th:only-of-type {\n",
              "        vertical-align: middle;\n",
              "    }\n",
              "\n",
              "    .dataframe tbody tr th {\n",
              "        vertical-align: top;\n",
              "    }\n",
              "\n",
              "    .dataframe thead th {\n",
              "        text-align: right;\n",
              "    }\n",
              "</style>\n",
              "<table border=\"1\" class=\"dataframe\">\n",
              "  <thead>\n",
              "    <tr style=\"text-align: right;\">\n",
              "      <th></th>\n",
              "      <th>Unnamed: 0</th>\n",
              "      <th>Temperature (K)</th>\n",
              "      <th>Luminosity(L/Lo)</th>\n",
              "      <th>Radius(R/Ro)</th>\n",
              "      <th>Absolute magnitude(Mv)</th>\n",
              "      <th>Star type</th>\n",
              "      <th>Star color</th>\n",
              "    </tr>\n",
              "  </thead>\n",
              "  <tbody>\n",
              "    <tr>\n",
              "      <th>0</th>\n",
              "      <td>0</td>\n",
              "      <td>3068</td>\n",
              "      <td>0.002400</td>\n",
              "      <td>0.1700</td>\n",
              "      <td>16.12</td>\n",
              "      <td>0</td>\n",
              "      <td>Red</td>\n",
              "    </tr>\n",
              "    <tr>\n",
              "      <th>1</th>\n",
              "      <td>1</td>\n",
              "      <td>3042</td>\n",
              "      <td>0.000500</td>\n",
              "      <td>0.1542</td>\n",
              "      <td>16.60</td>\n",
              "      <td>0</td>\n",
              "      <td>Red</td>\n",
              "    </tr>\n",
              "    <tr>\n",
              "      <th>2</th>\n",
              "      <td>2</td>\n",
              "      <td>2600</td>\n",
              "      <td>0.000300</td>\n",
              "      <td>0.1020</td>\n",
              "      <td>18.70</td>\n",
              "      <td>0</td>\n",
              "      <td>Red</td>\n",
              "    </tr>\n",
              "    <tr>\n",
              "      <th>3</th>\n",
              "      <td>3</td>\n",
              "      <td>2800</td>\n",
              "      <td>0.000200</td>\n",
              "      <td>0.1600</td>\n",
              "      <td>16.65</td>\n",
              "      <td>0</td>\n",
              "      <td>Red</td>\n",
              "    </tr>\n",
              "    <tr>\n",
              "      <th>4</th>\n",
              "      <td>4</td>\n",
              "      <td>1939</td>\n",
              "      <td>0.000138</td>\n",
              "      <td>0.1030</td>\n",
              "      <td>20.06</td>\n",
              "      <td>0</td>\n",
              "      <td>Red</td>\n",
              "    </tr>\n",
              "  </tbody>\n",
              "</table>\n",
              "</div>\n",
              "    <div class=\"colab-df-buttons\">\n",
              "\n",
              "  <div class=\"colab-df-container\">\n",
              "    <button class=\"colab-df-convert\" onclick=\"convertToInteractive('df-32a7b8a5-12cd-4104-b623-05a6d129fdd3')\"\n",
              "            title=\"Convert this dataframe to an interactive table.\"\n",
              "            style=\"display:none;\">\n",
              "\n",
              "  <svg xmlns=\"http://www.w3.org/2000/svg\" height=\"24px\" viewBox=\"0 -960 960 960\">\n",
              "    <path d=\"M120-120v-720h720v720H120Zm60-500h600v-160H180v160Zm220 220h160v-160H400v160Zm0 220h160v-160H400v160ZM180-400h160v-160H180v160Zm440 0h160v-160H620v160ZM180-180h160v-160H180v160Zm440 0h160v-160H620v160Z\"/>\n",
              "  </svg>\n",
              "    </button>\n",
              "\n",
              "  <style>\n",
              "    .colab-df-container {\n",
              "      display:flex;\n",
              "      gap: 12px;\n",
              "    }\n",
              "\n",
              "    .colab-df-convert {\n",
              "      background-color: #E8F0FE;\n",
              "      border: none;\n",
              "      border-radius: 50%;\n",
              "      cursor: pointer;\n",
              "      display: none;\n",
              "      fill: #1967D2;\n",
              "      height: 32px;\n",
              "      padding: 0 0 0 0;\n",
              "      width: 32px;\n",
              "    }\n",
              "\n",
              "    .colab-df-convert:hover {\n",
              "      background-color: #E2EBFA;\n",
              "      box-shadow: 0px 1px 2px rgba(60, 64, 67, 0.3), 0px 1px 3px 1px rgba(60, 64, 67, 0.15);\n",
              "      fill: #174EA6;\n",
              "    }\n",
              "\n",
              "    .colab-df-buttons div {\n",
              "      margin-bottom: 4px;\n",
              "    }\n",
              "\n",
              "    [theme=dark] .colab-df-convert {\n",
              "      background-color: #3B4455;\n",
              "      fill: #D2E3FC;\n",
              "    }\n",
              "\n",
              "    [theme=dark] .colab-df-convert:hover {\n",
              "      background-color: #434B5C;\n",
              "      box-shadow: 0px 1px 3px 1px rgba(0, 0, 0, 0.15);\n",
              "      filter: drop-shadow(0px 1px 2px rgba(0, 0, 0, 0.3));\n",
              "      fill: #FFFFFF;\n",
              "    }\n",
              "  </style>\n",
              "\n",
              "    <script>\n",
              "      const buttonEl =\n",
              "        document.querySelector('#df-32a7b8a5-12cd-4104-b623-05a6d129fdd3 button.colab-df-convert');\n",
              "      buttonEl.style.display =\n",
              "        google.colab.kernel.accessAllowed ? 'block' : 'none';\n",
              "\n",
              "      async function convertToInteractive(key) {\n",
              "        const element = document.querySelector('#df-32a7b8a5-12cd-4104-b623-05a6d129fdd3');\n",
              "        const dataTable =\n",
              "          await google.colab.kernel.invokeFunction('convertToInteractive',\n",
              "                                                    [key], {});\n",
              "        if (!dataTable) return;\n",
              "\n",
              "        const docLinkHtml = 'Like what you see? Visit the ' +\n",
              "          '<a target=\"_blank\" href=https://colab.research.google.com/notebooks/data_table.ipynb>data table notebook</a>'\n",
              "          + ' to learn more about interactive tables.';\n",
              "        element.innerHTML = '';\n",
              "        dataTable['output_type'] = 'display_data';\n",
              "        await google.colab.output.renderOutput(dataTable, element);\n",
              "        const docLink = document.createElement('div');\n",
              "        docLink.innerHTML = docLinkHtml;\n",
              "        element.appendChild(docLink);\n",
              "      }\n",
              "    </script>\n",
              "  </div>\n",
              "\n",
              "\n",
              "<div id=\"df-50ccbb09-c023-48ea-b4f0-0c4191c68bc8\">\n",
              "  <button class=\"colab-df-quickchart\" onclick=\"quickchart('df-50ccbb09-c023-48ea-b4f0-0c4191c68bc8')\"\n",
              "            title=\"Suggest charts.\"\n",
              "            style=\"display:none;\">\n",
              "\n",
              "<svg xmlns=\"http://www.w3.org/2000/svg\" height=\"24px\"viewBox=\"0 0 24 24\"\n",
              "     width=\"24px\">\n",
              "    <g>\n",
              "        <path d=\"M19 3H5c-1.1 0-2 .9-2 2v14c0 1.1.9 2 2 2h14c1.1 0 2-.9 2-2V5c0-1.1-.9-2-2-2zM9 17H7v-7h2v7zm4 0h-2V7h2v10zm4 0h-2v-4h2v4z\"/>\n",
              "    </g>\n",
              "</svg>\n",
              "  </button>\n",
              "\n",
              "<style>\n",
              "  .colab-df-quickchart {\n",
              "      --bg-color: #E8F0FE;\n",
              "      --fill-color: #1967D2;\n",
              "      --hover-bg-color: #E2EBFA;\n",
              "      --hover-fill-color: #174EA6;\n",
              "      --disabled-fill-color: #AAA;\n",
              "      --disabled-bg-color: #DDD;\n",
              "  }\n",
              "\n",
              "  [theme=dark] .colab-df-quickchart {\n",
              "      --bg-color: #3B4455;\n",
              "      --fill-color: #D2E3FC;\n",
              "      --hover-bg-color: #434B5C;\n",
              "      --hover-fill-color: #FFFFFF;\n",
              "      --disabled-bg-color: #3B4455;\n",
              "      --disabled-fill-color: #666;\n",
              "  }\n",
              "\n",
              "  .colab-df-quickchart {\n",
              "    background-color: var(--bg-color);\n",
              "    border: none;\n",
              "    border-radius: 50%;\n",
              "    cursor: pointer;\n",
              "    display: none;\n",
              "    fill: var(--fill-color);\n",
              "    height: 32px;\n",
              "    padding: 0;\n",
              "    width: 32px;\n",
              "  }\n",
              "\n",
              "  .colab-df-quickchart:hover {\n",
              "    background-color: var(--hover-bg-color);\n",
              "    box-shadow: 0 1px 2px rgba(60, 64, 67, 0.3), 0 1px 3px 1px rgba(60, 64, 67, 0.15);\n",
              "    fill: var(--button-hover-fill-color);\n",
              "  }\n",
              "\n",
              "  .colab-df-quickchart-complete:disabled,\n",
              "  .colab-df-quickchart-complete:disabled:hover {\n",
              "    background-color: var(--disabled-bg-color);\n",
              "    fill: var(--disabled-fill-color);\n",
              "    box-shadow: none;\n",
              "  }\n",
              "\n",
              "  .colab-df-spinner {\n",
              "    border: 2px solid var(--fill-color);\n",
              "    border-color: transparent;\n",
              "    border-bottom-color: var(--fill-color);\n",
              "    animation:\n",
              "      spin 1s steps(1) infinite;\n",
              "  }\n",
              "\n",
              "  @keyframes spin {\n",
              "    0% {\n",
              "      border-color: transparent;\n",
              "      border-bottom-color: var(--fill-color);\n",
              "      border-left-color: var(--fill-color);\n",
              "    }\n",
              "    20% {\n",
              "      border-color: transparent;\n",
              "      border-left-color: var(--fill-color);\n",
              "      border-top-color: var(--fill-color);\n",
              "    }\n",
              "    30% {\n",
              "      border-color: transparent;\n",
              "      border-left-color: var(--fill-color);\n",
              "      border-top-color: var(--fill-color);\n",
              "      border-right-color: var(--fill-color);\n",
              "    }\n",
              "    40% {\n",
              "      border-color: transparent;\n",
              "      border-right-color: var(--fill-color);\n",
              "      border-top-color: var(--fill-color);\n",
              "    }\n",
              "    60% {\n",
              "      border-color: transparent;\n",
              "      border-right-color: var(--fill-color);\n",
              "    }\n",
              "    80% {\n",
              "      border-color: transparent;\n",
              "      border-right-color: var(--fill-color);\n",
              "      border-bottom-color: var(--fill-color);\n",
              "    }\n",
              "    90% {\n",
              "      border-color: transparent;\n",
              "      border-bottom-color: var(--fill-color);\n",
              "    }\n",
              "  }\n",
              "</style>\n",
              "\n",
              "  <script>\n",
              "    async function quickchart(key) {\n",
              "      const quickchartButtonEl =\n",
              "        document.querySelector('#' + key + ' button');\n",
              "      quickchartButtonEl.disabled = true;  // To prevent multiple clicks.\n",
              "      quickchartButtonEl.classList.add('colab-df-spinner');\n",
              "      try {\n",
              "        const charts = await google.colab.kernel.invokeFunction(\n",
              "            'suggestCharts', [key], {});\n",
              "      } catch (error) {\n",
              "        console.error('Error during call to suggestCharts:', error);\n",
              "      }\n",
              "      quickchartButtonEl.classList.remove('colab-df-spinner');\n",
              "      quickchartButtonEl.classList.add('colab-df-quickchart-complete');\n",
              "    }\n",
              "    (() => {\n",
              "      let quickchartButtonEl =\n",
              "        document.querySelector('#df-50ccbb09-c023-48ea-b4f0-0c4191c68bc8 button');\n",
              "      quickchartButtonEl.style.display =\n",
              "        google.colab.kernel.accessAllowed ? 'block' : 'none';\n",
              "    })();\n",
              "  </script>\n",
              "</div>\n",
              "    </div>\n",
              "  </div>\n"
            ]
          },
          "metadata": {},
          "execution_count": 2
        }
      ]
    },
    {
      "cell_type": "code",
      "source": [
        "data.columns"
      ],
      "metadata": {
        "colab": {
          "base_uri": "https://localhost:8080/"
        },
        "id": "0kifZshaet_M",
        "outputId": "bd4e08b3-6053-4e50-e1d9-6e2682258258"
      },
      "execution_count": 3,
      "outputs": [
        {
          "output_type": "execute_result",
          "data": {
            "text/plain": [
              "Index(['Unnamed: 0', 'Temperature (K)', 'Luminosity(L/Lo)', 'Radius(R/Ro)',\n",
              "       'Absolute magnitude(Mv)', 'Star type', 'Star color'],\n",
              "      dtype='object')"
            ]
          },
          "metadata": {},
          "execution_count": 3
        }
      ]
    },
    {
      "cell_type": "markdown",
      "source": [
        "Названия признаков включают заглавные буквы и различные символы, привидем их к змеиному регистру."
      ],
      "metadata": {
        "id": "y2rBs20DY5QI"
      }
    },
    {
      "cell_type": "code",
      "source": [
        "data = data.drop('Unnamed: 0', axis = 1)\n",
        "data.columns"
      ],
      "metadata": {
        "colab": {
          "base_uri": "https://localhost:8080/"
        },
        "id": "veBGlqleRbAb",
        "outputId": "74ef2f5b-5915-4a7a-d7c8-92bbf3a4c7fd"
      },
      "execution_count": 4,
      "outputs": [
        {
          "output_type": "execute_result",
          "data": {
            "text/plain": [
              "Index(['Temperature (K)', 'Luminosity(L/Lo)', 'Radius(R/Ro)',\n",
              "       'Absolute magnitude(Mv)', 'Star type', 'Star color'],\n",
              "      dtype='object')"
            ]
          },
          "metadata": {},
          "execution_count": 4
        }
      ]
    },
    {
      "cell_type": "code",
      "source": [
        "# переименуем признаки\n",
        "data.columns = ['temperature',\n",
        "                'luminosity',\n",
        "                'radius',\n",
        "                'magnitude',\n",
        "                'star_type',\n",
        "                'star_color']"
      ],
      "metadata": {
        "id": "dtRfHWeg5eQg"
      },
      "execution_count": 5,
      "outputs": []
    },
    {
      "cell_type": "markdown",
      "source": [
        "Зададим константы для воспроизводимости результатов"
      ],
      "metadata": {
        "id": "-WYdgJpFZHwg"
      }
    },
    {
      "cell_type": "code",
      "source": [
        "RANDOM_STATE = 42"
      ],
      "metadata": {
        "id": "03WQJNGreZCd"
      },
      "execution_count": 6,
      "outputs": []
    },
    {
      "cell_type": "code",
      "source": [
        "torch.manual_seed(RANDOM_STATE)"
      ],
      "metadata": {
        "colab": {
          "base_uri": "https://localhost:8080/"
        },
        "id": "gFVKus-fdRd8",
        "outputId": "9804fb84-1945-4baf-e76f-7b4b0cdd74bb"
      },
      "execution_count": 7,
      "outputs": [
        {
          "output_type": "execute_result",
          "data": {
            "text/plain": [
              "<torch._C.Generator at 0x7a902d314e30>"
            ]
          },
          "metadata": {},
          "execution_count": 7
        }
      ]
    },
    {
      "cell_type": "code",
      "source": [
        "np.random.seed(RANDOM_STATE)"
      ],
      "metadata": {
        "id": "7Kq-nBnPqtFx"
      },
      "execution_count": 8,
      "outputs": []
    },
    {
      "cell_type": "code",
      "source": [
        "data.columns"
      ],
      "metadata": {
        "colab": {
          "base_uri": "https://localhost:8080/"
        },
        "id": "AKqIiAiB5jxG",
        "outputId": "9ff30cd1-bcf8-4c8d-ec65-9e03fa19e1a9"
      },
      "execution_count": 9,
      "outputs": [
        {
          "output_type": "execute_result",
          "data": {
            "text/plain": [
              "Index(['temperature', 'luminosity', 'radius', 'magnitude', 'star_type',\n",
              "       'star_color'],\n",
              "      dtype='object')"
            ]
          },
          "metadata": {},
          "execution_count": 9
        }
      ]
    },
    {
      "cell_type": "markdown",
      "source": [
        "## Исследовательский анализ"
      ],
      "metadata": {
        "id": "5Rw6sLvFFQlq"
      }
    },
    {
      "cell_type": "markdown",
      "source": [
        "Проверим данные на типы данных и пропущенные значения."
      ],
      "metadata": {
        "id": "jZw8hd02FbJP"
      }
    },
    {
      "cell_type": "code",
      "source": [
        "data.shape"
      ],
      "metadata": {
        "colab": {
          "base_uri": "https://localhost:8080/"
        },
        "id": "jg6X_UUZb1_y",
        "outputId": "eabc7c17-3f37-4ba9-cc77-1724ced6ef35"
      },
      "execution_count": 10,
      "outputs": [
        {
          "output_type": "execute_result",
          "data": {
            "text/plain": [
              "(240, 6)"
            ]
          },
          "metadata": {},
          "execution_count": 10
        }
      ]
    },
    {
      "cell_type": "code",
      "source": [
        "data.info()"
      ],
      "metadata": {
        "colab": {
          "base_uri": "https://localhost:8080/"
        },
        "id": "dQyimagjFPxN",
        "outputId": "6835108b-fa68-4340-ba9e-1b2e43b84198"
      },
      "execution_count": 11,
      "outputs": [
        {
          "output_type": "stream",
          "name": "stdout",
          "text": [
            "<class 'pandas.core.frame.DataFrame'>\n",
            "RangeIndex: 240 entries, 0 to 239\n",
            "Data columns (total 6 columns):\n",
            " #   Column       Non-Null Count  Dtype  \n",
            "---  ------       --------------  -----  \n",
            " 0   temperature  240 non-null    int64  \n",
            " 1   luminosity   240 non-null    float64\n",
            " 2   radius       240 non-null    float64\n",
            " 3   magnitude    240 non-null    float64\n",
            " 4   star_type    240 non-null    int64  \n",
            " 5   star_color   240 non-null    object \n",
            "dtypes: float64(3), int64(2), object(1)\n",
            "memory usage: 11.4+ KB\n"
          ]
        }
      ]
    },
    {
      "cell_type": "markdown",
      "source": [
        "В данных отсутствуют пропущенные значения.\n",
        "\n",
        "Присутствуют числовые и один признак категориальный.\n",
        "\n",
        "\n"
      ],
      "metadata": {
        "id": "zIRghRkSFkuS"
      }
    },
    {
      "cell_type": "markdown",
      "source": [
        "### Анализ категориальных признаков"
      ],
      "metadata": {
        "id": "v8VL-iJ9Khla"
      }
    },
    {
      "cell_type": "code",
      "source": [
        "categorical = data.select_dtypes(include = 'object').columns.to_list()\n",
        "categorical"
      ],
      "metadata": {
        "colab": {
          "base_uri": "https://localhost:8080/"
        },
        "id": "OQR8ZHNm6Xnx",
        "outputId": "3a6f38a3-e1ae-4bb9-db2b-30db6e4dd20a"
      },
      "execution_count": 12,
      "outputs": [
        {
          "output_type": "execute_result",
          "data": {
            "text/plain": [
              "['star_color']"
            ]
          },
          "metadata": {},
          "execution_count": 12
        }
      ]
    },
    {
      "cell_type": "markdown",
      "source": [
        "В признаке имеются неявные дубликаты.\n",
        "Необходимо:\n",
        "- привести к строчному регистру\n",
        "- заменить \"-\" на \"_\"\n",
        "- удалить пробелы"
      ],
      "metadata": {
        "id": "INRH6V4BKl5M"
      }
    },
    {
      "cell_type": "code",
      "source": [
        "def transform_values(df):\n",
        "\n",
        "   #удаляем пробелы в конце строк\n",
        "    df = df.applymap(lambda x: x.rstrip())\n",
        "     # заменяем пробелы на underscore\n",
        "\n",
        "    df = df.applymap(lambda x: x.replace(' ', '_') if isinstance(x, str) else x)\n",
        "\n",
        "    # заменяем дефис на underscore\n",
        "    df = df.applymap(lambda x: x.replace('-', '_') if isinstance(x, str) else x)\n",
        "\n",
        "    # добавляем underscore между словом и числом\n",
        "    df = df.applymap(lambda x: '_'.join(part for part in x.split() if not part.isdigit()) if isinstance(x, str) else x)\n",
        "\n",
        "    # приводим к строчному регистру\n",
        "    df = df.applymap(lambda x: x.lower() if isinstance(x, str) else x)\n",
        "\n",
        "    return df"
      ],
      "metadata": {
        "id": "_Gg1qtFKDQYK"
      },
      "execution_count": 13,
      "outputs": []
    },
    {
      "cell_type": "code",
      "source": [
        "data[categorical] = transform_values(data[categorical])\n",
        "data[categorical]"
      ],
      "metadata": {
        "colab": {
          "base_uri": "https://localhost:8080/",
          "height": 424
        },
        "id": "r6sYrSoQKfQG",
        "outputId": "327c5956-f365-4383-b09c-c3dfd9e8934f"
      },
      "execution_count": 14,
      "outputs": [
        {
          "output_type": "execute_result",
          "data": {
            "text/plain": [
              "    star_color\n",
              "0          red\n",
              "1          red\n",
              "2          red\n",
              "3          red\n",
              "4          red\n",
              "..         ...\n",
              "235       blue\n",
              "236       blue\n",
              "237      white\n",
              "238      white\n",
              "239       blue\n",
              "\n",
              "[240 rows x 1 columns]"
            ],
            "text/html": [
              "\n",
              "  <div id=\"df-74584d0a-ac95-4d62-96aa-033a19320eee\" class=\"colab-df-container\">\n",
              "    <div>\n",
              "<style scoped>\n",
              "    .dataframe tbody tr th:only-of-type {\n",
              "        vertical-align: middle;\n",
              "    }\n",
              "\n",
              "    .dataframe tbody tr th {\n",
              "        vertical-align: top;\n",
              "    }\n",
              "\n",
              "    .dataframe thead th {\n",
              "        text-align: right;\n",
              "    }\n",
              "</style>\n",
              "<table border=\"1\" class=\"dataframe\">\n",
              "  <thead>\n",
              "    <tr style=\"text-align: right;\">\n",
              "      <th></th>\n",
              "      <th>star_color</th>\n",
              "    </tr>\n",
              "  </thead>\n",
              "  <tbody>\n",
              "    <tr>\n",
              "      <th>0</th>\n",
              "      <td>red</td>\n",
              "    </tr>\n",
              "    <tr>\n",
              "      <th>1</th>\n",
              "      <td>red</td>\n",
              "    </tr>\n",
              "    <tr>\n",
              "      <th>2</th>\n",
              "      <td>red</td>\n",
              "    </tr>\n",
              "    <tr>\n",
              "      <th>3</th>\n",
              "      <td>red</td>\n",
              "    </tr>\n",
              "    <tr>\n",
              "      <th>4</th>\n",
              "      <td>red</td>\n",
              "    </tr>\n",
              "    <tr>\n",
              "      <th>...</th>\n",
              "      <td>...</td>\n",
              "    </tr>\n",
              "    <tr>\n",
              "      <th>235</th>\n",
              "      <td>blue</td>\n",
              "    </tr>\n",
              "    <tr>\n",
              "      <th>236</th>\n",
              "      <td>blue</td>\n",
              "    </tr>\n",
              "    <tr>\n",
              "      <th>237</th>\n",
              "      <td>white</td>\n",
              "    </tr>\n",
              "    <tr>\n",
              "      <th>238</th>\n",
              "      <td>white</td>\n",
              "    </tr>\n",
              "    <tr>\n",
              "      <th>239</th>\n",
              "      <td>blue</td>\n",
              "    </tr>\n",
              "  </tbody>\n",
              "</table>\n",
              "<p>240 rows × 1 columns</p>\n",
              "</div>\n",
              "    <div class=\"colab-df-buttons\">\n",
              "\n",
              "  <div class=\"colab-df-container\">\n",
              "    <button class=\"colab-df-convert\" onclick=\"convertToInteractive('df-74584d0a-ac95-4d62-96aa-033a19320eee')\"\n",
              "            title=\"Convert this dataframe to an interactive table.\"\n",
              "            style=\"display:none;\">\n",
              "\n",
              "  <svg xmlns=\"http://www.w3.org/2000/svg\" height=\"24px\" viewBox=\"0 -960 960 960\">\n",
              "    <path d=\"M120-120v-720h720v720H120Zm60-500h600v-160H180v160Zm220 220h160v-160H400v160Zm0 220h160v-160H400v160ZM180-400h160v-160H180v160Zm440 0h160v-160H620v160ZM180-180h160v-160H180v160Zm440 0h160v-160H620v160Z\"/>\n",
              "  </svg>\n",
              "    </button>\n",
              "\n",
              "  <style>\n",
              "    .colab-df-container {\n",
              "      display:flex;\n",
              "      gap: 12px;\n",
              "    }\n",
              "\n",
              "    .colab-df-convert {\n",
              "      background-color: #E8F0FE;\n",
              "      border: none;\n",
              "      border-radius: 50%;\n",
              "      cursor: pointer;\n",
              "      display: none;\n",
              "      fill: #1967D2;\n",
              "      height: 32px;\n",
              "      padding: 0 0 0 0;\n",
              "      width: 32px;\n",
              "    }\n",
              "\n",
              "    .colab-df-convert:hover {\n",
              "      background-color: #E2EBFA;\n",
              "      box-shadow: 0px 1px 2px rgba(60, 64, 67, 0.3), 0px 1px 3px 1px rgba(60, 64, 67, 0.15);\n",
              "      fill: #174EA6;\n",
              "    }\n",
              "\n",
              "    .colab-df-buttons div {\n",
              "      margin-bottom: 4px;\n",
              "    }\n",
              "\n",
              "    [theme=dark] .colab-df-convert {\n",
              "      background-color: #3B4455;\n",
              "      fill: #D2E3FC;\n",
              "    }\n",
              "\n",
              "    [theme=dark] .colab-df-convert:hover {\n",
              "      background-color: #434B5C;\n",
              "      box-shadow: 0px 1px 3px 1px rgba(0, 0, 0, 0.15);\n",
              "      filter: drop-shadow(0px 1px 2px rgba(0, 0, 0, 0.3));\n",
              "      fill: #FFFFFF;\n",
              "    }\n",
              "  </style>\n",
              "\n",
              "    <script>\n",
              "      const buttonEl =\n",
              "        document.querySelector('#df-74584d0a-ac95-4d62-96aa-033a19320eee button.colab-df-convert');\n",
              "      buttonEl.style.display =\n",
              "        google.colab.kernel.accessAllowed ? 'block' : 'none';\n",
              "\n",
              "      async function convertToInteractive(key) {\n",
              "        const element = document.querySelector('#df-74584d0a-ac95-4d62-96aa-033a19320eee');\n",
              "        const dataTable =\n",
              "          await google.colab.kernel.invokeFunction('convertToInteractive',\n",
              "                                                    [key], {});\n",
              "        if (!dataTable) return;\n",
              "\n",
              "        const docLinkHtml = 'Like what you see? Visit the ' +\n",
              "          '<a target=\"_blank\" href=https://colab.research.google.com/notebooks/data_table.ipynb>data table notebook</a>'\n",
              "          + ' to learn more about interactive tables.';\n",
              "        element.innerHTML = '';\n",
              "        dataTable['output_type'] = 'display_data';\n",
              "        await google.colab.output.renderOutput(dataTable, element);\n",
              "        const docLink = document.createElement('div');\n",
              "        docLink.innerHTML = docLinkHtml;\n",
              "        element.appendChild(docLink);\n",
              "      }\n",
              "    </script>\n",
              "  </div>\n",
              "\n",
              "\n",
              "<div id=\"df-06b14993-11ec-4636-8659-9dc0a0c7c620\">\n",
              "  <button class=\"colab-df-quickchart\" onclick=\"quickchart('df-06b14993-11ec-4636-8659-9dc0a0c7c620')\"\n",
              "            title=\"Suggest charts.\"\n",
              "            style=\"display:none;\">\n",
              "\n",
              "<svg xmlns=\"http://www.w3.org/2000/svg\" height=\"24px\"viewBox=\"0 0 24 24\"\n",
              "     width=\"24px\">\n",
              "    <g>\n",
              "        <path d=\"M19 3H5c-1.1 0-2 .9-2 2v14c0 1.1.9 2 2 2h14c1.1 0 2-.9 2-2V5c0-1.1-.9-2-2-2zM9 17H7v-7h2v7zm4 0h-2V7h2v10zm4 0h-2v-4h2v4z\"/>\n",
              "    </g>\n",
              "</svg>\n",
              "  </button>\n",
              "\n",
              "<style>\n",
              "  .colab-df-quickchart {\n",
              "      --bg-color: #E8F0FE;\n",
              "      --fill-color: #1967D2;\n",
              "      --hover-bg-color: #E2EBFA;\n",
              "      --hover-fill-color: #174EA6;\n",
              "      --disabled-fill-color: #AAA;\n",
              "      --disabled-bg-color: #DDD;\n",
              "  }\n",
              "\n",
              "  [theme=dark] .colab-df-quickchart {\n",
              "      --bg-color: #3B4455;\n",
              "      --fill-color: #D2E3FC;\n",
              "      --hover-bg-color: #434B5C;\n",
              "      --hover-fill-color: #FFFFFF;\n",
              "      --disabled-bg-color: #3B4455;\n",
              "      --disabled-fill-color: #666;\n",
              "  }\n",
              "\n",
              "  .colab-df-quickchart {\n",
              "    background-color: var(--bg-color);\n",
              "    border: none;\n",
              "    border-radius: 50%;\n",
              "    cursor: pointer;\n",
              "    display: none;\n",
              "    fill: var(--fill-color);\n",
              "    height: 32px;\n",
              "    padding: 0;\n",
              "    width: 32px;\n",
              "  }\n",
              "\n",
              "  .colab-df-quickchart:hover {\n",
              "    background-color: var(--hover-bg-color);\n",
              "    box-shadow: 0 1px 2px rgba(60, 64, 67, 0.3), 0 1px 3px 1px rgba(60, 64, 67, 0.15);\n",
              "    fill: var(--button-hover-fill-color);\n",
              "  }\n",
              "\n",
              "  .colab-df-quickchart-complete:disabled,\n",
              "  .colab-df-quickchart-complete:disabled:hover {\n",
              "    background-color: var(--disabled-bg-color);\n",
              "    fill: var(--disabled-fill-color);\n",
              "    box-shadow: none;\n",
              "  }\n",
              "\n",
              "  .colab-df-spinner {\n",
              "    border: 2px solid var(--fill-color);\n",
              "    border-color: transparent;\n",
              "    border-bottom-color: var(--fill-color);\n",
              "    animation:\n",
              "      spin 1s steps(1) infinite;\n",
              "  }\n",
              "\n",
              "  @keyframes spin {\n",
              "    0% {\n",
              "      border-color: transparent;\n",
              "      border-bottom-color: var(--fill-color);\n",
              "      border-left-color: var(--fill-color);\n",
              "    }\n",
              "    20% {\n",
              "      border-color: transparent;\n",
              "      border-left-color: var(--fill-color);\n",
              "      border-top-color: var(--fill-color);\n",
              "    }\n",
              "    30% {\n",
              "      border-color: transparent;\n",
              "      border-left-color: var(--fill-color);\n",
              "      border-top-color: var(--fill-color);\n",
              "      border-right-color: var(--fill-color);\n",
              "    }\n",
              "    40% {\n",
              "      border-color: transparent;\n",
              "      border-right-color: var(--fill-color);\n",
              "      border-top-color: var(--fill-color);\n",
              "    }\n",
              "    60% {\n",
              "      border-color: transparent;\n",
              "      border-right-color: var(--fill-color);\n",
              "    }\n",
              "    80% {\n",
              "      border-color: transparent;\n",
              "      border-right-color: var(--fill-color);\n",
              "      border-bottom-color: var(--fill-color);\n",
              "    }\n",
              "    90% {\n",
              "      border-color: transparent;\n",
              "      border-bottom-color: var(--fill-color);\n",
              "    }\n",
              "  }\n",
              "</style>\n",
              "\n",
              "  <script>\n",
              "    async function quickchart(key) {\n",
              "      const quickchartButtonEl =\n",
              "        document.querySelector('#' + key + ' button');\n",
              "      quickchartButtonEl.disabled = true;  // To prevent multiple clicks.\n",
              "      quickchartButtonEl.classList.add('colab-df-spinner');\n",
              "      try {\n",
              "        const charts = await google.colab.kernel.invokeFunction(\n",
              "            'suggestCharts', [key], {});\n",
              "      } catch (error) {\n",
              "        console.error('Error during call to suggestCharts:', error);\n",
              "      }\n",
              "      quickchartButtonEl.classList.remove('colab-df-spinner');\n",
              "      quickchartButtonEl.classList.add('colab-df-quickchart-complete');\n",
              "    }\n",
              "    (() => {\n",
              "      let quickchartButtonEl =\n",
              "        document.querySelector('#df-06b14993-11ec-4636-8659-9dc0a0c7c620 button');\n",
              "      quickchartButtonEl.style.display =\n",
              "        google.colab.kernel.accessAllowed ? 'block' : 'none';\n",
              "    })();\n",
              "  </script>\n",
              "</div>\n",
              "    </div>\n",
              "  </div>\n"
            ]
          },
          "metadata": {},
          "execution_count": 14
        }
      ]
    },
    {
      "cell_type": "code",
      "source": [
        "list(data['star_color'].sort_values().unique())"
      ],
      "metadata": {
        "colab": {
          "base_uri": "https://localhost:8080/"
        },
        "id": "dSoL5GUkR46L",
        "outputId": "7c55f17c-f0a9-4818-b8b4-fa377af8fdd4"
      },
      "execution_count": 15,
      "outputs": [
        {
          "output_type": "execute_result",
          "data": {
            "text/plain": [
              "['blue',\n",
              " 'blue_white',\n",
              " 'orange',\n",
              " 'orange_red',\n",
              " 'pale_yellow_orange',\n",
              " 'red',\n",
              " 'white',\n",
              " 'white_yellow',\n",
              " 'whitish',\n",
              " 'yellow_white',\n",
              " 'yellowish',\n",
              " 'yellowish_white']"
            ]
          },
          "metadata": {},
          "execution_count": 15
        }
      ]
    },
    {
      "cell_type": "markdown",
      "source": [
        "Дубликаты удалены."
      ],
      "metadata": {
        "id": "XQW98j6wbJmZ"
      }
    },
    {
      "cell_type": "code",
      "source": [
        "data['star_color'].unique()"
      ],
      "metadata": {
        "colab": {
          "base_uri": "https://localhost:8080/"
        },
        "id": "Xm3zG_j1Uhnw",
        "outputId": "fcca03ab-3911-4f5a-bfc4-3d4452ab692f"
      },
      "execution_count": 16,
      "outputs": [
        {
          "output_type": "execute_result",
          "data": {
            "text/plain": [
              "array(['red', 'blue_white', 'white', 'yellowish_white',\n",
              "       'pale_yellow_orange', 'blue', 'whitish', 'yellow_white', 'orange',\n",
              "       'white_yellow', 'yellowish', 'orange_red'], dtype=object)"
            ]
          },
          "metadata": {},
          "execution_count": 16
        }
      ]
    },
    {
      "cell_type": "code",
      "source": [
        "data.dtypes"
      ],
      "metadata": {
        "colab": {
          "base_uri": "https://localhost:8080/"
        },
        "id": "NLevGGV7R5Dj",
        "outputId": "ac8c3639-e368-4c09-c9e1-8caa69168537"
      },
      "execution_count": 17,
      "outputs": [
        {
          "output_type": "execute_result",
          "data": {
            "text/plain": [
              "temperature      int64\n",
              "luminosity     float64\n",
              "radius         float64\n",
              "magnitude      float64\n",
              "star_type        int64\n",
              "star_color      object\n",
              "dtype: object"
            ]
          },
          "metadata": {},
          "execution_count": 17
        }
      ]
    },
    {
      "cell_type": "code",
      "source": [
        "data[['star_type','star_color' ]].value_counts(normalize = True).to_frame()"
      ],
      "metadata": {
        "colab": {
          "base_uri": "https://localhost:8080/",
          "height": 739
        },
        "id": "4Xnua66aPwKC",
        "outputId": "02f50a67-e331-4d96-9d8a-4bfd4c7efa6e"
      },
      "execution_count": 18,
      "outputs": [
        {
          "output_type": "execute_result",
          "data": {
            "text/plain": [
              "                                     0\n",
              "star_type star_color                  \n",
              "0         red                 0.166667\n",
              "1         red                 0.166667\n",
              "4         blue                0.129167\n",
              "5         red                 0.095833\n",
              "3         blue_white          0.087500\n",
              "2         blue_white          0.058333\n",
              "          blue                0.054167\n",
              "4         red                 0.037500\n",
              "2         white               0.033333\n",
              "3         yellow_white        0.033333\n",
              "5         blue                0.029167\n",
              "          blue_white          0.025000\n",
              "3         blue                0.020833\n",
              "2         yellowish_white     0.012500\n",
              "3         yellowish           0.012500\n",
              "5         orange              0.008333\n",
              "          white               0.008333\n",
              "3         whitish             0.008333\n",
              "2         white_yellow        0.004167\n",
              "          pale_yellow_orange  0.004167\n",
              "3         orange_red          0.004167"
            ],
            "text/html": [
              "\n",
              "  <div id=\"df-286baee7-2d12-4e2b-8d0e-8847596a6f84\" class=\"colab-df-container\">\n",
              "    <div>\n",
              "<style scoped>\n",
              "    .dataframe tbody tr th:only-of-type {\n",
              "        vertical-align: middle;\n",
              "    }\n",
              "\n",
              "    .dataframe tbody tr th {\n",
              "        vertical-align: top;\n",
              "    }\n",
              "\n",
              "    .dataframe thead th {\n",
              "        text-align: right;\n",
              "    }\n",
              "</style>\n",
              "<table border=\"1\" class=\"dataframe\">\n",
              "  <thead>\n",
              "    <tr style=\"text-align: right;\">\n",
              "      <th></th>\n",
              "      <th></th>\n",
              "      <th>0</th>\n",
              "    </tr>\n",
              "    <tr>\n",
              "      <th>star_type</th>\n",
              "      <th>star_color</th>\n",
              "      <th></th>\n",
              "    </tr>\n",
              "  </thead>\n",
              "  <tbody>\n",
              "    <tr>\n",
              "      <th>0</th>\n",
              "      <th>red</th>\n",
              "      <td>0.166667</td>\n",
              "    </tr>\n",
              "    <tr>\n",
              "      <th>1</th>\n",
              "      <th>red</th>\n",
              "      <td>0.166667</td>\n",
              "    </tr>\n",
              "    <tr>\n",
              "      <th>4</th>\n",
              "      <th>blue</th>\n",
              "      <td>0.129167</td>\n",
              "    </tr>\n",
              "    <tr>\n",
              "      <th>5</th>\n",
              "      <th>red</th>\n",
              "      <td>0.095833</td>\n",
              "    </tr>\n",
              "    <tr>\n",
              "      <th>3</th>\n",
              "      <th>blue_white</th>\n",
              "      <td>0.087500</td>\n",
              "    </tr>\n",
              "    <tr>\n",
              "      <th rowspan=\"2\" valign=\"top\">2</th>\n",
              "      <th>blue_white</th>\n",
              "      <td>0.058333</td>\n",
              "    </tr>\n",
              "    <tr>\n",
              "      <th>blue</th>\n",
              "      <td>0.054167</td>\n",
              "    </tr>\n",
              "    <tr>\n",
              "      <th>4</th>\n",
              "      <th>red</th>\n",
              "      <td>0.037500</td>\n",
              "    </tr>\n",
              "    <tr>\n",
              "      <th>2</th>\n",
              "      <th>white</th>\n",
              "      <td>0.033333</td>\n",
              "    </tr>\n",
              "    <tr>\n",
              "      <th>3</th>\n",
              "      <th>yellow_white</th>\n",
              "      <td>0.033333</td>\n",
              "    </tr>\n",
              "    <tr>\n",
              "      <th rowspan=\"2\" valign=\"top\">5</th>\n",
              "      <th>blue</th>\n",
              "      <td>0.029167</td>\n",
              "    </tr>\n",
              "    <tr>\n",
              "      <th>blue_white</th>\n",
              "      <td>0.025000</td>\n",
              "    </tr>\n",
              "    <tr>\n",
              "      <th>3</th>\n",
              "      <th>blue</th>\n",
              "      <td>0.020833</td>\n",
              "    </tr>\n",
              "    <tr>\n",
              "      <th>2</th>\n",
              "      <th>yellowish_white</th>\n",
              "      <td>0.012500</td>\n",
              "    </tr>\n",
              "    <tr>\n",
              "      <th>3</th>\n",
              "      <th>yellowish</th>\n",
              "      <td>0.012500</td>\n",
              "    </tr>\n",
              "    <tr>\n",
              "      <th rowspan=\"2\" valign=\"top\">5</th>\n",
              "      <th>orange</th>\n",
              "      <td>0.008333</td>\n",
              "    </tr>\n",
              "    <tr>\n",
              "      <th>white</th>\n",
              "      <td>0.008333</td>\n",
              "    </tr>\n",
              "    <tr>\n",
              "      <th>3</th>\n",
              "      <th>whitish</th>\n",
              "      <td>0.008333</td>\n",
              "    </tr>\n",
              "    <tr>\n",
              "      <th rowspan=\"2\" valign=\"top\">2</th>\n",
              "      <th>white_yellow</th>\n",
              "      <td>0.004167</td>\n",
              "    </tr>\n",
              "    <tr>\n",
              "      <th>pale_yellow_orange</th>\n",
              "      <td>0.004167</td>\n",
              "    </tr>\n",
              "    <tr>\n",
              "      <th>3</th>\n",
              "      <th>orange_red</th>\n",
              "      <td>0.004167</td>\n",
              "    </tr>\n",
              "  </tbody>\n",
              "</table>\n",
              "</div>\n",
              "    <div class=\"colab-df-buttons\">\n",
              "\n",
              "  <div class=\"colab-df-container\">\n",
              "    <button class=\"colab-df-convert\" onclick=\"convertToInteractive('df-286baee7-2d12-4e2b-8d0e-8847596a6f84')\"\n",
              "            title=\"Convert this dataframe to an interactive table.\"\n",
              "            style=\"display:none;\">\n",
              "\n",
              "  <svg xmlns=\"http://www.w3.org/2000/svg\" height=\"24px\" viewBox=\"0 -960 960 960\">\n",
              "    <path d=\"M120-120v-720h720v720H120Zm60-500h600v-160H180v160Zm220 220h160v-160H400v160Zm0 220h160v-160H400v160ZM180-400h160v-160H180v160Zm440 0h160v-160H620v160ZM180-180h160v-160H180v160Zm440 0h160v-160H620v160Z\"/>\n",
              "  </svg>\n",
              "    </button>\n",
              "\n",
              "  <style>\n",
              "    .colab-df-container {\n",
              "      display:flex;\n",
              "      gap: 12px;\n",
              "    }\n",
              "\n",
              "    .colab-df-convert {\n",
              "      background-color: #E8F0FE;\n",
              "      border: none;\n",
              "      border-radius: 50%;\n",
              "      cursor: pointer;\n",
              "      display: none;\n",
              "      fill: #1967D2;\n",
              "      height: 32px;\n",
              "      padding: 0 0 0 0;\n",
              "      width: 32px;\n",
              "    }\n",
              "\n",
              "    .colab-df-convert:hover {\n",
              "      background-color: #E2EBFA;\n",
              "      box-shadow: 0px 1px 2px rgba(60, 64, 67, 0.3), 0px 1px 3px 1px rgba(60, 64, 67, 0.15);\n",
              "      fill: #174EA6;\n",
              "    }\n",
              "\n",
              "    .colab-df-buttons div {\n",
              "      margin-bottom: 4px;\n",
              "    }\n",
              "\n",
              "    [theme=dark] .colab-df-convert {\n",
              "      background-color: #3B4455;\n",
              "      fill: #D2E3FC;\n",
              "    }\n",
              "\n",
              "    [theme=dark] .colab-df-convert:hover {\n",
              "      background-color: #434B5C;\n",
              "      box-shadow: 0px 1px 3px 1px rgba(0, 0, 0, 0.15);\n",
              "      filter: drop-shadow(0px 1px 2px rgba(0, 0, 0, 0.3));\n",
              "      fill: #FFFFFF;\n",
              "    }\n",
              "  </style>\n",
              "\n",
              "    <script>\n",
              "      const buttonEl =\n",
              "        document.querySelector('#df-286baee7-2d12-4e2b-8d0e-8847596a6f84 button.colab-df-convert');\n",
              "      buttonEl.style.display =\n",
              "        google.colab.kernel.accessAllowed ? 'block' : 'none';\n",
              "\n",
              "      async function convertToInteractive(key) {\n",
              "        const element = document.querySelector('#df-286baee7-2d12-4e2b-8d0e-8847596a6f84');\n",
              "        const dataTable =\n",
              "          await google.colab.kernel.invokeFunction('convertToInteractive',\n",
              "                                                    [key], {});\n",
              "        if (!dataTable) return;\n",
              "\n",
              "        const docLinkHtml = 'Like what you see? Visit the ' +\n",
              "          '<a target=\"_blank\" href=https://colab.research.google.com/notebooks/data_table.ipynb>data table notebook</a>'\n",
              "          + ' to learn more about interactive tables.';\n",
              "        element.innerHTML = '';\n",
              "        dataTable['output_type'] = 'display_data';\n",
              "        await google.colab.output.renderOutput(dataTable, element);\n",
              "        const docLink = document.createElement('div');\n",
              "        docLink.innerHTML = docLinkHtml;\n",
              "        element.appendChild(docLink);\n",
              "      }\n",
              "    </script>\n",
              "  </div>\n",
              "\n",
              "\n",
              "<div id=\"df-5594ea82-78a9-4023-9ff3-43b727e63689\">\n",
              "  <button class=\"colab-df-quickchart\" onclick=\"quickchart('df-5594ea82-78a9-4023-9ff3-43b727e63689')\"\n",
              "            title=\"Suggest charts.\"\n",
              "            style=\"display:none;\">\n",
              "\n",
              "<svg xmlns=\"http://www.w3.org/2000/svg\" height=\"24px\"viewBox=\"0 0 24 24\"\n",
              "     width=\"24px\">\n",
              "    <g>\n",
              "        <path d=\"M19 3H5c-1.1 0-2 .9-2 2v14c0 1.1.9 2 2 2h14c1.1 0 2-.9 2-2V5c0-1.1-.9-2-2-2zM9 17H7v-7h2v7zm4 0h-2V7h2v10zm4 0h-2v-4h2v4z\"/>\n",
              "    </g>\n",
              "</svg>\n",
              "  </button>\n",
              "\n",
              "<style>\n",
              "  .colab-df-quickchart {\n",
              "      --bg-color: #E8F0FE;\n",
              "      --fill-color: #1967D2;\n",
              "      --hover-bg-color: #E2EBFA;\n",
              "      --hover-fill-color: #174EA6;\n",
              "      --disabled-fill-color: #AAA;\n",
              "      --disabled-bg-color: #DDD;\n",
              "  }\n",
              "\n",
              "  [theme=dark] .colab-df-quickchart {\n",
              "      --bg-color: #3B4455;\n",
              "      --fill-color: #D2E3FC;\n",
              "      --hover-bg-color: #434B5C;\n",
              "      --hover-fill-color: #FFFFFF;\n",
              "      --disabled-bg-color: #3B4455;\n",
              "      --disabled-fill-color: #666;\n",
              "  }\n",
              "\n",
              "  .colab-df-quickchart {\n",
              "    background-color: var(--bg-color);\n",
              "    border: none;\n",
              "    border-radius: 50%;\n",
              "    cursor: pointer;\n",
              "    display: none;\n",
              "    fill: var(--fill-color);\n",
              "    height: 32px;\n",
              "    padding: 0;\n",
              "    width: 32px;\n",
              "  }\n",
              "\n",
              "  .colab-df-quickchart:hover {\n",
              "    background-color: var(--hover-bg-color);\n",
              "    box-shadow: 0 1px 2px rgba(60, 64, 67, 0.3), 0 1px 3px 1px rgba(60, 64, 67, 0.15);\n",
              "    fill: var(--button-hover-fill-color);\n",
              "  }\n",
              "\n",
              "  .colab-df-quickchart-complete:disabled,\n",
              "  .colab-df-quickchart-complete:disabled:hover {\n",
              "    background-color: var(--disabled-bg-color);\n",
              "    fill: var(--disabled-fill-color);\n",
              "    box-shadow: none;\n",
              "  }\n",
              "\n",
              "  .colab-df-spinner {\n",
              "    border: 2px solid var(--fill-color);\n",
              "    border-color: transparent;\n",
              "    border-bottom-color: var(--fill-color);\n",
              "    animation:\n",
              "      spin 1s steps(1) infinite;\n",
              "  }\n",
              "\n",
              "  @keyframes spin {\n",
              "    0% {\n",
              "      border-color: transparent;\n",
              "      border-bottom-color: var(--fill-color);\n",
              "      border-left-color: var(--fill-color);\n",
              "    }\n",
              "    20% {\n",
              "      border-color: transparent;\n",
              "      border-left-color: var(--fill-color);\n",
              "      border-top-color: var(--fill-color);\n",
              "    }\n",
              "    30% {\n",
              "      border-color: transparent;\n",
              "      border-left-color: var(--fill-color);\n",
              "      border-top-color: var(--fill-color);\n",
              "      border-right-color: var(--fill-color);\n",
              "    }\n",
              "    40% {\n",
              "      border-color: transparent;\n",
              "      border-right-color: var(--fill-color);\n",
              "      border-top-color: var(--fill-color);\n",
              "    }\n",
              "    60% {\n",
              "      border-color: transparent;\n",
              "      border-right-color: var(--fill-color);\n",
              "    }\n",
              "    80% {\n",
              "      border-color: transparent;\n",
              "      border-right-color: var(--fill-color);\n",
              "      border-bottom-color: var(--fill-color);\n",
              "    }\n",
              "    90% {\n",
              "      border-color: transparent;\n",
              "      border-bottom-color: var(--fill-color);\n",
              "    }\n",
              "  }\n",
              "</style>\n",
              "\n",
              "  <script>\n",
              "    async function quickchart(key) {\n",
              "      const quickchartButtonEl =\n",
              "        document.querySelector('#' + key + ' button');\n",
              "      quickchartButtonEl.disabled = true;  // To prevent multiple clicks.\n",
              "      quickchartButtonEl.classList.add('colab-df-spinner');\n",
              "      try {\n",
              "        const charts = await google.colab.kernel.invokeFunction(\n",
              "            'suggestCharts', [key], {});\n",
              "      } catch (error) {\n",
              "        console.error('Error during call to suggestCharts:', error);\n",
              "      }\n",
              "      quickchartButtonEl.classList.remove('colab-df-spinner');\n",
              "      quickchartButtonEl.classList.add('colab-df-quickchart-complete');\n",
              "    }\n",
              "    (() => {\n",
              "      let quickchartButtonEl =\n",
              "        document.querySelector('#df-5594ea82-78a9-4023-9ff3-43b727e63689 button');\n",
              "      quickchartButtonEl.style.display =\n",
              "        google.colab.kernel.accessAllowed ? 'block' : 'none';\n",
              "    })();\n",
              "  </script>\n",
              "</div>\n",
              "    </div>\n",
              "  </div>\n"
            ]
          },
          "metadata": {},
          "execution_count": 18
        }
      ]
    },
    {
      "cell_type": "markdown",
      "source": [
        "### Анализ числовых признаков"
      ],
      "metadata": {
        "id": "c4WgOsD8bUtj"
      }
    },
    {
      "cell_type": "code",
      "source": [
        "numerical = data.select_dtypes(include = ('int', 'float', 'bool')).columns.to_list()"
      ],
      "metadata": {
        "id": "b21BjUHqVXot"
      },
      "execution_count": 19,
      "outputs": []
    },
    {
      "cell_type": "code",
      "source": [
        "numerical =['luminosity', 'radius', 'magnitude', 'star_type']"
      ],
      "metadata": {
        "id": "uTcAJxLYZtJk"
      },
      "execution_count": 20,
      "outputs": []
    },
    {
      "cell_type": "code",
      "source": [
        "data[numerical].hist(layout = (4,3),\n",
        "                     figsize=(15, 10));\n"
      ],
      "metadata": {
        "colab": {
          "base_uri": "https://localhost:8080/",
          "height": 319
        },
        "id": "to5DqlxGbrnl",
        "outputId": "34c5db8e-dc2f-403a-90d2-86d6b2c66dfd"
      },
      "execution_count": 21,
      "outputs": [
        {
          "output_type": "display_data",
          "data": {
            "text/plain": [
              "<Figure size 1500x1000 with 12 Axes>"
            ],
            "image/png": "[encoded data removed]"
          },
          "metadata": {}
        }
      ]
    },
    {
      "cell_type": "markdown",
      "source": [
        "Видим, что числовые значения имеют разный порядок, значит необходимо будет перед обучением подготовить признаки."
      ],
      "metadata": {
        "id": "BtXmCUrXh7Fc"
      }
    },
    {
      "cell_type": "markdown",
      "source": [
        "Вывод:\n",
        "- Исходный датасет включал в себя 240 наблюдений.\n",
        "- Пропущенные значения отсутствовали.\n",
        "- Имелись неявные дубликаты по категории звезд в признке star_color.\n",
        "- Числовые признаки имеют разный порядок (необходимо масштабировать)\n",
        "- Имеются категориальные признаки (необходимо перекодировать в числовые).\n",
        "- Дисбаланса по классам звезд нет, но имеется дисбаланс по цвету звезд.\n",
        "\n",
        "Категориальные значения"
      ],
      "metadata": {
        "id": "bNGRKYx7ZZMX"
      }
    },
    {
      "cell_type": "markdown",
      "source": [
        "##Подготовка данных для модели"
      ],
      "metadata": {
        "id": "GErvN0WjyxfT"
      }
    },
    {
      "cell_type": "markdown",
      "source": [
        "- Для того, чтобы оценить работу всех моделей, мы создадим список результатов, который заполним названием модели и значением метрика rmse\n",
        "- Создадим функцию для создания графиков с результатами (согласно исходному заданию)\n",
        "- Переменные которые одинаковы для всех моделей мы вынесем в раздел подготовки данных"
      ],
      "metadata": {
        "id": "rUpJ7Coyajwc"
      }
    },
    {
      "cell_type": "code",
      "source": [
        "result = []"
      ],
      "metadata": {
        "id": "DoTLq1th5JeP"
      },
      "execution_count": 22,
      "outputs": []
    },
    {
      "cell_type": "code",
      "source": [
        "# функция для построения графика для результатов\n",
        "def plot (y_test, test_outputs, name):\n",
        "\n",
        "    #name это (название модели)\n",
        "\n",
        "    fact_values = y_test.numpy().flatten()\n",
        "    forecast_values = test_outputs.numpy().flatten()\n",
        "\n",
        "    # в тестовом датасете 48 звезд, но дальше их может быть больше\n",
        "    # поэтому ограничим\n",
        "    indexes = test[y].index[:48]\n",
        "\n",
        "    plt.figure(figsize=(8, 4))\n",
        "    sns.set_style('ticks', {'axes.grid': True})\n",
        "\n",
        "    # Создание столбчатой диаграммы для фактических значений\n",
        "    fact_plot = sns.barplot(x = indexes,\n",
        "                            y = fact_values,\n",
        "                            color='blue',\n",
        "                            alpha=0.9,\n",
        "                            label='Факт')\n",
        "\n",
        "    # Создание столбчатой диаграммы для прогнозов\n",
        "    forecast_plot = sns.barplot(x=indexes,\n",
        "                                y = forecast_values,\n",
        "                                color='yellow',\n",
        "                                alpha=0.7,\n",
        "                                label='Прогноз')\n",
        "\n",
        "    # Установка ширины столбцов и их позиции\n",
        "    bar_width = 0.6\n",
        "\n",
        "    for bar in fact_plot.patches + forecast_plot.patches:\n",
        "        bar.set_width(bar_width)\n",
        "        x = bar.get_x()\n",
        "        bar.set_x(x + bar_width / 2)\n",
        "\n",
        "    # Установка подписей осей и заголовка\n",
        "    plt.xlabel('Номер звезды в таблице данных', fontweight='bold')\n",
        "\n",
        "    plt.ylabel('Температура звезды', fontweight='bold')\n",
        "\n",
        "    plt.title(f'{name}')\n",
        "\n",
        "    plt.xticks(rotation=85)\n",
        "\n",
        "    plt.yscale('log') # чтобы на графике можно\n",
        "                       # было увидеть значения разных порядков\n",
        "\n",
        "    # Создание и настройка легенды\n",
        "    handles, labels = plt.gca().get_legend_handles_labels()\n",
        "\n",
        "    handles.reverse()\n",
        "    labels.reverse()\n",
        "    plt.legend(handles,\n",
        "               labels,\n",
        "               bbox_to_anchor=(0.5, -0.25),\n",
        "               loc='upper center',\n",
        "               ncol=2)\n",
        "\n",
        "    return plt.show()"
      ],
      "metadata": {
        "id": "qvDeilyxMXuH"
      },
      "execution_count": 23,
      "outputs": []
    },
    {
      "cell_type": "code",
      "source": [
        "# признаки\n",
        "X = data.drop('temperature', axis = 1).columns.to_list()\n",
        "y = 'temperature'"
      ],
      "metadata": {
        "id": "CGblOVti5XJQ"
      },
      "execution_count": 24,
      "outputs": []
    },
    {
      "cell_type": "code",
      "source": [
        "# неизменяемые параметры сети для всех моделей\n",
        "\n",
        "hidden_neurons = 300\n",
        "\n",
        "output_neurons = 1\n",
        "\n",
        "loss = nn.MSELoss()\n",
        "\n",
        "num_epochs = 10000"
      ],
      "metadata": {
        "id": "r8FNoAXkWxvJ"
      },
      "execution_count": 25,
      "outputs": []
    },
    {
      "cell_type": "code",
      "source": [
        "#преобразователь для признаков масштабирование и кодирование категориальных\n",
        "column_transformer = ColumnTransformer(transformers=[\n",
        "        ('encoder', OneHotEncoder(handle_unknown='ignore'), categorical),\n",
        "        ('scale', StandardScaler(), numerical)])"
      ],
      "metadata": {
        "id": "d_r3UpUuPSHn"
      },
      "execution_count": 26,
      "outputs": []
    },
    {
      "cell_type": "markdown",
      "source": [
        "### Baseline_model"
      ],
      "metadata": {
        "id": "kQnGpjuJ3uCe"
      }
    },
    {
      "cell_type": "markdown",
      "source": [
        "В качестве baseline модели будем использовать нейронную сеть следующей архитектуры:\n",
        "\n",
        "|  Название параметра |кол-во|  \n",
        "|---------------|-|\n",
        "|Входной слой  (нейронов)|3|\n",
        "|Скрытые слои   |2|\n",
        "|Выходной слой  (нейронов)|1|\n",
        "|Функция активации\n",
        "в выходном слое |nn.ReLU() |"
      ],
      "metadata": {
        "id": "3UOaASX-36xB"
      }
    },
    {
      "cell_type": "code",
      "source": [
        "class BaselineModel(nn.Module):\n",
        "    def __init__(self, input_neurons, hidden_neurons, output_neurons):\n",
        "        super(BaselineModel, self).__init__()\n",
        "        self.fc1 = nn.Linear(input_neurons, hidden_neurons)\n",
        "        self.act1 = nn.ReLU()\n",
        "        self.fc2 = nn.Linear(hidden_neurons, output_neurons)\n",
        "        self.act2 = nn.ReLU()\n",
        "\n",
        "        nn.init.xavier_uniform_(self.fc1.weight)\n",
        "        nn.init.constant_(self.fc1.bias, 0)\n",
        "        nn.init.xavier_uniform_(self.fc2.weight)\n",
        "        nn.init.constant_(self.fc2.bias, 0)\n",
        "\n",
        "    def forward(self, x):\n",
        "        x = self.fc1(x)\n",
        "        x = self.act1(x)\n",
        "        x = self.fc2(x)\n",
        "        x = self.act2(x)\n",
        "        return x\n"
      ],
      "metadata": {
        "id": "IdZHTsEfXaCV"
      },
      "execution_count": 27,
      "outputs": []
    },
    {
      "cell_type": "code",
      "source": [
        "#подготовим признаки для обучения\n",
        "train, valid = train_test_split(data,\n",
        "                                test_size=0.4,\n",
        "                                shuffle=True,\n",
        "                                random_state=RANDOM_STATE)\n",
        "\n",
        "valid, test = train_test_split(valid,\n",
        "                               test_size=0.5,\n",
        "                               shuffle=True,\n",
        "                               random_state=RANDOM_STATE)\n",
        "\n",
        "print('Размер обучающей выборки',train.shape)\n",
        "print( )\n",
        "print('Размер валидационной выборки', valid.shape)\n",
        "print( )\n",
        "print('Размер тестовой выборки', test.shape)"
      ],
      "metadata": {
        "colab": {
          "base_uri": "https://localhost:8080/"
        },
        "id": "GPwnwThvGOPG",
        "outputId": "d2abf43c-6537-4ec5-bfc0-3535f071dd4b"
      },
      "execution_count": 28,
      "outputs": [
        {
          "output_type": "stream",
          "name": "stdout",
          "text": [
            "Размер обучающей выборки (144, 6)\n",
            "\n",
            "Размер валидационной выборки (48, 6)\n",
            "\n",
            "Размер тестовой выборки (48, 6)\n"
          ]
        }
      ]
    },
    {
      "cell_type": "code",
      "source": [
        "# для дальнейшей работы нам необходимо будет иметь тот же датасет для предсказаний,\n",
        "# поэтому сохраним индексы в переменные\n",
        "valid_index = valid.index\n",
        "test_index = test.index"
      ],
      "metadata": {
        "id": "7AZGZpXPXDWY"
      },
      "execution_count": 29,
      "outputs": []
    },
    {
      "cell_type": "code",
      "source": [
        "X_train = torch.Tensor(column_transformer.fit_transform(train[X]))\n",
        "X_valid = torch.Tensor(column_transformer.transform(valid[X]))\n",
        "X_test = torch.Tensor(column_transformer.transform(test[X]))\n",
        "\n",
        "y_train = torch.Tensor(train[y].values).reshape(-1, 1)\n",
        "y_valid = torch.Tensor(valid[y].values).reshape(-1, 1)\n",
        "y_test = torch.Tensor(test[y].values).reshape(-1, 1)\n",
        "\n",
        "print('Oбучающие признаки', X_train.size())\n",
        "print()\n",
        "print('Валидационные признаки', X_valid.size())\n",
        "print()\n",
        "print('Тестовые признаки', X_test.size())"
      ],
      "metadata": {
        "colab": {
          "base_uri": "https://localhost:8080/"
        },
        "id": "nL5CbOLnII5V",
        "outputId": "dbff3037-d43a-479b-acb6-915b14a42ca5"
      },
      "execution_count": 30,
      "outputs": [
        {
          "output_type": "stream",
          "name": "stdout",
          "text": [
            "Oбучающие признаки torch.Size([144, 14])\n",
            "\n",
            "Валидационные признаки torch.Size([48, 14])\n",
            "\n",
            "Тестовые признаки torch.Size([48, 14])\n"
          ]
        }
      ]
    },
    {
      "cell_type": "code",
      "source": [
        "input_neurons = X_train.shape[1]\n",
        "\n",
        "model = BaselineModel(input_neurons,\n",
        "                        hidden_neurons,\n",
        "                        output_neurons)\n",
        "\n",
        "optimizer = torch.optim.Adam(model.parameters(), lr=0.01)\n",
        "\n",
        "for epoch in range(num_epochs):\n",
        "\n",
        "        outputs = model(X_train)\n",
        "\n",
        "        loss_train = loss(outputs, y_train)\n",
        "\n",
        "        optimizer.zero_grad()\n",
        "\n",
        "        loss_train.backward()\n",
        "\n",
        "        optimizer.step()\n",
        "\n",
        "        if (epoch + 1) % 1000 == 0:\n",
        "          model.eval()  # Перевести модель в режим оценки\n",
        "          with torch.no_grad():\n",
        "              valid_outputs = model(X_valid)\n",
        "              valid_loss = loss(valid_outputs, y_valid)\n",
        "              print(f'Epoch [{epoch + 1}/{num_epochs}], Loss: {loss_train.item()}')\n",
        "print(f'Baseline Loss:  {np.sqrt(valid_loss)}')"
      ],
      "metadata": {
        "colab": {
          "base_uri": "https://localhost:8080/"
        },
        "id": "s_KqqeHiKrcU",
        "outputId": "5bbc8cca-ad99-480f-c51e-617e91d958bb"
      },
      "execution_count": 31,
      "outputs": [
        {
          "output_type": "stream",
          "name": "stdout",
          "text": [
            "Epoch [1000/10000], Loss: 21005686.0\n",
            "Epoch [2000/10000], Loss: 15802203.0\n",
            "Epoch [3000/10000], Loss: 14498485.0\n",
            "Epoch [4000/10000], Loss: 13144420.0\n",
            "Epoch [5000/10000], Loss: 11789995.0\n",
            "Epoch [6000/10000], Loss: 10875456.0\n",
            "Epoch [7000/10000], Loss: 9948285.0\n",
            "Epoch [8000/10000], Loss: 9178509.0\n",
            "Epoch [9000/10000], Loss: 8510856.0\n",
            "Epoch [10000/10000], Loss: 8092293.5\n",
            "Baseline Loss:  5117.5048828125\n"
          ]
        }
      ]
    },
    {
      "cell_type": "code",
      "source": [
        "rmse_baseline = np.sqrt(valid_loss.item())\n",
        "result.append(['rmse_baseline', rmse_baseline])\n",
        "result"
      ],
      "metadata": {
        "id": "veo1nx03SyHh",
        "colab": {
          "base_uri": "https://localhost:8080/"
        },
        "outputId": "8706d257-4973-482d-efce-58f3ce7b0f51"
      },
      "execution_count": 32,
      "outputs": [
        {
          "output_type": "execute_result",
          "data": {
            "text/plain": [
              "[['rmse_baseline', 5117.505056177278]]"
            ]
          },
          "metadata": {},
          "execution_count": 32
        }
      ]
    },
    {
      "cell_type": "code",
      "source": [
        "# строим график для визуализации предсказаний baseline модели\n",
        "plot(y_valid, valid_outputs, 'Baseline')"
      ],
      "metadata": {
        "id": "ffyD0qQkN5Uv",
        "colab": {
          "base_uri": "https://localhost:8080/",
          "height": 476
        },
        "outputId": "803f8562-58fb-4fd4-e042-c5ea073b28fc"
      },
      "execution_count": 33,
      "outputs": [
        {
          "output_type": "display_data",
          "data": {
            "text/plain": [
              "<Figure size 800x400 with 1 Axes>"
            ],
            "image/png": "[encoded data removed]"
          },
          "metadata": {}
        }
      ]
    },
    {
      "cell_type": "markdown",
      "source": [
        "Как видно из диаграммы наша модель ошибается на некоторых объектах в сильно большую сторону,  а на других наоборт сильно преуменьшая значения."
      ],
      "metadata": {
        "id": "8j80_J5deBh8"
      }
    },
    {
      "cell_type": "markdown",
      "source": [
        "## Улучшение модели"
      ],
      "metadata": {
        "id": "E1UwL3LWsvtE"
      }
    },
    {
      "cell_type": "markdown",
      "source": [
        "В задании к проекту нам дано обязательное требование\n",
        "создать решение с перебором параметров нейросети:\n",
        "- dropout\n",
        "- размер батча.\n",
        "\n",
        "\n",
        "Следующим этапом я проведу эксперимент с данными:\n",
        "1.  создам синтетические данные и, обучив на них, получим предсказание на test выборке исходного датасета.\n",
        "2. аугментирую исходный датасет (добавлю шум к числовым признакам) и, обучив на них, получим предсказание на test выборке исходного датасета.\n",
        "\n",
        "\n"
      ],
      "metadata": {
        "id": "VZZB2ODYPoYB"
      }
    },
    {
      "cell_type": "markdown",
      "source": [
        "### Подбор Dropout"
      ],
      "metadata": {
        "id": "KEZUcD6Kt35-"
      }
    },
    {
      "cell_type": "code",
      "source": [
        "class DropoutModel(nn.Module):\n",
        "    def __init__(self, input_neurons, hidden_neurons, output_neurons, best_dropout):\n",
        "        super(DropoutModel, self).__init__()\n",
        "\n",
        "        self.fc1 = nn.Linear(input_neurons, hidden_neurons)\n",
        "        self.act1 = nn.ReLU()\n",
        "        self.dropout1 = nn.Dropout(p=best_dropout) # 50% dropout после первого слоя\n",
        "        self.fc2 = nn.Linear(hidden_neurons, output_neurons)\n",
        "        self.act2 = nn.ReLU()\n",
        "        self.dropout2 = nn.Dropout(p=best_dropout) # 50% dropout после второго слоя\n",
        "\n",
        "        nn.init.xavier_uniform_(self.fc1.weight)\n",
        "        nn.init.constant_(self.fc1.bias, 0)\n",
        "        nn.init.xavier_uniform_(self.fc2.weight)\n",
        "        nn.init.constant_(self.fc2.bias, 0)\n",
        "\n",
        "    def forward(self, x):\n",
        "        x = self.fc1(x)\n",
        "        x = self.act1(x)\n",
        "        x = self.dropout1(x)  #  Dropout после первого слоя\n",
        "        x = self.fc2(x)\n",
        "        x = self.act2(x)\n",
        "        x = self.dropout2(x)  #  Dropout после второго слоя\n",
        "\n",
        "        return x"
      ],
      "metadata": {
        "id": "rrfGjzsyT8tj"
      },
      "execution_count": 34,
      "outputs": []
    },
    {
      "cell_type": "code",
      "source": [
        "dropout_values = [0.1, 0.2, 0.3, 0.4, 0.6]\n",
        "\n",
        "input_neurons = X_train.shape[1]\n",
        "\n",
        "dropout_rmse = float('inf')\n",
        "best_model = None\n",
        "best_dropout = 0.5\n",
        "\n",
        "for dropout in dropout_values:\n",
        "  model = DropoutModel(input_neurons,\n",
        "                       hidden_neurons,\n",
        "                       output_neurons,\n",
        "                       dropout)  # подбираем\n",
        "  optimizer = torch.optim.Adam(model.parameters(), lr=0.01)\n",
        "\n",
        "  for epoch in range(num_epochs):\n",
        "    outputs = model(X_train)\n",
        "    loss_train = loss(outputs, y_train)\n",
        "\n",
        "    optimizer.zero_grad()\n",
        "    loss_train.backward()\n",
        "    optimizer.step()\n",
        "\n",
        "    if (epoch + 1) % 1000 == 0:\n",
        "        print(f'Epoch [{epoch + 1}/{num_epochs}], Loss: {loss_train.item()}')\n",
        "\n",
        "        # Оценка модели на valid данных\n",
        "        model.eval()  # оценка\n",
        "        with torch.no_grad():\n",
        "            valid_outputs = model(X_valid)\n",
        "            valid_loss = loss(valid_outputs, y_valid)\n",
        "\n",
        "            # Оценка RMSE на valid данных\n",
        "            rmse = np.sqrt(valid_loss.item())\n",
        "\n",
        "            # Сравнение RMSE с лучшим результатом\n",
        "            if rmse < dropout_rmse:\n",
        "                dropout_rmse = rmse\n",
        "                best_model = model\n",
        "                best_dropout = dropout"
      ],
      "metadata": {
        "colab": {
          "base_uri": "https://localhost:8080/"
        },
        "id": "02eHXK2w_UI0",
        "outputId": "f39fbac9-77e9-4c0a-9cf1-201ae004f3c9"
      },
      "execution_count": 35,
      "outputs": [
        {
          "output_type": "stream",
          "name": "stdout",
          "text": [
            "Epoch [1000/10000], Loss: 38983780.0\n",
            "Epoch [2000/10000], Loss: 15887819.0\n",
            "Epoch [3000/10000], Loss: 14502803.0\n",
            "Epoch [4000/10000], Loss: 13348248.0\n",
            "Epoch [5000/10000], Loss: 11961604.0\n",
            "Epoch [6000/10000], Loss: 10807954.0\n",
            "Epoch [7000/10000], Loss: 9705354.0\n",
            "Epoch [8000/10000], Loss: 8915673.0\n",
            "Epoch [9000/10000], Loss: 8521187.0\n",
            "Epoch [10000/10000], Loss: 8246122.0\n",
            "Epoch [1000/10000], Loss: 62582884.0\n",
            "Epoch [2000/10000], Loss: 16031239.0\n",
            "Epoch [3000/10000], Loss: 14596141.0\n",
            "Epoch [4000/10000], Loss: 13633409.0\n",
            "Epoch [5000/10000], Loss: 11818914.0\n",
            "Epoch [6000/10000], Loss: 10562896.0\n",
            "Epoch [7000/10000], Loss: 9741394.0\n",
            "Epoch [8000/10000], Loss: 8955824.0\n",
            "Epoch [9000/10000], Loss: 8536307.0\n",
            "Epoch [10000/10000], Loss: 8302801.0\n",
            "Epoch [1000/10000], Loss: 57836552.0\n",
            "Epoch [2000/10000], Loss: 16215143.0\n",
            "Epoch [3000/10000], Loss: 14652951.0\n",
            "Epoch [4000/10000], Loss: 13459947.0\n",
            "Epoch [5000/10000], Loss: 11465054.0\n",
            "Epoch [6000/10000], Loss: 10559822.0\n",
            "Epoch [7000/10000], Loss: 9863020.0\n",
            "Epoch [8000/10000], Loss: 9381230.0\n",
            "Epoch [9000/10000], Loss: 9096255.0\n",
            "Epoch [10000/10000], Loss: 8833655.0\n",
            "Epoch [1000/10000], Loss: 100806744.0\n",
            "Epoch [2000/10000], Loss: 16519504.0\n",
            "Epoch [3000/10000], Loss: 14741824.0\n",
            "Epoch [4000/10000], Loss: 13657780.0\n",
            "Epoch [5000/10000], Loss: 11499624.0\n",
            "Epoch [6000/10000], Loss: 10542500.0\n",
            "Epoch [7000/10000], Loss: 9862862.0\n",
            "Epoch [8000/10000], Loss: 9434434.0\n",
            "Epoch [9000/10000], Loss: 9181206.0\n",
            "Epoch [10000/10000], Loss: 9009004.0\n",
            "Epoch [1000/10000], Loss: 127269520.0\n",
            "Epoch [2000/10000], Loss: 17230294.0\n",
            "Epoch [3000/10000], Loss: 15018064.0\n",
            "Epoch [4000/10000], Loss: 13932853.0\n",
            "Epoch [5000/10000], Loss: 12077372.0\n",
            "Epoch [6000/10000], Loss: 10777083.0\n",
            "Epoch [7000/10000], Loss: 10109397.0\n",
            "Epoch [8000/10000], Loss: 9594725.0\n",
            "Epoch [9000/10000], Loss: 8940715.0\n",
            "Epoch [10000/10000], Loss: 8485484.0\n"
          ]
        }
      ]
    },
    {
      "cell_type": "code",
      "source": [
        "print(f'Лучший dropout_rmse: {dropout_rmse}')\n",
        "print(f'Лучшие параметры: Dropout = {best_dropout}')"
      ],
      "metadata": {
        "colab": {
          "base_uri": "https://localhost:8080/"
        },
        "id": "XZJHPxeV-_y1",
        "outputId": "0e5ef18e-602a-4480-f4f8-848b1101e40e"
      },
      "execution_count": 36,
      "outputs": [
        {
          "output_type": "stream",
          "name": "stdout",
          "text": [
            "Лучший dropout_rmse: 4371.038549361009\n",
            "Лучшие параметры: Dropout = 0.6\n"
          ]
        }
      ]
    },
    {
      "cell_type": "code",
      "source": [
        "result.append(['dropout_rmse', dropout_rmse])\n",
        "result"
      ],
      "metadata": {
        "colab": {
          "base_uri": "https://localhost:8080/"
        },
        "id": "AwkT_J44_3WY",
        "outputId": "6bd4c09a-083d-470b-d0cb-419e19940952"
      },
      "execution_count": 37,
      "outputs": [
        {
          "output_type": "execute_result",
          "data": {
            "text/plain": [
              "[['rmse_baseline', 5117.505056177278], ['dropout_rmse', 4371.038549361009]]"
            ]
          },
          "metadata": {},
          "execution_count": 37
        }
      ]
    },
    {
      "cell_type": "code",
      "source": [
        "plot(y_valid, valid_outputs, 'Dropout')"
      ],
      "metadata": {
        "colab": {
          "base_uri": "https://localhost:8080/",
          "height": 476
        },
        "id": "VihxKQvC_UMp",
        "outputId": "0290c59e-fa46-4604-e180-378efac5cb2f"
      },
      "execution_count": 38,
      "outputs": [
        {
          "output_type": "display_data",
          "data": {
            "text/plain": [
              "<Figure size 800x400 with 1 Axes>"
            ],
            "image/png": "[encoded data removed]"
          },
          "metadata": {}
        }
      ]
    },
    {
      "cell_type": "markdown",
      "source": [
        "Подбор гиперпараметра dropout позволил нам значительно улучшить метрику примерно на 14%, что позволило нам уже достичь минимально необходимого значения <4500"
      ],
      "metadata": {
        "id": "qgOYW096Cest"
      }
    },
    {
      "cell_type": "code",
      "source": [],
      "metadata": {
        "id": "9fkSyLvjey_T"
      },
      "execution_count": 38,
      "outputs": []
    },
    {
      "cell_type": "markdown",
      "source": [
        "  ### BatchSize"
      ],
      "metadata": {
        "id": "KMegLDqMCevS"
      }
    },
    {
      "cell_type": "code",
      "source": [
        "batch_sizes = [int(0.1*len(train)),\n",
        "               int(0.3*len(train)),\n",
        "               int(0.5*len(train))]\n",
        "\n",
        "input_neurons = X_train.shape[1]\n",
        "\n",
        "batch_rmse = float('inf')\n",
        "\n",
        "best_batch_size = None\n",
        "\n",
        "for batch_size in batch_sizes:\n",
        "\n",
        "    # Создание и обучение модели\n",
        "    model = BaselineModel(input_neurons, hidden_neurons, output_neurons)\n",
        "    optimizer = torch.optim.Adam(model.parameters(), lr=0.01)\n",
        "\n",
        "    for epoch in range(num_epochs):\n",
        "        outputs = model(X_train)\n",
        "        loss_train = loss(outputs, y_train)\n",
        "\n",
        "        optimizer.zero_grad()\n",
        "        loss_train.backward()\n",
        "        optimizer.step()\n",
        "\n",
        "        if (epoch + 1) % 1000 == 0:\n",
        "            model.eval()\n",
        "            print(f'Epoch [{epoch + 1}/{num_epochs}], Loss: {loss_train.item()}')\n",
        "            # Оценка модели на валидационных данных\n",
        "            with torch.no_grad():\n",
        "              valid_outputs = model(X_valid)\n",
        "              valid_loss = loss(valid_outputs, y_valid)\n",
        "              rmse = np.sqrt(valid_loss.item())\n",
        "\n",
        "    # Сравнение RMSE с лучшим результатом\n",
        "    if rmse < batch_rmse:\n",
        "        batch_rmse = rmse\n",
        "        best_batch_size = batch_size\n",
        "\n",
        "print(f'Best Batch Size: {best_batch_size}, Best RMSE: {batch_rmse}')"
      ],
      "metadata": {
        "id": "w_9cmWA6tIXn",
        "colab": {
          "base_uri": "https://localhost:8080/"
        },
        "outputId": "7c661f41-80cd-47e8-9dc3-05062031607e"
      },
      "execution_count": 39,
      "outputs": [
        {
          "output_type": "stream",
          "name": "stdout",
          "text": [
            "Epoch [1000/10000], Loss: 21116654.0\n",
            "Epoch [2000/10000], Loss: 15750873.0\n",
            "Epoch [3000/10000], Loss: 14621258.0\n",
            "Epoch [4000/10000], Loss: 13541979.0\n",
            "Epoch [5000/10000], Loss: 12072727.0\n",
            "Epoch [6000/10000], Loss: 10914624.0\n",
            "Epoch [7000/10000], Loss: 9923690.0\n",
            "Epoch [8000/10000], Loss: 9221806.0\n",
            "Epoch [9000/10000], Loss: 8830153.0\n",
            "Epoch [10000/10000], Loss: 8685449.0\n",
            "Epoch [1000/10000], Loss: 20915872.0\n",
            "Epoch [2000/10000], Loss: 15725918.0\n",
            "Epoch [3000/10000], Loss: 14284584.0\n",
            "Epoch [4000/10000], Loss: 12971461.0\n",
            "Epoch [5000/10000], Loss: 11704022.0\n",
            "Epoch [6000/10000], Loss: 10706110.0\n",
            "Epoch [7000/10000], Loss: 9848983.0\n",
            "Epoch [8000/10000], Loss: 9163587.0\n",
            "Epoch [9000/10000], Loss: 8816438.0\n",
            "Epoch [10000/10000], Loss: 8486198.0\n",
            "Epoch [1000/10000], Loss: 21195158.0\n",
            "Epoch [2000/10000], Loss: 15786802.0\n",
            "Epoch [3000/10000], Loss: 14579974.0\n",
            "Epoch [4000/10000], Loss: 13208826.0\n",
            "Epoch [5000/10000], Loss: 11722875.0\n",
            "Epoch [6000/10000], Loss: 10813669.0\n",
            "Epoch [7000/10000], Loss: 10175628.0\n",
            "Epoch [8000/10000], Loss: 9398105.0\n",
            "Epoch [9000/10000], Loss: 8932647.0\n",
            "Epoch [10000/10000], Loss: 8554910.0\n",
            "Best Batch Size: 43, Best RMSE: 5048.604361603313\n"
          ]
        }
      ]
    },
    {
      "cell_type": "code",
      "source": [
        "print(f'Лучший batch_sizes_rmse: {batch_rmse}')\n",
        "print(f'Лучшие параметры:  Batch Size = {best_batch_size}')"
      ],
      "metadata": {
        "colab": {
          "base_uri": "https://localhost:8080/"
        },
        "id": "Xvd8swi_xeop",
        "outputId": "4bc7a3a5-1393-41b2-8612-fa84c00fb69d"
      },
      "execution_count": 40,
      "outputs": [
        {
          "output_type": "stream",
          "name": "stdout",
          "text": [
            "Лучший batch_sizes_rmse: 5048.604361603313\n",
            "Лучшие параметры:  Batch Size = 43\n"
          ]
        }
      ]
    },
    {
      "cell_type": "code",
      "source": [
        "result.append(['batch_sizes_rmse', batch_rmse])\n",
        "result"
      ],
      "metadata": {
        "colab": {
          "base_uri": "https://localhost:8080/"
        },
        "id": "5EaM37w6VVAm",
        "outputId": "b2f97f74-6aad-40f8-bbda-1a1a5498e638"
      },
      "execution_count": 42,
      "outputs": [
        {
          "output_type": "execute_result",
          "data": {
            "text/plain": [
              "[['rmse_baseline', 5117.505056177278],\n",
              " ['dropout_rmse', 4371.038549361009],\n",
              " ['batch_sizes_rmse', 5048.604361603313]]"
            ]
          },
          "metadata": {},
          "execution_count": 42
        }
      ]
    },
    {
      "cell_type": "code",
      "source": [
        "plot(y_valid, valid_outputs, 'Batchsize')"
      ],
      "metadata": {
        "colab": {
          "base_uri": "https://localhost:8080/",
          "height": 476
        },
        "id": "dKjMDRFcVabf",
        "outputId": "677f9f60-c251-41dc-c777-87188ec0f4f2"
      },
      "execution_count": 43,
      "outputs": [
        {
          "output_type": "display_data",
          "data": {
            "text/plain": [
              "<Figure size 800x400 with 1 Axes>"
            ],
            "image/png": "[encoded data removed]"
          },
          "metadata": {}
        }
      ]
    },
    {
      "cell_type": "markdown",
      "source": [
        "Видим, что только параметра batchsize недостаточно для достижения требуемой метрики."
      ],
      "metadata": {
        "id": "P7AVE67JgLUc"
      }
    },
    {
      "cell_type": "code",
      "source": [],
      "metadata": {
        "id": "oypj5V2EXG61"
      },
      "execution_count": 43,
      "outputs": []
    },
    {
      "cell_type": "markdown",
      "source": [
        "### Аугментация данных"
      ],
      "metadata": {
        "id": "828uuFSLBi4s"
      }
    },
    {
      "cell_type": "markdown",
      "source": [
        "Метрику мы будем сравнивать на baseline модели, предсказывая по valid выборке исходного датасета."
      ],
      "metadata": {
        "id": "VPdX8CUOizX9"
      }
    },
    {
      "cell_type": "markdown",
      "source": [
        "###Синтетическая Генерация Данных"
      ],
      "metadata": {
        "id": "4RBTjDNOp2Wi"
      }
    },
    {
      "cell_type": "markdown",
      "source": [
        "Ниже приведена таблица с диапазонами характеристик для каждой звезды, мы будем создавать новые данные используя эту таблицу."
      ],
      "metadata": {
        "id": "Ym1jAD67p_iB"
      }
    },
    {
      "cell_type": "markdown",
      "source": [
        "| Температура (K) | Светимость (L/Lo) | Радиус (R/Ro) | Абсолютная звёздная величина (Mv) | Тип звезды | Цвет звезды |\n",
        "|-----------------|-------------------|---------------|------------------------------------|------------|-------------|\n",
        "| ~2,000 K        | 0.00001% - 0.1%   | 0.1 - 0.7     | Высокая отрицательная              | M (красные карлики) | Красные, оранжевые |\n",
        "| ~3,500 K        | 1% - 10%           | 0.7 - 1.0     | Низкая отрицательная               | K | Оранжевые, красные |\n",
        "| Очень высокая  | Очень низкая       | Сравним с Землёй | Высокая отрицательная | Белые карлики | Белые |\n",
        "| ~5,500 K        | 100%               | 1.0           | 4.83                               | G (похожие на Солнце) | Желтые |\n",
        "| ~10,000 K - несколько десятков тысяч K | >100 - несколько тысяч | >1 - несколько сотен | Низкая отрицательная | Горячие звёзды | Голубые, белые |\n",
        "| ~2,000 K - 1,000 K (обычно ниже) | Очень низкая - очень очень низкая | 0.01 - 0.1 (примерно) | Высокая отрицательная | Коричневые карлики | Коричневые |\n",
        "| Разнообразная  | Очень высокая - низкая | Разнообразный | Разнообразная | Гиганты (разных классов) | Разноцветные |\n",
        "| Разнообразная  | Очень высокая - низкая | Разнообразный | Разнообразная | Сверхгиганты | Разноцветные |\n",
        "| ~5,500 K        | Около 100%         | Около 1.0     | 4.83 | Звёзды главной последовательности | Желтые |\n"
      ],
      "metadata": {
        "id": "D2jmPvlHRDV-"
      }
    },
    {
      "cell_type": "code",
      "source": [
        "data['star_color'].value_counts(normalize = True)"
      ],
      "metadata": {
        "id": "MmXeDxFqGqrz",
        "colab": {
          "base_uri": "https://localhost:8080/"
        },
        "outputId": "f9402353-4651-4b68-a9c7-6214fc639fca"
      },
      "execution_count": 44,
      "outputs": [
        {
          "output_type": "execute_result",
          "data": {
            "text/plain": [
              "red                   0.466667\n",
              "blue                  0.233333\n",
              "blue_white            0.170833\n",
              "white                 0.041667\n",
              "yellow_white          0.033333\n",
              "yellowish_white       0.012500\n",
              "yellowish             0.012500\n",
              "whitish               0.008333\n",
              "orange                0.008333\n",
              "pale_yellow_orange    0.004167\n",
              "white_yellow          0.004167\n",
              "orange_red            0.004167\n",
              "Name: star_color, dtype: float64"
            ]
          },
          "metadata": {},
          "execution_count": 44
        }
      ]
    },
    {
      "cell_type": "code",
      "source": [
        "synthetic_data = []\n",
        "\n",
        "n_samples = 200  # Общее количество сэмплов\n",
        "\n",
        "# Генерация данных для красных карликов (M-тип)\n",
        "n_samples_m = int(n_samples * 0.45)\n",
        "temperature_m = np.random.uniform(2000, 3500, n_samples_m)\n",
        "luminosity_m = np.random.uniform(0.00001, 0.1, n_samples_m)\n",
        "radius_m = np.random.uniform(0.1, 0.7, n_samples_m)\n",
        "magnitude_m = np.random.uniform(-11.92, -6.23, n_samples_m)\n",
        "star_type_m = [0] * n_samples_m  # добавляем тип звезды (0-6)\n",
        "star_color_m = ['red'] * n_samples_m\n",
        "\n",
        "# Генерация данных для оранжевых карликов (K-тип)\n",
        "n_samples_k = int(n_samples * 0.151)\n",
        "temperature_k = np.random.uniform(3500, 5500, n_samples_k)\n",
        "luminosity_k = np.random.uniform(0.01, 0.1, n_samples_k)\n",
        "radius_k = np.random.uniform(0.7, 1.0, n_samples_k)\n",
        "magnitude_k = np.random.uniform(-6.23, -2, n_samples_k)\n",
        "star_type_k = [1] * n_samples_k\n",
        "star_color_k = ['orange'] * n_samples_k\n",
        "\n",
        "# Генерация данных для белых карликов (группа \"Очень высокая\")\n",
        "n_samples_wd = int(n_samples * 0.16)\n",
        "temperature_wd = np.random.uniform(5500, 6000, n_samples_wd)\n",
        "luminosity_wd = np.random.uniform(0.99, 1.01, n_samples_wd)\n",
        "radius_wd = np.random.uniform(0.99, 1.01, n_samples_wd)\n",
        "magnitude_wd = np.full(n_samples_wd, 4.83)\n",
        "star_type_wd = [2] * n_samples_wd\n",
        "star_color_wd = ['white'] * n_samples_wd\n",
        "\n",
        "# Генерация данных для звёзд главной последовательности (G-тип)\n",
        "n_samples_g = int(n_samples * 0.09)\n",
        "temperature_g = np.random.uniform(5500, 5700, n_samples_g)\n",
        "luminosity_g = np.random.uniform(0.99, 1.01, n_samples_g)\n",
        "radius_g = np.random.uniform(0.99, 1.01, n_samples_g)\n",
        "magnitude_g = np.full(n_samples_g, 4.83)\n",
        "star_type_g = [3] * n_samples_g\n",
        "star_color_g = ['yellow'] * n_samples_g\n",
        "\n",
        "# Генерация данных для горячих звёзд\n",
        "n_samples_hot = int(n_samples * 0.3)\n",
        "temperature_hot = np.random.uniform(10000, 30000, n_samples_hot)\n",
        "luminosity_hot = np.random.uniform(100, 3000, n_samples_hot)\n",
        "radius_hot = np.random.uniform(10, 100, n_samples_hot)\n",
        "magnitude_hot = np.random.uniform(-11.92, -6.23, n_samples_hot)\n",
        "star_type_hot = [4] * n_samples_hot\n",
        "star_color_hot = ['blue'] * n_samples_hot\n",
        "\n",
        "# Генерация данных для коричневых карликов (L-тип)\n",
        "n_samples_l = int(n_samples * 0.06)\n",
        "temperature_l = np.random.uniform(1000, 2000, n_samples_l)\n",
        "luminosity_l = np.random.uniform(0.00000001, 0.0000001, n_samples_l)\n",
        "radius_l = np.random.uniform(0.01, 0.1, n_samples_l)\n",
        "magnitude_l = np.random.uniform(-11.92, -6.23, n_samples_l)\n",
        "star_type_l = [5] * n_samples_l\n",
        "star_color_l = ['blue_white'] * n_samples_l\n",
        "\n",
        "# создаем новый df\n",
        "synthetic_data = pd.DataFrame({\n",
        "    'temperature': np.concatenate((temperature_m,\n",
        "                                   temperature_k,\n",
        "                                   temperature_wd,\n",
        "                                   temperature_g,\n",
        "                                   temperature_hot,\n",
        "                                   temperature_l)),\n",
        "\n",
        "    'luminosity': np.concatenate((luminosity_m,\n",
        "                                  luminosity_k,\n",
        "                                  luminosity_wd,\n",
        "                                  luminosity_g,\n",
        "                                  luminosity_hot,\n",
        "                                  luminosity_l)),\n",
        "\n",
        "    'radius': np.concatenate((radius_m,\n",
        "                              radius_k,\n",
        "                              radius_wd,\n",
        "                              radius_g,\n",
        "                              radius_hot,\n",
        "                              radius_l)),\n",
        "\n",
        "    'magnitude': np.concatenate((magnitude_m,\n",
        "                                 magnitude_k,\n",
        "                                 magnitude_wd,\n",
        "                                 magnitude_g,\n",
        "                                 magnitude_hot,\n",
        "                                 magnitude_l)),\n",
        "\n",
        "    'star_type': np.concatenate((star_type_m,\n",
        "                                 star_type_k,\n",
        "                                 star_type_wd,\n",
        "                                 star_type_g,\n",
        "                                 star_type_hot,\n",
        "                                 star_type_l)),\n",
        "\n",
        "    'star_color': np.concatenate((star_color_m,\n",
        "                                  star_color_k,\n",
        "                                  star_color_wd,\n",
        "                                  star_color_g,\n",
        "                                  star_color_hot,\n",
        "                                  star_color_l))\n",
        "})\n",
        "\n",
        "# перемешиваем\n",
        "synthetic_data = synthetic_data.sample(frac=1).reset_index(drop=True)"
      ],
      "metadata": {
        "id": "iN8uGL1GxTc5"
      },
      "execution_count": 45,
      "outputs": []
    },
    {
      "cell_type": "code",
      "source": [
        "synthetic_data.info()"
      ],
      "metadata": {
        "id": "jxNWQZPEXzFj",
        "colab": {
          "base_uri": "https://localhost:8080/"
        },
        "outputId": "6a92f71b-426b-43fe-d824-91cb5695ed07"
      },
      "execution_count": 46,
      "outputs": [
        {
          "output_type": "stream",
          "name": "stdout",
          "text": [
            "<class 'pandas.core.frame.DataFrame'>\n",
            "RangeIndex: 242 entries, 0 to 241\n",
            "Data columns (total 6 columns):\n",
            " #   Column       Non-Null Count  Dtype  \n",
            "---  ------       --------------  -----  \n",
            " 0   temperature  242 non-null    float64\n",
            " 1   luminosity   242 non-null    float64\n",
            " 2   radius       242 non-null    float64\n",
            " 3   magnitude    242 non-null    float64\n",
            " 4   star_type    242 non-null    int64  \n",
            " 5   star_color   242 non-null    object \n",
            "dtypes: float64(4), int64(1), object(1)\n",
            "memory usage: 11.5+ KB\n"
          ]
        }
      ]
    },
    {
      "cell_type": "code",
      "source": [
        "synthetic_data.describe()"
      ],
      "metadata": {
        "id": "F6BeVK1Z3jmS",
        "colab": {
          "base_uri": "https://localhost:8080/",
          "height": 300
        },
        "outputId": "da7f1618-87b1-450b-d06b-27247f8a2628"
      },
      "execution_count": 47,
      "outputs": [
        {
          "output_type": "execute_result",
          "data": {
            "text/plain": [
              "        temperature    luminosity      radius   magnitude   star_type\n",
              "count    242.000000  2.420000e+02  242.000000  242.000000  242.000000\n",
              "mean    7554.129521  3.815575e+02   14.925576   -5.672395    1.851240\n",
              "std     7316.880469  7.722637e+02   27.963584    5.793407    1.764854\n",
              "min     1025.386356  1.177395e-08    0.011170  -11.893644    0.000000\n",
              "25%     2773.539251  4.121987e-02    0.478978   -9.733268    0.000000\n",
              "50%     4879.743939  9.135707e-02    0.911082   -8.052190    2.000000\n",
              "75%     5991.628380  1.009979e+00    1.008847   -3.553468    4.000000\n",
              "max    29730.304976  2.970885e+03   95.255501    4.830000    5.000000"
            ],
            "text/html": [
              "\n",
              "  <div id=\"df-8f56824c-6e10-4fe6-b4d2-16c3143463e3\" class=\"colab-df-container\">\n",
              "    <div>\n",
              "<style scoped>\n",
              "    .dataframe tbody tr th:only-of-type {\n",
              "        vertical-align: middle;\n",
              "    }\n",
              "\n",
              "    .dataframe tbody tr th {\n",
              "        vertical-align: top;\n",
              "    }\n",
              "\n",
              "    .dataframe thead th {\n",
              "        text-align: right;\n",
              "    }\n",
              "</style>\n",
              "<table border=\"1\" class=\"dataframe\">\n",
              "  <thead>\n",
              "    <tr style=\"text-align: right;\">\n",
              "      <th></th>\n",
              "      <th>temperature</th>\n",
              "      <th>luminosity</th>\n",
              "      <th>radius</th>\n",
              "      <th>magnitude</th>\n",
              "      <th>star_type</th>\n",
              "    </tr>\n",
              "  </thead>\n",
              "  <tbody>\n",
              "    <tr>\n",
              "      <th>count</th>\n",
              "      <td>242.000000</td>\n",
              "      <td>2.420000e+02</td>\n",
              "      <td>242.000000</td>\n",
              "      <td>242.000000</td>\n",
              "      <td>242.000000</td>\n",
              "    </tr>\n",
              "    <tr>\n",
              "      <th>mean</th>\n",
              "      <td>7554.129521</td>\n",
              "      <td>3.815575e+02</td>\n",
              "      <td>14.925576</td>\n",
              "      <td>-5.672395</td>\n",
              "      <td>1.851240</td>\n",
              "    </tr>\n",
              "    <tr>\n",
              "      <th>std</th>\n",
              "      <td>7316.880469</td>\n",
              "      <td>7.722637e+02</td>\n",
              "      <td>27.963584</td>\n",
              "      <td>5.793407</td>\n",
              "      <td>1.764854</td>\n",
              "    </tr>\n",
              "    <tr>\n",
              "      <th>min</th>\n",
              "      <td>1025.386356</td>\n",
              "      <td>1.177395e-08</td>\n",
              "      <td>0.011170</td>\n",
              "      <td>-11.893644</td>\n",
              "      <td>0.000000</td>\n",
              "    </tr>\n",
              "    <tr>\n",
              "      <th>25%</th>\n",
              "      <td>2773.539251</td>\n",
              "      <td>4.121987e-02</td>\n",
              "      <td>0.478978</td>\n",
              "      <td>-9.733268</td>\n",
              "      <td>0.000000</td>\n",
              "    </tr>\n",
              "    <tr>\n",
              "      <th>50%</th>\n",
              "      <td>4879.743939</td>\n",
              "      <td>9.135707e-02</td>\n",
              "      <td>0.911082</td>\n",
              "      <td>-8.052190</td>\n",
              "      <td>2.000000</td>\n",
              "    </tr>\n",
              "    <tr>\n",
              "      <th>75%</th>\n",
              "      <td>5991.628380</td>\n",
              "      <td>1.009979e+00</td>\n",
              "      <td>1.008847</td>\n",
              "      <td>-3.553468</td>\n",
              "      <td>4.000000</td>\n",
              "    </tr>\n",
              "    <tr>\n",
              "      <th>max</th>\n",
              "      <td>29730.304976</td>\n",
              "      <td>2.970885e+03</td>\n",
              "      <td>95.255501</td>\n",
              "      <td>4.830000</td>\n",
              "      <td>5.000000</td>\n",
              "    </tr>\n",
              "  </tbody>\n",
              "</table>\n",
              "</div>\n",
              "    <div class=\"colab-df-buttons\">\n",
              "\n",
              "  <div class=\"colab-df-container\">\n",
              "    <button class=\"colab-df-convert\" onclick=\"convertToInteractive('df-8f56824c-6e10-4fe6-b4d2-16c3143463e3')\"\n",
              "            title=\"Convert this dataframe to an interactive table.\"\n",
              "            style=\"display:none;\">\n",
              "\n",
              "  <svg xmlns=\"http://www.w3.org/2000/svg\" height=\"24px\" viewBox=\"0 -960 960 960\">\n",
              "    <path d=\"M120-120v-720h720v720H120Zm60-500h600v-160H180v160Zm220 220h160v-160H400v160Zm0 220h160v-160H400v160ZM180-400h160v-160H180v160Zm440 0h160v-160H620v160ZM180-180h160v-160H180v160Zm440 0h160v-160H620v160Z\"/>\n",
              "  </svg>\n",
              "    </button>\n",
              "\n",
              "  <style>\n",
              "    .colab-df-container {\n",
              "      display:flex;\n",
              "      gap: 12px;\n",
              "    }\n",
              "\n",
              "    .colab-df-convert {\n",
              "      background-color: #E8F0FE;\n",
              "      border: none;\n",
              "      border-radius: 50%;\n",
              "      cursor: pointer;\n",
              "      display: none;\n",
              "      fill: #1967D2;\n",
              "      height: 32px;\n",
              "      padding: 0 0 0 0;\n",
              "      width: 32px;\n",
              "    }\n",
              "\n",
              "    .colab-df-convert:hover {\n",
              "      background-color: #E2EBFA;\n",
              "      box-shadow: 0px 1px 2px rgba(60, 64, 67, 0.3), 0px 1px 3px 1px rgba(60, 64, 67, 0.15);\n",
              "      fill: #174EA6;\n",
              "    }\n",
              "\n",
              "    .colab-df-buttons div {\n",
              "      margin-bottom: 4px;\n",
              "    }\n",
              "\n",
              "    [theme=dark] .colab-df-convert {\n",
              "      background-color: #3B4455;\n",
              "      fill: #D2E3FC;\n",
              "    }\n",
              "\n",
              "    [theme=dark] .colab-df-convert:hover {\n",
              "      background-color: #434B5C;\n",
              "      box-shadow: 0px 1px 3px 1px rgba(0, 0, 0, 0.15);\n",
              "      filter: drop-shadow(0px 1px 2px rgba(0, 0, 0, 0.3));\n",
              "      fill: #FFFFFF;\n",
              "    }\n",
              "  </style>\n",
              "\n",
              "    <script>\n",
              "      const buttonEl =\n",
              "        document.querySelector('#df-8f56824c-6e10-4fe6-b4d2-16c3143463e3 button.colab-df-convert');\n",
              "      buttonEl.style.display =\n",
              "        google.colab.kernel.accessAllowed ? 'block' : 'none';\n",
              "\n",
              "      async function convertToInteractive(key) {\n",
              "        const element = document.querySelector('#df-8f56824c-6e10-4fe6-b4d2-16c3143463e3');\n",
              "        const dataTable =\n",
              "          await google.colab.kernel.invokeFunction('convertToInteractive',\n",
              "                                                    [key], {});\n",
              "        if (!dataTable) return;\n",
              "\n",
              "        const docLinkHtml = 'Like what you see? Visit the ' +\n",
              "          '<a target=\"_blank\" href=https://colab.research.google.com/notebooks/data_table.ipynb>data table notebook</a>'\n",
              "          + ' to learn more about interactive tables.';\n",
              "        element.innerHTML = '';\n",
              "        dataTable['output_type'] = 'display_data';\n",
              "        await google.colab.output.renderOutput(dataTable, element);\n",
              "        const docLink = document.createElement('div');\n",
              "        docLink.innerHTML = docLinkHtml;\n",
              "        element.appendChild(docLink);\n",
              "      }\n",
              "    </script>\n",
              "  </div>\n",
              "\n",
              "\n",
              "<div id=\"df-9ba9d9fa-7b1f-4885-b6bc-b4e6be328960\">\n",
              "  <button class=\"colab-df-quickchart\" onclick=\"quickchart('df-9ba9d9fa-7b1f-4885-b6bc-b4e6be328960')\"\n",
              "            title=\"Suggest charts.\"\n",
              "            style=\"display:none;\">\n",
              "\n",
              "<svg xmlns=\"http://www.w3.org/2000/svg\" height=\"24px\"viewBox=\"0 0 24 24\"\n",
              "     width=\"24px\">\n",
              "    <g>\n",
              "        <path d=\"M19 3H5c-1.1 0-2 .9-2 2v14c0 1.1.9 2 2 2h14c1.1 0 2-.9 2-2V5c0-1.1-.9-2-2-2zM9 17H7v-7h2v7zm4 0h-2V7h2v10zm4 0h-2v-4h2v4z\"/>\n",
              "    </g>\n",
              "</svg>\n",
              "  </button>\n",
              "\n",
              "<style>\n",
              "  .colab-df-quickchart {\n",
              "      --bg-color: #E8F0FE;\n",
              "      --fill-color: #1967D2;\n",
              "      --hover-bg-color: #E2EBFA;\n",
              "      --hover-fill-color: #174EA6;\n",
              "      --disabled-fill-color: #AAA;\n",
              "      --disabled-bg-color: #DDD;\n",
              "  }\n",
              "\n",
              "  [theme=dark] .colab-df-quickchart {\n",
              "      --bg-color: #3B4455;\n",
              "      --fill-color: #D2E3FC;\n",
              "      --hover-bg-color: #434B5C;\n",
              "      --hover-fill-color: #FFFFFF;\n",
              "      --disabled-bg-color: #3B4455;\n",
              "      --disabled-fill-color: #666;\n",
              "  }\n",
              "\n",
              "  .colab-df-quickchart {\n",
              "    background-color: var(--bg-color);\n",
              "    border: none;\n",
              "    border-radius: 50%;\n",
              "    cursor: pointer;\n",
              "    display: none;\n",
              "    fill: var(--fill-color);\n",
              "    height: 32px;\n",
              "    padding: 0;\n",
              "    width: 32px;\n",
              "  }\n",
              "\n",
              "  .colab-df-quickchart:hover {\n",
              "    background-color: var(--hover-bg-color);\n",
              "    box-shadow: 0 1px 2px rgba(60, 64, 67, 0.3), 0 1px 3px 1px rgba(60, 64, 67, 0.15);\n",
              "    fill: var(--button-hover-fill-color);\n",
              "  }\n",
              "\n",
              "  .colab-df-quickchart-complete:disabled,\n",
              "  .colab-df-quickchart-complete:disabled:hover {\n",
              "    background-color: var(--disabled-bg-color);\n",
              "    fill: var(--disabled-fill-color);\n",
              "    box-shadow: none;\n",
              "  }\n",
              "\n",
              "  .colab-df-spinner {\n",
              "    border: 2px solid var(--fill-color);\n",
              "    border-color: transparent;\n",
              "    border-bottom-color: var(--fill-color);\n",
              "    animation:\n",
              "      spin 1s steps(1) infinite;\n",
              "  }\n",
              "\n",
              "  @keyframes spin {\n",
              "    0% {\n",
              "      border-color: transparent;\n",
              "      border-bottom-color: var(--fill-color);\n",
              "      border-left-color: var(--fill-color);\n",
              "    }\n",
              "    20% {\n",
              "      border-color: transparent;\n",
              "      border-left-color: var(--fill-color);\n",
              "      border-top-color: var(--fill-color);\n",
              "    }\n",
              "    30% {\n",
              "      border-color: transparent;\n",
              "      border-left-color: var(--fill-color);\n",
              "      border-top-color: var(--fill-color);\n",
              "      border-right-color: var(--fill-color);\n",
              "    }\n",
              "    40% {\n",
              "      border-color: transparent;\n",
              "      border-right-color: var(--fill-color);\n",
              "      border-top-color: var(--fill-color);\n",
              "    }\n",
              "    60% {\n",
              "      border-color: transparent;\n",
              "      border-right-color: var(--fill-color);\n",
              "    }\n",
              "    80% {\n",
              "      border-color: transparent;\n",
              "      border-right-color: var(--fill-color);\n",
              "      border-bottom-color: var(--fill-color);\n",
              "    }\n",
              "    90% {\n",
              "      border-color: transparent;\n",
              "      border-bottom-color: var(--fill-color);\n",
              "    }\n",
              "  }\n",
              "</style>\n",
              "\n",
              "  <script>\n",
              "    async function quickchart(key) {\n",
              "      const quickchartButtonEl =\n",
              "        document.querySelector('#' + key + ' button');\n",
              "      quickchartButtonEl.disabled = true;  // To prevent multiple clicks.\n",
              "      quickchartButtonEl.classList.add('colab-df-spinner');\n",
              "      try {\n",
              "        const charts = await google.colab.kernel.invokeFunction(\n",
              "            'suggestCharts', [key], {});\n",
              "      } catch (error) {\n",
              "        console.error('Error during call to suggestCharts:', error);\n",
              "      }\n",
              "      quickchartButtonEl.classList.remove('colab-df-spinner');\n",
              "      quickchartButtonEl.classList.add('colab-df-quickchart-complete');\n",
              "    }\n",
              "    (() => {\n",
              "      let quickchartButtonEl =\n",
              "        document.querySelector('#df-9ba9d9fa-7b1f-4885-b6bc-b4e6be328960 button');\n",
              "      quickchartButtonEl.style.display =\n",
              "        google.colab.kernel.accessAllowed ? 'block' : 'none';\n",
              "    })();\n",
              "  </script>\n",
              "</div>\n",
              "    </div>\n",
              "  </div>\n"
            ]
          },
          "metadata": {},
          "execution_count": 47
        }
      ]
    },
    {
      "cell_type": "code",
      "source": [
        "data['star_color'].value_counts(normalize = True)"
      ],
      "metadata": {
        "id": "BIxT85MD3nV0",
        "colab": {
          "base_uri": "https://localhost:8080/"
        },
        "outputId": "d4a0eba7-dde2-4d07-eab2-f92f43ad4144"
      },
      "execution_count": 48,
      "outputs": [
        {
          "output_type": "execute_result",
          "data": {
            "text/plain": [
              "red                   0.466667\n",
              "blue                  0.233333\n",
              "blue_white            0.170833\n",
              "white                 0.041667\n",
              "yellow_white          0.033333\n",
              "yellowish_white       0.012500\n",
              "yellowish             0.012500\n",
              "whitish               0.008333\n",
              "orange                0.008333\n",
              "pale_yellow_orange    0.004167\n",
              "white_yellow          0.004167\n",
              "orange_red            0.004167\n",
              "Name: star_color, dtype: float64"
            ]
          },
          "metadata": {},
          "execution_count": 48
        }
      ]
    },
    {
      "cell_type": "code",
      "source": [],
      "metadata": {
        "id": "zi5tikBhbg52"
      },
      "execution_count": 48,
      "outputs": []
    },
    {
      "cell_type": "markdown",
      "source": [
        "#### модель на синт данных"
      ],
      "metadata": {
        "id": "IMGugK_lc5Tl"
      }
    },
    {
      "cell_type": "markdown",
      "source": [
        "Оставим в исходном датасете только объекты train выборки, чтобы можно было верно интерпретировать итоговые предсказания."
      ],
      "metadata": {
        "id": "R6E76usBgoeE"
      }
    },
    {
      "cell_type": "code",
      "source": [
        "np.array(valid_index)"
      ],
      "metadata": {
        "colab": {
          "base_uri": "https://localhost:8080/"
        },
        "id": "7iDPIhOOi9-P",
        "outputId": "d16ec895-35d7-4a7f-94c9-b916b5d28d7a"
      },
      "execution_count": 49,
      "outputs": [
        {
          "output_type": "execute_result",
          "data": {
            "text/plain": [
              "array([176, 109,  15,  79,   9,  82, 233, 120, 192, 142, 115, 190, 224,\n",
              "        16, 204,  68, 165, 108, 126,  51,   5, 112,  73, 139, 208, 219,\n",
              "        25, 223, 136,  67,  65,  55, 153,   6, 207,  19,  93,  30,  35,\n",
              "        75,  12, 212, 127,  95, 111, 113, 161, 186])"
            ]
          },
          "metadata": {},
          "execution_count": 49
        }
      ]
    },
    {
      "cell_type": "code",
      "source": [
        "index_drop = np.concatenate([np.array(valid_index), np.array(test_index)])\n"
      ],
      "metadata": {
        "id": "dj1BYybmhBcO"
      },
      "execution_count": 50,
      "outputs": []
    },
    {
      "cell_type": "code",
      "source": [
        "data_train = data.drop(index = list(index_drop))"
      ],
      "metadata": {
        "id": "CGiQW8Epg0_2"
      },
      "execution_count": 51,
      "outputs": []
    },
    {
      "cell_type": "code",
      "source": [
        "train = pd.concat([synthetic_data,data_train],ignore_index=True)\n",
        "valid = valid"
      ],
      "metadata": {
        "id": "7KyyGTerAEKc"
      },
      "execution_count": 52,
      "outputs": []
    },
    {
      "cell_type": "code",
      "source": [
        "X_train = torch.Tensor(column_transformer.fit_transform(train[X]))\n",
        "X_valid = torch.Tensor(column_transformer.transform(valid[X]))\n",
        "\n",
        "y_train = torch.Tensor(train[y].values).reshape(-1, 1)\n",
        "y_valid = torch.Tensor(valid[y].values).reshape(-1, 1)\n",
        "\n",
        "print(X_train.size())\n",
        "print()\n",
        "print(X_valid.size())"
      ],
      "metadata": {
        "id": "WeshPZdofEVl",
        "colab": {
          "base_uri": "https://localhost:8080/"
        },
        "outputId": "f9165f46-e30b-4ce1-eef6-7bb90ff231ae"
      },
      "execution_count": 53,
      "outputs": [
        {
          "output_type": "stream",
          "name": "stdout",
          "text": [
            "torch.Size([386, 15])\n",
            "\n",
            "torch.Size([48, 15])\n"
          ]
        }
      ]
    },
    {
      "cell_type": "code",
      "source": [
        "input_neurons = X_train.shape[1]\n",
        "\n",
        "model = BaselineModel(input_neurons,\n",
        "                      hidden_neurons,\n",
        "                      output_neurons)\n",
        "\n",
        "optimizer = torch.optim.Adam(model.parameters(), lr=0.01)"
      ],
      "metadata": {
        "id": "fwfgKP924o6q"
      },
      "execution_count": 54,
      "outputs": []
    },
    {
      "cell_type": "code",
      "source": [
        "for epoch in range(num_epochs):\n",
        "\n",
        "    outputs = model(X_train)\n",
        "\n",
        "    # Вычисление потерь\n",
        "    loss_train = loss(outputs, y_train)\n",
        "\n",
        "    optimizer.zero_grad()\n",
        "    loss_train.backward()\n",
        "    optimizer.step()\n",
        "\n",
        "    if (epoch + 1) % 1000 == 0:\n",
        "        print(f'Epoch [{epoch + 1}/{num_epochs}], Loss: {loss_train.item()}')\n",
        "\n",
        "        model.eval()  # Перевести модель в режим оценки\n",
        "\n",
        "        with torch.no_grad():\n",
        "            valid_outputs = model(X_valid)\n",
        "            valid_loss = loss(valid_outputs, y_valid)\n",
        "\n",
        "        print(f'Valid Loss: {np.sqrt(valid_loss.item())}')"
      ],
      "metadata": {
        "id": "uDWsKnsXdMpz",
        "colab": {
          "base_uri": "https://localhost:8080/"
        },
        "outputId": "35d7ab9d-9f11-449b-e4c3-8ba42a879108"
      },
      "execution_count": 55,
      "outputs": [
        {
          "output_type": "stream",
          "name": "stdout",
          "text": [
            "Epoch [1000/10000], Loss: 19108718.0\n",
            "Valid Loss: 4618.3180921196845\n",
            "Epoch [2000/10000], Loss: 14413652.0\n",
            "Valid Loss: 4539.434546284372\n",
            "Epoch [3000/10000], Loss: 13060064.0\n",
            "Valid Loss: 4293.548648845149\n",
            "Epoch [4000/10000], Loss: 12375238.0\n",
            "Valid Loss: 4113.501428223892\n",
            "Epoch [5000/10000], Loss: 11966403.0\n",
            "Valid Loss: 4021.197209787155\n",
            "Epoch [6000/10000], Loss: 11569186.0\n",
            "Valid Loss: 4014.258711144562\n",
            "Epoch [7000/10000], Loss: 11387221.0\n",
            "Valid Loss: 4037.3828156368822\n",
            "Epoch [8000/10000], Loss: 11123082.0\n",
            "Valid Loss: 4114.688080523237\n",
            "Epoch [9000/10000], Loss: 10487222.0\n",
            "Valid Loss: 4230.082505105544\n",
            "Epoch [10000/10000], Loss: 10003344.0\n",
            "Valid Loss: 4222.854011210901\n"
          ]
        }
      ]
    },
    {
      "cell_type": "code",
      "source": [
        "rmse_synthetic = np.sqrt(valid_loss.item())\n",
        "result.append(['rmse_synthetic', rmse_synthetic])\n",
        "result"
      ],
      "metadata": {
        "id": "j5U2ajuRgUq9",
        "colab": {
          "base_uri": "https://localhost:8080/"
        },
        "outputId": "1f1abf96-d3d3-4b78-8005-fb85078996f3"
      },
      "execution_count": 56,
      "outputs": [
        {
          "output_type": "execute_result",
          "data": {
            "text/plain": [
              "[['rmse_baseline', 5117.505056177278],\n",
              " ['dropout_rmse', 4371.038549361009],\n",
              " ['batch_sizes_rmse', 5048.604361603313],\n",
              " ['rmse_synthetic', 4222.854011210901]]"
            ]
          },
          "metadata": {},
          "execution_count": 56
        }
      ]
    },
    {
      "cell_type": "code",
      "source": [
        "plot(y_valid, valid_outputs, 'Synthetic data')"
      ],
      "metadata": {
        "colab": {
          "base_uri": "https://localhost:8080/",
          "height": 476
        },
        "id": "oXnxyKalZJMK",
        "outputId": "7522cdfe-f99f-434d-de76-f0fc79fd8f33"
      },
      "execution_count": 57,
      "outputs": [
        {
          "output_type": "display_data",
          "data": {
            "text/plain": [
              "<Figure size 800x400 with 1 Axes>"
            ],
            "image/png": "[encoded data removed]"
          },
          "metadata": {}
        }
      ]
    },
    {
      "cell_type": "markdown",
      "source": [
        "### Аугментация данных на основе исходного датасета"
      ],
      "metadata": {
        "id": "7GAFQ4GQtHzr"
      }
    },
    {
      "cell_type": "code",
      "source": [
        "numerical"
      ],
      "metadata": {
        "id": "pPcrEYzQ73qU",
        "colab": {
          "base_uri": "https://localhost:8080/"
        },
        "outputId": "6969fa97-109b-4ff5-a3f4-a993690c29a9"
      },
      "execution_count": 58,
      "outputs": [
        {
          "output_type": "execute_result",
          "data": {
            "text/plain": [
              "['luminosity', 'radius', 'magnitude', 'star_type']"
            ]
          },
          "metadata": {},
          "execution_count": 58
        }
      ]
    },
    {
      "cell_type": "code",
      "source": [
        "data[numerical].std()"
      ],
      "metadata": {
        "colab": {
          "base_uri": "https://localhost:8080/"
        },
        "id": "StIT0t6glaWn",
        "outputId": "a8c2aae2-154f-40cf-a251-31437bcc862a"
      },
      "execution_count": 59,
      "outputs": [
        {
          "output_type": "execute_result",
          "data": {
            "text/plain": [
              "luminosity    179432.244940\n",
              "radius           517.155763\n",
              "magnitude         10.532512\n",
              "star_type          1.711394\n",
              "dtype: float64"
            ]
          },
          "metadata": {},
          "execution_count": 59
        }
      ]
    },
    {
      "cell_type": "code",
      "source": [
        "augmented_data = data.copy()\n",
        "\n",
        "# числовые признаки, к которым добавляем шум\n",
        "numeric_features = ['luminosity', 'radius', 'magnitude']\n",
        "\n",
        "# значения шума\n",
        "noise_mean = 0  # Среднее значение шума\n",
        "noise_std = 0.05  # Стандартное отклонение шума\n",
        "\n",
        "for numeric_feature in numeric_features:\n",
        "    random_noise = np.random.lognormal(noise_mean, noise_std, len(data))\n",
        "    augmented_data[numeric_feature] += random_noise\n",
        "\n",
        "    # контролируем разброс min max значений\n",
        "    augmented_data[numeric_feature] = np.clip(augmented_data[numeric_feature],\n",
        "                                              data[numeric_feature].min(),\n",
        "                                              data[numeric_feature].max())\n",
        "\n",
        "# Создайте новый DataFrame для аугментированных данных\n",
        "augmented_data.head()\n"
      ],
      "metadata": {
        "id": "vJDxmBOciOSL",
        "colab": {
          "base_uri": "https://localhost:8080/",
          "height": 206
        },
        "outputId": "a8a41610-98f2-413f-984c-246686a198ad"
      },
      "execution_count": 60,
      "outputs": [
        {
          "output_type": "execute_result",
          "data": {
            "text/plain": [
              "   temperature  luminosity    radius  magnitude  star_type star_color\n",
              "0         3068    1.062491  1.202978  17.001363          0        red\n",
              "1         3042    1.084931  1.086967  17.603203          0        red\n",
              "2         2600    0.924804  1.060947  19.681586          0        red\n",
              "3         2800    1.003905  1.186375  17.601595          0        red\n",
              "4         1939    0.974593  1.146264  20.060000          0        red"
            ],
            "text/html": [
              "\n",
              "  <div id=\"df-e2cd8982-5d06-40df-8fbf-266c63c89ebf\" class=\"colab-df-container\">\n",
              "    <div>\n",
              "<style scoped>\n",
              "    .dataframe tbody tr th:only-of-type {\n",
              "        vertical-align: middle;\n",
              "    }\n",
              "\n",
              "    .dataframe tbody tr th {\n",
              "        vertical-align: top;\n",
              "    }\n",
              "\n",
              "    .dataframe thead th {\n",
              "        text-align: right;\n",
              "    }\n",
              "</style>\n",
              "<table border=\"1\" class=\"dataframe\">\n",
              "  <thead>\n",
              "    <tr style=\"text-align: right;\">\n",
              "      <th></th>\n",
              "      <th>temperature</th>\n",
              "      <th>luminosity</th>\n",
              "      <th>radius</th>\n",
              "      <th>magnitude</th>\n",
              "      <th>star_type</th>\n",
              "      <th>star_color</th>\n",
              "    </tr>\n",
              "  </thead>\n",
              "  <tbody>\n",
              "    <tr>\n",
              "      <th>0</th>\n",
              "      <td>3068</td>\n",
              "      <td>1.062491</td>\n",
              "      <td>1.202978</td>\n",
              "      <td>17.001363</td>\n",
              "      <td>0</td>\n",
              "      <td>red</td>\n",
              "    </tr>\n",
              "    <tr>\n",
              "      <th>1</th>\n",
              "      <td>3042</td>\n",
              "      <td>1.084931</td>\n",
              "      <td>1.086967</td>\n",
              "      <td>17.603203</td>\n",
              "      <td>0</td>\n",
              "      <td>red</td>\n",
              "    </tr>\n",
              "    <tr>\n",
              "      <th>2</th>\n",
              "      <td>2600</td>\n",
              "      <td>0.924804</td>\n",
              "      <td>1.060947</td>\n",
              "      <td>19.681586</td>\n",
              "      <td>0</td>\n",
              "      <td>red</td>\n",
              "    </tr>\n",
              "    <tr>\n",
              "      <th>3</th>\n",
              "      <td>2800</td>\n",
              "      <td>1.003905</td>\n",
              "      <td>1.186375</td>\n",
              "      <td>17.601595</td>\n",
              "      <td>0</td>\n",
              "      <td>red</td>\n",
              "    </tr>\n",
              "    <tr>\n",
              "      <th>4</th>\n",
              "      <td>1939</td>\n",
              "      <td>0.974593</td>\n",
              "      <td>1.146264</td>\n",
              "      <td>20.060000</td>\n",
              "      <td>0</td>\n",
              "      <td>red</td>\n",
              "    </tr>\n",
              "  </tbody>\n",
              "</table>\n",
              "</div>\n",
              "    <div class=\"colab-df-buttons\">\n",
              "\n",
              "  <div class=\"colab-df-container\">\n",
              "    <button class=\"colab-df-convert\" onclick=\"convertToInteractive('df-e2cd8982-5d06-40df-8fbf-266c63c89ebf')\"\n",
              "            title=\"Convert this dataframe to an interactive table.\"\n",
              "            style=\"display:none;\">\n",
              "\n",
              "  <svg xmlns=\"http://www.w3.org/2000/svg\" height=\"24px\" viewBox=\"0 -960 960 960\">\n",
              "    <path d=\"M120-120v-720h720v720H120Zm60-500h600v-160H180v160Zm220 220h160v-160H400v160Zm0 220h160v-160H400v160ZM180-400h160v-160H180v160Zm440 0h160v-160H620v160ZM180-180h160v-160H180v160Zm440 0h160v-160H620v160Z\"/>\n",
              "  </svg>\n",
              "    </button>\n",
              "\n",
              "  <style>\n",
              "    .colab-df-container {\n",
              "      display:flex;\n",
              "      gap: 12px;\n",
              "    }\n",
              "\n",
              "    .colab-df-convert {\n",
              "      background-color: #E8F0FE;\n",
              "      border: none;\n",
              "      border-radius: 50%;\n",
              "      cursor: pointer;\n",
              "      display: none;\n",
              "      fill: #1967D2;\n",
              "      height: 32px;\n",
              "      padding: 0 0 0 0;\n",
              "      width: 32px;\n",
              "    }\n",
              "\n",
              "    .colab-df-convert:hover {\n",
              "      background-color: #E2EBFA;\n",
              "      box-shadow: 0px 1px 2px rgba(60, 64, 67, 0.3), 0px 1px 3px 1px rgba(60, 64, 67, 0.15);\n",
              "      fill: #174EA6;\n",
              "    }\n",
              "\n",
              "    .colab-df-buttons div {\n",
              "      margin-bottom: 4px;\n",
              "    }\n",
              "\n",
              "    [theme=dark] .colab-df-convert {\n",
              "      background-color: #3B4455;\n",
              "      fill: #D2E3FC;\n",
              "    }\n",
              "\n",
              "    [theme=dark] .colab-df-convert:hover {\n",
              "      background-color: #434B5C;\n",
              "      box-shadow: 0px 1px 3px 1px rgba(0, 0, 0, 0.15);\n",
              "      filter: drop-shadow(0px 1px 2px rgba(0, 0, 0, 0.3));\n",
              "      fill: #FFFFFF;\n",
              "    }\n",
              "  </style>\n",
              "\n",
              "    <script>\n",
              "      const buttonEl =\n",
              "        document.querySelector('#df-e2cd8982-5d06-40df-8fbf-266c63c89ebf button.colab-df-convert');\n",
              "      buttonEl.style.display =\n",
              "        google.colab.kernel.accessAllowed ? 'block' : 'none';\n",
              "\n",
              "      async function convertToInteractive(key) {\n",
              "        const element = document.querySelector('#df-e2cd8982-5d06-40df-8fbf-266c63c89ebf');\n",
              "        const dataTable =\n",
              "          await google.colab.kernel.invokeFunction('convertToInteractive',\n",
              "                                                    [key], {});\n",
              "        if (!dataTable) return;\n",
              "\n",
              "        const docLinkHtml = 'Like what you see? Visit the ' +\n",
              "          '<a target=\"_blank\" href=https://colab.research.google.com/notebooks/data_table.ipynb>data table notebook</a>'\n",
              "          + ' to learn more about interactive tables.';\n",
              "        element.innerHTML = '';\n",
              "        dataTable['output_type'] = 'display_data';\n",
              "        await google.colab.output.renderOutput(dataTable, element);\n",
              "        const docLink = document.createElement('div');\n",
              "        docLink.innerHTML = docLinkHtml;\n",
              "        element.appendChild(docLink);\n",
              "      }\n",
              "    </script>\n",
              "  </div>\n",
              "\n",
              "\n",
              "<div id=\"df-f1ad39dc-f8c5-4a77-a115-00a8e2f709e4\">\n",
              "  <button class=\"colab-df-quickchart\" onclick=\"quickchart('df-f1ad39dc-f8c5-4a77-a115-00a8e2f709e4')\"\n",
              "            title=\"Suggest charts.\"\n",
              "            style=\"display:none;\">\n",
              "\n",
              "<svg xmlns=\"http://www.w3.org/2000/svg\" height=\"24px\"viewBox=\"0 0 24 24\"\n",
              "     width=\"24px\">\n",
              "    <g>\n",
              "        <path d=\"M19 3H5c-1.1 0-2 .9-2 2v14c0 1.1.9 2 2 2h14c1.1 0 2-.9 2-2V5c0-1.1-.9-2-2-2zM9 17H7v-7h2v7zm4 0h-2V7h2v10zm4 0h-2v-4h2v4z\"/>\n",
              "    </g>\n",
              "</svg>\n",
              "  </button>\n",
              "\n",
              "<style>\n",
              "  .colab-df-quickchart {\n",
              "      --bg-color: #E8F0FE;\n",
              "      --fill-color: #1967D2;\n",
              "      --hover-bg-color: #E2EBFA;\n",
              "      --hover-fill-color: #174EA6;\n",
              "      --disabled-fill-color: #AAA;\n",
              "      --disabled-bg-color: #DDD;\n",
              "  }\n",
              "\n",
              "  [theme=dark] .colab-df-quickchart {\n",
              "      --bg-color: #3B4455;\n",
              "      --fill-color: #D2E3FC;\n",
              "      --hover-bg-color: #434B5C;\n",
              "      --hover-fill-color: #FFFFFF;\n",
              "      --disabled-bg-color: #3B4455;\n",
              "      --disabled-fill-color: #666;\n",
              "  }\n",
              "\n",
              "  .colab-df-quickchart {\n",
              "    background-color: var(--bg-color);\n",
              "    border: none;\n",
              "    border-radius: 50%;\n",
              "    cursor: pointer;\n",
              "    display: none;\n",
              "    fill: var(--fill-color);\n",
              "    height: 32px;\n",
              "    padding: 0;\n",
              "    width: 32px;\n",
              "  }\n",
              "\n",
              "  .colab-df-quickchart:hover {\n",
              "    background-color: var(--hover-bg-color);\n",
              "    box-shadow: 0 1px 2px rgba(60, 64, 67, 0.3), 0 1px 3px 1px rgba(60, 64, 67, 0.15);\n",
              "    fill: var(--button-hover-fill-color);\n",
              "  }\n",
              "\n",
              "  .colab-df-quickchart-complete:disabled,\n",
              "  .colab-df-quickchart-complete:disabled:hover {\n",
              "    background-color: var(--disabled-bg-color);\n",
              "    fill: var(--disabled-fill-color);\n",
              "    box-shadow: none;\n",
              "  }\n",
              "\n",
              "  .colab-df-spinner {\n",
              "    border: 2px solid var(--fill-color);\n",
              "    border-color: transparent;\n",
              "    border-bottom-color: var(--fill-color);\n",
              "    animation:\n",
              "      spin 1s steps(1) infinite;\n",
              "  }\n",
              "\n",
              "  @keyframes spin {\n",
              "    0% {\n",
              "      border-color: transparent;\n",
              "      border-bottom-color: var(--fill-color);\n",
              "      border-left-color: var(--fill-color);\n",
              "    }\n",
              "    20% {\n",
              "      border-color: transparent;\n",
              "      border-left-color: var(--fill-color);\n",
              "      border-top-color: var(--fill-color);\n",
              "    }\n",
              "    30% {\n",
              "      border-color: transparent;\n",
              "      border-left-color: var(--fill-color);\n",
              "      border-top-color: var(--fill-color);\n",
              "      border-right-color: var(--fill-color);\n",
              "    }\n",
              "    40% {\n",
              "      border-color: transparent;\n",
              "      border-right-color: var(--fill-color);\n",
              "      border-top-color: var(--fill-color);\n",
              "    }\n",
              "    60% {\n",
              "      border-color: transparent;\n",
              "      border-right-color: var(--fill-color);\n",
              "    }\n",
              "    80% {\n",
              "      border-color: transparent;\n",
              "      border-right-color: var(--fill-color);\n",
              "      border-bottom-color: var(--fill-color);\n",
              "    }\n",
              "    90% {\n",
              "      border-color: transparent;\n",
              "      border-bottom-color: var(--fill-color);\n",
              "    }\n",
              "  }\n",
              "</style>\n",
              "\n",
              "  <script>\n",
              "    async function quickchart(key) {\n",
              "      const quickchartButtonEl =\n",
              "        document.querySelector('#' + key + ' button');\n",
              "      quickchartButtonEl.disabled = true;  // To prevent multiple clicks.\n",
              "      quickchartButtonEl.classList.add('colab-df-spinner');\n",
              "      try {\n",
              "        const charts = await google.colab.kernel.invokeFunction(\n",
              "            'suggestCharts', [key], {});\n",
              "      } catch (error) {\n",
              "        console.error('Error during call to suggestCharts:', error);\n",
              "      }\n",
              "      quickchartButtonEl.classList.remove('colab-df-spinner');\n",
              "      quickchartButtonEl.classList.add('colab-df-quickchart-complete');\n",
              "    }\n",
              "    (() => {\n",
              "      let quickchartButtonEl =\n",
              "        document.querySelector('#df-f1ad39dc-f8c5-4a77-a115-00a8e2f709e4 button');\n",
              "      quickchartButtonEl.style.display =\n",
              "        google.colab.kernel.accessAllowed ? 'block' : 'none';\n",
              "    })();\n",
              "  </script>\n",
              "</div>\n",
              "    </div>\n",
              "  </div>\n"
            ]
          },
          "metadata": {},
          "execution_count": 60
        }
      ]
    },
    {
      "cell_type": "code",
      "source": [
        "augmented_data.describe()"
      ],
      "metadata": {
        "id": "Ge0t-okDhtvZ",
        "colab": {
          "base_uri": "https://localhost:8080/",
          "height": 300
        },
        "outputId": "801dacc5-8e19-4679-cf74-382faa7ebb3a"
      },
      "execution_count": 61,
      "outputs": [
        {
          "output_type": "execute_result",
          "data": {
            "text/plain": [
              "        temperature     luminosity       radius   magnitude   star_type\n",
              "count    240.000000     240.000000   240.000000  240.000000  240.000000\n",
              "mean   10497.462500  107189.360161   238.156477    5.360943    2.500000\n",
              "std     9552.425037  179432.228888   517.145030   10.509678    1.711394\n",
              "min     1939.000000       0.912176     0.905638  -11.028754    0.000000\n",
              "25%     3344.250000       1.003779     1.122814   -5.245722    1.000000\n",
              "50%     5776.000000       1.130483     1.783928    9.292616    2.500000\n",
              "75%    15055.500000  198051.055769    43.751928   14.736283    4.000000\n",
              "max    40000.000000  849420.000000  1948.500000   20.060000    5.000000"
            ],
            "text/html": [
              "\n",
              "  <div id=\"df-7b67b76e-71de-4751-8f3b-2f6981fe42e0\" class=\"colab-df-container\">\n",
              "    <div>\n",
              "<style scoped>\n",
              "    .dataframe tbody tr th:only-of-type {\n",
              "        vertical-align: middle;\n",
              "    }\n",
              "\n",
              "    .dataframe tbody tr th {\n",
              "        vertical-align: top;\n",
              "    }\n",
              "\n",
              "    .dataframe thead th {\n",
              "        text-align: right;\n",
              "    }\n",
              "</style>\n",
              "<table border=\"1\" class=\"dataframe\">\n",
              "  <thead>\n",
              "    <tr style=\"text-align: right;\">\n",
              "      <th></th>\n",
              "      <th>temperature</th>\n",
              "      <th>luminosity</th>\n",
              "      <th>radius</th>\n",
              "      <th>magnitude</th>\n",
              "      <th>star_type</th>\n",
              "    </tr>\n",
              "  </thead>\n",
              "  <tbody>\n",
              "    <tr>\n",
              "      <th>count</th>\n",
              "      <td>240.000000</td>\n",
              "      <td>240.000000</td>\n",
              "      <td>240.000000</td>\n",
              "      <td>240.000000</td>\n",
              "      <td>240.000000</td>\n",
              "    </tr>\n",
              "    <tr>\n",
              "      <th>mean</th>\n",
              "      <td>10497.462500</td>\n",
              "      <td>107189.360161</td>\n",
              "      <td>238.156477</td>\n",
              "      <td>5.360943</td>\n",
              "      <td>2.500000</td>\n",
              "    </tr>\n",
              "    <tr>\n",
              "      <th>std</th>\n",
              "      <td>9552.425037</td>\n",
              "      <td>179432.228888</td>\n",
              "      <td>517.145030</td>\n",
              "      <td>10.509678</td>\n",
              "      <td>1.711394</td>\n",
              "    </tr>\n",
              "    <tr>\n",
              "      <th>min</th>\n",
              "      <td>1939.000000</td>\n",
              "      <td>0.912176</td>\n",
              "      <td>0.905638</td>\n",
              "      <td>-11.028754</td>\n",
              "      <td>0.000000</td>\n",
              "    </tr>\n",
              "    <tr>\n",
              "      <th>25%</th>\n",
              "      <td>3344.250000</td>\n",
              "      <td>1.003779</td>\n",
              "      <td>1.122814</td>\n",
              "      <td>-5.245722</td>\n",
              "      <td>1.000000</td>\n",
              "    </tr>\n",
              "    <tr>\n",
              "      <th>50%</th>\n",
              "      <td>5776.000000</td>\n",
              "      <td>1.130483</td>\n",
              "      <td>1.783928</td>\n",
              "      <td>9.292616</td>\n",
              "      <td>2.500000</td>\n",
              "    </tr>\n",
              "    <tr>\n",
              "      <th>75%</th>\n",
              "      <td>15055.500000</td>\n",
              "      <td>198051.055769</td>\n",
              "      <td>43.751928</td>\n",
              "      <td>14.736283</td>\n",
              "      <td>4.000000</td>\n",
              "    </tr>\n",
              "    <tr>\n",
              "      <th>max</th>\n",
              "      <td>40000.000000</td>\n",
              "      <td>849420.000000</td>\n",
              "      <td>1948.500000</td>\n",
              "      <td>20.060000</td>\n",
              "      <td>5.000000</td>\n",
              "    </tr>\n",
              "  </tbody>\n",
              "</table>\n",
              "</div>\n",
              "    <div class=\"colab-df-buttons\">\n",
              "\n",
              "  <div class=\"colab-df-container\">\n",
              "    <button class=\"colab-df-convert\" onclick=\"convertToInteractive('df-7b67b76e-71de-4751-8f3b-2f6981fe42e0')\"\n",
              "            title=\"Convert this dataframe to an interactive table.\"\n",
              "            style=\"display:none;\">\n",
              "\n",
              "  <svg xmlns=\"http://www.w3.org/2000/svg\" height=\"24px\" viewBox=\"0 -960 960 960\">\n",
              "    <path d=\"M120-120v-720h720v720H120Zm60-500h600v-160H180v160Zm220 220h160v-160H400v160Zm0 220h160v-160H400v160ZM180-400h160v-160H180v160Zm440 0h160v-160H620v160ZM180-180h160v-160H180v160Zm440 0h160v-160H620v160Z\"/>\n",
              "  </svg>\n",
              "    </button>\n",
              "\n",
              "  <style>\n",
              "    .colab-df-container {\n",
              "      display:flex;\n",
              "      gap: 12px;\n",
              "    }\n",
              "\n",
              "    .colab-df-convert {\n",
              "      background-color: #E8F0FE;\n",
              "      border: none;\n",
              "      border-radius: 50%;\n",
              "      cursor: pointer;\n",
              "      display: none;\n",
              "      fill: #1967D2;\n",
              "      height: 32px;\n",
              "      padding: 0 0 0 0;\n",
              "      width: 32px;\n",
              "    }\n",
              "\n",
              "    .colab-df-convert:hover {\n",
              "      background-color: #E2EBFA;\n",
              "      box-shadow: 0px 1px 2px rgba(60, 64, 67, 0.3), 0px 1px 3px 1px rgba(60, 64, 67, 0.15);\n",
              "      fill: #174EA6;\n",
              "    }\n",
              "\n",
              "    .colab-df-buttons div {\n",
              "      margin-bottom: 4px;\n",
              "    }\n",
              "\n",
              "    [theme=dark] .colab-df-convert {\n",
              "      background-color: #3B4455;\n",
              "      fill: #D2E3FC;\n",
              "    }\n",
              "\n",
              "    [theme=dark] .colab-df-convert:hover {\n",
              "      background-color: #434B5C;\n",
              "      box-shadow: 0px 1px 3px 1px rgba(0, 0, 0, 0.15);\n",
              "      filter: drop-shadow(0px 1px 2px rgba(0, 0, 0, 0.3));\n",
              "      fill: #FFFFFF;\n",
              "    }\n",
              "  </style>\n",
              "\n",
              "    <script>\n",
              "      const buttonEl =\n",
              "        document.querySelector('#df-7b67b76e-71de-4751-8f3b-2f6981fe42e0 button.colab-df-convert');\n",
              "      buttonEl.style.display =\n",
              "        google.colab.kernel.accessAllowed ? 'block' : 'none';\n",
              "\n",
              "      async function convertToInteractive(key) {\n",
              "        const element = document.querySelector('#df-7b67b76e-71de-4751-8f3b-2f6981fe42e0');\n",
              "        const dataTable =\n",
              "          await google.colab.kernel.invokeFunction('convertToInteractive',\n",
              "                                                    [key], {});\n",
              "        if (!dataTable) return;\n",
              "\n",
              "        const docLinkHtml = 'Like what you see? Visit the ' +\n",
              "          '<a target=\"_blank\" href=https://colab.research.google.com/notebooks/data_table.ipynb>data table notebook</a>'\n",
              "          + ' to learn more about interactive tables.';\n",
              "        element.innerHTML = '';\n",
              "        dataTable['output_type'] = 'display_data';\n",
              "        await google.colab.output.renderOutput(dataTable, element);\n",
              "        const docLink = document.createElement('div');\n",
              "        docLink.innerHTML = docLinkHtml;\n",
              "        element.appendChild(docLink);\n",
              "      }\n",
              "    </script>\n",
              "  </div>\n",
              "\n",
              "\n",
              "<div id=\"df-65e2e597-68e6-4933-ad0f-46adce43fc8e\">\n",
              "  <button class=\"colab-df-quickchart\" onclick=\"quickchart('df-65e2e597-68e6-4933-ad0f-46adce43fc8e')\"\n",
              "            title=\"Suggest charts.\"\n",
              "            style=\"display:none;\">\n",
              "\n",
              "<svg xmlns=\"http://www.w3.org/2000/svg\" height=\"24px\"viewBox=\"0 0 24 24\"\n",
              "     width=\"24px\">\n",
              "    <g>\n",
              "        <path d=\"M19 3H5c-1.1 0-2 .9-2 2v14c0 1.1.9 2 2 2h14c1.1 0 2-.9 2-2V5c0-1.1-.9-2-2-2zM9 17H7v-7h2v7zm4 0h-2V7h2v10zm4 0h-2v-4h2v4z\"/>\n",
              "    </g>\n",
              "</svg>\n",
              "  </button>\n",
              "\n",
              "<style>\n",
              "  .colab-df-quickchart {\n",
              "      --bg-color: #E8F0FE;\n",
              "      --fill-color: #1967D2;\n",
              "      --hover-bg-color: #E2EBFA;\n",
              "      --hover-fill-color: #174EA6;\n",
              "      --disabled-fill-color: #AAA;\n",
              "      --disabled-bg-color: #DDD;\n",
              "  }\n",
              "\n",
              "  [theme=dark] .colab-df-quickchart {\n",
              "      --bg-color: #3B4455;\n",
              "      --fill-color: #D2E3FC;\n",
              "      --hover-bg-color: #434B5C;\n",
              "      --hover-fill-color: #FFFFFF;\n",
              "      --disabled-bg-color: #3B4455;\n",
              "      --disabled-fill-color: #666;\n",
              "  }\n",
              "\n",
              "  .colab-df-quickchart {\n",
              "    background-color: var(--bg-color);\n",
              "    border: none;\n",
              "    border-radius: 50%;\n",
              "    cursor: pointer;\n",
              "    display: none;\n",
              "    fill: var(--fill-color);\n",
              "    height: 32px;\n",
              "    padding: 0;\n",
              "    width: 32px;\n",
              "  }\n",
              "\n",
              "  .colab-df-quickchart:hover {\n",
              "    background-color: var(--hover-bg-color);\n",
              "    box-shadow: 0 1px 2px rgba(60, 64, 67, 0.3), 0 1px 3px 1px rgba(60, 64, 67, 0.15);\n",
              "    fill: var(--button-hover-fill-color);\n",
              "  }\n",
              "\n",
              "  .colab-df-quickchart-complete:disabled,\n",
              "  .colab-df-quickchart-complete:disabled:hover {\n",
              "    background-color: var(--disabled-bg-color);\n",
              "    fill: var(--disabled-fill-color);\n",
              "    box-shadow: none;\n",
              "  }\n",
              "\n",
              "  .colab-df-spinner {\n",
              "    border: 2px solid var(--fill-color);\n",
              "    border-color: transparent;\n",
              "    border-bottom-color: var(--fill-color);\n",
              "    animation:\n",
              "      spin 1s steps(1) infinite;\n",
              "  }\n",
              "\n",
              "  @keyframes spin {\n",
              "    0% {\n",
              "      border-color: transparent;\n",
              "      border-bottom-color: var(--fill-color);\n",
              "      border-left-color: var(--fill-color);\n",
              "    }\n",
              "    20% {\n",
              "      border-color: transparent;\n",
              "      border-left-color: var(--fill-color);\n",
              "      border-top-color: var(--fill-color);\n",
              "    }\n",
              "    30% {\n",
              "      border-color: transparent;\n",
              "      border-left-color: var(--fill-color);\n",
              "      border-top-color: var(--fill-color);\n",
              "      border-right-color: var(--fill-color);\n",
              "    }\n",
              "    40% {\n",
              "      border-color: transparent;\n",
              "      border-right-color: var(--fill-color);\n",
              "      border-top-color: var(--fill-color);\n",
              "    }\n",
              "    60% {\n",
              "      border-color: transparent;\n",
              "      border-right-color: var(--fill-color);\n",
              "    }\n",
              "    80% {\n",
              "      border-color: transparent;\n",
              "      border-right-color: var(--fill-color);\n",
              "      border-bottom-color: var(--fill-color);\n",
              "    }\n",
              "    90% {\n",
              "      border-color: transparent;\n",
              "      border-bottom-color: var(--fill-color);\n",
              "    }\n",
              "  }\n",
              "</style>\n",
              "\n",
              "  <script>\n",
              "    async function quickchart(key) {\n",
              "      const quickchartButtonEl =\n",
              "        document.querySelector('#' + key + ' button');\n",
              "      quickchartButtonEl.disabled = true;  // To prevent multiple clicks.\n",
              "      quickchartButtonEl.classList.add('colab-df-spinner');\n",
              "      try {\n",
              "        const charts = await google.colab.kernel.invokeFunction(\n",
              "            'suggestCharts', [key], {});\n",
              "      } catch (error) {\n",
              "        console.error('Error during call to suggestCharts:', error);\n",
              "      }\n",
              "      quickchartButtonEl.classList.remove('colab-df-spinner');\n",
              "      quickchartButtonEl.classList.add('colab-df-quickchart-complete');\n",
              "    }\n",
              "    (() => {\n",
              "      let quickchartButtonEl =\n",
              "        document.querySelector('#df-65e2e597-68e6-4933-ad0f-46adce43fc8e button');\n",
              "      quickchartButtonEl.style.display =\n",
              "        google.colab.kernel.accessAllowed ? 'block' : 'none';\n",
              "    })();\n",
              "  </script>\n",
              "</div>\n",
              "    </div>\n",
              "  </div>\n"
            ]
          },
          "metadata": {},
          "execution_count": 61
        }
      ]
    },
    {
      "cell_type": "code",
      "source": [
        "data.describe()"
      ],
      "metadata": {
        "id": "U8QDQ7qJhxO4",
        "colab": {
          "base_uri": "https://localhost:8080/",
          "height": 300
        },
        "outputId": "e5e61c83-b9f7-471c-c8f0-36149ee21476"
      },
      "execution_count": 62,
      "outputs": [
        {
          "output_type": "execute_result",
          "data": {
            "text/plain": [
              "        temperature     luminosity       radius   magnitude   star_type\n",
              "count    240.000000     240.000000   240.000000  240.000000  240.000000\n",
              "mean   10497.462500  107188.361635   237.157781    4.382396    2.500000\n",
              "std     9552.425037  179432.244940   517.155763   10.532512    1.711394\n",
              "min     1939.000000       0.000080     0.008400  -11.920000    0.000000\n",
              "25%     3344.250000       0.000865     0.102750   -6.232500    1.000000\n",
              "50%     5776.000000       0.070500     0.762500    8.313000    2.500000\n",
              "75%    15055.500000  198050.000000    42.750000   13.697500    4.000000\n",
              "max    40000.000000  849420.000000  1948.500000   20.060000    5.000000"
            ],
            "text/html": [
              "\n",
              "  <div id=\"df-c10252de-f9f7-45bf-a78f-4f32439f9211\" class=\"colab-df-container\">\n",
              "    <div>\n",
              "<style scoped>\n",
              "    .dataframe tbody tr th:only-of-type {\n",
              "        vertical-align: middle;\n",
              "    }\n",
              "\n",
              "    .dataframe tbody tr th {\n",
              "        vertical-align: top;\n",
              "    }\n",
              "\n",
              "    .dataframe thead th {\n",
              "        text-align: right;\n",
              "    }\n",
              "</style>\n",
              "<table border=\"1\" class=\"dataframe\">\n",
              "  <thead>\n",
              "    <tr style=\"text-align: right;\">\n",
              "      <th></th>\n",
              "      <th>temperature</th>\n",
              "      <th>luminosity</th>\n",
              "      <th>radius</th>\n",
              "      <th>magnitude</th>\n",
              "      <th>star_type</th>\n",
              "    </tr>\n",
              "  </thead>\n",
              "  <tbody>\n",
              "    <tr>\n",
              "      <th>count</th>\n",
              "      <td>240.000000</td>\n",
              "      <td>240.000000</td>\n",
              "      <td>240.000000</td>\n",
              "      <td>240.000000</td>\n",
              "      <td>240.000000</td>\n",
              "    </tr>\n",
              "    <tr>\n",
              "      <th>mean</th>\n",
              "      <td>10497.462500</td>\n",
              "      <td>107188.361635</td>\n",
              "      <td>237.157781</td>\n",
              "      <td>4.382396</td>\n",
              "      <td>2.500000</td>\n",
              "    </tr>\n",
              "    <tr>\n",
              "      <th>std</th>\n",
              "      <td>9552.425037</td>\n",
              "      <td>179432.244940</td>\n",
              "      <td>517.155763</td>\n",
              "      <td>10.532512</td>\n",
              "      <td>1.711394</td>\n",
              "    </tr>\n",
              "    <tr>\n",
              "      <th>min</th>\n",
              "      <td>1939.000000</td>\n",
              "      <td>0.000080</td>\n",
              "      <td>0.008400</td>\n",
              "      <td>-11.920000</td>\n",
              "      <td>0.000000</td>\n",
              "    </tr>\n",
              "    <tr>\n",
              "      <th>25%</th>\n",
              "      <td>3344.250000</td>\n",
              "      <td>0.000865</td>\n",
              "      <td>0.102750</td>\n",
              "      <td>-6.232500</td>\n",
              "      <td>1.000000</td>\n",
              "    </tr>\n",
              "    <tr>\n",
              "      <th>50%</th>\n",
              "      <td>5776.000000</td>\n",
              "      <td>0.070500</td>\n",
              "      <td>0.762500</td>\n",
              "      <td>8.313000</td>\n",
              "      <td>2.500000</td>\n",
              "    </tr>\n",
              "    <tr>\n",
              "      <th>75%</th>\n",
              "      <td>15055.500000</td>\n",
              "      <td>198050.000000</td>\n",
              "      <td>42.750000</td>\n",
              "      <td>13.697500</td>\n",
              "      <td>4.000000</td>\n",
              "    </tr>\n",
              "    <tr>\n",
              "      <th>max</th>\n",
              "      <td>40000.000000</td>\n",
              "      <td>849420.000000</td>\n",
              "      <td>1948.500000</td>\n",
              "      <td>20.060000</td>\n",
              "      <td>5.000000</td>\n",
              "    </tr>\n",
              "  </tbody>\n",
              "</table>\n",
              "</div>\n",
              "    <div class=\"colab-df-buttons\">\n",
              "\n",
              "  <div class=\"colab-df-container\">\n",
              "    <button class=\"colab-df-convert\" onclick=\"convertToInteractive('df-c10252de-f9f7-45bf-a78f-4f32439f9211')\"\n",
              "            title=\"Convert this dataframe to an interactive table.\"\n",
              "            style=\"display:none;\">\n",
              "\n",
              "  <svg xmlns=\"http://www.w3.org/2000/svg\" height=\"24px\" viewBox=\"0 -960 960 960\">\n",
              "    <path d=\"M120-120v-720h720v720H120Zm60-500h600v-160H180v160Zm220 220h160v-160H400v160Zm0 220h160v-160H400v160ZM180-400h160v-160H180v160Zm440 0h160v-160H620v160ZM180-180h160v-160H180v160Zm440 0h160v-160H620v160Z\"/>\n",
              "  </svg>\n",
              "    </button>\n",
              "\n",
              "  <style>\n",
              "    .colab-df-container {\n",
              "      display:flex;\n",
              "      gap: 12px;\n",
              "    }\n",
              "\n",
              "    .colab-df-convert {\n",
              "      background-color: #E8F0FE;\n",
              "      border: none;\n",
              "      border-radius: 50%;\n",
              "      cursor: pointer;\n",
              "      display: none;\n",
              "      fill: #1967D2;\n",
              "      height: 32px;\n",
              "      padding: 0 0 0 0;\n",
              "      width: 32px;\n",
              "    }\n",
              "\n",
              "    .colab-df-convert:hover {\n",
              "      background-color: #E2EBFA;\n",
              "      box-shadow: 0px 1px 2px rgba(60, 64, 67, 0.3), 0px 1px 3px 1px rgba(60, 64, 67, 0.15);\n",
              "      fill: #174EA6;\n",
              "    }\n",
              "\n",
              "    .colab-df-buttons div {\n",
              "      margin-bottom: 4px;\n",
              "    }\n",
              "\n",
              "    [theme=dark] .colab-df-convert {\n",
              "      background-color: #3B4455;\n",
              "      fill: #D2E3FC;\n",
              "    }\n",
              "\n",
              "    [theme=dark] .colab-df-convert:hover {\n",
              "      background-color: #434B5C;\n",
              "      box-shadow: 0px 1px 3px 1px rgba(0, 0, 0, 0.15);\n",
              "      filter: drop-shadow(0px 1px 2px rgba(0, 0, 0, 0.3));\n",
              "      fill: #FFFFFF;\n",
              "    }\n",
              "  </style>\n",
              "\n",
              "    <script>\n",
              "      const buttonEl =\n",
              "        document.querySelector('#df-c10252de-f9f7-45bf-a78f-4f32439f9211 button.colab-df-convert');\n",
              "      buttonEl.style.display =\n",
              "        google.colab.kernel.accessAllowed ? 'block' : 'none';\n",
              "\n",
              "      async function convertToInteractive(key) {\n",
              "        const element = document.querySelector('#df-c10252de-f9f7-45bf-a78f-4f32439f9211');\n",
              "        const dataTable =\n",
              "          await google.colab.kernel.invokeFunction('convertToInteractive',\n",
              "                                                    [key], {});\n",
              "        if (!dataTable) return;\n",
              "\n",
              "        const docLinkHtml = 'Like what you see? Visit the ' +\n",
              "          '<a target=\"_blank\" href=https://colab.research.google.com/notebooks/data_table.ipynb>data table notebook</a>'\n",
              "          + ' to learn more about interactive tables.';\n",
              "        element.innerHTML = '';\n",
              "        dataTable['output_type'] = 'display_data';\n",
              "        await google.colab.output.renderOutput(dataTable, element);\n",
              "        const docLink = document.createElement('div');\n",
              "        docLink.innerHTML = docLinkHtml;\n",
              "        element.appendChild(docLink);\n",
              "      }\n",
              "    </script>\n",
              "  </div>\n",
              "\n",
              "\n",
              "<div id=\"df-59cbb6aa-bf60-46a6-9ce2-5089d1b8f578\">\n",
              "  <button class=\"colab-df-quickchart\" onclick=\"quickchart('df-59cbb6aa-bf60-46a6-9ce2-5089d1b8f578')\"\n",
              "            title=\"Suggest charts.\"\n",
              "            style=\"display:none;\">\n",
              "\n",
              "<svg xmlns=\"http://www.w3.org/2000/svg\" height=\"24px\"viewBox=\"0 0 24 24\"\n",
              "     width=\"24px\">\n",
              "    <g>\n",
              "        <path d=\"M19 3H5c-1.1 0-2 .9-2 2v14c0 1.1.9 2 2 2h14c1.1 0 2-.9 2-2V5c0-1.1-.9-2-2-2zM9 17H7v-7h2v7zm4 0h-2V7h2v10zm4 0h-2v-4h2v4z\"/>\n",
              "    </g>\n",
              "</svg>\n",
              "  </button>\n",
              "\n",
              "<style>\n",
              "  .colab-df-quickchart {\n",
              "      --bg-color: #E8F0FE;\n",
              "      --fill-color: #1967D2;\n",
              "      --hover-bg-color: #E2EBFA;\n",
              "      --hover-fill-color: #174EA6;\n",
              "      --disabled-fill-color: #AAA;\n",
              "      --disabled-bg-color: #DDD;\n",
              "  }\n",
              "\n",
              "  [theme=dark] .colab-df-quickchart {\n",
              "      --bg-color: #3B4455;\n",
              "      --fill-color: #D2E3FC;\n",
              "      --hover-bg-color: #434B5C;\n",
              "      --hover-fill-color: #FFFFFF;\n",
              "      --disabled-bg-color: #3B4455;\n",
              "      --disabled-fill-color: #666;\n",
              "  }\n",
              "\n",
              "  .colab-df-quickchart {\n",
              "    background-color: var(--bg-color);\n",
              "    border: none;\n",
              "    border-radius: 50%;\n",
              "    cursor: pointer;\n",
              "    display: none;\n",
              "    fill: var(--fill-color);\n",
              "    height: 32px;\n",
              "    padding: 0;\n",
              "    width: 32px;\n",
              "  }\n",
              "\n",
              "  .colab-df-quickchart:hover {\n",
              "    background-color: var(--hover-bg-color);\n",
              "    box-shadow: 0 1px 2px rgba(60, 64, 67, 0.3), 0 1px 3px 1px rgba(60, 64, 67, 0.15);\n",
              "    fill: var(--button-hover-fill-color);\n",
              "  }\n",
              "\n",
              "  .colab-df-quickchart-complete:disabled,\n",
              "  .colab-df-quickchart-complete:disabled:hover {\n",
              "    background-color: var(--disabled-bg-color);\n",
              "    fill: var(--disabled-fill-color);\n",
              "    box-shadow: none;\n",
              "  }\n",
              "\n",
              "  .colab-df-spinner {\n",
              "    border: 2px solid var(--fill-color);\n",
              "    border-color: transparent;\n",
              "    border-bottom-color: var(--fill-color);\n",
              "    animation:\n",
              "      spin 1s steps(1) infinite;\n",
              "  }\n",
              "\n",
              "  @keyframes spin {\n",
              "    0% {\n",
              "      border-color: transparent;\n",
              "      border-bottom-color: var(--fill-color);\n",
              "      border-left-color: var(--fill-color);\n",
              "    }\n",
              "    20% {\n",
              "      border-color: transparent;\n",
              "      border-left-color: var(--fill-color);\n",
              "      border-top-color: var(--fill-color);\n",
              "    }\n",
              "    30% {\n",
              "      border-color: transparent;\n",
              "      border-left-color: var(--fill-color);\n",
              "      border-top-color: var(--fill-color);\n",
              "      border-right-color: var(--fill-color);\n",
              "    }\n",
              "    40% {\n",
              "      border-color: transparent;\n",
              "      border-right-color: var(--fill-color);\n",
              "      border-top-color: var(--fill-color);\n",
              "    }\n",
              "    60% {\n",
              "      border-color: transparent;\n",
              "      border-right-color: var(--fill-color);\n",
              "    }\n",
              "    80% {\n",
              "      border-color: transparent;\n",
              "      border-right-color: var(--fill-color);\n",
              "      border-bottom-color: var(--fill-color);\n",
              "    }\n",
              "    90% {\n",
              "      border-color: transparent;\n",
              "      border-bottom-color: var(--fill-color);\n",
              "    }\n",
              "  }\n",
              "</style>\n",
              "\n",
              "  <script>\n",
              "    async function quickchart(key) {\n",
              "      const quickchartButtonEl =\n",
              "        document.querySelector('#' + key + ' button');\n",
              "      quickchartButtonEl.disabled = true;  // To prevent multiple clicks.\n",
              "      quickchartButtonEl.classList.add('colab-df-spinner');\n",
              "      try {\n",
              "        const charts = await google.colab.kernel.invokeFunction(\n",
              "            'suggestCharts', [key], {});\n",
              "      } catch (error) {\n",
              "        console.error('Error during call to suggestCharts:', error);\n",
              "      }\n",
              "      quickchartButtonEl.classList.remove('colab-df-spinner');\n",
              "      quickchartButtonEl.classList.add('colab-df-quickchart-complete');\n",
              "    }\n",
              "    (() => {\n",
              "      let quickchartButtonEl =\n",
              "        document.querySelector('#df-59cbb6aa-bf60-46a6-9ce2-5089d1b8f578 button');\n",
              "      quickchartButtonEl.style.display =\n",
              "        google.colab.kernel.accessAllowed ? 'block' : 'none';\n",
              "    })();\n",
              "  </script>\n",
              "</div>\n",
              "    </div>\n",
              "  </div>\n"
            ]
          },
          "metadata": {},
          "execution_count": 62
        }
      ]
    },
    {
      "cell_type": "markdown",
      "source": [
        "####модель на аугментированном датасете с шумом"
      ],
      "metadata": {
        "id": "CIi6lxLkx8Dp"
      }
    },
    {
      "cell_type": "code",
      "source": [
        "train = pd.concat([augmented_data, data_train], ignore_index=True)\n",
        "valid = valid"
      ],
      "metadata": {
        "id": "ngo7kRTGNCjA"
      },
      "execution_count": 63,
      "outputs": []
    },
    {
      "cell_type": "code",
      "source": [
        "X_train = torch.Tensor(column_transformer.fit_transform(train[X]))\n",
        "X_valid = torch.Tensor(column_transformer.transform(valid[X]))\n",
        "\n",
        "y_train = torch.Tensor(train[y].values).reshape(-1, 1)\n",
        "y_valid = torch.Tensor(valid[y].values).reshape(-1, 1)\n",
        "\n",
        "\n",
        "print(X_train.size())\n",
        "print()\n",
        "print(X_valid.size())\n",
        "print()\n"
      ],
      "metadata": {
        "id": "pOmCZ0mEwaig",
        "colab": {
          "base_uri": "https://localhost:8080/"
        },
        "outputId": "614bcee9-ee24-4641-d30d-bb5305bf122e"
      },
      "execution_count": 64,
      "outputs": [
        {
          "output_type": "stream",
          "name": "stdout",
          "text": [
            "torch.Size([384, 16])\n",
            "\n",
            "torch.Size([48, 16])\n",
            "\n"
          ]
        }
      ]
    },
    {
      "cell_type": "code",
      "source": [
        "input_neurons = X_train.shape[1]\n",
        "\n",
        "\n",
        "model = BaselineModel(input_neurons,\n",
        "                        hidden_neurons,\n",
        "                        output_neurons)"
      ],
      "metadata": {
        "id": "itASJv6X4sE1"
      },
      "execution_count": 65,
      "outputs": []
    },
    {
      "cell_type": "code",
      "source": [
        "for epoch in range(num_epochs):\n",
        "\n",
        "    outputs = model(X_train)\n",
        "\n",
        "    # Вычисление потерь\n",
        "    loss_train = loss(outputs, y_train)\n",
        "\n",
        "    optimizer.zero_grad()\n",
        "    loss_train.backward()\n",
        "    optimizer.step()\n",
        "\n",
        "    if (epoch + 1) % 1000 == 0:\n",
        "        print(f'Epoch [{epoch + 1}/{num_epochs}], Loss: {loss_train.item()}')\n",
        "\n",
        "        model.eval()  # Перевести модель в режим оценки\n",
        "        with torch.no_grad():\n",
        "            valid_outputs = model(X_valid)\n",
        "            valid_loss = loss(valid_outputs, y_valid)\n",
        "\n",
        "print(f'Valid Loss: {np.sqrt(valid_loss.item())}')"
      ],
      "metadata": {
        "id": "ZaFPC7IQwk8i",
        "colab": {
          "base_uri": "https://localhost:8080/"
        },
        "outputId": "1ea466e4-6968-4ab8-b765-73e41e78b4ed"
      },
      "execution_count": 66,
      "outputs": [
        {
          "output_type": "stream",
          "name": "stdout",
          "text": [
            "Epoch [1000/10000], Loss: 199149632.0\n",
            "Epoch [2000/10000], Loss: 199149632.0\n",
            "Epoch [3000/10000], Loss: 199149632.0\n",
            "Epoch [4000/10000], Loss: 199149632.0\n",
            "Epoch [5000/10000], Loss: 199149632.0\n",
            "Epoch [6000/10000], Loss: 199149632.0\n",
            "Epoch [7000/10000], Loss: 199149632.0\n",
            "Epoch [8000/10000], Loss: 199149632.0\n",
            "Epoch [9000/10000], Loss: 199149632.0\n",
            "Epoch [10000/10000], Loss: 199149632.0\n",
            "Valid Loss: 13002.749863009747\n"
          ]
        }
      ]
    },
    {
      "cell_type": "code",
      "source": [
        "rmse_augmented = np.sqrt(valid_loss.item())\n",
        "result.append(['rmse_augmented', rmse_augmented])\n",
        "result"
      ],
      "metadata": {
        "id": "h8bDMGHBwqp9",
        "colab": {
          "base_uri": "https://localhost:8080/"
        },
        "outputId": "8aeb5668-6dd4-4e3d-b186-09642e6ef12d"
      },
      "execution_count": 67,
      "outputs": [
        {
          "output_type": "execute_result",
          "data": {
            "text/plain": [
              "[['rmse_baseline', 5117.505056177278],\n",
              " ['dropout_rmse', 4371.038549361009],\n",
              " ['batch_sizes_rmse', 5048.604361603313],\n",
              " ['rmse_synthetic', 4222.854011210901],\n",
              " ['rmse_augmented', 13002.749863009747]]"
            ]
          },
          "metadata": {},
          "execution_count": 67
        }
      ]
    },
    {
      "cell_type": "code",
      "source": [
        "plot(y_valid, valid_outputs, 'Augmented data')"
      ],
      "metadata": {
        "colab": {
          "base_uri": "https://localhost:8080/",
          "height": 476
        },
        "id": "Dff_3GZklmPn",
        "outputId": "6943239b-5511-471a-ec17-ff657cd326e5"
      },
      "execution_count": 68,
      "outputs": [
        {
          "output_type": "display_data",
          "data": {
            "text/plain": [
              "<Figure size 800x400 with 1 Axes>"
            ],
            "image/png": "[encoded data removed]"
          },
          "metadata": {}
        }
      ]
    },
    {
      "cell_type": "markdown",
      "source": [
        "Судя по результату, я неправильно добавили шум, и модель начала сильно занижать результаты предсказаний"
      ],
      "metadata": {
        "id": "m8ijqjRglDOL"
      }
    },
    {
      "cell_type": "code",
      "source": [],
      "metadata": {
        "id": "iEJ4vW5zlCsn"
      },
      "execution_count": 68,
      "outputs": []
    },
    {
      "cell_type": "markdown",
      "source": [
        "#### Модель на 3-x датасетах"
      ],
      "metadata": {
        "id": "Z2A0o_1LzZYr"
      }
    },
    {
      "cell_type": "code",
      "source": [
        "data_concat = pd.concat([augmented_data,\n",
        "                          synthetic_data,\n",
        "                          data_train],\n",
        "                         ignore_index = True)"
      ],
      "metadata": {
        "id": "sYo92dgWwt8r"
      },
      "execution_count": 69,
      "outputs": []
    },
    {
      "cell_type": "code",
      "source": [
        "train = data_concat\n",
        "valid = valid"
      ],
      "metadata": {
        "id": "bKHCZ9zzQiiC"
      },
      "execution_count": 70,
      "outputs": []
    },
    {
      "cell_type": "code",
      "source": [
        "print('Размер обучающей выборки',train.shape)\n",
        "print ()\n",
        "print('Размер валидационной выборки', valid.shape)"
      ],
      "metadata": {
        "id": "PTlgCcyxyxMU",
        "colab": {
          "base_uri": "https://localhost:8080/"
        },
        "outputId": "8444af83-c033-4071-8745-3a150f1e23c0"
      },
      "execution_count": 71,
      "outputs": [
        {
          "output_type": "stream",
          "name": "stdout",
          "text": [
            "Размер обучающей выборки (626, 6)\n",
            "\n",
            "Размер валидационной выборки (48, 6)\n"
          ]
        }
      ]
    },
    {
      "cell_type": "code",
      "source": [
        "X_train = torch.Tensor(column_transformer.fit_transform(train[X]).toarray())\n",
        "X_valid = torch.Tensor(column_transformer.transform(valid[X]).toarray())\n",
        "\n",
        "y_train = torch.Tensor(train[y].values).reshape(-1, 1)\n",
        "y_valid = torch.Tensor(valid[y].values).reshape(-1, 1)\n",
        "\n",
        "print(X_train.size())\n",
        "print()\n",
        "print(X_valid.size())\n"
      ],
      "metadata": {
        "id": "Kzd6B_cbzfx1",
        "colab": {
          "base_uri": "https://localhost:8080/"
        },
        "outputId": "edd1df4a-09e6-4172-c084-ae2f61190b4d"
      },
      "execution_count": 72,
      "outputs": [
        {
          "output_type": "stream",
          "name": "stdout",
          "text": [
            "torch.Size([626, 17])\n",
            "\n",
            "torch.Size([48, 17])\n"
          ]
        }
      ]
    },
    {
      "cell_type": "code",
      "source": [
        "input_neurons = X_train.shape[1]\n",
        "\n",
        "model = BaselineModel(input_neurons,\n",
        "                        hidden_neurons,\n",
        "                        output_neurons)\n",
        "\n",
        "optimizer = torch.optim.Adam(model.parameters(), lr=0.01)"
      ],
      "metadata": {
        "id": "jdHhT4uh0byj"
      },
      "execution_count": 73,
      "outputs": []
    },
    {
      "cell_type": "code",
      "source": [
        "for epoch in range(num_epochs):\n",
        "\n",
        "    outputs = model(X_train)\n",
        "\n",
        "    # Вычисление потерь\n",
        "    loss_train = loss(outputs, y_train)\n",
        "\n",
        "    optimizer.zero_grad()\n",
        "    loss_train.backward()\n",
        "    optimizer.step()\n",
        "\n",
        "    if (epoch + 1) % 1000 == 0:\n",
        "        print(f'Epoch [{epoch + 1}/{num_epochs}], Loss: {loss_train.item()}')\n",
        "\n",
        "        model.eval()  # Перевести модель в режим оценки\n",
        "\n",
        "        with torch.no_grad():\n",
        "            valid_outputs = model(X_valid)\n",
        "            valid_loss = loss(valid_outputs, y_valid)\n",
        "\n",
        "print(f'Valid Loss: {np.sqrt(valid_loss.item())}')"
      ],
      "metadata": {
        "id": "sG9X-6YZzoVA",
        "colab": {
          "base_uri": "https://localhost:8080/"
        },
        "outputId": "f8d34941-a32e-441e-a3a7-fddcb07d8d44"
      },
      "execution_count": 74,
      "outputs": [
        {
          "output_type": "stream",
          "name": "stdout",
          "text": [
            "Epoch [1000/10000], Loss: 22667106.0\n",
            "Epoch [2000/10000], Loss: 18416490.0\n",
            "Epoch [3000/10000], Loss: 16428492.0\n",
            "Epoch [4000/10000], Loss: 15405372.0\n",
            "Epoch [5000/10000], Loss: 14954995.0\n",
            "Epoch [6000/10000], Loss: 14604056.0\n",
            "Epoch [7000/10000], Loss: 14086628.0\n",
            "Epoch [8000/10000], Loss: 13384158.0\n",
            "Epoch [9000/10000], Loss: 12640734.0\n",
            "Epoch [10000/10000], Loss: 11696115.0\n",
            "Valid Loss: 3968.0841724943284\n"
          ]
        }
      ]
    },
    {
      "cell_type": "code",
      "source": [
        "rmse_concat_3df = np.sqrt(valid_loss.item())\n",
        "result.append(['rmse_concat_3df', rmse_concat_3df])\n",
        "result"
      ],
      "metadata": {
        "id": "EqxtoGwRzsEK",
        "colab": {
          "base_uri": "https://localhost:8080/"
        },
        "outputId": "b21d076f-93fe-4fbc-e543-fd9048d5928b"
      },
      "execution_count": 75,
      "outputs": [
        {
          "output_type": "execute_result",
          "data": {
            "text/plain": [
              "[['rmse_baseline', 5117.505056177278],\n",
              " ['dropout_rmse', 4371.038549361009],\n",
              " ['batch_sizes_rmse', 5048.604361603313],\n",
              " ['rmse_synthetic', 4222.854011210901],\n",
              " ['rmse_augmented', 13002.749863009747],\n",
              " ['rmse_concat_3df', 3968.0841724943284]]"
            ]
          },
          "metadata": {},
          "execution_count": 75
        }
      ]
    },
    {
      "cell_type": "code",
      "source": [
        "plot(y_valid, valid_outputs, 'RMSE on synthetic+augmented')"
      ],
      "metadata": {
        "colab": {
          "base_uri": "https://localhost:8080/",
          "height": 476
        },
        "id": "xSh4N9Q4psbU",
        "outputId": "fa3cc0c0-0798-4e19-e1b3-3e6edc4efb00"
      },
      "execution_count": 76,
      "outputs": [
        {
          "output_type": "display_data",
          "data": {
            "text/plain": [
              "<Figure size 800x400 with 1 Axes>"
            ],
            "image/png": "[encoded data removed]"
          },
          "metadata": {}
        }
      ]
    },
    {
      "cell_type": "markdown",
      "source": [
        "Получились очень интересные наблюдения:\n",
        "\n",
        "- несмотря на то, что модель на данных с шумом дала сильно хуже результат, на данных созданных из трез датасетов (синтетический, исходный и с шумом) мы получили наилучшую метрику из всех.\n",
        "\n",
        "Таким образом:\n",
        "-  мы собрали датасет, который позволяет точнее предсказвать целевой признак\\\n",
        "-  выяснили, что параметр dropout влияет сильнее   на метрику, чем batchsize\n",
        "- все исследованные гиперпараметры дают снижение метрики.\n"
      ],
      "metadata": {
        "id": "i7QIfa_InnXG"
      }
    },
    {
      "cell_type": "markdown",
      "source": [
        "## Финальная модель"
      ],
      "metadata": {
        "id": "r7DdYu9AS8in"
      }
    },
    {
      "cell_type": "code",
      "source": [],
      "metadata": {
        "id": "y2YzwpvBwNGO"
      },
      "execution_count": 76,
      "outputs": []
    },
    {
      "cell_type": "markdown",
      "source": [
        "По результатам исследования мы получили данные, что все манипуляции уменьшали rmse модели.\n",
        "\n",
        "Для получения финальной метрики мы заново осуществим подбор  Dropout и batchsize на объединенном датасете, на котором была получена лучшая метрика."
      ],
      "metadata": {
        "id": "1HFLXl1FTAlD"
      }
    },
    {
      "cell_type": "markdown",
      "source": [
        "Учитывая, что датасеты у нас тоже менялись, я найду еще раз лучший размер батча."
      ],
      "metadata": {
        "id": "Mo94cydYfMvv"
      }
    },
    {
      "cell_type": "code",
      "source": [
        "train = data_train\n",
        "\n",
        "print('Размер обучающей выборки',train.shape)\n",
        "\n",
        "valid = valid\n",
        "\n",
        "print('Размер валидационной выборки', valid.shape)\n",
        "\n",
        "test = test\n",
        "\n",
        "print('Размер тестовой выборки', test.shape)"
      ],
      "metadata": {
        "colab": {
          "base_uri": "https://localhost:8080/"
        },
        "id": "dEA0xEI_fMIt",
        "outputId": "a73243b1-c97d-4c4d-8f62-a6cf9d5f7a1e"
      },
      "execution_count": 77,
      "outputs": [
        {
          "output_type": "stream",
          "name": "stdout",
          "text": [
            "Размер обучающей выборки (144, 6)\n",
            "Размер валидационной выборки (48, 6)\n",
            "Размер тестовой выборки (48, 6)\n"
          ]
        }
      ]
    },
    {
      "cell_type": "code",
      "source": [
        "X_train = torch.Tensor(column_transformer.fit_transform(train[X]))\n",
        "X_valid = torch.Tensor(column_transformer.transform(valid[X]))\n",
        "X_test = torch.Tensor(column_transformer.transform(test[X]))\n",
        "\n",
        "y_train = torch.Tensor(train[y].values).reshape(-1, 1)\n",
        "y_valid = torch.Tensor(valid[y].values).reshape(-1, 1)\n",
        "y_test = torch.Tensor(test[y].values).reshape(-1, 1)\n",
        "\n",
        "print(X_train.size())\n",
        "print()\n",
        "print(X_valid.size())\n",
        "print()\n",
        "print(X_test.size())"
      ],
      "metadata": {
        "colab": {
          "base_uri": "https://localhost:8080/"
        },
        "id": "xtbnj17Ohr2O",
        "outputId": "b14ef28c-5fe9-4ac8-d3f1-6fe8a2af5bdd"
      },
      "execution_count": 78,
      "outputs": [
        {
          "output_type": "stream",
          "name": "stdout",
          "text": [
            "torch.Size([144, 14])\n",
            "\n",
            "torch.Size([48, 14])\n",
            "\n",
            "torch.Size([48, 14])\n"
          ]
        }
      ]
    },
    {
      "cell_type": "code",
      "source": [
        "dropout_values = [0.1, 0.2, 0.3, 0.4, 0.6]\n",
        "\n",
        "best_dropout = 0.5\n",
        "\n",
        "best_model = None\n",
        "\n",
        "batch_sizes = [int(0.1 * len(X_train)),\n",
        "               int(0.3 * len(X_train)),\n",
        "               int(0.5 * len(X_train))]\n",
        "\n",
        "best_rmse = float('inf')\n",
        "best_batch_size = None\n",
        "\n",
        "input_neurons = X_train.shape[1]\n",
        "#используем модель dropout\n",
        "model = DropoutModel(input_neurons, hidden_neurons, output_neurons, best_dropout)\n",
        "optimizer = torch.optim.Adam(model.parameters(), lr=0.01)\n",
        "\n",
        "for dropout in dropout_values:\n",
        "    for batch_size in batch_sizes:\n",
        "\n",
        "        model = DropoutModel(input_neurons, hidden_neurons, output_neurons, dropout)\n",
        "        optimizer = torch.optim.Adam(model.parameters(), lr=0.01)\n",
        "\n",
        "        for epoch in range(num_epochs):\n",
        "            outputs = model(X_train)\n",
        "            loss_train = loss(outputs, y_train)\n",
        "\n",
        "            optimizer.zero_grad()\n",
        "            loss_train.backward()\n",
        "            optimizer.step()\n",
        "\n",
        "            if (epoch + 1) % 5000 == 0:\n",
        "                model.eval()\n",
        "                print(f'Epoch [{epoch + 1}/{num_epochs}], Loss: {loss_train.item()}')\n",
        "\n",
        "                with torch.no_grad():\n",
        "                    valid_outputs = model(X_valid)\n",
        "                    valid_loss = loss(valid_outputs, y_valid)\n",
        "                    rmse = np.sqrt(valid_loss.item())\n",
        "\n",
        "# лучшие параметры и модель(чтобы сразу оценить на тестовой выборке)\n",
        "        if rmse < best_rmse:\n",
        "            best_rmse = rmse\n",
        "            best_batch_size = batch_size\n",
        "            best_dropout = dropout\n",
        "            best_model = model\n",
        "\n",
        "print(f'Best Batch Size: {best_batch_size}, Best RMSE: {best_rmse}, Best Dropout: {best_dropout}')"
      ],
      "metadata": {
        "id": "te6oM7c9xb59",
        "colab": {
          "base_uri": "https://localhost:8080/"
        },
        "outputId": "3f4f83ac-01a7-4d73-ccdd-5176d42c5f43"
      },
      "execution_count": 79,
      "outputs": [
        {
          "output_type": "stream",
          "name": "stdout",
          "text": [
            "Epoch [5000/10000], Loss: 17740618.0\n",
            "Epoch [10000/10000], Loss: 8778219.0\n",
            "Epoch [5000/10000], Loss: 36373884.0\n",
            "Epoch [10000/10000], Loss: 8567817.0\n",
            "Epoch [5000/10000], Loss: 47284720.0\n",
            "Epoch [10000/10000], Loss: 8821243.0\n",
            "Epoch [5000/10000], Loss: 50821932.0\n",
            "Epoch [10000/10000], Loss: 8686295.0\n",
            "Epoch [5000/10000], Loss: 50613372.0\n",
            "Epoch [10000/10000], Loss: 8784104.0\n",
            "Epoch [5000/10000], Loss: 46430128.0\n",
            "Epoch [10000/10000], Loss: 8941982.0\n",
            "Epoch [5000/10000], Loss: 52121428.0\n",
            "Epoch [10000/10000], Loss: 9472940.0\n",
            "Epoch [5000/10000], Loss: 50738672.0\n",
            "Epoch [10000/10000], Loss: 9609064.0\n",
            "Epoch [5000/10000], Loss: 54521564.0\n",
            "Epoch [10000/10000], Loss: 9293612.0\n",
            "Epoch [5000/10000], Loss: 64256752.0\n",
            "Epoch [10000/10000], Loss: 9822346.0\n",
            "Epoch [5000/10000], Loss: 107797520.0\n",
            "Epoch [10000/10000], Loss: 9564196.0\n",
            "Epoch [5000/10000], Loss: 82093680.0\n",
            "Epoch [10000/10000], Loss: 10054064.0\n",
            "Epoch [5000/10000], Loss: 137891664.0\n",
            "Epoch [10000/10000], Loss: 11132692.0\n",
            "Epoch [5000/10000], Loss: 105090680.0\n",
            "Epoch [10000/10000], Loss: 10245118.0\n",
            "Epoch [5000/10000], Loss: 113578256.0\n",
            "Epoch [10000/10000], Loss: 10005412.0\n",
            "Best Batch Size: 14, Best RMSE: 4580.498226175838, Best Dropout: 0.6\n"
          ]
        }
      ]
    },
    {
      "cell_type": "code",
      "source": [
        "best_model.eval()\n",
        "\n",
        "# Прогон X_test через модель\n",
        "with torch.no_grad():\n",
        "    test_outputs = best_model(X_test)\n",
        "    test_loss = loss(test_outputs, y_test)\n",
        "\n",
        "# Оценка RMSE (если целевые значения и предсказания имеют одинаковые формы)\n",
        "rmse_test = np.sqrt(test_loss.item())\n",
        "\n",
        "print(f'RMSE on Test Data: {rmse_test}')"
      ],
      "metadata": {
        "colab": {
          "base_uri": "https://localhost:8080/"
        },
        "id": "O8Ce-qeCqeUH",
        "outputId": "3b988316-334d-42cc-fe67-d9db6d3602b2"
      },
      "execution_count": 80,
      "outputs": [
        {
          "output_type": "stream",
          "name": "stdout",
          "text": [
            "RMSE on Test Data: 6305.656191071632\n"
          ]
        }
      ]
    },
    {
      "cell_type": "code",
      "source": [
        "result.append(['rmse_test_on_concated_data', rmse_test])\n",
        "result"
      ],
      "metadata": {
        "colab": {
          "base_uri": "https://localhost:8080/"
        },
        "id": "Q0vFimrgwP3P",
        "outputId": "af0764ee-d2c7-47e7-ff15-34c67c41deee"
      },
      "execution_count": 81,
      "outputs": [
        {
          "output_type": "execute_result",
          "data": {
            "text/plain": [
              "[['rmse_baseline', 5117.505056177278],\n",
              " ['dropout_rmse', 4371.038549361009],\n",
              " ['batch_sizes_rmse', 5048.604361603313],\n",
              " ['rmse_synthetic', 4222.854011210901],\n",
              " ['rmse_augmented', 13002.749863009747],\n",
              " ['rmse_concat_3df', 3968.0841724943284],\n",
              " ['rmse_test_on_concated_data', 6305.656191071632]]"
            ]
          },
          "metadata": {},
          "execution_count": 81
        }
      ]
    },
    {
      "cell_type": "code",
      "source": [
        "plot(test_outputs, y_test, 'Final model on test')"
      ],
      "metadata": {
        "colab": {
          "base_uri": "https://localhost:8080/",
          "height": 476
        },
        "id": "kcynPBgqpoMK",
        "outputId": "14655918-c815-4c8e-90ac-4e2d2faf5d42"
      },
      "execution_count": 82,
      "outputs": [
        {
          "output_type": "display_data",
          "data": {
            "text/plain": [
              "<Figure size 800x400 with 1 Axes>"
            ],
            "image/png": "[encoded data removed]"
          },
          "metadata": {}
        }
      ]
    },
    {
      "cell_type": "markdown",
      "source": [
        "Модель переобучена."
      ],
      "metadata": {
        "id": "jNxyd0Sku7Q1"
      }
    },
    {
      "cell_type": "code",
      "source": [
        "train = data\n",
        "\n",
        "print('Размер обучающей выборки',train.shape)\n",
        "\n",
        "valid = valid\n",
        "\n",
        "print('Размер валидационной выборки', valid.shape)\n",
        "\n",
        "test = test\n",
        "\n",
        "print('Размер тестовой выборки', test.shape)"
      ],
      "metadata": {
        "colab": {
          "base_uri": "https://localhost:8080/"
        },
        "id": "MRKmP0hsu6kp",
        "outputId": "5ed27cf9-8369-4d52-9a61-f32506ef7623"
      },
      "execution_count": 83,
      "outputs": [
        {
          "output_type": "stream",
          "name": "stdout",
          "text": [
            "Размер обучающей выборки (240, 6)\n",
            "Размер валидационной выборки (48, 6)\n",
            "Размер тестовой выборки (48, 6)\n"
          ]
        }
      ]
    },
    {
      "cell_type": "code",
      "source": [
        "X_train = torch.Tensor(column_transformer.fit_transform(train[X]))\n",
        "X_valid = torch.Tensor(column_transformer.transform(valid[X]))\n",
        "X_test = torch.Tensor(column_transformer.transform(test[X]))\n",
        "\n",
        "y_train = torch.Tensor(train[y].values).reshape(-1, 1)\n",
        "y_valid = torch.Tensor(valid[y].values).reshape(-1, 1)\n",
        "y_test = torch.Tensor(test[y].values).reshape(-1, 1)\n",
        "\n",
        "print(X_train.size())\n",
        "print()\n",
        "print(X_valid.size())\n",
        "print()\n",
        "print(X_test.size())"
      ],
      "metadata": {
        "colab": {
          "base_uri": "https://localhost:8080/"
        },
        "id": "7w5orN1MvLoC",
        "outputId": "0a456fb6-0cea-4c9e-e375-fcf6154bde25"
      },
      "execution_count": 84,
      "outputs": [
        {
          "output_type": "stream",
          "name": "stdout",
          "text": [
            "torch.Size([240, 16])\n",
            "\n",
            "torch.Size([48, 16])\n",
            "\n",
            "torch.Size([48, 16])\n"
          ]
        }
      ]
    },
    {
      "cell_type": "code",
      "source": [
        "dropout_values = [0.1, 0.2, 0.3, 0.4, 0.6]\n",
        "\n",
        "best_dropout = 0.5\n",
        "\n",
        "best_model = None\n",
        "\n",
        "batch_sizes = [int(0.1 * len(X_train)),\n",
        "               int(0.3 * len(X_train)),\n",
        "               int(0.5 * len(X_train))]\n",
        "\n",
        "best_rmse = float('inf')\n",
        "best_batch_size = None\n",
        "\n",
        "input_neurons = X_train.shape[1]\n",
        "#используем модель dropout\n",
        "model = DropoutModel(input_neurons, hidden_neurons, output_neurons, best_dropout)\n",
        "optimizer = torch.optim.Adam(model.parameters(), lr=0.01)\n",
        "\n",
        "for dropout in dropout_values:\n",
        "    for batch_size in batch_sizes:\n",
        "\n",
        "        model = DropoutModel(input_neurons, hidden_neurons, output_neurons, dropout)\n",
        "        optimizer = torch.optim.Adam(model.parameters(), lr=0.01)\n",
        "\n",
        "        for epoch in range(num_epochs):\n",
        "            outputs = model(X_train)\n",
        "            loss_train = loss(outputs, y_train)\n",
        "\n",
        "            optimizer.zero_grad()\n",
        "            loss_train.backward()\n",
        "            optimizer.step()\n",
        "\n",
        "            if (epoch + 1) % 5000 == 0:\n",
        "                model.eval()\n",
        "                print(f'Epoch [{epoch + 1}/{num_epochs}], Loss: {loss_train.item()}')\n",
        "\n",
        "                with torch.no_grad():\n",
        "                    valid_outputs = model(X_valid)\n",
        "                    valid_loss = loss(valid_outputs, y_valid)\n",
        "                    rmse = np.sqrt(valid_loss.item())\n",
        "\n",
        "# лучшие параметры и модель(чтобы сразу оценить на тестовой выборке)\n",
        "        if rmse < best_rmse:\n",
        "            best_rmse = rmse\n",
        "            best_batch_size = batch_size\n",
        "            best_dropout = dropout\n",
        "            best_model = model\n",
        "\n",
        "print(f'Best Batch Size: {best_batch_size}, Best RMSE: {best_rmse}, Best Dropout: {best_dropout}')"
      ],
      "metadata": {
        "colab": {
          "base_uri": "https://localhost:8080/"
        },
        "id": "cW14sgFjvL48",
        "outputId": "7ccf5ec1-e73e-46db-b1c4-315fffaaa99f"
      },
      "execution_count": 85,
      "outputs": [
        {
          "output_type": "stream",
          "name": "stdout",
          "text": [
            "Epoch [5000/10000], Loss: 45036164.0\n",
            "Epoch [10000/10000], Loss: 13342051.0\n",
            "Epoch [5000/10000], Loss: 43269724.0\n",
            "Epoch [10000/10000], Loss: 13018860.0\n",
            "Epoch [5000/10000], Loss: 29407850.0\n",
            "Epoch [10000/10000], Loss: 13095050.0\n",
            "Epoch [5000/10000], Loss: 64299636.0\n",
            "Epoch [10000/10000], Loss: 14008842.0\n",
            "Epoch [5000/10000], Loss: 63570552.0\n",
            "Epoch [10000/10000], Loss: 14441158.0\n",
            "Epoch [5000/10000], Loss: 44781368.0\n",
            "Epoch [10000/10000], Loss: 13752186.0\n",
            "Epoch [5000/10000], Loss: 50056972.0\n",
            "Epoch [10000/10000], Loss: 14150871.0\n",
            "Epoch [5000/10000], Loss: 64639516.0\n",
            "Epoch [10000/10000], Loss: 14157782.0\n",
            "Epoch [5000/10000], Loss: 76012288.0\n",
            "Epoch [10000/10000], Loss: 14417231.0\n",
            "Epoch [5000/10000], Loss: 86284952.0\n",
            "Epoch [10000/10000], Loss: 14912390.0\n",
            "Epoch [5000/10000], Loss: 100740616.0\n",
            "Epoch [10000/10000], Loss: 14435536.0\n",
            "Epoch [5000/10000], Loss: 77378384.0\n",
            "Epoch [10000/10000], Loss: 13757743.0\n",
            "Epoch [5000/10000], Loss: 121864240.0\n",
            "Epoch [10000/10000], Loss: 14348598.0\n",
            "Epoch [5000/10000], Loss: 131126432.0\n",
            "Epoch [10000/10000], Loss: 14128383.0\n",
            "Epoch [5000/10000], Loss: 149025744.0\n",
            "Epoch [10000/10000], Loss: 13925753.0\n",
            "Best Batch Size: 72, Best RMSE: 3508.562526163671, Best Dropout: 0.6\n"
          ]
        }
      ]
    },
    {
      "cell_type": "code",
      "source": [
        "best_model.eval()\n",
        "\n",
        "# Прогон X_test через модель\n",
        "with torch.no_grad():\n",
        "    test_outputs = best_model(X_test)\n",
        "    test_loss = loss(test_outputs, y_test)\n",
        "\n",
        "# Оценка RMSE\n",
        "rmse_test = np.sqrt(test_loss.item())\n",
        "\n",
        "print(f'RMSE on Test Data: {rmse_test}')"
      ],
      "metadata": {
        "colab": {
          "base_uri": "https://localhost:8080/"
        },
        "id": "vuonj1XNvL8R",
        "outputId": "0612d99c-17c5-44e6-b7e5-1ba35c944d5c"
      },
      "execution_count": 86,
      "outputs": [
        {
          "output_type": "stream",
          "name": "stdout",
          "text": [
            "RMSE on Test Data: 4532.970328603531\n"
          ]
        }
      ]
    },
    {
      "cell_type": "code",
      "source": [
        "result.append(['rmse_final_model', rmse_test])\n",
        "result"
      ],
      "metadata": {
        "colab": {
          "base_uri": "https://localhost:8080/"
        },
        "id": "X50NwxTmwkQp",
        "outputId": "b75ab792-224b-42fe-df4c-815288cbfb2e"
      },
      "execution_count": 87,
      "outputs": [
        {
          "output_type": "execute_result",
          "data": {
            "text/plain": [
              "[['rmse_baseline', 5117.505056177278],\n",
              " ['dropout_rmse', 4371.038549361009],\n",
              " ['batch_sizes_rmse', 5048.604361603313],\n",
              " ['rmse_synthetic', 4222.854011210901],\n",
              " ['rmse_augmented', 13002.749863009747],\n",
              " ['rmse_concat_3df', 3968.0841724943284],\n",
              " ['rmse_test_on_concated_data', 6305.656191071632],\n",
              " ['rmse_final_model', 4532.970328603531]]"
            ]
          },
          "metadata": {},
          "execution_count": 87
        }
      ]
    },
    {
      "cell_type": "code",
      "source": [
        "plot(test_outputs, y_test, 'Final model on test')"
      ],
      "metadata": {
        "colab": {
          "base_uri": "https://localhost:8080/",
          "height": 476
        },
        "id": "8IoFLgTwvL-b",
        "outputId": "ac2874a2-8052-4d8e-b9ca-236ddcad3ff7"
      },
      "execution_count": 88,
      "outputs": [
        {
          "output_type": "display_data",
          "data": {
            "text/plain": [
              "<Figure size 800x400 with 1 Axes>"
            ],
            "image/png": "[encoded data removed]"
          },
          "metadata": {}
        }
      ]
    },
    {
      "cell_type": "markdown",
      "source": [],
      "metadata": {
        "id": "Y63ksp3uwsto"
      }
    },
    {
      "cell_type": "markdown",
      "source": [
        "## Вывод"
      ],
      "metadata": {
        "id": "EzS2eH7TxaE7"
      }
    },
    {
      "cell_type": "markdown",
      "source": [
        "В ходе работы были получены следующие результаты метрики rmse:\n"
      ],
      "metadata": {
        "id": "SQe891S-paci"
      }
    },
    {
      "cell_type": "code",
      "source": [
        "result = pd.DataFrame(data =[result[_][1] for _ in range(len(result))],\n",
        "                      index = [result[_][0] for _ in range(len(result))])\n",
        "result"
      ],
      "metadata": {
        "colab": {
          "base_uri": "https://localhost:8080/",
          "height": 300
        },
        "id": "1efIK46Iw40K",
        "outputId": "e1be2871-fc30-4a06-acb7-26b47b20de1e"
      },
      "execution_count": 89,
      "outputs": [
        {
          "output_type": "execute_result",
          "data": {
            "text/plain": [
              "                                       0\n",
              "rmse_baseline                5117.505056\n",
              "dropout_rmse                 4371.038549\n",
              "batch_sizes_rmse             5048.604362\n",
              "rmse_synthetic               4222.854011\n",
              "rmse_augmented              13002.749863\n",
              "rmse_concat_3df              3968.084172\n",
              "rmse_test_on_concated_data   6305.656191\n",
              "rmse_final_model             4532.970329"
            ],
            "text/html": [
              "\n",
              "  <div id=\"df-3580d21f-4057-43b5-8d7c-1d28ef89b7dc\" class=\"colab-df-container\">\n",
              "    <div>\n",
              "<style scoped>\n",
              "    .dataframe tbody tr th:only-of-type {\n",
              "        vertical-align: middle;\n",
              "    }\n",
              "\n",
              "    .dataframe tbody tr th {\n",
              "        vertical-align: top;\n",
              "    }\n",
              "\n",
              "    .dataframe thead th {\n",
              "        text-align: right;\n",
              "    }\n",
              "</style>\n",
              "<table border=\"1\" class=\"dataframe\">\n",
              "  <thead>\n",
              "    <tr style=\"text-align: right;\">\n",
              "      <th></th>\n",
              "      <th>0</th>\n",
              "    </tr>\n",
              "  </thead>\n",
              "  <tbody>\n",
              "    <tr>\n",
              "      <th>rmse_baseline</th>\n",
              "      <td>5117.505056</td>\n",
              "    </tr>\n",
              "    <tr>\n",
              "      <th>dropout_rmse</th>\n",
              "      <td>4371.038549</td>\n",
              "    </tr>\n",
              "    <tr>\n",
              "      <th>batch_sizes_rmse</th>\n",
              "      <td>5048.604362</td>\n",
              "    </tr>\n",
              "    <tr>\n",
              "      <th>rmse_synthetic</th>\n",
              "      <td>4222.854011</td>\n",
              "    </tr>\n",
              "    <tr>\n",
              "      <th>rmse_augmented</th>\n",
              "      <td>13002.749863</td>\n",
              "    </tr>\n",
              "    <tr>\n",
              "      <th>rmse_concat_3df</th>\n",
              "      <td>3968.084172</td>\n",
              "    </tr>\n",
              "    <tr>\n",
              "      <th>rmse_test_on_concated_data</th>\n",
              "      <td>6305.656191</td>\n",
              "    </tr>\n",
              "    <tr>\n",
              "      <th>rmse_final_model</th>\n",
              "      <td>4532.970329</td>\n",
              "    </tr>\n",
              "  </tbody>\n",
              "</table>\n",
              "</div>\n",
              "    <div class=\"colab-df-buttons\">\n",
              "\n",
              "  <div class=\"colab-df-container\">\n",
              "    <button class=\"colab-df-convert\" onclick=\"convertToInteractive('df-3580d21f-4057-43b5-8d7c-1d28ef89b7dc')\"\n",
              "            title=\"Convert this dataframe to an interactive table.\"\n",
              "            style=\"display:none;\">\n",
              "\n",
              "  <svg xmlns=\"http://www.w3.org/2000/svg\" height=\"24px\" viewBox=\"0 -960 960 960\">\n",
              "    <path d=\"M120-120v-720h720v720H120Zm60-500h600v-160H180v160Zm220 220h160v-160H400v160Zm0 220h160v-160H400v160ZM180-400h160v-160H180v160Zm440 0h160v-160H620v160ZM180-180h160v-160H180v160Zm440 0h160v-160H620v160Z\"/>\n",
              "  </svg>\n",
              "    </button>\n",
              "\n",
              "  <style>\n",
              "    .colab-df-container {\n",
              "      display:flex;\n",
              "      gap: 12px;\n",
              "    }\n",
              "\n",
              "    .colab-df-convert {\n",
              "      background-color: #E8F0FE;\n",
              "      border: none;\n",
              "      border-radius: 50%;\n",
              "      cursor: pointer;\n",
              "      display: none;\n",
              "      fill: #1967D2;\n",
              "      height: 32px;\n",
              "      padding: 0 0 0 0;\n",
              "      width: 32px;\n",
              "    }\n",
              "\n",
              "    .colab-df-convert:hover {\n",
              "      background-color: #E2EBFA;\n",
              "      box-shadow: 0px 1px 2px rgba(60, 64, 67, 0.3), 0px 1px 3px 1px rgba(60, 64, 67, 0.15);\n",
              "      fill: #174EA6;\n",
              "    }\n",
              "\n",
              "    .colab-df-buttons div {\n",
              "      margin-bottom: 4px;\n",
              "    }\n",
              "\n",
              "    [theme=dark] .colab-df-convert {\n",
              "      background-color: #3B4455;\n",
              "      fill: #D2E3FC;\n",
              "    }\n",
              "\n",
              "    [theme=dark] .colab-df-convert:hover {\n",
              "      background-color: #434B5C;\n",
              "      box-shadow: 0px 1px 3px 1px rgba(0, 0, 0, 0.15);\n",
              "      filter: drop-shadow(0px 1px 2px rgba(0, 0, 0, 0.3));\n",
              "      fill: #FFFFFF;\n",
              "    }\n",
              "  </style>\n",
              "\n",
              "    <script>\n",
              "      const buttonEl =\n",
              "        document.querySelector('#df-3580d21f-4057-43b5-8d7c-1d28ef89b7dc button.colab-df-convert');\n",
              "      buttonEl.style.display =\n",
              "        google.colab.kernel.accessAllowed ? 'block' : 'none';\n",
              "\n",
              "      async function convertToInteractive(key) {\n",
              "        const element = document.querySelector('#df-3580d21f-4057-43b5-8d7c-1d28ef89b7dc');\n",
              "        const dataTable =\n",
              "          await google.colab.kernel.invokeFunction('convertToInteractive',\n",
              "                                                    [key], {});\n",
              "        if (!dataTable) return;\n",
              "\n",
              "        const docLinkHtml = 'Like what you see? Visit the ' +\n",
              "          '<a target=\"_blank\" href=https://colab.research.google.com/notebooks/data_table.ipynb>data table notebook</a>'\n",
              "          + ' to learn more about interactive tables.';\n",
              "        element.innerHTML = '';\n",
              "        dataTable['output_type'] = 'display_data';\n",
              "        await google.colab.output.renderOutput(dataTable, element);\n",
              "        const docLink = document.createElement('div');\n",
              "        docLink.innerHTML = docLinkHtml;\n",
              "        element.appendChild(docLink);\n",
              "      }\n",
              "    </script>\n",
              "  </div>\n",
              "\n",
              "\n",
              "<div id=\"df-2107de45-0996-400b-a8d6-4b0493beb709\">\n",
              "  <button class=\"colab-df-quickchart\" onclick=\"quickchart('df-2107de45-0996-400b-a8d6-4b0493beb709')\"\n",
              "            title=\"Suggest charts.\"\n",
              "            style=\"display:none;\">\n",
              "\n",
              "<svg xmlns=\"http://www.w3.org/2000/svg\" height=\"24px\"viewBox=\"0 0 24 24\"\n",
              "     width=\"24px\">\n",
              "    <g>\n",
              "        <path d=\"M19 3H5c-1.1 0-2 .9-2 2v14c0 1.1.9 2 2 2h14c1.1 0 2-.9 2-2V5c0-1.1-.9-2-2-2zM9 17H7v-7h2v7zm4 0h-2V7h2v10zm4 0h-2v-4h2v4z\"/>\n",
              "    </g>\n",
              "</svg>\n",
              "  </button>\n",
              "\n",
              "<style>\n",
              "  .colab-df-quickchart {\n",
              "      --bg-color: #E8F0FE;\n",
              "      --fill-color: #1967D2;\n",
              "      --hover-bg-color: #E2EBFA;\n",
              "      --hover-fill-color: #174EA6;\n",
              "      --disabled-fill-color: #AAA;\n",
              "      --disabled-bg-color: #DDD;\n",
              "  }\n",
              "\n",
              "  [theme=dark] .colab-df-quickchart {\n",
              "      --bg-color: #3B4455;\n",
              "      --fill-color: #D2E3FC;\n",
              "      --hover-bg-color: #434B5C;\n",
              "      --hover-fill-color: #FFFFFF;\n",
              "      --disabled-bg-color: #3B4455;\n",
              "      --disabled-fill-color: #666;\n",
              "  }\n",
              "\n",
              "  .colab-df-quickchart {\n",
              "    background-color: var(--bg-color);\n",
              "    border: none;\n",
              "    border-radius: 50%;\n",
              "    cursor: pointer;\n",
              "    display: none;\n",
              "    fill: var(--fill-color);\n",
              "    height: 32px;\n",
              "    padding: 0;\n",
              "    width: 32px;\n",
              "  }\n",
              "\n",
              "  .colab-df-quickchart:hover {\n",
              "    background-color: var(--hover-bg-color);\n",
              "    box-shadow: 0 1px 2px rgba(60, 64, 67, 0.3), 0 1px 3px 1px rgba(60, 64, 67, 0.15);\n",
              "    fill: var(--button-hover-fill-color);\n",
              "  }\n",
              "\n",
              "  .colab-df-quickchart-complete:disabled,\n",
              "  .colab-df-quickchart-complete:disabled:hover {\n",
              "    background-color: var(--disabled-bg-color);\n",
              "    fill: var(--disabled-fill-color);\n",
              "    box-shadow: none;\n",
              "  }\n",
              "\n",
              "  .colab-df-spinner {\n",
              "    border: 2px solid var(--fill-color);\n",
              "    border-color: transparent;\n",
              "    border-bottom-color: var(--fill-color);\n",
              "    animation:\n",
              "      spin 1s steps(1) infinite;\n",
              "  }\n",
              "\n",
              "  @keyframes spin {\n",
              "    0% {\n",
              "      border-color: transparent;\n",
              "      border-bottom-color: var(--fill-color);\n",
              "      border-left-color: var(--fill-color);\n",
              "    }\n",
              "    20% {\n",
              "      border-color: transparent;\n",
              "      border-left-color: var(--fill-color);\n",
              "      border-top-color: var(--fill-color);\n",
              "    }\n",
              "    30% {\n",
              "      border-color: transparent;\n",
              "      border-left-color: var(--fill-color);\n",
              "      border-top-color: var(--fill-color);\n",
              "      border-right-color: var(--fill-color);\n",
              "    }\n",
              "    40% {\n",
              "      border-color: transparent;\n",
              "      border-right-color: var(--fill-color);\n",
              "      border-top-color: var(--fill-color);\n",
              "    }\n",
              "    60% {\n",
              "      border-color: transparent;\n",
              "      border-right-color: var(--fill-color);\n",
              "    }\n",
              "    80% {\n",
              "      border-color: transparent;\n",
              "      border-right-color: var(--fill-color);\n",
              "      border-bottom-color: var(--fill-color);\n",
              "    }\n",
              "    90% {\n",
              "      border-color: transparent;\n",
              "      border-bottom-color: var(--fill-color);\n",
              "    }\n",
              "  }\n",
              "</style>\n",
              "\n",
              "  <script>\n",
              "    async function quickchart(key) {\n",
              "      const quickchartButtonEl =\n",
              "        document.querySelector('#' + key + ' button');\n",
              "      quickchartButtonEl.disabled = true;  // To prevent multiple clicks.\n",
              "      quickchartButtonEl.classList.add('colab-df-spinner');\n",
              "      try {\n",
              "        const charts = await google.colab.kernel.invokeFunction(\n",
              "            'suggestCharts', [key], {});\n",
              "      } catch (error) {\n",
              "        console.error('Error during call to suggestCharts:', error);\n",
              "      }\n",
              "      quickchartButtonEl.classList.remove('colab-df-spinner');\n",
              "      quickchartButtonEl.classList.add('colab-df-quickchart-complete');\n",
              "    }\n",
              "    (() => {\n",
              "      let quickchartButtonEl =\n",
              "        document.querySelector('#df-2107de45-0996-400b-a8d6-4b0493beb709 button');\n",
              "      quickchartButtonEl.style.display =\n",
              "        google.colab.kernel.accessAllowed ? 'block' : 'none';\n",
              "    })();\n",
              "  </script>\n",
              "</div>\n",
              "    </div>\n",
              "  </div>\n"
            ]
          },
          "metadata": {},
          "execution_count": 89
        }
      ]
    },
    {
      "cell_type": "code",
      "source": [
        "print (best_model)"
      ],
      "metadata": {
        "colab": {
          "base_uri": "https://localhost:8080/"
        },
        "id": "Kx5S8qdg0Ced",
        "outputId": "7a3faf74-5da2-4f64-d7ad-84bfba6e6229"
      },
      "execution_count": 90,
      "outputs": [
        {
          "output_type": "stream",
          "name": "stdout",
          "text": [
            "DropoutModel(\n",
            "  (fc1): Linear(in_features=16, out_features=300, bias=True)\n",
            "  (act1): ReLU()\n",
            "  (dropout1): Dropout(p=0.6, inplace=False)\n",
            "  (fc2): Linear(in_features=300, out_features=1, bias=True)\n",
            "  (act2): ReLU()\n",
            "  (dropout2): Dropout(p=0.6, inplace=False)\n",
            ")\n"
          ]
        }
      ]
    }
  ]
}